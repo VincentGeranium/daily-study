{
 "cells": [
  {
   "cell_type": "code",
   "execution_count": 1,
   "metadata": {},
   "outputs": [],
   "source": [
    "def sum(a, b):\n",
    "    return a + b\n",
    "\n",
    "def safe_sum(a, b):\n",
    "    if type(a)!=type(b): #객체 a와 객체 b의 자료형이 같지 않으면\n",
    "        print(\"더할수 있는 것이 아닙니다.\") #메세지 출력\n",
    "        return #메세지 출력\n",
    "    else:#객체 a와 객체 b의 자료형이 같다면\n",
    "        result = sum(a,b)#두 객체를 더한다\n",
    "        return result"
   ]
  },
  {
   "cell_type": "markdown",
   "metadata": {},
   "source": [
    "## if $__name__$==$\"__main__\":$ 의 의미"
   ]
  },
  {
   "cell_type": "code",
   "execution_count": 2,
   "metadata": {},
   "outputs": [
    {
     "name": "stdout",
     "output_type": "stream",
     "text": [
      "더할수 있는 것이 아닙니다.\n",
      "None\n",
      "5\n",
      "20.4\n"
     ]
    }
   ],
   "source": [
    "def sum(a, b):\n",
    "    return a + b\n",
    "\n",
    "def safe_sum(a, b):\n",
    "    if type(a)!=type(b): #객체 a와 객체 b의 자료형이 같지 않으면\n",
    "        print(\"더할수 있는 것이 아닙니다.\") #메세지 출력\n",
    "        return #메세지 출력\n",
    "    else:#객체 a와 객체 b의 자료형이 같다면\n",
    "        result = sum(a,b)#두 객체를 더한다\n",
    "        return result\n",
    "    \n",
    "print(safe_sum('a', 1))\n",
    "print(safe_sum(1, 4))\n",
    "print(sum(10, 10.4))"
   ]
  },
  {
   "cell_type": "markdown",
   "metadata": {},
   "source": [
    "#### 위와 같이 작성 후 대화형 인터프리터에서의 결과"
   ]
  },
  {
   "cell_type": "markdown",
   "metadata": {},
   "source": [
    "<img src=\"mod2.png\">"
   ]
  },
  {
   "cell_type": "markdown",
   "metadata": {},
   "source": [
    "#### sum과 safe_sum 함수만 사용하려 import 했는데 위와 같은 결과가 나옴"
   ]
  },
  {
   "cell_type": "markdown",
   "metadata": {},
   "source": [
    "## mod2.py 수정 = mod3.py 생성"
   ]
  },
  {
   "cell_type": "code",
   "execution_count": 3,
   "metadata": {},
   "outputs": [
    {
     "name": "stdout",
     "output_type": "stream",
     "text": [
      "더할수 있는 것이 아닙니다.\n",
      "None\n",
      "5\n",
      "20.4\n"
     ]
    }
   ],
   "source": [
    "def sum(a, b):\n",
    "    return a + b\n",
    "\n",
    "def safe_sum(a, b):\n",
    "    if type(a)!=type(b): #객체 a와 객체 b의 자료형이 같지 않으면\n",
    "        print(\"더할수 있는 것이 아닙니다.\") #메세지 출력\n",
    "        return #메세지 출력\n",
    "    else:#객체 a와 객체 b의 자료형이 같다면\n",
    "        result = sum(a,b)#두 객체를 더한다\n",
    "        return result\n",
    "    \n",
    "if __name__==\"__main__\":\n",
    "    print(safe_sum('a', 1))\n",
    "    print(safe_sum(1, 4))\n",
    "    print(sum(10, 10.4))"
   ]
  },
  {
   "cell_type": "markdown",
   "metadata": {},
   "source": [
    "## mod3 실행"
   ]
  },
  {
   "cell_type": "markdown",
   "metadata": {},
   "source": [
    "<img src=\"mod3.png\">"
   ]
  },
  {
   "cell_type": "markdown",
   "metadata": {},
   "source": [
    "#### mod3를 직접 실행시키면 $__name__$==$\"__main__\"$이 참이 되어 if문 다음 문장들이 수행\n",
    "#### 대화형 인터프리터나 다은 파일에서 이 모듈을 불러서 사용할 때는 $__name__$==$\"__main__\"$ 이 거짓이 되어 if문 다음 문장들이 수행되지 않는다"
   ]
  },
  {
   "cell_type": "markdown",
   "metadata": {},
   "source": [
    "### 파이썬 모듈을 만든 다음 그 모듈을 테스트하기 위해 보통 위와 같은 방법을 사용"
   ]
  }
 ],
 "metadata": {
  "kernelspec": {
   "display_name": "Python 3",
   "language": "python",
   "name": "python3"
  },
  "language_info": {
   "codemirror_mode": {
    "name": "ipython",
    "version": 3
   },
   "file_extension": ".py",
   "mimetype": "text/x-python",
   "name": "python",
   "nbconvert_exporter": "python",
   "pygments_lexer": "ipython3",
   "version": "3.7.0"
  }
 },
 "nbformat": 4,
 "nbformat_minor": 2
}
