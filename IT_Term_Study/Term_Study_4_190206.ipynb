{
 "cells": [
  {
   "cell_type": "markdown",
   "metadata": {},
   "source": [
    "# IT Terminology"
   ]
  },
  {
   "cell_type": "markdown",
   "metadata": {},
   "source": [
    "```\n",
    "출처 : https://ko.wikipedia.org/wiki/\n",
    "```"
   ]
  },
  {
   "cell_type": "markdown",
   "metadata": {},
   "source": [
    "## 스몰토크(Smalltalk)"
   ]
  },
  {
   "cell_type": "markdown",
   "metadata": {},
   "source": [
    "- #### 스몰토크는 동적 형, 반영을 지원하는 객체 지향 프로그래밍 언어이다"
   ]
  },
  {
   "cell_type": "markdown",
   "metadata": {},
   "source": [
    "### 스몰토그의 역사와 영향\n",
    "- #### 제록스 파크(PARC)에서 앨런 케이, 댄 잉갤스, 테드 캘러, 에이들 골드버그가 만들었다\n",
    "- #### 1970년대의 리스프, 로고, 스케치패드와 시뮬라 등의 영향을 받았으며, 스몰토-80부터 외부에 공개되어 퍼지기 시작했다\n",
    "- #### 스몰토크는 Ruby, Objective-C, Self, JAVA, Dylan, AppleScript, Python, Scala, Perl 6,Common List Object System 등의 프로그래밍 언어에 영향을 주었으며, 그 외에 매킨토시의 그래픽 사용자 인터페이스에도 영향을 주었다\n",
    "- #### 최초로 GUI(Graphical user interface, 그래픽 사용자 인터페이스)를 제공하는 언어였으며, 이는 마우스가 스몰토크와 함께 제록스 파트(PARC)에서 연구되었던 것과도 관련이 있다\n",
    "- #### 현재 스몰토크를 사용하는 인구는 다른 객체지향 언어의 출현으로 소수에 불과하나, 루비를 비롯한 동적자료형 객체 지향 언어가 관심을 받고 있다\n",
    "- #### 최근에는 Seaside의 출현으로 HTML을 전혀 쓰지 않는 자세대 웹 프로그래밍의 비전을 보여주고 있기도 하다"
   ]
  },
  {
   "cell_type": "markdown",
   "metadata": {},
   "source": [
    "### 특징\n",
    "#### 스몰토크는 다음과 같은 특징들을 가지고 있다\n",
    "- #### GUI 환경, 컴파일러, 파서, 가비지 컬렉터가 스몰토크 코드로 되어 있다\n",
    "- #### 모든 소스 코드가 노출되어 있으며, 편집이 가능하다\n",
    "- #### 순수 객체지향 언어이다. C++나 JAVA와는 달리 원시 자료형이 없고, 모두 정수, 부동소수, 문자열, 블록을 포함한 모든 것이 객체며 클래스가 있다\n",
    "- #### 명령어 블록(무명 함수)을 제공한다\n",
    "- #### 클래스가 객체이다. 대부분의 프로그래밍 언어에서는 클래스는 정적 영역에 정의되고, 객체는 런타임, 즉 동적 영영에 보관된다 하지만 스몰토크의 객체들은 모든 상태가 스몰토크 가기계 속에서 \"이미지\"라 불리는 구조로 표현, 저장된다\n",
    "- #### 이미지 기반이다. 소스코드는 소스파일에 보관되는 것이 아니라 이미지(메모리의 직렬화)로서 스냅샷 파일 속의 객체로서 보관된다"
   ]
  },
  {
   "cell_type": "markdown",
   "metadata": {},
   "source": [
    "### 스몰토크는 언어적 특징으로 인하여 독특한 개발문화를 가지고 있는데, 그것은 현재의 개발문화로도 전파되었다\n",
    "- #### 리팩토링과 리팩토링 브라우저\n",
    "- #### 유닛 테스트(xUnit)\n",
    "- #### 익스트림 프로그래밍(XP, eXtreme Programming)\n",
    "- #### 디자인 패턴"
   ]
  },
  {
   "cell_type": "markdown",
   "metadata": {},
   "source": [
    "### 구현\n",
    "- #### 스퀵(Squeak)\n",
    "- #### 비주얼웍스(VisualWorks)\n",
    "- #### 돌핀 스몰토크(Dolphin Smalltalk)\n",
    "- #### 앰브라이 스몰토크(Ambrai Smalltalk)\n",
    "- #### F 스크립트 (F-Script)"
   ]
  }
 ],
 "metadata": {
  "kernelspec": {
   "display_name": "Python 3",
   "language": "python",
   "name": "python3"
  },
  "language_info": {
   "codemirror_mode": {
    "name": "ipython",
    "version": 3
   },
   "file_extension": ".py",
   "mimetype": "text/x-python",
   "name": "python",
   "nbconvert_exporter": "python",
   "pygments_lexer": "ipython3",
   "version": "3.7.1"
  }
 },
 "nbformat": 4,
 "nbformat_minor": 2
}
