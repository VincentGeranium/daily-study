{
 "cells": [
  {
   "cell_type": "markdown",
   "metadata": {},
   "source": [
    "# Static Web Page (정적 웹 페이지)"
   ]
  },
  {
   "cell_type": "markdown",
   "metadata": {},
   "source": [
    "- 서버(웹 서버,Web Server)에 미리 저장된 파일(HTML 파일, 이미지, JavaScript파일등)이 그대로 전달되는 웹 페이지\n",
    "- 서버는 사용자가 Request(요청)에 해당하는 저장된 웹 페이지를 보냄\n",
    "- 사용자는 서버에 저장된 데이터가 변경되지 않는 한 고정된 웹 페이지를 보게 됨"
   ]
  },
  {
   "cell_type": "markdown",
   "metadata": {},
   "source": [
    "# Dynamic Web Page(동적 웹 페이지)"
   ]
  },
  {
   "cell_type": "markdown",
   "metadata": {},
   "source": [
    "- 서버(웹 서버,Web Server)에 있는 데이터들을 스크립트에 의해 가공처리한 후 생성되어 전달되는 웹 페이지\n",
    "- 서버는 사용자가 Request(요청)을 해석하여 데이터를 가공한 후 생성되는 웹 페이지를 보냄\n",
    "- 사용자는 상황, 시간, 요청 등에 따라 달라지는 웹 페이지를 보게 됨"
   ]
  },
  {
   "cell_type": "markdown",
   "metadata": {},
   "source": [
    "# JSON"
   ]
  },
  {
   "cell_type": "markdown",
   "metadata": {},
   "source": [
    "```\n",
    "속성-값 쌍(attribute-value pairs and array data types)\n",
    "또는 키-값 쌍(any other serializable value)으로 이루어진 데이터 오브젝트를 전달하기 위해\n",
    "인간이 읽을 수 있는 텍스트를 사용하는 \"개방형 표준 포맷\"이다\n",
    "```"
   ]
  },
  {
   "cell_type": "markdown",
   "metadata": {},
   "source": [
    "- 비동기 브라우저/서버 통신(AJAX)을 위해, 넓게는 XML(AJAX가 사용)을 대체하는 주요 데이터 포맷\n",
    "- 인터넷에서 자료를 주고 받을 때 그 자료를 표현하는 방법\n",
    "- 자료의 종류에는 큰 제한이 없다, 컴퓨터 프로그램의 변수값을 표현하는 데 적합하다\n",
    "- 자바스크립트 언어로부터 파생, 자바스크립트의 구문 형식을 따르지만 언어 독립형 데이터 포맷이다.\n",
    "- 프로그래밍 언어나 플랫폼에 독립적, 구문 분석 및 JSON 데이터 생성을 위한 코드는 C,C++,C#,자바스크립트,펄,파이썬 등 수 많은 프로그래밍 언어에서 쉽게 이용\n",
    "- JSON 포맷은 RFC 7159와 ECMA-404 라는 두 개의 경쟁 표준에 의해 기술\n",
    "- ECMA 표준은 문법만 정의할 정도로 최소한으로만 정의\n",
    "- RFC는 시맨틱, 보안적 고려 사항을 일부 제공하기도 한다\n",
    "- JSON의 공식 인터넷 미디어 타입은 application/json\n",
    "- JSON의 파일 확장자는 .json 이다."
   ]
  },
  {
   "cell_type": "markdown",
   "metadata": {},
   "source": [
    "# JSON 자료형과 문법"
   ]
  },
  {
   "cell_type": "markdown",
   "metadata": {},
   "source": [
    "## 기본 자료형"
   ]
  },
  {
   "cell_type": "markdown",
   "metadata": {},
   "source": [
    "JSON의 기본 자료형은 다음과 같다\n",
    "- 수(Number).\n",
    "- 문자열(String) : 0개 이상의 유니코드 문자들의 연속, 문자열은 큰 따옴표로 구분, 역슬래시 이스케이프 문법 지원.\n",
    "- 참/거짓(Boolean) : True 또는 False 값.\n",
    "- 배열(Array) : 0 이상의 임의의 종류의 값으로 이루어진 \"순서가 있는 리스트\", 대괄호로 나타냄, 요소는 쉼표로 구분.\n",
    "- 객체(Object) : \"순서가 없는 이름/값 쌍의 집합\", 이름(key)이 문자열이다.\n",
    "- null : 빈 값"
   ]
  },
  {
   "cell_type": "markdown",
   "metadata": {},
   "source": [
    "## 장점"
   ]
  },
  {
   "cell_type": "markdown",
   "metadata": {},
   "source": [
    "- JSON은 텍스트로 이루어져 있음, 사람과 기계 모두 읽고 쓰기 쉽다.\n",
    "- 프로그래밍 언어와 플랫폼에 독립적, 서로 다른 시스템간에 객체를 교환하기 좋음\n",
    "- 자바스크립트의 문법을 채용함, 자바스크립트에서 eval 명령으로 바로 사용 가능\n",
    "    - 그러나 실질적으로 eval 명령을 사용하면 외부에서 악성 코드가 유입될 수 있다\n",
    "    - mozila firefox, internet explorer, opera, safari, chrome등 대부분의 최신 웹 브라우저는 JSON 전용 파서 기능을 내장, 이런 기능을 사용하는 것이 안전하고 빠르다."
   ]
  },
  {
   "cell_type": "markdown",
   "metadata": {},
   "source": [
    "# Unicode"
   ]
  },
  {
   "cell_type": "markdown",
   "metadata": {},
   "source": [
    "- 전 세계의 모든 문자를 컴퓨터에서 일관되게 표현하고 다룰 수 있도록 설계된 산업 표준, Unicode Consortium이 제정\n",
    "- 이 표준에는 ISO 10646 문자 집합, 문자 인코딩, 문자 정보 데이터베이스, 문자들을 다루기 위한 알고리즘 등을 포함"
   ]
  },
  {
   "cell_type": "markdown",
   "metadata": {},
   "source": [
    "#### 유니코드의 목적"
   ]
  },
  {
   "cell_type": "markdown",
   "metadata": {},
   "source": [
    "- 현존하는 문자 인코딩 방법들을 모두 유니코드로 교체하려는 것\n",
    "    - 기존의 인코딩들은 그 규모나 범위 면에서 한정, 다국어 환경에서는 서로 화환되지 않는 문제점이 있었다\n",
    "        - 유니코드가 다양한 문자 집합들을 통합, 유니코드는 컴퓨터 소프트웨어의 국제화와 지역화에 널리 사용\n",
    "        - 비교적 최근 기술인 XML, 자바, 그리고 최신 운영 체제 등에서도 지원"
   ]
  },
  {
   "cell_type": "markdown",
   "metadata": {},
   "source": [
    "# 로봇 배제 표준"
   ]
  },
  {
   "cell_type": "markdown",
   "metadata": {},
   "source": [
    "- 로봇 배제 표준은 웹 사이트에 로봇이 접근하는 것을 방지하기 위한 규약, 일반적으로 접근 제한에 대한 설명을 \"robots.txt\"에 기술\n",
    "- 이 규약에 대한 RFC는 없다\n",
    "- 이 규약은 권고안이다, 로봇이 robots.txt 파일을 읽고 접근을 중지하는 것을 목적으로 한다\n",
    "    - 따라서, 접근 방지 설정을 하였다고 해도, 다른 사람들이 그 파일에 접근할 수 있다\n",
    "- \"robots.txt\"파일은 항상 사이트의 루트 디렉토리에 위치해야 한다"
   ]
  },
  {
   "cell_type": "markdown",
   "metadata": {},
   "source": [
    "## 대안"
   ]
  },
  {
   "cell_type": "markdown",
   "metadata": {},
   "source": [
    "- HTML의 meta 태그를 이용할 수도 있다.\n",
    "    - Ex)```<meta name=\"Robots\" content=\"Noindex,Nofollw\"/>```\n",
    "    - 이러한 방법은 일반적인 방법이 아니다, 아직까지는 일부의 로봇만 지원한다"
   ]
  },
  {
   "cell_type": "markdown",
   "metadata": {},
   "source": [
    "# XPath"
   ]
  },
  {
   "cell_type": "markdown",
   "metadata": {},
   "source": [
    "- XPath(XML path Language)는 W3C의 표준으로 확장 생성 언어 문서의 구조를 통해 경로 위에 지정한 구문을 사용하여 항목을 배치하고 처리하는 방법을 기술하는 언어\n",
    "- XML 표현보다 더 쉽고 약어로 되어 있다, XSL 변환(XSLT)과 XML 지시자 언어(XPointer)에 쓰이는 언어 이다.\n",
    "- XPath는 XML 문서의 노드를 정의하기 위하여 경로식을 사용, 수학 함수와 기타 확장 가능한 표현들이 있다."
   ]
  },
  {
   "cell_type": "markdown",
   "metadata": {},
   "source": [
    "# XML"
   ]
  },
  {
   "cell_type": "markdown",
   "metadata": {},
   "source": [
    "- XML(Extensible Markup Language)은 W3C에서 개발된, 다른 특수한 목적을 갖는 마크업 언어를 만드는데 사용하도록 권장하는 다목적 마크업 언어\n",
    "- XML은 SGML의 단순화된 부분집합, 다른 많은 종류의 데이터를 기술하는 데 사용 가능\n",
    "- XML은 주로 다른 종류의 시스템, 특히 인터넷에 연결된 시스템끼리 데이터를 쉽게 주고 받을 수 있게 하여 HTML의 한계를 극복할 목적으로 만들어짐\n",
    "- XML은 문서를 사람과 기계 모두가 읽을 수 있는 형식을 갖도록 규정\n",
    "- W3C가 만든 XML 1.0 Specification과 몇몇 다른 관련 명세들과 모든 자유 개방형 표준에서 정의 됨\n",
    "- W3C는 XML 설계 목표에서 단순성과 일반성, 그리고 인터넷을 통한 사용 가능성을 강조함\n",
    "- XML은 텍스트 데이터 형식으로 유니코드를 사용, 전 세계 언어를 지원\n",
    "- XML을 설계할 때는 주로 문서를 표현하는데 집중했지만, 지금은 임의의 자료구조를 나타내는 데 널리 쓰임\n",
    "    - 대표적 예 = 웹 서비스\n",
    "- 많은 API가 개발되어 XML 데이터를 처리하고자 하는 소프트웨어 개발자들이 활용\n",
    "- 여러가지 스키마 시스템이 있어서 XML 기반 언어의 정의를 보다 쉽게 할 수 있도록 도와준다."
   ]
  },
  {
   "cell_type": "markdown",
   "metadata": {},
   "source": [
    "# XML 스키마"
   ]
  },
  {
   "cell_type": "markdown",
   "metadata": {},
   "source": [
    "- XML 스키마 (XML schema)는 XML 문서 타입에 대해 기술한 것"
   ]
  },
  {
   "cell_type": "markdown",
   "metadata": {},
   "source": [
    "## XML 기본 개념"
   ]
  },
  {
   "cell_type": "markdown",
   "metadata": {},
   "source": [
    "- XML은 구조적인 데이터를 위한 것\n",
    "- XML은 다소 HTML 같이 보임\n",
    "- XML은 텍스트이며, 읽히는 것만을 뜻하지 않는다\n",
    "- XML은 크기가 커진다\n",
    "- XML은 기술의 집합이다\n",
    "- XML은 새로운 기술이 아니라 발전한 기술이다\n",
    "- XML은 HTML에서 XHTML로 이꿀었다.\n",
    "- XML은 모듈식이다\n",
    "- XML은 RDF와 시멘틱 웹의 토대이다\n",
    "- XML은 라이선스 제약이 없으며, 플랫폼이 독립적이고, 많은 지원이 있다"
   ]
  },
  {
   "cell_type": "markdown",
   "metadata": {},
   "source": [
    "## XML 기반 언어"
   ]
  },
  {
   "cell_type": "markdown",
   "metadata": {},
   "source": [
    "- RDF\n",
    "- RSS\n",
    "- Atom\n",
    "- MathML\n",
    "- XHTML\n",
    "- SVG"
   ]
  },
  {
   "cell_type": "markdown",
   "metadata": {},
   "source": [
    "# RDF"
   ]
  },
  {
   "cell_type": "markdown",
   "metadata": {},
   "source": [
    "#### Resource Description Framework(자원 기술 프레임워크)"
   ]
  },
  {
   "cell_type": "markdown",
   "metadata": {},
   "source": [
    "- 웹상의 자원의 정보를 표현하기 위한 규격\n",
    "- 상이한 메타데이터 간의 어의, 구문 및 구조에 대한 공통적인 규칙 지원\n",
    "- 웹상에 존재하는 기계 해독형 (machine-understandable)정보를 교환하기 위하여 월드 와이드 웹 컨소시엄(W3C)에서 제안한것\n",
    "- 메타데이터간의 효율적인 교환 및 상호호환을 목적으로 한다\n",
    "- 메타 데이터 교환을 위해서 명확하고 구조화된 의미표현을 제공해 주는 공통의 기술언어로 XML을 사용하기도 한다\n",
    "- RDF는 데이터 모형, 데이터의 상호교환을 위한 구문, 스키마 모형, 기계 해독형 스키마를 위한 구문, 질문과 프로파일 프로토콜과 같은 은 요소로 구성된다"
   ]
  },
  {
   "cell_type": "markdown",
   "metadata": {},
   "source": [
    "# 스키마"
   ]
  },
  {
   "cell_type": "markdown",
   "metadata": {},
   "source": [
    "- 계획이나 도식을 가리키는 영어 낱말\n",
    "- 스킴(scheme)은 스키마와 거의 같은 의미로 쓰이나, 보통 스키마가 대략적인 계획이나 도식을 뜻하는데 비해 스킴은 구체적이고 확정된 것을 말함\n",
    "    - 데이터베이스 스키마는 자료를 저장하는 구조와 표현법을 정의한 것을 뜻하는 전산학 용어\n",
    "    - XML 스키마는 XML 문서의 내용, 구조, 형식을 규정하는 명세로, 그 서술 자체를 XML로 한다"
   ]
  },
  {
   "cell_type": "markdown",
   "metadata": {},
   "source": [
    "# Sementic Web(시맨틱 웹)"
   ]
  },
  {
   "cell_type": "markdown",
   "metadata": {},
   "source": [
    "- \"의미론적인 웹\"이라는 뜻\n",
    "- 현재의 인터넷과 같은 분산환경에서 리소스(웹 문서, 각종 파일,서비스 등)에 대한 정보와 자원 사이의 관계 - 의미 정보(Semanteme)를 기계(computer)가 처리할 수 있는 온톨로지 형태로 표현 이를 자동화된 기계가 처리하도록 하는 프레임워크이자 기술"
   ]
  },
  {
   "cell_type": "code",
   "execution_count": null,
   "metadata": {},
   "outputs": [],
   "source": []
  }
 ],
 "metadata": {
  "kernelspec": {
   "display_name": "Python 3",
   "language": "python",
   "name": "python3"
  },
  "language_info": {
   "codemirror_mode": {
    "name": "ipython",
    "version": 3
   },
   "file_extension": ".py",
   "mimetype": "text/x-python",
   "name": "python",
   "nbconvert_exporter": "python",
   "pygments_lexer": "ipython3",
   "version": "3.7.1"
  }
 },
 "nbformat": 4,
 "nbformat_minor": 2
}
