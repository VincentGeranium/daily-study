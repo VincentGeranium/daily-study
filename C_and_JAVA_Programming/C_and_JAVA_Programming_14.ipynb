{
 "cells": [
  {
   "cell_type": "markdown",
   "metadata": {},
   "source": [
    "# 제어구조(Control Structure)\n",
    "## 정의"
   ]
  },
  {
   "cell_type": "markdown",
   "metadata": {},
   "source": [
    "### 제시된 문제를 해결하기 위해서는 \n",
    "- #### 어떠한 문장들을 사용해야 하는지 그리고 결정된 문장들을 어떠한 순서로 실행해야 하는지, 그리고 어떤 조건에 의해서 어떤 문장들을 몇 회 실행해야 하는지 아니면 실행하지 않아야 하는지를 결정해 주어야 한다\n",
    "- #### 이러한 표현을 나타내는 문맥의 구조를 제어구조(Control Structure)"
   ]
  },
  {
   "cell_type": "markdown",
   "metadata": {},
   "source": [
    "### 다시 말해서 순서도 혹은 프로그램에서 처리 흐름을 제어하는 방법이나 그러한 실행 제어를 위해 사용되는 문장들의 구조를 제어구조(Control Structure)라고 한다"
   ]
  },
  {
   "cell_type": "markdown",
   "metadata": {},
   "source": [
    "### 특별한 기능을 수행하기 위해서 단일 연산식이나 단일 부울 대수식으로 정의되는 필요한 단계나 사건 그리고 그들의 수행 순서를 기술해야 하는데 이것을 제어 논리(Control Logic)라고 한다"
   ]
  },
  {
   "cell_type": "markdown",
   "metadata": {},
   "source": [
    "### 이러한 제어 논리(Control Logic)를 작성하는 데 \n",
    "- #### 1.순차구조(Sequence)\n",
    "- #### 2.선택구조(Selection)\n",
    "- #### 3.반복구조(Iteration) \n",
    "    - #### 3가지 제어구조(Control Structure)만으로 작성할 수 있다"
   ]
  },
  {
   "cell_type": "markdown",
   "metadata": {},
   "source": [
    "### 특히 구조화 프로그래밍 에서는\n",
    "- #### 순차구조(Sequence), 선택구조(Selection), 반복구조(Iteration) 3가지 제어구조만을 사용한다\n",
    "- #### 이 3가지 제어구조를 조합하여 프로그램의 모든 제어 논리를 기술할 수 있기 때문이다"
   ]
  },
  {
   "cell_type": "markdown",
   "metadata": {},
   "source": [
    "#### *구조화 프로그래밍(Structure Programming, SP)\n",
    "- #### 1960년대 중반에 제창되기 시작한 프로그래밍 방법론\n",
    "- #### 쉽게 이해할 수 있고 검증할 수 있는 프로그램 코드를 생성하는 것을 주목적\n",
    "- #### 구조화 프로그래밍의 특징은 큰 프로그램을 단계적으로 분할하여 작성하는 하향식 프로그래밍\n",
    "- #### 한 모듈 안에서는 순차, 선택, 그리고 반복의 3가지 제어구조만을 사용하고, 되도록 GOTO문을 사용하지 않는다\n",
    "- #### 프로그램의 가독성(readability)을 높이기 위해 들여쓰기, 주석 등과 문서화를 하는 것등"
   ]
  },
  {
   "cell_type": "markdown",
   "metadata": {},
   "source": [
    "#### *부울대수(불대수, Boolean algebra)\n",
    "- #### 논리적인 상관관계를 주로 다루며, 0(거짓)과 1(참)의 2가지 값만을 처리한다\n",
    "- #### 이것은 컴퓨터 시스템의 전기적인 논리회로의 상태와 서로 대응되는 성질을 가지며 이에 대한 이론은 오늘날 컴퓨터 하드웨어의 기초를 이루고 있다\n",
    "- #### 불대수를 사용하는 목적은 변수(논리변수) 사이의 진리표(true table)관계를 대수 형식으로 표현한다\n",
    "- #### 또한 논리도의 입출력 관계를 대수 형식으로 표현한다\n",
    "- #### 그리고 같은 기능의 보다 간단한 회로로 단순화 한다(이것을 우린 간소화 라고 한다)\n",
    "- #### 불 대수는 기본 연산으로서 논리곱(AND), 논리합(OR), 논리 부정(NOT), 베타적 논리합(XOR)의 4가지 연산을 가지고, 교환,결합,분배법칙이 제공되고 성립한다"
   ]
  }
 ],
 "metadata": {
  "kernelspec": {
   "display_name": "Python 3",
   "language": "python",
   "name": "python3"
  },
  "language_info": {
   "codemirror_mode": {
    "name": "ipython",
    "version": 3
   },
   "file_extension": ".py",
   "mimetype": "text/x-python",
   "name": "python",
   "nbconvert_exporter": "python",
   "pygments_lexer": "ipython3",
   "version": "3.7.1"
  }
 },
 "nbformat": 4,
 "nbformat_minor": 2
}
