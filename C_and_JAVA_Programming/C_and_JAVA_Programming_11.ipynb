{
 "cells": [
  {
   "cell_type": "markdown",
   "metadata": {},
   "source": [
    "# 식과 문장 (Expression and Statement)\n",
    "## 식(Statement)"
   ]
  },
  {
   "cell_type": "markdown",
   "metadata": {},
   "source": [
    "## 정의\n",
    "### 컴퓨터를 이용하여 어떠한 일을 처리하기 위해서는 컴퓨터 구조(Computer Architecture)에 의해서 정해진 명령어(Instruction)들만을 이용해야 한다\n",
    "- #### 이러한 명령어들은 이미 중앙처리장치 혹은 마이크로프로세서(Microprocessor)에 집적되어 있다\n",
    "- #### 이러한 마이크로프로세서에 집적되어 있는 명령어들은 단지 하나의 값만을 구하는 처리 정도이다\n",
    "- #### 대개는 주소를 구하거나 혹은 처리하고자 하는 데이터에 대해 숫자형 혹은 논리형 값을 구하는 정도의 처리 단위인 것이다\n",
    "- #### 프로그래밍에서 이러한 처리 단위를 식(수식, Expression)이라고 한다"
   ]
  },
  {
   "cell_type": "markdown",
   "metadata": {},
   "source": [
    "### 이러한 식을 어떻게 표현할 것인가는 사용하는 프로그래밍 언어에 띠라 다를 수 있다\n",
    "- #### 중앙처리장치의 제어 논리장치가 처리할 수 있는 0과 1의 조합의 단어, 즉 기계어 수준에서 식을 표현할 수도 있다\n",
    "- #### 기계어 수준에서 식을 작성한다면 죽을 맛일 것이다\n",
    "- #### 그래서 우리가 수에 대한 개념을 이해하고 계산을 하는 방식에 대해 공부할 때, 즉 산수 시간에 배운 +,-,>,< 와 같은 특정 기호와 NOT,AND,OR 같은 단어를 기계어 대신에 사용한다\n",
    "- #### 이러한 특정 기호나 단어를 연산자(Operator)라고 한다\n",
    "\n",
    "### 따라서 식은 츠로그래밍 언어에서 어떤 값을 구하기 위해 데이터와 연산자에 의해 조합된 표현 단위를 말한다\n",
    "- #### 식은 단지 어떠한 명령어를 사용할 것인지를 선택한 것이다"
   ]
  },
  {
   "cell_type": "markdown",
   "metadata": {},
   "source": [
    "### *컴퓨터 구조 (Computer Architecture)\n",
    "- #### 일반적으로 소프트웨어에 대한 또는 소프트웨어에서 본 하드웨어의 논리 규격\n",
    "\n",
    "### *기계어(Machine Language)\n",
    "- #### 컴퓨터가 이해하고 바로 실행시킬 수 있는 형식인 0과 1로만 표현할 수 있는 프로그래밍 언어"
   ]
  }
 ],
 "metadata": {
  "kernelspec": {
   "display_name": "Python 3",
   "language": "python",
   "name": "python3"
  },
  "language_info": {
   "codemirror_mode": {
    "name": "ipython",
    "version": 3
   },
   "file_extension": ".py",
   "mimetype": "text/x-python",
   "name": "python",
   "nbconvert_exporter": "python",
   "pygments_lexer": "ipython3",
   "version": "3.7.1"
  }
 },
 "nbformat": 4,
 "nbformat_minor": 2
}
