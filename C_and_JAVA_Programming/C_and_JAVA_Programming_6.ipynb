{
 "cells": [
  {
   "cell_type": "markdown",
   "metadata": {},
   "source": [
    "# 기억장소\n",
    "## Chapter 03\n",
    "## 변수와 상수"
   ]
  },
  {
   "cell_type": "markdown",
   "metadata": {},
   "source": [
    "### 변수(Variable)\n",
    "- #### 프로그래밍을 효율적으로 하기 위해서 어떤 특징 절대 주소에 대응되는 명칭(Name)을 주는 방법을 기호주소(Symbolic Address)라고 한다\n",
    "- #### 기호주소(Symbolic Address)는 기억장치에서 데이터를 구별하기 위해 사용\n",
    "    - ### 프로그래밍을 할 때 사람이 알기 쉽게 적당한 명칭을 붙여 표시한 주소\n",
    "- #### 기호 주소가 절대 주소의 어디에 해당하는지는 시스템이 처리하므로 프로그램 작성자의 부담이 적어진다"
   ]
  },
  {
   "cell_type": "markdown",
   "metadata": {},
   "source": [
    "- #### 이처럼 위치를 나타내기 위해 고유의 식별 주소를 갖고, 정보를 저장하는 기억장치의 한 영역을 기억장소(Storage)하고 한다\n",
    "    - ### 프로그래밍에서는 변수(Variable)라고 한다\n",
    "- ### 변수라고 하는 것은 읽고 쓰기가 가능하여 기억장소에 저장되는 값이 바뀌기 때문이다\n",
    "    - #### 다시 말해서 기호주소는 프로그램에서 처리를 하는데 필요한 데이터나 처리의 결과로서 만들어진 정보를 저장하기 위해서 이용한다"
   ]
  },
  {
   "cell_type": "markdown",
   "metadata": {},
   "source": [
    "### 변수 명칭을 지을 때 주의해야 하는 점들\n",
    "- #### 명칭은 어떠한 데이터 혹은 정보인지 명확하게 이해하도록 반드시 의미있게 짓도록 해야한다\n",
    "- #### 명칭은 영문자인 경우 소문자로 하고, 음절이나 단어를 구분하는 글자에만 대문자를 사용한다\n",
    "- #### 반드시 첫 글자는 영문자이어야 한다. 그리고 소문자로 시작해야 한다.\n",
    "- #### 반드시 영문 단어를 조합하여 사용해야한다.\n",
    "- #### 영문자와 숫자의 조합도 가능하다\n",
    "- #### '_'도 사용 가능하다\n",
    "- #### 한글 풀어쓰기를 하지 않도록 한다.\n",
    "    - name에 대해 irum, number에 대해 bunho로 사용하지 않도록 한다\n",
    "- #### 약어는 사용을 금지한다\n",
    "    - number에 대해 num, KoreanScore에 대해 kor 등등 으로 약어를 사용하지 않도록 한다"
   ]
  },
  {
   "cell_type": "markdown",
   "metadata": {},
   "source": [
    "### 단어해석\n",
    "#### 필드(Field)\n",
    "- #### 프로그램으로 처리하고자 하는 데이터는 사람에 의해서 최소한의 의미가 부여되는 정보 처리단위이다\n",
    "- #### 이러한 수준의 정보 처리단위를 필드(Field)라고 한다\n",
    "    - #### \"홍길동\",\"고길동\",\"장길동\" 같은 데이터를 보면, 바로 \"성명\"이라고 할 것이다.\n",
    "        - #### 이러한 수준의 정보 처리 단위를 필드라고 한다\n",
    "        - #### 따라서 데이터에 대해서는 명확하게 이해하기 쉽도록 의미있는 명칭을 짓도록 한다"
   ]
  },
  {
   "cell_type": "markdown",
   "metadata": {},
   "source": [
    "### 상수 (Constant)\n",
    "- ### 프로그램에서 처리하는 데이터 중에는 변수처럼 계속 바뀌는 값에 반하여 프로그램을 작성 할 때 정해져서 절대 바뀌지 않는 값, 이러한 값을 상수(Constant)라고 한다\n"
   ]
  }
 ],
 "metadata": {
  "kernelspec": {
   "display_name": "Python 3",
   "language": "python",
   "name": "python3"
  },
  "language_info": {
   "codemirror_mode": {
    "name": "ipython",
    "version": 3
   },
   "file_extension": ".py",
   "mimetype": "text/x-python",
   "name": "python",
   "nbconvert_exporter": "python",
   "pygments_lexer": "ipython3",
   "version": "3.7.1"
  }
 },
 "nbformat": 4,
 "nbformat_minor": 2
}
