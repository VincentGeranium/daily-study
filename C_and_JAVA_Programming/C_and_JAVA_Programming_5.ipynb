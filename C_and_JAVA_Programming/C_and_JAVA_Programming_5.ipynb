{
 "cells": [
  {
   "cell_type": "markdown",
   "metadata": {},
   "source": [
    "# 기억장소\n",
    "## Chapter 03\n",
    "## 기억장소의 위치와 주소"
   ]
  },
  {
   "cell_type": "markdown",
   "metadata": {},
   "source": [
    "### 단어해석\n",
    "#### 최상위 비트(MSB, Most Significant Bit)\n",
    "- #### 이진수 숫자 중에서 제일 큰(맨 왼쪽) 자리수\n",
    "\n",
    "#### 최하위 비트(LSB, Least significant Bit)\n",
    "- #### 이진수 숫자 중에서 마지막(맨 오른쪽) 자리수"
   ]
  },
  {
   "cell_type": "markdown",
   "metadata": {},
   "source": [
    "- #### 하나의 워드 정보를 쓰거나 읽기 위해 주기억장치를 접근하려면 그 워드 위치를 구별할 수 있는 도구가 필요하다\n",
    "    - ### 그러한 도구를 컴퓨터에서는 주소(Address)라고 한다\n",
    "- ### 주소는 기억장치에 있는 정보를 지정하기 위한 표시로서 기억장치에서 위치를 나타내는 것이다"
   ]
  },
  {
   "cell_type": "markdown",
   "metadata": {},
   "source": [
    "- ### 컴퓨터에서는 바이트(Byte) 단위로 주소를 부여한다\n",
    "- #### 기억장치의 맨 처음부터 1바이트 마다 연속해서 0,1,2,3,...,8,9,A,B,C,D,E,F를 사용하는 16진수로 표기되는 정수형 값으로 주소가 부여된다\n",
    "    - ### 이러한 주소를 절대 주소(Absolute address)라고 한다"
   ]
  },
  {
   "cell_type": "markdown",
   "metadata": {},
   "source": [
    "- #### 절대 주소만을 사용하여 프로그램을 작성한다면, 일일이 기억장소에 대해 주소를 계산해야 한다\n",
    "- #### 심지어 다른 프로그램에 의해서 사용되는 기억장소를 배제하고 사용해야 하는 기억장소의 주소를 계산해야 한다면 매우 어렵게 작업을 해야한다\n",
    "- #### 프로그래밍에서 많은 불편을 초래하게 된다"
   ]
  }
 ],
 "metadata": {
  "kernelspec": {
   "display_name": "Python 3",
   "language": "python",
   "name": "python3"
  },
  "language_info": {
   "codemirror_mode": {
    "name": "ipython",
    "version": 3
   },
   "file_extension": ".py",
   "mimetype": "text/x-python",
   "name": "python",
   "nbconvert_exporter": "python",
   "pygments_lexer": "ipython3",
   "version": "3.7.1"
  }
 },
 "nbformat": 4,
 "nbformat_minor": 2
}
