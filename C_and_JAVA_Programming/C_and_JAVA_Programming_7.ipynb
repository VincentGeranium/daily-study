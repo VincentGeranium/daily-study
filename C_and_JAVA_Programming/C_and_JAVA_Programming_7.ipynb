{
 "cells": [
  {
   "cell_type": "markdown",
   "metadata": {},
   "source": [
    "# 기억장소\n",
    "## Chapter 03\n",
    "## 데이터와 명령어의 표현"
   ]
  },
  {
   "cell_type": "markdown",
   "metadata": {},
   "source": [
    "### 데이터의 표현"
   ]
  },
  {
   "cell_type": "markdown",
   "metadata": {},
   "source": [
    "- #### 어떤 주소가 지정한 기억장소에 저장된 값은 명령어이거나 데이터(피연산자, Operand)일 수 있다\n",
    "- #### 상수이든 변수이든 데이터의 경우는 보통 숫자이거나 문자들이다"
   ]
  },
  {
   "cell_type": "markdown",
   "metadata": {},
   "source": [
    "- ### 데이터들에 대한 표현법에 대해서 개략적으로 정리\n",
    "    - #### 우선 숫자는 부호와 크기를 사용한 표현법(Signed magnitude notation)에 의해서 정수와 실수가 기억장소에 표현되어 진다\n",
    "    - #### 컴퓨터는 숫자 외에 문자들도 처리할 수 있어야 한다\n",
    "        - #### 문자들은 알파벳일 수도 있고, 십진수일 수도 있고, 구두점 등일 수도 있으며, 그것들은 각각에 대응하는 정수형 값을 미리 정리해서 처리한다\n",
    "        - #### 보통 8 비트의 크기로 정보를 표현하기 위한 기호 체계, 즉 코드로써 표현된다\n",
    "            - #### 가장 대표적인 코드는 아스키(American Standard Code for Information Interchange, ASCII)코드 이다\n",
    "                - 한글은 16비트의 길이를 가진 코드(완성형 코드와 조합형 코드)로써 표현된다\n",
    "    - #### 하나의 명령어는 한 개의 워드 크기의 기억장소에 저장될 수 있다\n",
    "        - #### 이 경우 워드의 일부는 실행되어야 할 동작을 명시하고 있고, 다른 부분은 실행에 필요한 데이터(피연산자)의 주소들을 명시하는데 사용될 수 있다"
   ]
  },
  {
   "cell_type": "markdown",
   "metadata": {},
   "source": [
    "### 단어 해석 및 설명\n",
    "\n",
    "#### 부호와 크기(절대치)를 사용한 표현법(Signed magnitude notation)\n",
    "- #### 최상위 한 비트를 부호로 사용하고, 나머지 비트에 수의 크기(절대치)를 저장하는 방식\n",
    "\n",
    "#### 아스키 코드(American Standard Code for Information Interchange, ASCII)\n",
    "- #### 미국에서 표준화가 추진된 정보교환용 7비트 코드로 PC를 중심으로 국제적으로 사용되는 것으로 컴퓨터에서 처리하기 용이한 8비트 데이터를 이용하기 위하여 숫자, 문자, 특수문자에 번호를 매긴 것"
   ]
  },
  {
   "cell_type": "markdown",
   "metadata": {},
   "source": [
    "### 자료유형 (Data Type)\n",
    "- ### 기억장소에 저장되는 값에 따라 기억장소의 크기가 결정되어야 한다\n",
    "    - #### 그래서 프로그래밍에서 기억장소의 크기에 대한 정보를 표현하는 개념이 필요\n",
    "        - ### 이것을 자료유형(Data Type)이라 한다"
   ]
  },
  {
   "cell_type": "markdown",
   "metadata": {},
   "source": [
    "- ### 자료유형 (Data Type)은 컴퓨터에서 사용되는 값의 형태를 의미\n",
    "- ### 항상 기억장소에 대해서는 자료유형(Data Type)를 결정해 주어야 한다"
   ]
  },
  {
   "cell_type": "markdown",
   "metadata": {},
   "source": [
    "### 자료유형의 종류\n",
    "- #### 정수 : 소수점 표현이 없는 숫자를 표현하기 위한 것이다\n",
    "- #### 실수 : 소수점 표현을 하는 숫자를 표현하기 위한 것이다\n",
    "- #### 문자 : 한 개의 문자를 저장할 수 있는 기억장소를 표현하기 위한 것이다\n",
    "- #### 문자열 : 문자열을 저장할 수 있는 기억장소를 표현하기 위한 것이다\n",
    "- #### 논리 : 참(TRUE) 혹은 거짓(FALSE)에서 하나의 값을 저장할 수 있는 기억장소를 표현하기 위한 것이다\n",
    "- #### 날짜 : 일상적인 생활에서 중요한 데이터인 일자를 표현하기 위한 것이다\n",
    "- #### 통화 : 금액을 표현하기 위한 것이다"
   ]
  }
 ],
 "metadata": {
  "kernelspec": {
   "display_name": "Python 3",
   "language": "python",
   "name": "python3"
  },
  "language_info": {
   "codemirror_mode": {
    "name": "ipython",
    "version": 3
   },
   "file_extension": ".py",
   "mimetype": "text/x-python",
   "name": "python",
   "nbconvert_exporter": "python",
   "pygments_lexer": "ipython3",
   "version": "3.7.1"
  }
 },
 "nbformat": 4,
 "nbformat_minor": 2
}
