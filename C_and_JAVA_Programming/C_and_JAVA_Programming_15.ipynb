{
 "cells": [
  {
   "cell_type": "markdown",
   "metadata": {},
   "source": [
    "# 제어구조(Control Structure)\n",
    "## 순차구조(Sequence)"
   ]
  },
  {
   "cell_type": "markdown",
   "metadata": {},
   "source": [
    "### 명령이 기재된 순서대로 위쪽에서 아래쪽으로 실행되는 구조이다\n",
    "- #### 대개 입력과 출력, 기억, 그리고 산술 연산 기능 관련 식과 문장들로 구성되어 진다\n",
    "- #### 순서도에서는 입력기호, 출력기호, 치환식과 산술식을 적을 수 있는 처리기호로 구성되어 진다\n",
    "\n",
    "### 아래의 순서도를 가지고 설명\n",
    "- #### 정확한 순서도를 참고하고 싶다면 [p.103 순서도 참고]\n",
    "\n",
    "```\n",
    "START -------------- 단말기호\n",
    "↓\n",
    "SUBJECTCOUNT = 2.0 , PASSINGAVERAGE = 70.0,\n",
    "isPassed, name, koreanScore, englishScore,  ------------- 준비기호\n",
    "sum, average, number = 0\n",
    "↓\n",
    "name, koreanScore, englishScore  ----------- 입력기호\n",
    "↓\n",
    "number = number + 1  ----------- 처리기호\n",
    "↓\n",
    "sum = koreanScore + englishScore  ----------- 처리기호\n",
    "↓\n",
    "average = sum / SUBJECTCOUNT  ----------- 처리기호\n",
    "↓\n",
    "name, koreanScore, englishScore, sum, average, isPassed ---------- 출력기호\n",
    "↓\n",
    "STOP -------------- 단말기호\n",
    "```\n",
    "\n",
    "- #### 성명과 국어점수, 영어점수를 입력받은 문장을 나타내기 위해서 준비기호 바로 아래에 입력기호로 명령을 기술한다\n",
    "- #### 그리고 입력된 두 개의 과목 점수를 더하여 합을 계산하는 산술식을 적을 처리기호를 반드시 입력한 다음에 실행되어야 하므로 입력기호 다음에 작도 되어야 한다\n",
    "- #### 그리고 계산된 합을 가지고 평균을 구해야 하므로 두 과목 점수를 더하는 산술식이 적힌 처리기호 바로 및에 합을 과목 수로 나누어 구하는 산술식이 적힌 처리 기호가 작도 되어야 한다\n",
    "- #### 이러한 제어구조를 순차구조라고 한다. 그렇지 않으면 원하는 결과를 얻을 수 없게 된다"
   ]
  }
 ],
 "metadata": {
  "kernelspec": {
   "display_name": "Python 3",
   "language": "python",
   "name": "python3"
  },
  "language_info": {
   "codemirror_mode": {
    "name": "ipython",
    "version": 3
   },
   "file_extension": ".py",
   "mimetype": "text/x-python",
   "name": "python",
   "nbconvert_exporter": "python",
   "pygments_lexer": "ipython3",
   "version": "3.7.1"
  }
 },
 "nbformat": 4,
 "nbformat_minor": 2
}
