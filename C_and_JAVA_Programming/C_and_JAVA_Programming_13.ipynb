{
 "cells": [
  {
   "cell_type": "markdown",
   "metadata": {},
   "source": [
    "# 식과 문장 (Expression and Statement)\n",
    "## 문장(Statement)"
   ]
  },
  {
   "cell_type": "markdown",
   "metadata": {},
   "source": [
    "### 수식은 어떠한 명령어를 사용할 것인지에 대한 표현이고, 실제 값을 구하는 중앙처리장치의 산술논리유닛에 의해서 실행하라는 것은 아니다\n",
    "- #### 그래서 컴퓨터에 의해서 실제 값을 구하라는 표현도 이루어져야 한다\n",
    "- #### 그래서 프로그래밍에서는 완전한 명령어로 실행하는 개념의 표현 단위가 필요하다\n",
    "- #### 이러한 표현 단위를 문장(Statement)이라고 한다"
   ]
  },
  {
   "cell_type": "markdown",
   "metadata": {},
   "source": [
    "### 즉 프로그래밍 언어에서, 일련의 동작들의 한 단계 또는 한 묶음의 선언을 나타내는 구문상의 구성 요소로서 보통 그 언어의 문맥 내에서는 완결되어 있는 것을 말한다\n",
    "- #### 보통 프로그램에서 각 줄은 하나의 개별적인 문장이며, 하나의 개별적인 명령어(Instruction)으로 간주된다\n",
    "- #### 프로그래밍 언어에 따라서 문장의 정의가 똑같지는 않으나, 대부분의 언어에서 입출력문(Input/Output Statement), 산술식과 치환식에 대해 수식문장(Expression Statement), 그리고 선택구조나 반복구조를 나타내기 위한 제어문(Control Statement)등의 개념을 지원하고 있다"
   ]
  },
  {
   "cell_type": "markdown",
   "metadata": {},
   "source": [
    "### 순서도에서는 입력기호, 출력기호 그리고 처리기호에 대해서는 하나의 기호가 문장이다 다음과 같은 처리기호를 알아보자\n",
    "\n",
    "```\n",
    "[p.99 그림 참조]\n",
    "\n",
    "number = number + 1\n",
    "```\n",
    "- #### 순서도에서 입력되는 순서대로 학생의 번호를 매기는 표현 부분이다\n",
    "- #### 처리기호의 내용, number = number + 1는 number의 값을 구하기 위한 표현이다\n",
    "- #### number + 1는 현재 number에 있는 값을 중앙처리장치의 레지스터로 읽어 와서 그 값에다 1을 더하여 값을 구하고, number = 는 더해서 구해진 값을 주기억장치 number에 저장하라는 표현이다\n",
    "- #### number + 1는 정수형 값을 구하는 산술식이다\n",
    "- #### 그리고 = 치환 연산자에 의해서 복사 관련 치환식이 구성되는 것이다\n",
    "\n",
    "### 이러한 일련의 동작들의 묶음으로 한 단계로 처리하기 위해서, 즉 문장으로 표현하기 위해서 처리기호를 사용하게 되는 것이다\n",
    "- #### 처리기호에 의해서 두 개의 수식이 평가되도록 하는 표현이다\n",
    "- #### 이러한 표현 단위를 문장이라고 한다\n",
    "\n",
    "### 다음은 입력기호이다.\n",
    "- #### 사용자에 의해서 키보드로 값이 입력되면, 입력된 값들을 각각 name, koreanScore, 그리고 englishScore에 저장하도록 한다\n",
    "- #### 각각의 기억장소에 한 개의 값들이 저장하는 표현 단위이므로 문장이라고 한다\n",
    "\n",
    "```\n",
    "[p.99 그림 참조]\n",
    "\n",
    "name, koreanScore, englishScore\n",
    "```\n",
    "\n",
    "### 그렇지만 순서도에서는 제어문장에 대해서는 명확한 정의가 되어 있지 않다\n",
    "- #### 따라서 비교 및 판단기호와 제어흐름선을 이용하여 제어문장에 대해 표현해야 한다"
   ]
  }
 ],
 "metadata": {
  "kernelspec": {
   "display_name": "Python 3",
   "language": "python",
   "name": "python3"
  },
  "language_info": {
   "codemirror_mode": {
    "name": "ipython",
    "version": 3
   },
   "file_extension": ".py",
   "mimetype": "text/x-python",
   "name": "python",
   "nbconvert_exporter": "python",
   "pygments_lexer": "ipython3",
   "version": "3.7.1"
  }
 },
 "nbformat": 4,
 "nbformat_minor": 2
}
