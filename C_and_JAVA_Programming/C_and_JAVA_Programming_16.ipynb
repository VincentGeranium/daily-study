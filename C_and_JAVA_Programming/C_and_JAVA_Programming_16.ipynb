{
 "cells": [
  {
   "cell_type": "markdown",
   "metadata": {},
   "source": [
    "# 제어구조(Control Structure)\n",
    "## 선택구조(Selection)"
   ]
  },
  {
   "cell_type": "markdown",
   "metadata": {},
   "source": [
    "### 아래의 순서도를 가지고 설명\n",
    "- #### 정확한 순서도를 참고하고 싶다면 [p.104 순서도 참고]\n",
    "\n",
    "```\n",
    "START -------------- 단말기호\n",
    "↓\n",
    "SUBJECTCOUNT = 2.0 , PASSINGAVERAGE = 70.0,\n",
    "isPassed, name, koreanScore, englishScore,  ------------- 준비기호\n",
    "sum, average, number = 0\n",
    "↓\n",
    "name, koreanScore, englishScore  ----------- 입력기호\n",
    "↓\n",
    "number = number + 1  ----------- 처리기호\n",
    "↓\n",
    "sum = koreanScore + englishScore  ----------- 처리기호\n",
    "↓\n",
    "average = sum / SUBJECTCOUNT  ----------- 처리기호\n",
    "↓\n",
    "average ≥ PASSINGAVERAGE ------------------- 비교 및 판단기호\n",
    "TRUE↲                                       ↳FALSE\n",
    "↓                             ↓\n",
    "isPassed = \"PASS\" ------- 처리기호             isPassed = \"FAIL\" ---------- 처리기호\n",
    "                     ↓\n",
    "name, koreanScore, englishScore, sum, average, isPassed ---------- 출력기호\n",
    "↓\n",
    "STOP -------------- 단말기호\n",
    "```"
   ]
  },
  {
   "cell_type": "markdown",
   "metadata": {},
   "source": [
    "### 조건에 따라 다음에 처리할 내용을 결정하는 구조이다\n",
    "- #### 평균이 70점 이상이면 \"PASS\" 로 평가\n",
    "- #### 평균이 70점 미만이면 \"FAIL\" 로 평가\n",
    "\n",
    "### 위의 조건과 같이 평가하기 위해서는 우선 average ≥ 70.0 관계식을 갖는 비교 및 판단기호를 평가해야 한다\n",
    "- #### 왼쪽은 참일 때 isPassed에 \"PASS\" 문자열 상수를 저장하는 치환식을 나타내는 처리기호를 작도\n",
    "- #### 오른쪽은 거짓일 때 isPassed에 \"FAIL\" 문자열 상수를 저장하는 치환식을 나타내는 처리기호를 작도\n",
    "- #### 그리고 흐름선을 그려 제어 흐름을 표현해야 한다\n",
    "\n",
    "### 이러한 제어구조를 선택구조라고 한다"
   ]
  }
 ],
 "metadata": {
  "kernelspec": {
   "display_name": "Python 3",
   "language": "python",
   "name": "python3"
  },
  "language_info": {
   "codemirror_mode": {
    "name": "ipython",
    "version": 3
   },
   "file_extension": ".py",
   "mimetype": "text/x-python",
   "name": "python",
   "nbconvert_exporter": "python",
   "pygments_lexer": "ipython3",
   "version": "3.7.1"
  }
 },
 "nbformat": 4,
 "nbformat_minor": 2
}
