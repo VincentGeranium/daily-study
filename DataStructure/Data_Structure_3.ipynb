{
 "cells": [
  {
   "cell_type": "markdown",
   "metadata": {},
   "source": [
    "# 3. 배열 검색"
   ]
  },
  {
   "cell_type": "markdown",
   "metadata": {},
   "source": [
    "## 검색"
   ]
  },
  {
   "cell_type": "markdown",
   "metadata": {},
   "source": [
    "- 배열 검색은 배열에 특정 값이 있는지 알아본 후, 있다면 어떤 인덱스에 있는지 찾는 것"
   ]
  },
  {
   "cell_type": "code",
   "execution_count": 1,
   "metadata": {},
   "outputs": [],
   "source": [
    "shopping = [\"apples\" , \"bananas\" , \"cucumbers\" , \"dates\" , \"elderberries\"]"
   ]
  },
  {
   "cell_type": "code",
   "execution_count": 2,
   "metadata": {},
   "outputs": [
    {
     "data": {
      "text/plain": [
       "3"
      ]
     },
     "execution_count": 2,
     "metadata": {},
     "output_type": "execute_result"
    }
   ],
   "source": [
    "shopping.index(\"dates\")"
   ]
  },
  {
   "cell_type": "markdown",
   "metadata": {},
   "source": [
    "- shopping을 눈으로 확인하면 \"dates\"를 바로 찾은 후 머릿속에서 빠르게 인덱스가 3임을 계산\n",
    "- 컴퓨터는 차례대로 배열을 찾을 수밖에 없다"
   ]
  },
  {
   "cell_type": "markdown",
   "metadata": {},
   "source": [
    "#### 배열에서 값을 찾을 때 컴퓨터는 인덱스 0부터 시작해서 값을 확인한 후 찾는 값이 아니면 다음 인덱스로 이동한다."
   ]
  },
  {
   "cell_type": "markdown",
   "metadata": {},
   "source": [
    "- 이 과정은 찾고 있는 값을 발견할 때까지 계속된다."
   ]
  },
  {
   "cell_type": "markdown",
   "metadata": {},
   "source": [
    "#### shopping 배열 내에서 \"dates\"를 찾는 과정"
   ]
  },
  {
   "cell_type": "markdown",
   "metadata": {},
   "source": [
    "- 1. 먼저 인덱스 0을 확인, 인덱스 0에 있는 값은 현재 찾고 있는 \"dates\"가 아닌 \"apples\"이므로 다음 인덱스로 이동\n",
    "- 2. 인덱스 1도 현재 찾고 있는 \"dates\"가 아니므로 다음 인덱스로 이동\n",
    "- 3. 인덱스 2도 아니므로 다음 인덱스로 이동\n",
    "- 4. 인덱스 3은 찾고 있는 \"dates\"\n",
    "    -  찾고 있던 값을 발견했으니 컴퓨터는 배열의 다음 셀로 이동해서 검색을 계속할 필요가 없다"
   ]
  },
  {
   "cell_type": "markdown",
   "metadata": {},
   "source": [
    "#### \"dates\"를 발견할 때까지 4개의 셀을 확인하였으므로 이 연산에는 총 4단계가 걸렸다고 할 수 있다"
   ]
  },
  {
   "cell_type": "markdown",
   "metadata": {},
   "source": [
    "## 이와 같은 검색 연산, 즉 컴퓨터가 한 번에 한 셀씩 확인하는 방법을 \"선형 검색\"이라 부른다"
   ]
  },
  {
   "cell_type": "markdown",
   "metadata": {},
   "source": [
    "### 컴퓨터가 배열에서 선형 검색을 수행하는 데 필요한 최대 단계 수는 ??"
   ]
  },
  {
   "cell_type": "markdown",
   "metadata": {},
   "source": [
    "- 찾는 값이 배열의 마지막 셀에 있다면 컴퓨터는 찾고자 하는 값을 발견할 때까지 배열의 모든 셀을 검색\n",
    "- 또한, 찾고 있는 값이 배열의 어떤 셀에도 없으면 마찬가지로 모든 셀을 검색해야 비로소 배열에 값이 없다고 확실할 수 있다."
   ]
  },
  {
   "cell_type": "markdown",
   "metadata": {},
   "source": [
    "### 즉 N개의 셀로 이뤄진 배열은 선형 검색에 최대 N개의 단계가 필요하다고 말할 수 있다."
   ]
  },
  {
   "cell_type": "markdown",
   "metadata": {},
   "source": [
    "- 이때 N은 어떤 수든 넣을 수 있는 단순한 변수다"
   ]
  }
 ],
 "metadata": {
  "kernelspec": {
   "display_name": "Python 3",
   "language": "python",
   "name": "python3"
  },
  "language_info": {
   "codemirror_mode": {
    "name": "ipython",
    "version": 3
   },
   "file_extension": ".py",
   "mimetype": "text/x-python",
   "name": "python",
   "nbconvert_exporter": "python",
   "pygments_lexer": "ipython3",
   "version": "3.7.1"
  }
 },
 "nbformat": 4,
 "nbformat_minor": 2
}
