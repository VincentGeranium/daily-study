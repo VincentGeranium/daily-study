{
 "cells": [
  {
   "cell_type": "markdown",
   "metadata": {},
   "source": [
    "# 빅 오 표기법"
   ]
  },
  {
   "cell_type": "markdown",
   "metadata": {},
   "source": [
    "- 컴퓨터 과학자는 서로 간에 시간 복잡도를 쉽게 소통할 목적으로 자료 구조와 알고리즘의 효율성을 간결하고 일관된 언어로 설명하기 위해 수학적 개념을 차용했다\n",
    "    - 이러한 개념을 형식화한 표현을 빅 오 표기법 이라 부른다\n",
    "    - 빅 오 표기법을 사용해 주어진 알고리즘의 효율성을 쉽게 분류하고 이해시킬 수 있다\n",
    "    - 빅 오 표기법을 알면 일관되고 간결한 방법으로 어떤 알고리즘이든 분석할 수 있는 도구가 생간 셈이다"
   ]
  },
  {
   "cell_type": "markdown",
   "metadata": {},
   "source": [
    "## 빅 오 : 단계 수 계산"
   ]
  },
  {
   "cell_type": "markdown",
   "metadata": {},
   "source": [
    "- 빅 오는 시간 단위가 아닌 알고리즘에 필요한 단계 수만을 고려함으로써 일관성을 유지한다.\n",
    "    - 예를들어 배열 읽기에 필요한 단계 수는 배열의 크기와 상관없이 딱 한 단계였다\n",
    "        - 빅 오 표기법으로 표현하면 O(1)\n",
    "        - \"빅 오 1\"이라고 발음한다, \"차수 1\"이라고도 부른다\n",
    "            - 빅 오 표기법을 발음하는 방법은 여러 가지지만 표기법은 하나\n",
    "            - O(1)은 데이터 크기에 상관없이 알고리즘에 필요한 단계 수가 일정하다는 의미\n",
    "            - 배열 읽기는 배열에 얼마나 많은 데이터가 들어 있든 한 단계면 된다.\n",
    "            - 컴퓨터 마다 하드웨어 성능에 따라 한 단계를 수행하는 시간은 각각 다르지만 모두 배열 읽기에 필요한 단계 수는 하나다.\n",
    "            - O(1) 분류에 속하는 다른 연산으로는 배열 끝의 삽입과 삭제가 있다\n",
    "                - 어던 크기의 배열이든 두 연산에는 한 단계만 필요하므로 효율성을 O(1)이라 할 수 있다."
   ]
  },
  {
   "cell_type": "markdown",
   "metadata": {},
   "source": [
    "### 빅 오 표기법으로 선형 검색의 효율성을 표현하는 방법"
   ]
  },
  {
   "cell_type": "markdown",
   "metadata": {},
   "source": [
    "- 선형 검색은 한 번에 한 셀씩 확인해서 배열에서 특정 값을 검색\n",
    "    - 최악의 경우 선형 검색에는 배열의 원소 수만큼의 단계가 필요\n",
    "    - 배열에 N개의 원소가 있을 때 선형 검색은 최대 N단계까지 걸릴 수 있다\n",
    "    - 빅 오 표기법으로 표현하는 적절한 방법은 O(N)\n",
    "    - O(N)은 배열 내에 N개의 원소가 있을 때 알고리즘을 끝내는데 N개의 단계가 필요함을 표현하는 \"빅 오\"의 방법"
   ]
  }
 ],
 "metadata": {
  "kernelspec": {
   "display_name": "Python 3",
   "language": "python",
   "name": "python3"
  },
  "language_info": {
   "codemirror_mode": {
    "name": "ipython",
    "version": 3
   },
   "file_extension": ".py",
   "mimetype": "text/x-python",
   "name": "python",
   "nbconvert_exporter": "python",
   "pygments_lexer": "ipython3",
   "version": "3.7.1"
  }
 },
 "nbformat": 4,
 "nbformat_minor": 2
}
