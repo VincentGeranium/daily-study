{
 "cells": [
  {
   "cell_type": "markdown",
   "metadata": {},
   "source": [
    "# 상수 시간과 선형 시간"
   ]
  },
  {
   "cell_type": "markdown",
   "metadata": {},
   "source": [
    "- 빅 오 표기법은 알고리즘에 얼마나 많은 단계가 필요한지를 알고리즘이 처리할 데이터 원소 수에 따라 설명\n",
    "    - 빅 오는 \"데이터가 증가할수록 단계 수는 어떻게 변하는가?\"에 대한 답을 한다\n",
    "        - O(N) 알고리즘은 데이터 원소 수만큼의 단계가 필요하다.\n",
    "            - 배열에 원소 하나가 추가되면 O(N) 알고리즘은 한 단계 늘어난다\n",
    "            - O(1) 알고리즘은 배열이 얼마나 커지든 단계 수가 같다"
   ]
  },
  {
   "cell_type": "markdown",
   "metadata": {},
   "source": [
    "#### O(N) 알고리즘과 O(1) 알고리즘을 그래프로"
   ]
  },
  {
   "attachments": {},
   "cell_type": "markdown",
   "metadata": {},
   "source": [
    "<img src = \"Algorithm_Graph.png\">"
   ]
  },
  {
   "cell_type": "markdown",
   "metadata": {},
   "source": [
    "- O(N)은 완벽한 대각선을 그린다\n",
    "    - 데이터가 하나씩 추가될 때마다 알고리즘이 한 단계씩 더 걸리기 때문이다.\n",
    "    - 따라서 데이터가 많아질수록 알고리즘에 필요한 단계 수도 늘어난다.\n",
    "    - 이러한 이유로 O(N)을 \"선형 시간(linear time)\"이라고도 부른다"
   ]
  },
  {
   "cell_type": "markdown",
   "metadata": {},
   "source": [
    "- O(1)은 완벽한 수평선을 그린다\n",
    "    - 데이터가 얼마나 많든 상관없이 알고리즘에 걸리는 단계 수가 항상 일정하기 때문이다\n",
    "    - 이러한 이유로 O(1)을 \"상수 시간(constant time)\"이라고도 부른다"
   ]
  },
  {
   "cell_type": "markdown",
   "metadata": {},
   "source": [
    "- 빅 오는 본래 데이터 양이 변할 때 알고리즘의 성능이 어떻게 변하는가를 설명\n",
    "    - 두 단계 이상 걸리는 알고리즘일지라도 O(1)으로 설명할 수 있다"
   ]
  },
  {
   "cell_type": "markdown",
   "metadata": {},
   "source": [
    "#### 예시를 통한 O(1) 알고리즘 설명"
   ]
  },
  {
   "cell_type": "markdown",
   "metadata": {},
   "source": [
    "- 예를들어 데이터가 아무리 커지더라도 항상(한 단계가 아니라)세 단계가 걸리는 어떤 알고리즘이 있다고하자.\n",
    "    - 데이터가 아무리 늘어나도 단계 수는 상수로 유지되므로 상수 시간이라 할 수 잇으며 빅 오 표기법으로는 O(1)이라 설명할 수 있다\n",
    "    - 엄밀히 말하면 알고리즘에 한 단계보다 많은 세 단계가 걸리지만 빅 오 표기법은 이를 사소하게 여긴다\n",
    "        - O(1)은 데이터가 아무리 커지더라도 단계 수가 변하지 않는 \"모든\" 알고리즘을 표현하는 방법이다\n",
    "            - 심지어 상수 100단계가 걸리는 알고리즘도 O(1)이라 표현할 수 있다\n",
    "                - 100단계가 걸리는 알고리즘이 한 단계가 걸리는 알고리즘보다 덜 효율적이지만 O(1)의 의미는 어떤 O(N) 알고리즘보다도 \"더 효율적\"이라는 뜻이다"
   ]
  },
  {
   "cell_type": "markdown",
   "metadata": {},
   "source": [
    "#### 원소가 100개 이하인 배열에서는 O(N)알고리즘이 100단계가 걸리는 O(1)알고리즘 보다 단계 수가 적게 걸린다\n",
    "    - 원소가 정확히 100개인 배열에서는 두 알고리즘에 동일하게 100단계가 걸린다\n",
    "- 핵심은 \"100보다 큰 모든 배열\"에서는 O(N) 알고리즘에 더 많은 단계가 걸린다\n",
    "- 변화가 생기는 \"일정량의\"데이터가 항상 있을 것이고 O(N)은 그 순간부터 무한대까지 더 많은 단계가 걸리므로 O(N)은 전반적으로 O(1)보다 덜 효율적이라 할 수 있다\n",
    "    - 항상 백만 단계가 걸리는 O(1) 알고리즘이라도 마찬가지다. 데이터가 증가할수록 O(N)이 O(1)보다 덜 효율적인 어떤 지점에 반드시 다다르게 되며, 이 지점부터 데이터 양이 무한대로 갈 때까지 바뀌지 않는다"
   ]
  }
 ],
 "metadata": {
  "kernelspec": {
   "display_name": "Python 3",
   "language": "python",
   "name": "python3"
  },
  "language_info": {
   "codemirror_mode": {
    "name": "ipython",
    "version": 3
   },
   "file_extension": ".py",
   "mimetype": "text/x-python",
   "name": "python",
   "nbconvert_exporter": "python",
   "pygments_lexer": "ipython3",
   "version": "3.7.1"
  }
 },
 "nbformat": 4,
 "nbformat_minor": 2
}
