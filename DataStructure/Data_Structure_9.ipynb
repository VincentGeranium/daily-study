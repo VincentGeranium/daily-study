{
 "cells": [
  {
   "cell_type": "markdown",
   "metadata": {},
   "source": [
    "# Binary search (이진 탐색)"
   ]
  },
  {
   "cell_type": "markdown",
   "metadata": {},
   "source": [
    "- 선형 검색은 원하는 값을 찾을 때가지 모든 셀을 검색하는 절차\n",
    "    - 선형 검색은 \"알고리즘 중 하나일 뿐\"\n",
    "    - 선형 검색이 값을 검색하는 데 사용할 수 있는 \"유일한\" 알고리즘은 아니다\n",
    "- 정렬된 배열이 배열보다 크게 두드러진 장점은 다른 검색 알고리즘을 쓸 수 있다는 점\n",
    "    - 이러한 알고리즘을 이진 검색(binary search)이라 부른다\n",
    "    - 이진 검색은 선형 검색보다 \"훨씬\" 빠르다.\n",
    "- 배열과 달리 정렬된 배열은 선형 검색 대신 이진 검색을 수행할 수 있다는 큰 장점이 있다.\n",
    "    - 배열은 값의 순서가 뒤죽박죽이므로 이진 검색을 할 수 없다."
   ]
  },
  {
   "cell_type": "markdown",
   "metadata": {},
   "source": [
    "## 예제를 통한 이진 검색"
   ]
  },
  {
   "cell_type": "markdown",
   "metadata": {},
   "source": [
    "### 예저를 통해 단계별로 설명"
   ]
  },
  {
   "cell_type": "markdown",
   "metadata": {},
   "source": [
    "```\n",
    "ordered array = [?][?][?][?][?][?][?][?][?]\n",
    "```"
   ]
  },
  {
   "cell_type": "markdown",
   "metadata": {},
   "source": [
    "- 원소 9개를 포함하는 정렬된 배열이 있다\n",
    "    - 컴퓨터는 각 셀에 어떤 값이 있는지 알 수 없다\n",
    "    - 정렬된 배열에서 값 7을 찾는다고 하자\n",
    "        - 이진 검색을 사용해서 값 7을 찾을 수 있다."
   ]
  },
  {
   "cell_type": "markdown",
   "metadata": {},
   "source": [
    "```\n",
    "ordered array = [?][?][?][?][9/][/][/][/][/]\n",
    "```"
   ]
  },
  {
   "cell_type": "markdown",
   "metadata": {},
   "source": [
    "- 1. 가운데 셀부터 검색을 시작, 배열의 길이를 알고 있으므로 가운데 셀에 쉽게 접근, 길이를 2로 나누면 적절한 메모리 주소로 바로 이동 할 수 있다\n",
    "    - 가운데 셀의 값을 확인한다\n",
    "    - 가운데 값이 9이면 값이 9로 드러났으므로 7은 왼쪽 어딘가에 있다고 판단가능\n",
    "        - 배열에 있는 셀의 절반, 즉 9보다 오른쪽에 있는 모든 셀(과 9 자신)을 제거"
   ]
  },
  {
   "cell_type": "markdown",
   "metadata": {},
   "source": [
    "```\n",
    "ordered array = [?][4][?][?][9/][/][/][/][/]\n",
    "```"
   ]
  },
  {
   "cell_type": "markdown",
   "metadata": {},
   "source": [
    "- 2. 9보다 왼쪽에 있는 셀들 중 가운데 값을 확인\n",
    "    - 가운데 값이 두 개이므로 임의로 왼쪽 값을 선택\n",
    "    - 이 셀의 값은 4이면 7은 오른쪽 어디에 있어야 한다\n",
    "        - 4와 그 왼쪽 셀을 제거한다"
   ]
  },
  {
   "cell_type": "markdown",
   "metadata": {},
   "source": [
    "```\n",
    "ordered array = [?/][4/][?][?][9/][/][/][/][/]\n",
    "```"
   ]
  },
  {
   "cell_type": "markdown",
   "metadata": {},
   "source": [
    "- 3. 7일 수 있는 셀이 두 개 남음\n",
    "    - 임의로 왼쪽 셀을 선택"
   ]
  },
  {
   "cell_type": "markdown",
   "metadata": {},
   "source": [
    "```\n",
    "ordered array = [?/][4/][6][7][9/][/][/][/][/]\n",
    "```"
   ]
  },
  {
   "cell_type": "markdown",
   "metadata": {},
   "source": [
    "- 4. 마지막 남은 셀을 확인한다\n",
    "    - 여기에 7이 없다면 이 정렬된 배열에는 7이 없다는 뜻이다."
   ]
  },
  {
   "cell_type": "markdown",
   "metadata": {},
   "source": [
    "#### 4단계 만에 7을 성공적으로 찾을 수 있다."
   ]
  }
 ],
 "metadata": {
  "kernelspec": {
   "display_name": "Python 3",
   "language": "python",
   "name": "python3"
  },
  "language_info": {
   "codemirror_mode": {
    "name": "ipython",
    "version": 3
   },
   "file_extension": ".py",
   "mimetype": "text/x-python",
   "name": "python",
   "nbconvert_exporter": "python",
   "pygments_lexer": "ipython3",
   "version": "3.7.1"
  }
 },
 "nbformat": 4,
 "nbformat_minor": 2
}
