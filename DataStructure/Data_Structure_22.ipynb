{
 "cells": [
  {
   "cell_type": "markdown",
   "metadata": {},
   "source": [
    "# Data Structure\n",
    "## Chapter 7"
   ]
  },
  {
   "cell_type": "markdown",
   "metadata": {},
   "source": [
    "## 7.3 재미와 이익, 특히 이익을 남길 유의어 사전 만들기"
   ]
  },
  {
   "cell_type": "markdown",
   "metadata": {},
   "source": [
    "- 당신은 유의어 사전 앱을 만드는 중이다. 이 앱의 이름은 Quickasaurus(퀵사우르스)다\n",
    "- 사용자가 Quickasaurus에서 단어를 룩업하면 구식 유의어 사전 앱처럼 가능한 유의어를 모두 반환하는 대신 그 단어의 가장 \"인기 있는\" 유의어를 반환한다\n",
    "- 모든 단어에는 각각 연관된 동의어가 있으므로 동의어는 해시 테이블의 좋은 사용 사례(use case)이다\n",
    "- #### 해시 테이블은 쌍으로 이뤄진 항목들의 리스트이니 말이다"
   ]
  },
  {
   "cell_type": "markdown",
   "metadata": {},
   "source": [
    "### 다음과 같이 해시 테이블로 유의어 사전을 표현할 수 있다\n",
    "\n",
    "```\n",
    "thesaurus = {}\n",
    "```"
   ]
  },
  {
   "cell_type": "markdown",
   "metadata": {},
   "source": [
    "### 배열과 유사하게 해시 테이블은 내부적으로 데이터를 한 줄로 이뤄진 셀 묶음에 저장한다\n",
    "- #### 각 셀마다 주소가 있다\n",
    "    - 예를 들면 각 셀에 1,2,3,4,5,6,7... 번호로 주소가 있다고 가정"
   ]
  },
  {
   "cell_type": "markdown",
   "metadata": {},
   "source": [
    "### 첫 번째 항목을 해시에 추가해 보자\n",
    "\n",
    "```\n",
    "thesaurus[\"bad\"] = \"evil\"\n",
    "```"
   ]
  },
  {
   "cell_type": "markdown",
   "metadata": {},
   "source": [
    "### 코드로 표현하면 해시 테이블은 이제 다음과 같다\n",
    "\n",
    "```\n",
    "{\"bad\" => \"evil\"}\n",
    "```"
   ]
  },
  {
   "cell_type": "markdown",
   "metadata": {},
   "source": [
    "### 해시 테이블이 데이터를 어떻게 저장하는지 알아보자\n",
    "- #### 먼저 컴퓨터는 키에 해시 함수를 적용한다\n",
    "    - \"곱셈\" 해시 함수를 사용해서 설명\n",
    "        - #### BAD = 2 * 1 * 4 = 8 \n",
    "- #### 키 (\"BAD\")는 8로 해싱되므로 컴퓨터는 값 (\"evil\")을 셀 8에 넣는다"
   ]
  },
  {
   "cell_type": "markdown",
   "metadata": {},
   "source": [
    "### 이제 다른 키/값 쌍을 추가해 보자\n",
    "\n",
    "```\n",
    "thesaurus[\"cab\"] = \"taxi\"\n",
    "```"
   ]
  },
  {
   "cell_type": "markdown",
   "metadata": {},
   "source": [
    "### 다시 한번 컴퓨터는 키를 해싱한다\n",
    "- #### CAB = 3 * 1 * 2 = 6\n",
    "- #### 결과값이 6이므로 컴퓨터는 값 (\"taxi\")를 셀 6에 저장한다"
   ]
  },
  {
   "cell_type": "markdown",
   "metadata": {},
   "source": [
    "### 다른 키/값 쌍을 하나 더 추가해 보자\n",
    "```\n",
    "thesaurus[\"ace\"] = \"star\"\n",
    "```"
   ]
  },
  {
   "cell_type": "markdown",
   "metadata": {},
   "source": [
    "### 컴퓨터는 키를 해싱한다\n",
    "- #### ACE = 1 * 3 * 5 = 15\n",
    "- #### 결과값이 15이므로 컴퓨터는 값 (\"star\")를 셀 15에 저장한다"
   ]
  },
  {
   "cell_type": "markdown",
   "metadata": {},
   "source": [
    "### 코드로 표현하면 해시 테이블은 현재 다음과 같다.\n",
    "\n",
    "```\n",
    "{\"bad\" => \"evil\", \"cab\" => \"taxi\" , \"ace\" => \"star\"}\n",
    "```"
   ]
  },
  {
   "cell_type": "markdown",
   "metadata": {},
   "source": [
    "### 해시 테이블을 만들었으므로 해시 테이블에서 값을 어떻게 룩업하는지 알아보자\n",
    "- #### 키 \"bad\"의 값을 룩업하고 싶다고 하자\n",
    "- #### 코드로는 다음과 같을 것이다\n",
    "\n",
    "```\n",
    "thesaurus[\"bad\"]\n",
    "```"
   ]
  },
  {
   "cell_type": "markdown",
   "metadata": {},
   "source": [
    "### 컴퓨터는 간단히 두 단계를 실행한다\n",
    "- #### 1. 컴퓨터는 룩업하고 있는 키를 해싱한다. BAD = 2 * 1 * 4 = 8\n",
    "- #### 2. 결과가 8이므로 셀 8을 찾아가서 저장된 값을 반환한다. 여기서 문자열 \"evil\"이다"
   ]
  },
  {
   "cell_type": "markdown",
   "metadata": {},
   "source": [
    "### 이제 왜 해시 테이블의 값 룩없이 전형적으로 O(1)인지 명확해졌다\n",
    "- #### O(1)은 상수 시간이 걸리는 절차다\n",
    "- #### 컴퓨터는 룩업하고 있는 키를 해싱해서 해당하는 값을 얻고 그 값에 해당하는 셀로 바로 간다"
   ]
  },
  {
   "cell_type": "markdown",
   "metadata": {},
   "source": [
    "### 왜 해시 테이블이 배열보다 식당 메뉴를 더 빠르게 룩업할 수 있는지 이해할 수 있을 것이다\n",
    "- #### 배열에서 메뉴 항목의 값을 룩업하려면 항목을 찾을 때까지 각 셀을 순회하며 검색해야 했다.\n",
    "- #### 정렬되지 않은 배열에서는 최대 O(N)이 걸리며 정렬된 배열에서는 최대 O(log N)이 걸린다\n",
    "- #### 하지만 해시 테이블을 쓰면 실제 메뉴 항목을 키로 사용해서 해시 테이블 룩업을 O(1) 만에 할 수 있다"
   ]
  }
 ],
 "metadata": {
  "kernelspec": {
   "display_name": "Python 3",
   "language": "python",
   "name": "python3"
  },
  "language_info": {
   "codemirror_mode": {
    "name": "ipython",
    "version": 3
   },
   "file_extension": ".py",
   "mimetype": "text/x-python",
   "name": "python",
   "nbconvert_exporter": "python",
   "pygments_lexer": "ipython3",
   "version": "3.7.1"
  }
 },
 "nbformat": 4,
 "nbformat_minor": 2
}
