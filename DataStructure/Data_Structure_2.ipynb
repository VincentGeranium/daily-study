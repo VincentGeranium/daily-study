{
 "cells": [
  {
   "cell_type": "markdown",
   "metadata": {},
   "source": [
    "# 1. 배열"
   ]
  },
  {
   "cell_type": "markdown",
   "metadata": {},
   "source": [
    "## 1.1 읽기"
   ]
  },
  {
   "cell_type": "markdown",
   "metadata": {},
   "source": [
    "- 배열에 쓰이는 연산 중 하나\n",
    "- 배열 내 특정 인덱스에 어떤 값이 들어 있는지 찾아보는 것\n",
    "- 배열에서 읽기는 실제로 딱 한 단계이다\n",
    "    - 컴퓨터는 배열 내 특정 인덱스에 한 번에 접근해서 볼 수 있기 때문이다"
   ]
  },
  {
   "cell_type": "code",
   "execution_count": 2,
   "metadata": {},
   "outputs": [],
   "source": [
    "grocery = [\"apples\" , \"bananas\" , \"cucumbers\" , \"dates\" , \"elderberries\"]"
   ]
  },
  {
   "cell_type": "code",
   "execution_count": 5,
   "metadata": {},
   "outputs": [
    {
     "data": {
      "text/plain": [
       "2"
      ]
     },
     "execution_count": 5,
     "metadata": {},
     "output_type": "execute_result"
    }
   ],
   "source": [
    "grocery.index(\"cucumbers\")"
   ]
  },
  {
   "cell_type": "markdown",
   "metadata": {},
   "source": [
    "- 인덱스 2를 찾아본다면 컴퓨터는 인덱스 2로 바로 가서 \"cucumbers\"라는 값이 있다고 알려준다"
   ]
  },
  {
   "cell_type": "markdown",
   "metadata": {},
   "source": [
    "#### 컴퓨터가 한 단계로 배열의 인덱스를 찾는 방법"
   ]
  },
  {
   "cell_type": "markdown",
   "metadata": {},
   "source": [
    "- 컴퓨터의 메모리는 셀로 구성된 거대한 컬렉션이라 할 수 있다.\n",
    "    - 어떤 셀은 비어 있고, 어떤 셀에는 데이터가 들어있다.\n",
    "    - 프로그램에서 배열을 선언하면 컴퓨터는 프로그램이 쓸 수 있는 연속된 빈 셀들의 집합을 할당한다\n",
    "        - 예를 들어 원소 다섯 개를 넣을 배열을 생서하면 컴퓨터는 한 줄에서 5개의 빈 셀 그룹을 찾아 사용자가 사용할 배열로 지정한다.\n",
    "    - 컴퓨터 메모리 내에 각 셀에는 특정 주소가 있다\n",
    "        - 각 셀의 메모리 주소는 앞 셀의 주소에서 1씩 증가한다"
   ]
  },
  {
   "cell_type": "markdown",
   "metadata": {},
   "source": [
    "#### 컴퓨터가 배열의 특정 인덱스에 있는 값을 읽을 때 한 번의 단계로 바로 갈 수 있는 데는 다음과 같은 점들이 복합적으로 작용한다"
   ]
  },
  {
   "cell_type": "markdown",
   "metadata": {},
   "source": [
    "- 1. 컴퓨터는 모든 메모리 주소에 한 번에 갈 수 있다\n",
    "- 2. 각 배열에 저장된 내용은 메모리의 시작 주소다\n",
    "    - 따라서 컴퓨터는 손쉽게 시작 주소를 얻는다\n",
    "- 3. 배열의 인덱스는 0부터 시작한다"
   ]
  },
  {
   "cell_type": "markdown",
   "metadata": {},
   "source": [
    "- 배열 읽기는 한 단계 만에 끝나는 매우 효율적인 연산\n",
    "- 배열이 강력한 자료 구조인 이유 중 하나는 어떤 인덱스의 값이든 빠르게 찾을 수 있기 때문이다"
   ]
  },
  {
   "cell_type": "code",
   "execution_count": null,
   "metadata": {},
   "outputs": [],
   "source": []
  }
 ],
 "metadata": {
  "kernelspec": {
   "display_name": "Python 3",
   "language": "python",
   "name": "python3"
  },
  "language_info": {
   "codemirror_mode": {
    "name": "ipython",
    "version": 3
   },
   "file_extension": ".py",
   "mimetype": "text/x-python",
   "name": "python",
   "nbconvert_exporter": "python",
   "pygments_lexer": "ipython3",
   "version": "3.7.1"
  }
 },
 "nbformat": 4,
 "nbformat_minor": 2
}
