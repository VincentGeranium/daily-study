{
 "cells": [
  {
   "cell_type": "markdown",
   "metadata": {},
   "source": [
    "# Data Structure\n",
    "## Chapter 7"
   ]
  },
  {
   "cell_type": "markdown",
   "metadata": {},
   "source": [
    "## 7.해시 테이블로 매우 빠른 룩업"
   ]
  },
  {
   "cell_type": "markdown",
   "metadata": {},
   "source": [
    "- 패스트푸드점에서 손님이 음식을 주문할 수 있는 프로그램을 작성 중이며, 음식마다 각각 가격이 있는 메뉴를 구현하고 있다고 상상해 보자\n",
    "    - 물론 배열을 사용할 수도 있다\n",
    "    \n",
    "    ```\n",
    "    menu = [[\"french fries , 0.75\"] , [\"hamburger\" , 2.5],[\"hot dog\" , 1.5] , [\"soda\" , 0.6]]\n",
    "    ```"
   ]
  },
  {
   "cell_type": "markdown",
   "metadata": {},
   "source": [
    "- 위 배열은 몇 개의 하위 배열을 포함하며 각 하위 배열은 두 원소를 포함한다\n",
    "- 첫 번째 원소는 메뉴의 음식을 표현하는 문자열이고, 두 번째 원소는 그 음식의 가격을 표현한다"
   ]
  },
  {
   "cell_type": "markdown",
   "metadata": {},
   "source": [
    "- #### \"2장 알고리즘이 중요한 까닭\"에서 배웠듯이 위 배열이 정렬되어 있지 않다면 컴퓨터가 선형 검색을 수행해야 하므로 주어진 음식의 가격을 검색하는 데 O(N) 단계가 걸린다\n",
    "- #### \"정렬된\" 배열이라면 컴퓨터가 이진 검색을 수행할 수 있으므로 O(log N)이 걸린다"
   ]
  },
  {
   "cell_type": "markdown",
   "metadata": {},
   "source": [
    "- #### O(log N)도 나쁘지 않지만 더 좋아질 수 있다\n",
    "    - 훨씬 더 좋아질 수 있다\n",
    "- #### 데이터를 O(1) 만에 룩업할 수 있는 \"해시 테이블\"이라는 특수한 자료 구조\n",
    "\n",
    "### 해시 테이블이 내부적으로 어떻게 동작하는지, 그리고 해시 테이블을 어디에 사용하면 좋을지를 알면 많은 상황에서 해시 테이블의 엄청난 룩업 속도를 활용할 수 있다"
   ]
  },
  {
   "cell_type": "markdown",
   "metadata": {},
   "source": [
    "## 7.1 해시 테이블 소개"
   ]
  },
  {
   "cell_type": "markdown",
   "metadata": {},
   "source": [
    "- #### 대부분의 프로그래밍 언어는 \"해시 테이블(hash table)\"이라는 자료 구조를 포함하며, 해시 테이블에는 빠른 읽기라는 놀랍고 엄청난 능력이 있다\n",
    "- #### Hash Table은 다양한 프로그래밍 언어에서 서로 다른 이름으로 불린다\n",
    "    - #### Hash, Map, Hash Map, Dictionary, 연관 배열 등의 이름을 갖는다\n",
    "\n",
    "### 다음은 해시 테이블을 사용해 루비로 구현한 메뉴 예제이다\n",
    "\n",
    "```\n",
    "menu = {\"french fries\" => 0.75, \"hamburger\" => 2.5, \"hot dog\" => 1.5, \"soda\" => 0.6}\n",
    "```"
   ]
  },
  {
   "cell_type": "markdown",
   "metadata": {},
   "source": [
    "### 해시 테이블은 쌍으로 이뤄진 값들의 리스트다\n",
    "- #### 첫 번째 항목을 키라 부르고, 두 번째 항목을 값이라고 부른다\n",
    "- #### 해시 테이블에서 키와 값은 서로 중요한 관계다\n",
    "    - #### 예제에서는 \"french fries\"라는 문자열이 키고 0.75가 값이다\n",
    "    - 프렌치 프라이가 75센트임을 가리키기 위해 한 쌍으로 연결된다"
   ]
  },
  {
   "cell_type": "markdown",
   "metadata": {},
   "source": [
    "### 루비에서는 다음과 같은 문법으로 키의 값을 룩업할 수 있다\n",
    "\n",
    "```\n",
    "menu[\"french fries\"]\n",
    "```\n",
    "\n",
    "- 위 코드는 0.75라는 값을 반환한다\n",
    "- #### 해시 테이블 값 룩없은 딱 한 단계만 걸리므로 평균적으로 효율성이 O(1)이다"
   ]
  }
 ],
 "metadata": {
  "kernelspec": {
   "display_name": "Python 3",
   "language": "python",
   "name": "python3"
  },
  "language_info": {
   "codemirror_mode": {
    "name": "ipython",
    "version": 3
   },
   "file_extension": ".py",
   "mimetype": "text/x-python",
   "name": "python",
   "nbconvert_exporter": "python",
   "pygments_lexer": "ipython3",
   "version": "3.7.1"
  }
 },
 "nbformat": 4,
 "nbformat_minor": 2
}
