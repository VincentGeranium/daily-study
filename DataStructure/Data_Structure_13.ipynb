{
 "cells": [
  {
   "cell_type": "markdown",
   "metadata": {},
   "source": [
    "# 같은 알고리즘, 다른 시나리오"
   ]
  },
  {
   "cell_type": "markdown",
   "metadata": {},
   "source": [
    "- 선형 검색이 항상 O(N)은 아니다\n",
    "    - 찾고 있는 항목이 배열의 마지막 셀에 있다면 찾는 데 N 단계가 걸린다\n",
    "    - 하지만 원하던 항목을 배열의 첫 번째 셀에서 찾았다면 선형 검색은 단 한 단계 만에 항목을 찾은 것이다\n",
    "        - 엄밀히 말해 O(1)이라 할 수 있다.\n",
    "- 전체적인 관점에서 선형 검색의 효율성을 설명한다면 \"최선의\"시나리오에서는 O(1), \"최악의\"시나리오에서는 O(N)이라 할 수 있다\n",
    "\n",
    "- 빅 오가 주어진 알고리즘의 최선과 최악의 시나리오를 효과적으로 설명하긴 하지만, 별도로 명시하지는 않는 항 빅 오 표기법은 일반적으로 최악의 시나리오를 의미한다\n",
    "- 선형 검색이 최선의 시나리오에서 O(1)일 수 있음에도 대부분은 O(N)이라 설명한다\n",
    "    - 그 이유는 \"비관적인\" 접근이 유용한 도구일 수 있기 때문\n",
    "    - 최악의 시나리오에서 알고리즘이 얼마나 비효율적인지 정확히 알면 최악을 대비함과 동시에 알고리즘의 선택에 중요한 영향을 미친다"
   ]
  },
  {
   "cell_type": "markdown",
   "metadata": {},
   "source": [
    "# 세 번째 유형의 알고리즘"
   ]
  },
  {
   "cell_type": "markdown",
   "metadata": {},
   "source": [
    "#### 이진 검색을 빅 오 표기법의 관점에서 설명\n",
    "- 데이터가 커질수록 단계 수가 늘어나므로 이진 검색은 O(1)이라 표현할 수 없다\n",
    "    - 검색하고 있는 원소 수보다 단계 수가 훨씬 적으므로 O(N)의 부류에도 맞지 않는다\n",
    "    - 이진 검색은 O(1)과 O(N)사이 어디쯤엔가 있다\n",
    "\n",
    "- 빅 오는 이진 검색의 시간 복잡도를 다음과 같이 설명\n",
    "    - #### O(log N)\n",
    "- 이러한 유형의 알고리즘을 \"로그 시간(log time)\"의 시간 복잡도라고 말한다\n",
    "- O(log N)은  \"데이터가 두 배로 증가할 때마다 한 단계씩 늘어나는\" 알고리즘을 설명하는 빅 오의 방법\n",
    "    - O(log N)을 이해하려면 먼저 \"로가리즘\"이 무엇인지 알아야 한다"
   ]
  },
  {
   "cell_type": "markdown",
   "metadata": {},
   "source": [
    "# 로가리즘"
   ]
  },
  {
   "cell_type": "markdown",
   "metadata": {},
   "source": [
    "- 로그는 \"로가리즘(logarithm)\"의 줄임말\n",
    "- 로가리즘은 \"지수\"와 역(inverse)의 관계\n",
    "\n",
    "- 지수가 무엇인지 예시를 통해 알아본다\n",
    "    - 예제 1\n",
    "        - $2^3$ 은 $2*2*2$ 와 동치로서 값이 8이다\n",
    "        - 2를 세번 곱해야 8이 나오므로 $log_28 = 3$이다\n",
    "    - 예제 2\n",
    "        - $2^6$ 은 $2*2*2*2*2*2$와 동치로서 값이 64이다\n",
    "        - 2를 여섯 번 곱해야 64가 나오므로 $log_264 = 6$이다\n",
    "\n",
    "- 위의 내용을 다른 방법으로 설명과 예시\n",
    "    - $log_28 = 3$\n",
    "        - 1이 될 때까지 8을 2로 계속해서 나눌때 등식에 얼마나 많은 2가 등장할까?\n",
    "            - 8/2/2/2 = 1\n",
    "        - 다시 말해 1이 나올 때까지 8을 2로 몇 번 나눠야 할까?\n",
    "            - 총 3번이다\n",
    "            - 따라서 $log_28 = 3$이다\n",
    "    - $log_264 = 6$\n",
    "        - 1이 될 때까지 64를 몇 번이나 반으로 나눠야 할까?\n",
    "            - 64/2/2/2/2/2/2 = 1\n",
    "        - 2가 6개이므로 $log_264 = 6$ 이다.\n",
    "\n",
    "### 로가리즘이 무엇인지 이해하면 O(log N)의 의미를 더 명확히 알 수 있다"
   ]
  },
  {
   "cell_type": "markdown",
   "metadata": {},
   "source": [
    "--------------------------------------------------------------------------------------------------------------------------------"
   ]
  },
  {
   "cell_type": "markdown",
   "metadata": {},
   "source": [
    "# O(log N) 해석"
   ]
  },
  {
   "cell_type": "markdown",
   "metadata": {},
   "source": [
    "- 로가리즘을 접목해서 빅 오 표기법을 다시 논해 보자\n",
    "- O(log N)은 $O(log_2N)$을 줄여 부르는 말\n",
    "    - 편의를 위해 첨자 2를 생략\n",
    "- O(N)은 데이터 원소가 N개 있으면 알고리즘에서 N단계가 걸린다는 뜻이다\n",
    "    - 원소가 8개이면 이 알고리즘은 8단계가 걸린다\n",
    "- O(log N)은 데이터 원소가 N개 있으면 알고리즘에서 $log_2N$단계가 걸린다는 의미이다\n",
    "    - 원소가 8개이면 $log_28 = 3$이므로 이 알고리즘은 3단계가 걸린다\n",
    "        - 바꿔 말해 원소 8개를 절반으로 계속해서 나누면 원소가 하나 남을 때까지 3단계가 걸린다는 것이다\n",
    "- #### 이진 검색이 \"정확히\" 이렇게 동작한다\n",
    "    - 특정 항목을 찾을 때 정답 수에 도달할 때 까지 배열의 셀을 계속해서 반으로 나누며 범위를 좁혀 나간다\n",
    "    - 간단히 말해 O(log N)은 원소가 하나가 될 때까지 데이터 원소를 계속해서 반으로 줄이는 만큼의 단계 수가 걸린다는 뜻이다\n",
    "    \n",
    "- O(N) 알고리즘에는 데이터 원소 수만큼의 단계가 필요한 반면, O(log N)알고리즘에는 데이터 원소가 두 배로 늘어날 때마다 딱 한 단계만 더 필요하다"
   ]
  },
  {
   "cell_type": "markdown",
   "metadata": {},
   "source": [
    "# 실제 예제"
   ]
  },
  {
   "cell_type": "code",
   "execution_count": 1,
   "metadata": {},
   "outputs": [
    {
     "name": "stdout",
     "output_type": "stream",
     "text": [
      "Here's a thing: apples\n",
      "Here's a thing: baboons\n",
      "Here's a thing: cribs\n",
      "Here's a thing: dulcimers\n"
     ]
    }
   ],
   "source": [
    "things = ['apples', 'baboons', 'cribs', 'dulcimers']\n",
    "\n",
    "for thing in things:\n",
    "    print(\"Here's a thing: %s\"% thing)"
   ]
  },
  {
   "cell_type": "markdown",
   "metadata": {},
   "source": [
    "- 이 알고리즘의 효율성을 빅 오 표기법으로 어떻게 표현?\n",
    "    - 먼저 이 코드가 알고리즘 예제임을 알아야 한다\n",
    "        - 복잡하지 않을지라도 뭔가를 하는 코드는 모두 엄밀히 알고리즘, 즉 문제를 풀어나가는 절차이다\n",
    "    - 이 코드는 리스트의 모든 항목을 출력하고 싶다는 문제를 해결한다\n",
    "    - 이 문제를 푸는 데 사용한 알고리즘은 print문이 포함된 for루프다\n",
    "    \n",
    "- 문제를 더 작게 나누려면 알고리즘에 얼마나 많은 단계가 걸리는지 분석해야 한다\n",
    "    - 이 예제에서는 알고리즘의 핵심부인 for 루프에서 4단계가 걸린다.\n",
    "    - 리스트는 원소 4개를 포함하며 한 번에 하나씩 원소를 출력한다\n",
    "        - 하지만 이 과정은 상수가 아니다\n",
    "        - 리스트에 원소가 10개이면 for 루프는 10단계가 걸린다\n",
    "        - for 루프에 원소 수만큼 단계가 걸리므로 이 알고리즘의 효율성은 O(N)이라 할 수 있다"
   ]
  },
  {
   "cell_type": "markdown",
   "metadata": {},
   "source": [
    "#### 다른 예제"
   ]
  },
  {
   "cell_type": "code",
   "execution_count": 2,
   "metadata": {},
   "outputs": [
    {
     "name": "stdout",
     "output_type": "stream",
     "text": [
      "Hello world!\n"
     ]
    }
   ],
   "source": [
    "print(\"Hello world!\")"
   ]
  },
  {
   "cell_type": "markdown",
   "metadata": {},
   "source": [
    "- 위 알고리즘은 항상 한 단계만 걸리므로 시간 복잡도가 O(1)이다"
   ]
  },
  {
   "cell_type": "markdown",
   "metadata": {},
   "source": [
    "#### 다른 예제 2"
   ]
  },
  {
   "cell_type": "code",
   "execution_count": 13,
   "metadata": {},
   "outputs": [],
   "source": [
    "def is_prime(number):\n",
    "    for i in range(2, number):\n",
    "        if number % i == 0:\n",
    "            return False\n",
    "    return True"
   ]
  },
  {
   "cell_type": "code",
   "execution_count": 20,
   "metadata": {},
   "outputs": [
    {
     "data": {
      "text/plain": [
       "True"
      ]
     },
     "execution_count": 20,
     "metadata": {},
     "output_type": "execute_result"
    }
   ],
   "source": [
    "a = is_prime(7)\n",
    "a"
   ]
  },
  {
   "cell_type": "code",
   "execution_count": 22,
   "metadata": {},
   "outputs": [
    {
     "data": {
      "text/plain": [
       "False"
      ]
     },
     "execution_count": 22,
     "metadata": {},
     "output_type": "execute_result"
    }
   ],
   "source": [
    "b = is_prime(4)\n",
    "b"
   ]
  },
  {
   "cell_type": "markdown",
   "metadata": {},
   "source": [
    "- 이 코드는 number를 인자로 받아 2부터 number까지의 모든 수로 number를 나눠서 나머지가 있는지를 확인한다\n",
    "- 나머지가 없으면 당연히 이 수는 소수가 아니므로 바로 False를 반환한다\n",
    "- number까지 모두 나눴는데도 항상 나머지가 있으면 이 수는 당연히 소수이므로 True를 반환한다\n",
    "\n",
    "- 이때 알고리즘의 효율성은 O(N)이다\n",
    "    - 예제에서 데이터는 배열 형싱이 아니라 인자로 전달되는 실제 수다\n",
    "    - 숫자 7을 is_prime에 전달하면 for 루프는 7단계를 실행한다(실제로는 2에서 시작해서 실제 수 바로 전에 끝나므로 다섯 단계를 실행한다)\n",
    "    - 수가 101이면 루프는 101단계를 실행한다\n",
    "    - 함수로 전달된 수만큼 단계 수가 증가하므로 전형적인 O(N) 예제이다"
   ]
  }
 ],
 "metadata": {
  "kernelspec": {
   "display_name": "Python 3",
   "language": "python",
   "name": "python3"
  },
  "language_info": {
   "codemirror_mode": {
    "name": "ipython",
    "version": 3
   },
   "file_extension": ".py",
   "mimetype": "text/x-python",
   "name": "python",
   "nbconvert_exporter": "python",
   "pygments_lexer": "ipython3",
   "version": "3.7.1"
  }
 },
 "nbformat": 4,
 "nbformat_minor": 2
}
