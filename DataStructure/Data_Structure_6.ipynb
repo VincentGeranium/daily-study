{
 "cells": [
  {
   "cell_type": "markdown",
   "metadata": {},
   "source": [
    "# Set(집합)"
   ]
  },
  {
   "cell_type": "markdown",
   "metadata": {},
   "source": [
    "- 집합은 중복 값을 허용하지 않는 자료 구조"
   ]
  },
  {
   "cell_type": "markdown",
   "metadata": {},
   "source": [
    "#### 실제로 집합의 종류는 꽤 다양하지만 오늘 공부는 배열 기반 집합을 다룬다"
   ]
  },
  {
   "cell_type": "markdown",
   "metadata": {},
   "source": [
    "- 배열 기반 집합은 값들의 단순 리스트로 배열과 거의 비슷하다\n",
    "- 배열 기반 집합과 일반적인 배열 간 유일한 차이점은 집합은 중복 값의 삽입을 절대 허용하지 않는다는 점이다\n",
    "    - 예를 들어 [\"a\" , \"b\" , \"c\"]라는 집합에 또 다른 \"b\"를 추가하려고 하면 컴퓨터는 \"b\"가 이미 집합에 있으므로 삽입을 허용하지 않는다"
   ]
  },
  {
   "cell_type": "code",
   "execution_count": 1,
   "metadata": {},
   "outputs": [
    {
     "data": {
      "text/plain": [
       "{'a', 'b', 'c'}"
      ]
     },
     "execution_count": 1,
     "metadata": {},
     "output_type": "execute_result"
    }
   ],
   "source": [
    "alphabet = set([\"a\" , \"b\" , \"c\"])\n",
    "alphabet"
   ]
  },
  {
   "cell_type": "code",
   "execution_count": 2,
   "metadata": {},
   "outputs": [
    {
     "name": "stdout",
     "output_type": "stream",
     "text": [
      "<class 'set'>\n"
     ]
    }
   ],
   "source": [
    "print(type(alphabet))"
   ]
  },
  {
   "cell_type": "code",
   "execution_count": 3,
   "metadata": {},
   "outputs": [
    {
     "data": {
      "text/plain": [
       "{'a', 'b', 'c'}"
      ]
     },
     "execution_count": 3,
     "metadata": {},
     "output_type": "execute_result"
    }
   ],
   "source": [
    "alphabet.add(\"a\")\n",
    "alphabet"
   ]
  },
  {
   "cell_type": "markdown",
   "metadata": {},
   "source": [
    "- set 데이터는 중복값이 안들어간다"
   ]
  },
  {
   "cell_type": "code",
   "execution_count": 4,
   "metadata": {},
   "outputs": [
    {
     "data": {
      "text/plain": [
       "['a', 'b', 'c']"
      ]
     },
     "execution_count": 4,
     "metadata": {},
     "output_type": "execute_result"
    }
   ],
   "source": [
    "alphabetList = [\"a\" , \"b\" , \"c\"]\n",
    "alphabetList"
   ]
  },
  {
   "cell_type": "code",
   "execution_count": 5,
   "metadata": {},
   "outputs": [
    {
     "name": "stdout",
     "output_type": "stream",
     "text": [
      "<class 'list'>\n"
     ]
    }
   ],
   "source": [
    "print(type(alphabetList))"
   ]
  },
  {
   "cell_type": "code",
   "execution_count": 6,
   "metadata": {},
   "outputs": [
    {
     "data": {
      "text/plain": [
       "['a', 'a', 'b', 'c']"
      ]
     },
     "execution_count": 6,
     "metadata": {},
     "output_type": "execute_result"
    }
   ],
   "source": [
    "alphabetList.insert(0,\"a\")\n",
    "alphabetList"
   ]
  },
  {
   "cell_type": "markdown",
   "metadata": {},
   "source": [
    "- List형은 중복 허용"
   ]
  },
  {
   "cell_type": "markdown",
   "metadata": {},
   "source": [
    "#### 즉, 집합은 중복 데이터가 없어야 할 때 유용하다\n",
    "#### 집합은 중복을 허용하지 않는다는 간단한 제약을 받는 배열이다"
   ]
  },
  {
   "cell_type": "markdown",
   "metadata": {},
   "source": [
    "## 이러한 제약으로 인해 실제로 네 연산(읽기, 검색, 삽입, 삭제) 중 하나에서 집합의 효율성이 매우 달라진다"
   ]
  },
  {
   "cell_type": "markdown",
   "metadata": {},
   "source": [
    "#### 배열 기반 집합을 가지고 읽기와 검색, 삽입, 삭제 연산을 분석"
   ]
  },
  {
   "cell_type": "markdown",
   "metadata": {},
   "source": [
    "- 집합 읽기는 배열 읽기와 완전히 똑같다\n",
    "    - 컴퓨터가 특정 인덱스에 들어 있는 값을 찾는 데 한 단계면 된다\n",
    "    - 컴퓨터는 집합이 시작하는 메모리 주소를 알고 있으므로 집합 내 어떤 인덱스든 갈 수 있다."
   ]
  },
  {
   "cell_type": "markdown",
   "metadata": {},
   "source": [
    "- 집합의 검색도 배열의 검색과 아무런 차이가 없다\n",
    "    - 어떤 값이 집합 내에 존재하는지 알려면 검색에 최대 N단계까지 걸릴 수 있다"
   ]
  },
  {
   "cell_type": "markdown",
   "metadata": {},
   "source": [
    "- 집합의 삭제도 배열과 집합에서 동일하다\n",
    "    - 값을 삭제하고 빈 공간을 메꾸기 위해 N단계를 거쳐 데이터를 왼쪽으로 옮긴다"
   ]
  },
  {
   "cell_type": "markdown",
   "metadata": {},
   "source": [
    "- 집합의 삽입은 배열과 집합이 다르다\n",
    "    - 예를들어 집합의 맨 끝에 삽입하는 방법을 먼저 생각해 보자.\n",
    "        - 배열에서 컴퓨터는 1단계로 값을 끝에 삽입했다\n",
    "        - 집합에서는 \"먼저 이 값이 이미 집합에 들어 있는지 결정해야 한다\"\n",
    "        - 중복 데이터를 막는 게 바로 집합의 역활이기 때문이다.\n",
    "        - 따라서 모든 삽입에는 \"검색이 우선이다\"."
   ]
  },
  {
   "cell_type": "markdown",
   "metadata": {},
   "source": [
    "#### SET(집합)인 shoppingList에 맨 끝에 데이터 \"figs\"를 삽입하는 예시"
   ]
  },
  {
   "cell_type": "code",
   "execution_count": 7,
   "metadata": {},
   "outputs": [
    {
     "data": {
      "text/plain": [
       "{'apples', 'bananas', 'cucmbers', 'dates', 'elderberries'}"
      ]
     },
     "execution_count": 7,
     "metadata": {},
     "output_type": "execute_result"
    }
   ],
   "source": [
    "shoppingList = set([\"apples\" , \"bananas\" , \"cucmbers\" , \"dates\" , \"elderberries\"])\n",
    "shoppingList"
   ]
  },
  {
   "cell_type": "code",
   "execution_count": 8,
   "metadata": {},
   "outputs": [
    {
     "data": {
      "text/plain": [
       "set"
      ]
     },
     "execution_count": 8,
     "metadata": {},
     "output_type": "execute_result"
    }
   ],
   "source": [
    "type(shoppingList)"
   ]
  },
  {
   "cell_type": "markdown",
   "metadata": {},
   "source": [
    "#### 데이터를 삽입 하려면, 먼저 검색을 1번 수행한 후 다음의 단계를 거쳐야 한다"
   ]
  },
  {
   "cell_type": "markdown",
   "metadata": {},
   "source": [
    "- 1. 인덱스 0(\"apples\")에서 \"figs\"를 검색한다\n",
    "    - 인덱스 0에는 없지만 shoppingList 내 다른 곳에 있을 수 있다.\n",
    "        - \"figs\"가 어디에도 없음을 확실히 알아야 한다\n",
    "- 2. 인덱스 1(\"bananas\")를 검색한다\n",
    "- 3. 인덱스 2(\"cucumbers\")를 검색한다\n",
    "- 4. 인덱스 3(\"dates\")를 검색한다\n",
    "- 5. 인덱스 4(\"elderberries\")를 검색한다\n",
    "#### 집합을 전부 검색한 결과 shoppingList 집합 내 \"figs\"가 없으니 이제 \"figs\"를 삽입해도 문제가 없다\n",
    "- 6. 집합의 끝에 \"figs\"를 삽입한다"
   ]
  },
  {
   "cell_type": "markdown",
   "metadata": {},
   "source": [
    "#### 집합의 끝에 값을 삽입하는 게  5개의 원소가 있는 집합에 6단계를 수행해야 한다\n",
    "- 즉, 최종 삽입 단계를 수행하기 전에 5개의 원소를 전부 검색해야 했다."
   ]
  },
  {
   "cell_type": "markdown",
   "metadata": {},
   "source": [
    "### 집합의 삽입에서 원소 N개에 대해 N+1 단계가 필요하다.\n",
    "- 값이 집합에 없음을 확인하는 데 N단계의 검색\n",
    "- 실제 삽입에 1단계를 사용"
   ]
  },
  {
   "cell_type": "markdown",
   "metadata": {},
   "source": [
    "### 집합의 \"맨 앞\"에 삽입하는 것은 \n",
    "- 셀 N개를 검색\n",
    "- 집합이 그 값을 포함하지 않음을 확인한 후, 또 다른 N단계로 모든 데이터를 오른쪽으로 옮김\n",
    "- 마지막 단계에서 새 값을 삽입해야 한다\n",
    "### 총 2N+1 단계다"
   ]
  },
  {
   "cell_type": "markdown",
   "metadata": {},
   "source": [
    "### 삽입이 일반적인 배열보다 집합에서 느리다는 이유만으로 집합을 쓰지 말아햐 할까?"
   ]
  },
  {
   "cell_type": "markdown",
   "metadata": {},
   "source": [
    "- 중복 데이터가 없어야 할 때는 집합이 답이다\n",
    "- 하지만 이러한 요구사항(\"중복 데이터가 없어야 한다\")이 없다면 집합 삽입보다 배열 삽입이 더 효율적이므로 배열이 나을 수 있다"
   ]
  },
  {
   "cell_type": "markdown",
   "metadata": {},
   "source": [
    "## 애플리케이션의 요구사항을 먼저 분석한 후 어떤 자료 구조가 더 적합한지 결정해야 한다."
   ]
  }
 ],
 "metadata": {
  "kernelspec": {
   "display_name": "Python 3",
   "language": "python",
   "name": "python3"
  },
  "language_info": {
   "codemirror_mode": {
    "name": "ipython",
    "version": 3
   },
   "file_extension": ".py",
   "mimetype": "text/x-python",
   "name": "python",
   "nbconvert_exporter": "python",
   "pygments_lexer": "ipython3",
   "version": "3.7.1"
  }
 },
 "nbformat": 4,
 "nbformat_minor": 2
}
