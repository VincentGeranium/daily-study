{
 "cells": [
  {
   "cell_type": "markdown",
   "metadata": {},
   "source": [
    "# Binary Search VS Linear Search"
   ]
  },
  {
   "cell_type": "markdown",
   "metadata": {},
   "source": [
    "- 작은 크기의 정렬된 배열이라면 이진 검색 알고리즘이 선형 검색 알고리즘보다 크게 나은 점이 없다\n",
    "    - 배열이 더 커지면 다르다\n",
    "        - Ex) 100개의 값을 갖는 배열\n",
    "            - 선형 검색 : 100단계\n",
    "            - 이진 검색 : 7단계\n",
    "- 선형 검색에서는 찾고 있는 값이 마지막 셀에 있거나 마지막 셀의 값보다 크면 모든 원소를 조사해야 한다\n",
    "    - 원소가 100개인 배열이면 100단계가 걸린다.\n",
    "- 이진 검색에서는 추측할 때마다 검색해야 할 셀 중 절반을 제거할 수 있다\n",
    "    - 첫 번째 추측에서 셀을 50개나 제거해버린다"
   ]
  },
  {
   "cell_type": "markdown",
   "metadata": {},
   "source": [
    "#### 다른 관점에서 보았을 때 들어나는 이진 검색 패턴"
   ]
  },
  {
   "cell_type": "markdown",
   "metadata": {},
   "source": [
    "- 배열의 크기가 3일 때 이진 검색에 필요한 최대 단계 수는 2다\n",
    "    - 배열의 크기를 두 배로 늘리면(단순 계산을 위해 한 칸을 추가해 홀수로 유지) 크기가 7이 되고, 이진 검색에 필요한 최대 단계 수는 3이 된다\n",
    "    - 배열의 크기를 두 배(그리고 한 칸 더 추가)로 늘리면 이진 검색에 필요한 최대 단계 수는 4가 된다\n",
    "- 정렬된 배열에서는 항목의 개수를 두 배로 늘릴 때마다 이진 검색에 필요한 단계 수가 1씩 증가하는 패턴이 보인다\n",
    "#### 이러한 증가 패턴은 대단히 효율적이다. 데이터를 두 배로 늘릴 때마다 이진 검색 알고리즘에서는 최대 한 단계만 더 추가된다"
   ]
  },
  {
   "cell_type": "markdown",
   "metadata": {},
   "source": [
    "#### 선형 검색 패턴"
   ]
  },
  {
   "cell_type": "markdown",
   "metadata": {},
   "source": [
    "- 선형 검색에서는 \"원소 수만큼의 단계가 필요하다\"\n",
    "    - 원소가 3개 있으면 최대 3단계가 필요하고 7개면 최대 7단계, 100개면 최대 100단계가 필요하다\n",
    "    - 배열의 원소 수를 두 배로 늘릴 때마다 검색에 필요한 단계 수도 두 배로 늘어난다"
   ]
  },
  {
   "cell_type": "markdown",
   "metadata": {},
   "source": [
    "#### 원소가 큰 배열에서의 두 검색 간 양상"
   ]
  },
  {
   "cell_type": "markdown",
   "metadata": {},
   "source": [
    "- 원소가 10,000개인 배열\n",
    "    - 선형 검색 : 최대 10,000단계\n",
    "    - 이진 검색 : 최대 13단계\n",
    "- 원소가 1,000,000개인 배열\n",
    "    - 선형 검색 : 최대 1,000,000단계\n",
    "    - 이진 검색 : 최대 20단계"
   ]
  },
  {
   "cell_type": "markdown",
   "metadata": {},
   "source": [
    "#### 정렬된 배열이 모든 상황에서 빠른 것은 아니다\n",
    "- 정렬된 배열의 삽입은 일반 배열보다 느리다\n",
    "- 정렬된 배열의 검색은 일반 배열보다 훨씬 빠르다"
   ]
  },
  {
   "cell_type": "markdown",
   "metadata": {},
   "source": [
    "## 사용자의 애플리케이션에 어떤 구조가 더 좋은지 알려면 항상 분석하고 있어야 한다."
   ]
  }
 ],
 "metadata": {
  "kernelspec": {
   "display_name": "Python 3",
   "language": "python",
   "name": "python3"
  },
  "language_info": {
   "codemirror_mode": {
    "name": "ipython",
    "version": 3
   },
   "file_extension": ".py",
   "mimetype": "text/x-python",
   "name": "python",
   "nbconvert_exporter": "python",
   "pygments_lexer": "ipython3",
   "version": "3.7.1"
  }
 },
 "nbformat": 4,
 "nbformat_minor": 2
}
