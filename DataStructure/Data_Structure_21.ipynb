{
 "cells": [
  {
   "cell_type": "markdown",
   "metadata": {},
   "source": [
    "# Data Structure\n",
    "## Chapter 7"
   ]
  },
  {
   "cell_type": "markdown",
   "metadata": {},
   "source": [
    "## 7.2 해시 함수로 해싱"
   ]
  },
  {
   "cell_type": "markdown",
   "metadata": {},
   "source": [
    "```\n",
    "어린 시절 비밀 코드를 만들고 해독해 본 기억이 있는가?\n",
    "예를 들어 다음처럼 단순하게 글자와 숫자를 짝지을 수 있다\n",
    "```\n",
    "\n",
    "```\n",
    "A = 1 , B = 2 , C = 3 , D = 4 , ...\n",
    "```"
   ]
  },
  {
   "cell_type": "markdown",
   "metadata": {},
   "source": [
    "- #### 위 코드에 따르면\n",
    "    - ACE는 135, CAB는 312, DAB는 412, BAD는 214로 변환된다."
   ]
  },
  {
   "cell_type": "markdown",
   "metadata": {},
   "source": [
    "### 문자를 가져와 숫자로 변환하는 이러한 과정을 \"해싱\"이라고 부른다 \n",
    "### 또한, 글자를 특정 숫자로 변환하는 데 사용한 코드를 \"해시 함수\"라 부른다"
   ]
  },
  {
   "cell_type": "markdown",
   "metadata": {},
   "source": [
    "### 이 밖에도 해시 함수는 많다"
   ]
  },
  {
   "cell_type": "markdown",
   "metadata": {},
   "source": [
    "### 또 다른 해시 함수 예제는 각 문자에 해당하는 숫자를 가져와 모든 수를 합쳐 반환하는 것이다.\n",
    "\n",
    "- #### 이렇게 하면 BAD는 다음과 같은 두 단계의 과정을 거쳐 숫자 7이 된다\n",
    "    - #### 1단계 : BAD를 214로 변환한다\n",
    "    - #### 2단계 : 각 숫자를 가져와 합한다.\n",
    "        - 2 + 1 + 4 = 7"
   ]
  },
  {
   "cell_type": "markdown",
   "metadata": {},
   "source": [
    "### 또 다른 해시 함수 예제는 문자에 해당하는 모든 수를 곱해서 반환하는 것이다\n",
    "- #### 이렇게 하면 단어 BAD는 숫자 8로 변환된다\n",
    "    - #### 1단계 : 먼저 BAD를 214로 변환한다\n",
    "    - #### 2단계 : 각 숫자를 가져와 곱한다\n",
    "        - 2 * 1 * 4 = 8"
   ]
  },
  {
   "cell_type": "markdown",
   "metadata": {},
   "source": [
    "### 해시 함수가 유효하려면 딱 한 가지 기준을 충족해야 한다\n",
    "- #### 해시 함수는 동일한 문자열을 해시 함수에 적용할 때마다 항상 \"동일한 숫자\"로 변환해야 한다\n",
    "- #### 주어진 문자에 대해 반환하는 결과가 일관되지 않으면 그 해시 함수는 유효하지 않다"
   ]
  },
  {
   "cell_type": "markdown",
   "metadata": {},
   "source": [
    "### 예를 들어 난수나 현재 시간을 계산에 넣어 사용하는 해시 함수는 유효하지 않다\n",
    "- #### 이러한 함수를 사용하면 BAD가 한 번은 12로, 다른 한 번은 106으로 변환 될 수 있다"
   ]
  },
  {
   "cell_type": "markdown",
   "metadata": {},
   "source": [
    "### 하지만 \"곱셈\" 해시 함수를 쓰면 BAD는 \"항상\" 8로 변환된다\n",
    "- #### B는 항상 2고, A는 항상 1이고, D는 항상 4이기 때문이다\n",
    "- #### 따라서 2 * 1 * 4는 \"항상\" 8이다\n",
    "- #### 다른 결과는 있을 수 없다"
   ]
  },
  {
   "cell_type": "markdown",
   "metadata": {},
   "source": [
    "### 곱셈 해시 함수를 쓰면 DAB 역시 BAD처럼 8로 변환된다는 것에 유의한다.\n",
    "- #### 이로 인한 실제로 문제가 발생한다"
   ]
  }
 ],
 "metadata": {
  "kernelspec": {
   "display_name": "Python 3",
   "language": "python",
   "name": "python3"
  },
  "language_info": {
   "codemirror_mode": {
    "name": "ipython",
    "version": 3
   },
   "file_extension": ".py",
   "mimetype": "text/x-python",
   "name": "python",
   "nbconvert_exporter": "python",
   "pygments_lexer": "ipython3",
   "version": "3.7.1"
  }
 },
 "nbformat": 4,
 "nbformat_minor": 2
}
