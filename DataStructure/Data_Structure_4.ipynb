{
 "cells": [
  {
   "cell_type": "markdown",
   "metadata": {},
   "source": [
    "# 배열 삽입"
   ]
  },
  {
   "cell_type": "markdown",
   "metadata": {},
   "source": [
    "#### 배열에 새 데이터를 삽입하는 연산은 배열의 \"어디에\" 데이터를 삽입하는가에 따라 효율성이 다르다"
   ]
  },
  {
   "cell_type": "code",
   "execution_count": 1,
   "metadata": {},
   "outputs": [],
   "source": [
    "ShoppingList = [\"apples\" , \"bananas\" , \"cucumbers\" , \"dates\" , \"elderberries\"]"
   ]
  },
  {
   "cell_type": "code",
   "execution_count": 2,
   "metadata": {},
   "outputs": [
    {
     "data": {
      "text/plain": [
       "['apples', 'bananas', 'cucumbers', 'dates', 'elderberries']"
      ]
     },
     "execution_count": 2,
     "metadata": {},
     "output_type": "execute_result"
    }
   ],
   "source": [
    "ShoppingList"
   ]
  },
  {
   "cell_type": "markdown",
   "metadata": {},
   "source": [
    "#### ShoppingList의 맨 끝에 \"figs\"를 추가해 보자"
   ]
  },
  {
   "cell_type": "markdown",
   "metadata": {},
   "source": [
    "- 이 삽입에는 딱 한 단계만 필요\n",
    "    - 컴퓨터는 배열이 시작되는 메모리 주소를 안다\n",
    "    - 컴퓨터는 배열이 현재 얼마나 많은 원소를 포함하는지도 안다 그러므로 새 원소를 추가해야 하는 메모리 주소가 어딘지 계산할 수 있다\n",
    "    - 즉, 맨뒤에 \"figs\"를 추가만 하면 되기 때문에 한 단계만 필요하다"
   ]
  },
  {
   "cell_type": "markdown",
   "metadata": {},
   "source": [
    "#### 배열의 처음이나 중간에 데이터를 삽입하면??"
   ]
  },
  {
   "cell_type": "markdown",
   "metadata": {},
   "source": [
    "- 이때는 삽입할 공간을 만들기 위해 많은 데이터 조각을 이동시켜야 하므로 단계가 늘어난다"
   ]
  },
  {
   "cell_type": "markdown",
   "metadata": {},
   "source": [
    "#### 예를 들어 배열의 인덱스 2에 \"figs\"추가해 보자"
   ]
  },
  {
   "cell_type": "markdown",
   "metadata": {},
   "source": [
    "- \"figs\"를 인덱스 2에 삽입하려면 \"cucumbers\", \"dates\" , \"elderberries\"를 오른쪽으로 옮겨서 \"figs\"를 넣을 공간을 만들어야 한다\n",
    "    - \"dates\"를 옮길 공간을 만들려면 먼저 \"elderberries\"를 한 셀 오른 쪽으로 옮겨야 한다\n",
    "    - \"cucumbers\"를 위한 공간을 만들려면 \"dates\"를 옮겨야한다"
   ]
  },
  {
   "cell_type": "markdown",
   "metadata": {},
   "source": [
    "#### \"figs\"를 인덱스 2에 추가하는 과정"
   ]
  },
  {
   "cell_type": "markdown",
   "metadata": {},
   "source": [
    "1. \"elderberries\"를 오른쪽으로 옮긴다\n",
    "2. \"dates\"를 오른쪽으로 옮긴다\n",
    "3. \"cucumbers\"를 오른쪽으로 옮긴다\n",
    "4. \"figs\"를 인덱스 2에 삽입한다\n",
    "#### 총 4단계가 필요하다"
   ]
  },
  {
   "cell_type": "markdown",
   "metadata": {},
   "source": [
    "- 데이터를 오른쪽으로 옮기는 3단계와 실제로 새 값을 삽입하는 1단계"
   ]
  },
  {
   "cell_type": "markdown",
   "metadata": {},
   "source": [
    "#### 배열 삽입에서 최악은 삽입에 가장 많은 단계가 걸리는 데이터를 배열의 맨 앞에 삽입할 때다"
   ]
  },
  {
   "cell_type": "markdown",
   "metadata": {},
   "source": [
    "- 배열의 맨 앞에 데이터를 삽입하면 배열 내 모든 값을 한 셀씩 오른쪽으로 옮겨야 하기 때문이다"
   ]
  },
  {
   "cell_type": "markdown",
   "metadata": {},
   "source": [
    "## 원소 N개를 포함하는 배열에서 맨 앞에 데이터를 삽입 할 때는 \"N + 1\"단계가 걸린다"
   ]
  },
  {
   "cell_type": "markdown",
   "metadata": {},
   "source": [
    "- N번 이동(배열의 모든 데이터 원소)과 1번의 삽입(데이터의 삽입)으로 배열의 맨 앞에 값을 삽입하기 때문이다"
   ]
  },
  {
   "cell_type": "code",
   "execution_count": null,
   "metadata": {},
   "outputs": [],
   "source": []
  }
 ],
 "metadata": {
  "kernelspec": {
   "display_name": "Python 3",
   "language": "python",
   "name": "python3"
  },
  "language_info": {
   "codemirror_mode": {
    "name": "ipython",
    "version": 3
   },
   "file_extension": ".py",
   "mimetype": "text/x-python",
   "name": "python",
   "nbconvert_exporter": "python",
   "pygments_lexer": "ipython3",
   "version": "3.7.1"
  }
 },
 "nbformat": 4,
 "nbformat_minor": 2
}
