{
 "cells": [
  {
   "cell_type": "markdown",
   "metadata": {},
   "source": [
    "# 정렬된 배열(Ordered array)"
   ]
  },
  {
   "cell_type": "markdown",
   "metadata": {},
   "source": [
    "#### 정렬된 배열은 배열과 거의 같다\n",
    "- 유일한 차이는 정렬된 배열은 값이 항상 \"순서대로\" 있어야 한다\n",
    "    - 즉, 값을 추가할 때마다 적절한 셀에 넣어 배열의 값을 정렬된 상태로 유지한다\n",
    "    - 정렬된 배열과 달리 배열은 값의 순서를 고려하지 않고 배열의 끝에 값을 추가할 수 있다"
   ]
  },
  {
   "cell_type": "markdown",
   "metadata": {},
   "source": [
    "#### 배열 number을 예시로 설명"
   ]
  },
  {
   "cell_type": "code",
   "execution_count": 1,
   "metadata": {},
   "outputs": [
    {
     "data": {
      "text/plain": [
       "[3, 17, 80, 202]"
      ]
     },
     "execution_count": 1,
     "metadata": {},
     "output_type": "execute_result"
    }
   ],
   "source": [
    "numberArray = [3, 17, 80, 202]\n",
    "numberArray"
   ]
  },
  {
   "cell_type": "markdown",
   "metadata": {},
   "source": [
    "- 75를 삽입\n",
    "    - 일반적인 배열이면 맨 끝에 75를 삽입할 것이다.\n",
    "    - 컴퓨터는 단 한 단계로 삽입을 처리할 수 있다"
   ]
  },
  {
   "cell_type": "code",
   "execution_count": 2,
   "metadata": {},
   "outputs": [
    {
     "data": {
      "text/plain": [
       "[3, 17, 80, 202, 75]"
      ]
     },
     "execution_count": 2,
     "metadata": {},
     "output_type": "execute_result"
    }
   ],
   "source": [
    "numberArray.insert(4,75)\n",
    "numberArray"
   ]
  },
  {
   "cell_type": "markdown",
   "metadata": {},
   "source": [
    "- 75를 삽입\n",
    "    - 정렬된 배열에서는 값을 오름차순으로 유지하려면 적절한 위치에 75를 삽입해야 한다"
   ]
  },
  {
   "cell_type": "code",
   "execution_count": 3,
   "metadata": {},
   "outputs": [
    {
     "data": {
      "text/plain": [
       "[3, 17, 80, 202]"
      ]
     },
     "execution_count": 3,
     "metadata": {},
     "output_type": "execute_result"
    }
   ],
   "source": [
    "numberArray = [3, 17, 80, 202]\n",
    "numberArray"
   ]
  },
  {
   "cell_type": "code",
   "execution_count": 4,
   "metadata": {},
   "outputs": [
    {
     "data": {
      "text/plain": [
       "[3, 17, 75, 80, 202]"
      ]
     },
     "execution_count": 4,
     "metadata": {},
     "output_type": "execute_result"
    }
   ],
   "source": [
    "numberArray.insert(2,75)\n",
    "numberArray"
   ]
  },
  {
   "cell_type": "markdown",
   "metadata": {},
   "source": [
    "#### 적절한 위치를 찾아 삽입, 컴퓨터는 75를 올바른 위치에 바로 넣는 작업을 한 단계로 처리 할 수 없다\n",
    "- 먼저 75가 들어갈 올바른 위치를 찾아야 됨\n",
    "- 다른 값을 옮겨 빈 공간을 만들어야 함"
   ]
  },
  {
   "cell_type": "markdown",
   "metadata": {},
   "source": [
    "### 정렬된 배열로 75 삽입하는 방법을 단계별로 설명"
   ]
  },
  {
   "cell_type": "code",
   "execution_count": 5,
   "metadata": {},
   "outputs": [
    {
     "data": {
      "text/plain": [
       "[3, 17, 80, 202]"
      ]
     },
     "execution_count": 5,
     "metadata": {},
     "output_type": "execute_result"
    }
   ],
   "source": [
    "numberArray = [3, 17, 80, 202]\n",
    "numberArray"
   ]
  },
  {
   "cell_type": "markdown",
   "metadata": {},
   "source": [
    "- 1. 인덱스 0의 값(3)을 확인해서 삽입하려는 값인 75가 왼쪽으로 들어갈지 오른쪽으로 들어갈지 정한다.\n",
    "    - 75는 3보다 크므로 오른쪽 어딘가에 삽입해야 함\n",
    "        - 정확히 어떤 셀에 들어가야 할지 아직 알 수 없으므로 다음 셀을 확인해야 함\n",
    "- 2. 인덱스 1의 값(17)을 확인한다\n",
    "    - 75는 17보다 크므로 다음 셀로 이동한다\n",
    "- 3. 인덱스 2의 값(80)을 확인한다\n",
    "    - 삽입하려는 값인 75보다 큰 80이므로 정렬된 배열을 유지하려면 80 바로 왼쪽에 75를 넣어야 한다고 판단 할 수 있다\n",
    "#### 하지만 75를 넣으려면 데이터를 옮겨야 한다\n",
    "- 4. 마지막 값(202)을 오른쪽으로 옮긴다\n",
    "- 5. 마지막 앞에 있던 값(80)을 오른쪽으로 옮긴다\n",
    "- 6. 75를 올바른 위치에 삽입한다"
   ]
  },
  {
   "cell_type": "markdown",
   "metadata": {},
   "source": [
    "#### 정렬된 배열에 삽입할 때는 항상 실제 삽입 전에 검색을 먼저 수행해서 삽입할 올바른 위치를 정해야 함을 알 수 있다.\n",
    "- 이게 바로 배열과 정렬된 배열의(효율성 면에서) 주된 차이점 중 하나다.\n",
    "- 삽입에 있어 정렬된 배열이 일반 배열보다 덜 효율적이지만, 정렬된 배열의 강력함은 \"검색 연산\"에서 나온다"
   ]
  }
 ],
 "metadata": {
  "kernelspec": {
   "display_name": "Python 3",
   "language": "python",
   "name": "python3"
  },
  "language_info": {
   "codemirror_mode": {
    "name": "ipython",
    "version": 3
   },
   "file_extension": ".py",
   "mimetype": "text/x-python",
   "name": "python",
   "nbconvert_exporter": "python",
   "pygments_lexer": "ipython3",
   "version": "3.7.1"
  }
 },
 "nbformat": 4,
 "nbformat_minor": 2
}
