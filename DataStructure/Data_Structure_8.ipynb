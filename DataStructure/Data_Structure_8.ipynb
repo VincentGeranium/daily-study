{
 "cells": [
  {
   "cell_type": "markdown",
   "metadata": {},
   "source": [
    "# Search of Ordered array (정렬된 배열의 검색)"
   ]
  },
  {
   "cell_type": "markdown",
   "metadata": {},
   "source": [
    "- 배열에서 특정 값을 검색하는 과정\n",
    "    - 원하는 값을 찾을 때까지 왼쪽에서 오른쪽으로 한 셀씩 확인하는 방법\n",
    "        - 이러한 과정을 선형 검색이라 부른다"
   ]
  },
  {
   "cell_type": "markdown",
   "metadata": {},
   "source": [
    "## 배열과 정렬된 배열에서 선형 검색이 어떻게 다를까??"
   ]
  },
  {
   "cell_type": "code",
   "execution_count": 1,
   "metadata": {},
   "outputs": [],
   "source": [
    "numberList=[17, 3, 75, 202, 80]"
   ]
  },
  {
   "cell_type": "code",
   "execution_count": 2,
   "metadata": {},
   "outputs": [
    {
     "data": {
      "text/plain": [
       "[17, 3, 75, 202, 80]"
      ]
     },
     "execution_count": 2,
     "metadata": {},
     "output_type": "execute_result"
    }
   ],
   "source": [
    "numberList"
   ]
  },
  {
   "cell_type": "markdown",
   "metadata": {},
   "source": [
    "#### 일반적인 배열에서의 없는 값을 찾을때"
   ]
  },
  {
   "cell_type": "markdown",
   "metadata": {},
   "source": [
    "- 위의 일반적인 배열에서 배열에 없는 값인 22라는 값을 찾으려면 22가 배열에 있는지 없는지 확인해야 하므로 모든 원소를 하나도 빠짐없이 검색해야 한다\n",
    "- 배열의 끝에 도달하기 전에 검색을 멈추는 경우는 원하는 값을 찾았을 때뿐이다"
   ]
  },
  {
   "cell_type": "markdown",
   "metadata": {},
   "source": [
    "#### 정렬된 배열에서의 없는 값을 찾을때"
   ]
  },
  {
   "cell_type": "markdown",
   "metadata": {},
   "source": [
    "#### 정렬된 배열에서는 값이 배열에 들어있지 않을 때 검색을 더 빨리 멈출 수 있다"
   ]
  },
  {
   "cell_type": "code",
   "execution_count": 5,
   "metadata": {},
   "outputs": [
    {
     "data": {
      "text/plain": [
       "[3, 17, 75, 80, 202]"
      ]
     },
     "execution_count": 5,
     "metadata": {},
     "output_type": "execute_result"
    }
   ],
   "source": [
    "orderedArrList = [3, 17, 75, 80, 202]\n",
    "orderedArrList"
   ]
  },
  {
   "cell_type": "markdown",
   "metadata": {},
   "source": [
    "- 정렬된 배열에서 22를 검색\n",
    "    - 75에 도달하면 더 이상 22가 오른쪽에 있을 수 없으므로 바로 검색을 중단할 수 있다."
   ]
  },
  {
   "cell_type": "markdown",
   "metadata": {},
   "source": [
    "#### 이러한 관점에서 볼 때 선형 검색은 대부분의 경우 일반 배열보다 정렬된 배열에서 단계 수가 더 적게 걸린다"
   ]
  },
  {
   "cell_type": "markdown",
   "metadata": {},
   "source": [
    "#### 하지만 찾으려는 값이 정렬된 배열의 마지막 값이거나 마지막 값보다 크면 마찬가지로 모든 셀을 검색해야 검색이 끝난다"
   ]
  }
 ],
 "metadata": {
  "kernelspec": {
   "display_name": "Python 3",
   "language": "python",
   "name": "python3"
  },
  "language_info": {
   "codemirror_mode": {
    "name": "ipython",
    "version": 3
   },
   "file_extension": ".py",
   "mimetype": "text/x-python",
   "name": "python",
   "nbconvert_exporter": "python",
   "pygments_lexer": "ipython3",
   "version": "3.7.1"
  }
 },
 "nbformat": 4,
 "nbformat_minor": 2
}
