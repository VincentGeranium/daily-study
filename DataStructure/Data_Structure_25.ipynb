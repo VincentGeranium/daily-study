{
 "cells": [
  {
   "cell_type": "markdown",
   "metadata": {},
   "source": [
    "# Data Structure\n",
    "## Chapter 7"
   ]
  },
  {
   "cell_type": "markdown",
   "metadata": {},
   "source": [
    "## 7.6 실제 예제"
   ]
  },
  {
   "cell_type": "markdown",
   "metadata": {},
   "source": [
    "### 해시 테이블에는 실용적인 사용 사례(case)가 많지만, 이번 장에서는 해시 테이블을 사용해 알고리즘의 속도를 높이는 데 초점을 맞추겠다"
   ]
  },
  {
   "cell_type": "markdown",
   "metadata": {},
   "source": [
    "### \"1장 자료 구조가 중요한 까닭\"에서 배열 기반 집합(중복 값이 없는 배열)을 배웠다\n",
    "- #### 이때 새 값을 집합에 삽입할 때마다 (집합이 정렬되지 않은 경우) 삽입하려는 값이 이미 집합에 있는지 확인하기 위해 선형 검색을 실행해야 했다\n",
    "\n",
    "### 큰 집합에 삽입을 많이 수행해야 한다면 삽일할 때마다 결코 빠르지 않은 O(N)이 걸리므로 아주 빠른 속도로는 처리하기 어렵다\n",
    "\n",
    "### 해시 테이블은 집합처럼 쓸 수 있는 경우가 많다\n",
    "\n",
    "### 배열을 집합으로 사용하면 단순히 각 데이터를 배열 내 한 셀에 넣는다\n",
    "- #### 하지만 해시 테이블을 집합으로 사용하면 각 데이터가 해시 테이블의 키가 되면서 값에 1이나 true같은 Bool값 등 무엇이든 넣을 수 있다"
   ]
  },
  {
   "cell_type": "markdown",
   "metadata": {},
   "source": [
    "### 자바스크립트로 다음과 같은 해시 테이블 집합을 만들어 보자.\n",
    "\n",
    "```\n",
    "var set = {};\n",
    "\n",
    "// 값을 몇 개 집합에 추가\n",
    "set[\"appel\"] = 1;\n",
    "set[\"banana\"] = 1;\n",
    "set[\"cucumber\"] = 1;\n",
    "```\n",
    "\n",
    "- #### 새 값을 삽입할 때마다 O(N)의 선형 검색 대신 단 O(1) 시간 내에 추가할 수 있다\n",
    "\n",
    "### 다음처럼 이미 존재하는 키를 추가해도 마찬가지다\n",
    "\n",
    "```\n",
    "set[\"banana\"] = 1;\n",
    "```\n",
    "\n",
    "- #### 또 다른 \"banana\"를 집합에 추가할 때 \"banana\"가 이미 있는지 확인하지 않아도 된다\n",
    "- #### 있다 해도 단순히 그 키의 값에 숫자 1을 겹쳐 쓸 것이기 때문이다\n",
    "\n",
    "### 사실 해시 테이블은 데이터 세트에 어떤 값이 있는지 알고 싶을 경우에 안성맞춤이다\n",
    "- #### \"4장 빅 오로 코드 속도 올리기\"에서 배열 내에 중복 숫자가 있는지 확인하는 자바스크립트 함수를 어떻게 작성할지 논했다\n",
    "- #### 제공했던 첫 번째 해결법은 다음과 같았다\n",
    "\n",
    "```\n",
    "function hasDuplicateValue(array) {\n",
    "    for(var i = 0; i < array.length; i++) {\n",
    "        for(var j = 0; j < array.length; j++) {\n",
    "            if(i !== j && array[i] == array[j]) {\n",
    "                return true;\n",
    "            }\n",
    "        }\n",
    "    }\n",
    "    return false;\n",
    "}\n",
    "```"
   ]
  },
  {
   "cell_type": "markdown",
   "metadata": {},
   "source": [
    "### 위 코드처럼 중첩 루프를 포함하는 코드는 $O(N^2)$에 실행된다고 배웠다\n",
    "- #### 제안했던 두 번째 해결법은 O(N)에 수행되긴 하지만 배열에 오로지 양수만 들어있을 때 동작한다\n",
    "\n",
    "### 배열이 문자열 같은 다른 값을 포함하면 어떻게 될까?\n",
    "- ### 해시 테이블(자바스크립트에서는 object라 부름)을 사용하면 유사한 방법으로 문자열을 효과적으로 처리할 수 있다\n",
    "\n",
    "```\n",
    "function hasDuplicateValue(array) {\n",
    "    var existingValues = {};\n",
    "    for(var i = 0; i < array.length; i++) {\n",
    "        if(existingValues[array[i]] === undefined) {\n",
    "            existingValues[array[i]] = 1;\n",
    "        } else {\n",
    "            return true;\n",
    "        }\n",
    "    }\n",
    "    return false;\n",
    "}\n",
    "```"
   ]
  },
  {
   "cell_type": "markdown",
   "metadata": {},
   "source": [
    "### 위 방법도 O(N)에 실행된다\n",
    "- #### 위 코드의 existingValues는 배열이 아닌 해시 테이블이므로 키에 정수뿐만 아니라 문자열도 포함할 수 있다"
   ]
  },
  {
   "cell_type": "markdown",
   "metadata": {},
   "source": [
    "### 투표자가 후보자 목록 중에서 하나를 고르거나 또 다른 후보자를 작성할 수 있는 전자 투표 기계를 만든다고 하자.\n",
    "- #### 오로지 선거가 끝났을 때만 최종 투표수를 센다면 투표를 간단한 배열로 저장해서 각 투표가 들어오는 대로 배열 끝에 삽입하면 된다\n",
    "\n",
    "```\n",
    "var votes = [];\n",
    "\n",
    "function addVote(candidate) {\n",
    "    votes.push(candidate);\n",
    "}\n",
    "```\n",
    "\n",
    "### 다음과 같은 매우 긴 배열이 결과로 나올 것이다\n",
    "\n",
    "```\n",
    "[\"Thomas Jefferson\",\"Jhon Adams\",\"Jhon Adams\",\"Thomas Jefferson\",\"Jhon Adams\",...]\n",
    "```\n",
    "\n",
    "### 위 접근 방식은 각 삽입에 O(1)만 걸린다."
   ]
  },
  {
   "cell_type": "markdown",
   "metadata": {},
   "source": [
    "### 하지만 최종 투표수는 어떨까?\n",
    "### 다음과 같이 루프를 사용해 결과를 해시 테이블에 기록하면서 투표수를 셀 수 있다\n",
    "\n",
    "```\n",
    "function countVotes(votes) {\n",
    "    var tally = {};\n",
    "    for(var i = 0; i < votes.length; i++) {\n",
    "        if(tally[votes[i]]) {\n",
    "            tally[votes[i]]++;\n",
    "        }\n",
    "        else {\n",
    "            tally[votes[i]] = 1;\n",
    "        }\n",
    "    }\n",
    "    return tally;\n",
    "}\n",
    "```"
   ]
  },
  {
   "cell_type": "markdown",
   "metadata": {},
   "source": [
    "### 하지만 투표 마지막 날에 모든 표를 세야 하므로 countVotes 함수는 O(N)이 걸릴 것이다. 이 방법은 너무 오래 걸린다!"
   ]
  },
  {
   "cell_type": "markdown",
   "metadata": {},
   "source": [
    "### 이렇게 하는 대신 처음부터 해시 테이블에 데이터를 저장하는 방법을 생각해보자.\n",
    "\n",
    "```\n",
    "var votes = {};\n",
    "\n",
    "function addVote(candidate) {\n",
    "    if(votes[candidate]) {\n",
    "        votes[candidate]++;\n",
    "    }\n",
    "    else {\n",
    "        vote[candidate] = 1;\n",
    "    }\n",
    "}\n",
    "```"
   ]
  },
  {
   "cell_type": "markdown",
   "metadata": {},
   "source": [
    "### 위 방법은 삽입이 O(1)일 뿐만 아니라 투표를 할 때마다 투표수를 기록하므로 최종 투표수를 세는데도 마찬가지로 O(1)이다"
   ]
  },
  {
   "cell_type": "markdown",
   "metadata": {},
   "source": [
    "## 마무리\n",
    "- #### 해시 테이블은 효율적인 소프트웨어 개발에 필수다. \n",
    "    - #### O(1) 읽기와 삽입은 쉽게 따라잡을 수 없는 자료 구조이다.\n",
    "- #### 지금까지는 호율성과 속도를 중심으로 다양한 자료 구조를 분석했다\n",
    "    - #### 하지만 속도 외에 장점을 제공하는 자료 구조도 있다\n",
    "        - #### 코드의 간결성과 유지보수성을 향상시킬 수 있는 자료 구조"
   ]
  }
 ],
 "metadata": {
  "kernelspec": {
   "display_name": "Python 3",
   "language": "python",
   "name": "python3"
  },
  "language_info": {
   "codemirror_mode": {
    "name": "ipython",
    "version": 3
   },
   "file_extension": ".py",
   "mimetype": "text/x-python",
   "name": "python",
   "nbconvert_exporter": "python",
   "pygments_lexer": "ipython3",
   "version": "3.7.1"
  }
 },
 "nbformat": 4,
 "nbformat_minor": 2
}
