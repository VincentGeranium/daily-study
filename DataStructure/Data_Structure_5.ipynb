{
 "cells": [
  {
   "cell_type": "markdown",
   "metadata": {},
   "source": [
    "# 배열 삭제"
   ]
  },
  {
   "cell_type": "markdown",
   "metadata": {},
   "source": [
    "- 배열의 삭제는 특정 인덱스의 값을 제거하는 과정"
   ]
  },
  {
   "cell_type": "markdown",
   "metadata": {},
   "source": [
    "## 인덱스 2의 값 \"cucumbers\" 삭제"
   ]
  },
  {
   "cell_type": "code",
   "execution_count": 7,
   "metadata": {},
   "outputs": [
    {
     "data": {
      "text/plain": [
       "['apples', 'bananas', 'cucumbers', 'dates', 'elderberries']"
      ]
     },
     "execution_count": 7,
     "metadata": {},
     "output_type": "execute_result"
    }
   ],
   "source": [
    "shopping = [\"apples\" , \"bananas\" , \"cucumbers\" , \"dates\" , \"elderberries\"]\n",
    "shopping"
   ]
  },
  {
   "cell_type": "code",
   "execution_count": 8,
   "metadata": {},
   "outputs": [],
   "source": [
    "del shopping[2]"
   ]
  },
  {
   "cell_type": "code",
   "execution_count": 9,
   "metadata": {},
   "outputs": [
    {
     "data": {
      "text/plain": [
       "['apples', 'bananas', 'dates', 'elderberries']"
      ]
     },
     "execution_count": 9,
     "metadata": {},
     "output_type": "execute_result"
    }
   ],
   "source": [
    "shopping"
   ]
  },
  {
   "cell_type": "markdown",
   "metadata": {},
   "source": [
    "- 1. 배열에서 \"cucumbers\"를 삭제\n",
    "    - \"cucumbers\"를 삭제하는 데 실제로는 기술적으로 한 단계만 걸린다\n",
    "    - \"cucumbers\"를 삭제하면 배열 중간에 비어 있는 셀이다. \n",
    "        - 배열은 중간에 빈 공간을 허용하지 않으므로 이 문제를 해결하려면 \"dates\"와 \"elderberries\"를 왼쪽으로 옮겨야 한다"
   ]
  },
  {
   "cell_type": "markdown",
   "metadata": {},
   "source": [
    "- 2. \"dates\"를 왼쪽으로 옮긴다\n",
    "- 3. \"elderberries\"를 왼쪽으로 옮긴다"
   ]
  },
  {
   "cell_type": "markdown",
   "metadata": {},
   "source": [
    "#### 전체 삭제 연산에 3단계가 필요했다.\n",
    "- 첫 번째 단계가 실제 삭제이고 나머지 두 단계는 빈 공간을 메꾸는 데이터 이동이다"
   ]
  },
  {
   "cell_type": "markdown",
   "metadata": {},
   "source": [
    "#### 결론적으로 삭제에서 실제로 삭제가 일어나는 데는 단 한 단계지만, 삭제로 생긴 공간을 없애려면 왼쪽으로 데이터를 이동시키는 단계가 더 필요하다."
   ]
  },
  {
   "cell_type": "markdown",
   "metadata": {},
   "source": [
    "#### 원소 삭제에서 최악은 배열의 첫 번째 원소를 삭제하는 것이다."
   ]
  },
  {
   "cell_type": "markdown",
   "metadata": {},
   "source": [
    "- 배열의 첫 번째 원소를 삭제하게 되면 배열에서 허용하지 않는 인덱스 0이 비게 되고, 남아 있는 모든 원소를 왼쪽으로 이동시켜 빈 공간을 채워야 한다\n",
    "    - 원소 5개를 포함하는 배열이면 1단계는 첫 번째 원소의 삭제에, 4단계는 남아 있는 원소 4개를 이동히는 데 쓰인다\n",
    "    - 원소가 500개인 배열이면 1단계는 첫 번째 원소의 삭제에, 499단계는 남은 데이터를 이동하는 데 쓰인다"
   ]
  },
  {
   "cell_type": "markdown",
   "metadata": {},
   "source": [
    "### 원소 N개를 포함하는 배열에서 삭제에 필요한 최대 단계 수는 N단계라고 결론지을 수 있다."
   ]
  },
  {
   "cell_type": "markdown",
   "metadata": {},
   "source": [
    "#### 자료 구조의 시간 복잡도를 분석하는 법을 알면 서로 다른 자료 구조가 어떻게 서로 다른 효율성을 내는지 볼 수 있다\n",
    "#### 프로그램은 만들면서 올바른 자료 구조의 선택이 코드의 성능에 중대한 영향을 끼칠 수 있으므로 이는 매우 중요하다"
   ]
  },
  {
   "cell_type": "code",
   "execution_count": null,
   "metadata": {},
   "outputs": [],
   "source": []
  }
 ],
 "metadata": {
  "kernelspec": {
   "display_name": "Python 3",
   "language": "python",
   "name": "python3"
  },
  "language_info": {
   "codemirror_mode": {
    "name": "ipython",
    "version": 3
   },
   "file_extension": ".py",
   "mimetype": "text/x-python",
   "name": "python",
   "nbconvert_exporter": "python",
   "pygments_lexer": "ipython3",
   "version": "3.7.1"
  }
 },
 "nbformat": 4,
 "nbformat_minor": 2
}
