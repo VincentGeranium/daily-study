{
 "cells": [
  {
   "cell_type": "markdown",
   "metadata": {},
   "source": [
    "# 1. 배열 : 기초 자료 구조"
   ]
  },
  {
   "cell_type": "markdown",
   "metadata": {},
   "source": [
    "- 배열은 컴퓨터 과학에서 기조적인 자료 구조 중 하나\n",
    "- 단순히 데이터 원소들의 리스트\n",
    "- 배열은 다양한 용도로 여러 가지 상황에서 유용한 도구로 쓰임"
   ]
  },
  {
   "cell_type": "markdown",
   "metadata": {},
   "source": [
    "#### 예제 -  식료품 목록"
   ]
  },
  {
   "cell_type": "code",
   "execution_count": 1,
   "metadata": {},
   "outputs": [],
   "source": [
    "array = [\"apple\" , \"bananas\" , \"cucumbers\" , \"dates\" , \"elderberries\"]"
   ]
  },
  {
   "cell_type": "markdown",
   "metadata": {},
   "source": [
    "- 배열의 인덱스는 특정 데이터가 배열의 어디에 있는지 알려주는 숫자\n",
    "- 대부분의 프로그래밍 언어에서 인덱스는 0부터 시작"
   ]
  },
  {
   "cell_type": "markdown",
   "metadata": {},
   "source": [
    "#### 배열 같은 자료 구조의 성능을 알려면 코드가 자료 구조와 일반적으로 어떻게 상호 작용하는지 분석해야 한다,"
   ]
  },
  {
   "cell_type": "markdown",
   "metadata": {},
   "source": [
    "#### 대부분의 자료 구조는 네 가지 기본 방법을 사용하며, 이를 \"연산\" 이라고 부른다"
   ]
  },
  {
   "cell_type": "markdown",
   "metadata": {},
   "source": [
    "- 읽기 : 자료 구조 내 특정 위치를 찾아보는 것\n",
    "    - 배열에서는 특정 인섹스의 값을 찾아보는 것을 뜻함\n",
    "    - ex) 인덱스 2에 들어 있는 물건을 찾는 게 배열 \"읽기\"의 예\n",
    "- 검색 : 검색은 자료 구조 내에서 특정 값을 찾는 것\n",
    "    - 배열에서는 특정 값이 배열에 들어 있는지, 만약 그렇다면 어떤 인덱스에 있는지 알아보는 것을 뜻한다\n",
    "    - ex) \"dates\"가 식료품 목록에 있는지, 어떤 인덱스에 있는지 알아보는 게 배열 \"검색\"이다.\n",
    "- 삽입 : 삽입은 자료 구조에 새로운 값을 추가하는 것\n",
    "    - 배열이라면 배열 내에 슬롯을 더 만들어 새 값을 추가하는 것을 뜻한다\n",
    "    - ex) 식료품 목록에 \"figs\"를 추가하는 게 배열에 새 값을 \"삽입\"하는 예\n",
    "- 삭제 : 삭제는 자료 구조에서 값을 제거하는 것\n",
    "    - 배열에서는 배열의 값 중 하나를 제거하는 것을 뜻한다\n",
    "    - ex) 식료품 목록에서 \"bananas\"를 제거하는 게 배열 \"삭제\"다."
   ]
  },
  {
   "cell_type": "markdown",
   "metadata": {},
   "source": [
    "# 연산의 속도"
   ]
  },
  {
   "cell_type": "markdown",
   "metadata": {},
   "source": [
    "- 연산이 얼마나 \"빠른가\"를 측정할 때는 순수하게 시간 관점에서 연산이 얼마나 빠른가가 아니라 얼마나 많은 단계가 필요한지를 논해야 한다.\n",
    "    - 하드웨어에 따라 항상 바뀌므로 시간을 기준으로 속도를 측정하면 신뢰 할 수 없다"
   ]
  },
  {
   "cell_type": "markdown",
   "metadata": {},
   "source": [
    "## 연산의 속도를 측정할 때 얼마나 많은 단계(STEP)가 필요한가를 따져봐야 한다"
   ]
  },
  {
   "cell_type": "markdown",
   "metadata": {},
   "source": [
    "- 연산 A에 5단계가 필요하고 얀신 B에 500단계가 필요하면, 모든 하드웨어에서 연산 A가 연산 B보다 항상 빠를 거라고 가정할 수 있다\n",
    "    - 결국 단계 수를 측정하는 게 연산의 속도를 분석하는 핵심"
   ]
  },
  {
   "cell_type": "markdown",
   "metadata": {},
   "source": [
    "## 연산의 속도 측정은 연산의 \"시간 복잡도\" 측정으로도 알려져 있다"
   ]
  },
  {
   "cell_type": "code",
   "execution_count": null,
   "metadata": {},
   "outputs": [],
   "source": []
  }
 ],
 "metadata": {
  "kernelspec": {
   "display_name": "Python 3",
   "language": "python",
   "name": "python3"
  },
  "language_info": {
   "codemirror_mode": {
    "name": "ipython",
    "version": 3
   },
   "file_extension": ".py",
   "mimetype": "text/x-python",
   "name": "python",
   "nbconvert_exporter": "python",
   "pygments_lexer": "ipython3",
   "version": "3.7.1"
  }
 },
 "nbformat": 4,
 "nbformat_minor": 2
}
