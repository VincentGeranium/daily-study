{
 "cells": [
  {
   "cell_type": "markdown",
   "metadata": {},
   "source": [
    "#### 올림(CEIL)\n",
    "```\n",
    "select ceil(12.345)\n",
    "from dual;\n",
    "```"
   ]
  },
  {
   "cell_type": "markdown",
   "metadata": {},
   "source": [
    "#### 소수 둘쨰자리에서 올림\n",
    "```\n",
    "select ceil(12.345*10)/10\n",
    "from dual;\n",
    "```"
   ]
  },
  {
   "cell_type": "markdown",
   "metadata": {},
   "source": [
    "#### 국가별로 언어 사용 비율을 소수 첫 번째 자리에서 올림하여 정수로 출력\n",
    "```\n",
    "select countrycode,ceil(percentage)\n",
    "from countrylanguage;\n",
    "```"
   ]
  },
  {
   "cell_type": "markdown",
   "metadata": {},
   "source": [
    "#### 반올림(ROUND)\n",
    "- 소수 둘째자리까지 반올림\n",
    "    - ( , y자리 까지 반올림) 안쓰면 정수로 돌려줌\n",
    "```\n",
    "select ROUND(12.344,2)\n",
    "from dual;\n",
    "```"
   ]
  },
  {
   "cell_type": "markdown",
   "metadata": {},
   "source": [
    "#### 버림(TRUNCATE)\n",
    "```\n",
    "select TRUNCATE(12.346,2)\n",
    "from dual;\n",
    "```"
   ]
  },
  {
   "cell_type": "markdown",
   "metadata": {},
   "source": [
    "#### 조건문(Condition)\n",
    "#### IF(조건, 참, 거짓)\n",
    "#### 도시의 인구가 100만이 넘으면 big city, 그렇지 않으면 small city가 출력되는 city_scale 컬럼을 추가\n",
    "```\n",
    "select name,population, if(population >1000000,\"big city\",\"small city\") as city_scale\n",
    "from city;\n",
    "```"
   ]
  },
  {
   "cell_type": "markdown",
   "metadata": {},
   "source": [
    "#### 조건문(Condition)\n",
    "#### IFNULL(조건, 입력)\n",
    "#### country에서 독립년도가 없는 데이터(null)는 0으로 출력하도록 쿼리를 작성\n",
    "```\n",
    "select IndepYear, ifnull(IndepYear,0)\n",
    "from country;\n",
    "```"
   ]
  },
  {
   "cell_type": "markdown",
   "metadata": {},
   "source": [
    "```\n",
    "CASE\n",
    "CASE\n",
    "WHEN (조건) THEN(출력)\n",
    "WHEN (조건) THEN(출력)\n",
    "END AS (컬럼명)\n",
    "```\n",
    "#### 나라별로 인구가 10억 이상, 1억 이하인 컬럼을 추가하여 출력\n",
    "```\n",
    "select name,population,\n",
    "CASE\n",
    "\tWHEN population>1000000000 THEN\"upper 1billion\"\n",
    "\tWHEN population>100000000 THEN\"upper 1milion\"\n",
    "\tELSE\"below 100 milion\"\n",
    "END AS result\n",
    "from country;\n",
    "```"
   ]
  },
  {
   "cell_type": "code",
   "execution_count": null,
   "metadata": {},
   "outputs": [],
   "source": []
  }
 ],
 "metadata": {
  "kernelspec": {
   "display_name": "Python 3",
   "language": "python",
   "name": "python3"
  },
  "language_info": {
   "codemirror_mode": {
    "name": "ipython",
    "version": 3
   },
   "file_extension": ".py",
   "mimetype": "text/x-python",
   "name": "python",
   "nbconvert_exporter": "python",
   "pygments_lexer": "ipython3",
   "version": "3.7.0"
  }
 },
 "nbformat": 4,
 "nbformat_minor": 2
}
