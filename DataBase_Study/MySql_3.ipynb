{
 "cells": [
  {
   "cell_type": "markdown",
   "metadata": {},
   "source": [
    "## DATE FORMAT\n",
    "### sql 함수 날짜에 대한 포맷을 바꿔준다"
   ]
  },
  {
   "cell_type": "markdown",
   "metadata": {},
   "source": [
    "#### 월별 총수입\n",
    "```\n",
    "select DATE_FORMAT(payment_date,\"%Y-%m\") as monthly,sum(amount)\n",
    "from payment\n",
    "group by monthly;\n",
    "```"
   ]
  },
  {
   "cell_type": "markdown",
   "metadata": {},
   "source": [
    "## Q2"
   ]
  },
  {
   "cell_type": "markdown",
   "metadata": {},
   "source": [
    "#### 1\n",
    "```\n",
    "select count(distinct(continent)) as count\n",
    "from country;\n",
    "```"
   ]
  },
  {
   "cell_type": "markdown",
   "metadata": {},
   "source": [
    "#### 2\n",
    "```\n",
    "select Continent,count(Continent)as count\n",
    "from Country\n",
    "group by Continent\n",
    "order by count DESC;\n",
    "```\n"
   ]
  },
  {
   "cell_type": "markdown",
   "metadata": {},
   "source": [
    "#### 3\n",
    "```\n",
    "select Countrycode,sum(population) as population\n",
    "from city\n",
    "group by CountryCode\n",
    "having population>50000000\n",
    "order by population DESC;\n",
    "```"
   ]
  },
  {
   "cell_type": "markdown",
   "metadata": {},
   "source": [
    "#### 4\n",
    "```\n",
    "select Language, count(Language) as count\n",
    "from countrylanguage\n",
    "group by Language\n",
    "order by count DESC\n",
    "limit 4,6;\n",
    "```"
   ]
  },
  {
   "cell_type": "markdown",
   "metadata": {},
   "source": [
    "#### 5\n",
    "```\n",
    "select Language, count(language) as count\n",
    "from countrylanguage\n",
    "group by language\n",
    "having count>=15\n",
    "order by count DESC;\n",
    "```"
   ]
  },
  {
   "cell_type": "markdown",
   "metadata": {},
   "source": [
    "#### 6\n",
    "```\n",
    "select continent, sum(SurfaceArea) as SurfaceArea\n",
    "from country\n",
    "group by continent\n",
    "order by SurfaceArea DESC;\n",
    "```"
   ]
  },
  {
   "cell_type": "markdown",
   "metadata": {},
   "source": [
    "- having은 꼭 group by 뒤에 와야 됨 - 문법\n",
    "- order by는 having 다음에 와야 됨 - 문법\n",
    "- as 는 각각 다른 column 조합하여 새로운 column을 만들었을때 새로운 column name를 만들어 주는 기능\n",
    "- limit은 조회하는 데이터의 수를 제한, 데이터가 너무 많은 경우에는 항상 limit을 사용하여 적은 데이터를 조회해야 조회 시간이나 업데이트시의 실수를 줄일 수 있다\n",
    "    - LIMIT(index,y갯수)"
   ]
  }
 ],
 "metadata": {
  "kernelspec": {
   "display_name": "Python 3",
   "language": "python",
   "name": "python3"
  },
  "language_info": {
   "codemirror_mode": {
    "name": "ipython",
    "version": 3
   },
   "file_extension": ".py",
   "mimetype": "text/x-python",
   "name": "python",
   "nbconvert_exporter": "python",
   "pygments_lexer": "ipython3",
   "version": "3.7.0"
  }
 },
 "nbformat": 4,
 "nbformat_minor": 2
}
