{
 "cells": [
  {
   "cell_type": "markdown",
   "metadata": {},
   "source": [
    "# MySql Query"
   ]
  },
  {
   "cell_type": "markdown",
   "metadata": {},
   "source": [
    "#### distinct 데이터를 지우는게 아니고 보여지는 것을 중복을 빼고 보여지게 만드는 것\n",
    "```\n",
    "select count(distinct(Language)) as count\n",
    "from countrylanguage;\n",
    "```"
   ]
  },
  {
   "cell_type": "markdown",
   "metadata": {},
   "source": [
    "#### 대륙별 인구수와 GNP 최대값을 조회\n",
    "```\n",
    "select continent,max(Population),max(GNP)\n",
    "from country\n",
    "group by continent;\n",
    "```"
   ]
  },
  {
   "cell_type": "markdown",
   "metadata": {},
   "source": [
    "#### 대륙별 인구수와 GNP 최소값\n",
    "```\n",
    "select continent,min(Population),min(GNP)\n",
    "from country\n",
    "where GNP !=0 and Population !=0\n",
    "group by continent;\n",
    "```"
   ]
  },
  {
   "cell_type": "markdown",
   "metadata": {},
   "source": [
    "#### 대륙별 총 인구수와 총 GNP\n",
    "```\n",
    "select continent,sum(Population),sum(GNP)\n",
    "from country\n",
    "group by continent;\n",
    "```"
   ]
  },
  {
   "cell_type": "markdown",
   "metadata": {},
   "source": [
    "#### 한명당 GNP\n",
    "```\n",
    "select continent,sum(Population),sum(GNP), sum(GNP)/sum(Population)\n",
    "from country\n",
    "group by continent;\n",
    "```"
   ]
  },
  {
   "cell_type": "markdown",
   "metadata": {},
   "source": [
    "#### 대륙별 국가의 평균 인구수와 평균 GNP\n",
    "```\n",
    "select continent,avg(Population),avg(GNP)\n",
    "from country\n",
    "group by continent;\n",
    "```"
   ]
  },
  {
   "cell_type": "markdown",
   "metadata": {},
   "source": [
    "#### having 그룹바이 후 웨어\n",
    "#### 대륙별 전체 인구수를 출력하고 그중에서 인구수가 5억 이상인 대륙만 조회\n",
    "```\n",
    "select continent, sum(Population) as population\n",
    "from country\n",
    "group by continent\n",
    "having population>500000000;\n",
    "```"
   ]
  },
  {
   "cell_type": "markdown",
   "metadata": {},
   "source": [
    "#### having\n",
    "#### 대륙별로 평균 인구수, 평균GNP, 1인당 GNP한 결과(인구수와 GNP가 0인 국가는 제외)\n",
    "#### 1인당 GNP가 0.01이상인 결과를 조회하고 1인당 GNP순으로 내림차순해서 정렬\n",
    "```\n",
    "select continent, avg(population), avg(GNP), avg(GNP)/avg(population) as GNP\n",
    "from country\n",
    "where GNP !=0 and population !=0\n",
    "group by continent\n",
    "having GNP>0.01\n",
    "order by GNP DESC;\n",
    "```"
   ]
  },
  {
   "cell_type": "markdown",
   "metadata": {},
   "source": [
    "#### Quiz 1\n",
    "#### 1\n",
    "```\n",
    "select continent \n",
    "from country\n",
    "group by continent;\n",
    "```\n",
    "\n",
    "#### 1 다른 풀이법\n",
    "\n",
    "```\n",
    "select distinct(continent)\n",
    "from country;\n",
    "```"
   ]
  },
  {
   "cell_type": "markdown",
   "metadata": {},
   "source": [
    "#### 2\n",
    "```\n",
    "select Name, Population\n",
    "from city\n",
    "where countrycode =\"KOR\"\n",
    "and population>1000000\n",
    "order by population > 10000000 DESC;\n",
    "```"
   ]
  },
  {
   "cell_type": "markdown",
   "metadata": {},
   "source": [
    "#### 3\n",
    "```\n",
    "select Name, CountryCode, Population\n",
    "from city\n",
    "where Population >=8000000 and Population<=10000000\n",
    "order by population DESC;\n",
    "```\n",
    "\n",
    "#### 3다른풀이\n",
    "```\n",
    "select Name, CountryCode, Population\n",
    "from city\n",
    "where population between 8000000 and 10000000\n",
    "order by population DESC;\n",
    "```"
   ]
  },
  {
   "cell_type": "markdown",
   "metadata": {},
   "source": [
    "#### 4 \n",
    "```\n",
    "select code,\n",
    "concat(name,\"(\",IndepYear,\")\") as NameIndep,continent,population\n",
    "from country\n",
    "where IndepYear between 1940 and 1950\n",
    "order by IndepYear;\n",
    "```"
   ]
  },
  {
   "cell_type": "markdown",
   "metadata": {},
   "source": [
    "#### 5\n",
    "```\n",
    "select CountryCode, Language, Percentage\n",
    "from countrylanguage\n",
    "where language in (\"English\", \"Korean\", \"Spanish\")\n",
    "and Percentage>95\n",
    "order by percentage DESC;\n",
    "```"
   ]
  },
  {
   "cell_type": "markdown",
   "metadata": {},
   "source": [
    "#### 6\n",
    "```\n",
    "select Code,Name,Continent,GovernmentForm,Population\n",
    "from country\n",
    "where Code like \"A%\" and GovernmentForm like \"%Republic%\";\n",
    "```"
   ]
  }
 ],
 "metadata": {
  "kernelspec": {
   "display_name": "Python 3",
   "language": "python",
   "name": "python3"
  },
  "language_info": {
   "codemirror_mode": {
    "name": "ipython",
    "version": 3
   },
   "file_extension": ".py",
   "mimetype": "text/x-python",
   "name": "python",
   "nbconvert_exporter": "python",
   "pygments_lexer": "ipython3",
   "version": "3.7.0"
  }
 },
 "nbformat": 4,
 "nbformat_minor": 2
}
