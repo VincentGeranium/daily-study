{
 "cells": [
  {
   "cell_type": "markdown",
   "metadata": {},
   "source": [
    "# None 개념 배우기"
   ]
  },
  {
   "cell_type": "markdown",
   "metadata": {},
   "source": [
    "- None은 아무것도 없다는 의미의 상수"
   ]
  },
  {
   "cell_type": "code",
   "execution_count": 1,
   "metadata": {},
   "outputs": [],
   "source": [
    "val=None\n",
    "condition=1\n",
    "if condition==1:\n",
    "    val=[1,2,3]\n",
    "else:\n",
    "    val='I love You'"
   ]
  },
  {
   "cell_type": "code",
   "execution_count": 2,
   "metadata": {},
   "outputs": [
    {
     "name": "stdout",
     "output_type": "stream",
     "text": [
      "[1, 2, 3]\n"
     ]
    }
   ],
   "source": [
    "print(val)"
   ]
  },
  {
   "cell_type": "markdown",
   "metadata": {},
   "source": [
    "#### 파이썬 문서에서 설명하는 None"
   ]
  },
  {
   "cell_type": "markdown",
   "metadata": {},
   "source": [
    "- None는 Types.NoneType의 유일한 값으로, 값이 존재하지 않는 변수에 대입하여 이 변수에 아무런 값이 없다는 것을 나타내기 위해 주로 활용된다."
   ]
  },
  {
   "cell_type": "markdown",
   "metadata": {},
   "source": [
    "- None는 아무런 값도 없는 깡통 변수\n",
    "- val=None으로 선언한 경우, val은 아무런 값도 가지지 않는 변수이므로 이 변수로는 할 수 있는 것이 아무것도 없다\n",
    "- None으로 지정된 변수에 값이 있는 임의의 자료형을 대입하여 활용할 수 있다\n",
    "- 어떤 변수에 대입할 자료형을 결정하지 않은 상태로 선언할 때 None을 대입\n",
    "- 함수에서 아무 값도 리턴하지 않고 끝낼 때 사용\n",
    "- 함수 로직에서 예외가 발생하거나 오류가 발생하여 None을 리턴하여 종료하면 이 함수를 호출한 쪽에서 함수가 실행 도중 오류가 발생하여 비정상적으로 종료되었음을 알 수 있게 함"
   ]
  },
  {
   "cell_type": "code",
   "execution_count": null,
   "metadata": {},
   "outputs": [],
   "source": []
  }
 ],
 "metadata": {
  "kernelspec": {
   "display_name": "Python 3",
   "language": "python",
   "name": "python3"
  },
  "language_info": {
   "codemirror_mode": {
    "name": "ipython",
    "version": 3
   },
   "file_extension": ".py",
   "mimetype": "text/x-python",
   "name": "python",
   "nbconvert_exporter": "python",
   "pygments_lexer": "ipython3",
   "version": "3.7.0"
  }
 },
 "nbformat": 4,
 "nbformat_minor": 2
}
