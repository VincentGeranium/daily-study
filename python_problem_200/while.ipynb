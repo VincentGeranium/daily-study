{
 "cells": [
  {
   "cell_type": "markdown",
   "metadata": {},
   "source": [
    "# While문 개념 배우기"
   ]
  },
  {
   "cell_type": "markdown",
   "metadata": {},
   "source": [
    "## while ~ continue ~ break"
   ]
  },
  {
   "cell_type": "markdown",
   "metadata": {},
   "source": [
    "- for은 특정 범위에서, while은 특정 조건에서 코드를 반복 수행하게 합니다"
   ]
  },
  {
   "cell_type": "code",
   "execution_count": 1,
   "metadata": {},
   "outputs": [
    {
     "name": "stdout",
     "output_type": "stream",
     "text": [
      "3\n",
      "4\n",
      "5\n",
      "6\n",
      "7\n",
      "8\n"
     ]
    }
   ],
   "source": [
    "x=0\n",
    "while x<10:\n",
    "    x=x+1\n",
    "    if x<3:\n",
    "        continue\n",
    "    print(x)\n",
    "    if x>7:\n",
    "        break"
   ]
  },
  {
   "cell_type": "markdown",
   "metadata": {},
   "source": [
    "- for문이 범위가 지정된 자료나 반복 가능한 객체를 이용해 반복문을 수행하는 것.\n",
    "- while문은 특정 조건을 만족하는 경우 지속적으로 반복을 수행하는 반복문."
   ]
  },
  {
   "cell_type": "markdown",
   "metadata": {},
   "source": [
    "#### while문의 기본적인 구문"
   ]
  },
  {
   "cell_type": "markdown",
   "metadata": {},
   "source": [
    "```\n",
    "while 조건:\n",
    "    반복 실행 코드\n",
    "continue    #while 구문 처음으로 이동하여 반복문 계속\n",
    "...\n",
    "break       #while 구문을 탈출\n",
    "```"
   ]
  },
  {
   "cell_type": "markdown",
   "metadata": {},
   "source": [
    "- while 다음에 놓인 조건이 거짓일 때까지 while 반복문을 실행\n",
    "- while 내에서 continue 키워드를 만나면 while 반복문 처음으로 돌아와 반복문을 계속 수행\n",
    "- while 반복문 내에서 break 키워드를 만나면 while 반복문을 탈출"
   ]
  },
  {
   "cell_type": "markdown",
   "metadata": {},
   "source": [
    "#### while문은 특정 조건을 만족할 때까지 반복 실행하는 무한 루프를 구현하는 경우에 많이 사용"
   ]
  },
  {
   "cell_type": "code",
   "execution_count": 6,
   "metadata": {},
   "outputs": [
    {
     "name": "stdout",
     "output_type": "stream",
     "text": [
      "447\n",
      "100128\n"
     ]
    }
   ],
   "source": [
    "x=1\n",
    "total=0\n",
    "while True:\n",
    "    total = total+x\n",
    "    if total>100000:\n",
    "        print(x)\n",
    "        print(total)\n",
    "        break\n",
    "    x=x+1"
   ]
  },
  {
   "cell_type": "code",
   "execution_count": null,
   "metadata": {},
   "outputs": [],
   "source": []
  }
 ],
 "metadata": {
  "kernelspec": {
   "display_name": "Python 3",
   "language": "python",
   "name": "python3"
  },
  "language_info": {
   "codemirror_mode": {
    "name": "ipython",
    "version": 3
   },
   "file_extension": ".py",
   "mimetype": "text/x-python",
   "name": "python",
   "nbconvert_exporter": "python",
   "pygments_lexer": "ipython3",
   "version": "3.7.0"
  }
 },
 "nbformat": 4,
 "nbformat_minor": 2
}
