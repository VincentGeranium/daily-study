{
 "cells": [
  {
   "cell_type": "markdown",
   "metadata": {},
   "source": [
    "# Constant"
   ]
  },
  {
   "cell_type": "markdown",
   "metadata": {},
   "source": [
    "## What is Constant ?"
   ]
  },
  {
   "cell_type": "markdown",
   "metadata": {},
   "source": [
    "- Constans(상수) 와 Literal 둘 다 변하지 않는 값(Data)를 의미\n",
    "- In code(코드적으로)으로 보면, Constant는 변하지 않는 변수를 뜻한다\n",
    "- Contant에 넣는 데이터는 숫자가 올 수도 있지만, 클래스나 구조체 같이 기본형에서 파생된 객체나 유도형 같은 데이터를 넣을 수 있다"
   ]
  },
  {
   "cell_type": "markdown",
   "metadata": {},
   "source": [
    "```\n",
    "Constant는 데이터가 변하지 않아야 한다고 했다. 그래서 참조변수를 constant로 지정 할 때,\n",
    "참조변수에 넣은 인스턴스 안의 데이터 까지도 변하지 않는 줄 알고 있을 수 있지만, \n",
    "참조변수가 constant(참조변수 메모리의 주소값이 변하지 않는다라는 의미)지, 그 주소가 가리키는 데이터들까지 상수라는 의미가 아니다\n",
    "```"
   ]
  },
  {
   "cell_type": "markdown",
   "metadata": {},
   "source": [
    "# Literal"
   ]
  },
  {
   "cell_type": "markdown",
   "metadata": {},
   "source": [
    "## What is Literal ?"
   ]
  },
  {
   "cell_type": "markdown",
   "metadata": {},
   "source": [
    "- Literal은 data 그 자체를 뜻 한다.\n",
    "- 변수에 넣는 변하지 않는 \"Data\"를 의미하는 것이다.\n",
    "- 변하지 않는 데이터(Boolean, Char, Double, int...)를 literal이라고 부른다\n",
    "- 인스턴스는 Literal이 아니다\n",
    "    - 보통의 인스턴스는 동적으로 사용하기 위해 작성\n",
    "    - 값이 언제 바뀔지 모르는 것이기 때문\n",
    "- 데이터가 변하지 않도록 설계를 한 클래스를 immutable class(불변 클래스)라 한다\n",
    "    - 해당 클래스는 한번 생성하면 객체 안의 데이터가 변하지 않는다\n",
    "    - 변할 상황이면 새로운 객체를 만들어준다."
   ]
  },
  {
   "cell_type": "markdown",
   "metadata": {},
   "source": [
    "# Summary"
   ]
  },
  {
   "cell_type": "markdown",
   "metadata": {},
   "source": [
    "#### Constant(상수)는 변하지 않는 변수를 의미하며(메모리 위치) 메모리 값을 변경할 수 없다\n",
    "#### Literal은 변수의 값이 변하지 않는 데이터(메모리 위치 안의 값)를 의미한다"
   ]
  }
 ],
 "metadata": {
  "kernelspec": {
   "display_name": "Python 3",
   "language": "python",
   "name": "python3"
  },
  "language_info": {
   "codemirror_mode": {
    "name": "ipython",
    "version": 3
   },
   "file_extension": ".py",
   "mimetype": "text/x-python",
   "name": "python",
   "nbconvert_exporter": "python",
   "pygments_lexer": "ipython3",
   "version": "3.7.1"
  }
 },
 "nbformat": 4,
 "nbformat_minor": 2
}
