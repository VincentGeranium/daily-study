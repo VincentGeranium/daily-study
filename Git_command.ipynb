{
 "cells": [
  {
   "cell_type": "markdown",
   "metadata": {},
   "source": [
    "# git add 취소하기"
   ]
  },
  {
   "cell_type": "markdown",
   "metadata": {},
   "source": [
    "#### git add 명령을 사용하여 파일을 Staging Area에 넣은 경우"
   ]
  },
  {
   "cell_type": "markdown",
   "metadata": {},
   "source": [
    "- git reset HEAD [파일명]\n",
    "    - [파일명]에 들어간 파일 git add를 취소할 수 있다\n",
    "    - 뒤에 파일명이 없으면 add한 파일 전체를 취소한다.\n",
    "    - Unstaged 상태가 되는 것"
   ]
  },
  {
   "cell_type": "markdown",
   "metadata": {},
   "source": [
    "# git commit 취소하기"
   ]
  },
  {
   "cell_type": "markdown",
   "metadata": {},
   "source": [
    "#### commit 취소하기\n",
    "- 3가지 방법 소개"
   ]
  },
  {
   "cell_type": "markdown",
   "metadata": {},
   "source": [
    "- 완료한 commit을 취소해야 할 때가 있다.\n",
    "    - git log 를 통해 commit 목록을 확인"
   ]
  },
  {
   "cell_type": "markdown",
   "metadata": {},
   "source": [
    "#### 1. commit을 취소하고 해당 파일들은 staged 상태로 working directory에 보존\n",
    "- git reset --soft HEAD^"
   ]
  },
  {
   "cell_type": "markdown",
   "metadata": {},
   "source": [
    "#### 2. commit을 취소하고 해당 파일들은 unstaged 상태로 working directory에 보존\n",
    "- git reset --mixed HEAD^ [기본 옵션]\n",
    "- git reset HEAD^ [기본 옵션]\n",
    "- git reset HEAD~2 [마지막 2개의 commit을 취소]"
   ]
  },
  {
   "cell_type": "markdown",
   "metadata": {},
   "source": [
    "#### 3. commit을 취소하고 해당 파일들은 unstaged 상태로 working directory에서 삭제\n",
    "- git reset --hard HEAD^"
   ]
  },
  {
   "cell_type": "markdown",
   "metadata": {},
   "source": [
    "# commit message 변경하기"
   ]
  },
  {
   "cell_type": "markdown",
   "metadata": {},
   "source": [
    "#### commit message를 잘못 적은 경우\n",
    "- git commit --amend"
   ]
  },
  {
   "cell_type": "markdown",
   "metadata": {},
   "source": [
    "# git reset command"
   ]
  },
  {
   "cell_type": "markdown",
   "metadata": {},
   "source": [
    "- reset option\n",
    "    - --soft : index 보존(add 한 상태, staged 상태), working directory 파일 보존 [모두 보존]\n",
    "    - --mixed : index 취소(add 하기 전 상태, unstaged 상태), working directory 파일 보존 [기본 옵션]\n",
    "    - --hard : index 취소(add 하기 전 상태, unstaged 상태), working directory 파일 삭제 [모두 취소]"
   ]
  },
  {
   "cell_type": "markdown",
   "metadata": {},
   "source": [
    "# git push 취소"
   ]
  },
  {
   "cell_type": "markdown",
   "metadata": {},
   "source": [
    "- 1. working driectory 에서 commit를 되돌린다\n",
    "    - 가장 최근의 commit을 취소하고 working directory를 되돌린다.\n",
    "        - git reset HEAD^\n",
    "    - 원하는 시점으로 working directory를 되돌린다\n",
    "        - git reflog 또는 git log -g\n",
    "            - Reflog(branch와 HEAD가 지난 몇 달 동안에 가리켰었던 commit) 목록 확인\n",
    "        - git reset HEAD@{number} 또는 git reset [commit id]\n",
    "    "
   ]
  },
  {
   "cell_type": "markdown",
   "metadata": {},
   "source": [
    "- 2. 되돌려진 상태에서 다시 commit을 한다\n",
    "    - git commit -m \"write the commit msg\""
   ]
  },
  {
   "cell_type": "markdown",
   "metadata": {},
   "source": [
    "- 3. 원격 저장소에 강제로 push\n",
    "    - git push origin [branch name] -f (방법 1)\n",
    "    - git push origin +[branch name]"
   ]
  },
  {
   "cell_type": "markdown",
   "metadata": {},
   "source": [
    "# 경고 무시하고 강제로 push하기"
   ]
  },
  {
   "cell_type": "markdown",
   "metadata": {},
   "source": [
    "- 1. -f option 사용\n",
    "    - -force option과 동일\n",
    "- 2. +[branch name]\n",
    "    - 해당 branch를 강제로 push한다"
   ]
  }
 ],
 "metadata": {
  "kernelspec": {
   "display_name": "Python 3",
   "language": "python",
   "name": "python3"
  },
  "language_info": {
   "codemirror_mode": {
    "name": "ipython",
    "version": 3
   },
   "file_extension": ".py",
   "mimetype": "text/x-python",
   "name": "python",
   "nbconvert_exporter": "python",
   "pygments_lexer": "ipython3",
   "version": "3.7.1"
  }
 },
 "nbformat": 4,
 "nbformat_minor": 2
}
