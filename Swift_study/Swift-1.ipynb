{
 "cells": [
  {
   "cell_type": "markdown",
   "metadata": {},
   "source": [
    "# 1. APP ? "
   ]
  },
  {
   "cell_type": "markdown",
   "metadata": {},
   "source": [
    "- 앱(App)이란?\n",
    "    - 응용 프로그램인 애플리캐이션(Application)의 줄임말\n",
    "    - 애플에서 처음 사용하기 시작\n",
    "    - Iphone, Ipad등에서 동작하는 애플리케이션을 모두 앱 이라고 부른다\n",
    "    - 안드로이드, 팜, 윈도우 모바일 등 모든 스마트폰에 설치되는 응용 프로그램들도 '앱'이라고 부른다\n",
    "    - PC에서 사용되는 응용 프로그램까지 통틀어 '앱'이라고 부른다"
   ]
  },
  {
   "cell_type": "markdown",
   "metadata": {},
   "source": [
    "# 2. Swift의 장점"
   ]
  },
  {
   "cell_type": "markdown",
   "metadata": {},
   "source": [
    "- 빠르고 강력하다\n",
    "    - 스위프트는 발전된 코드 분석기를 이용하여 최적화된 컴파일을 수행한다\n",
    "- 완전한 플랫폼이다\n",
    "    - 애플의 코코아 프레임워크 및 코코아 터치 프레임워크의 모든 부분에 완전하게 접근할 수 있도록 개발 되었다\n",
    "- 현대적이다\n",
    "    - 스위프트는 읽고 쓰기 쉬운 문법으로 구성되었으며 헤더 파일 제거 등 현대적 언어의 특징을 대부분 포함하고 있다\n",
    "- 상호 반응적인 플레이그라운드\n",
    "    - 플레이그라운드를 사용하면 코드를 입력하자마자 바로 변수의 결과를 확인할 수 있으므로 간편하게 스위프트 문법을 익힐 수 있다\n",
    "- 안전을 위한 설계\n",
    "    - 스위프트는 버그, 충돌, 보안의 헛점 등이 있는 코드를 제거하고, 타입 추론에 의한 타입 안정성을 높였다\n",
    "    - 포인터와 같은 메모리에 직접 접근하는 방식을 완전히 차단하였고 메모리 관리를 자동화하여 안정적인 소프트웨어를 개발할 수 있도록 하였다\n",
    "- 오브젝트-C와의 상호 운용성\n",
    "    - 새 앱을 만들거나 앱에 새로운 기능을 구현하기 위해 기존의 오브젝트-C 코드와 혼합하여 사용할 수 있다\n",
    "- 오픈 소스이다\n",
    "    - 스위프트는 swift.org에 오픈 소스로 공개되어 많은 개발자가 함께 발전시켜 나갈 수 있다"
   ]
  },
  {
   "cell_type": "code",
   "execution_count": null,
   "metadata": {},
   "outputs": [],
   "source": []
  }
 ],
 "metadata": {
  "kernelspec": {
   "display_name": "Python 3",
   "language": "python",
   "name": "python3"
  },
  "language_info": {
   "codemirror_mode": {
    "name": "ipython",
    "version": 3
   },
   "file_extension": ".py",
   "mimetype": "text/x-python",
   "name": "python",
   "nbconvert_exporter": "python",
   "pygments_lexer": "ipython3",
   "version": "3.7.1"
  }
 },
 "nbformat": 4,
 "nbformat_minor": 2
}
