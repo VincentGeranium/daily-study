{
 "cells": [
  {
   "cell_type": "markdown",
   "metadata": {},
   "source": [
    "# 옵셔널\n",
    "## 스위프트가 잠재적 오류를 다루는 방법\n",
    "## 옵셔널 바인딩"
   ]
  },
  {
   "cell_type": "markdown",
   "metadata": {},
   "source": [
    "-  ### nil 체크 조건절을 사용하여 안전하게 옵셔널 타입을 해제할 수 있다\n",
    "    - #### 동일한 기능을 하는 비강제적인 해제 구문으로 바꾸어 작성이 가능하다\n",
    "    - #### 이는 if 구문내에사 조건식 대신 옵셔널 값을 일반 변수나 상수에 할당하는 구문을 사용하는 방식\n",
    "        - ### 옵셔널 바인딩(Optional Binding)라고 한다"
   ]
  },
  {
   "cell_type": "markdown",
   "metadata": {},
   "source": [
    "- ### 옵셔널 바인딩은 조건문 내에서 일반 상수에 옵셔널 값을 대입하는 방식으로 이루어진다\n",
    "- #### 반드시 조건문에서 사용해야만 하며, 상수에 옵셔널 값을 대입한 결과는 true/false로 리턴된다"
   ]
  },
  {
   "cell_type": "markdown",
   "metadata": {},
   "source": [
    "### 조건문 내에서 옵셔널 바인딩 처리\n",
    "\n",
    "```\n",
    "var str = \"Swift\"\n",
    "if let intFromStr = Int(str) {\n",
    "    print(\"값이 변환되었습니다. 변환된 값은 /(intFromStr)입니다\")\n",
    "} else {\n",
    "    print(\"값 변환에 실패하였습니다\")\n",
    "}\n",
    "```"
   ]
  },
  {
   "cell_type": "markdown",
   "metadata": {},
   "source": [
    "- #### intFormStr가 상수로 선언, 이 상수가 옵셔널 타입이 아닌 일반 타입이다\n",
    "- #### 강제 해제 연산자를 사용하지 않아도 옵셔널 값이 일반 변수나 상수에 할당되면서 자연스럽게 옵셔널 타입이 해제\n",
    "    - #### 값이 nil이더라도 값의 할당이 실패하여 결과값이 false로 반환될 뿐이므로 오류는 발생하지 않는다\n",
    "- #### 단지 else 블록이 실행될 뿐이다"
   ]
  },
  {
   "cell_type": "markdown",
   "metadata": {},
   "source": [
    "### guard 구문을 이용하여 옵셔널 바인딩을 구현\n",
    "\n",
    "```\n",
    "func intStr(str:String) {\n",
    "    \n",
    "    guard let intFromStr = Int(str) else {\n",
    "        print(\"값 변환에 실패하였습니다\")\n",
    "        return\n",
    "    }\n",
    "    \n",
    "    print(\"값이 변환되었습니다. 변환된 값은 \\(intFromStr)입니다\")\n",
    "}\n",
    "```"
   ]
  },
  {
   "cell_type": "markdown",
   "metadata": {},
   "source": [
    "- #### guard 구문은 특성상 함수나 메소드에만 사용할 수 있기 때문에 intStr( ) 함수를 정의하고 그 안에 guard 구문을 작성\n",
    "- 실제로 앱을 만드는 과정은 거의 대부분은 함수로 이루어진다"
   ]
  },
  {
   "cell_type": "markdown",
   "metadata": {},
   "source": [
    "- #### guard 구문을 사용하더라도 옵셔널 바인딩 방식은 동일하다\n",
    "    - #### 상수를 선언하고, 여기에 옵셔널 값을 대입한다\n",
    "- #### 하지만 사용 용법상 if 구문 내에서 옵셔널 바인딩을 사용하는 것과 구분해야 할 필요는 있다\n",
    "    - #### if 구문을 사용한 옵셔널 바인딩은 단순히 옵셔널 값의 처리 결과에 따라 서로 다른 피드백을 주고 싶을 때 사용한다\n",
    "    - #### guard 구문은 조건에 맞지 않으면 무조건 함수의 실행을 종료시키는 특성이 있다\n",
    "        - #### 실행 흐름상 옵셔널 값이 해제되지 않으면 더 이상 진행이 불가능할 정도로 큰일이 생길 때에만 사용하는 것이 좋다\n",
    "- #### 참고로, 옵셔널 타입이긴 하지만 절대 nil 값이 들어가지 않을 것이라는 보장이 있을 때에는 강제 해제 연산자를 사용하여 옵셔널 타입을 처리하는 것이 효율적"
   ]
  },
  {
   "cell_type": "markdown",
   "metadata": {},
   "source": [
    "### 딕셔너리의 선언\n",
    "\n",
    "```\n",
    "var capital = [\"KR\" : \"Seoul\" , \"EN\" : \"London\" , \"FR\" : \"Paris\"]\n",
    "\n",
    "print(capital[\"KR\"])\n",
    "print(capital[\"KR\"]!)\n",
    "\n",
    "\n",
    "[실행 결과]\n",
    "Optional(\"Seoul\")\n",
    "Seoul\n",
    "```"
   ]
  },
  {
   "cell_type": "markdown",
   "metadata": {},
   "source": [
    "- #### 딕셔너리에 키로 접근하면 그 결과값은 옵셔널 타입으로 반환된다\n",
    "- #### 옵셔널 타입 대신 일반 타입의 값을 얻으려면 capital[\"KR\"] 뒤에 ! 연산자를 붙여야 한다\n",
    "    - #### 그렇지 않으면 옵셔널 타입이 그대로 반환되어 예제에서 보는 것과 같이 Optional(\"Seoul\")이 반환된다"
   ]
  },
  {
   "cell_type": "markdown",
   "metadata": {},
   "source": [
    "### 딕셔너리가 옵셔널 타입의 값을 반환하는 이유\n",
    "- #### 딕셔너리에 키로 사용될 수 있는 값은 Hashable 프로토콜이 구현된 모든 자료형이다\n",
    "- #### 정해진 숫자 0,1,2,3..... 만 차례대로 들어갈 수 있는 배열과 달리 딕셔너리는 미리 정해진 키 값만 사용되는 것이 아니라 무작위로 키가 사용될 수 있다\n",
    "- #### 키 사용에 대한 제한이 거의 없는 거나 마찬가지이므로 키가 있는지를 점검하기도 어렵다\n",
    "    - #### 이 때문에 딕셔너리에서 값을 읽을 때에는 존재하지 않는 키를 사용할 가능성이 있다\n",
    "        - #### 이 경우 딕셔너리는 주어진 키 값이 비어있거나 입력된 키가 아예 없다는 것을 표현하기 위해 nil 을 반환해야 한다\n",
    "            - #### 이 때문에 딕셔너리는 기본적으로 옵셔널 타입으로 정의된 값을 반환하게 된다"
   ]
  },
  {
   "cell_type": "markdown",
   "metadata": {},
   "source": [
    "- #### 위 코드는 잘 구성된 코드는 아니다\n",
    "- #### nil 여부를 체크하지 않고 ! 연산자를 사용하여 바로 강제 해제를 실행했기 때문이다\n",
    "    - #### 이를 그대로 실행시 오류가 발생할 수 있다"
   ]
  },
  {
   "cell_type": "markdown",
   "metadata": {},
   "source": [
    "### 위의 코드 보안\n",
    "\n",
    "```\n",
    "if (capital[\"KR\"] != nil) {\n",
    "    print(capital[\"KR\"]!)\n",
    "}\n",
    "```\n",
    "\n",
    "### 위의 코드 보안 2\n",
    "\n",
    "```\n",
    "if let val = capital[\"KR\"] {\n",
    "    print(val)\n",
    "}\n",
    "```"
   ]
  },
  {
   "cell_type": "markdown",
   "metadata": {},
   "source": [
    "- #### 옵셔널 타입에서 ! 연산자를 사용할 때는 반드시 nil 점검을 해 주어야 오류를 미연에 방지할 수 있다"
   ]
  }
 ],
 "metadata": {
  "kernelspec": {
   "display_name": "Python 3",
   "language": "python",
   "name": "python3"
  },
  "language_info": {
   "codemirror_mode": {
    "name": "ipython",
    "version": 3
   },
   "file_extension": ".py",
   "mimetype": "text/x-python",
   "name": "python",
   "nbconvert_exporter": "python",
   "pygments_lexer": "ipython3",
   "version": "3.7.1"
  }
 },
 "nbformat": 4,
 "nbformat_minor": 2
}
