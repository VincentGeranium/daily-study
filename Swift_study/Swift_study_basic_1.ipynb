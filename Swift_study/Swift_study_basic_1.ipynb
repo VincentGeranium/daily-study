{
 "cells": [
  {
   "cell_type": "markdown",
   "metadata": {},
   "source": [
    "# 첫 번째 iOS 앱 만들기"
   ]
  },
  {
   "cell_type": "markdown",
   "metadata": {},
   "source": [
    "### iOS 기반의 기기에서 실행되는 모든 앱은 콘텐츠를 보여주는 데 있어 화면 공간의 제약을 받는다\n",
    "- #### 데스크톱 화면처럼 넓은 화면을 사용할 수 있는 것도 아니고, 무한정 화면 개수를 늘릴 수도 없다\n",
    "- #### 그래서 항상 정보와 콘텐츠를 사용자들에게 어떤 방식으로 전달할 것인가에 대해 창조적일 수 밖에 없다\n",
    "- #### 보여줄 내용이 많으면 필연적으로 간단하게 요약된 화면을 먼저 제공\n",
    "    - #### 그 후 사용자의 액션에 따라 상세하고 많은 내용을 보여줄 수 있도록 UI 구성 원칙에 따라 앱을 구성하는 것이 중요"
   ]
  },
  {
   "cell_type": "markdown",
   "metadata": {},
   "source": [
    "### 뷰 컨트롤러(View Controller)\n",
    "- #### 뷰 컨트롤러(View Controller)는 이런 원칙에 따라 하위에 있는 콘텐츠를 관리하고, 보여주거나 숨기는 등의 구성을 조정하는 역활을 한다\n",
    "    - #### 그래서 뷰 컨트롤러는 내부적으로 뷰를 포함하고 있으며, 뷰에 대한 관리를 주로 한다\n",
    "\n",
    "### 하지만 이것이 뷰 컨트롤러가 맡은 유일한 역활은 아니다\n",
    "- #### 대부분의 뷰 컨트롤러는 화면 전환이 발생할 때 다른 뷰 컨드롤러와 서로 통신하고 조정하는 일을 수행한다"
   ]
  },
  {
   "cell_type": "markdown",
   "metadata": {},
   "source": [
    "### 뷰 컨트롤러가 내부적으로 콘텐츠를 관리하기 위해 뷰를 포함하고, 조정하며 외부적으로는 다른 뷰 컨트롤러와 연결되고 앱의 데이터를 화면으로 연결해주는 역활까지 하고 있기 때문에, 객체간의 연결 관계까지 한꺼번에 이해하는 것은 무척 힘든 일이다"
   ]
  },
  {
   "cell_type": "markdown",
   "metadata": {},
   "source": [
    "### 그래서 그 대신, 인터페이스 빌더를 사용하여 스토리보드라는 형식의 파일을 만들게 된다\n",
    "- #### 스토리보드는 앱에서 연결 관계를 더 쉽게 눈으로 직접 확인할 수 있도록 해주며, 실행 시 앱을 초기화하기 위해 필요한 여러가지 노력을 매우 간단하게 줄여준다"
   ]
  },
  {
   "cell_type": "markdown",
   "metadata": {},
   "source": [
    "#### p.2 그림 1-1 참조"
   ]
  },
  {
   "cell_type": "markdown",
   "metadata": {},
   "source": [
    "### 화면을 구성하는 데에는 세 가지 주요 객체가 사용된다\n",
    "- #### UIScreen 기기에 연결되는 물리적인 화면을 정의하는 객체\n",
    "- #### UIWindow 화면 그리기 지원 도구를 제공하는 객체\n",
    "- #### UIView 그리기를 수행할 객체 세트"
   ]
  },
  {
   "cell_type": "markdown",
   "metadata": {},
   "source": [
    "### Window에 첨부된 UIView 객체는 이것을 기본으로 하는 많은 파생 요소들을 가지는 객체로서, 우리가 흔히 접하는 화면 구성 요소 대부분이 이에 해당한다\n",
    "- #### 수많은 UIView 객체가 모인 Window는 이들을 화면으로 구성하여 Screen 객체에 보내고, Screen 객체는 이를 물리적인 기기에 표시한다\n",
    "\n",
    "### UIKit 프레임워크와 화면 구성요소의 관계\n",
    "- #### 이 객체들은 모두 UIKit 프레임워크에 정의된 클래스\n",
    "    - #### 이 객체들과 연관된 주요 클래스들이 UIKit 프레임워크 내에서 어떻게 정의되어 있는지 보여준다\n",
    "    - #### p.3 그림 1-2 참조\n",
    "    \n",
    "```\n",
    "NSObject\n",
    "∟UIScreen\n",
    "∟UIResponder\n",
    "    ∟UIView\n",
    "        ∟UIWindow\n",
    "        ∟UIControl\n",
    "```"
   ]
  },
  {
   "cell_type": "markdown",
   "metadata": {},
   "source": [
    "### UIKit 프레임워크와 화면 구성요소의 관계에서는 뷰 컨트롤러가 빠져 있다\n",
    "- #### 사실 뷰 컨트롤러는 화면을 그려내는 데에 반드시 필요한 요소는 아니다\n",
    "- #### 앱 아키텍처에서 MVC 패턴을 도입하면서 생겨나게 된 단순한 컨트롤러 객체라고 볼 수 있다\n",
    "\n",
    "### 하지만 iOS에서 뷰 컨트롤러에 기대하는 특별한 역활이 있는데,\n",
    "- #### 바로 뷰와 리소스를 관리하는 역활이다\n",
    "- #### 모든 뷰 컨트롤러는 이 역활을 해야 하고, 각 역활에 대한 내용은 모두 UIViewController 클래스에 정의되어 있다\n",
    "\n",
    "### 따라서 모든 뷰 컨트롤러는 UIViewController 클래스를 상속받아야 한다"
   ]
  },
  {
   "cell_type": "markdown",
   "metadata": {},
   "source": [
    "### 화면을 구성할 때 Window에 뷰 객체를 바로 할당해서는 안된다.\n",
    "- #### 대신 Window에 뷰 컨트롤러를 할당해서 뷰 컨트롤러가 자동으로 자신에게 첨부된 뷰들을 화면에 추가하도록 해야 한다\n",
    "- #### p.4 그림 1-3 참조"
   ]
  }
 ],
 "metadata": {
  "kernelspec": {
   "display_name": "Python 3",
   "language": "python",
   "name": "python3"
  },
  "language_info": {
   "codemirror_mode": {
    "name": "ipython",
    "version": 3
   },
   "file_extension": ".py",
   "mimetype": "text/x-python",
   "name": "python",
   "nbconvert_exporter": "python",
   "pygments_lexer": "ipython3",
   "version": "3.7.1"
  }
 },
 "nbformat": 4,
 "nbformat_minor": 2
}
