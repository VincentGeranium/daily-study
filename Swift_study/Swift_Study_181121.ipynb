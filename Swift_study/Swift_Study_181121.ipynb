{
 "cells": [
  {
   "cell_type": "markdown",
   "metadata": {},
   "source": [
    "# Objective-C VS Swift"
   ]
  },
  {
   "cell_type": "markdown",
   "metadata": {},
   "source": [
    "## 1. 파일 통합\n",
    "- Objective-C는 C를 기초로 만들어진 언어\n",
    "    - 파일 구조도 C처럼 헤더 파일과 소스 파일로 구분\n",
    "    - .h 확장자로 작성되는 헤더 파일은 변수나 상수에 대한 성언, 인터페이스에 대한 정의가 작성\n",
    "    - .m 확장자로 작성되는 소스 파일은 헤더 파일에서 정의한 인터페이스를 구현하는 내용이 작성\n",
    "        - 선엉과 구현이 분리되는 형태\n",
    "- 스위프트는 헤더 파일과 소스 파일이 모두 .swift 확장자를 갖는 파일 하나로 통합\n",
    "    - 변수나 상수, 각종 객체의 형식에 대한 선언과 실질적인 내용 구현이 모두 하나의 파일에서 이루어진다"
   ]
  },
  {
   "cell_type": "markdown",
   "metadata": {},
   "source": [
    "## 2. 클래스의 정의와 구현\n",
    "- 클래스를 작성할 때 Objective-C는 헤더 파일에 클래스의 인터페이스를 정의, 소스 파일에서는 정의된 인터페이스를 구현\n",
    "    - Objective-C는 클래스 선언 시 반드시 상위 클래스를 상속받아야 하며, 아무것도 상속받을 필요가 없을 때라도 최상의 클래스인 NSObject를 상속받아야 한다\n",
    "- 스위프트에서는 클래스의 인터페이스 정의 없이 바로 클래스를 구현하면 됨\n",
    "    - 스위프트에서는 상속받아야 할 클래스가 없으면 정말 아무것도 상속받지 않아도 된다"
   ]
  },
  {
   "cell_type": "markdown",
   "metadata": {},
   "source": [
    "#### 예시\n",
    "- Objective-C : 클래스 선언 -  헤더 파일\n",
    "```\n",
    "@interface Player : NSObject\n",
    "@End\n",
    "```"
   ]
  },
  {
   "cell_type": "markdown",
   "metadata": {},
   "source": [
    "#### 예시\n",
    "- Objective-C : 클래스 구현 - 소스 파일\n",
    "```\n",
    "@implementation Player\n",
    "@end\n",
    "```"
   ]
  },
  {
   "cell_type": "markdown",
   "metadata": {},
   "source": [
    "#### 예시\n",
    "- 스위프트 파일 : 클래스 구현\n",
    "\n",
    "```\n",
    "class Player{\n",
    "    \n",
    "}\n",
    "```"
   ]
  },
  {
   "cell_type": "markdown",
   "metadata": {},
   "source": [
    "## 3. 상속\n",
    "- Objective-C 는 다중 상속을 지원하지는 않는다\n",
    "    - 그러나 자바의 인터페이스(Interface)에 해당하는 개념인 프로토콜(Protocol)을 정의하여 클래스 객체가 준수해야 할 형식을 제공할 수 있다\n",
    "    - 카테고리(Category) 개념을 통해 상속 대신 기존 객체 자체를 직접 확장할 수 있다\n",
    "    \n",
    "- 스위프트도 다중 상속을 지원하지 않으며 프로토콜을 정의할 수 있다\n",
    "    - 기존 객체를 직접 확장할 수 있도록 Extension이 제공, 이는 Objective-C의 카테고리에 대응하는 개념\n",
    "        - 단, Objective-C에서 클래스 객체만 확장할 수 있었던 카테고리에 비해 스위프트의 Extension은 클래스, 구조체, 프로토콜 등 대부분 객체에 적용할 수 있다"
   ]
  },
  {
   "cell_type": "markdown",
   "metadata": {},
   "source": [
    "## 4. 범용 타입\n",
    "- 개발의 편의와 효율성을 높이기 위해 모든 데이터 타입을 저장할 수 있는 범용 타입 객체가 필요\n",
    "    - Objective-C에서는 이와 같은 범용 타입으로 id 타입을 제공\n",
    "        - id 타입은 모든 타입의 데이터를 저장할 수 있을 뿐만 아니라, 호환성만 보장된다면 저장된 데이터를 어떠한 타입으로든 변환할 수 있는 특성을 가지고 있다\n",
    "        - 코코아 프레임워크나 코코아 터치 프레임워크에서는 범용 타입을 이용한 API들이 많이 사용되고 있다\n",
    "\n",
    "- 스위프트 역시 동일한 코코아 프레임워크나 코코아 터치 프레임워크를 사용하기 때문에, Objective-C의 id 타입에 대응하는 범용 타입의 객체가 필요\n",
    "    - 이 때문에 제공되는 것이 Any타입과 AnyObject 클래스이다\n",
    "        - Any는 구조체, 클래스, 열거형, 함수 등 스위프트에서 제공하는 모든 타입의 값을 저장\n",
    "        - AnyObject는 클래스에 한해 범용으로 사용 가능한 데이터 타입"
   ]
  },
  {
   "cell_type": "markdown",
   "metadata": {},
   "source": [
    "## 5. 메소드 호출\n",
    "- Objective-C는 스몰토크의 문법을 차용, 메소드 호출을 메세지 전송 방식으로 처리\n",
    "    - 객체의 메소드를 호출하는 대신 객체에 메시지를 보내서 필요한 기능을 처리함\n",
    "    - 객체와 메시지는 공백을 통해 연결, 대괄호 ([])를 사용하여 메시지 전송 단위를 감싸서 구분\n",
    "    \n",
    "- 스위프트는 일반적인 객체지향에서의 메소드 호출 방식을 따른다\n",
    "    - 객체와 메소드 사이는 점(.)을 통해 연결되고, 메소드 호출 단위를 감싸는 구분자는 사용하지 않는다"
   ]
  },
  {
   "cell_type": "markdown",
   "metadata": {},
   "source": [
    "#### 예제\n",
    "- Objective-C 에서의 메소드 호출\n",
    "```\n",
    "[인스턴스명 incrementBy:3]\n",
    "```"
   ]
  },
  {
   "cell_type": "markdown",
   "metadata": {},
   "source": [
    "#### 예제\n",
    "- 스위프트에서의 메소드 호출\n",
    "```\n",
    "인스턴스명.incrementBy(3)\n",
    "```"
   ]
  },
  {
   "cell_type": "markdown",
   "metadata": {},
   "source": [
    "## 6. nil의 의미"
   ]
  },
  {
   "cell_type": "markdown",
   "metadata": {},
   "source": [
    "- Objective-C 에서는 존재하지 않는 객체에 대한 참조를 위해 nil이라는 상수를 사용\n",
    "- nil과 NULL의 차이\n",
    "    - 엄격하게 말해서 Objective-C에서 정의된 nil 상수와 C에서 정의된 NULL 상수 간에 차이는 있지만, Objective-C 문법에서 두 수는 기술적으로 혼용 할 수 있다\n",
    "    - 일반적으로는 nil은 클래스 객체를 참조하는 데에 사용됨\n",
    "    - NULL은 그 밖에 다른 포인터 자료형에 사용됨"
   ]
  },
  {
   "cell_type": "markdown",
   "metadata": {},
   "source": [
    "#### 예제\n",
    "- UIViewController *uvc = nil;\n",
    "    - 객체의 빈 참조에 사용되는 nil\n",
    "    \n",
    "#### 예제\n",
    "- int *sPtr = NULL;\n",
    "    - 포인터 지료형의 빈 참조에 사용되는 NULL"
   ]
  },
  {
   "cell_type": "markdown",
   "metadata": {},
   "source": [
    "#### 반면, 스위프트에서 nil은 옵셔널 타입의 기본값으로 사용되며 \"값이 존재하지 않음\"을 의미\n",
    "- 스위프트에서는 NULL 상수가 정의되어 있지 않다"
   ]
  },
  {
   "cell_type": "markdown",
   "metadata": {},
   "source": [
    "#### 예제\n",
    "- var name: String? = nil\n",
    "    - 옵셔널 타입의 기본값으로 nil이 대입"
   ]
  },
  {
   "cell_type": "markdown",
   "metadata": {},
   "source": [
    "## 7. 포인터 사용\n",
    "- Objective-C는 C의 포인터 문법을 그대로 물려받음\n",
    "    - 객체에 대한 인스턴스 변수를 정의할 때에는 항상 포인터를 사용하는 레퍼런스 참조를 기본으로 사용\n",
    "    \n",
    "- 스위프트에서는 이러한 포인터 개념을 제거하여 개발자가 직접 레퍼런스를 참조하지 않도록 함\n",
    "    - 대신, 객체의 종류에 따라 컴파일러가 직접 레퍼런스를 참조할 것인지 아니면 객체를 복사할 것인지를 결정\n",
    "    - 클래스는 포인터를 사용하지 않아도 자동으로 레퍼런스를 참조\n",
    "    - 구조체는 객체를 복사하여 사용하는 방식으로 처리"
   ]
  },
  {
   "cell_type": "markdown",
   "metadata": {},
   "source": [
    "## 8. 객체지향 타입\n",
    "- Objective-C는 객체지향을 위한 타입으로 클래스를 제공\n",
    "    - @Interface 어노테이션을 이용하여 형식을 선언\n",
    "    - @Implementation 어노테이션을 이용하여 실질적인 내용을 구현\n",
    "        - 이렇게 작성된 클래스를 사용할 때에는 인스턴스를 생성하여 사용함\n",
    "- 스위프트에서는 객체지향용 타입으로는 클래스뿐만 아니라 구조체, 열거형까지 제공\n",
    "    - 이들 객체 타입은 모두 인스턴스를 만들 수 있으며 인스턴스와 관련된 변수, 상수를 \"속성(property)\"으로 선언하여 사용할 수 있다\n",
    "    - 이들 객체 타입에 인스턴스 메소드와 타입 메소드를 작성하여 사용할 수도 있다"
   ]
  },
  {
   "cell_type": "markdown",
   "metadata": {},
   "source": [
    "#### 스위프트 객체지향 타입들 예시\n",
    "- 클래스\n",
    "```\n",
    "class SampleClass{\n",
    "}\n",
    "```\n",
    "\n",
    "- 구조체(Structure)\n",
    "```\n",
    "structure Samplestructure{\n",
    "}\n",
    "```\n",
    "\n",
    "- 열거형(Enumeration)\n",
    "```\n",
    "enum SampleEnum{\n",
    "}\n",
    "```"
   ]
  },
  {
   "cell_type": "markdown",
   "metadata": {},
   "source": [
    "## 9. 익명 함수\n",
    "- 현대 프로그래밍 개념에서 익명 함수의 사용은 람다 함수를 사용할 수 있게 해주는 리스프, 스킴 같은 함수형 프로그래밍 언어로부터 도입\n",
    "- 람다 함수는 함수 기반으로 정의되는 코드 내에서 한 번만 사용하면 되는 코드마저 함수로 선언해서 사용해야 하는 번거로움을 피할 수 있게 해 줌으로써 코드를 더욱 간결하게 만들어 준다\n",
    "- 람다 함수는 최근 자바 8에서도 도입되는 등 프로그래밍 언어의 강력한 기능으로 고려되고 있다\n",
    "- Objective-C 에서는 블록(Block)이라는 개념으로 익명 함수를 표현\n",
    "- 스위프트에서는 클로저를 이용한 익명 함수 정의 문법으로 제공됨"
   ]
  },
  {
   "cell_type": "markdown",
   "metadata": {},
   "source": [
    "## 10. 오류 처리\n",
    "- 일반적으로 객체 지향 언어에서 제공하는 오류 처리 기능은 오류 발생이 예상되는 지점에 미리 오류를 검출하는 코드를 작성\n",
    "    - 실제로 오류가 발생할 때 정해진 코드 블록 바깥으로 오류 정보를 던져 처리 할 수 있도록 지원하는 방식\n",
    "- Objective-C에서도 오류를 검출하기 위한 기능은 제공 \n",
    "    - 이는 읽고 쓸 수 있는 매개변수를 사용하여 오류를 검출해내는 방법이었을 뿐 오류 처리를 위한 구문이 별도로 제공된 것은 아니였다\n",
    "- 스위프트는 2.0 버전부터 오류를 검출해내고 각 오류에 효과적으로 대응할 수 있도록 전용 구문을 제공\n",
    "    - 많은 프로그래밍 언어에서 널리 사용하는 Try ~ Catch 구문을 채택\n",
    "        - 스위프트는 코드를 실행하는 과정에서 오류가 발생하더라도 프로그램이 중단되는 것을 막아줌\n",
    "        - 미리 준비된 대응 구문을 실행하여 효율적으로 오류에 대응할 수 있게 한다"
   ]
  }
 ],
 "metadata": {
  "kernelspec": {
   "display_name": "Python 3",
   "language": "python",
   "name": "python3"
  },
  "language_info": {
   "codemirror_mode": {
    "name": "ipython",
    "version": 3
   },
   "file_extension": ".py",
   "mimetype": "text/x-python",
   "name": "python",
   "nbconvert_exporter": "python",
   "pygments_lexer": "ipython3",
   "version": "3.7.1"
  }
 },
 "nbformat": 4,
 "nbformat_minor": 2
}
