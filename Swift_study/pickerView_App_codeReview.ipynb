{
 "cells": [
  {
   "cell_type": "markdown",
   "metadata": {},
   "source": [
    "# 전체 코드"
   ]
  },
  {
   "cell_type": "markdown",
   "metadata": {},
   "source": [
    "```\n",
    "//\n",
    "//  ViewController.swift\n",
    "//  PickerView\n",
    "//\n",
    "//  Created by 김광준 on 29/11/2018.\n",
    "//  Copyright © 2018 VincentGeranium. All rights reserved.\n",
    "//\n",
    "\n",
    "import UIKit\n",
    "\n",
    "class ViewController: UIViewController, UIPickerViewDelegate, UIPickerViewDataSource {\n",
    "    \n",
    "    let MAX_ARRAY_NUM = 10\n",
    "    let PICKER_VIEW_COLUMN = 1\n",
    "    let PICKER_VIEW_HEIGHT: CGFloat = 80\n",
    "    var imageArray = [UIImage?]()\n",
    "    var imageFileName = [\"1.jpg\",\"2.jpg\",\"3.jpg\",\"4.jpg\",\"5.jpg\",\"6.jpg\",\"7.jpg\",\"8.jpg\",\"9.jpg\",\"10.jpg\",]\n",
    "    \n",
    "    \n",
    "    \n",
    "    @IBOutlet var pickerImage: UIPickerView!\n",
    "    @IBOutlet var lblImageFileName: UILabel!\n",
    "    @IBOutlet var imageView: UIImageView!\n",
    "    \n",
    "    \n",
    "    \n",
    "    \n",
    "\n",
    "    override func viewDidLoad() {\n",
    "        super.viewDidLoad()\n",
    "        // Do any additional setup after loading the view, typically from a nib.\n",
    "        \n",
    "            \n",
    "        for i in 0 ..< MAX_ARRAY_NUM {\n",
    "        // i 값을 MAX_ARRAY_NUM보다 작을 때까지 반복\n",
    "            let image = UIImage(named: imageFileName[i])\n",
    "            // 각 파일명에 해당하는 이미지를 생성\n",
    "            imageArray.append(image)\n",
    "            // 생성된 이미지를 imageArray에 추가\n",
    "        }\n",
    "        \n",
    "        lblImageFileName.text = imageFileName[0]\n",
    "        // 뷰가 로드되었을 때 첫 번째 파일명 출력\n",
    "        imageView.image = imageArray[0]\n",
    "        // 뷰가 로드되었을 때 첫 번째 이미지 출력\n",
    "    }\n",
    "\n",
    "    // returns the number of 'columns' to display.\n",
    "    // 피커 뷰의 컴포넌트 수 설정\n",
    "    func numberOfComponents(in pickerView: UIPickerView) -> Int {\n",
    "        return PICKER_VIEW_COLUMN\n",
    "    }\n",
    "    \n",
    "    // returns height of row for each component\n",
    "    // 피커 뷰의 높이 설정\n",
    "    func pickerView(_ pickerView: UIPickerView, rowHeightForComponent component: Int) -> CGFloat {\n",
    "        return PICKER_VIEW_HEIGHT\n",
    "    }\n",
    "    \n",
    "    // returns the # of rows in each component..\n",
    "    // 피커 뷰의 개수 설정\n",
    "    func pickerView(_ pickerView: UIPickerView, numberOfRowsInComponent component: Int) -> Int {\n",
    "        return imageFileName.count\n",
    "    }\n",
    "    \n",
    "// 피커 뷰의 각 Row의 타이틀 설정    \n",
    "//    func pickerView(_ pickerView: UIPickerView, titleForRow row: Int, forComponent component: Int ) -> String?{\n",
    "//        return imageFileName[row]\n",
    "//    }\n",
    "    \n",
    "    // 피커 뷰의 각 Row의 view 설정\n",
    "    func pickerView(_ pickerView: UIPickerView, viewForRow row: Int, forComponent component: Int, reusing view: UIView?) -> UIView {\n",
    "        let imageView = UIImageView(image:imageArray[row])\n",
    "        imageView.frame = CGRect(x: 0,  y: 0, width: 100, height: 150 )\n",
    "        \n",
    "        return imageView\n",
    "    }\n",
    "    \n",
    "    // 피커 뷰가 선택되었을 때 실행\n",
    "    func pickerView(_ pickerView: UIPickerView , didSelectRow row: Int, inComponent component: Int) {\n",
    "        lblImageFileName.text = imageFileName[row]\n",
    "         imageView.image = imageArray[row]\n",
    "    }\n",
    "\n",
    "}\n",
    "\n",
    "```"
   ]
  },
  {
   "cell_type": "markdown",
   "metadata": {},
   "source": [
    "## Picker View app 코드 살펴 보기"
   ]
  },
  {
   "cell_type": "markdown",
   "metadata": {},
   "source": [
    "```\n",
    "@IBOutlet var pickerImage: UIPickerView!\n",
    "\n",
    "// Picker View에 대한 Outlet 변수 선언\n",
    "// Outlet 변수의 이름 pickerImage\n",
    "// Outlet 변수 pickerImage의 유형(type) = UIPickerView\n",
    "```"
   ]
  },
  {
   "cell_type": "markdown",
   "metadata": {},
   "source": [
    "```\n",
    "@IBOutlet var lblImageFileName: UILabel!\n",
    "    \n",
    "// Label에 대한 Outlet 변수 선언\n",
    "// Outlet 변수의 이름 lblImageFileName\n",
    "// Outlet 변수 lblImageFileName의 유형(type) = UILabel\n",
    "```"
   ]
  },
  {
   "cell_type": "markdown",
   "metadata": {},
   "source": [
    "```\n",
    "@IBOutlet var imageView: UIImageView!\n",
    "    \n",
    "// ImageView에 대한 Outlet 변수 선언\n",
    "// Outlet 변수의 이름 imageView\n",
    "// Outlet 변수 imageView의 유형(type) = UIImageView\n",
    "```"
   ]
  },
  {
   "cell_type": "markdown",
   "metadata": {},
   "source": [
    "## Delegate of Picker View( 피커 뷰의 델리게이트)"
   ]
  },
  {
   "cell_type": "markdown",
   "metadata": {},
   "source": [
    "- 피커 뷰가 상호작용하려면 피커 뷰에 대한 델리게이트 메서드를 사용해야한다\n",
    "- #### Delegate? (델리게이트)\n",
    "    - 델리게이트(Delegate)는 대리자라고도 하며 누군가 해야 할 일을 대신 해주는 역활을 한다\n",
    "    - 예를 들어 특정 객체와 상호 작용할 때 메세지를 넘기면 그 메세지에 대한 책임은 델리게이트로 위임된다.\n",
    "    - 그리고 델리게이트 메서드는 해당 역활을 수행하며 처리 결과나 메시지 등을 받는다\n",
    "        - 즉, 사용자가 객체를 터치했을 때 해야 할 일을 델리게이트 메서드에 구현하고 해당 객체가 터치되었을 때 델리게이트가 호출되어 위임받은 일을 하게 되는 것이다"
   ]
  },
  {
   "cell_type": "markdown",
   "metadata": {},
   "source": [
    "#### 피커 뷰의 델리게이트 메서드를 사용할 수 있도록 설정\n",
    "\n",
    "- 1. 피커 뷰의 델리게이트 사용을 설정하기 위하여 마우스 오른쪽 버튼으로 피커 뷰를 선택한 후 위쪽의 컨트롤러 아이콘 위로 끌어다 놓는다\n",
    "- 2. 선택화면이 나오면 [delegate]를 선택한다"
   ]
  },
  {
   "cell_type": "markdown",
   "metadata": {},
   "source": [
    "## 피커 뷰 동작 코드 작성\n",
    "- 피커 뷰를 동작시키기 위해서는 피커 뷰 델리게이트 클래스를 상속받아야 하며 피커 뷰의 델리게이트 메서드를 추가해야 한다"
   ]
  },
  {
   "cell_type": "markdown",
   "metadata": {},
   "source": [
    "### UIPickerViewDelegate 클래스 상속 받기\n",
    "- 피커 뷰의 델리게이트 메서드를 사용하려면 UIPickerViewDelegate 클래스와 UIPickerViewDataSource 클래스를 상속받아야 한다\n",
    "- ViewController 클래스 선언문 오른쪽에 'UIPickerViewDelegate, UIPickerViewDataSource'를 입력하면 클래스를 상속받을 수 있다"
   ]
  },
  {
   "cell_type": "markdown",
   "metadata": {},
   "source": [
    "```\n",
    "class ViewController: UIViewController, UIPickerViewDelegate, UIPickerViewDataSource{\n",
    "    @IBOutlet var pickerImage: UIPickerView!\n",
    "    @IBOutlet var lblImageFileName: UILabel!\n",
    "    @IBOutlet var imageView: UIImageView!\n",
    "}\n",
    "```"
   ]
  },
  {
   "cell_type": "markdown",
   "metadata": {},
   "source": [
    "### 클래스 상속받기\n",
    "- 클래스는 부모 클래스와 자식 클래스로 구분할 수 있다\n",
    "    - 자식 클래스는 상속을 받는 클래스\n",
    "    - 부모 클래스는 상속되는 클래스\n",
    "- 클래스를 상속받는다는 의미는 상속받고자 하는 클래스의 변수 및 함수를 모두 사용할 수 있다는 의미\n",
    "- 상속을 받기 위해서는 클래스를 선언하면서 클래스 이름의 오른쪽에 ':' 과 함께 상속받을 클래스의 이름을 입력하면 된다\n",
    "    - 상속은 콜론(:) 뒤에 \"부모 클래스 이름\"을 써주면 된다\n",
    "- 추가로 다른 클래스를 상속받으려면 ','와 함께 상속받을 클래스의 이름을 추가하면 된다\n",
    "    - 위의 코드를 보면 ViewController 클래스에서 추가로 피커 뷰 델리게이트(UIPickerViewDelegate) 클래스와 피커 뷰 데이터 소스(UIPickerViewDataSource) 클래스를 상속 받았다\n",
    "   \n",
    "   - #### Code\n",
    "   ```\n",
    "    class ViewController: UIViewController, UIPickerViewDelegate, UIPickerViewDataSource{\n",
    "        ...\n",
    "    }\n",
    "    ```"
   ]
  },
  {
   "cell_type": "markdown",
   "metadata": {},
   "source": [
    "### 변수 및 상수 추가\n",
    "- 피커 뷰가 동작하는 데 필요한 변수 및 상수를 추가\n",
    "    - ViewController 클래스 선언부와 Outlet 변수 선언부 사이에 추가"
   ]
  },
  {
   "cell_type": "markdown",
   "metadata": {},
   "source": [
    "```\n",
    "class ViewController: UIViewController, UIPickerViewDelegate, UIPickerViewDataSource{\n",
    "    let MAX_ARRAY_NUM = 10 \n",
    "    // 이미지의 파일명을 저장할 배열의 최대 크기를 지정(사용할 이미지의 갯수 기입)\n",
    "    let PICKER_VIEW_COLUMN = 1 \n",
    "    // 피커 뷰의 열의 개수를 지정\n",
    "    var imageFileName = [\"1.jpg\",\"2.jpg\",\"3.jpg\",\"4.jpg\",\"5.jpg\",\"6.jpg\",\"7.jpg\",\"8.jpg\",\"9.jpg\",\"10.jpg\",] \n",
    "    // 이미지의 파일명을 저장할 배열\n",
    "    // 이미지 이름은 자신이 추가한 이미지의 이름과 파일명에 맞춰 기입\n",
    "}\n",
    "```"
   ]
  },
  {
   "cell_type": "markdown",
   "metadata": {},
   "source": [
    "## 배열이란?\n",
    "- 배열은 하나의 변수 이름으로 여러개의 데이터를 저장할 수 있는 공간을 의미\n",
    "- 일반적으로 하나의 변수는 하나의 데이터만 저장할 수 있다\n",
    "\n",
    "```\n",
    "var Name = \"Su-A\"\n",
    "var Age = 28;\n",
    "```\n",
    "\n",
    "- 10명 또는 100명의 이름과 나이를 저장하려면??\n",
    "    - 이름 변수와 나이 변수를 각각 10개씩 또는 100개씩 만들어야 할까??\n",
    "- #### 이렇게 많은 데이터를 저장하기 위해 배열이라는 자료형을 사용한다\n",
    "- #### 즉, 배열이란 하나의 이름으로 여러 개의 데이터를 저장할 수 있는 공간을 만들어서 사용하는 것을 말한다\n",
    "\n",
    "### 배열 선언 방법\n",
    "- 1. 변수 선언과 동시에 값을 입력한 배열을 만드는 방법\n",
    "\n",
    "```\n",
    "var name : [String] = [\"슈퍼맨\" , \"배트맨\" , \"아이언 맨\" , \"스파이더 맨\"]\n",
    "var age : [Int] = [100, 34, 42 , 23]\n",
    "```\n",
    "\n",
    "- 2. 빈 배열을 선언하고 값을 추가하는 방법\n",
    "\n",
    "```\n",
    "var name = [String]()\n",
    "var age = [Int]()\n",
    "\n",
    "name.append(\"슈퍼맨\")\n",
    "name.append(\"배트맨\")\n",
    "...\n",
    "\n",
    "age.append(100);\n",
    "age.append(34)\n",
    "...\n",
    "```\n",
    "\n",
    "- #### 방법 1처럼 만들어도 나중에 방법 2와 같이 append 메서드로 추가할 수 있다\n",
    "\n",
    "### 배열 값을 접근하는 방법\n",
    "- 접근한다는 의미는 배열 값을 읽어오거나 변경한다는 의미이다\n",
    "\n",
    "```\n",
    "let someoneName = name[0] // name 배열에서 첫 번째 값인 \"슈퍼맨\"을 읽어온다\n",
    "name[1] = \"홍길동\" // 배열의 두 번째 값인 name[1]에 \"홍길동\"을 저장한다\n",
    "                 // 이전에 있던 \"배트맨\"값은 사라지고 \"홍길동\"으로 변한다\n",
    "    \n",
    "let someoneAge = age[2] // Age 배열에서 세 번째 값인 42를 읽어온다\n",
    "age[2] = 77 // 배열의 세 번째 값인 age[2]에 77을 저장한다\n",
    "            // 이전에 있던 42 값은 사라지고 77으로 변한다\n",
    "```"
   ]
  },
  {
   "cell_type": "markdown",
   "metadata": {},
   "source": [
    "## 피커 뷰에게 무엇을 어떻게 보여주고 어떻게 동작할지를 설정\n",
    "- 피커 뷰의 동작에 필요한 델리게이트 메서드를 뷰 컨드롤러(ViewController)클래스의 맨 아래에 추가한다\n",
    "    - #### Code\n",
    "    \n",
    "```\n",
    "func numberOfComponents(in pickerView: UIPickerView) -> Int {\n",
    "    return PICKER_VIEW_COLUMN\n",
    "}\n",
    "// returns the number of 'columns' to display.\n",
    "// 피커 뷰에게 컴포넌트의 수를 정수 값으로 넘겨주는 델리게이트 메서드\n",
    "// 피커 뷰의 컴포넌트는 피커 뷰에 표시되는 열의 개수를 의미\n",
    "// 여기에서는 PICKER_VIEW_COLUMN의 값인 1을 넘겨준다\n",
    "\n",
    "func pickerView(_ pickerView: UIPickerView!, numberOfRowsInComponent component: Int) -> Int {\n",
    "    return imageFileName.count\n",
    "}\n",
    "// returns the # of rows in each component..\n",
    "// numberOfRowsInComponent 인수를 가지는 델리게이트 메서드\n",
    "// 피커 뷰에게 컴포넌트의 열의 개수를 정수 값으로 넘겨준다\n",
    "// 이 값은 피커 뷰의 해당 열에서 선택할 수 있는 행의 개수(데이터의 개수)를 의미\n",
    "// 여기에서는 배열 imageFileName의 개수 값인 10을 imageFileName.count를 사용하여 넘겨준다\n",
    "\n",
    "func pickerView(_ pickerView: UIPickerView, titleForRow row: Int, forComponent component: Int) -> String? {\n",
    "    return imageFileName[row]\n",
    "}\n",
    "// titleForRow 인수를 가지는 델리게이트 메서드\n",
    "// 피커 뷰에게 컴포넌트의 각 열의 타이틀을 문자열(String)값으로 넘겨준다\n",
    "// 여기서는 imageFileName에 저장되어 있는 파일명을 넘겨준다\n",
    "```"
   ]
  },
  {
   "cell_type": "markdown",
   "metadata": {},
   "source": [
    "## 선택한 이미지 아름과 해당 이미지 출력\n",
    "- 피커 뷰의 룰렛을 돌려 특정 이미지의 이름을 선택했을 때 해당 이미지의 이름이 레이블에 출력되고 선택한 이미지가 이미지 뷰에 나타나도록 코딩\n",
    "\n",
    "### 선택한 이미지 이름 출력\n",
    "- 1. 코드 수정 및 추가\n",
    "    - 사용자가 피커 뷰의 룰렛을 돌려 원하는 열을 선택했을 때 할 일을 델리게이트에게 지시하는 메서드를 추가\n",
    "    - 피커 뷰의 델리게이트 메서드 중 didSelectRow 인수가 포함된 메서드는 사용자가 피커 뷰의 룰렛을 선택했을 때 호출된다\n",
    "    - 사용자가 선택한 피커 뷰의 row를 사용하여 원하는 일을 코딩할 수 있다\n",
    "    - 여기서는 선택된 파일명을 레이블에 출력해 보자\n",
    "\n",
    "```\n",
    "func pickerView(_ pickerView: UIPickerView,didSelectRow row: Int, inComponent component: Int) {\n",
    "    lblImageFileName.text = imageFileName[row]\n",
    "}\n",
    "// 사용자가 피커 뷰의 룰렛에서 선택한 row 값을 사용하여 imageFileName 배열에서 row 값에 해당하는 문자열을 가지고 온다\n",
    "// 그리고 가져온 문자열을 레이블의 아웃렛 변수인 lblImageFileName.text에 저장한다\n",
    "```"
   ]
  },
  {
   "cell_type": "markdown",
   "metadata": {},
   "source": [
    "### 선택한 이미지를 이미지 뷰에 출력\n",
    "- 피커 뷰의 룰렛을 선택할 경우 선택된 파일명에 해당하는 이미지를 이미지 뷰에 출력\n",
    "- #### 1. PICKER_VIEW_COLUMN과 imageFileName 사이에 UIImage 타입의 배열 imageArray를 선언\n",
    "\n",
    "```\n",
    "class ViewController: UIViewController, UIPickerViewDelegate, UIPickerViewDataSource {\n",
    "    \n",
    "    let MAX_ARRAY_NUM = 10\n",
    "    let PICKER_VIEW_COLUMN = 1\n",
    "    let PICKER_VIEW_HEIGHT: CGFloat = 80\n",
    "    var imageArray = [UIImage?]()     \n",
    "    var imageFileName = [\"1.jpg\",\"2.jpg\",\"3.jpg\",\"4.jpg\",\"5.jpg\",\"6.jpg\",\"7.jpg\",\"8.jpg\",\"9.jpg\",\"10.jpg\",]\n",
    "```"
   ]
  },
  {
   "cell_type": "markdown",
   "metadata": {},
   "source": [
    "- #### 2. 뷰가 로드되었을 때 MAX_ARRAY_NUM의 개수만큼 imageFileName에 있는 이미지를 가져와 UIImage 타입의 상수 image에 할당하고, 할당된 image를 배열 imageArray에 추가\n",
    "    - 또한, 레이블과 이미지 뷰에 배열의 처음에 해당하는 imageFileName[0]과 imageArray[0]을 각각 출력한다\n",
    "    \n",
    "```\n",
    "override func viewDidLoad() {\n",
    "    super.viewDidLoad()\n",
    "    // Do any additional setup after loading the view, typically from a nib.\n",
    "    for i in 0 ..< MAX_ARRAY_NUM {} // i 라는 변수를 0부터 MAX_ARRAY_NUM보다 작을 때까지 루프를 실행\n",
    "                                    // (여기서는 0부터 9까지 루프 실행)\n",
    "        let image = UIImage(named: imageFileName[i]) \n",
    "        // image라는 변수를 선언. imageFileName[i]에 있는 파일명을 사용하여 UIImage 타입의 이미지를 생성한다. \n",
    "        // 생성한 이미지를 image라는 변수에 할당한다\n",
    "        \n",
    "        imageArray.append(image)\n",
    "        // imageArray 배열에 방금 만든 image를 추가한다\n",
    "}\n",
    "\n",
    "    lblImageFileName.text = imageFileName[0]\n",
    "    // lblImageFileName 레이블에 imageFileName 배열의 첫 번쨰 파일명을 출력한다\n",
    "    \n",
    "    imageView.image = imageArray[0]\n",
    "    // 이미지 뷰에 첫 번째 이미지가 나타난다\n",
    "```"
   ]
  },
  {
   "cell_type": "markdown",
   "metadata": {},
   "source": [
    "## for loop"
   ]
  },
  {
   "cell_type": "markdown",
   "metadata": {},
   "source": [
    "- for 루프는 특정 코드를 특정한 조건을 만족하는 동안 반복해서 실행하기 위해 제공하는 기능\n",
    "\n",
    "- #### for 루프 코드\n",
    "```\n",
    "for 변수 in Rnage {\n",
    "    ...\n",
    "}\n",
    "```\n",
    "- 위의 코드처럼 사용할 수 있으며, 변수 값이 Range 안에 있을 동안 변수 값을 1씩 증가시키면서 '{ }' 안의 코드를 반복해서 실행한다\n",
    "\n",
    "\n",
    "- #### Range를 설정하는 방법\n",
    "\n",
    "```\n",
    "for i in 0...9 {\n",
    "    print(i)\n",
    "}\n",
    "```\n",
    "- 변수 i를  0부터 9까지 반복하면서 print(i)를 출력한다\n",
    "    - 즉, 0부터 9까지 출력한다\n",
    "    \n",
    "- #### 변수 i를 0부터 10보다 작을 동안 반복하면서 print(i)를 출력\n",
    "\n",
    "```\n",
    "for i in 0 ..<10 {\n",
    "    print(i)\n",
    "}\n",
    "```\n",
    "- 즉, 0부터 9까지 출력\n",
    "\n",
    "#### 결과는 같지만 조건이 다른것을 확인할 수 있다"
   ]
  },
  {
   "cell_type": "markdown",
   "metadata": {},
   "source": [
    "- #### 3. 피커 뷰의 룰렛이 선택되었을 떄 동작하는 didSelectRow 인수가 포함된 델리게이트 메서드의 맨 아랫부분에 선택한 이미지 뷰에 나타내 주는 코드를 추가\n",
    "\n",
    "```\n",
    "func pickerView(_ pickerView: UIPickerView, didSelectRow row: Int, inComponent component: Int) {\n",
    "    lblImageFileName.text = imageFileName[row]\n",
    "    imageView.image = imageArray[row] \n",
    "    // 사용자가 피커 뷰의 룰렛에서 선택한 row 값을 사용하여 imageArray 배열에서 row 값에 해당하는 이미지를 가지고 온다\n",
    "    // 그리고 자겨온 이미지를 이미지 뷰의 아웃렛 변수인 imageView.image에 저장한다\n",
    "}\n",
    "```"
   ]
  },
  {
   "cell_type": "markdown",
   "metadata": {},
   "source": [
    "## 피커 뷰 룰렛에 파일명 대신 이미지 출력\n",
    "- #### 1. 코드 수정 및 추가\n",
    "    - 앞에서 선언한 titleForRow 인수를 가지는 델리게이트 메서드를 주석 처리\n",
    "    - titleForRow 인수를 가지는 델리게이트 메서드는 각 row에 대한 타이틀을 정의하는 메서드"
   ]
  },
  {
   "cell_type": "markdown",
   "metadata": {},
   "source": [
    "- #### 2. viewForRow 인수가 포함되어 있는 델리게이트 메서드를 새롭게 추가\n",
    "    - viewForRow 인수가 포함되어 있는 메서드는 각 row의 view를 정의하는 메서드\n",
    "    - 새롭게 추가되는 매서드는 각 row의 view를 설정하고 UIView 타입을 리턴. 여기서는 imageView를 리턴함\n",
    "    \n",
    "```\n",
    "func pickerView(_ pickerView: UIPickerView, viewForRow row: Int, forComponent component: Int, reusing view: UIView?)\n",
    "                //피커 뷰에게 컴포넌트의 각 열의 뷰를 UIView 타입의 값으로 넘겨준다. 여기서는 이미지 뷰에 저장되어 있는 이미지를 넘겨준다\n",
    "-> UIView {\n",
    "    let imageView = UIImageView(image:imageArray[row])\n",
    "    // 선택된 row에 해당하는 이미지를 imageArray에서 가져온다\n",
    "    \n",
    "    imageView.frame = CGRect(x: 0, y: 0, width: 100, height: 150)\n",
    "    //이미지 뷰의 프레임 크기를 설정\n",
    "    \n",
    "    return imageView\n",
    "    //이미지 뷰를 리턴\n",
    "}\n",
    "\n",
    "```"
   ]
  },
  {
   "cell_type": "markdown",
   "metadata": {},
   "source": [
    "## 룰렛의 높이 변경하기\n",
    "- #### 1. 피커 뷰의 높이를 지정할 상수를 맨 위의 상수 선언부 중 PICKER_VIEW_COLUMN과 imageArray 사이에 정의\n",
    "\n",
    "```\n",
    "class ViewController: UIViewController, UIPickerViewDelegate, UIPickerViewDataSource {\n",
    "    \n",
    "    let MAX_ARRAY_NUM = 10\n",
    "    let PICKER_VIEW_COLUMN = 1\n",
    "    let PICKER_VIEW_HEIGHT: CGFloat = 80\n",
    "    var imageArray = [UIImage?]()\n",
    "    var imageFileName = [\"1.jpg\",\"2.jpg\",\"3.jpg\",\"4.jpg\",\"5.jpg\",\"6.jpg\",\"7.jpg\",\"8.jpg\",\"9.jpg\",\"10.jpg\",]\n",
    "    \n",
    "```\n",
    "    \n",
    "- #### 2. 피커 뷰의 높이를 전달할 피커 뷰 델리게이트 메서드를 numberOfComponents 메서드 아래에 추가\n",
    "    \n",
    "```\n",
    "// returns height of row for each component.\n",
    "func pickerView(_ pickerView: UIPickerView, rowHeightForComponent component: Int) -> CGFloat {\n",
    "    return PICKER_VIEW_HEIGHT\n",
    "}\n",
    "```\n",
    "    \n",
    "- 피커 뷰에게 컴포넌트의 높이를 정수 값으로 넘겨주는 델리게이트 메서드이다\n",
    "    - 여기서는 PICKER_VIEW_HEIGHT 의 값인 80을 넘겨준다"
   ]
  }
 ],
 "metadata": {
  "kernelspec": {
   "display_name": "Python 3",
   "language": "python",
   "name": "python3"
  },
  "language_info": {
   "codemirror_mode": {
    "name": "ipython",
    "version": 3
   },
   "file_extension": ".py",
   "mimetype": "text/x-python",
   "name": "python",
   "nbconvert_exporter": "python",
   "pygments_lexer": "ipython3",
   "version": "3.7.1"
  }
 },
 "nbformat": 4,
 "nbformat_minor": 2
}
