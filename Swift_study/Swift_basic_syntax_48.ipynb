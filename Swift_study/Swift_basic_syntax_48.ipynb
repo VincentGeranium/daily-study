{
 "cells": [
  {
   "cell_type": "markdown",
   "metadata": {},
   "source": [
    "# 함수 (Function)\n",
    "## 일급 객체로서의 함수\n",
    "### 일급 함수의 특성"
   ]
  },
  {
   "cell_type": "markdown",
   "metadata": {},
   "source": [
    "### 일급 함수의 특성 2 - 함수의 반환 타입으로 함수를 사용할 수 있다"
   ]
  },
  {
   "cell_type": "markdown",
   "metadata": {},
   "source": [
    "- #### 일급 함수의 특성 중에서 두 번째는 함수의 반환 타입으로 함수를 사용할 수 있다는 특성이다\n",
    "- #### 일급 객체로 대우받는 함수는 실행 결과로 정수, 실수, 문자열 등의 기본 자료형이나 클래스, 구조체 등의 객체를 반환할 수 있을 뿐만 아니라 함수 자체를 반환할 수도 있다"
   ]
  },
  {
   "cell_type": "markdown",
   "metadata": {},
   "source": [
    "### 함수가 함수를 반환한다는 의미를 알기 위한 예제\n",
    "\n",
    "```\n",
    "func desc() -> String {\n",
    "    return \"this is desc()\"\n",
    "}\n",
    "\n",
    "func pass() -> () -> String {\n",
    "    return desc\n",
    "}\n",
    "\n",
    "let p = pass()\n",
    "p() // \"this is desc()\"\n",
    "```"
   ]
  },
  {
   "cell_type": "markdown",
   "metadata": {},
   "source": [
    "- 가장 위에 작성된 것은 desc 함수이다. \n",
    "    - 같은 이름으로 여러 번 등장하고 있는 이 함수는 인자값이 없이 문자열을 반환하는 함수 형식으로 정의되어 있다\n",
    "- 그 다음으로 작성된 것은 pass 함수이다. \n",
    "    - 이 함수의 내부 블록을 살펴보면 다른 실행 구문 없이 desc라는 함수 자체를 반환하는 구문뿐이다"
   ]
  },
  {
   "cell_type": "markdown",
   "metadata": {},
   "source": [
    "- #### 여기서 pass 함수의 반환 타입은 함수 타입인 () -> String으로 정의된다. \n",
    "    - #### 이는 pass 함수가 desc 함수를 반환하기 때문으로, () -> String은 desc 함수의 타입 표현에 해당한다\n",
    "- #### desc 함수는 인자값 없이 문자열만 반환하고 있기 때문에 이를 함수 타입으로 표현하면 () -> String 형식이 된다\n",
    "    - #### 이 함수 타입의 표현이 pass 함수의 반환 타입으로 사용되고 있는 것이다."
   ]
  },
  {
   "cell_type": "markdown",
   "metadata": {},
   "source": [
    "- #### 이어서 상수 p는 pass 함수의 실행 결과값을 할당받고 있다\n",
    "- #### 만약 pass 함수 자체를 할당 받았다면 상수 p에 할당된 것은 pass 함수였겠지만, pass 함수의 실행 결괴는 desc 함수이므로 상수 p에는 desc 함수가 할당된다\n",
    "    - p 상수는 desc 함수나 마찬가지이다. p에 함수 호출 연산자를 붙여 실행하면 desc 함수를 실행하는 것이 된다\n",
    "    - #### 이러한 과정을 거쳐 p()의 실행 결과는 \"this is desc()\"가 된다"
   ]
  },
  {
   "cell_type": "markdown",
   "metadata": {},
   "source": [
    "### 함수의 반환값이 함수일 경우\n",
    "- #### 아무래도 함수의 형식이 복잡해질 가능성이 크다. 가독성도 매우 떨어진다\n",
    "    - #### 이를 방지하기 위해 최근의 문법에서는 반드시 인자값 부분에 괄호를 통해 감싸주도록 강제한다\n",
    "    - 하지만 점점 더 복잡한 형태의 함수 타입을 사용할수록 형식을 분석하기 어려워진다"
   ]
  },
  {
   "cell_type": "markdown",
   "metadata": {},
   "source": [
    "### 함수의 반환값이 함수일 경우 읽는 요령\n",
    "- #### 위와 같은 함수의 선언 형식을 읽을 때는 가장 왼쪽에 있는 화살표를 찾으면 된다\n",
    "    - #### 그리고 이 화살표를 기준으로 왼쪽과 오른쪽을 나눈다\n",
    "        - #### 화살표를 기준으로 왼쪽은 함수의 인자값\n",
    "        - #### 화살표를 기준으로 오른쪽은 함수의 반환값"
   ]
  },
  {
   "cell_type": "markdown",
   "metadata": {},
   "source": [
    "### 함수의 반환 타입 표현을 해석하는 방법 1단계\n",
    "\n",
    "```\n",
    "func boo() -> Void -> String{\n",
    "    \n",
    "}\n",
    "```\n",
    "\n",
    "- #### boo() 인자타입\n",
    "- #### Void -> String 반환타입"
   ]
  },
  {
   "cell_type": "markdown",
   "metadata": {},
   "source": [
    "- #### '->' 기호를 기준으로 구분해본 형식이다\n",
    "- 오른쪽의 반환 타입은 함수 타입으로 작성되어 있다\n",
    "- #### 함수를 반환한다는 것을 쉽게 파악할 수 있다.\n",
    "    - #### 반환 타입에는 '->' 기호가 있으므로 이를 다시 구분할 수 있다"
   ]
  },
  {
   "cell_type": "markdown",
   "metadata": {},
   "source": [
    "### 함수의 반환 타입 표현을 해석하는 방법 2단계\n",
    "\n",
    "```\n",
    "func boo() -> Void -> String {\n",
    "    \n",
    "}\n",
    "```\n",
    "\n",
    "- #### boo() -> Void 인자타입\n",
    "- #### String 반환타입"
   ]
  },
  {
   "cell_type": "markdown",
   "metadata": {},
   "source": [
    "- #### 이를 이용하면 복잡한 형태의 함수 반환 형식이라 할지라도 모두 구분할 수 있다"
   ]
  },
  {
   "cell_type": "markdown",
   "metadata": {},
   "source": [
    "### 함수의 반환 타입으로 함수를 사용하는 예제\n",
    "\n",
    "```\n",
    "func plus(a: Int, b: Int) -> Int {\n",
    "    return a + b\n",
    "}\n",
    "\n",
    "func minus(a: Int, b: Int) -> Int {\n",
    "    return a - b\n",
    "}\n",
    "\n",
    "func times(a: Int, b: Int) -> Int {\n",
    "    return a * b\n",
    "}\n",
    "\n",
    "func divide(a: Int, b: Int) -> Int {\n",
    "    guard b != 0 else {\n",
    "        return 0\n",
    "    }\n",
    "    return a / b\n",
    "}\n",
    "\n",
    "func calc(_ operand: String) -> (Int, Int) -> Int {\n",
    "    \n",
    "    switch operand {\n",
    "        case \"+\" :\n",
    "            return plus\n",
    "        case \"-\" :\n",
    "            return minus\n",
    "        case \"*\" :\n",
    "            return times\n",
    "        case \"/\" :\n",
    "            return divide\n",
    "        default :\n",
    "            return plus\n",
    "    }\n",
    "}\n",
    "```"
   ]
  },
  {
   "cell_type": "markdown",
   "metadata": {},
   "source": [
    "- 각각 덧셈, 뺄셈, 곱셈, 나눗셈 연산을 수행하여 그 결과를 반환하는 함수들이다\n",
    "- 나눗셈에서만 예외로 나눌 값이 0인 경우를 대비하여 guard 구문이 추가된 것을 제외하면 모든 함수의 구성이 거의 같다"
   ]
  },
  {
   "cell_type": "markdown",
   "metadata": {},
   "source": [
    "### 마지막으로 작성된 calc는 조금 다르다\n",
    "- 이 함수는 사칙연산의 연산자를 문자열 형식으로 입력받는다\n",
    "- 이 인자값을 기준으로 switch 구문에서 각 인자값에 대응하는 함수를 반환하는 것이 calc 함수가 처리하는 내용이다.\n",
    "- 반환하는 함수의 인자값과 반환값은 모두 일치하며 이들 함수의 타입 표현식은 (Int, Int) -> Int 이다\n",
    "- 함수 calc에 인자값으로 연산자를 입력하면 그에 해당하는 함수를 반환받을 수 있다\n",
    "- 외부 매개변수를 언더바로 처리함으로써 함수 호출 시 인자 레이블을 생략할 수 있도록 해 놓은 것도 눈여겨볼 부분이다"
   ]
  },
  {
   "cell_type": "markdown",
   "metadata": {},
   "source": [
    "### 함수 실행\n",
    "\n",
    "```\n",
    "let c = calc(\"+\")\n",
    "c(3,4) // plus(3,4) = 7\n",
    "```"
   ]
  },
  {
   "cell_type": "markdown",
   "metadata": {},
   "source": [
    "- \"+\" 문자열을 인자값으로 하여 함수를 실행한 결과, switch 구문의 패턴 비교에 의해 plus 함수가 반환된다\n",
    "- 이 함수가 상수 c에 할당되었으므로 이를 호출 연산자로 실행하면 plus 함수가 실행된다. 결과값은 7이다\n",
    "- 위 호출 구문 형식에 익숙해지면, 다음과 같이 하나의 구문으로 통합해서 작성할 수 있게 된다\n",
    "\n",
    "```\n",
    "calc(\"+\")(3,4)\n",
    "```"
   ]
  },
  {
   "cell_type": "markdown",
   "metadata": {},
   "source": [
    "- #### 하지만 이런 식으로 구문을 작성하면 매우 가독성이 떨어진다\n",
    "    - 특별히 줄여서 표현해야 할 이유가 없다면 가독성을 위해 가급적 단계적으로 표현하는 것이 좋다\n",
    "\n",
    "```\n",
    "let c2 = calc(\"-\")\n",
    "c2(3,4) // minus(3,4) = -1\n",
    "\n",
    "let c3 = calc(\"*\")\n",
    "c3(3,4) // times(3,4) = 12\n",
    "\n",
    "let c4 = calc(\"/\")\n",
    "c4(3,4) //divide(3,4) = 0\n",
    "```"
   ]
  },
  {
   "cell_type": "markdown",
   "metadata": {},
   "source": [
    "### 이처럼 함수의 실행 결과로 다른 함수를 반환할 수 있는 것이 일급 함수의 특성이다"
   ]
  }
 ],
 "metadata": {
  "kernelspec": {
   "display_name": "Python 3",
   "language": "python",
   "name": "python3"
  },
  "language_info": {
   "codemirror_mode": {
    "name": "ipython",
    "version": 3
   },
   "file_extension": ".py",
   "mimetype": "text/x-python",
   "name": "python",
   "nbconvert_exporter": "python",
   "pygments_lexer": "ipython3",
   "version": "3.7.1"
  }
 },
 "nbformat": 4,
 "nbformat_minor": 2
}
