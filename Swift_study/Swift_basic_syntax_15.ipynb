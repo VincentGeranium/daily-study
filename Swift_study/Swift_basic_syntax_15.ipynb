{
 "cells": [
  {
   "cell_type": "markdown",
   "metadata": {},
   "source": [
    "# 흐름 제어 구문\n",
    "## 코드의 활용성을 높여주는 도구들\n",
    "## 제어 전달문"
   ]
  },
  {
   "cell_type": "markdown",
   "metadata": {},
   "source": [
    "- #### 제어 전달문은 코드의 한 부분에서 다른 부분으로 제어 흐름을 전달하여 코드가 실행되는 순서를 변경해주는 구문이다.\n",
    "    - #### 주로 반복문이나 조건문, 함수 등에서 사용된다.\n",
    "    - 이 구문은 전통적인 C 코드에서도 거의 동일하게 제공되는 만큼 스위프트만의 독자적인 개념은 아니다.\n",
    "\n",
    "#### 스위프트에서 사용되는 제어 전달문 네 가지\n",
    "- #### 1. break\n",
    "- #### 2. continue\n",
    "- #### 3. fallthrough\n",
    "- #### 4. return"
   ]
  },
  {
   "cell_type": "markdown",
   "metadata": {},
   "source": [
    "- #### 이 구문들은 각각의 쓰임에 따라 코드의 흐름을 제어하고, 다른 부분으로 제어를 전달하거나 기능을 종료하기도 한다\n",
    "    - 이 중에서 fallthrough는 switch 구문의 흐름을 제어할 때 사용하는 구문으로, 일치된 case 블록의 실행을 다음 case 블록으로 전달할 때 사용한다\n",
    "    - return은 함수와 메소드에서 사용되는 구문. 함수와 매소드 내에서 값을 반환하면서 실행을 종료하거나 단순히 코드의 실행을 종료하는 역활을 한다."
   ]
  },
  {
   "cell_type": "markdown",
   "metadata": {},
   "source": [
    "### break\n",
    "- #### break 구문은 switch 구문에서의 실행 흐름이나 반복 실행 중인 루프를 조건식의 결과에 상관 없이 즉각적으로 종료하는 데에 사용된다.\n",
    "    - switch 구문에서는 개별 case 블록에 사용되어 전체 switch 구문의 실행을 종료하는 역활\n",
    "    - 반복문에서는 반복 실행 블록에 사용되어 조건식이 false를 반환하기 전에 미리 반복문을 종료하는 역활\n",
    "        - 반복문 내에서 break 구문을 사용할 경우 이 구문은 반복문의 전체 실행을 즉시 종료하고 반복문의 마지막에 위치한 닫는 중괄호 다음의 첫 번째 코드 줄로 실행 흐름을 전달\n",
    "        - 순회 처리 중인 for ~ in 구문에서 break 구문이 사용될 경우에도 역시 남은 아이템의 순회를 더 이상 진행하지 않고 반복문을 종료\n",
    "        \n",
    "        ```\n",
    "        for row in 0...5 {\n",
    "            if row > 2{\n",
    "                break\n",
    "            }\n",
    "            print(\"\\(row) was executed!\")\n",
    "        }\n",
    "        \n",
    "        [실행 결과]\n",
    "        \n",
    "        0 was executed!\n",
    "        1 was executed!\n",
    "        2 was executed!\n",
    "        ```"
   ]
  },
  {
   "cell_type": "markdown",
   "metadata": {},
   "source": [
    "- 위 예제에서 출력 구문은 범위 연산자가 생성한 0 ~ 5까지의 값만큼 6회에 걸쳐 반복 실행되어야 한다\n",
    "- #### 그러나 내부 실행 블록에서는 루프 상수를 비교하여 2보다 큰 값일 경우 break 구문을 실행하도록 조건문이 작성되어 있다\n",
    "    - 이로 인해 row가 2보다 크지 않은 세 번째 반복까지는 맨 아래 출력 구문이 실행\n",
    "    - #### row가 2보다 커지는 네 번쨰 반복에서 if 조건에 일치하므로 break 구문이 실행되어 반복문 전체가 종료된다\n",
    "        - break가 실행된 네 번째 반복부터 출력 구문은 실행되지 않는다"
   ]
  },
  {
   "cell_type": "markdown",
   "metadata": {},
   "source": [
    "### continue\n",
    "- break 구문이 필요에 따라 강제로 실행 흐름을 종료하거나 반복문의 반복을 중단하는 데에 사용되는 구문\n",
    "- #### continue 구문은 이 구문 아래에 있는 실행 구문들을 건너뛰고 다음 반복을 시작하는 역활을 한다\n",
    "- #### continue 구문 이후에 실행할 내용이 남았더라도 실행되지 않는것은 break 구문과 같다\n",
    "- #### 그러나 break 구문이 반복문을 완전히 종료하는 것과는 달리 continue 구문은 반복문의 조건을 다시 평가하고 그 결과에 따라 다음 반복을 실행한다\n",
    "- #### continue 구문 아래에 있는 나머지 구문들을 실행하지 않을 뿐, 전체 반복은 계속 유지되는 것이 break 문과의 \"결정적 차이\""
   ]
  },
  {
   "cell_type": "markdown",
   "metadata": {},
   "source": [
    "#### 즉, 반복해야 할 횟수가 10회라면 그중 5회를 반복한 후 continue 구문이 실행되더라도 남은 5회는 끝까지 반복하게 되는 것이다.\n",
    "\n",
    "```\n",
    "for row in 0...5 {\n",
    "    if row < 2 {\n",
    "        continue\n",
    "    }\n",
    "    print(\"executed data is \\(row)\")\n",
    "}\n",
    "\n",
    "\n",
    "[실행 결과]\n",
    "\n",
    "executed data is 2\n",
    "executed data is 3\n",
    "executed data is 4\n",
    "executed data is 5\n",
    "```"
   ]
  },
  {
   "cell_type": "markdown",
   "metadata": {},
   "source": [
    "- 작성된 구문은 범위 연산자가 만든 0에서 5까지의 정수를 대상으로 하여 순회 탐색하는 for ~ in 구문\n",
    "- 이 구문의 내부에는 continue 구문을 포함한 조건문이 작성되어 있다\n",
    "- 위 구문의 내용은 \"루프 상수인 row의 값이 2보다 작을 떄느 실행을 여기서 멈추고 다시 루프를 시작할 것\"\n",
    "\n",
    "#### 위 반복문의 실행 흐름\n",
    "- 1. row 상수가 0일 때, 2보다 작으므로 continue에 의해 루프를 다시 시작\n",
    "- 2. row 상수가 1일 때, 2보다 작으므로 continue에 의해 루프를 다시 시작\n",
    "- 3. row 상수가 2일 때, 2보다 작지 않으므로 print 구문을 실행한 후 루프를 다시 시작\n",
    "- 4. row 상수가 3일 때, 2보다 작지 않으므로 print 구문을 실행한 후 루프를 다시 시작\n",
    "- 5. row 상수가 4일 때, 2보다 작지 않으므로 print 구문을 실행한 후 루프를 다시 시작\n",
    "- 6. row 상수가 5일 때, 2보다 작지 않으므로 print 구문을 실행한 후 루프를 다시 시작\n",
    "- 7. 반복문 종료"
   ]
  },
  {
   "cell_type": "markdown",
   "metadata": {},
   "source": [
    "- #### continue가 사용된 반복문은 모두 두 곳에서 루프가 다시 시작된다\n",
    "    - #### 하나는 continue가 사용된 곳\n",
    "        - continue 구문에 의한 재시작\n",
    "    - #### 다른 하나는 실행 구문이 모두 끝나는 곳\n",
    "        - 실행 구문의 완료에 의한 재시작"
   ]
  },
  {
   "cell_type": "markdown",
   "metadata": {},
   "source": [
    "- continue 구문의 특성을 이용하면 특정 문자만 필터링하거나 다른 문자로 변경하는 코드를 작성 할 수 있다.\n",
    "\n",
    "```\n",
    "var text = \"This is a swift book for Apple's programmin language\" // 입력될 문장\n",
    "var result = \"\" // 결과를 저장할 변수\n",
    "\n",
    "for char in text.characters {\n",
    "    if char == \" \" { // 공백은  _로 변경한다.\n",
    "        result.append(Character(\"_\"))\n",
    "        continue\n",
    "    } else if char == \"o\" {// 소문자 o는 대문자 O로 변경한다\n",
    "        result.append(Character(\"O\"))\n",
    "        continue\n",
    "    }\n",
    "    result.append(char)\n",
    "}\n",
    "print(result)\n",
    "\n",
    "\n",
    "[실행 결과]\n",
    "This_is_a_swift_bOOk_fOr_Apple's_prOgrammin_language\n",
    "```"
   ]
  },
  {
   "cell_type": "markdown",
   "metadata": {},
   "source": [
    "- #### 이 구문은 for ~ in 구문을 사용하여 입력될 문자열을 순회 탐색\n",
    "- #### 개별 문자들은 루프 상수 char에 순서대로 할당되면서 내부의 실행 구문에 따라 처리\n",
    "- 내부에는 다시 if ~ else if 구문이 작성되어 있다\n",
    "    - #### if ~ else if 구문은 입력된 개별 문자들을 비교하여 조건에 따라 다른 문자로 바꾸거나 혹은 그대로 유지하는 역활"
   ]
  },
  {
   "cell_type": "markdown",
   "metadata": {},
   "source": [
    "- #### text 변수에 입력된 문자열들은 for ~ in 구문과 내부의 if ~ else if 구문에 의해 차례로 문자 단위로 분해되어 result 변수에 전달\n",
    "    - #### 이 과정에서 조건에 의해 일부 문자들이 필터링되어 다른 문자로 변경된다\n",
    "        - 공백 문자는 \"_\"로 변경\n",
    "        - 소문자 \"O\"는 대문자 \"O\"로 변경\n",
    "    - #### 변경된 문자는 append() 메소드를 통해 result 변수의 제일 뒤쪽에 차례로 추가된다"
   ]
  },
  {
   "cell_type": "markdown",
   "metadata": {},
   "source": [
    "- #### if ~ else if 구문에서 필터링된 문자가 처리를 거쳐 result 변수에 전달되고 나면 이후의 코드는 더 진행될 필요가 없다\n",
    "    - #### 이때 continue 문이 호출되어 루프가 재실행된다\n",
    "- #### for ~ in 구문의 순회 조건이 다시 평가되면서 다음 차례를 기다리고 있는 문자가 if ~ else if 구문을 통해 처리"
   ]
  }
 ],
 "metadata": {
  "kernelspec": {
   "display_name": "Python 3",
   "language": "python",
   "name": "python3"
  },
  "language_info": {
   "codemirror_mode": {
    "name": "ipython",
    "version": 3
   },
   "file_extension": ".py",
   "mimetype": "text/x-python",
   "name": "python",
   "nbconvert_exporter": "python",
   "pygments_lexer": "ipython3",
   "version": "3.7.1"
  }
 },
 "nbformat": 4,
 "nbformat_minor": 2
}
