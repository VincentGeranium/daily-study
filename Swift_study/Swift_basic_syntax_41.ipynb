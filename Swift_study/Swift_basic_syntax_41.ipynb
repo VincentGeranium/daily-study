{
 "cells": [
  {
   "cell_type": "markdown",
   "metadata": {},
   "source": [
    "# 함수 (Function)\n",
    "## 매개변수\n",
    "### 가변 인자"
   ]
  },
  {
   "cell_type": "markdown",
   "metadata": {},
   "source": [
    "- ### 일반적으로 함수는 미리 정의된 형식과 개수에 맞는 인자값만 처리\n",
    "    - ### 때에 따라서는 가변적인 개수의 인자값을 입력받아야 할 때도 있다\n",
    "- ### 스위프트 역시 인자값의 입력 개수를 제한하지 않도록 하는 함수 정의 형식을 제공\n",
    "    - ### 이를 위해서는 함수를 정의할 때 매개변수명 다음에 '...' 연산자를 추가하면 된다\n",
    "        - 생략한다는 뜻이 아니다"
   ]
  },
  {
   "cell_type": "markdown",
   "metadata": {},
   "source": [
    "### 인자값의 입력 개수를 제한하지 않도록 하는 함수 정의 형식\n",
    "\n",
    "\n",
    "```\n",
    "func 함수 이름(매개변수명 : 매개변수 타입 ...)\n",
    "```"
   ]
  },
  {
   "cell_type": "markdown",
   "metadata": {},
   "source": [
    "- ### 이렇게 정의된 매개변수는 가변 인자로 인식되어 개수를 제한하지 않고 인자값을 입력받으며, 입력된 인자값을 배열로 처리한다\n",
    "- #### 함수의 실행 블록 내에서 for ~ in 구문을 사용하면 입력된 모든 인자값을 순서대로 읽어 들일 수 있다"
   ]
  },
  {
   "cell_type": "markdown",
   "metadata": {},
   "source": [
    "### 가변 인자값의 사용법 예시\n",
    "\n",
    "### 개수의 제한 없이 점수를 입력받아 평균값을 산출하는 함수\n",
    "\n",
    "```\n",
    "func avg(score: Int...) -> Double {\n",
    "    var total = 0 // 점수 합계\n",
    "    for r in score { // 배열로 입력된 값들을 순회 탐색하면서 점수를 합산\n",
    "        total += r\n",
    "    }\n",
    "    return (Double(total) / Double(score.count)) // 평균값을 구해서 반환\n",
    "}\n",
    "\n",
    "print(avg(score: 10, 20, 30, 40))\n",
    "\n",
    "[실행 결과]\n",
    "25.0\n",
    "```"
   ]
  },
  {
   "cell_type": "markdown",
   "metadata": {},
   "source": [
    "- ### 매개변수 score는 가변 인자로 설정된 Int 타입이다\n",
    "    - ### 여기에 저장된 값은 배열로 처리된다\n",
    "- #### for ~ in 구문에 넣고 순회 탐색을 처리하면 입력된 전체 인자값을 읽어 들일 수 있다\n",
    "    - #### 이 값들을 순회하면서 total(점수 합계)에 더하고, 최종적으로 더한 값을 score 배열의 크기로 나누어 평균을 구한다\n",
    "    - #### 이때 total 변수와 배열의 크기는 모두 정수이므로 형변환 없이 그대로 계산하면 정수값으로 계산된다\n",
    "        - #### 이를 방지하기 위해 Double 타입의 실수로 형변환을 해준 다음 평균을 구하는 연산을 수행한다"
   ]
  },
  {
   "cell_type": "markdown",
   "metadata": {},
   "source": [
    "- ### 이처럼 가변 인자값은 입력 개수를 특정할 수 없는 형태의 매개변수에서 사용된다\n",
    "- ### 빈번하게 사용되는 것은 아니지만, 가변 인자가 아니면 같은 결과를 얻기 위해 꽤 복잡한 과정을 거쳐야 할 수도 있으므로 기억해두는 것이 좋다"
   ]
  }
 ],
 "metadata": {
  "kernelspec": {
   "display_name": "Python 3",
   "language": "python",
   "name": "python3"
  },
  "language_info": {
   "codemirror_mode": {
    "name": "ipython",
    "version": 3
   },
   "file_extension": ".py",
   "mimetype": "text/x-python",
   "name": "python",
   "nbconvert_exporter": "python",
   "pygments_lexer": "ipython3",
   "version": "3.7.1"
  }
 },
 "nbformat": 4,
 "nbformat_minor": 2
}
