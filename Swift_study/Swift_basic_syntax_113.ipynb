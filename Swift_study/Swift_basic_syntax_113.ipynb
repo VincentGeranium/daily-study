{
 "cells": [
  {
   "cell_type": "markdown",
   "metadata": {},
   "source": [
    "# 오류 처리 (Error Handling)\n",
    "## 스위프트는 어떻게 오류를 처리할까?\n",
    "## 오류 처리 구문"
   ]
  },
  {
   "cell_type": "markdown",
   "metadata": {},
   "source": [
    "## 오류 타입 정하기"
   ]
  },
  {
   "cell_type": "markdown",
   "metadata": {},
   "source": [
    "### 오류 처리를 위해서는 오류 정보를 담아 함수나 메소드 외부로 던질 오류 타입 객체가 필요하다\n",
    "- #### 이 객체는 하나의 일관된 오류 주제에 소속된 여러 가지 오류를 정의할 수 있어야 하므로, 보통 열거형 타입으로 정의하는 경우가 많다"
   ]
  },
  {
   "cell_type": "markdown",
   "metadata": {},
   "source": [
    "### [YYYY-MM-DD] 형태를 보이는 문자열을 분석하여 연도, 월, 일 형식의 데이터로 각각 변환하는 함수가 있다고 하자\n",
    "\n",
    "### 이 함수는 문자열을 분석하는 과정에서 다음과 같은 다양한 오류를 만날 수 있다\n",
    "- #### 1. 입력된 문자열의 길이가 필요한 크기와 맞지 않는 오류\n",
    "- #### 2. 입력된 문자열의 형식이 YYYY-MM-DD 형태가 아닌 오류\n",
    "- #### 3. 입력된 문자열의 값이 날짜와 맞지 않는 오류"
   ]
  },
  {
   "cell_type": "markdown",
   "metadata": {},
   "source": [
    "### 이처럼 오류의 내용은 다양하지만, 이들 오류는 모두 문자열을 날짜 형식의 데이터로 변환하는 과정에 관한 오류들이라고 할 수 있다\n",
    "- #### 함수가 반환할 오류는 이처럼 일관된 주제와 연관된 다양한 경우를 표현할 수 있어야 한다\n",
    "- #### 이를 위해 가장 적합한 객체 타입이 바로 열거형이라 할 수 있다"
   ]
  },
  {
   "cell_type": "markdown",
   "metadata": {},
   "source": [
    "### 오류 타입으로 사용되는 열거형을 정의할 때는 반드시 Error라는 프로토콜을 구현해야 한다\n",
    "- #### 컴파일러는 Error 프로토콜을 구현한 열거형만을 오류 타입으로 인정한다\n",
    "- #### 아무 열거형이나 오류 타입이라고 사용해버리면 컴파일러도 이를 처리하는 데 곤란을 겪을 것이기 때문이다"
   ]
  },
  {
   "cell_type": "markdown",
   "metadata": {},
   "source": [
    "### 이때의 Error는 아무 기능도 정의되지 않은 빈 프로토콜이다\n",
    "- #### 구현해야 할 프로퍼티나 메소드도 필요로 하지 않는다\n",
    "- #### 실제로 Error 프로토콜의 정의를 살펴보면 다름처럼 빈 프로토콜로 정의되어 있는 것을 볼 수 있다\n",
    "\n",
    "```\n",
    "protocol Error {\n",
    "    \n",
    "}\n",
    "```"
   ]
  },
  {
   "cell_type": "markdown",
   "metadata": {},
   "source": [
    "### 간혹 이처럼 아무 내용도 작성되지 않은 프로토콜을 볼 수 있는데, 이들은 모두 프로토콜의 기능 구현보다는 \"프로토콜을 구현했다는 사실 자체가 중요한 경우\"가 많다\n",
    "\n",
    "### Error 프로토콜 역시 마찬가지이다. \"이 프로토콜을 구현한 열거형은 오류 타입으로 사용해도 된다\"는 인증 마크라고 할 수 있다"
   ]
  },
  {
   "cell_type": "markdown",
   "metadata": {},
   "source": [
    "### 일단 Error 프로토콜을 열거형에 추가하고 나면 나머지는 자신이 원하는대로 정의할 수 있다\n",
    "- #### 반환할 오류 종류들을 열거형의 각 멤버로 정의하는 것이다\n",
    "\n",
    "### 앞에서 언급했던 것처럼, 문자열을 분석하여 날짜 형식으로 처리하는 과정에서 발생할 수 있는 오류들을 정의해보자\n",
    "\n",
    "### 발생 가능한 오류 타입들을 멤버로 가지는 DateParseError 열거형을 정의\n",
    "\n",
    "```\n",
    "enum DateParseError: Error {\n",
    "    case overSizeString\n",
    "    case underSizeString\n",
    "    case incorrectFormat(part: String)\n",
    "    case incorrectData(part: String)\n",
    "    \n",
    "}\n",
    "```\n",
    "\n",
    "- #### 오류 타입으로 만들기 위해 Error 프로토콜을 구현\n",
    "- #### 이 열거형은 모두 네 개의 멤버를 가진다, 각각은 다음과 같은 오류를 의미한다\n",
    "    - #### overSizeString - 입력된 데이터의 길이가 필요한 크기보다 큽니다\n",
    "    - #### underSizeString - 입력된 데이터의 길이가 필요한 크기보다 부족합니다\n",
    "    - #### incorrectFormat - 입력된 데이터의 형식이 맞지 않습니다\n",
    "    - #### incorrectData -  입력된 데이터의 값이 올바르지 않습니다\n",
    "\n",
    "- 이 오류 타입은 학습을 위해 임시로 작성한 오류 타입니다\n",
    "- #### 실제로 사용할 오류 타입은 필요에 따라 상세한 타입으로 나누어 사용하는 것이 좋다"
   ]
  }
 ],
 "metadata": {
  "kernelspec": {
   "display_name": "Python 3",
   "language": "python",
   "name": "python3"
  },
  "language_info": {
   "codemirror_mode": {
    "name": "ipython",
    "version": 3
   },
   "file_extension": ".py",
   "mimetype": "text/x-python",
   "name": "python",
   "nbconvert_exporter": "python",
   "pygments_lexer": "ipython3",
   "version": "3.7.1"
  }
 },
 "nbformat": 4,
 "nbformat_minor": 2
}
