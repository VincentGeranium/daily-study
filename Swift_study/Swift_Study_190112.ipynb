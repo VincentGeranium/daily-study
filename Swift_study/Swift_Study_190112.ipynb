{
 "cells": [
  {
   "cell_type": "markdown",
   "metadata": {},
   "source": [
    "# 복습 중 정리\n",
    "## Swift_basic_syntax_49(복습 중 정리)"
   ]
  },
  {
   "cell_type": "markdown",
   "metadata": {},
   "source": [
    "## defer 블록"
   ]
  },
  {
   "cell_type": "markdown",
   "metadata": {},
   "source": [
    "- #### 메소드에서 코드의 흐름과 상관 없이 가장 마지막에 실행되는 블록"
   ]
  },
  {
   "cell_type": "markdown",
   "metadata": {},
   "source": [
    "### 코드를 통한 예시\n",
    "\n",
    "```\n",
    "func dbExecute(dbPath: String) {\n",
    "    //1\n",
    "    var db: OpaquePointer? = nil\n",
    "    guard sqlite3_open(dbPath, &db) == SQLITE_OK else {\n",
    "        print(\"Database Connect Fail\")\n",
    "        return\n",
    "    }\n",
    "    \n",
    "    //2\n",
    "    defer {\n",
    "        print(\"Close Database Connection\")\n",
    "        sqlite3_close(db)\n",
    "    }\n",
    "    \n",
    "    //3\n",
    "    var stmt: OpaquePointer? = nil\n",
    "    let sql = \"create table if not exists sequence (num integer)\"\n",
    "    guard sqlite3_prepare(db, sql, -1, &stmt, nil) == SQLITE_OK else{\n",
    "        print(\"Prepare Statement Fail\")\n",
    "        return\n",
    "    }\n",
    "    \n",
    "    //4\n",
    "    defer {\n",
    "        print(\"Finalize Statement\")\n",
    "        sqlite3_finalize(stmt)\n",
    "    }\n",
    "    \n",
    "    //5\n",
    "    if sqlite3_step(stmt) == SQLITE_DONE {\n",
    "        print(\"Create Table Success!\")\n",
    "    }\n",
    "}\n",
    "```"
   ]
  },
  {
   "cell_type": "markdown",
   "metadata": {},
   "source": [
    "- #### 위 코드에서 defer 블록을 보면 SQLite3를 종료하는 함수를 호출하고 있다\n",
    "- #### 해당 위치에 왔을 때 바로 블록을 실행 하는게 아니라 sqlite3_step 부분까지 실행되고 나서, dbExecute 함수를 벗어 날때 defer 블록 부분이 호출 되는 것이다"
   ]
  },
  {
   "cell_type": "markdown",
   "metadata": {},
   "source": [
    "### 즉, 주석으로 표시한 숫자 순서로 말을 하면 1 -> 3 -> 5 -> 4 -> 2\n",
    "### 하지만 만약 3번 위치에서 return 할 경우는 1 -> 3 -> 2 가 된다\n",
    "### defer 블록은 나중에 호출된 블록 부터 호출이 된다\n",
    "### 그래서 2번 위치부터 호출하지 않고 4번 위치부터 호출을 한다"
   ]
  },
  {
   "cell_type": "markdown",
   "metadata": {},
   "source": [
    "## defer 블록 특징\n",
    "- #### 1. 함수 종료 직전에 실행\n",
    "- #### 2. defer 블록이 읽히기 전에 종료 되면 실행 되지 않음\n",
    "- #### 3. 가장 마지막에 호출된 defer 블록부터 역순으로 호출된다.\n",
    "- #### 4. defer 블록을 중첩으로 사용할 때, 바깥쪽 블록부터 호출된다."
   ]
  },
  {
   "cell_type": "markdown",
   "metadata": {},
   "source": [
    "## 학습 중 정리\n",
    "## Swift_basic_syntax_50(학습 중 정리)"
   ]
  },
  {
   "cell_type": "markdown",
   "metadata": {},
   "source": [
    "### https://devmjun.github.io 참조하여 학습"
   ]
  },
  {
   "cell_type": "markdown",
   "metadata": {},
   "source": [
    "## Swift 의 값 타입과 참조 타입"
   ]
  },
  {
   "cell_type": "markdown",
   "metadata": {},
   "source": [
    "- #### Struct와 Class를 설명할 때 Struct는 값 타입이고 Class는 참조 타입이라고 한다"
   ]
  },
  {
   "cell_type": "markdown",
   "metadata": {},
   "source": [
    "## Struct와 Class의 기본 구조\n",
    "\n",
    "#### Class 정의\n",
    "\n",
    "```\n",
    "class VideoMode {\n",
    "    var resolution = Resolution()\n",
    "    var interlaced = falsex\n",
    "    var frameRate = 0.0\n",
    "    var name: String?\n",
    "}\n",
    "```\n",
    "\n",
    "#### Struct 정의\n",
    "\n",
    "```\n",
    "struct Resolution {\n",
    "    var width = 0\n",
    "    var height = 0\n",
    "}\n",
    "```\n",
    "\n",
    "#### Class 인스턴스 생성\n",
    "\n",
    "```\n",
    "var value = VideoMode()\n",
    "```\n",
    "\n",
    "#### Struct 인스턴스 생성\n",
    "\n",
    "```\n",
    "var value = Resolution()\n",
    "```\n"
   ]
  },
  {
   "cell_type": "markdown",
   "metadata": {},
   "source": [
    "### 동일하게 인스턴스를 생성한다. \n",
    "### 하지만, 인스턴스를 생성할때 각각의 인자를 전달하는 방식이 달라지게 된다"
   ]
  },
  {
   "cell_type": "markdown",
   "metadata": {},
   "source": [
    "## Struct 와 Class\n",
    "\n",
    "- #### Class 는 참조 타입이며, Struct는 값 타입이다\n",
    "- #### Class 는 상속을 통해 부모클래스의 특성을 상속받을수 있다\n",
    "- #### Class 는 Type Casting을 사용할 수 있다\n",
    "    - #### Struct는 사용할 수 없다\n",
    "- #### Struct의 프로퍼티는 instance가 var를 통해서 만들어야 수정이 가능하다\n",
    "- #### Class는 Referance Counting를 통해 인스턴스의 해제를 계산한다\n",
    "- #### Class는 deinitializer를 사용 할 수 있다"
   ]
  },
  {
   "cell_type": "markdown",
   "metadata": {},
   "source": [
    "## 값 타입과 참조 타입\n",
    "- ### Memory 구조\n",
    "    - #### STACK -> 지역 변수, 매개 변수 등\n",
    "    - #### HEAP -> 동적 할당을 위한 영역\n",
    "    - #### DATA -> 전역 변수, 정적 변수가 저장\n",
    "    - #### CODE -> 프로그램 Code 저장"
   ]
  },
  {
   "cell_type": "markdown",
   "metadata": {},
   "source": [
    "#### 메모리는 그냥 사용하면 비효율적이기 때문에, 어느정도 논리적으로 구분을 시켜서 사용하는 것이\n",
    "#### 효율적이기 때문에 메모리의 구역을 논리적으로 나누어 사용한다 (stack, heap, data, code)"
   ]
  },
  {
   "cell_type": "markdown",
   "metadata": {},
   "source": [
    "## Memory에 Class 와 Struct가 어떻게 들어가는지 확인"
   ]
  },
  {
   "cell_type": "markdown",
   "metadata": {},
   "source": [
    "### Struct 인스턴스\n",
    "\n",
    "```\n",
    "var num: Int = 4 \n",
    "var num2: Int = 5\n",
    "```\n",
    "\n",
    "### Class 인스턴스\n",
    "\n",
    "```\n",
    "let lb: UIView = UIView()\n",
    "```"
   ]
  },
  {
   "cell_type": "markdown",
   "metadata": {},
   "source": [
    "### 각각 메모리에 어떻게 들어가는지 확인\n",
    "\n",
    "### Struct Instance\n",
    "\n",
    "- #### STACK <- a = 4 , b = 5\n",
    "- #### HEAP\n",
    "- #### DATA\n",
    "- #### CODE <- 프로그램 code 저장 (var num:Int = 4; , var num2: Int = 5 ;)\n",
    "\n",
    "#### Class Instance\n",
    "\n",
    "- #### STACK <- lb = 인스턴스 주소 (lb:UIView)\n",
    "- #### HEAP <- UIView인스턴스 (UIView())\n",
    "- #### DATA\n",
    "- #### CODE <- 프로그램 code 저장 (let lb:UIView = UIView())\n"
   ]
  },
  {
   "cell_type": "markdown",
   "metadata": {},
   "source": [
    "- #### Struct 인스턴스로 만들어진 것들은 STACK, CODE 영역에 저장이 되었다\n",
    "- #### Struct는 값 타입이라서, 기본적으로 Struct 인스턴스를 생성할때, 인스턴스의 값을 다른 공간에 새롭게 복사해서, 복사된 인자를 전달한다\n",
    "- #### 때문에 기본적으로 STACK에 쌓이게 된다\n",
    "- #### 하지만 Struct의 값이 커지게 되면 Heap 영역에 저장 되기도 한다\n"
   ]
  },
  {
   "cell_type": "markdown",
   "metadata": {},
   "source": [
    "- #### Class 인스턴스는 HEAP 영역에, 그 인스턴스가 가리키는 값은 STACK영역에 쌓인다"
   ]
  },
  {
   "cell_type": "markdown",
   "metadata": {},
   "source": [
    "- #### 하지만 엄밀하게 얘기하면 Swift의 모든 타입은 변수들을 Heap에 저장되어서 탐조 타입이다\n",
    "- #### 사실 내부적으로 Struct도 어딘가를 참조하고 있다\n",
    "- ### 그래서 엄밀하게는 Swift의 모든 녀석들은 참조한다고 할 수 있다"
   ]
  }
 ],
 "metadata": {
  "kernelspec": {
   "display_name": "Python 3",
   "language": "python",
   "name": "python3"
  },
  "language_info": {
   "codemirror_mode": {
    "name": "ipython",
    "version": 3
   },
   "file_extension": ".py",
   "mimetype": "text/x-python",
   "name": "python",
   "nbconvert_exporter": "python",
   "pygments_lexer": "ipython3",
   "version": "3.7.1"
  }
 },
 "nbformat": 4,
 "nbformat_minor": 2
}
