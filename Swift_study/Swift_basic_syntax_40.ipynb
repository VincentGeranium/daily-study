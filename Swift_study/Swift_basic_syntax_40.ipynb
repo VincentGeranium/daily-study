{
 "cells": [
  {
   "cell_type": "markdown",
   "metadata": {},
   "source": [
    "# 함수 (Function)\n",
    "## 매개변수\n",
    "### 내부 매개변수명, 외부 매개변수명"
   ]
  },
  {
   "cell_type": "markdown",
   "metadata": {},
   "source": [
    "- #### 스위프트에서는 함수를 정의할 때 매개변수를 용도에 따라 두 가지로 분리할 수 있다.\n",
    "    - ### 1. 내부 매개변수\n",
    "    - ### 2. 외부 매개변수\n",
    "- ### 내부 매개변수는 입력된 인자값을 함수 내부에서 참조하기 위해 사용하는 변수\n",
    "    - #### 함수의 범위 내에서는 내부 매개변수를 일반 변수처럼 사용하여 인자값을 얼마든지 참조할 수 있다\n",
    "        - #### 정확하게 말하자면 변수가 아니라 상수이다\n",
    "- ### 외부 매개변수는 함수를 호출할 때 인자값에 대한 레이블 역활을 하며, 동시에 함수의 식별자 일부로 사용되기도 한다"
   ]
  },
  {
   "cell_type": "markdown",
   "metadata": {},
   "source": [
    "- #### 별도로 외부 매개변수를 나누지 않을 경우 일반 매개변수가 인자 레이블 역활까지 겸한다\n",
    "- ### 외부 매개변수를 명시적으로 정의하면 이때부터는 외부 매개변수가 인자 레이블이 된다\n",
    "- ### 함수를 호출할 때나 함수의 이름을 식별할 때 모두 외부 매개변수를 사용해야 한다"
   ]
  },
  {
   "cell_type": "markdown",
   "metadata": {},
   "source": [
    "### 외부 매개변수를 지정하는 방법\n",
    "\n",
    "```\n",
    "func 함수 이름(<외부 매개변수 명><내부 매개변수 명>:<타입>,<외부 매개변수 명><내부 매개변수 명>:<타입>...) {\n",
    "    // 함수의 내용이 작성되는 곳\n",
    "}\n",
    "```"
   ]
  },
  {
   "cell_type": "markdown",
   "metadata": {},
   "source": [
    "- #### 함수를 정의할 때 내부 매개변수명 앞에 외부 매개변수명을 넣어주기만 하면 된다"
   ]
  },
  {
   "cell_type": "markdown",
   "metadata": {},
   "source": [
    "### 일반 함수 예시\n",
    "\n",
    "```\n",
    "func printHello(name: String, msg: String) {\n",
    "    print(\"\\(name)님, \\(msg)\")\n",
    "}\n",
    "```"
   ]
  },
  {
   "cell_type": "markdown",
   "metadata": {},
   "source": [
    "- #### 외부 매개변수를 사용하지 않은 일반 함수이다\n",
    "    - #### 이 함수에는 name과 msg라는 두 개의 매개변수가 정의되어 있다\n",
    "- #### 매개변수가 나누어져 있지 않을 때에는 그냥 매개변수명을 인자 레이블로 사용하면 되므로 호출 구문에는 name, msg를 인자 레이블로 붙여주어야 한다\n",
    "\n",
    "```\n",
    "printHello(name:\"이선빈\" , msg:\"안녕하세요\")\n",
    "```"
   ]
  },
  {
   "cell_type": "markdown",
   "metadata": {},
   "source": [
    "### 외부 매개변수 지정 예시\n",
    "\n",
    "```\n",
    "func printHello(to name: String, welcomeMessage msg: String) {\n",
    "    print(\"\\(name)님, \\(msg)\")\n",
    "}\n",
    "```"
   ]
  },
  {
   "cell_type": "markdown",
   "metadata": {},
   "source": [
    "- #### 이 함수는 여전히 name과 msg라는 두 개의 매개변수를 사용한다\n",
    "    - ### 하지만 외부 매개변수인 to, welcomeMessage가 추가되면서 name과 msg는 내부 매개변수가 되었다\n",
    "- ### 외부 매개변수가 정의되어 있지 않을 때에는 함수를 호출할 때 name와 msg 매개변수를 사용해야 한다\n",
    "- ### 외부 매개변수가 추가된 상태에는 추가된 외부 매개변수 (to, welcomeMessage)를 사용하여 호출해야 한다"
   ]
  },
  {
   "cell_type": "markdown",
   "metadata": {},
   "source": [
    "### 외부 매개변수를 이용하여 함수 호출 예시\n",
    "\n",
    "```\n",
    "printHello(to: \"이선빈\", welcomeMessga: \"안녕하세요\")\n",
    "```"
   ]
  },
  {
   "cell_type": "markdown",
   "metadata": {},
   "source": [
    "- #### 매개변수명 name 대신 to를, msg 대신 welcomeMessage라는 와부 매개변수명을 넣어주고 있다\n",
    "    - ### 물론 이 to와 welcomeMessage라는 매개변수명은 어디까지나 외부에서 호출할 때 사용하는 이름에 지나지 않는다\n",
    "    - ### 함수 내부에서 인자값을 받아 사용할 때는 내부 매개변수명인 name, msg가 그대로 사용된다"
   ]
  },
  {
   "cell_type": "markdown",
   "metadata": {},
   "source": [
    "- ### 외부 매개변수를 따로 지정할 경우에는 함수의 이름 변화에도 주의해야 한다\n",
    "    - #### 기존 매개변수 명이 아닌, 따로 지정된 외부 매개변수명이 함수 이름에 사용되기 때문이다"
   ]
  },
  {
   "cell_type": "markdown",
   "metadata": {},
   "source": [
    "### 외부 매개변수의 지정 여부에 따른 함수명 설명 1\n",
    "\n",
    "```\n",
    "func printHello(name: String, msg: String) {\n",
    "    print(\"\\(name)님, \\(msg)\")\n",
    "}\n",
    "```\n",
    "\n",
    "- #### 함수명 = printHello(name:msg:)\n",
    "\n",
    "### 외부 매개변수의 지정 여부에 따른 함수명 설명 2\n",
    "\n",
    "```\n",
    "func printHello(to name: String, msg: String) {\n",
    "    print(\"\\(name)님, \\(msg)\")\n",
    "}\n",
    "```\n",
    "\n",
    "- #### 함수명 = printHello(to:msg:)\n",
    "\n",
    "### 외부 매개변수의 지정 여부에 따른 함수명 설명 3\n",
    "\n",
    "```\n",
    "func printHello(to name: String, welcomeMessage msg: String) {\n",
    "    print(\"\\(name)님, \\(msg)\")\n",
    "}\n",
    "```\n",
    "\n",
    "- #### 함수명 = printHello(to:welcomeMessage:)"
   ]
  },
  {
   "cell_type": "markdown",
   "metadata": {},
   "source": [
    "- ### 함수의 호출 시 매개변수를 생략할 수 있는 옵션도 있다\n",
    "    - ### 함수 정의 구문에서 외부 매개변수 자리에 언더바를 넣어주면 함수를 호출할 때 매개변수를 사용하지 않아도 된다\n",
    "\n",
    "```\n",
    "func printHello(_ name: String, _ msg: String) {\n",
    "    print(\"\\(name)님, \\(msg)\")\n",
    "}\n",
    "```"
   ]
  },
  {
   "cell_type": "markdown",
   "metadata": {},
   "source": [
    "- ### 함수의 외부 매개변수명이 들어갈 자리에 대신 언더바 ( _ )를 사용했다\n",
    "    - #### 스위프트에서 언더바는 대부분 \"문법은 적용하되 사용하지 않는다, 생략하겠다\"라는 의미로 많이 사용된다\n",
    "- #### 튜플의 각 아이템을 받는 개별 변수를 선언할 때도 굳이 받고싶지 않은 아이템의 경우 언더바로 변수를 대체한다\n",
    "- ### 외부 매개변수명 자리에 언더바를 사용하면 \"내부 매개변수와 외부 매개변수를 분리하지만 외부 매개변수명을 사용하지는 않겠다\"라는 뜻이 되어 매개변수를 생략하고 호출할 수 있다"
   ]
  },
  {
   "cell_type": "markdown",
   "metadata": {},
   "source": [
    "### 매개변수 생략 호출 구문\n",
    "\n",
    "```\n",
    "printHello(\"이선빈\", \"안녕하세요\")\n",
    "```"
   ]
  },
  {
   "cell_type": "markdown",
   "metadata": {},
   "source": [
    "- #### 인자값 앞에 붙던 매개변수명이 사라지고 다른 언어에서처럼 단순히 인자값만을 이용해서 호출\n",
    "    - ### 이제는 함수 호출 시 매개변수명을 붙이려고 하면 오히려 오류가 발생한다"
   ]
  },
  {
   "cell_type": "markdown",
   "metadata": {},
   "source": [
    "- ### 매개변수가 여러 개일 때에는 일부만 매개변수를 생략할 수도 있다\n",
    "    - #### 앞이나 뒤, 중간등 어느 위치의 매개변수라도 언더바를 넣어 정의해주기만 하면 해당 부분의 매개변수를 생략하고 호출할 수 있는 함수가 만들어진다"
   ]
  },
  {
   "cell_type": "markdown",
   "metadata": {},
   "source": [
    "### 매개변수의 일부만 생략하는 구문과 호출 구문 예시 1\n",
    "\n",
    "```\n",
    "func printHello(to name: String, _ msg: String) {\n",
    "    print(\"\\(name)님, \\(msg)\")\n",
    "}\n",
    "```\n",
    "- ### 호출 구문 1\n",
    "\n",
    "```\n",
    "printHello(to: \"이선빈\" , \"안녕하세요\")\n",
    "```\n",
    "\n",
    "### 매개변수의 일부만 생략하는 구문과 호출 구문 예시 2\n",
    "\n",
    "```\n",
    "func printHello(_ name: String, welcomeMessage msg: String) {\n",
    "    print(\"\\(name)님, \\(msg)\")\n",
    "}\n",
    "```\n",
    "\n",
    "- ### 호출 구문 2\n",
    "\n",
    "```\n",
    "printHello(\"이선빈\" , welcomeMessage: \"안녕하세요\")\n",
    "```"
   ]
  },
  {
   "cell_type": "markdown",
   "metadata": {},
   "source": [
    "- ### 매개변수의 일부만 생략하는 구문과 호출 구문 예시 2\n",
    "    - ### 맨 앞의 매개변수를 생략한 이 구조는 코코아 터피 프레임워크에서 굉장히 많이 사용되는 방식이다"
   ]
  },
  {
   "cell_type": "markdown",
   "metadata": {},
   "source": [
    "- ### 매개변수가 생략될 경우, 함수의 이름에도 변화가 생긴다\n",
    "    - ### 외부 매개변수가 사용될 자리에 대신 언더바가 들어갔으므로, 함수명 역시 외부 매개변수 자리에 언더바를 넣어 표시해 주어야 한다"
   ]
  },
  {
   "cell_type": "markdown",
   "metadata": {},
   "source": [
    "### 매개변수 생략에 따른 함수 이름 정의 예시 1\n",
    "\n",
    "```\n",
    "func printHello(_ name: String, _ msg: String) {...}\n",
    "```\n",
    "\n",
    "- ### 함수명 1\n",
    "\n",
    "```\n",
    "printHello(_:_:)\n",
    "```\n",
    "\n",
    "### 매개변수 생략에 따른 함수 이름 정의 예시 2\n",
    "\n",
    "```\n",
    "func printHello(to name: String, _ msg: String) {...}\n",
    "```\n",
    "\n",
    "- ### 함수명 2\n",
    "\n",
    "```\n",
    "printHello(to:_:)\n",
    "```\n",
    "\n",
    "### 매개변수 생략에 따른 함수 이름 정의 예시 3\n",
    "\n",
    "```\n",
    "func printHello(_ name: String, welcomeMessage msg: String) {...}\n",
    "```\n",
    "\n",
    "- ### 함수명 3\n",
    "\n",
    "```\n",
    "printHello(_:welcomeMessage:)\n",
    "```"
   ]
  },
  {
   "cell_type": "markdown",
   "metadata": {},
   "source": [
    "- #### 스위프트 언어의 특징이라 할 수 있는 외부 매개변수명은 매개변수명이 내부와 외부에서 바라보는 의미가 달라 외부와 내부로 구분하여 사용할 필요가 있을 때 사용된다\n",
    "    - #### 혹은 내부 매개변수명을 외부로 공개하기를 원치 않을 때 사용된다\n",
    "    - #### 내부 매개변수명이 너무 길어서 호출 과정이 불편해질 때도 사용한다\n",
    "- ### 가장 큰 목적은 Objective-C 와의 호환성 때문이라고 할 수 있다"
   ]
  }
 ],
 "metadata": {
  "kernelspec": {
   "display_name": "Python 3",
   "language": "python",
   "name": "python3"
  },
  "language_info": {
   "codemirror_mode": {
    "name": "ipython",
    "version": 3
   },
   "file_extension": ".py",
   "mimetype": "text/x-python",
   "name": "python",
   "nbconvert_exporter": "python",
   "pygments_lexer": "ipython3",
   "version": "3.7.1"
  }
 },
 "nbformat": 4,
 "nbformat_minor": 2
}
