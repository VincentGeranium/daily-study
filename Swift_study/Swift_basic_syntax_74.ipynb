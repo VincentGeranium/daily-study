{
 "cells": [
  {
   "cell_type": "markdown",
   "metadata": {},
   "source": [
    "# 구조체와 클래스\n",
    "## 객체지향 스위프트\n",
    "## 메소드(Method)"
   ]
  },
  {
   "cell_type": "markdown",
   "metadata": {},
   "source": [
    "## 인스턴스 메소드(Instance Method)"
   ]
  },
  {
   "cell_type": "markdown",
   "metadata": {},
   "source": [
    "### 인스턴스 메소드(Instance Method)는 클래스, 구조체 또는 열거형과 같은 객체 타입이 만들어 내는 인스턴스에 소속된 함수\n",
    "- #### 인스턴스 메소드는 인스턴스 프로퍼티에 접근하거나 수정하는 방법을 제공하거나 인스턴스의 생성 목적에 따른 함수적 관계성을 제공하는 등 객체의 인스턴스에 대한 기능적 측면을 제공한다\n",
    "- #### 인스턴스 메소드는 객체 타입 내부에 선언된다는 점을 제외하고는 일반 함수와 선언하는 형식이 완전히 동일하다"
   ]
  },
  {
   "cell_type": "markdown",
   "metadata": {},
   "source": [
    "### 인스턴스 메소드는 같은 객체 내에서 정의된 다른 인스턴스 메소드나 인스턴스 프로퍼티에 접근 할 수 있도록 권한이 부여된다\n",
    "- #### 해당 메소드가 속한 인스턴스를 통해서만 호출될 수 있다\n",
    "    - #### 인스턴스 없이 독립적으로 호출될 수 없다는 뜻이다\n",
    "- #### 인스턴스 메소드는 구조체나 클래스, 열거형 등의 객체 타입을 인스턴스화 한 후, 이 인스턴스를 통하여 호출하게 된다"
   ]
  },
  {
   "cell_type": "markdown",
   "metadata": {},
   "source": [
    "### 구조체와 클래스에 인스턴스 메소드를 정의\n",
    "### 인스턴스 메소드 선언\n",
    "\n",
    "```\n",
    "struct Resolution {\n",
    "    var width = 0\n",
    "    var height = 0\n",
    "    \n",
    "    // 구조체의 요약된 설명을 리턴해주는 인스턴스 메소드\n",
    "    func desc() -> String {\n",
    "        let desc = \"이 해상도는 가로 \\(self.width) X \\(self.height) 로 구성됩니다.\"\n",
    "        return desc\n",
    "    }\n",
    "}\n",
    "\n",
    "class VideoMode {\n",
    "    var resolution = Resolution()\n",
    "    var interlaced = false\n",
    "    var frameRate = 0.0\n",
    "    var name: String?\n",
    "    \n",
    "    // 클래스의 요약된 설명을 리턴해주는 인스턴스 메소드\n",
    "    func desc() -> String {\n",
    "        if self.name != nil {\n",
    "            let desc = \"\\(self.name!) 비디오 모드는 \\(self.frameRate)의 프레임 비율로 표시됩니다.\"\n",
    "            return desc\n",
    "        } else {\n",
    "            let desc = \"이 비디오 모드는 \\(self.frameRate)의 프레임 비율로 표시됩니다.\"\n",
    "            return desc\n",
    "        }\n",
    "    }\n",
    "}\n",
    "```"
   ]
  },
  {
   "cell_type": "markdown",
   "metadata": {},
   "source": [
    "### 위 예제에서는 Resolution 구조체와 VideoMode 클래스 양쪽에 desc() 함수가 추가되었다.\n",
    "- #### 이 desc() 함수가 구조체와 클래스의 멤버인 \"메소드(Method)\"이다\n",
    "- #### 더 정확하게는 \"인스턴스 메소드(Instance Method)\"이다\n",
    "\n",
    "### 매소드의 선언 형식은 일반 함수와 같지만, 다음 세 가지 항목에서 인스턴스 메소드는 일반 함수와 차이가 있다\n",
    "- #### 1. 구조체와 클래스의 인스턴스에 소속된다는 점\n",
    "- #### 2. 메소드 내에서 정의된 변수와 상수뿐만 아니라 클래스 범위에서 정의된 프로퍼티도 모두 참조할 수 있다는 점\n",
    "- #### 3. self 키워드를 사용할 수 있다는 점"
   ]
  },
  {
   "cell_type": "markdown",
   "metadata": {},
   "source": [
    "### 예제 구문을 하나씩 살펴보자\n",
    "- #### 구조체 Resolution에서 선언된 desc() 메소드는 내부 프로퍼티 width, height를 이용하여 구조체를 요약하는 설명 문장을 만든 다음 이를 반환하는 역활을 한다\n",
    "\n",
    "### width와 height 프로퍼티를 읽어올 때 프로퍼티 이름 앞에 self 키워드가 붙어있다\n",
    "- #### 이처럼 인스턴스 메소드 내에서 프로퍼티를 읽어올 경우 다음 형식으로 참조해야 한다\n",
    "\n",
    "```\n",
    "self.프로퍼티명\n",
    "```"
   ]
  },
  {
   "cell_type": "markdown",
   "metadata": {},
   "source": [
    "### 프로퍼티 앞에 붙은 self 키워드는 클래스나 구조체 자신을 가리킨다\n",
    "- #### 정확히는 클래스나 구조체의 인스턴스 자신을 가리킨다고 할 수 있다\n",
    "- #### self 키워드와 프로퍼티 이름을 구분해주는 점(.)은 일종의 소속 연산자로서 '~의'라는 소속의 의미를 나타낸다\n",
    "- #### 이를 종합해보면 self.width라는 것은 '클래스나 구조체 자신의 인스턴스에 속한 width 프로퍼티'라는 의미가 된다\n",
    "    - #### 즉, 클래스나 구조체의 멤버로 선언된 width라는 뜻이다"
   ]
  },
  {
   "cell_type": "markdown",
   "metadata": {},
   "source": [
    "### 원래대로라면 width는 인스턴스 프로퍼티이므로 다음과 같이 인스턴스를 통해서만 값에 접근 할 수 있다\n",
    "\n",
    "```\n",
    "var res = Resolution()\n",
    "res.width\n",
    "```"
   ]
  },
  {
   "cell_type": "markdown",
   "metadata": {},
   "source": [
    "### 하지만 인스턴스는 클래스 외부에서 접근할 수 있을 뿐, 클래스 내부에서는 어느 인스턴스에 할당된 것인지에 대한 정보를 정확히 알 수가 없다\n",
    "- #### 이 때문에 인스턴스 이름 대신 self라는 키워드를 사용하여 자기 자신의 인스턴스라는 것을 표현하는 것이다"
   ]
  },
  {
   "cell_type": "markdown",
   "metadata": {},
   "source": [
    "### 프로퍼티에 반드시 self 키워드를 붙이지 않더라도, 스위프트 컴파일러는 이 변수가 프로퍼티라는 것을 대부분의 경우에서 잘 인식하고, 사용하는 데 문제가 없도록 처리한다\n",
    "- #### 이 때문에 self 키워드를 생략하고 사용하는 경우도 많다\n",
    "- #### 하지만 반드시 self 키워드를 붙여주어야 할 때가 있는데, 메소드 내부에 프로퍼티와 동일한 이름을 가진 변수나 상수가 선언 되었을 때이다"
   ]
  },
  {
   "cell_type": "markdown",
   "metadata": {},
   "source": [
    "### 이렇게 되면 이름만으로는 프로퍼티와 일반 변수를 구분할 수 없기 때문에 다른 구분 요소가 필요하다\n",
    "- #### 이때 둘 사이를 구분해 주는 것이 바로 self 키워드이다\n",
    "- #### 일반 변수에는 self 키워드를 붙일 수 없기 때문에 self 키워드가 붙은 변수는 프로퍼티로, 붙지 않은 변수는 일반 변수로 판단하는 것이다\n",
    "- #### 다시 말해 \"프로퍼티와 일반 변수의 이름이 충돌할 경우에는 프로퍼티 앞에 반드시 self 키워드를 붙여 주어야 한다\"는 의미이다."
   ]
  },
  {
   "cell_type": "markdown",
   "metadata": {},
   "source": [
    "### self 키워드를 사용하여 프로퍼티와 일반 변수를 구분하는 예시\n",
    "\n",
    "```\n",
    "struct Resolution {\n",
    "    var width = 0\n",
    "    var height = 0\n",
    "    \n",
    "    \n",
    "    func judge() -> Bool {\n",
    "        let width = 30\n",
    "        return self.width == width\n",
    "    } // false\n",
    "}\n",
    "```"
   ]
  },
  {
   "cell_type": "markdown",
   "metadata": {},
   "source": [
    "#### 위 예제에서 추가된 judge 메소드는 self 키워드의 설명을 돕기 위해 임시로 추가한 것이다"
   ]
  },
  {
   "cell_type": "markdown",
   "metadata": {},
   "source": [
    "### judge 메소드가 하는 역활\n",
    "- #### 지역 상수인 width를 선언하고, 여기에 30이라는 값을 할당\n",
    "- #### 그리고 self.width와 width 값을 비교하여 그 결과를 반환\n",
    "\n",
    "### 구조체의 멤버로 width 변수가 정의되어 있고, judge 메소드 내부에서 다시 width가 정의되어 있다\n",
    "- #### 그리고 마지막 줄에서 self.width와 width 값을 비교하고 있다"
   ]
  },
  {
   "cell_type": "markdown",
   "metadata": {},
   "source": [
    "### 결과는 false이다\n",
    "- #### 즉, self.width와 width는 서로 다른 객체라는 것을 알 수 있다\n",
    "- #### 이때 만약 멤버 프로퍼티 앞에 self를 붙이지 않는다면 judge 매소드 내에서 멤버 프로퍼티인 width는 사용할 수 없다\n",
    "- #### 이미 메소드 내부에서 width가 선언되었고, 컴파일러는 변수나 상수를 검색하는 기본 규칙에 따라 내부에서 선언된 width를 우선순위로 사용하기 때문이다\n",
    "- #### 이러한 상황을 방지하기 위해 self 키워드가 사용된다"
   ]
  },
  {
   "cell_type": "markdown",
   "metadata": {},
   "source": [
    "### self 키워드는 변수나 상수의 입장에서 보면 클래스나 구조체의 한 축을 이루는 멤버라는 것을 나타낸다\n",
    "- #### 프로퍼티들은 자신이 지역 변수로 오해받을 위험에 처하면 지역 변수가 아닌 멤버 변수라는 것을 알리기 위해 self 키워드를 사용한다"
   ]
  },
  {
   "cell_type": "markdown",
   "metadata": {},
   "source": [
    "### VideoMode 클래스의 메소드를 확인해보자\n",
    "- #### VideoMode 클래스에서 정의된 desc()는 self.name, self.frameRate를 이용하여 문자열 템플릿을 구성한 후 값을 반환한다\n",
    "- #### 이 과정에서 self.name은 옵셔널 타입이므로 값이 있으면 강제 해제 연산자를 사용하여 옵셔널을 해제한 다음에 내부에 저장된 값을 사용, 값이 없으면 else 구문으로 분기된 별도의 반환값을 출력하도록 나누어 진다"
   ]
  },
  {
   "cell_type": "markdown",
   "metadata": {},
   "source": [
    "### 다른 예제\n",
    "### 다음 예제에서는 Counter 라는 이름의 간단한 클래스를 정의한다.\n",
    "- #### 이 클래스는 특정 동작이 발생한 횟수를 카운트하는 데 사용되는 객체이다\n",
    "\n",
    "```\n",
    "class Counter {\n",
    "    // 카운트를 저장할 프로퍼티\n",
    "    var count = 0\n",
    "    \n",
    "    // 카운트를 1 증가\n",
    "    func increment() {\n",
    "        self.count += 1\n",
    "    }\n",
    "    // 입력된 값만큼 카운트를 증가\n",
    "    func incrementBy(amount: Int) {\n",
    "        self.count += amount\n",
    "    }\n",
    "    // 카운트를 0으로 초기화\n",
    "    func reset() {\n",
    "        self.count = 0\n",
    "    }\n",
    "}\n",
    "```"
   ]
  },
  {
   "cell_type": "markdown",
   "metadata": {},
   "source": [
    "### Counter 클래스에는 세 개의 인스턴스 메소드와 하나의 변수 프로퍼티가 정의되어 있다\n",
    "- #### count 프로퍼티는 현재 카운터 값을 저장하기 위한 목적으로 사용된다"
   ]
  },
  {
   "cell_type": "markdown",
   "metadata": {},
   "source": [
    "### 인스턴스 메소드를 호출할 때는 인스턴스 프로퍼티를 참조할 때와 마찬가지로 \"점 구문(dot syntax)\"을 사용하여 호출한다\n",
    "- #### 인스턴스를 할당한 상수 또는 변수와 메소드 사이에 점을 사용하여 연결하면 된다\n",
    "\n",
    "```\n",
    "// Counter 클래스의 인스턴스를 생성한다. 초기 카운터 값은 0이다.\n",
    "let counter = Counter()\n",
    "\n",
    "// 카운터 값을 증가시킨다. 이제 카운터 값은 1이다.\n",
    "counter.increment()\n",
    "\n",
    "// 카운터 값을 5만큼 증가시킨다. 이제 카운터 값은 6이다.\n",
    "counter.incrementBy(amount: 5)\n",
    "\n",
    "// 카운터 값을 초기화 한다. 이제 카운터 값은 0이다.\n",
    "counter.reset()\n",
    "```"
   ]
  },
  {
   "cell_type": "markdown",
   "metadata": {},
   "source": [
    "### 인자값이 있는 메소드를 호출할 때에는 함수와 동일한 규칙이 적용된다\n",
    "- #### 즉, 호출 시 인자값 앞에 인자 레이블을 붙여주어야 한다\n",
    "- #### 외부 매개변수가 따로 지정되어 있지 않다면 매개변수명을 그대로 인자 레이블로 사용한다\n",
    "- #### 외부 매개변수를 지정한 경우에는 이것을 인자 레이블로 사용한다\n",
    "- #### 인자 레이블을 사용하고 싶지 않다면 외부 매개변수명 자리에 언더바(_)를 불이면 된다\n",
    "- #### 이처럼 메소드가 함수와 동일한 표현 방식을 사용할 수 있는 것은 객체 타입에 속해있다는 점을 제외하면 단순히 함수이기 때문이다"
   ]
  },
  {
   "cell_type": "markdown",
   "metadata": {},
   "source": [
    "### 주의해야 할 점\n",
    "- #### 구조체나 열거형의 인스턴스 메소드 내부에서 프로퍼티의 값을 수정할 때는 반드시 메소드 앞에 'mutating'이라는 키워드를 추가해야 한다\n",
    "- #### 이 키워드가 추가되지 않은 상태에서 프로퍼티의 값을 변경하고자 하면 오류가 발생한다\n",
    "- #### 내부 프로퍼티의 값을 수정할 때는 반드시 mutating 키워드를 사용하여 내부 프로퍼티 값을 수정하는 메소드라는 것을 컴파일러에 알려주어야 한다\n",
    "\n",
    "### 또 하나, 주의해야 할 점\n",
    "- #### 구조체나 열거형 인스턴스를 상수로 할당받으면 mutating 메소드를 호출할 수 없다\n",
    "- #### 내부의 값을 전혀 변경할 수 없는 상수에 값 타입의 객체가 할당되면 일체 프로퍼티 값을 수정할 수 없기 때문이다"
   ]
  },
  {
   "cell_type": "markdown",
   "metadata": {},
   "source": [
    "### 프로퍼티를 수정하기 위해 mutating 키워드를 사용하는 구조체의 예\n",
    "\n",
    "```\n",
    "struct Point {\n",
    "    var x = 0.0, y = 0.0\n",
    "    mutating func moveByX(x deltaX: Double, y deltaY: Double) {\n",
    "        self.x += deltaX\n",
    "        self.y += deltaY\n",
    "    }\n",
    "}\n",
    "\n",
    "var point = Point(x: 10.5, y: 12.0)\n",
    "point.moveByX(x: 3.0, y: 4.5)\n",
    "print(\"이제 새로운 죄표는 (\\(point.x), \\(point.y))입니다\")\n",
    "\n",
    "[실행 결과]\n",
    "이제 새로운 좌표는 (13.5, 16.5)입니다.\n",
    "```"
   ]
  },
  {
   "cell_type": "markdown",
   "metadata": {},
   "source": [
    "### 이와는 달리 클래스의 인스턴스 메소드에서는 프로퍼티를 수정할 때 별도의 키워드를 필요로 하지 않는다\n",
    "- #### 클래스에 정의된 모든 인스턴스 메소드는 인스턴스 내의 프로퍼티를 원하는 대로 수정할 수 있다\n",
    "\n",
    "```\n",
    "class Location {\n",
    "    var x = 0.0, y = 0.0\n",
    "    \n",
    "    \n",
    "    func moveByX(x deltaX: Double, y deltaY: Double) {\n",
    "        self.x += deltaX\n",
    "        self.y += deltaY\n",
    "    }\n",
    "}\n",
    "\n",
    "var loc = Location()\n",
    "loc.x = 10.5\n",
    "loc.y = 12.0\n",
    "loc.moveByX(x: 3.0, y: 4.5)\n",
    "\n",
    "print(\"이제 새로운 좌표는 (\\(loc.x), \\(loc.y))입니다\")\n",
    "\n",
    "[실행 결과]\n",
    "이제 새로운 좌표는 (13.5, 16.5)입니다.\n",
    "```"
   ]
  }
 ],
 "metadata": {
  "kernelspec": {
   "display_name": "Python 3",
   "language": "python",
   "name": "python3"
  },
  "language_info": {
   "codemirror_mode": {
    "name": "ipython",
    "version": 3
   },
   "file_extension": ".py",
   "mimetype": "text/x-python",
   "name": "python",
   "nbconvert_exporter": "python",
   "pygments_lexer": "ipython3",
   "version": "3.7.1"
  }
 },
 "nbformat": 4,
 "nbformat_minor": 2
}
