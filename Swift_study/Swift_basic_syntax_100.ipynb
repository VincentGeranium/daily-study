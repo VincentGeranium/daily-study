{
 "cells": [
  {
   "cell_type": "markdown",
   "metadata": {},
   "source": [
    "# 프로토콜(Protocol)\n",
    "## 객체의 설계도\n",
    "## 프로토콜의 정의"
   ]
  },
  {
   "cell_type": "markdown",
   "metadata": {},
   "source": [
    "### 프로토콜을 정의할 때에는 \"protocol\" 키워드를 사용한다.\n",
    "- #### protocol 키워드에 이어 프로토콜의 이름을 정의한다\n",
    "    - #### 중괄호로 된 코드 블록을 작성한다 \n",
    "        - #### 코드 블록을 작성한 다음 내부에 필요한 속성이나 메소드의 형식을 나열하면 기본적인 프로토콜의 구조가 완성된다\n",
    "\n",
    "```\n",
    "protocol <프로토콜명> {\n",
    "    <구현해야 할 프로퍼티 명세 1>\n",
    "    <구현해야 할 프로퍼티 명세 2>\n",
    "    <구현해야 할 프로퍼티 명세 3>\n",
    "    ...\n",
    "    <구현해야 할 메소드 명세 1>\n",
    "    <구현해야 할 메소드 명세 2>\n",
    "    <구현해야 할 메소드 명세 3>\n",
    "    ...\n",
    "    \n",
    "}\n",
    "```"
   ]
  },
  {
   "cell_type": "markdown",
   "metadata": {},
   "source": [
    "### 이렇게 작성된 프로토콜은 클래스나 구조체를 통해 구현된다.\n",
    "- #### \"프로토콜을 구현한다\"는 것은 프로토콜에 선언된 명세에 따라 실질적으로 프로퍼티에 값을 할당하여 선언하거나 메소드의 내용을 작성하는 것을 의미\n",
    "\n",
    "### 스위프트에서 프로토콜을 구현할 수 있는 구현체들은 다음과 같다\n",
    "- #### 1. 구조체 (Structure)\n",
    "- #### 2. 클래스 (Class)\n",
    "- #### 3. 열거형 (Enumeration)\n",
    "- #### 4. 익스텐션 (Extension)"
   ]
  },
  {
   "cell_type": "markdown",
   "metadata": {},
   "source": [
    "### 프로토콜을 구현하기 위해 가장 먼저 해야 할 일은 '이 프로토콜을 구현하겠습니다'라고 선언하는 것이다\n",
    "- #### 이를 위해 대상 프로토콜을 선언해야 한다\n",
    "- #### 프로토콜을 선언할 때는 구조체나 클래스 등의 정의 구문에서 객체의 이름 다음에 콜론을 추가, 그 뒤에 구현할 프로토콜의 이름을 작성하면 된다\n",
    "- #### 이미 다른 프로토콜이 추가되어 있다면 쉼표로 구분하여 뒤쪽으로 나열한다\n",
    "\n",
    "```\n",
    "struct/class/enum/extension 객체명 : 구현할 프로토콜명 {\n",
    "    \n",
    "}\n",
    "```"
   ]
  }
 ],
 "metadata": {
  "kernelspec": {
   "display_name": "Python 3",
   "language": "python",
   "name": "python3"
  },
  "language_info": {
   "codemirror_mode": {
    "name": "ipython",
    "version": 3
   },
   "file_extension": ".py",
   "mimetype": "text/x-python",
   "name": "python",
   "nbconvert_exporter": "python",
   "pygments_lexer": "ipython3",
   "version": "3.7.1"
  }
 },
 "nbformat": 4,
 "nbformat_minor": 2
}
