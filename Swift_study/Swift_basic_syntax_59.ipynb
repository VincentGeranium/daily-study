{
 "cells": [
  {
   "cell_type": "markdown",
   "metadata": {},
   "source": [
    "# 구조체와 클래스\n",
    "## 객체지향 스위프트\n",
    "## 구조체와 클래스의 기본 개념"
   ]
  },
  {
   "cell_type": "markdown",
   "metadata": {},
   "source": [
    "### 정의 구문\n",
    "- #### 구조체와 클래스는 정의하는 구문 형식이 매우 비슷하다\n",
    "- #### 구조체는 struct 키워드를 사용하여 정의\n",
    "- #### 클래스는 class 키워드를 사용하여 정의"
   ]
  },
  {
   "cell_type": "markdown",
   "metadata": {},
   "source": [
    "### 둘 다 자신의 타입을 드러내는 키워드 struct/class 다음에 객체의 이름을 선언\n",
    "- #### 이어서 객체의 내용을 정의한다\n",
    "- #### 객체의 내용을 정의하는 부분은 중괄호로 둘러싸 주어야 한다"
   ]
  },
  {
   "cell_type": "markdown",
   "metadata": {},
   "source": [
    "### 구조체의 정의 형식\n",
    "\n",
    "```\n",
    "struct 구조체_이름 {\n",
    "    // 구조체 정의 내용이 들어갈 부분\n",
    "}\n",
    "```"
   ]
  },
  {
   "cell_type": "markdown",
   "metadata": {},
   "source": [
    "### 클래스의 정의 형식\n",
    "\n",
    "```\n",
    "class 클래스_이름 {\n",
    "    // 클래스 정의 내용이 들어갈 부분\n",
    "}\n",
    "```"
   ]
  },
  {
   "cell_type": "markdown",
   "metadata": {},
   "source": [
    "### 실제로 구조체와 클래스를 정의하는 예제\n",
    "- 예제에서 구조체와 클래스 내부에는 들어갈 프로퍼티와 메소드에 대해서 비워두었지만, 실제로는 이 내부에 숱한 구문이 작성된다\n",
    "\n",
    "### 구조체의 정의 예시\n",
    "\n",
    "```\n",
    "struct Resolution {\n",
    "    // 여기에 구조체의 내용이 작성된다\n",
    "}\n",
    "```\n",
    "\n",
    "### 클래스의 정의 예시\n",
    "\n",
    "```\n",
    "class VideoMode {\n",
    "    // 여기에 클래스의 내용이 작성된다\n",
    "}\n",
    "```"
   ]
  },
  {
   "cell_type": "markdown",
   "metadata": {},
   "source": [
    "- #### 객체의 이름을 작성할 때에는 표준 스위프트 객체 코딩 형식에 따라 구조체 이름과 클래스 이름의 첫 글자는 대문지로, 나머지 글자는 소문자로 작성하는 것이 원칙이다\n",
    "- #### 두 개 이상의 복합단어로 이루어지는 경우 단어별로 끊어 첫 글자는 대문자, 나머지 글자는 소문자로 작성하는 것을 반복\n",
    "    - #### 그러나 이미 축약된 약어는 전부 대문자로 작성해도 된다"
   ]
  },
  {
   "cell_type": "markdown",
   "metadata": {},
   "source": [
    "- #### 이런 표기법을 카멜(Camel)표기법 이라고 한다\n",
    "    - 대문자와 소문자들이 배열된 모습이 마치 낙타 등의 혹을 연상시킨다고 하여 부르는 이름이다\n",
    "- #### 스위프트에서 구조체나 클래스, 열거형, 프로토콜 등 객체는 대문자로 시작하는 카멜 표기법을 사용하는 것을 원칙으로 한다\n",
    "- #### 이와는 대조적으로, 객체 내에서 프로퍼티나 메소드를 선언할 때는 소문자로 시작하는 카멜 표기법을 사용한다\n",
    "- #### 전체 소스 코드의 통일성을 위해 될 수 있으면 언더바( _ )로 단어를 연결하는 방식은 사용하지 않는 편이 좋다"
   ]
  },
  {
   "cell_type": "markdown",
   "metadata": {},
   "source": [
    "### 정리\n",
    "- #### 1. 구조체와 클래스 이름의 첫 글자는 대문자로, 나머지 글자는 소문자로 작성한다\n",
    "- #### 2. 2개 이상의 복합 단어는 단어별로 끊어 첫 글자는 대문자로, 나머지는 소문자로 작성한다\n",
    "- #### 3. 이미 축약된 약어는 모두 대문자로 작성 가능하다 (ex. JSON,NS,HTTP등)\n",
    "- #### 4. 프로퍼티나 메소드를 선언할 때는 소문자로 시작한다\n",
    "- #### 5. 언더바로 단어를 연결하는 방식은 지양한다"
   ]
  },
  {
   "cell_type": "markdown",
   "metadata": {},
   "source": [
    "### 구조체와 클래스 명명 규칙에 따른 예\n",
    "\n",
    "```\n",
    "// 첫 글자는 대문자로 시작\n",
    "struct Integer {...}\n",
    "sturct String {...}\n",
    "class Object {...}\n",
    "class Controller {...}\n",
    "\n",
    "// 2단어 이상을 이루어진 복합 단어일 때는 단어마다 대소문자를 번갈아 표기\n",
    "struct SingedInteger {...} // Singed + Integer\n",
    "class ViewController {...} // View + Controller\n",
    "\n",
    "// 약어로 이루어진 부분은 모두 대문자로 표기해도 된다\n",
    "class NSNumber {...} // NS: 파운데이션 프레임 워크를 나타내는 약어 접두어\n",
    "class UIView {...} // UI : UIkit 프레임워크를 나타내는 약어 접두어\n",
    "struct JSONDictionary {...} // JSON은 JavaScript Object Notation을 나타내는 약어\n",
    "```"
   ]
  }
 ],
 "metadata": {
  "kernelspec": {
   "display_name": "Python 3",
   "language": "python",
   "name": "python3"
  },
  "language_info": {
   "codemirror_mode": {
    "name": "ipython",
    "version": 3
   },
   "file_extension": ".py",
   "mimetype": "text/x-python",
   "name": "python",
   "nbconvert_exporter": "python",
   "pygments_lexer": "ipython3",
   "version": "3.7.1"
  }
 },
 "nbformat": 4,
 "nbformat_minor": 2
}
