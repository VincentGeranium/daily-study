{
 "cells": [
  {
   "cell_type": "markdown",
   "metadata": {},
   "source": [
    "# 열거형과 익스텐션(Enumeration and Extensions)\n",
    "## 코드의 한계를 넓혀주는 문법\n",
    "## 열거형(Enumeration)"
   ]
  },
  {
   "cell_type": "markdown",
   "metadata": {},
   "source": [
    "## 열거형의 정의"
   ]
  },
  {
   "cell_type": "markdown",
   "metadata": {},
   "source": [
    "### 스위프트에서 열거형 객체응 정의할 때는 \"enum\" 키워드를 사용한다\n",
    "- #### 정의하고자 하는 객체가 열거형이라는 것을 컴파일러에게 알려주기 위해 가장 먼저 \"enum\" 키워드를 작성\n",
    "- #### 이어서 열거형으로 정의할 객체의 이름을 작성\n",
    "- #### 마지막으로 열거형에 대한 내용을 정의하기 위한 중괄호 블록이 추가된다\n",
    "\n",
    "### 설명한 내용을 문법 형식으로 정리하면 다음과 같다\n",
    "\n",
    "```\n",
    "enum 열거형 이름 {\n",
    "    // 열거형이 멤버 정의\n",
    "    case 멤버값 1\n",
    "    case 멤버값 2\n",
    "    case ...\n",
    "}\n",
    "```"
   ]
  },
  {
   "cell_type": "markdown",
   "metadata": {},
   "source": [
    "### 스위프트에서 열거형을 정의할 때는 구조체나 클래스를 정의할 때 적용하는 규칙을 그대로 적용한다\n",
    "- #### 열거형의 이름은 소문자로 작성하되 첫 글자만 대문자로 작성하는 관례를 따르는 것이다\n",
    "- #### 만약 열거형 이름을 두 단어 이상으로 작성하려면 각 단어의 첫 글자를 대문자로 작성하는 카멜 표기법(CamelCasing)이 적절하다"
   ]
  },
  {
   "cell_type": "markdown",
   "metadata": {},
   "source": [
    "### 열거형 객체가 제공할 값들,\n",
    "- #### 즉, 데이터 멤버는 열거형 정의 맨 마지막에 추가된 중괄호 내부에 소문자를 사용하여 차례차례 작성한다\n",
    "- #### 보통은 각 멤버마다 case 키워드와 함께 정의하지만, 정의할 멤버가 많을 때는 편의상 한꺼번에 정의하는 방식도 지원한다\n",
    "- #### 개별로 멤버를 선언할 때에는 한 줄에 하나씩 case 키워드 다음에 멤버값을 정의한다\n",
    "- #### 한꺼번에 멤버를 선언할 때는 맨 앞에 case 키워드를 한 번만 사용하되 각 멤버를 쉼표를 이용하여 줄 바꿈 없이 나열하면 된다\n",
    "\n",
    "### 다음 예는 north,south,east,west 네 개의 멤버를 가지는 열거형 객체 Direction의 정의를 보여주고 있다\n",
    "\n",
    "```\n",
    "enum Direction {\n",
    "    case north\n",
    "    case souht\n",
    "    case east, west\n",
    "}\n",
    "```"
   ]
  },
  {
   "cell_type": "markdown",
   "metadata": {},
   "source": [
    "- #### Direction 객체에서 north와 south 멤버는 각 줄마다 case 구문과 함께 선언\n",
    "- #### east와 west는 한꺼번에 선언\n",
    "- #### 이같이 한꺼번에 여러 개를 선언하는 것과 한 줄에 하나씩 정의하는 것에는 아무런 차이가 없다\n",
    "- #### 한꺼번에 선언할 수 있는 멤버의 개수에 제한은 없다\n",
    "- #### 단, 한 줄에 너무 많은 개수의 멤버를 과도하게 정의하면 가독성을 해칠 수 있으므로 적절히 나누어 작성하는 것이 좋다"
   ]
  },
  {
   "cell_type": "markdown",
   "metadata": {},
   "source": [
    "### 이렇게 작성된 멤버들은 아래와 같은 형식으로 사용된다\n",
    "\n",
    "```\n",
    "let N = Direction.north\n",
    "let S = Direction.south\n",
    "let E = Direction.east\n",
    "let W = Direction.west\n",
    "```\n",
    "\n",
    "- #### 점(.) 구문을 이용하여 열거형 객체의 이름 뒤에 연결한다\n",
    "- #### 이 값들은 이후 변수나 상수, 또는 함수의 인자값으로 사용된다"
   ]
  }
 ],
 "metadata": {
  "kernelspec": {
   "display_name": "Python 3",
   "language": "python",
   "name": "python3"
  },
  "language_info": {
   "codemirror_mode": {
    "name": "ipython",
    "version": 3
   },
   "file_extension": ".py",
   "mimetype": "text/x-python",
   "name": "python",
   "nbconvert_exporter": "python",
   "pygments_lexer": "ipython3",
   "version": "3.7.1"
  }
 },
 "nbformat": 4,
 "nbformat_minor": 2
}
