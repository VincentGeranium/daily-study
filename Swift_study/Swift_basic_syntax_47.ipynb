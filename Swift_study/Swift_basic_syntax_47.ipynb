{
 "cells": [
  {
   "cell_type": "markdown",
   "metadata": {},
   "source": [
    "# 함수 (Function)\n",
    "## 일급 객체로서의 함수\n",
    "### 일급 함수의 특성"
   ]
  },
  {
   "cell_type": "markdown",
   "metadata": {},
   "source": [
    "### 일급 함수의 특성 1 - 변수나 상수에 함수를 대입할 수 있다"
   ]
  },
  {
   "cell_type": "markdown",
   "metadata": {},
   "source": [
    "### 일급 함수의 특성 중에서 처음으로 알아볼 특성\n",
    "\n",
    "- ### 변수나 상수에 함수를 대입할 수 있다\n",
    "    - #### 변수나 상수에 함수를 대입한다는 것은 말 그대로 함수 자체를 변수에 집어넣는다는 뜻이다\n",
    "        - #### 이렇게 함수가 대입된 상수는 함수처럼 실행할 수도 있고, 인자값을 입력받을 수도 있다\n",
    "        - #### 반환값을 가질 수도 있다"
   ]
  },
  {
   "cell_type": "markdown",
   "metadata": {},
   "source": [
    "### 위 내용의 이해를 돕기 위한 예시\n",
    "```\n",
    "// 정수를 입력받는 함수\n",
    "func foo(base: Int) -> String {\n",
    "    return \"결과값은  \\(base + 1)입니다\"\n",
    "}\n",
    "\n",
    "let fn1 = foo(base: 5)\n",
    "//\"결과값은 6입니다\"\n",
    "```"
   ]
  },
  {
   "cell_type": "markdown",
   "metadata": {},
   "source": [
    "- 예제에서 정의된 foo 함수는 정수를 입력받아 문자열로 반환한다\n",
    "- 마지막 행에서는 이 함수에 5라는 인자값을 넣어 실행하고 그 결과를 상수 fn1에 할당한다\n",
    "    - 이런 구문은 대부분 프로그래밍 언어에서 자연스럽게 사용되고 있다\n",
    "- #### 이 구문은 함수의 결과값을 fn1이라는 상수에 할당하는 단순한 대입 연산에 지니지 않는다"
   ]
  },
  {
   "cell_type": "markdown",
   "metadata": {},
   "source": [
    "### 일급 함수에서 말하는 \"변수나 상수에 함수를 대입한다\"라는 의미는 이것과 다르다\n",
    "\n",
    "- #### 함수의 결과값을 대입하는 것이 아니라 함수 자체를 대입하는 것이다\n",
    "\n",
    "### 함수 자체를 변수에 할당하면 변수도 함수처럼 인자값을 받아 실행이 가능하고, 값을 반환할 수도 있다\n",
    "\n",
    "- ### 함수를 대입한 변수가 함수처럼 실행된다는 것은 함수 호출 형식이 확장됨을 의미한다"
   ]
  },
  {
   "cell_type": "markdown",
   "metadata": {},
   "source": [
    "- #### 함수를 호출할 때 함수의 이름 다음에 함수 호출 연산자를 붙여야 했다\n",
    "    - ### 그러나 일급 함수의 특성에 따라 굳이 함수의 이름이 아니더라도 함수가 할당된 변수라면 그 변수에 함수 호출 연산자 '( )' 를 붙여서 함수를 호출할 수 있다"
   ]
  },
  {
   "cell_type": "markdown",
   "metadata": {},
   "source": [
    "### 위 내용의 이해를 돕기 위한 예시\n",
    "\n",
    "```\n",
    "let fn2 = foo // fn2 상수에 foo 함수가 할당됨\n",
    "fn2(5) // \"결과값은 6입니다\"\n",
    "```"
   ]
  },
  {
   "cell_type": "markdown",
   "metadata": {},
   "source": [
    "- 상수 fn2에 foo 함수를 대입\n",
    "- ### 함수 자체가 대입되었으므로 fn2는 foo와 이름만 다를 뿐 같은 인자값, 같은 기능, 같은 반환값을 가지는 함수가 된다\n",
    "    - ### 따라서 fn2에 함수 호출 연산자인 '( )'와 인자값 5를 넣어 호출할 수도 있고 그 결과값을 받을 수도 있다"
   ]
  },
  {
   "cell_type": "markdown",
   "metadata": {},
   "source": [
    "### 변수나 상수에 함수를 대입할 때에는 함수가 실행되는 것이 아니라 함수라는 객체 자체만 대입된다"
   ]
  },
  {
   "cell_type": "markdown",
   "metadata": {},
   "source": [
    "### 위 내용의 이해를 돕기 위한 예시\n",
    "\n",
    "```\n",
    "func foo(base: Int) -> String {\n",
    "    print(\"함수 foo가 실행됩니다\")\n",
    "    return \"결과값은  \\(base + 1)입니다\"\n",
    "}\n",
    "```"
   ]
  },
  {
   "cell_type": "markdown",
   "metadata": {},
   "source": [
    "- 이 함수가 실행되면 \"함수 foo가 실행된다\" 하는 구문이 출력된다\n",
    "- #### 이 함수의 결과값을 상수에 할당\n",
    "\n",
    "```\n",
    "let fn3 = foo(base: 5)\n",
    "\n",
    "[실행 결과]\n",
    "\"함수 foo가 실행됩니다\"\n",
    "```"
   ]
  },
  {
   "cell_type": "markdown",
   "metadata": {},
   "source": [
    "- #### 함수의 결과값을 fn3에 대입하는 과정에서 함수가 실행되었다\n",
    "    - 함수 내부에 작성해둔 출력 구문이 플레이그라운드의 콘솔에 찍히는 것을 보면 알 수 있다"
   ]
  },
  {
   "cell_type": "markdown",
   "metadata": {},
   "source": [
    "### 하지만 함수 자체를 대입하는 구문은 다르다"
   ]
  },
  {
   "cell_type": "markdown",
   "metadata": {},
   "source": [
    "### 함수 자체를 대입하는 구문 예시\n",
    "\n",
    "```\n",
    "let fn4 = foo // 출력결과 없음\n",
    "\n",
    "fn4(7)\n",
    "\n",
    "[실행 결과]\n",
    "\"함수 foo가 실행됩니다.\"\n",
    "```"
   ]
  },
  {
   "cell_type": "markdown",
   "metadata": {},
   "source": [
    "- #### 상수 fn4에 foo 함수를 대입하는 과정에서는 아무런 값도 출력되지 않는다\n",
    "    - #### foo 함수가 실행되지 않았다는 뜻이다\n",
    "- #### 함수를 할당받은 상수 fn4가 인자값 7을 넣어 함수를 실행하면 그때서야 메세지가 출력된다\n",
    "    - #### 이번에는 foo 함수가 실행되었다는 것을 알 수 있다"
   ]
  },
  {
   "cell_type": "markdown",
   "metadata": {},
   "source": [
    "### 이처럼 단순히 함수를 변수나 상수에 대입하는 과정에서는 함수가 실행되지 않는다\n",
    "- ### 함수 객체 자체만 전달되기 때문이다\n",
    "\n",
    "### 함수가 대입된 변수나 상수를 함수처럼 호출하면 그때 비로소 함수가 실행된다\n",
    "\n",
    "### 이것이 함수 결과값을 대입하는 것과 함수 자체를 대입하는 것의 차이점이라고 할 수 있다"
   ]
  },
  {
   "cell_type": "markdown",
   "metadata": {},
   "source": [
    "- ### 함수를 대입하기 위해 알아야 할 것이 하나 더 있다. 바로 \"타입(Types)\"이다\n",
    "- 변수에 함수를 대입하면 그 변수는 일반적인 문자열, 정수, 배열 또는 딕셔너리와는 전혀 다른 타입이 된다\n",
    "    - ### 이 타입을 \"함수 타입(Function Types)\"라고 한다\n",
    "- #### 함수 타입은 함수의 형태에 따라 셀 수 없을 만큼 많고 다양한 구조를 가진다"
   ]
  },
  {
   "cell_type": "markdown",
   "metadata": {},
   "source": [
    "### 간단하게 생각하면 된다. 변수에 정수를 대입하면 Int 타입이, 문자열을 대입하면 String 타입이 되는 것처럼 \n",
    "### 이처럼 변수에 함수를 대입하면 함수 타입이 되는 것이다"
   ]
  },
  {
   "cell_type": "markdown",
   "metadata": {},
   "source": [
    "### 함수 타입은 일반적으로 함수의 형태를 축약한 형태로 사용\n",
    "- #### 이때 함수의 이름이나 실행 내용 등은 함수 타입에서는 아무런 의미가 없으므로 생략할 수 있다\n",
    "    - #### 함수 타입에서 필요한 것은 단지 어떤 값을 입력받는지와 어떤 값을 반환하는지 뿐이다"
   ]
  },
  {
   "cell_type": "markdown",
   "metadata": {},
   "source": [
    "### 함수 타입의 형식\n",
    "\n",
    "```\n",
    "(인자 타입1, 인자 타입2, ...) -> 반환 타입\n",
    "```"
   ]
  },
  {
   "cell_type": "markdown",
   "metadata": {},
   "source": [
    "- #### 우선 인자 타입을 나열하고 이를 괄호로 에워싼다\n",
    "- #### 반환 타입은 함수의 그것과 동일하게 -> 로 구분하고 이어서 타입을 작성한다\n",
    "- ### 단 아무런 값도 반환하지 않는 함수일 경우, 정의 구문에서는 반환 타입을 생략할 수 있지만 함수 타입에서는 'Void'라고 명시해 주어야 한다"
   ]
  },
  {
   "cell_type": "markdown",
   "metadata": {},
   "source": [
    "### 실제 함수를 정의하고 함수 타입에 대한 예시\n",
    "\n",
    "```\n",
    "func boo(age: Int) -> String {\n",
    "    return \"\\(age)\"\n",
    "}\n",
    "```"
   ]
  },
  {
   "cell_type": "markdown",
   "metadata": {},
   "source": [
    "- 정수 인수를 받고 문자열 타입을 반환하는 boo(age:) 함수이다"
   ]
  },
  {
   "cell_type": "markdown",
   "metadata": {},
   "source": [
    "### 이 함수를 함수 타입 형태로 표현하면 다음과 같다\n",
    "\n",
    "```\n",
    "(Int) -> String\n",
    "```"
   ]
  },
  {
   "cell_type": "markdown",
   "metadata": {},
   "source": [
    "- #### 위에 설명한 것처럼 함수명과 매개변수명, 그리고 실행 내용에 해당하는 부분은 모두 생략된 형태\n",
    "- #### 남아 있는 것은 Int 타입의 인자를 입력받는 것과 그 결과로 String 타입을 반환한다는것 두 가지이다."
   ]
  },
  {
   "cell_type": "markdown",
   "metadata": {},
   "source": [
    "### 만약 이 함수를 상수에 할당한다면 이 상수의 타입 어노테이션을 포함한 할당 구문은 다음과 같다\n",
    "\n",
    "```\n",
    "let fn: (Int) -> String = boo\n",
    "```"
   ]
  },
  {
   "cell_type": "markdown",
   "metadata": {},
   "source": [
    "### 두 개의 인자값을 받는 함수의 타입을 작성\n",
    "\n",
    "```\n",
    "func boo(age: Int, name: String) -> String {\n",
    "    return \"\\(name)의 나이는 \\(age)세 입니다\"\n",
    "}\n",
    "```"
   ]
  },
  {
   "cell_type": "markdown",
   "metadata": {},
   "source": [
    "- age라는 정수 값과 name이라는 문자열 값을 인자값으로 받는 boo 함수가 작성\n",
    "- #### 이 함수를 함수 타입으로 작성하면 다음과 같다\n",
    "\n",
    "```\n",
    "(Int, String) -> String\n",
    "```\n"
   ]
  },
  {
   "cell_type": "markdown",
   "metadata": {},
   "source": [
    "- #### 이 함수를 상수 s에 할당\n",
    "\n",
    "```\n",
    "let s : (Int, String) -> String = boo\n",
    "```"
   ]
  },
  {
   "cell_type": "markdown",
   "metadata": {},
   "source": [
    "- #### 지금 대입 구문에 사용한 boo라는 이름은 정확한 함수 식별자가 아니다\n",
    "    - ### 정확한 식별자는 boo(age:name:)다\n",
    "- #### 그래서 위 구문은 다음과 같이 함수 식별자를 대입해주는 구문으로 바꾸어 작성할 수도 있다\n",
    "\n",
    "```\n",
    "let s: (Int, String) -> String = boo(age:name:)\n",
    "```"
   ]
  },
  {
   "cell_type": "markdown",
   "metadata": {},
   "source": [
    "- #### boo와 boo(age:name:) 두 가지 모두 함수를 대입하는 구문에 사용해도 아무런 문제가 없다\n",
    "- 둘 중에서 정확한 표현을 선택하라면 boo(age:name:)를 선택"
   ]
  },
  {
   "cell_type": "markdown",
   "metadata": {},
   "source": [
    "### boo는 무엇일까??\n",
    "- ### 함수의 이름도 아닌 것이 왜 함수의 대입 구문에 사용해도 아무런 문제가 없는 것일까??"
   ]
  },
  {
   "cell_type": "markdown",
   "metadata": {},
   "source": [
    "- 이를 설명하려면 함수의 이름과 함수의 식별자를 구분하는 이야기를 다시 봐야 한다\n",
    "- #### 인자 레이블까지 포함된 전체 이름을 함수의 식별자라고 부르고 함수의 이름과는 구분한다\n",
    "    - 만약 boo(age:name:)가 함수의 정확한 이름이라면, boo만으로도 함수 대입이 가능한 위의 케이스를 설명할 방법이 없다\n",
    "- #### 이를 설명하기 위해서는 boo는 함수의 이름, boo(age:name:)은 함수의 식별자로 나누어 생각해 주어야 한다\n",
    "    - 함수의 대입 구문을 작성할 때에는 함수의 이름이나 함수의 식별자 어느 것을 사용해도 된다"
   ]
  },
  {
   "cell_type": "markdown",
   "metadata": {},
   "source": [
    "- #### boo - 함수의 이름\n",
    "- #### boo(age:name:) - 함수의 식별자"
   ]
  },
  {
   "cell_type": "markdown",
   "metadata": {},
   "source": [
    "- #### 정확하게는 boo는 매개변수를 제외한 함수의 이름이 boo인 모든 함수를 대변한다 \n",
    "- #### boo(age:name:)은 함수의 이름이 boo이면서 매개변수가 각각 age, name인 함수를 가르킨다"
   ]
  },
  {
   "cell_type": "markdown",
   "metadata": {},
   "source": [
    "### 따라서 함수의 이름은 조금 더 범용적으로 사용할 수 있는 여지가 있지만, 이로 인해 문제를 일으키기도 한다\n",
    "- #### 주로 함수 타입에 대한 타입 어노테이션을 누락하는 경우이다"
   ]
  },
  {
   "cell_type": "markdown",
   "metadata": {},
   "source": [
    "### 위의 내용을 이해하기 위한 예시\n",
    "\n",
    "```\n",
    "func boo(age: Int) -> String {\n",
    "    return \"\\(age)\"\n",
    "}\n",
    "\n",
    "func boo(age: Int, name: String) -> String {\n",
    "    return \"\\(name)의 나이는 \\(age)세 입니다\"\n",
    "}\n",
    "\n",
    "let t = boo // (x)\n",
    "```"
   ]
  },
  {
   "cell_type": "markdown",
   "metadata": {},
   "source": [
    "- 두 함수를 같은 자리에 정의하고 t 상수에 boo 함수를 대입\n",
    "\n",
    "### 그러면 이때의 boo 함수는 위쪽일까, 아래쪽일까??"
   ]
  },
  {
   "cell_type": "markdown",
   "metadata": {},
   "source": [
    "- #### 두 함수 모두 함수의 이름은 boo이지만, 뒤의 매개변수 차이 때문에 서로 다른 식별값을 가진다\n",
    "- #### 따라서 boo로 대입하려면 둘 중 어느 함수를 가리키는 것인지 정확하게 판단할 수 없으므로 오류가 발생한다"
   ]
  },
  {
   "cell_type": "markdown",
   "metadata": {},
   "source": [
    "### 이 오류를 방지하기 위해서는 대입 구문을 다음 두 가지 중 하나의 형태로 바꾸어 주어야 한다"
   ]
  },
  {
   "cell_type": "markdown",
   "metadata": {},
   "source": [
    "### 해결 방법 1) 타입 어노테이션을 통해 입력받을 함수의 타입을 지정\n",
    "\n",
    "```\n",
    "let t1: (Int, String) -> String = boo\n",
    "```\n",
    "\n",
    "### 해결 방법 2) 함수의 식별값을 통해 입력받을 정확한 함수를 지정\n",
    "\n",
    "```\n",
    "let t2 = boo(age:name:)\n",
    "```"
   ]
  },
  {
   "cell_type": "markdown",
   "metadata": {},
   "source": [
    "- #### 타입 어노테이션을 사용하는 경우에는 입력받을 값의 타입이 명확하기 때문에, boo가 가리키는 함수가 다소 불확실하더라도 컴파일러가 찾아서 대입할 수 있다\n",
    "- #### 식별값을 통해 지정하는 경우도 정확한 함수를 찾아 대입할 수 있기 때문에 문제가 되지 않는다"
   ]
  },
  {
   "cell_type": "markdown",
   "metadata": {},
   "source": [
    "### 다음과 같은 타입 어노테이션을 적절히 사용하면, 같은 함수 이름을 사용하여 대입하더라도 서로 다른 결과를 가져오기도 한다\n",
    "\n",
    "```\n",
    "let fn01: (Int) -> String = boo // boo(age:)\n",
    "let fn02: (Int, String) -> String = boo // boo(age:name:)\n",
    "```"
   ]
  },
  {
   "cell_type": "markdown",
   "metadata": {},
   "source": [
    "- 두 상수 fn01, fn02는 모두 boo라는 함수 이름으로 함수를 할당받고 있다\n",
    "- #### 하지만, 타입 어노테이션의 차이로 인해, 각각 다른 함수가 대입된다"
   ]
  },
  {
   "cell_type": "markdown",
   "metadata": {},
   "source": [
    "- #### 먼저 fn01에 대입된 함수는 boo(age:)이다\n",
    "    - ### 타입 어노테이션이 가리키는 형식이 인자값이 하나인 함수이기 때문이다\n",
    "- #### 반면에 fn02에 대입된 함수는 boo(age:name:)이다\n",
    "    - ### 타입 어노테이션이 Int,String 두 개의 인자값을 가진 함수를 가리키고 있기 때문이다"
   ]
  },
  {
   "cell_type": "markdown",
   "metadata": {},
   "source": [
    "### 이처럼 동일한 함수 이름을 사용하여 대입하더라도 타입 어노테이션에 의해 대입되는 함수가 달라지기도 하므로 주의해야 한다"
   ]
  },
  {
   "cell_type": "markdown",
   "metadata": {},
   "source": [
    "### 타입 어노테이션과 함수 이름의 조합으로 대입 구문을 구성하면 안되는 경우도 있다\n",
    "- #### 동일한 함수 타입을 사용하지만 매개벼수명이 서로 다른 함수의 경우가 이에 해당한다\n",
    "\n",
    "```\n",
    "func boo(age: Int, name: String) -> String {\n",
    "    return \"\\(name)의 나이는 \\(age)세 입니다\"\n",
    "}\n",
    "\n",
    "func boo(height: Int, nick: String) -> String {\n",
    "    return \"\\(nick)의 키는 \\(height)입니다\"\n",
    "}\n",
    "```"
   ]
  },
  {
   "cell_type": "markdown",
   "metadata": {},
   "source": [
    "```\n",
    "let fn03: (Int, String) -> String = boo\n",
    "let fn04: (Int, String) -> String = boo\n",
    "```"
   ]
  },
  {
   "cell_type": "markdown",
   "metadata": {},
   "source": [
    "- #### 정의된 두 개의 함수는 각각 boo(age:name:)과 boo(height:nick:)이다\n",
    "- #### 매개변수를 포함한 식별자명은 다르지만 함수의 이름은 boo로 동일하다\n",
    "- #### 인자값과 반환값에 따른 함수 타입 또한 (Int, String) -> String 으로 동일하다\n",
    "\n",
    "### 따라서 fn03,fn04에 대입하는 함수는 타입 어노테이션만으로 함수를 특정하기가 어렵다"
   ]
  },
  {
   "cell_type": "markdown",
   "metadata": {},
   "source": [
    "### 이같은 부정확성에 따라 컴파일러는 오류를 발생시킨다\n",
    "\n",
    "- #### 오류 없이 이같은 상황을 피하려면, 함수의 이름이 아니라 함수의 식별자를 사용해서 다음과 같이 정확하게 구분해 주어야 한다\n",
    "\n",
    "```\n",
    "let fn03: (Int, String) -> String = boo(age:name:)\n",
    "let fn04: (Int, String) -> String = boo(height:nick:)\n",
    "```"
   ]
  },
  {
   "cell_type": "markdown",
   "metadata": {},
   "source": [
    "### 함수의 식별자를 이용하는 경우 정확한 함수 지정이 가능하므로 굳이 타입 어노테이션을 붙일 필요는 없다\n",
    "- 따라서 타입 어노테이션을 생략하고 보다 간결하게 작성할 수도 있다\n",
    "\n",
    "```\n",
    "let fn03 = boo(age:name:)\n",
    "let fn04 = boo(height:nick:)\n",
    "```"
   ]
  },
  {
   "cell_type": "markdown",
   "metadata": {},
   "source": [
    "### 몇 가지 특별한 형태의 함수 타입에 대해 살펴보자\n",
    "\n",
    "- #### 튜플을 반환값으로 반환하는 함수의 타입, 반환 타입을 단순히 튜플 형태로 변경만 해주면 된다\n",
    "\n",
    "```\n",
    "func foo(age: Int, name: String) -> (String, Int) {\n",
    "    return (name, age)\n",
    "}\n",
    "```"
   ]
  },
  {
   "cell_type": "markdown",
   "metadata": {},
   "source": [
    "- #### 함수 타입\n",
    "\n",
    "```\n",
    "(Int, String) -> (String, Int)\n",
    "```"
   ]
  },
  {
   "cell_type": "markdown",
   "metadata": {},
   "source": [
    "### 인자값이 없거나 반환값이 없는 함수의 타입은 다음과 같이 빈 괄호를 사용하여 표현한다\n",
    "\n",
    "- #### 인자값이 없는 경우\n",
    "\n",
    "```\n",
    "func foo() -> String {\n",
    "    return \"Empty Values\"\n",
    "}\n",
    "```"
   ]
  },
  {
   "cell_type": "markdown",
   "metadata": {},
   "source": [
    "- #### 인자값이 없는 경우의 함수 타입\n",
    "\n",
    "```\n",
    "() -> String\n",
    "```\n",
    "\n",
    "- #### 반환값이 없는 경우\n",
    "\n",
    "```\n",
    "func boo(base: Int) {\n",
    "    print (\"param = \\(base)\")\n",
    "}\n",
    "```\n",
    "\n",
    "- #### 반환값이 없는 경우의 함수 타입\n",
    "\n",
    "```\n",
    "(Int) -> ()\n",
    "```\n",
    "\n",
    "- #### 인자값, 반환값 모두 없는 경우\n",
    "\n",
    "```\n",
    "func too() {\n",
    "    print (\"empty values\")\n",
    "}\n",
    "```\n",
    "\n",
    "- #### 인자값, 반환값 모두 없는 경우의 함수 타입\n",
    "\n",
    "```\n",
    "() -> ()\n",
    "```"
   ]
  },
  {
   "cell_type": "markdown",
   "metadata": {},
   "source": [
    "### 함수 타입을 표시할 때 반환값이 없는 경우에는 빈 괄호 대신 'Void'를 사용하여 명시적으로 \"값이 없음\"을 표시하기도 한다\n",
    "- #### Void는 빈 튜플을 나타내는 값으로, 타입 알리어스로 정의된 단어이다\n",
    "- #### 클래스나 구조체 등의 객체가 아닌 키워드임에 주의해야 한다\n",
    "\n",
    "```\n",
    "public typealias Void = ()\n",
    "```"
   ]
  },
  {
   "cell_type": "markdown",
   "metadata": {},
   "source": [
    "- 위 코드가 Void 키워드를 선언하는 스위프트 내부 코드이다\n",
    "- #### typealias 키워드와 함께 선언된 Void에 빈 튜플을 의미하는 \"( )\"이 대입되어 있다\n",
    "- #### 이렇게 선언된 키워드 Void는 빈 괄호를 대신하여 사용할 수 있다"
   ]
  },
  {
   "cell_type": "markdown",
   "metadata": {},
   "source": [
    "### Void를 적용해보면 함수 타입은 다음과 같이 표현된다\n",
    "\n",
    "```\n",
    "Int -> () // (Int) -> Void\n",
    "() -> () // () -> Void\n",
    "```"
   ]
  },
  {
   "cell_type": "markdown",
   "metadata": {},
   "source": [
    "- #### Void 키워드는 본래 빈 인자값의 표현에도 사용할 수 있었으나, 4.0 버전부터는 반환 타입에만 사용할 수 있도록 제한되었다\n",
    "- #### 따라서 위의 두 번째 예제세서 인자 타입 ( )은 그대로 ( )로 사용되고 있다\n",
    "- #### 또한 Void 키워드의 첫 글자는 대문자이다. 스위프트에서는 대소문자를 구분하므로 void라고 작성하면 오류이다"
   ]
  }
 ],
 "metadata": {
  "kernelspec": {
   "display_name": "Python 3",
   "language": "python",
   "name": "python3"
  },
  "language_info": {
   "codemirror_mode": {
    "name": "ipython",
    "version": 3
   },
   "file_extension": ".py",
   "mimetype": "text/x-python",
   "name": "python",
   "nbconvert_exporter": "python",
   "pygments_lexer": "ipython3",
   "version": "3.7.1"
  }
 },
 "nbformat": 4,
 "nbformat_minor": 2
}
