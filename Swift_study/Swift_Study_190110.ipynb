{
 "cells": [
  {
   "cell_type": "markdown",
   "metadata": {},
   "source": [
    "## 복습 중 까먹은 것 다시 정리"
   ]
  },
  {
   "cell_type": "markdown",
   "metadata": {},
   "source": [
    "## guard"
   ]
  },
  {
   "cell_type": "markdown",
   "metadata": {},
   "source": [
    "- #### 함수의 시작부분에 써서 반드시 가져가야할 조건들을 검사하는 파트\n",
    "- #### if문의 subject 개념\n",
    "    - #### 그러므로 if문으로 완벽하게 대체 가능함"
   ]
  },
  {
   "cell_type": "markdown",
   "metadata": {},
   "source": [
    "#### if문으로 완벽하게 대체 가능함에도 불구하고 guard를 사용하는 이유??\n",
    "\n",
    "- #### 가독성\n",
    "    - #### 함수 진입점에 if를 나열하는 것 보다 guard로 꼭 필요한 조건들을 걸러내면 함수를 분석하는 사람입장에서도 더 이해하기가 쉬울것이다"
   ]
  },
  {
   "cell_type": "markdown",
   "metadata": {},
   "source": [
    "## 예제\n",
    "### 음수를 받으면 안되는 함수\n",
    "### if 문\n",
    "\n",
    "```\n",
    "func elapsedTime(A:Int, B:Int)throws -> Int {\n",
    "    if A < 0 || B < 0 {\n",
    "        throws someError\n",
    "    }\n",
    "    let dt = B - A\n",
    "    return dt\n",
    "}\n",
    "```\n",
    "\n",
    "### guard 문\n",
    "\n",
    "```\n",
    "func elapsedTime(A:Int, B:Int)throws -> Int {\n",
    "    guard A >= 0 && B >= 0 else {\n",
    "        throw someError\n",
    "    }\n",
    "    \n",
    "    let dt = B - A\n",
    "    return dt\n",
    "}\n",
    "```"
   ]
  },
  {
   "cell_type": "markdown",
   "metadata": {},
   "source": [
    "### guard문의 기본 형식\n",
    "\n",
    "``` \n",
    "guard 조건 else {조건이 false인 경우 수행되는 구문}\n",
    "```\n",
    "\n",
    "- #### 조건이 true 이면 guard 문은 그냥 지나가고, false이면 else 구문을 수행한 뒤 함수를 종료\n",
    "- #### 이때, 암묵적인 종료가 아니라 명시적인 종료이므로 return 이나 throw등 종료하는 명령이 존재해야하며, 없으면 컴파일러 에러가 난다\n",
    "- #### 함수만 빠져나가는게 아니라 프로그램을 끝내버린다는 차이만 빼면 assert와 비슷하다"
   ]
  },
  {
   "cell_type": "markdown",
   "metadata": {},
   "source": [
    "### 함수의 정의\n",
    "\n",
    "```\n",
    "func funcExample(name: String, age: Int) -> String {\n",
    "    var string = \"\"\n",
    "    string += \"Hello \\(name) !\"\n",
    "    \n",
    "    return string\n",
    "}\n",
    "```\n",
    "\n",
    "### 함수의 호출\n",
    "\n",
    "```\n",
    "funcExample(name:\"Jun\" , age: 23)\n",
    "```\n",
    "\n",
    "- #### 일반적인 함수 호출"
   ]
  },
  {
   "cell_type": "markdown",
   "metadata": {},
   "source": [
    "### 함수의 정의 2\n",
    "\n",
    "```\n",
    "func funcExample(_ name: String, age: Int) -> String {\n",
    "    var string = \"\"\n",
    "    string += \"Hello \\(name) !\"\n",
    "    \n",
    "    return string\n",
    "}\n",
    "```\n",
    "\n",
    "### 함수의 호출 2\n",
    "\n",
    "```\n",
    "funcExample(\"Jun\", age: 23)\n",
    "```\n",
    "\n",
    "- #### 파라미터 이름을 (_) 언더바로 지정하면 함수 호출시 이름을 생략할 수 있다"
   ]
  },
  {
   "cell_type": "markdown",
   "metadata": {},
   "source": [
    "### 조건문\n",
    "### switch 구문\n",
    "- #### switch 구문은 if와 guard처럼 분기문의 일종\n",
    "    - #### 처리 방식은 if, guard와 다르다"
   ]
  },
  {
   "cell_type": "markdown",
   "metadata": {},
   "source": [
    "### switch 구문은  \"입력받은 값\"을 조건식 여부가 아니라 \"패턴으로 비교\"하고 그 결과를 바탕으로 실행 블록을 결정하는 조건문"
   ]
  },
  {
   "cell_type": "markdown",
   "metadata": {},
   "source": [
    "- switch 구문을 굳이 사용하지 않고 if ~ else if구문만으로도 필요한 코드 작성 가능\n",
    "- #### 그러나 다양한 가능성이 있는 여러 개의 조건 비교에 효율적으로 대응하기에는 부족한 if구문\n",
    "### Switch 구문이 그 대안이다"
   ]
  },
  {
   "cell_type": "markdown",
   "metadata": {},
   "source": [
    "### Switch 구문의 형태\n",
    "\n",
    "```\n",
    "switch <비교 대상> {\n",
    "    case <비교 패턴1> :\n",
    "        <비교 패턴1이 일치했을 때 실행할 구문>\n",
    "    case <비교 패턴2>, <비교 패턴3> :\n",
    "        <비교 패턴2 또는 3이 일치했을 때 실행할 구문>\n",
    "    default : \n",
    "        <어느 비교 패턴과도 일치하지 않았을 때 실행할 구문>\n",
    "}\n",
    "```"
   ]
  },
  {
   "cell_type": "markdown",
   "metadata": {},
   "source": [
    "- #### 모든 switch 구문은 case 키워드로 시작하는 여러 가능한 패턴을 나열하는 방식으로 구성\n",
    "- #### 비교 대상과 비교 패턴이 일치할 경우 그에 해당하는 구문이 실행된 후 나머지 case에 대한 비교 없이 switch 구문을 종료\n",
    "- #### 비교 패턴의 어느 것과도 일치하지 않았다면, 맨 마지막에 작성된 default 구문의 코드가 실행"
   ]
  },
  {
   "cell_type": "markdown",
   "metadata": {},
   "source": [
    "### 예시\n",
    "\n",
    "```\n",
    "01: let val = 2\n",
    "02:\n",
    "03: switch val {\n",
    "04:     case 1 :\n",
    "05:         print(\"일치한 값은 1 입니다\")\n",
    "06:     case 2 :\n",
    "07:         print(\"일치한 값은 2 입니다\")\n",
    "08:     case 2 : \n",
    "09:        print(\"일치한 값 2가 더 있습니다\")\n",
    "10:    default : \n",
    "11:         print(\"어느 패턴과도 일치하지 않았습니다\")\n",
    "12: }\n",
    "    \n",
    "[실행 결과]\n",
    "일치한 값은 2입니다.\n",
    "```"
   ]
  },
  {
   "cell_type": "markdown",
   "metadata": {},
   "source": [
    "- #### 위 코드를 실행하면 val 변수에 2를 할당하므로 이 값과 일치하는 패턴이 있는지 case 블록마다 비교한다\n",
    "- #### 6행의 case 2가 val 변수와 일치하는 패턴이므로 여기서 연결된 코드 블록이 실행된다\n",
    "    - #### 일치한 값은 2 입니다 출력\n",
    "- #### 8행에 작성한 case 2 역시 일피하는 패턴\n",
    "    - #### 하지만 이 부분은 실행되지 않은 채로 조건문이 종료\n",
    "- ### 일치하는 비교 패턴 하나만 실행한 다음 종료하는 스위프트의 switch 구문의 특성"
   ]
  }
 ],
 "metadata": {
  "kernelspec": {
   "display_name": "Python 3",
   "language": "python",
   "name": "python3"
  },
  "language_info": {
   "codemirror_mode": {
    "name": "ipython",
    "version": 3
   },
   "file_extension": ".py",
   "mimetype": "text/x-python",
   "name": "python",
   "nbconvert_exporter": "python",
   "pygments_lexer": "ipython3",
   "version": "3.7.1"
  }
 },
 "nbformat": 4,
 "nbformat_minor": 2
}
