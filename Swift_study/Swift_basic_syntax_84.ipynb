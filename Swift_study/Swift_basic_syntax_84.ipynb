{
 "cells": [
  {
   "cell_type": "markdown",
   "metadata": {},
   "source": [
    "# 구조체와 클래스\n",
    "## 객체지향 스위프트\n",
    "## 초기화 구문(Initializer syntax)"
   ]
  },
  {
   "cell_type": "markdown",
   "metadata": {},
   "source": [
    "## init 초기화 메소드"
   ]
  },
  {
   "cell_type": "markdown",
   "metadata": {},
   "source": [
    "### 우선 초기화 메소드의 형식을 알아보자\n",
    "\n",
    "```\n",
    "init(<매개변수> : 타입, <매개변수> : <타입>, ...) {\n",
    "    1.매개변수의 초기화\n",
    "    2.인스턴스 생성 시 기타 처리할 내용\n",
    "}\n",
    "```"
   ]
  },
  {
   "cell_type": "markdown",
   "metadata": {},
   "source": [
    "### 그냥 보기에도 일반 메소드와 매우 비슷하다. 그래서 초기화 구문 대신에 초기화 메소드라는 용어를 사용하기도 한다\n",
    "### 스위프트에서 초기화 메소드는 다소 특수한 메소드의 일종이기 때문에, 몇 가지 특성을 가진다\n",
    "### 대표적인 특성으로 다음과 같은 것들이 있다\n",
    "- #### 1. 초기화 메소드의 이름은 init으로 통일된다\n",
    "    - #### 모든 초기화 메소드의 이름은 반드시 init이어야 한다. 만일 다른 이름이 사용되거나 대소문자가 바뀌면 컴파일러가 초기화 메소드로 인식하지 못한다\n",
    "- #### 2. 매개변수의 개수, 이름, 타입은 임의로 정의할 수 있다\n",
    "    - #### 메소드의 이름을 init으로 지정했다면 나머지 매개변수의 이름과 타입, 개수는 임의로 정의할 수 있다\n",
    "    - #### 단, 메소드에 정의된 매겨변수의 순서와 형식에 따라 인스턴스 생성과정에서 넣어야 하는 인자값의 순서와 형식이 결정된다\n",
    "- #### 3. 매개변수의 이름과 개수, 타입이 서로 다른 여러 개의 초기화 메소드를 정의할 수 있다\n",
    "    - #### 초기화 메소드의 이름은 모두 init으로 통일되어야 하지만, 이 역시 메소드의 일종이므로 오버로딩할 수 있다\n",
    "    - #### 오버로딩된 메소드는 스위프트에서 서로 다른 메소드로 간주되기 때문에, 이 같은 특성을 이용한다면 다양한 형식을 갖는 초기화 메소드를 정의할 수 있다\n",
    "- #### 4. 정의된 초기화 메소드는 직접 호출되기도 하지만, 대부분 인스턴스 생성 시 간접적으로 호출된다.\n",
    "    - #### 우리가 정의한 메소드는 어쨌거나 메소드이므로 다른 일반 메소드처럼 직접 호출할 수 있다\n",
    "    - #### 하지만 대부분은 인스턴스 생성 구문을 통해 간접적으로 호출된다\n",
    "    - #### 초기화 구문이 여러 개 정의되어 있을 경우, 인스턴스 생성 구문과 매개변수 형식이 일치하는 초기화 메소드가 호출된다\n",
    "    - #### 만약 인스턴스 생성 구문의 형식과 일치하는 초기화 메소드가 정의되지 않았다면, 오류가 발생한다"
   ]
  },
  {
   "cell_type": "markdown",
   "metadata": {},
   "source": [
    "### 이외의 부분에서 초기화 메소드는 일반 메소드의 특성을 다수 따르는데, 우선 매개변수는 인스턴스 생성 시 인자 레이블로 사용된다\n",
    "- #### 또한 인자 레이블을 지정할 수 있을 뿐만 아니라 언더바를 이용해서 생략할 수도 있다\n",
    "    - #### 일반 메소드와 동일한 문법이다"
   ]
  },
  {
   "cell_type": "markdown",
   "metadata": {},
   "source": [
    "### 다음 예를 보면서 구조체와 클래스에서 초기화 메소드가 어떻게 정의되며, 정의된 초기화 메소드는 어떤 식으로 호출되는지 알아보자\n",
    "\n",
    "```\n",
    "struct Resolution {\n",
    "    var width = 0\n",
    "    var height = 0\n",
    "    \n",
    "    // 초기화 메소드 : Width를 인자값으로 받음\n",
    "    init(width: Int) {\n",
    "        self.width = width\n",
    "    }\n",
    "}\n",
    "\n",
    "class VideoMode {\n",
    "    \n",
    "    var resolution = Resolution(width: 2048)\n",
    "    var interlaced = false\n",
    "    var frameRate = 0.0\n",
    "    var name: String?\n",
    "    \n",
    "    // 초기화 메소드 : interlaced, frameRate 두 개의 인자값을 받음\n",
    "    init(interlaced: Bool, frameRate: Double) {\n",
    "        self.interlaced = interlaced\n",
    "        self.frameRate = frameRate\n",
    "    }\n",
    "}\n",
    "```"
   ]
  },
  {
   "cell_type": "markdown",
   "metadata": {},
   "source": [
    "- #### Resolution 구조체에 정의된 저장 프로퍼티는 모두 두 개이지만, 이 중 일부인 width 프로퍼티의 초기값만 입력받는 형태의 초기화 메소드가 정의되었다\n",
    "- #### VideoMode 클래스도 마찬가지이다. \n",
    "    - #### 정의된 네 개의 저장 프로퍼티 중에서 Bool 타입의 interlaced 매개변수와 Double 타입의 frameRate 매개변수만 동시에 입력받는 초기화 메소드가 정의되었다"
   ]
  },
  {
   "cell_type": "markdown",
   "metadata": {},
   "source": [
    "### 이제 각각의 인스턴스를 생성해 보자\n",
    "\n",
    "```\n",
    "// Resolution 구조체에 대한 인스턴스를 생성\n",
    "let resolution = Resolution.init(width: 4096)\n",
    "\n",
    "// VideoMode 클래스에 대한 인스턴스를 생성\n",
    "let videoMode = VideoMode.init(interlaced: true, frameRate: 40.0)\n",
    "```"
   ]
  },
  {
   "cell_type": "markdown",
   "metadata": {},
   "source": [
    "### 구조체나 클래스의 인스턴스 생성할 때에는 init 메소드를 호출해 주는 것이 원칙이다\n",
    "- #### 따라서 위 구문을 실행하면 Resolution과 VideoMode의 인스턴스가 생성된다"
   ]
  },
  {
   "cell_type": "markdown",
   "metadata": {},
   "source": [
    "### 한편, 호출 시 init 메소드는 생략할 수 있다\n",
    "- #### 익히 알고 있는 인스턴스 생성 구문은 init 메소드가 생략된 형태이다\n",
    "\n",
    "### 예제에서 메소드명을 생략하고 호출해 보자\n",
    "\n",
    "```\n",
    "// Resolution 구조체에 대한 인스턴스를 생성\n",
    "let resolution = Resolution(width: 4096)\n",
    "\n",
    "// VideoMode 클래스에 대한 인스턴스를 생성\n",
    "let videoMode = VideoMode(interlaced: true, frameRate: 40.0)\n",
    "```"
   ]
  },
  {
   "cell_type": "markdown",
   "metadata": {},
   "source": [
    "### 초기화 메소드 부분을 생략하고 났더니 익숙한 형태가 만들어졌다\n",
    "- #### 지금까지 우리가 인스턴스를 생성할 때 사용하던 구문이다\n",
    "- #### 하지만 내부적으로는 여전히 초기화 메소드를 호출하고 있으므로, 초기화 메소드 내에 작성된 구문도 동일하게 실행된다"
   ]
  },
  {
   "cell_type": "markdown",
   "metadata": {},
   "source": [
    "### 결국 인스턴스 생성 구문은 단지 생략되어 있을 뿐 init 초기화 메소드를 호출하는 것이기 때문에, 초기화 메소드에 정의된 매개변수 및 인자값 타입과 일치하는 형식으로만 사용할 수 있다\n",
    "- #### Resolution 구조체의 초기화 메소드에는 width 매개변수가 정의되어 있으므로 인스턴스를 생성할 때에도 width 매개변수의 인자값을 넣어주어야 한다\n",
    "- #### VideoMode 클래스의 초기화 메소드는 두 개의 매개변수를 가지고 있으므로 인스턴스 생성 시에도 두 개의 인자값을 넣어 주어야 하는 것이다"
   ]
  },
  {
   "cell_type": "markdown",
   "metadata": {},
   "source": [
    "### 위 예제에서는 각각 하나의 초기화 메소드만을 정의했지만, 저장 프로퍼티가 다수인 클래스에서는 다양한 초기화 메소드가 필요할 때도 있다\n",
    "- #### 이런 경우 매개변수의 개수와 타입, 이름이 서로 다른 여거 개의 init 메소드를 정의하여 사용한다"
   ]
  },
  {
   "cell_type": "markdown",
   "metadata": {},
   "source": [
    "### 아래 예제는 init 초기화 메소드의 오버로딩과 그에 대한 사용예를 보여주고 있다\n",
    "\n",
    "```\n",
    "class VideoMode {\n",
    "    var resolution = Resolution(width: 4096)\n",
    "    var interlaced = fasle\n",
    "    var frameRate = 0.0\n",
    "    var name = String?\n",
    "    \n",
    "    // 초기화될 때 name 인자값만 받는 init 구문\n",
    "    init(name: String) {\n",
    "        self.name = name\n",
    "    }\n",
    "    // 초기화 될 때 interlaced 인자값만 받는 init 구문\n",
    "    init(interlaced: Bool) {\n",
    "        self.interlaced = interlaced\n",
    "    }\n",
    "    // 초기화 될 때 interlaced, frameRate 두 개의 인자값을 받는 init 구문\n",
    "    init(interlaced: Bool, frameRate: Double) {\n",
    "        self.interlaced = interlaced\n",
    "        self.frameRate = frameRate\n",
    "    }\n",
    "    // 초기화 될 때 interlaced, frameRate, name 세 개의 인자값을 받는 init 구문\n",
    "    init(interlaced: Bool, frameRate: Double, name: String) {\n",
    "        self.interlaced = interlaced\n",
    "        self.frameRate = frameRate\n",
    "        self.name = name\n",
    "    }\n",
    "}\n",
    "\n",
    "// VideoMode 클래스에 대한 인스턴스를 생성하고 상수에 할당\n",
    "let nameVideoMode = VideoMode(name: \"홍길동\")\n",
    "let simpleVideoMode = VideoMode(interlaced: true)\n",
    "let doubleVideoMode = VideoMpde(interlaced: true, frameRate: 40.0)\n",
    "let tripleVideoMode = VideoMode(interlaced: true, frameRate: 40.0, name: \"홍길동\")\n",
    "```"
   ]
  },
  {
   "cell_type": "markdown",
   "metadata": {},
   "source": [
    "### 객체의 인스턴스에 대해 처음 학습할 때 기본 초기화 구문을 사용할 수 있었던 것을 기억 할 것이다\n",
    "- #### 모든 저장 프로퍼티가 초기화되어 있을 때, 구조체와 클래스는 빈 인자값 형식의 초기화 구문을 제공한다\n",
    "- #### 하지만 init 메소드가 작성되고 나면, 작성된 init 메소드가 어떤 인자값 형식을 갖는가에 상관없이 그 객체의 기본 초기화 구문은 더는 제공되지 않는다\n",
    "\n",
    "### 아래 예제를 보자\n",
    "\n",
    "```\n",
    "class VideoMode {\n",
    "    \n",
    "    var resolution = Resolution(width: 4096)\n",
    "    var interlaced = false\n",
    "    var frameRate = 0.0\n",
    "    var name: String?\n",
    "    \n",
    "    // 초기화될 때 name 인자값만 받는 init 구문\n",
    "    init(name: String) {\n",
    "        self.name = name\n",
    "    }\n",
    "}\n",
    "\n",
    "// VideoMode 클래스에 대한 인스턴스를 생성하고 상수에 할당\n",
    "let defaultVideoMode = VideoMode() // ERROR!\n",
    "let nameVideoMode = VideoMode(name: \"홍길동\") // (O)\n",
    "```"
   ]
  },
  {
   "cell_type": "markdown",
   "metadata": {},
   "source": [
    "### init 메소드를 추가한 후, 예전처럼 기본 초기화 구문을 이용해서 객체를 생성하려고 하면 오류가 발생한다. \n",
    "- #### 더이상 이 구문을 제공하지 않는다는 뜻이다"
   ]
  },
  {
   "cell_type": "markdown",
   "metadata": {},
   "source": [
    "### 기본 초기화 구문은 말하자면 수입이 없는 기초 생활 수급자에게 제공되는 생계 급여같은 것이다\n",
    "- #### 클래스를 정의했다면 이 클래스를 사용하기 위해 인스턴스를 생성해야 하는데, 초기화 메소드가 없을 경우 인스턴스를 생성할 수 없다\n",
    "- #### 그래서 국가에서 생계 급여를 제공하듯 기본 초기화 구문을 제공하는 것이다"
   ]
  },
  {
   "cell_type": "markdown",
   "metadata": {},
   "source": [
    "### 생계 급여가 결코 넉넉한 편이 아니듯이, 기본 초기화 구문 역시 다양하게 많은 기능을 하지는 않는다\n",
    "- #### 단순히 인스턴스를 생성할 수 있도록 해 줄 뿐이다"
   ]
  },
  {
   "cell_type": "markdown",
   "metadata": {},
   "source": [
    "### 그나마도 개인에게 수입이 생기면 더이상 생계 급여가 지급되지 않는 것처럼, init 메소드를 정의하고 나면 더이상 기본 초기화 구문도 제공되지 않는다\n",
    "- #### init 메소드를 정의했으니 앞으로는 그걸로 인스턴스를 생성하라는 것이다\n",
    "\n",
    "### 따라서 예전처럼 기본 초기화 구문을 사용하려면 직접 init() 메소드를 정의해 주어야 한다\n",
    "\n",
    "```\n",
    "class VideoMode {\n",
    "    \n",
    "    var resolution = Resolution(width: 4096)\n",
    "    var interlaced = false\n",
    "    var frameRate = 0.0\n",
    "    var name: String?\n",
    "    \n",
    "    // 기본 초기화 구문\n",
    "    init() {\n",
    "    }\n",
    "    \n",
    "    // 초기화될 때 name 인자값을 받는 init 구문\n",
    "    init(name: String) {\n",
    "        self.name = name\n",
    "    }\n",
    "}\n",
    "\n",
    "// VideoMode 클래스에 대한 인스턴스를 생성하고 상수에 할당\n",
    "let defaultVideoMode = VideoMode() //(O)\n",
    "let nameVideoMode = VideoMode(name: \"홍길동\") //(O)\n",
    "```"
   ]
  },
  {
   "cell_type": "markdown",
   "metadata": {},
   "source": [
    "### 그런데 init 역시 메소드이므로, 매개변수에 기본값을 지정할 수 있다.\n",
    "- #### 기본값이 지정된 메소드에서는 인자값을 생략할 수 있으며, 이때 생략된 인자값 대신 기본값이 인자값으로 사용된다\n",
    "- #### 이 특성을 이용하여 init 메소드를 정의하면 자동으로 기본 초기화 메소드를 정의할 수 있다\n",
    "\n",
    "### 아래는 실제로 클래스를 작성할 때 쓰는 방법\n",
    "\n",
    "```\n",
    "class VideoMode {\n",
    "    \n",
    "    var name: String?\n",
    "    \n",
    "    // 초기화될 때 name 인자값을 받는 init 구문\n",
    "    init(name: String = \"\") {\n",
    "        self.name = name\n",
    "    }\n",
    "}\n",
    "\n",
    "// VideoMode 클래스에 대한 인스턴스를 생성하고 상수에 할당\n",
    "let defaultVideoMode = VideoMode() // (O)\n",
    "let nameVideoMode = VideoMode(name: \"홍길동\") // (O)\n",
    "```\n",
    "\n",
    "- #### 위와 같이 인자값이 있는 init 메소드에서 매개변수에 기본값을 지정하면 다음 두 가지 형태의 인스턴스 생성 형식이 만들어진다\n",
    "- #### 이를 이용하면 init 메소드를 추가하더라도 여전히 기본 초기화 메소드 형식을 사용할 수 있게 된다"
   ]
  },
  {
   "cell_type": "markdown",
   "metadata": {},
   "source": [
    "### 1. VideoMode()\n",
    "### 2. VideoMode(name:)"
   ]
  },
  {
   "cell_type": "markdown",
   "metadata": {},
   "source": [
    "### init 메소드를 추가하고 나면 더이상 기본 초기화 구문이 제공되지 않는 특성은 구조체의 멤버와이즈 초기화 구문에도 동일하게 적용된다\n",
    "### 따라서 구조체에 init 메소드를 추가할 때에는 특히 주의해야 한다"
   ]
  }
 ],
 "metadata": {
  "kernelspec": {
   "display_name": "Python 3",
   "language": "python",
   "name": "python3"
  },
  "language_info": {
   "codemirror_mode": {
    "name": "ipython",
    "version": 3
   },
   "file_extension": ".py",
   "mimetype": "text/x-python",
   "name": "python",
   "nbconvert_exporter": "python",
   "pygments_lexer": "ipython3",
   "version": "3.7.1"
  }
 },
 "nbformat": 4,
 "nbformat_minor": 2
}
