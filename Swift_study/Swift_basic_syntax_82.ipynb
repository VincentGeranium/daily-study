{
 "cells": [
  {
   "cell_type": "markdown",
   "metadata": {},
   "source": [
    "# 구조체와 클래스\n",
    "## 객체지향 스위프트\n",
    "## 타입 캐스팅(Type Casting)"
   ]
  },
  {
   "cell_type": "markdown",
   "metadata": {},
   "source": [
    "## Any,AnyObject"
   ]
  },
  {
   "cell_type": "markdown",
   "metadata": {},
   "source": [
    "### 타입 캐스팅을 수행할 때 일반적으로 상속 관계에 있는 클래스들끼리만 캐스팅할 수 있다\n",
    "- #### 상속 관계에 있지 않은 클래스 간에는 타입 캐스팅 할 수 없으므로 억지로 캐스팅하려 하면 오류가 발생한다\n",
    "- #### 하지만 상속 관계에 있지 않아도 타입 캐스팅을 할 수 있는 예외가 있는데, 바로 Any와 AnyObject 타입을 사용할 때이다"
   ]
  },
  {
   "cell_type": "markdown",
   "metadata": {},
   "source": [
    "### Any와 AntObject는 무엇이든 다 받아들일 수 있는 일종의 범용 타입이다\n",
    "- #### 그중에서도 AnyObject는 클래스의 일종으로, 모든 종류의 클래스 타입을 저장할 수 있는 범용 타입의 클래스이다\n",
    "- #### Objective-C 경험이 있는 사람들이라면 id 타입을 떠올리면 된다\n",
    "- #### 클래스 중에서 가장 추상화된 클래스이며, 상속 관계가 직접 성립하는 것은 아니지만 가장 상위 클래스라고 할 수 있다\n",
    "- #### 모든 클래스의 인스턴스는 AnyObject 클래스 타입으로 선언된 변수나 상수에 할당할 수 있다"
   ]
  },
  {
   "cell_type": "markdown",
   "metadata": {},
   "source": [
    "```\n",
    "var allCar: AnyObject = Car()\n",
    "allCar = SUV()\n",
    "```"
   ]
  },
  {
   "cell_type": "markdown",
   "metadata": {},
   "source": [
    "### 또한, 모든 클래스의 인스턴스는 AnyObject 타입으로 선언된 함수나 메소드의 인자값으로 사용될 수도 있다\n",
    "- #### AnyObject 타입을 반환하는 함수나 메소드는 모든 종류의 클래스를 반환할 수 있다는 의미로 해석되기도 한다\n",
    "\n",
    "```\n",
    "func move(_ param: AnObject) -> AnyObject {\n",
    "    return param\n",
    "}\n",
    "move(Car())\n",
    "move(Vehicle())\n",
    "```"
   ]
  },
  {
   "cell_type": "markdown",
   "metadata": {},
   "source": [
    "### 고정된 하나의 타입만을 저장할 수 있는 배열이나 딕셔너리, 집합에서도 AnyObject 타입을 사용할 수 있는데, 이는 모든 클래스를 저장할 수 있다는 뜻이다"
   ]
  },
  {
   "cell_type": "markdown",
   "metadata": {},
   "source": [
    "```\n",
    "var list = [AnyObject]()\n",
    "list.append(Vehicle())\n",
    "list.append(Car())\n",
    "list.append(SUV())\n",
    "```"
   ]
  },
  {
   "cell_type": "markdown",
   "metadata": {},
   "source": [
    "### AnyObject 타입으로 선언된 값은 타입 캐스팅을 통해 구체적인 타입으로 변환할 수 있다\n",
    "- #### AnyObject는 클래스 특성상 항상 다운 캐스팅만 수행되는데, 상속 관계가 성립하지 않아도 예외로 타입 캐스팅할 수 있지만 실제로 저장된 인스턴스 타입과 관계없는 타입으로 캐스팅하고자 하면 오류가 발생하므로 주의해야 한다\n",
    "\n",
    "```\n",
    "let obj: AnyObject = SUV()\n",
    "    \n",
    "if let suv = obj as? SUV {\n",
    "    print(\"\\(suv) 캐스팅이 성공하였습니다\")\n",
    "}\n",
    "\n",
    "[실행 결과]\n",
    "SUV 캐스팅이 성공하였습니다\n",
    "```"
   ]
  },
  {
   "cell_type": "markdown",
   "metadata": {},
   "source": [
    "### 결론적으로 AnyObject라는 것은 \"어쨋거나 클래스이기만 하면 된다\"라는 의미로 해석할 수 있다\n",
    "- #### 실제로 모든 클래스는 AnyObject의 타입에 포함되기 때문이다\n",
    "- #### 단, 클래스 일때만 AnyObject 타입으로 정의할 수 있다\n",
    "- #### 구조체이거나 열거형은 허용하지 않는다"
   ]
  },
  {
   "cell_type": "markdown",
   "metadata": {},
   "source": [
    "### Any 객체 역시 AnyObject와 비슷한 범용 객체이지만, 클래스에 국한되지 않고 스위프트에서 제공하는 모든 타입을 허용하는 특성이 있다\n",
    "- #### 즉 클래스만 허용하는 AnyObject에 비해 Any는 클래스뿐만 아니라 원시 자료형, 구조체, 열거형, 심지어는 함수까지 허용된다\n",
    "- #### 즉, 어떤 변수의 타입이 Any로 선언되었다면 이 변수에는 종류에 상관없이 모든 타입의 객체를 저장 할 수 있는 것이다\n",
    "\n",
    "```\n",
    "var value: Any = \"Sample String\"\n",
    "value = 3\n",
    "value = false\n",
    "value = [1,3,5,7,9]\n",
    "value = {\n",
    "    print(\"함수가 실행됩니다\")\n",
    "}\n",
    "```"
   ]
  },
  {
   "cell_type": "markdown",
   "metadata": {},
   "source": [
    "### value에 차례차례 대입되고 있는 값들은 매우 다양하다\n",
    "- #### 정수, 논리형, 배열에 이어 익명 함수까지 대입되고 있다\n",
    "- #### 이 모든 대입이 오류 없이 처리된다.\n",
    "- #### 언뜻 보아서는 타입을 중시하는 스위프트에서 사용되기 어려운 코드이지만, 이 모든 것을 가능하게 하는 범용 타입인 Any 타입으로 선언된 변수이기에 가능한 일이다\n",
    "- #### 같은 의미에서 함수나 메소드의 인자값 또는 반환값이 Any 타입이라면 이는 객체의 종류에 상관없이 입력받을 수 있거나 모든 종류의 객체를 반환 할 수 있다"
   ]
  },
  {
   "cell_type": "markdown",
   "metadata": {},
   "source": [
    "```\n",
    "func name(_ param: Any) {\n",
    "    print(\"\\(param)\")\n",
    "}\n",
    "\n",
    "name(3) // Int\n",
    "name(false) // Bool\n",
    "name([1,3,5,7,9]) // Array\n",
    "name {\n",
    "    print(\">>>\")\n",
    "} //(Function)\n",
    "```"
   ]
  },
  {
   "cell_type": "markdown",
   "metadata": {},
   "source": [
    "### 배열이나 딕셔너리, 집합에서의 Any도 마찬가지이다. Any 타입으로 집단 자료형을 정의하면 사실상 이 자료형에 모든 종류의 객체를 구분 없이 저장할 수 있다"
   ]
  },
  {
   "cell_type": "markdown",
   "metadata": {},
   "source": [
    "```\n",
    "var rows = [Any]()\n",
    "rows.append(3)\n",
    "rows.append(false)\n",
    "rows.append([1,3,5,7,9])\n",
    "rows.append {\n",
    "    print(\">>>\")\n",
    "}\n",
    "```"
   ]
  },
  {
   "cell_type": "markdown",
   "metadata": {},
   "source": [
    "### Any 타입은 단순히 듣기에는 매력적으로 보일 수도 있겠지만, 실제로 사용해보면 꽤 불편한 점이 많다\n",
    "- #### Any 타입은 매우 극단적으로 추상화된 타입이어서, Any 타입에 할당된 객체가 사용할 수 있는 프로퍼티나 메소드는 아예 제공되지 않는다\n",
    "- #### Any 타입으로 정의하면 모든 값을 제한 없이 할당받을 수 있지만, 그 값을 이용하여서 할 수 있는 것은 거의 없어지는 셈이다"
   ]
  },
  {
   "cell_type": "markdown",
   "metadata": {},
   "source": [
    "### 여기에 더하여 Any 타입의 남용은 스위프트에서 사용되는 정적인 타입들을 모두 동적인 타입으로 바꾸어버리는 결과를 가져온다\n",
    "- #### 즉, Any 타입을 사용하면 실제로 값이 할당되는 시점에 타입이 정해진다\n",
    "- #### 동적인 타입은 코드를 작성하기에 편리하다는 장점이 있지만, 실행해보기 전에는 값의 타입을 알기 어려우므로 컴파일러가 오류를 잡아내지 못한다\n",
    "- #### 모든 오류가 런타임 오류로 발생하는 결과를 낳게 된다\n",
    "- #### 이는 결국 전체적인 앱 개발의 생산성을 저하하는 결과를 낳게 되므로 사용에 주의해야 한다"
   ]
  }
 ],
 "metadata": {
  "kernelspec": {
   "display_name": "Python 3",
   "language": "python",
   "name": "python3"
  },
  "language_info": {
   "codemirror_mode": {
    "name": "ipython",
    "version": 3
   },
   "file_extension": ".py",
   "mimetype": "text/x-python",
   "name": "python",
   "nbconvert_exporter": "python",
   "pygments_lexer": "ipython3",
   "version": "3.7.1"
  }
 },
 "nbformat": 4,
 "nbformat_minor": 2
}
