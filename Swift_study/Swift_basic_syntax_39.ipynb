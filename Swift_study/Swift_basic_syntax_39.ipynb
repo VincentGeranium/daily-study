{
 "cells": [
  {
   "cell_type": "markdown",
   "metadata": {},
   "source": [
    "# 함수 (Function)\n",
    "## 함수의 반환값과 튜플"
   ]
  },
  {
   "cell_type": "markdown",
   "metadata": {},
   "source": [
    "- #### 함수는 반드시 하나의 값만을 반환해야 한다\n",
    "- ### 여러 개의 값을 반환해야 한다면, 이 값들을 집단 자료형에 담아 반환해야 한다\n",
    "    - ### 이때 사용할 수 있는 집단 자료형에는 딕셔너리나 배열, 튜플, 도는 구조체나 클래스가 있다\n",
    "        - #### 딕셔너리나 배열, 튜플은 물론이거니와 구조체와 클래스 역시 내부에 여러 개의 변수를 담을 수 있는 객체이므로 함수의 반환값으로 사용할 수 있다"
   ]
  },
  {
   "cell_type": "markdown",
   "metadata": {},
   "source": [
    "- ### 튜플을 사용하여 값을 반환할 때는 함수의 반환 타입을 튜플 형태로 정의해야 한다\n",
    "    - ### 튜플에는 여러 종류의 자료형이 다양하게 섞여 정의될 수 있으므로 이를 빠짐없이 표시해야 한다"
   ]
  },
  {
   "cell_type": "markdown",
   "metadata": {},
   "source": [
    "### 여러 종류(Int,String)의 조합으로 구성된 튜플을 반환하는 함수에 대한 선언 예시\n",
    "\n",
    "```\n",
    "func getIndvInfo() -> (Int, String) {\n",
    "    let height = 180\n",
    "    let name = \"김광준\"\n",
    "    \n",
    "    return (height, name)\n",
    "}\n",
    "```"
   ]
  },
  {
   "cell_type": "markdown",
   "metadata": {},
   "source": [
    "- #### (Int, String)으로 구성된 튜플을 반환하기 위해, 함수 선언 시 '-> (Int, String)'으로 반환 타입을 정의\n",
    "    - #### 이때 함수가 반환하는 (height, name) 튜플은 선언된 타입과 일치"
   ]
  },
  {
   "cell_type": "markdown",
   "metadata": {},
   "source": [
    "### 세 개 이상의 값으로 구성된 튜플을 반환하는 경우 예시\n",
    "\n",
    "```\n",
    "func getUserInfo() -> (Int, Character, String) {\n",
    "    // 데이터 타입이 String으로 추론되는 것을 방지하기 위해 타입 어노테이션 선언\n",
    "    let gender: Character = \"M\"\n",
    "    let height = 180\n",
    "    let name = \"김광준\"\n",
    "    \n",
    "    return (height, gender, name)\n",
    "}\n",
    "```"
   ]
  },
  {
   "cell_type": "markdown",
   "metadata": {},
   "source": [
    "- ### 튜플을 반환하는 함수의 반환값을 대입 받은 변수나 상수는 튜플의 인덱스를 이용하여 튜플 내부의 요소를 사용할 수 있다"
   ]
  },
  {
   "cell_type": "markdown",
   "metadata": {},
   "source": [
    "### 튜플을 반환하는 함수의 반환값을 대입 받은 변수나 상수의 튜플의 인덱스를 이용하여 튜플 내부의 요소를 사용하는 예시\n",
    "\n",
    "```\n",
    "var uInfo = getUserInfo()\n",
    "uInfo.0 // 180\n",
    "uInfo.1 // \"M\"\n",
    "uInfo.2 // \"김광준\"\n",
    "```"
   ]
  },
  {
   "cell_type": "markdown",
   "metadata": {},
   "source": [
    "- ### 인덱스를 사용하는 대신 가독성과 편리성을 위해 튜플 요소 각각을 변수로 직접 받을 수도 있다"
   ]
  },
  {
   "cell_type": "markdown",
   "metadata": {},
   "source": [
    "### 튜플의 요소 각각을 변수로 직접 받는 예시\n",
    "\n",
    "```\n",
    "var (a,b,c) = getUserInfo()\n",
    "a // 180\n",
    "b // \"M\"\n",
    "c // \"김광준\"\n",
    "```"
   ]
  },
  {
   "cell_type": "markdown",
   "metadata": {},
   "source": [
    "- ### 일부 필요하지 않은 튜플 항목은 언더바를 이용하면 변수 할당 없이 건너뛸 수 있다\n",
    "\n",
    "```\n",
    "var (height, _, name) = getUserInfo()\n",
    "```"
   ]
  },
  {
   "cell_type": "markdown",
   "metadata": {},
   "source": [
    "- ### 실행 결과로 반환되는 튜플의 각 아이템을 함수 정의 구문을 통해 변수에 미리 할당해 둘 수도 있다\n",
    "    - #### 반환값 타입을 설정할 때 튜플 항목 하나하나에 미리 변수를 정의해 놓는 것이다.\n",
    "    - #### 정의해 두면 함수를 실행할 때 결과값을 바인딩하지 않아도 특정 변수명으로 바인딩된 튜플 인자를 사용할 수 있다"
   ]
  },
  {
   "cell_type": "markdown",
   "metadata": {},
   "source": [
    "### 반환되는 튜플의 각 아이템을 함수 정의 구문을 통해 변수에 미리 할당 예시\n",
    "\n",
    "```\n",
    "func getUserInfo() -> (h: Int, g: Character, n: String) {\n",
    "    // 데이터 타입이 String으로 추론되는 것을 방지하기 위해 타입 어노테이션 선언\n",
    "    let gender: Character = \"M\"\n",
    "    let height = 180\n",
    "    let name = \"김광준\"\n",
    "    \n",
    "    return (height, gender, name)\n",
    "}\n",
    "```"
   ]
  },
  {
   "cell_type": "markdown",
   "metadata": {},
   "source": [
    "- ### getUserInfo()함수에서 튜플 반환값을 정의하는 부분에 변수를 할당\n",
    "    - #### 기존에는 타입명만 작성되어 있던 부분\n",
    "- ### 이렇게 튜플 인자 타입 앞에 각각의 변수를 붙여 주면 함수의 결과값을 받은 변수에도 이들이 자동으로 바인딩된다."
   ]
  },
  {
   "cell_type": "markdown",
   "metadata": {},
   "source": [
    "### 위의 예시 구문 반환 예시 (자동으로 바인딩)\n",
    "\n",
    "```\n",
    "var result = getUserInfo()\n",
    "\n",
    "result.h // 180\n",
    "result.g // \"M\"\n",
    "result.n // \"김광준\"\n",
    "```"
   ]
  },
  {
   "cell_type": "markdown",
   "metadata": {},
   "source": [
    "- #### 함수가 여러 개의 값을 반환할 때 이를 간단하게 묶기 위해 사용하는 것이 튜플\n",
    "- ### 특정 튜플 타입이 여러 곳에서 사용될 경우에는 \"타입 알리어스(Type Alias)\"를 통해 새로운 축약형 타입을 정의하는 것이 좋다\n",
    "- ### Type Alias는 이름이 길거나 사용하기 복잡한 타입 표현을 새로운 타입명으로 정의해주는 문법\n",
    "    - ### typealias 키워드를 사용하여 정의한다\n",
    "- ### Type Alias를 사용하면 길고 복잡한 형태의 타입 표현도 짧게 줄일 수 있어 전체적으로 소스 코드가 간결해진다"
   ]
  },
  {
   "cell_type": "markdown",
   "metadata": {},
   "source": [
    "### Type Alias 정의 방법\n",
    "\n",
    "```\n",
    "typealias <새로운 이름> = <타입 표현>\n",
    "```"
   ]
  },
  {
   "cell_type": "markdown",
   "metadata": {},
   "source": [
    "- ### 사용 방법은 typealias 키워드 다음에 새로운 타입 이름을 작성하고, 여기에 축약할 타입 표현을 대입해 주기만 하면 된다.\n",
    "- ### Type Alias를 정의하고 나면 컴파일러는 새로운 타입 이름을 타입 표현과 동일하게 간주한다\n",
    "    - #### 단, Type Alias는 어디까지나 타입에 대한 새로운 표현을 정의하는 역활을 하기 때문에 타입이 아닌 구체적인 값을 상수처럼 사용할 수는 없다"
   ]
  },
  {
   "cell_type": "markdown",
   "metadata": {},
   "source": [
    "### Type Alias 예시\n",
    "\n",
    "```\n",
    "typealias infoResult = (Int, Character, String)\n",
    "\n",
    "func getUserInfo() -> infoResult {\n",
    "    let gender: Character = \"M\"\n",
    "    let height = 180\n",
    "    let name = \"김광준\"\n",
    "    \n",
    "    return (height, gender, name)\n",
    "}\n",
    "```"
   ]
  },
  {
   "cell_type": "markdown",
   "metadata": {},
   "source": [
    "- #### (Int, Character, String) 형태로 정의된 튜플을 infoResult라는 새로운 타입 이름으로 정의\n",
    "- #### 이후로 infoResult라는 단어는 (Int, Character, String) 튜플과 동일한 것으로 취급된다"
   ]
  },
  {
   "cell_type": "markdown",
   "metadata": {},
   "source": [
    "### Type Alias를 이용하여 반환 타입을 사용한 함수에 대한 결과값\n",
    "\n",
    "```\n",
    "let info = getUserInfo()\n",
    "\n",
    "info.0 // 180\n",
    "info.1 // \"M\"\n",
    "info.2 // \"김광준\"\n",
    "```"
   ]
  },
  {
   "cell_type": "markdown",
   "metadata": {},
   "source": [
    "- #### Type Alias를 적용하기 전과 달라진 것이 아무것도 없다\n",
    "    - #### Type Alias를 적용했다고 해서 함수를 사용하는 부분에서 달라지는 것은 아무것도 없다\n",
    "    - #### 단순히 함수를 정의하는 부분에만 약간의 변경이 있을 뿐이다"
   ]
  },
  {
   "cell_type": "markdown",
   "metadata": {},
   "source": [
    "- #### Type Alias를 이용하여 축약 표현을 만들 때 변수가 바인딩된 튜플을 정의할 수도 있다\n",
    "    - #### 함수의 반환값을 정의할 떄 사용했던 것과 같은 방식이다"
   ]
  },
  {
   "cell_type": "markdown",
   "metadata": {},
   "source": [
    "### Type Alias를 이용하여 축약 표현을 만들어 변수를 바인딩하는 함수 정의와 결과값 구문 예시\n",
    "\n",
    "```\n",
    "typealias infoReult = (h: Int, g: Character, n: String)\n",
    "\n",
    "...(중략: 함수의 정의 구문)...\n",
    "\n",
    "let info = getUserInfo()\n",
    "\n",
    "info.h // 180\n",
    "info.g // \"M\"\n",
    "info.n // \"김광준\"\n",
    "```"
   ]
  }
 ],
 "metadata": {
  "kernelspec": {
   "display_name": "Python 3",
   "language": "python",
   "name": "python3"
  },
  "language_info": {
   "codemirror_mode": {
    "name": "ipython",
    "version": 3
   },
   "file_extension": ".py",
   "mimetype": "text/x-python",
   "name": "python",
   "nbconvert_exporter": "python",
   "pygments_lexer": "ipython3",
   "version": "3.7.1"
  }
 },
 "nbformat": 4,
 "nbformat_minor": 2
}
