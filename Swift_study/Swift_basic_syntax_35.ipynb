{
 "cells": [
  {
   "cell_type": "markdown",
   "metadata": {},
   "source": [
    "# 옵셔널\n",
    "## 스위프트가 잠재적 오류를 다루는 방법\n",
    "## 옵셔널의 묵시적 해제"
   ]
  },
  {
   "cell_type": "markdown",
   "metadata": {},
   "source": [
    "- ### 옵셔널 타입을 해제하는 방법 중에는 묵시적 해제(Implicitly Unwrapped Optional)라는 개념이 존재한다\n",
    "    - ### 이것은 옵셔널 타입이긴 하지만 값을 사용할 때에는 자동으로 옵셔널이 해제되기 때문에 굳이 ! 연산자를 사용하여 해제할 필요가 없는 편리한 구문이다\n",
    "- ### 컴파일러가 알아서 옵셔널을 해제해 준다는 점에서 \"컴파일러에 의한 옵셔널 자동 해제\"와 유사\n",
    "    - #### 자동 해제는 비교 연산이나 값의 할당 등 일부 구문에 한정\n",
    "- ### 묵시적 해제는 옵셔널 변수를 사용하는 모든 경우에 적용할 수 있다\n",
    "    - ### 옵셔널 변수의 타입을 선언할 때 묵시적 해제를 미리 선언해 주어야 한다"
   ]
  },
  {
   "cell_type": "markdown",
   "metadata": {},
   "source": [
    "- ### 옵셔널의 묵시적 해제 구문은 일반 옵셔널 타입의 변수 선언 구문과 매우 유사\n",
    "    - #### ? 연산자 대신 ! 연산자만 붙여주면 된다"
   ]
  },
  {
   "cell_type": "markdown",
   "metadata": {},
   "source": [
    "### 명시적 옵셔널 선언\n",
    "\n",
    "```\n",
    "var str: String? = \"Swift Optional\"\n",
    "print(str)\n",
    "\n",
    "[실행 결과]\n",
    "Optional(\"Swift Optional\")\n",
    "```"
   ]
  },
  {
   "cell_type": "markdown",
   "metadata": {},
   "source": [
    "- #### 문자열 변수 str을 옵셔널 타입으로 선언\n",
    "    - #### 여기에 \"Swift Optional\"이라는 문자열을 대입\n",
    "    - #### 출력시 대입된 문자열이 옵셔널 객체로 감싸진 것을 확인할 수 있다"
   ]
  },
  {
   "cell_type": "markdown",
   "metadata": {},
   "source": [
    "### 묵시적 옵셔널 해제 선언\n",
    "\n",
    "```\n",
    "var str: String! = \"Swift Optional\"\n",
    "print(str)\n",
    "\n",
    "[실행 결과]\n",
    "Swift Optional\n",
    "```"
   ]
  },
  {
   "cell_type": "markdown",
   "metadata": {},
   "source": [
    "- #### 타입 어노테이션 뒤에 붙은 연산자 ?를 !로 대체\n",
    "    - #### 출력된 구문에서 옵셔널 객체가 사라졌다\n",
    "- ### 컴파일러에 의해 옵셔널 객체가 자동으로 해제된 것이다"
   ]
  },
  {
   "cell_type": "markdown",
   "metadata": {},
   "source": [
    "### str 변수가 일반 타입인지 아닌지 확인을 위해 nil 값 대입\n",
    "\n",
    "```\n",
    "var str: String! = nil\n",
    "```\n",
    "\n",
    "- #### nil을 대입해도 아무 문제가 없다. 이는 곧 str이 옵셔널 타입으로 정의되어 있음을 의미한다"
   ]
  },
  {
   "cell_type": "markdown",
   "metadata": {},
   "source": [
    "- ### 이처럼 ! 연산자를 붙여 변수를 정의하면 옵셔널 타입이 된다\n",
    "- ### 일반적으로 옵셔널 타입을 사용할 때 필요한 강제 해제 연산자나 옵셔널 바인딩 과정 없이, 일반 변수처럼 다루어도 된다\n",
    "    - ### 이는 묵시적 해제 선언이 이루어졌기 때문이다"
   ]
  },
  {
   "cell_type": "markdown",
   "metadata": {},
   "source": [
    "### 묵시적 옵셔널을 사용하면 옵셔널 타입 변수의 연산도 간단하게 처리 할 수 있다\n",
    "\n",
    "```\n",
    "var value01 : Int? = 10\n",
    "value01 + 5 // Error\n",
    "\n",
    "var value02: Int! = 10\n",
    "value02 + 5 // 15\n",
    "```"
   ]
  },
  {
   "cell_type": "markdown",
   "metadata": {},
   "source": [
    "- #### 일반적으로 옵셔널 타입과 일반 타입을 직접 연산하는 것은 오류\n",
    "- ### 묵시적 해제를 선언한 옵셔널 타입은 직접 일반 타입과 연산해도 문제가 되지 않는다\n",
    "- ### 묵시적 해제를 선언한 옵셔널은 일반 타입처럼 사용할 수 있기 때문에 편리하다"
   ]
  },
  {
   "cell_type": "markdown",
   "metadata": {},
   "source": [
    "- ### 무조건 모든 경우에 묵시적 옵셔널을 사용할 수 있는 것은 아니다\n",
    "- #### 옵셔널의 묵시적 해제 선언에서 염두에 두어야 할 것 한 가지가 있다\n",
    "    - ### 변수의 값이 nil이 될 가능성이 있다면 묵시적 옵셔널 해제를 사용하지 않아야 한다"
   ]
  },
  {
   "cell_type": "markdown",
   "metadata": {},
   "source": [
    "- ### 묵시적 옵셔널 해제를 사용하는 경우는 한 가지로 정의할 수 있다\n",
    "    - ### \"형식상 옵셔널로 정의해야 하지만, 실제로 사용할 때에는 절대 nil값이 대입될 가능성이 없는 변수 일 때\"이다."
   ]
  },
  {
   "cell_type": "markdown",
   "metadata": {},
   "source": [
    "### 반환하는 값이 옵셔널 타입이기 때문에 어쩔 수 없이 옵셔널 타입으로 선언해야 하는 구문\n",
    "```\n",
    "var value: Int! = Int(\"123\")\n",
    "```"
   ]
  },
  {
   "cell_type": "markdown",
   "metadata": {},
   "source": [
    "- #### 이 구문은 Int(문자열)이 반환하는 값이 옵셔널 타입이기 때문에 어떨 수 없이 value 변수를 옵셔널 타입으로 선언해야 한다\n",
    "- #### 하지만 Int(\"123\")은 제대로 정수로 변활될 것이 확실하다\n",
    "    - #### 이러한 확실한 값에 굳이 옵셔널 처리를 해 줄 필요는 사실 거의 없다\n",
    "    - #### 이때 위와 같이 value 변수를 묵시적 옵셔널로 선언한다면 옵셔널 타입 여부에 신경 쓰지 않고 일반 변수처럼 편하게 사용할 수 있다\n",
    "        - ### 하지만 이 경우가 묵시적 옵셔널을 사용해야 하는 이유로 납득하기는 조금 어렵다\n",
    "        - #### Int(\"123\")! 처럼 대입하는 값 쪽에 강제 해산 연산자를 붙여주면 처음부터 value를 일반 변수로 만들어줄 수 있기 때문이다"
   ]
  },
  {
   "cell_type": "markdown",
   "metadata": {},
   "source": [
    "- ### 실제로 묵시적 옵셔널이 정말 유용하게 사용되는 경우는 클래스 또는 구조체 내에서이다\n",
    "    - #### 주로 멤버 변수를 정의할 때 선언과 초기화를 분리시켜야 하는 경우에 해당"
   ]
  },
  {
   "cell_type": "markdown",
   "metadata": {},
   "source": [
    "- 많은 사람이 옵셔널 개념의 도입 여부에 대해 의문을 표시\n",
    "    - #### 필요할 때만 값의 여부를 점검하여 정상적으로 값이 있을 때 처리할 수 있도록 코딩하면 될 것을 뭐하러 까다롭고 번거로운 옵셔널 개념을 도입했는가에 대해 말이다\n",
    "- ### 그러나 옵셔널의 강점은 안전성뿐만 아니라 안전성을 담보하는 과정에서 표현되는 코드의 간결성에 있다"
   ]
  },
  {
   "cell_type": "markdown",
   "metadata": {},
   "source": [
    "### 애플에서 스위프트 언어 발표할 때 제시했던 코드\n",
    "\n",
    "#### Objective-C code\n",
    "```\n",
    "if (myDelegate != nil) {\n",
    "    if ([myDelegate respondsToSelector:@selector(scrollViewDidScroll:)]) {\n",
    "        [myDelegate scrollViewdidScroll:myScrollView];\n",
    "    }\n",
    "}\n",
    "```\n",
    "\n",
    "#### Swift code\n",
    "\n",
    "```\n",
    "myDelegate?.scrollViewDidScroll?(myScrollView)\n",
    "```"
   ]
  },
  {
   "cell_type": "markdown",
   "metadata": {},
   "source": [
    "- #### nil 값을 점검하면서 사용하는 Objective-C 코드와 이를 옵셔널을 사용하여 간결하게 표현한 Swift 코드를 함께 보여주고 있다\n",
    "- ### 이 같은 문법을 옵셔널 체인(Optional Chain)이라고 한다\n",
    "    - #### 스위프트의 옵셔널 개념이 코드를 얼마나 간결하게 만들어줄 수 있는지 보여주는 대표적인 예"
   ]
  }
 ],
 "metadata": {
  "kernelspec": {
   "display_name": "Python 3",
   "language": "python",
   "name": "python3"
  },
  "language_info": {
   "codemirror_mode": {
    "name": "ipython",
    "version": 3
   },
   "file_extension": ".py",
   "mimetype": "text/x-python",
   "name": "python",
   "nbconvert_exporter": "python",
   "pygments_lexer": "ipython3",
   "version": "3.7.1"
  }
 },
 "nbformat": 4,
 "nbformat_minor": 2
}
