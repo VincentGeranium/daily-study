{
 "cells": [
  {
   "cell_type": "markdown",
   "metadata": {},
   "source": [
    "# 구조체와 클래스\n",
    "## 객체지향 스위프트\n",
    "## 타입 캐스팅(Type Casting)"
   ]
  },
  {
   "cell_type": "markdown",
   "metadata": {},
   "source": [
    "### 부모 클래스로부터 상속된 자식 클래스는 자기 자신의 타입이기도 하면서, 동시에 부모 클래스의 타입이기도 하다.\n",
    "- #### 이는 부모 클래스의 특성들을 물려받았기 때문이다\n",
    "    - #### 메소드를 오버라이딩 했더라도 컴파일러가 클래스의 형태에서 중요하게 여기는 메소드의 이름, 매개변수 타입, 그리고 반환 타입이 바뀌지 않는 한 클래스 형식이 달라진 것은 아니다\n",
    "    - #### 이 때문에 자식 클래스는 본래의 타입 대신 부모 클래스 타입으로 선언하여 사용할 수 있다"
   ]
  },
  {
   "cell_type": "markdown",
   "metadata": {},
   "source": [
    "```\n",
    "class Vehicle {\n",
    "    var currentSpeed = 0.0\n",
    "    \n",
    "    func accelerate() {\n",
    "        self.currentSpeed += 1\n",
    "    }\n",
    "}\n",
    "\n",
    "class Car: Vehicle {\n",
    "    var gear: Int {\n",
    "        return Int(self.currentSpeed / 20) + 1\n",
    "    }\n",
    "    \n",
    "    func wiper() {\n",
    "        // 창을 닦습니다\n",
    "    }\n",
    "}\n",
    "\n",
    "let trans: Vehicle = Car()\n",
    "```"
   ]
  },
  {
   "cell_type": "markdown",
   "metadata": {},
   "source": [
    "### 마지막 구문에서 상수로 선언된 trans는 Car 클래스의 인스턴스를 할당받지만 Vehicle 타입으로 선언되었다\n",
    "- #### Car 클래스는 Vehicle 클래스를 상속받은 자식 클래스이며, 따라서 Vehicle 클래스에 정의된 모든 프로퍼티와 메소드를 물려받았다\n",
    "- #### Vehicle 클래스 타입에 구현되어 있어야 하는 프로퍼티와 메소드가 상속을 통해 모두 구현되어 있으므로 Car 클래스는 형식상 Vehicle 타입으로 간주할 수 있다\n",
    "- #### 이 때문에 Car 클래스로 된 인스턴스를 Vehicle 타입의 상수에 할당할 수 있다"
   ]
  },
  {
   "cell_type": "markdown",
   "metadata": {},
   "source": [
    "### 반대로 Vehicle 인스턴스를 Car 클래스 타입 변수나 상수에 할당할 수는 없다\n",
    "- #### Car 타입이 되기 위해 가져야 할 요소들 중에서 gear 프로퍼티나 wiper() 메소드가 Vehicle 클래스에는 정의되어 있지 않기 때문이다"
   ]
  },
  {
   "cell_type": "markdown",
   "metadata": {},
   "source": [
    "### 따라서 상속 관계에 있는 클래스일 경우 부모 클래스 또는 상위 클래스 타입의 변수나 상수에 인스턴스를 할당하는 것은 허용되지만, 그 반대는 일반적으로 성립 하지 않는다\n",
    "\n",
    "```\n",
    "let car: Car = Vehicle() // Error!\n",
    "```"
   ]
  },
  {
   "cell_type": "markdown",
   "metadata": {},
   "source": [
    "### 상속을 거듭해갈수록 하위 클래스는 상위 클래스보다 점차 구체화되어가며, 상대적으로 상위 클래스는 하위 클래스보다 추상화되어 간다\n",
    "- #### 추상화된 상위 객체는 구체화된 하위 객체의 타입이 가져야 하는 조건을 만족시키기에는 부족한 부분이 많다\n",
    "    - #### 이런 이유로 위와 같은 반대 관계는 성립하지 않는다"
   ]
  },
  {
   "cell_type": "markdown",
   "metadata": {},
   "source": [
    "### 설령 기능에 아무런 차이가 없다고 해도 마찬가지이다\n",
    "- #### 다음의 예에서 Car 클래스는 Vehicle 클래스를 상속받는 것 이외에는 아무것도 추가되지 않아 실질적인 내용이 거의 동일하다\n",
    "- #### 하지만 그래도 하위 클래스 타입에 상위 클래스 인스턴스를 할당할 수는 없다\n",
    "\n",
    "```\n",
    "class Car: Vehicle {\n",
    "    // 아무 내용도 작성하지 않음\n",
    "}\n",
    "\n",
    "let car: Car = Vehicle() // Error!\n",
    "```"
   ]
  },
  {
   "cell_type": "markdown",
   "metadata": {},
   "source": [
    "### 이처럼 클래스의 인스턴스를 할당하기 위해서는 해당 변수나 상수가 적어도 인스턴스의 타입과 같거나 또는 그보다 상위 클래스 타입이어야만 한다"
   ]
  },
  {
   "cell_type": "markdown",
   "metadata": {},
   "source": [
    "### 자식 클래스가 단순히 바로 위의 부모 클래스 타입으로만 선언될 수 있는 것은 아니다\n",
    "- #### 부모 클래스의 부모 클래스, 즉 상위 클래스에 해당하는 타입은 모두 사용할 수 있다\n",
    "\n",
    "### Car 클래스를 상속받는 SUV 클래스를 정의했다\n",
    "\n",
    "```\n",
    "class SUV: Car {\n",
    "    var fourWheel =  false\n",
    "}\n",
    "    \n",
    "let jeep: Vehicle = SUV()\n",
    "```"
   ]
  },
  {
   "cell_type": "markdown",
   "metadata": {},
   "source": [
    "- #### 내부적으로 사륜구동 여부에 대한 프로퍼티만 추가되어 있다\n",
    "- #### 이 클래스를 바탕으로 한 인스턴스를 예제에서처엄 Vehicle 클래스 타입에 할당하는 것은 가능하다\n",
    "- #### 물론 Car 클래스 타입에 할당하는 것도 가능하다\n",
    "- #### 상위 클래스 타입으로 선언하면 할수록 사용할 수 있는 메소드와 프로퍼티, 초기화 구문의 범위는 점점 줄어들겠지만, 이 변수에 할당할 수 있는 객체의 종류는 늘어날것이다\n",
    "- #### Vehicle 클래스를 상속받은 모든 클래스의 인스턴스를 할당받을 수 있기 때문이다"
   ]
  },
  {
   "cell_type": "markdown",
   "metadata": {},
   "source": [
    "### 하지만 이처럼 상속 관계에 있는 상위 클래스 타입으로 선언해서 사용하는 이유는 무엇일까?\n",
    "### 사용할 수 있는 프로퍼티나 메소드의 범위가 줄어드는 것을 감수하면서까지 굳이 상위 타입으로 선언해서 사용할 필요가 없어 보이기도 하다\n",
    "- #### 꼭 그렇지만은 않다. 이를테면 함수나 메소드의 인자값을 정의할 때 하위 클래스 타입으로 선언하는 것보다 상위 클래스 타입으로 선언하면 인자값으로 사용할 수 있는 객체의 범위가 훨씬 넓어진다\n",
    "\n",
    "### 다음 예제를 보자\n",
    "\n",
    "```\n",
    "func move(param: SUV) {\n",
    "    param.accelerate()\n",
    "}\n",
    "```"
   ]
  },
  {
   "cell_type": "markdown",
   "metadata": {},
   "source": [
    "### 인자값으로 입력된 객체를 가속해주는 함수라고 해 보겠다\n",
    "- #### 이 함수는 SUV 타입의 인스턴스를 인자값으로 입력받아 accelerate() 메소드를 실행한다\n",
    "- #### SUV 타입은 구체화된 클래스 형태이므로 SUV 클래스이거나 적어도 이 클래스를 상속받은 하위 클래스의 인스턴스만 인자값으로 사용할 수 있다"
   ]
  },
  {
   "cell_type": "markdown",
   "metadata": {},
   "source": [
    "### 하지만 실질적으로 사용하는 메소드는 Vehicle 클래스에서 정의된 accelerate()뿐이다\n",
    "- #### 인자값으로 받은 인스턴스에 추가 메소드나 프로퍼티가 무엇이 있든 컴파일러는 상관이 없는 것이다\n",
    "- #### 그럴 때는 다음과 같이 인자값 타입을 바꾸어 주면 훨씬 넓은 범위의 객체를 인자값으로 받을 수 있다\n",
    "\n",
    "```\n",
    "func move(param: Vehicle) {\n",
    "    param.accelerate()\n",
    "}\n",
    "```"
   ]
  },
  {
   "cell_type": "markdown",
   "metadata": {},
   "source": [
    "### 먼저 정의한 move() 메소드가 SUV 클래스의 인스턴스만 인자값으로 받을 수 있었던 반면, 이제는 Vehicle 클래스나 이를 상속받은 모든 클래스의 인스턴스를 인자값으로 사용할 수 있게 된 것이다\n",
    "- #### 이처럼 함수나 메소드의 인자값으로 상위 클래스 타입을 선언하게 되면 훨씬 적은 제약으로 객체를 사용할 수 있다"
   ]
  },
  {
   "cell_type": "markdown",
   "metadata": {},
   "source": [
    "### 배열이나 딕셔너라도 마찬가지이다\n",
    "- #### 이들 집단 자료형은 고정된 하나의 타입만 입력받을 수 있다\n",
    "\n",
    "### 다음처럼 정의했다면 SUV 타입의 인스턴스만 배열에 추가할 수 있다\n",
    "\n",
    "```\n",
    "var list = [SUV]()\n",
    "list.append(SUV())\n",
    "```"
   ]
  },
  {
   "cell_type": "markdown",
   "metadata": {},
   "source": [
    "### 하지만 만약 그 대신 상위 클래스인 Vehicle을 아이템 타입으로 사용한다면 Vehicle 클래스, Car 클래스, SUV 클래스 모두를 저장할 수 있다\n",
    "\n",
    "```\n",
    "var list = [Vehicle]()\n",
    "\n",
    "list.append(Vehicle())\n",
    "list.append(Car())\n",
    "list.append(SUV())\n",
    "```"
   ]
  },
  {
   "cell_type": "markdown",
   "metadata": {},
   "source": [
    "### 이처럼 하위 클래스 타입 대신 상위 클래스 타입으로 선언하여 사용하면 주어진 조건을 만족하면서도 훨씬 다양한 객체를 활용할 수 있다\n",
    "- ### 이것이 상위 클래스 타입으로 선언하여 사용하는 이유이다"
   ]
  }
 ],
 "metadata": {
  "kernelspec": {
   "display_name": "Python 3",
   "language": "python",
   "name": "python3"
  },
  "language_info": {
   "codemirror_mode": {
    "name": "ipython",
    "version": 3
   },
   "file_extension": ".py",
   "mimetype": "text/x-python",
   "name": "python",
   "nbconvert_exporter": "python",
   "pygments_lexer": "ipython3",
   "version": "3.7.1"
  }
 },
 "nbformat": 4,
 "nbformat_minor": 2
}
