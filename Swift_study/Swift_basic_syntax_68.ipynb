{
 "cells": [
  {
   "cell_type": "markdown",
   "metadata": {},
   "source": [
    "# 구조체와 클래스\n",
    "## 객체지향 스위프트\n",
    "## 프로퍼티(Property)"
   ]
  },
  {
   "cell_type": "markdown",
   "metadata": {},
   "source": [
    "### 저장 프로퍼티(Stored Property)\n",
    "### 지연 저장 프로퍼티"
   ]
  },
  {
   "cell_type": "markdown",
   "metadata": {},
   "source": [
    "### 일반적으로 저장 프로퍼티는 클래스 인스턴스가 처음 생성될 때 함께 초기화되지만, 저장 프로퍼티는 정의 앞에 \"lazy\"라는 키워드가 붙으면 예외이다\n",
    "- #### 키워드에서 짐작할 수 있듯이, 이 키워드는 저장프로퍼티의 초기화를 지연시킨다\n",
    "- #### 클래스 인스턴스가 생성되어 모든 저장 프로퍼티가 만들어지더라도 \"lazy\" 키워드가 붙은 프로퍼티는 선언만 될 뿐 초기화되지 않고 계속 대기하고 있다가 프로퍼티가 호출되는 순간에 초기화된다\n",
    "- #### 만약 이 프로퍼티에 클래스나 구조체 인스턴스가 대입된다면, 프로퍼티가 호출되기 전까지는 해당 인스턴스는 초기화되지 않는다\n",
    "- #### 이처럼 호출되기 전에는 선언만 된 상태로 대기하다가 실제로 호출되는 시점에서 초기화가 이루어지는 저장 프로퍼티를 \"지연 저장 프로퍼티\"하고 한다"
   ]
  },
  {
   "cell_type": "markdown",
   "metadata": {},
   "source": [
    "### 예시 코드\n",
    "\n",
    "```\n",
    "class OnCreate {\n",
    "    init() {\n",
    "        print(\"OnCreate!!\")\n",
    "    }\n",
    "}\n",
    "\n",
    "class LazyTest {\n",
    "    \n",
    "    var base = 0\n",
    "    lazy var late = OnCreate()\n",
    "    \n",
    "    init() {\n",
    "        print(\"Lazy Test\")\n",
    "    }\n",
    "}\n",
    "```"
   ]
  },
  {
   "cell_type": "markdown",
   "metadata": {},
   "source": [
    "### 테스트를 위해 두 개의 클래스를 준비했다\n",
    "- #### 하나는 OnCreate라는 이름의 클래스로서 딱히 하는 일은 없다\n",
    "    - #### 다만, 인스턴스가 만들어질 때 \"OnCreate!!\"라는 문자열을 출력해줌으로써 이 클래스의 인스턴스가 생성되었다는 것을 알게 해 주었다\n",
    "- #### init() {...}라고 선언된 매소드는 클래스의 초기화 구문이다\n",
    "    - #### 인스턴스가 생성될 때 실행할 내용을 담은 블록이라고 생각하면 된다"
   ]
  },
  {
   "cell_type": "markdown",
   "metadata": {},
   "source": [
    "### 이어서 선언한 LazyTest 클래스 내부에는 late라는 저장 프로퍼티를 선언하면서 여기에 lazy 키워드를 붙여 지연 저장 프로퍼티로 만들었다\n",
    "- #### 이 프로퍼티의 초기값은 OnCreate 클래스의 인스턴스이다\n",
    "- #### 따라서 프로퍼티가 초기화될 떄 OnCreate 클래스의 인스턴스가 만들어질 것이다\n",
    "- #### LazyTest 클래스 역시 초기화될 때 \"Lazy Test\"라는 구문을 출력한다"
   ]
  },
  {
   "cell_type": "markdown",
   "metadata": {},
   "source": [
    "### 두 개의 클래스가 정의되었다면 이제 호출, 먼저 LazyTest 클래스를 인스턴스로 만들어보자\n",
    "\n",
    "```\n",
    "let lz = LazyTest()\n",
    "// \"Lazy Test\"\n",
    "```"
   ]
  },
  {
   "cell_type": "markdown",
   "metadata": {},
   "source": [
    "### LazyTest 클래스의 인스턴스가 생성되었다\n",
    "- #### 인스턴스가 생성되면 내부에 정의된 초기화 블록도 함꼐 실행되면서 앞서 작성해 둔 출력 구문이 표시된다\n",
    "- #### 하지만 아직 OnCreate 클래스의 출력 구문은 보이지 않는다\n",
    "- #### late 프로퍼티가 초기화되지 않았다는 뜻이다\n",
    "\n",
    "### late 프로퍼티 호출\n",
    "\n",
    "```\n",
    "lz.late\n",
    "//\"OnCreate!!\"\n",
    "```"
   ]
  },
  {
   "cell_type": "markdown",
   "metadata": {},
   "source": [
    "### late 프로퍼티를 호출하자 이제서야 \"OnCreate!!\"구문이 출력된다\n",
    "- #### 이로 미루어 지연 저장 프로퍼티에 대입된 인스턴스는 프로퍼티가 처음 호출되는 시점에서 생성된다는 것을 알 수 있다\n",
    "- #### 만약 호출되지 않는다면 끝까지 인스턴스는 만들어지지 않는다\n",
    "- #### 지연 프로퍼티는 처음으로 호출이 발생할 때 값을 평가하여 초기화되며, 이후 두 번째 호출부터는 처음 초기화된 값을 그대로 사용할 뿐 초기화되지는 않는다"
   ]
  }
 ],
 "metadata": {
  "kernelspec": {
   "display_name": "Python 3",
   "language": "python",
   "name": "python3"
  },
  "language_info": {
   "codemirror_mode": {
    "name": "ipython",
    "version": 3
   },
   "file_extension": ".py",
   "mimetype": "text/x-python",
   "name": "python",
   "nbconvert_exporter": "python",
   "pygments_lexer": "ipython3",
   "version": "3.7.1"
  }
 },
 "nbformat": 4,
 "nbformat_minor": 2
}
