{
 "cells": [
  {
   "cell_type": "markdown",
   "metadata": {},
   "source": [
    "## 레이블 연결"
   ]
  },
  {
   "cell_type": "markdown",
   "metadata": {},
   "source": [
    "### 레이블 연결\n",
    "- #### 화면에 있는 객체인 레이블을 소스 코드에서 컨트롤할 수 있도록 서로 연결\n",
    "- #### 안드로이드의 경우 객체의 리소스 아이디를 사용하여 소스 코드에서 객체를 찾도록 코딩해야 하지만 iOS에서는 객체를 소스 코드와 직접 연결하는 방법을 많이 사용한다"
   ]
  },
  {
   "cell_type": "markdown",
   "metadata": {},
   "source": [
    "### ViewController 클래스가 보조 에디터에 열려 있는 것을 확인\n",
    "- #### 그 다음, 인터페이스 빌더에 있는 첫 번째 뷰 컨트롤러에서 \"첫 번째 화면\"이라고 작성했던 레이블을 선택\n",
    "    - #### 마우스 오른쪽 버튼(또는 <Ctrl> 키를 누른 채 마우스 왼쪽 버튼)을 클릭한 채 보조 에디터의 소스 창으로 드래그\n",
    "        - #### ViewController 클래스 내부로 마우스를 가져가면 'Insert Outlet or Outlet Collection'이라는 메세지가 나타난다\n",
    "            - #### 메시지가 표시되는 것을 확인한 다음 그대로 마우스 드래그를 놓는다\n",
    "### 그 후 몇 가지 값을 설정하는 팝업 창이 나타난다\n",
    "- #### 설정이 완료되면 ViewController 클래스에 속성 변수가 자동으로 추가된다\n",
    "\n",
    "### 추가 된 코드 살펴보기\n",
    "\n",
    "```\n",
    "@IBOutlet var uiTitle: UILable!\n",
    "```\n",
    "\n",
    "- #### 이 변수는 인터페이스 빌더의 레이블을 스위프트 클래스가 참조할 수 있도록 연결된 멤버 변수\n",
    "- #### \"아웃렛 변수\"라고 부른다\n",
    "- #### 특히 @IBOutlet이라는 키워드는 인터페이스 빌더에 관련된 속성이라는 것을 알려주는 어노테이션이다\n",
    "- #### uiTitle 변수는 뷰 컨트롤러에 추가했던 레이블과 직접적으로 연결되어 있다\n",
    "    - #### 이 변수의 속성을 변경하면 화면상에 있는 레이블에도 그대로 반영된다\n",
    "- #### 따라서 아웃렛 변수를 통해 화면상에 있는 레이블을 마음대로 다룰 수 있다"
   ]
  },
  {
   "cell_type": "markdown",
   "metadata": {},
   "source": [
    "## 버튼 연결\n",
    "### 버튼 연결\n",
    "- #### 버튼을 연결하는 과정 또한 크게 다르지 않다. 한 가지만 빼고.\n",
    "\n",
    "### 인터페이스 빌더에 있는 첫 번째 뷰 컨트롤러에서 버튼을 선택\n",
    "- #### 그리고 앞에서와 같은 방법으로 오른쪽 소스 창으로 드래그\n",
    "    - #### 드래그하는 위피는 내부 메소드와 클래스 사이의 공간\n",
    "- #### 마우스 드래그 도중 적절한 위치가 선택되면 앞에서처럼 Insert Outlet, Action, or Outlet Collection 메시지가 표시\n",
    "    - #### 이때 마우스 드래그를 놓으면 된다\n",
    "        - #### 앞에서와 마찬가지로 설정용 팝업 창이 표시된다\n",
    "            - #### 앞의 레이블과 다른 점이 바로 이 부분\n",
    "            - #### 레이블은 [Name] 항목만 입력해 주었지만 버튼은 레이블과 달리 [Name]이외에 [Connection]항목도 값을 변경해주어야 한다\n",
    "                - #### 이는 터치했을 때 발생하는 이벤트를 연결하는 것이기 때문이다\n",
    "                \n",
    "### [Connection] 항목의 값을 Action으로 설정하고, [Name] 항목에는 원하는 이름을 넣는다\n",
    "- #### [Connection] 항목을 Action 으로 설정하면 나머지 항목들 일부에 변화가 발생\n",
    "- #### 값을 설정한 다음에는 활성화된  <Connect> 버튼을 클릭하여 연결 작업을 진행. 팝업 창이 닫히면서 버튼의 연결 작업이 완료된다\n",
    "\n",
    "### 추가 된 코드 살펴보기\n",
    "\n",
    "```\n",
    "@IBAction func sayHello(_ sender: Any) {\n",
    "    \n",
    "}\n",
    "```\n",
    "\n",
    "- #### 이름으로 sayHello 추가\n",
    "- #### 레이블의 경우 속성 변수가 추가되었던 것과 달리 이번에 추가된 것은 메소드의 형태이다\n",
    "- #### 어노테이션 역시 @IBOutlet이 아닌 @IBAction이다\n",
    "\n",
    "### 이같은 차이는 연결 과정에서 우리가 설정해주었던 [Connection] 항목의 값에 기인하고 있다\n",
    "- #### 설정된 [Connection] 항목이 Outlet이냐 Action 이냐에 따라 추가되는 코드가 멤버 변수와 메소드로 나뉘는 것이다\n",
    "\n",
    "### 버튼 터치 시 실행할 코드 작성하기\n",
    "- #### 사용자가 버튼을 터치했을 경우 실행할 코드를 sayHello 메소드에 추가\n",
    "\n",
    "```\n",
    "@IBAction func sayHello(_ sender: Any) {\n",
    "    self.uiTitle.text = \"Hello, World!\"\n",
    "}\n",
    "```\n",
    "\n",
    "- #### 간단하지만, 이것으로 끝이다. \n",
    "\n",
    "### 작성된 ViewController 클래스에서 전체 소스는 다음과 같다\n",
    "\n",
    "```\n",
    "//\n",
    "//  ViewController.swift\n",
    "//  HelloWorld\n",
    "//\n",
    "//  Created by 김광준 on 23/02/2019.\n",
    "//  Copyright © 2019 VincentGeranium. All rights reserved.\n",
    "//\n",
    "\n",
    "import UIKit\n",
    "\n",
    "class ViewController: UIViewController {\n",
    "\n",
    "    @IBOutlet var uiTitle: UILabel!\n",
    "    \n",
    "    override func viewDidLoad() {\n",
    "        super.viewDidLoad()\n",
    "        // Do any additional setup after loading the view, typically from a nib.\n",
    "    }\n",
    "\n",
    "    @IBAction func sayHello(_ sender: Any) {\n",
    "        self.uiTitle.text = \"Hello World!\"\n",
    "    }\n",
    "    \n",
    "}\n",
    "\n",
    "```"
   ]
  }
 ],
 "metadata": {
  "kernelspec": {
   "display_name": "Python 3",
   "language": "python",
   "name": "python3"
  },
  "language_info": {
   "codemirror_mode": {
    "name": "ipython",
    "version": 3
   },
   "file_extension": ".py",
   "mimetype": "text/x-python",
   "name": "python",
   "nbconvert_exporter": "python",
   "pygments_lexer": "ipython3",
   "version": "3.7.1"
  }
 },
 "nbformat": 4,
 "nbformat_minor": 2
}
