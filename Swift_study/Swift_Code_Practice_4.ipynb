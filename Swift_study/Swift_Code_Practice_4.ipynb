{
 "cells": [
  {
   "cell_type": "markdown",
   "metadata": {},
   "source": [
    "## iOS 앱의 구조와 코코아 터치 프레임워크\n",
    "## 앱의 기본 구조\n",
    "## 엔트리 포인트와 앱의 초기화 과정"
   ]
  },
  {
   "cell_type": "markdown",
   "metadata": {},
   "source": [
    "### C 언어에 뿌리를 둔 모든 애플리케이션은 main() 함수로부터 시작된다\n",
    "- #### 이를 \"엔트리 포인트 (Entry Point, 시작 진입점)\"라고 한다\n",
    "- #### 운영체제가 애플리케이션 내부에 정의된 main() 함수를 찾아 호출하면 여기에 작성된 코드들이 연쇄적으로 실행되면서 우리가 작성해 둔 커스텀 코드에까지 도달하게 되는 식이다"
   ]
  },
  {
   "cell_type": "markdown",
   "metadata": {},
   "source": [
    "### Objective-C 역시 C언어에 기반하고 있기 때문에,\n",
    "- #### 이를 이용하여 만들어진 iOS 앱도 main() 함수로부터 시작된다\n",
    "\n",
    "### C 기반의 다른 애플리케이션과 차이가 있다면, \n",
    "- #### iOS 앱에서는 main() 함수를 우리가 직접 작성하지 않는다는 것 정도이다\n",
    "\n",
    "### 대신 Xcode 프로젝트를 생성하면 main() 함수가 자동으로 만들어지는데,\n",
    "- #### 여기에는 iOS 앱이 실행될 때 처리해야 할 내용이 작성되어 있기 때문에 main() 함수를 전혀 건드릴 필요가 없다"
   ]
  },
  {
   "cell_type": "markdown",
   "metadata": {},
   "source": [
    "### 실제로 Objective-C 기반의 Xcode 프로젝트를 생성했을 때 main.m 파일 안에 생성되는 main() 함수\n",
    "\n",
    "```\n",
    "#import <UIKit/UIKit.h>\n",
    "#import \"AppDelegate.h\"\n",
    "\n",
    "int main(int argc, char * argv[]) {\n",
    "    @autoreleasepool {\n",
    "        return UIApplicationMain(argc, argv, nil, NSStringFromClass([AppDelegate class]));\n",
    "    }\n",
    "}\n",
    "```"
   ]
  },
  {
   "cell_type": "markdown",
   "metadata": {},
   "source": [
    "### main() 함수가 하는 일은 단순하다\n",
    "- #### 실행 시 시스템으로부터 전달받은 두 개의 인자값과 AppDelegate 클래스를 이용하여 UIApplicationMain() 함수를 호출\n",
    "    - #### 그 결과로 UIApplication 객체를 반환한다\n",
    "        - #### 생성된 UIApplication 객체는 UIKit 프레임워크에 속해 있으므로 이후의 앱 제어권은 UIKit 프레임워크로 이관된다"
   ]
  },
  {
   "cell_type": "markdown",
   "metadata": {},
   "source": [
    "### main() 함수가 C 기반 애플리케이션의 엔트리 포인트라면, UIApplicationMain() 함수는 그 중에서도 iOS 앱에 속하는 부분의 엔트리 포인트라고 할 수 있다\n",
    "- #### 이 함수는 앱의 핵심 객체를 생성하는 프로세스를 핸들링하고, 스토리보드 파일로부터 앱의 유저 인터페이스를 읽어 들일뿐만 아니라 우리가 작성한 커스텀 코드를 호출해 줌으로써 앱 생성 초기에 필요한 설정을 구현할 수 있게 해준다\n",
    "    - #### 여기에 더해서 이벤트를 입력받기 위한 이벤트 루프를 실행시키기도 한다\n",
    "        - #### 이 과정에서 우리가 직접 구현해야 하는 것은 스토리보드 파일이나 초기화를 위한 커스텀 코드뿐이다"
   ]
  },
  {
   "cell_type": "markdown",
   "metadata": {},
   "source": [
    "### UIApplicationMain() 함수가 생성하는 UIApplication은 앱의 본체라고 할 수 있는 객체\n",
    "- #### 사실상 앱 그 자체를 의미한다\n",
    "- #### 우리가 작성한 커스텀 코드나 객체들, 그리고 우리가 앱의 기능이라고 생각하는 모든 것들은 다 UIApplication에 포함되어 있는 하위 객체이다\n",
    "- #### 모바일 디바이스에 설치된 앱을 실행하면 초기 구동 과정을 거쳐 앱 프로세스가 메모리에 등록되는데, 이때의 앱 프로세스가 곧 UIApplication 객체라고 보아도 무방하다"
   ]
  },
  {
   "cell_type": "markdown",
   "metadata": {},
   "source": [
    "### UIApplication 객체의 역활은 매우 다양하다\n",
    "- #### 이벤트 루프나 다른 높은 수준의 앱 동작을 관리할 뿐만 아니라 푸시 알람과 같은 특수한 이벤트를 우리가 정의한 커스텀 객체인 델리게이트에게 알려주기도 한다\n",
    "- #### 이 클래스를 특별한 일이 있거나 중대한 목적이 있는 경우가 아니라면 서브 클래싱 없이 그대로 사용한다\n",
    "    - #### 굳이 서브 클래싱할 필요도 없고, 하기도 어렵기 때문이다"
   ]
  },
  {
   "cell_type": "markdown",
   "metadata": {},
   "source": [
    "### 그런데 달리 생각해보면 UIApplication 객체를 서브 클래싱하지 않고 그대로 사용하는 것에는 한계가 있다\n",
    "- #### 우리의 의도와 목적에 맞게 특별히 처리해야 할 것도 있을 수 있기 때문이다\n",
    "- #### 그래서 UIApplication 객체는 AppDelegate라는 대리 객체를 내세우고 커스텀 코드를 처리할 수 있도록 약간의 권한을 부여한다\n",
    "\n",
    "### AppDelegate는 UIApplication 으로부터 위임받은 일부 권한을 이용하여 커스텀 코드와 상호작용하는 역활을 담당\n",
    "- #### 이를 통해 우리가 필요한 코드를 구현할 수 있도록 도와준다\n",
    "\n",
    "### 이 관계가 쉽게 이해되지 않는다면 기업의 회장과 비서실의 관계를 떠올려 보면 된다\n",
    "- #### 보통 회장은 회사의 아주 중요하고 핵심적인 일을 처리한다\n",
    "    - #### 즉 회사의 신사업 구상이나 방향성 , 대외 업무 등을 담당하는 것이다\n",
    "    - #### 하지만 사업을 구상하기 위해서는 자료 조사도 필요하고, 구상된 사업을 실제로 진척시키려면 현업에서 처리해야 할 일들이 많다\n",
    "        - #### 이런 것들을 회장님이 직접 하지는 않는다\n",
    "            - #### 대부분의 경우 큰 방향성에 대한 오더를 비서진에게 내린다\n",
    "            - #### 이에 대한 권한을 위임받은 비서진은 이를 바탕으로 현업 부서에게 업무를 지시하고, 각 현업 부서는 이를 바탕으로 세부적인 업무를 짜서 진행하게 된다"
   ]
  },
  {
   "cell_type": "markdown",
   "metadata": {},
   "source": [
    "### 여기서 회장은 UIApplication 객체이고, 비서실은 AppDelegate 객체라고 생각하면 된다\n",
    "- #### 쉽게 말해 UIApplication 객체는 앱이 해야 할 아주 중요하고 핵심적인 일\n",
    "    - #### 즉 앱의 생명 주기 관리나 이벤트 처리와 같은 것들을 담당\n",
    "- #### AppDelegate는 커스텀 코드를 처리하는 비서의 성격을 띠는 것이다\n",
    "\n",
    "### AppDelegate 객체는 커스텀 코드와 연결되는 만큼, \n",
    "- #### 대부분의 경우 커스터마이징하거나 혹은 서브 클래싱하여 사용할 수 있도록 오픈되어 있다\n",
    "- #### 프로젝트를 생성하면 만들어지는 파일중에서 AppDelegate.swift (HelloWorld (Chapter 1 실습)) 파일을 보았을 것이다\n",
    "    - #### 그 안에 sleep(5) 구문을 넣어 시작 화면 노출 시간을 지연시켰던 것처럼 손쉽게 커스텀 코드를 작성할 수 있다\n",
    "\n",
    "### AppDelegate 객체는 iOS 애플리케이션 내에서 오직 하나의 인스턴스만 생성되도록 시스템적으로 보장받는다\n",
    "- #### 게다가 앱이 처음 만들어질 때 객체가 생성되고, 앱이 실행되는 동안 계속 유지되다가 앱이 종료되면 그때 함께 소멸하는 등 앱 전체의 생명 주기와 함께 한다\n",
    "- #### 이런 특성 때문에 AppDelegate 객체에 데이터를 저장하면 앱이 종료될 때가지 계속 데이터를 유지할 수 있다\n",
    "- #### 따라서 AppDelegate 객체는 종종 앱의 초기 데이터 구조를 설정하기 위해 사용되기도 한다"
   ]
  },
  {
   "cell_type": "markdown",
   "metadata": {},
   "source": [
    "### UIApplication 객체와 AppDelegate 객체가 연관되어 앱이 실행되는 전체 과정을 정리해보면 다음과 같다\n",
    "- #### 1. main() 함수가 실행된다\n",
    "- #### 2. main() 함수는 다시 UIApplicationMain() 함수를 호출한다\n",
    "- #### 3. UIApplicationMain() 함수는 앱의 본체에 해당하는 UIApplication 객체를 생성한다\n",
    "- #### 4. UIApplication 객체는 Info.plist 파일을 바탕으로 앱에 필요한 데이터와 객체를 로드한다\n",
    "- #### 5. AppDelegate 객체를 생성하고 UIApplication 객체와 연결한다\n",
    "- #### 6. 이벤트 루프를 만드는 등 실행에 필요한 준비를 진행한다\n",
    "- #### 7. 실행 완료 직전, AppDelegate의 application(_:didFinishLaunchingWithOptions:) 메소드를 호출한다"
   ]
  },
  {
   "cell_type": "markdown",
   "metadata": {},
   "source": [
    "### 반면, 스위프트는 C 기반의 언어가 아니다\n",
    "- #### 따라서 스위프트 기반 프로젝트에는 main.m 파일이 존재하지 않으며 엔트리 포인트 역시 존재하지 않는다\n",
    "\n",
    "### 이 때문에 스위프트에서는 위의 1 ~ 5의 과정을 다음과 같은 어노테이션 표기로 대체한다\n",
    "\n",
    "```\n",
    "@UIApplicationMain\n",
    "```"
   ]
  },
  {
   "cell_type": "markdown",
   "metadata": {},
   "source": [
    "### 스위프트에서는 직접 UIApplicationMain()을 호출하여 Delegate 클래스를 인자값으로 전달할 수 없으므로 \n",
    "- #### 대신 AppDelegate 역활을 할 클래스에 @UIApplicationMain 어노테이션을 걸어 표시하는 방식으로 시스템에 델리게이트 클래스 정보를 전달한다\n",
    "\n",
    "### iOS 시스탬은 앱을 실행할 때 이 어노테이션이 표시된 클래스를 찾아 델리게이트로 지정하게 된다\n",
    "\n",
    "### 이후로 진행되는 나머지 과정은 모두 앞에서 설명한 것과 동일하다"
   ]
  },
  {
   "cell_type": "markdown",
   "metadata": {},
   "source": [
    "### 시스템 프레임워크는 사용자가 앱 아이콘을 탭 했을 때 이를 인식하고 앱을 구동한다\n",
    "- #### 최초에 main() 함수가 실행되고, 함수 내부에서 UIApplicationMain()을 호출하면 앱이 구동된다\n",
    "- #### 물론 스위프트에서는 main() 함수를 통해 UIApplication()을 호출하는 대신 @UIApplicationMain 어노테이션을 찾아 해당하는 클래스를 실행\n",
    "    - #### 이때 우리의 커스텀 코드 쪽에서는 AppDelegate 클래스에 작성된 application(_:didFinishLaunchingWithOptions:)메소드가 시스템에 의해 자동으로 출된다\n",
    "        - #### 즉, AppDelegate 클래스의 application(_:didFinishLaunchingWithOptions:)메소드에 원하는 커스텀 코드를 작성해 두면 앱이 처음 시작될 때 해당 코드를 실행할 수 있다는 뜻이다"
   ]
  },
  {
   "cell_type": "markdown",
   "metadata": {},
   "source": [
    "### 이어서 시스템 프레임워크의 이벤트 루프가 실행되면서 우리가 작성하는 이벤트 핸들에 의해 커스텀 코드로 연결된다\n",
    "- #### 시스템에서 발생할 수 있는 여러 이벤트 중에서 우리가 원하는 이벤트를 제어하도록 핸들을 만들어 커스텀 코드와 연결해 놓으면 이벤트 루프에서는 특정 이벤트가 발생했을 때 우리가 만든 핸들을 통하여 커스텀 코드를 실행할 수 있도록 처리한다\n",
    "- #### 여기서 말하는 핸들은 @IBAction 메소드를 떠올리면 된다\n",
    "    - #### 사용자가 어떤 객체를 클릭하거나 특정 액션을 취했을 때 실행되도록 구현해 놓은 것을 말한다"
   ]
  },
  {
   "cell_type": "markdown",
   "metadata": {},
   "source": [
    "### 앱이 실행 목적을 모두 완료하고 더이상 사용되지 않으면 시스템은 앱을 메모리에서 제거하기 위한 준비를 한다\n",
    "- #### 이 과정에서 앱 시스템은 Delegate 클래스의 applicationWillTerminate(_:)메소드를 호출한다\n",
    "    - #### '앱이 곧 종료될 테니 정리할 것이 있으면 얼른 하세요'하는 신호다\n",
    "- #### 앱 종료 시에 처리해야 할 내용이 있다면 이 메소드 내부에 커스텀 코드로 작성해 두기만 하면 된다"
   ]
  },
  {
   "cell_type": "markdown",
   "metadata": {},
   "source": [
    "### AppDelegate 프로토콜에는 위에서 설명한 두 개의 메소드뿐만 아니라 더 많은 메소드가 정의되어 있고, 각 메소드는 미리 약속된 시점에 맞추어 시스템에 의해 호출될 수 있도록 구성되어 있다\n",
    "- #### 이처럼 iOS 시스템에 의해 특정 시점마다 호출해주는 메소드가 이미 정의되어 있으므로 우리는 지정된 메소드에 커스텀 코드를 작성하기만 하면 앱의 생명 주기에 맞추어 원하는 내용을 실행시킬 수 있다"
   ]
  }
 ],
 "metadata": {
  "kernelspec": {
   "display_name": "Python 3",
   "language": "python",
   "name": "python3"
  },
  "language_info": {
   "codemirror_mode": {
    "name": "ipython",
    "version": 3
   },
   "file_extension": ".py",
   "mimetype": "text/x-python",
   "name": "python",
   "nbconvert_exporter": "python",
   "pygments_lexer": "ipython3",
   "version": "3.7.1"
  }
 },
 "nbformat": 4,
 "nbformat_minor": 2
}
