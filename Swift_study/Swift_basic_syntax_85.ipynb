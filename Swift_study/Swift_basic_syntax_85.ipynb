{
 "cells": [
  {
   "cell_type": "markdown",
   "metadata": {},
   "source": [
    "# 구조체와 클래스\n",
    "## 객체지향 스위프트\n",
    "## 초기화 구문(Initializer syntax)"
   ]
  },
  {
   "cell_type": "markdown",
   "metadata": {},
   "source": [
    "## 초기화 구문의 오버라이딩"
   ]
  },
  {
   "cell_type": "markdown",
   "metadata": {},
   "source": [
    "### 클래스에서는 초기화 구문도 일종의 메소드이다\n",
    "- #### 그러므로 자식 클래스에서 오버라이딩할 수 있다\n",
    "- #### 초기화 구문을 오버라이딩할 때는 메소드와 마찬가지로 override 키워드를 붙여야 한다\n",
    "- #### 상위 클래스에서 선언된 적이 없는 초기화 형식일 때는 override 키워드를 붙이면 안된다\n",
    "- #### 반면 기본 초기화 구문 init()은 부모 클래스에서 명시적으로 선언된 적이 없더라도 이를 상속받은 자식 클래스에서는 반드시 오버라이딩 형식으로 작성해야 한다\n",
    "\n",
    "```\n",
    "class Base {\n",
    "    \n",
    "}\n",
    "\n",
    "class ExBase: Base {\n",
    "    override init() {\n",
    "        \n",
    "    }\n",
    "}\n",
    "```"
   ]
  },
  {
   "cell_type": "markdown",
   "metadata": {},
   "source": [
    "### 위 예제에서 클래스 ExBase는 기본 클래스로 선언된 Base 클래스를 상속하도록 작성되었다\n",
    "- #### Base 클래스에서는 기본 초기화 구문을 명시적으로 작성하지 않았지만 이 클래스를 상속한 ExBase 클래스에서 기본 초기화 구문을 명시적으로 작성하려고 하면 상위 클래스에서 선언된 구문이므로 오버라이드해야 한다는 오류가 표시된다\n",
    "- #### 즉, 클래스는 별도로 정의하지 않더라도 기본 초기화 구문이 내장되어 있으므로 상속받은 클래스라면 기본 초기화 구문을 작성하더라도 이를 오버라이딩해야 한다"
   ]
  },
  {
   "cell_type": "markdown",
   "metadata": {},
   "source": [
    "### 메소드와는 달리 초기화 구문에서의 오버라이딩은 예기치 않은 문제를 불러 일으킬 수 있다\n",
    "- #### 초기화 구문을 오버라이딩하면 더 이상 부모 클래스에서 정의한 초기화 구문이 실행되지 않는다\n",
    "- #### 만약 부모 클래스의 기본 초기화 구문에서 프로퍼티를 초기화했다면, 자식 클래스에서 기본 초기화 구문을 오버라이딩함으로써 부모 클래스 프로퍼티의 초기화가 누락된다\n",
    "- #### 프로퍼티가 초기화되지 못하는 상황은 오류를 발생시키므로, 이런 상황을 방지하고자 초기화 구문을 오버라이딩할 경우 부모 클래스에서 정의된 초기화 구문을 내부적으로 호출해야 한다\n",
    "    - #### 오버라이딩된 초기화 구문 내부에 super.init 구문을 작성하면 된다"
   ]
  },
  {
   "cell_type": "markdown",
   "metadata": {},
   "source": [
    "```\n",
    "class Base {\n",
    "    var baseValue: Double\n",
    "    init(inputValue: Double) {\n",
    "        self.baseValue = inputValue\n",
    "    }\n",
    "}\n",
    "\n",
    "class ExBase: Base {\n",
    "    override init(inputValue: Double) {\n",
    "        super.init(inputValue: 10.5)\n",
    "    }\n",
    "}\n",
    "```"
   ]
  },
  {
   "cell_type": "markdown",
   "metadata": {},
   "source": [
    "### 기본 클래스 Base에서 정의된 초기화 구문 init(inputValue:)의 내부에는 실행 구문이 작성되어 있다\n",
    "- #### 초기화 과정에서 입력받은 인자값을 baseValue 프로퍼티에 할당하는 구문이다\n",
    "- #### 자식 클래스인 ExBase에서 초기화 구문을 오버라이딩하면 해당 초기화 구문은 새롭게 작성되므로 ExBase 클래스를 초기화할 때 baseValue에 대한 값 할당이 이루어지지 않는다"
   ]
  },
  {
   "cell_type": "markdown",
   "metadata": {},
   "source": [
    "### baseValue 프로퍼티는 옵셔널 타입이 아닌 일반 타입이므로 반드시 초기값이 있어야 하지만 초기화 구문의 오버라이딩으로 인해 초기값 할당 구문이 누락되면 오류가 발생한다\n",
    "- #### 이러한 오류를 방지하기 위해 오버라이딩된 초기화 구문에서 부모 클래스의 초기화 구문을 직접 호출해주게 된다"
   ]
  }
 ],
 "metadata": {
  "kernelspec": {
   "display_name": "Python 3",
   "language": "python",
   "name": "python3"
  },
  "language_info": {
   "codemirror_mode": {
    "name": "ipython",
    "version": 3
   },
   "file_extension": ".py",
   "mimetype": "text/x-python",
   "name": "python",
   "nbconvert_exporter": "python",
   "pygments_lexer": "ipython3",
   "version": "3.7.1"
  }
 },
 "nbformat": 4,
 "nbformat_minor": 2
}
