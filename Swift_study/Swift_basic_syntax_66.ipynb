{
 "cells": [
  {
   "cell_type": "markdown",
   "metadata": {},
   "source": [
    "# 구조체와 클래스\n",
    "## 객체지향 스위프트\n",
    "## 프로퍼티(Property)"
   ]
  },
  {
   "cell_type": "markdown",
   "metadata": {},
   "source": [
    "### 저장 프로퍼티(Stored Property)"
   ]
  },
  {
   "cell_type": "markdown",
   "metadata": {},
   "source": [
    "### 저장 프로퍼티(Stored Property)는 클래스 내에세 선언된 변수나 상수를 부르는 이름이다\n",
    "- #### 속성이라는 우리 말로 사용되는 경우도 자주 있는데 변수일 경우 속성 변수, 상수일 경우 속성 상수라고 구분하기도 한다"
   ]
  },
  {
   "cell_type": "markdown",
   "metadata": {},
   "source": [
    "### 일반 변수나 상수를 선언할 때 초기값을 할당할 수 있는 것처럼 저장 프로퍼티를 선언할 때에도 초기값을 할당할 수 있다\n",
    "- #### 하지만 반드시 선언하는 시점에서 초기값을 할당해야 하는 것은 아니다\n",
    "- #### 초기화 구문에서 초기값을 설정해도 된다\n",
    "- #### 구조체의 Memberwise Initializer이 이같은 역활을 한다"
   ]
  },
  {
   "cell_type": "markdown",
   "metadata": {},
   "source": [
    "### 하지만 클래스에서 프로퍼티를 선언할 때 초기값을 함께 할당해 주지 않으면 신경 써야 할 것들이 있어 주의가 필요하다\n",
    "- #### 우선 프로퍼티 선언 시 초기값이 할당되지 않은 저장 프로퍼티는 반드시 옵셔널 타입으로 선언해 주어야 한다\n",
    "- #### 스위프트에서는 클래스의 프로퍼티에 값이 비어있으면 인스턴스를 생성할 때 무조건 nil 값으로 초기화하기 때문이다\n",
    "- #### 물론 초기값을 처음부터 할당해 준다면 옵셔널 타입으로 선언할 필요가 겂다"
   ]
  },
  {
   "cell_type": "markdown",
   "metadata": {},
   "source": [
    "### 옵셔널 타입으로 프로퍼티를 선언할 때에는 일반 옵셔널 타입과 묵시적 옵셔널 해제 타입 중에서 선택해서 정의할 수 있다\n",
    "- #### 묵시적 옵셔널 타입 해제 구문은, 값을 사용할 시점에서는 절대 nil이 되지 않지만, 선언할 때에는 초기값을 할당해줄 수 없어서 옵셔널로 선언해야 하는 저장 프로퍼티에 사용된다\n",
    "- #### 묵시적 옵셔널 타입으로 지정해두면 이 값을 사용할 떄 옵셔널 해제 처리할 필요 없이 일반 변수처럼 쓸 수 있기 때문에 편리하다"
   ]
  },
  {
   "cell_type": "markdown",
   "metadata": {},
   "source": [
    "### 저장 프로퍼티를 선언할 때 초기값을 주지 않으면서도 옵셔널 타입으로 선언하지 않을 수 있는 방법\n",
    "- #### 초기화 구문에서 프로퍼티의 값을 초기화해주는 것이다\n",
    "- #### 어차피 클래스의 프로퍼티는 인스턴스를 생성할 떄 초기화되기 때문에, 프로퍼티의 초기값은 인스턴스를 생성하기 전까지만 할당해 줄 수 잇으면 문제가 되지 않는다\n",
    "- #### 따라서 초기화 구문 내에서 프로퍼티의 값을 할당해 줄 수 있으면 이 프로퍼티의 타입은 옵셔널로 선언하지 않아도 된다"
   ]
  },
  {
   "cell_type": "markdown",
   "metadata": {},
   "source": [
    "### 반면 구조체는 이같은 초기값으로부터 자유로워서, 초기값을 할당하지 않고 선언만 하더라도 프로퍼티의 타입을 옵셔널로 지정해 주지 않아도 된다\n",
    "- #### Memberwise Initializer 구문이 제공되기 때문이다\n",
    "- #### Memberwise Initializer 구문은 인스턴스 생성 시 인자값을 받아 프로퍼티의 값을 초기화 시켜주는 역활을 한다\n",
    "- #### 이런 Memberwise Initializer 구문이 프로퍼티 값의 초기화를 보장해 주기 때문에 옵셔널 타입으로 지정하지 않아도 되는 것이다\n",
    "\n",
    "### 실제로 작성된 저장 프로퍼티 예제\n",
    "\n",
    "```\n",
    "class User {\n",
    "    var name: String\n",
    "}\n",
    "```"
   ]
  },
  {
   "cell_type": "markdown",
   "metadata": {},
   "source": [
    "### User 클래스에 name 프로퍼티를 선언했다\n",
    "- #### 일반 타입의 문자열로 선언된 이 프로퍼티에는 값이 할당되어 있지 않으므로, 스위프트의 컴파일러는 다음과 같은 오류를 발생시킨다\n",
    "    - #### error: class 'User' has no initializers\n",
    "    - #### 내용인즉슨, 초기화 구문을 정의하고 저장 프로퍼티를 초기화 해달라는 것이다"
   ]
  },
  {
   "cell_type": "markdown",
   "metadata": {},
   "source": [
    "### 이를 해결하기 위해서는 다음 세 가지 해결책 중 하나를 선택하여 적용해 주어야 한다"
   ]
  },
  {
   "cell_type": "markdown",
   "metadata": {},
   "source": [
    "- ### 첫 번째 해결책 : 초기화 구문을 작성하고, 그 안에서 초기값을 할당해 준다\n",
    "\n",
    "```\n",
    "class User {\n",
    "    var name: String\n",
    "    \n",
    "    init() {\n",
    "        self.name = \"\"\n",
    "    }\n",
    "}\n",
    "```"
   ]
  },
  {
   "cell_type": "markdown",
   "metadata": {},
   "source": [
    "### init() 은 초기화 구문이다\n",
    "- #### 형태가 메소드와 같아서 초기화 메소드라고 불리지만, 일반적인 메소드와 달리 직접 호출되기보다는 인스턴스가 생성될 때 간접적으로 호출되는 경우가 대부분이다\n",
    "- #### init 메소드 내부에 작성된 구문은 인스턴스가 생성될 때 실행된다"
   ]
  },
  {
   "cell_type": "markdown",
   "metadata": {},
   "source": [
    "### 초기화 구문 내부에서 멤버 변수로 정의된 name을 참조할 때 앞에 self 키워드를 붙여준 것에 주목\n",
    "- #### 클래스에서 선언된 프로퍼티나 메소드는 self 키워드를 붙여서 구분한다\n",
    "- #### 이 키워드를 반드시 붙여주어야 하는 몇 가지 경우를 제외하면 대부분의 경우에서 선택적으로 사용된다\n",
    "    - #### 하지만, 그래도 학생이 소속 학교의 배지를 달고 다니듯이 멤버 변수나 메소드 앞에는 self를 붙여서 구분해 주는 것이 좋다"
   ]
  },
  {
   "cell_type": "markdown",
   "metadata": {},
   "source": [
    "- ### 두 번째 해결책 : 프로퍼티를 옵셔널 타입으로 바꿔 준다\n",
    "\n",
    "```\n",
    "class User {\n",
    "    var name: String?\n",
    "}\n",
    "```\n",
    "\n",
    "#### 또는\n",
    "\n",
    "```\n",
    "class User {\n",
    "    var name: String!\n",
    "}\n",
    "```"
   ]
  },
  {
   "cell_type": "markdown",
   "metadata": {},
   "source": [
    "### 옵셔널 타입으로 프로퍼티를 선언할 경우, 초기화하지 않았더라도 시스템이 자동으로 초기화해주므로 문제가 생기지 않는다\n",
    "- #### 옵셔널 타입으로 프로퍼티를 선언할 때에는 두 가지 방법 중 하나를 사용할 수 있다\n",
    "    - #### 기본 옵셔널 타입과 묵시적 옵셔널 해제 타입이 그것이다.\n",
    "- #### 프로퍼티 값이 nil이 되지 않을 자신이 있다면 묵시적 옵셔널 해제 타입을 사용하는 것이 편리하다"
   ]
  },
  {
   "cell_type": "markdown",
   "metadata": {},
   "source": [
    "### 세 번째 해결책 : 프로퍼티에 초기값을 할당해 준다\n",
    "\n",
    "```\n",
    "class User {\n",
    "    var name: String = \"\"\n",
    "}\n",
    "```"
   ]
  },
  {
   "cell_type": "markdown",
   "metadata": {},
   "source": [
    "### 처음부터 빈 초기값을 입력해주면 많은 문제로부터 벗어날 수 있다"
   ]
  }
 ],
 "metadata": {
  "kernelspec": {
   "display_name": "Python 3",
   "language": "python",
   "name": "python3"
  },
  "language_info": {
   "codemirror_mode": {
    "name": "ipython",
    "version": 3
   },
   "file_extension": ".py",
   "mimetype": "text/x-python",
   "name": "python",
   "nbconvert_exporter": "python",
   "pygments_lexer": "ipython3",
   "version": "3.7.1"
  }
 },
 "nbformat": 4,
 "nbformat_minor": 2
}
