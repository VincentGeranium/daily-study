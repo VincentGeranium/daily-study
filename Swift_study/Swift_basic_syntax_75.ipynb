{
 "cells": [
  {
   "cell_type": "markdown",
   "metadata": {},
   "source": [
    "# 구조체와 클래스\n",
    "## 객체지향 스위프트\n",
    "## 메소드(Method)"
   ]
  },
  {
   "cell_type": "markdown",
   "metadata": {},
   "source": [
    "## 타입 메소드(Type Method)"
   ]
  },
  {
   "cell_type": "markdown",
   "metadata": {},
   "source": [
    "### 인스턴스 메소드는 특정 타입의 인스턴스에 의해 호출되는 메소드로서, 반드시 인스턴스를 통해서만 호출할 수 있다\n",
    "- #### 인스턴스를 생성하지 않고는 호출할 수 없다\n",
    "\n",
    "### 이와는 다르게 인스턴스를 생성하지 않고도 객체 타입 자체에서 호출할 수 있는 메소드가 있다\n",
    "- #### 이를 \"타입 메소드(Type Method)\"라고 한다\n",
    "- #### 타입 프로퍼티의 특성을 메소드로 옮긴 것이 타입 메소드이다\n",
    "\n",
    "### 인스턴스를 생성하지 않고도 클래스나 구조체 자체에서 값을 참조할 수 있는 것이 타입 프로퍼티(Type Property)\n",
    "### 인스턴스를 생성하지 않고 클래스나 구조체 자체에서 호출할 수 있는 메소드가 바로 타입 메소드(Type Method)"
   ]
  },
  {
   "cell_type": "markdown",
   "metadata": {},
   "source": [
    "### 타입 프로퍼티를 선언시 \n",
    "- #### 클래스, 구조체, 열거형 타입에서는 프로퍼티 선언 앞에 static을 붙여주되 클래스 타입에서 선언된 연산 프로퍼티 일부에는 class 키워드를 사용\n",
    "\n",
    "### 타입 메소드도 동일하다\n",
    "- #### 구조체나 열거형, 클래스 모두 타입 메소드를 선언할 때는 static 키워드를 사용한다\n",
    "\n",
    "### 반면 하위 클래스에서 재정의 가능한 타입 메소드를 선언시 \n",
    "- #### class 키워드를 사용한다. 물론 이 키워드는 클래스 타입에서만 사용할 수 있다"
   ]
  },
  {
   "cell_type": "markdown",
   "metadata": {},
   "source": [
    "### 이렇게 선언된 타입 메소드를 호출할 때는 인스턴스 메소드와 마찬가지로 점 구문을 이용한다\n",
    "- #### 차이점은 인스턴스 메소드는 객체 타입의 인스턴스에 대해 호출하는 것이지만 타입 메소드는 객체 자체에 대해 호출한다는 것이다"
   ]
  },
  {
   "cell_type": "markdown",
   "metadata": {},
   "source": [
    "### 타입 메소드를 선언하고 호출하는 예제\n",
    "\n",
    "```\n",
    "class Foo {\n",
    "    // 타입 메소드 선언\n",
    "    class func fooTypeMethod() {\n",
    "        // 타입 메소드의 구현 내용이 여기에 들어간다\n",
    "    }\n",
    "}\n",
    "\n",
    "let f = Foo()\n",
    "f.fooTypeMethod() // 오류\n",
    "Foo.fooTypeMethod()\n",
    "```"
   ]
  },
  {
   "cell_type": "markdown",
   "metadata": {},
   "source": [
    "### 타입 메소드를 사용할 때는 주의해야 할 부분이 있다\n",
    "- #### 인스턴스 메소드는 메소드의 동작 범위가 인스턴스 내부로 제한된다\n",
    "    - #### 때문에 두 개의 인스턴스를 생성하여 메소드를 실행하면 메소드에 의해 값이 변하더라도 해당 인스턴스에만 국한되어 값이 변하고 나머지 인스턴스에는 영향을 미치지 않는다\n",
    "\n",
    "### 그러나 타입 메소드는 객체 타입 전체에 영향을 미친다\n",
    "- #### 즉, 타입 메소드를 사용하여 객체의 값을 변경하면 해당 객체 타입을 사용하는 모든 곳에서 변경된 값이 적용된다\n",
    "- #### 타입 메소드를 선언하고 사용할 때는 반드시 이러한 영향 범위를 고려하여 사용하여야 한다"
   ]
  },
  {
   "cell_type": "markdown",
   "metadata": {},
   "source": [
    "### 또한, 타입 메소드에서는 인스턴스 프로퍼티를 참조할 수 없다\n",
    "- #### 타입 메소드 자체에 인스턴스가 존재하지 않기 때문이다\n",
    "- #### 따라서 타입 메소드에서 사용할 수 있는 프로퍼티는 오직 타입 프로퍼티뿐이다"
   ]
  }
 ],
 "metadata": {
  "kernelspec": {
   "display_name": "Python 3",
   "language": "python",
   "name": "python3"
  },
  "language_info": {
   "codemirror_mode": {
    "name": "ipython",
    "version": 3
   },
   "file_extension": ".py",
   "mimetype": "text/x-python",
   "name": "python",
   "nbconvert_exporter": "python",
   "pygments_lexer": "ipython3",
   "version": "3.7.1"
  }
 },
 "nbformat": 4,
 "nbformat_minor": 2
}
