{
 "cells": [
  {
   "cell_type": "markdown",
   "metadata": {},
   "source": [
    "# 구조체와 클래스\n",
    "## 객체지향 스위프트\n",
    "## 프로퍼티(Property)"
   ]
  },
  {
   "cell_type": "markdown",
   "metadata": {},
   "source": [
    "### 저장 프로퍼티(Stored Property)\n",
    "### 저장 프로퍼티의 분류"
   ]
  },
  {
   "cell_type": "markdown",
   "metadata": {},
   "source": [
    "### 저장 프로퍼티는 다음 두 가지로 나눌 수 있다\n",
    "- #### 1. var 키워드로 정의되는 변수형 저장 프로퍼티(멤버 변수라고 부름)\n",
    "- #### 2. let 키워드로 정의되는 상수형 저장 프로퍼티(멤버 상수라고 부름)"
   ]
  },
  {
   "cell_type": "markdown",
   "metadata": {},
   "source": [
    "### 이들 프로퍼티는 변수나 상수의 성격을 그대로 물려받아, 값의 수정 여부에 영향을 미친다\n",
    "- #### var 키워드로 정의한 멤버 변수는 값을 얼마든지 수정할 수 있다\n",
    "- #### let 키워드로 정의한 멤버 상수는 최초에 할당된 값이 변경 없이 그대로 유지된다"
   ]
  },
  {
   "cell_type": "markdown",
   "metadata": {},
   "source": [
    "### 다음 예제는 구조체 내부에 상수와 변수로 된 프로퍼티를 정의해서 고정 길이 범위의 정수들과 가변 길이 범위의 정수들을 만들어 낸다\n",
    "\n",
    "- #### FixedLengthRange 구조체에는 시작값을 의미하는 startValue 프로퍼티와 범위값을 의미하는 length 프로퍼티가 정의되어 있다\n",
    "    - #### 이때 startValue 프로퍼티는 어디서부터 시작할지를 나타내는 속성\n",
    "        - #### 변수로 작성했기 때문에 필요할 때마다 값을 바꿀 수 있다\n",
    "    - #### 반면 length 프로퍼티로 정의된 범위값은 상수로 작성되어 있다. \n",
    "        - #### 인스턴스를 생성할때 입력한 인자값 3이 초기값으로 입력된 후 바뀌지 않고 그대로 유지되는 것이다"
   ]
  },
  {
   "cell_type": "markdown",
   "metadata": {},
   "source": [
    "### 이들 프로퍼티의 변수와 상수 관계에 따라 이 구조체는 언제나 주어진 시작값으로부터 세 개의 정수만을 만들어 낸다\n",
    "- #### 0부터 시작하면 0, 1, 2가 될 것이고, 5부터 시작하면 5, 6, 7이 되는 식"
   ]
  },
  {
   "cell_type": "markdown",
   "metadata": {},
   "source": [
    "### 반면 FlexibleLengthRange 구조체는 시작값 프로퍼티(startValue)를 상수로 작성했으므로 시작값은 처음 인스턴스를 생성할 때 초기화한 값으로 고정된다\n",
    "- #### 하지만 값의 범위는 변수이므로 원하는 만큼 범위를 늘리거나 줄일 수 있다"
   ]
  },
  {
   "cell_type": "markdown",
   "metadata": {},
   "source": [
    "### 구조체에서 저장 프로퍼티 예제\n",
    "\n",
    "```\n",
    "// 고정 길이 범위 구조체\n",
    "struct FixedLengthRange {\n",
    "    var startValue: Int // 시작값\n",
    "    let length: Int // 값의 범위\n",
    "}\n",
    "\n",
    "// 가변 길이 범위 구조체\n",
    "struct FlexibleLengthRange{\n",
    "    let startValue: Int // 시작값\n",
    "    var length: Int // 값의 범위\n",
    "}\n",
    "\n",
    "// 아래 구조체 인스턴스는 정수값 0, 1, 2를 의미한다\n",
    "var rangeOfFixedIntegers = FixedLengthRange(startValue: 0, length: 3)\n",
    "\n",
    "// 아래처럼 시작값을 변경하면 객체 인스턴스는 정수값 4, 5, 6을 의미하게 된다\n",
    "rangeOFFixedIntegers.startValue = 4\n",
    "\n",
    "// 아래 구조체 인스턴스는 정수값 0, 1, 2를 의미한다\n",
    "var rangeOfFlexibleIntegers = FlexibleLengthRange(startValue: 0, length: 3)\n",
    "\n",
    "// 아래처럼 범위값을 변경하면 객체 인스턴스는 정수값 0, 1, 2, 3, 4를 의미하게 된다\n",
    "rangeOfFlexibleIntegerts.length = 5\n",
    "```"
   ]
  },
  {
   "cell_type": "markdown",
   "metadata": {},
   "source": [
    "### 주의해야 할 점은 구조체 인스턴스를 상수에 할당할 경우이다\n",
    "- #### 인스턴스를 변수에 할당하면 구조체 내에서 변수로 정의한 저장 프로퍼티는 개발자가 원할 떄 얼마든지 값을 수정할 수 있다\n",
    "\n",
    "```\n",
    "// 변수에 할당된 구조체 인스턴스라면\n",
    "var variablesOfInstance = FixedLengthRange(startValue: 3, length: 4)\n",
    "// 아래와 같이 저장 프로퍼티를 수정할 수 있다\n",
    "variablesOfInstance.startValue = 0 // (0)\n",
    "```"
   ]
  },
  {
   "cell_type": "markdown",
   "metadata": {},
   "source": [
    "### 하지만 인스턴스를 상수에 할당하면 비록 구조체 내에서 저장 프로퍼티를 변수로 정의했더라도 값을 변경할 수 없다\n",
    "\n",
    "```\n",
    "// 반면, 상수에 할당된 구조체 인스턴스라면\n",
    "let constantsOfInstance = FixedLengthRange(startValue: 3, length: 4)\n",
    "// 아래와 같이 저장 프로퍼티를 수정하려고 하면 오류가 발생함\n",
    "constantsOfInstance.startValue = 0 // (X)\n",
    "```"
   ]
  },
  {
   "cell_type": "markdown",
   "metadata": {},
   "source": [
    "### 구조체 인스턴스와 저장 프로퍼티에서 변수 및 상수에 따른 변경 가능 여부를 정리하면 다음과 같다\n",
    "\n",
    "- #### 변수 인스턴스이면서 변수 저장 프로퍼티이면 \"값 변경 가능\"\n",
    "- #### 변수 인스턴스이면서 상수 저장 프로퍼티이면 \"값 변경 불가\"\n",
    "- #### 상수 인스턴스이면서 변수 저장 프로퍼티이면 \"값 변경 불가\"\n",
    "- #### 상수 인스턴스이면서 상수 저장 프로퍼티이면 \"값 변경 불가\""
   ]
  },
  {
   "cell_type": "markdown",
   "metadata": {},
   "source": [
    "### 반면 클래스는 이러한 주의점이 적용되지 않는다\n",
    "- #### 클래스 인스턴스를 상수에 할당하더라도 클래스 내에서 변수로 선언한 저장 프로퍼티는 얼마든지 값을 수정 할 수 있다\n",
    "\n",
    "### 이러한 차이는 구조체와 클래스의 값 전달 방식의 차이에서 비롯된다\n",
    "- #### 구조체는 값에 의한 전달 방식으로 인스턴스가 변수나 상수에 할당되고, 클래스는 참조에 의한 전달 방식으로 인스턴스의 래퍼런스가 변수나 상수에 할당되기 때문이다\n",
    "\n",
    "### 따라서 \n",
    "- #### 구조체는 저장 프로퍼티의 값이 바뀌면 상수에 할당된 인스턴스 전체가 변경된다\n",
    "- #### 클래스는 저장 프로퍼티의 값이 바뀌더라도 상수에 할당된 인스턴스 래퍼런스는 변경되지 않는다"
   ]
  }
 ],
 "metadata": {
  "kernelspec": {
   "display_name": "Python 3",
   "language": "python",
   "name": "python3"
  },
  "language_info": {
   "codemirror_mode": {
    "name": "ipython",
    "version": 3
   },
   "file_extension": ".py",
   "mimetype": "text/x-python",
   "name": "python",
   "nbconvert_exporter": "python",
   "pygments_lexer": "ipython3",
   "version": "3.7.1"
  }
 },
 "nbformat": 4,
 "nbformat_minor": 2
}
