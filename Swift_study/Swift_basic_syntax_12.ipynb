{
 "cells": [
  {
   "cell_type": "markdown",
   "metadata": {},
   "source": [
    "# 흐름 제어 구문\n",
    "## 코드의 활용성을 높여주는 도구들\n",
    "## 조건문"
   ]
  },
  {
   "cell_type": "markdown",
   "metadata": {},
   "source": [
    "### guard 구문\n",
    "- #### guard 구문은 if 구문과 마찬가지로 주어진 표현식의 결과가 참인지 거짓인지에 따라 구문의 실행 여부를 결정짓는 방식의 조건문\n",
    "- #### if 구문과의 차이점은 guard 구문에는 else 블록이 필수이지만, 표현식의 결과가 참일 때 실행되는 블록이 없다는 점이다\n",
    "\n",
    "```\n",
    "guard <조건식 또는 표현식> else {\n",
    "    <조건식 또는 표현식의 결과가 false일 때 실행될 코드>\n",
    "}\n",
    "```\n",
    "\n",
    "- #### guard 구문은 주로 후속 코드들이 실행되기 전에 특정 조건을 만족하는지 확인하는 용도\n",
    "    - #### 다시 말해 특정 조건을 만족하지 않은 채로 후속 코드를 실행하면 심각한 오류가 발생할 경우에, 전체 구문을 \"조기 종료(Early Exit)\"하기 위한 목적으로 사용\n",
    "    - #### 따라서 guard 구문의 else 블록에는 이후의 코드 진행을 막아주는 구문이 반드시 포함 되어야 한다\n",
    "        - return 또는 break 구문 등이 이에 해당\n",
    "- #### guard 구문은 보통 함수나 메소드에서 사용되는데, 이때에는 return 구문이 이같은 조기 종료 처리 역활을 한다\n",
    "\n",
    "```\n",
    "func divide(base: Int) {\n",
    "    let result = 100 / base\n",
    "    print(result)\n",
    "}\n",
    "```"
   ]
  },
  {
   "cell_type": "markdown",
   "metadata": {},
   "source": [
    "- 위 예제는 함수를 정의하는 구문\n",
    "    - #### 함수란, 값을 입력받아 정해진 처리를 하도록 정의된 기능 단위를 말한다\n",
    "    - 주어진 예제에서 divide라는 이름의 함수가 base 변수를 통해 입력받은 정수값으로 100을 나누고, 그 몫을 출력하는 과정을 정의하고 있다."
   ]
  },
  {
   "cell_type": "markdown",
   "metadata": {},
   "source": [
    "- 이 함수에서 주의해야 할 부분은 \"입역 받은 값을 이용하여 100을 나눈다는 점\"이다\n",
    "- 나눗셈에서 주의할 아주 유명한 수학적 전제가 하나 있는데, 바로 어떤 숫자이든지 0으로 나누어서는 안 된다는 것이다\n",
    "    - #### 이 점은 컴퓨터 연산에서도 마찬가지이다. 0을 제외한 모든 값은 나눗셈 연산에 사용할 수 있지만, 0으로 나눌 경우에는 오류가 발생한다\n",
    "        - #### 이를 \"Divide By Zero\" 오류라고 한다\n",
    "        - 따라서 입력받은 값이 0이 아닐 때에만 함수 내의 코드를 실행하고, 그렇지 않을 경우에는 함수의 실행을 중지해야 한다\n",
    "            #### 이런 경우를 제어하기 위해 다음과 같이 guard 구문을 사용한다\n",
    "            \n",
    "            ```\n",
    "            func divide(base:Int) {\n",
    "                \n",
    "                guard base != 0 else {\n",
    "                    print(\"연산할 수 없습니다\")\n",
    "                    return\n",
    "                }\n",
    "                \n",
    "                let result = 100 / base\n",
    "                print(result)\n",
    "            }\n",
    "            ```"
   ]
  },
  {
   "cell_type": "markdown",
   "metadata": {},
   "source": [
    "- #### 함수의 실행을 종료할 때에는 return 구문을 사용\n",
    "- #### return 구문이 실행되면 이후의 코드가 남아있더라도 더 이상 진행하지 않은 채로 함수가 종료된다\n",
    "    - #### 함수의 종료와 함께 반환해야 하는 값이 있다면 그 값을 반환하는 역활도 return 구문의 몫이다"
   ]
  },
  {
   "cell_type": "markdown",
   "metadata": {},
   "source": [
    "- #### divide 함수는 입력받은 인자값이 0이면 guard 구문의 조건을 만족하지 못한다\n",
    "    - 이 때에는 else 블록 내부에 작성된 return 구문이 실행되어 이후의 코드를 실행하지 않은 채로 종료된다\n",
    "    - 연산을 처리할 수 없다는 메시지도 출력\n",
    "    - #### 이후의 코드는 실행되지 않으므로 0으로 나누는 오류가 발생하지도 않는다.\n",
    "- #### 만약 인자값이 0이 아니라면 else 블록이 실행되지 않으니 guard 구문 이후의 코드가 실행되어 나누기 연산이 처리된다."
   ]
  },
  {
   "cell_type": "markdown",
   "metadata": {},
   "source": [
    "#### if 구문으로 대신할 수도 있다\n",
    "- #### guard 구문은 if 구문으로 대체할 수 있다\n",
    "\n",
    " ```\n",
    "    func divide(base: Int) {\n",
    "        \n",
    "        if base == 0 {\n",
    "            print(\"연산을 처리할 수 없습니다.\")\n",
    "            return\n",
    "        }\n",
    "        \n",
    "        let result = 100 / base\n",
    "        print(result)\n",
    "    }\n",
    "    ```\n",
    "    \n",
    "   "
   ]
  },
  {
   "cell_type": "markdown",
   "metadata": {},
   "source": [
    "#### 주의할 점은, guard 구문 대신 if 구문을 사용함으로 인해 조건식이 반대로 바뀐다는 것이다.\n",
    "- #### guard 구문에서는 나누기 연산을 위해 충족되어야 하는 조건을 사용\n",
    "- #### if 구문에서는 반대로 연산이 실패할 조건을 사용하여 함수를 종료하도록 처리하고 있음에 유의해서 작성해야 한다"
   ]
  },
  {
   "cell_type": "markdown",
   "metadata": {},
   "source": [
    "- 이처럼 guard 구문은 언뜻 보기에 if 구문으로 대체가 가능하기 때문에 그다지 필요 없어 보일수도 있다\n",
    "    - #### 하지만 guard 구문은 본래 실행 흐름을 종료하기 위한 목적으로 사용되는 구문이기 때문에, 코드를 중첩해서 사용하지 않아도 된다는 장점이 있다\n",
    "    - #### 이 점은 전체 코드를 굉장히 깔끔하고 단순하게 만들어준다\n",
    "        - guard 구문을 많이 사용해도 코드의 깊이가 깊어지지 않기 때문이다."
   ]
  },
  {
   "cell_type": "markdown",
   "metadata": {},
   "source": [
    "#### guard 구문을 이용하여 인자값을 다양한 조건으로 필터링하는 코드\n",
    "\n",
    "```\n",
    "func divide(base:Int) {\n",
    "    guard base != 0 else {\n",
    "        print(\"연산할 수 없습니다\")\n",
    "        return\n",
    "    }\n",
    "    guard base > 0 else {\n",
    "        print(\"base는 0보다 커야 합니다.\")\n",
    "        return\n",
    "    }\n",
    "    guard base < 100 else {\n",
    "        print(\"base는 100보다 작아야 합니다\")\n",
    "        return\n",
    "    }\n",
    "    let result = (100 / base)\n",
    "    print(result)\n",
    "}\n",
    "```"
   ]
  },
  {
   "cell_type": "markdown",
   "metadata": {},
   "source": [
    "- #### 이런 특성 때문에, 조건을 체크하여 실행 흐름을 종료시킬 때에는 가급적 guard 구문을 사용하는 것이 좋다\n",
    "- #### 조건을 체크하되 다른 실행 흐름을 이어나가고 싶은 경우에만 if ~ else 구문을 사용하면 된다."
   ]
  }
 ],
 "metadata": {
  "kernelspec": {
   "display_name": "Python 3",
   "language": "python",
   "name": "python3"
  },
  "language_info": {
   "codemirror_mode": {
    "name": "ipython",
    "version": 3
   },
   "file_extension": ".py",
   "mimetype": "text/x-python",
   "name": "python",
   "nbconvert_exporter": "python",
   "pygments_lexer": "ipython3",
   "version": "3.7.1"
  }
 },
 "nbformat": 4,
 "nbformat_minor": 2
}
