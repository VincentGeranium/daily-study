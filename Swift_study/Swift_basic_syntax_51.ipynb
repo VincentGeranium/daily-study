{
 "cells": [
  {
   "cell_type": "markdown",
   "metadata": {},
   "source": [
    "# 함수 (Function)\n",
    "## 클로저 (Closure)"
   ]
  },
  {
   "cell_type": "markdown",
   "metadata": {},
   "source": [
    "- #### 스위프트에서 클로저는 일회용 함수를 작성할 수 있는 구문이다\n",
    "\n",
    "### 일회용 함수\n",
    "- #### 한 번만 사용할 구문들의 집합이면서, 그 형식은 함수로 작성되어야 하는 제약조건이 있을 때 만들어 사용할 수 있는 함수를 이야기 한다\n",
    "- #### 전통적인 명령형 언어에서는 모든 함수에 이름이 부여되어야 하지만 일회용 함수는 한 번만 사용하면 되므로 굳이 함수의 이름을 작성할 필요 없이 생략된다\n",
    "    - #### 이러한 점에서 \"익명 함수(Anonymous Function)\"라고 부르기도 한다"
   ]
  },
  {
   "cell_type": "markdown",
   "metadata": {},
   "source": [
    "#### 현존하는 많은 프로그래밍 언어에서 다양한 방식으로 일회용 함수를 제공하는데, 대표적인 예는 다음과 같다\n",
    "\n",
    "- #### 언어 : Objective - C , 일회용 함수: Block(블록)\n",
    "- #### 언어 : JavaScript , 일회용 함수 : Anonymous Function (익명 함수)\n",
    "- #### 언어 : Java , 일회용 함수 : Lambda Function(람다 함수)\n",
    "- #### 언어 : Python , 일회용 함수 : Lambda Function(람다 함수)\n",
    "- #### 언어 : Lisp , 일회용 함수 : Lambda Function(람다 함수)\n",
    "- #### 언어 : Swift , 일회용 함수 : Closure(클로저)"
   ]
  },
  {
   "cell_type": "markdown",
   "metadata": {},
   "source": [
    "- 위 표현들 중에서 Block과 Closure를 제외하면 모두 비슷한 표현들이다\n",
    "- 프로그래밍 언어에서는 Lambda를 익명 형식이라고 해석하는 경우도 있고, 축약형이라고 해석하는 경우도 있기 때문이다\n",
    "    - #### 그러니 혹시라도 익명 함수와 람다 함수는 다르다고 생각하지 말자"
   ]
  },
  {
   "cell_type": "markdown",
   "metadata": {},
   "source": [
    "### 클로저는 자신이 정의되었던 문맥(Context)으로부터, 모든 상수와 변수의 값을 캡쳐하거나 래퍼런스를 저장하는 익명 함수라고 할 수 있다\n",
    "### 사실 스위프트에서 익명 함수를 클로저라고 부르게 된 것도, 이러한 함수형 언어에서의 클로저 개념을 사용하고 있기 때문이라고 할 수 있다"
   ]
  },
  {
   "cell_type": "markdown",
   "metadata": {},
   "source": [
    "#### 스위프트에서 클로저라고 부르는 객체는 대부분 다음 세 가지 경우 중 하나에 해당한다\n",
    "\n",
    "- #### 1. 전역 함수 -> 이름이 있으며, 주변 환경에서 캡처할 어떤 값도 없는 클로저\n",
    "- #### 2. 중첩 함수 -> 이름이 있으며, 자신을 둘러싼 함수로부터 값을 캡처할 수 있는 클로저\n",
    "- #### 3. 클로저 표현식 -> 이름이 없으며, 주변 환경으로부터 값을 캡처할 수 있는 경량 문법으로 작성된 클로저"
   ]
  }
 ],
 "metadata": {
  "kernelspec": {
   "display_name": "Python 3",
   "language": "python",
   "name": "python3"
  },
  "language_info": {
   "codemirror_mode": {
    "name": "ipython",
    "version": 3
   },
   "file_extension": ".py",
   "mimetype": "text/x-python",
   "name": "python",
   "nbconvert_exporter": "python",
   "pygments_lexer": "ipython3",
   "version": "3.7.1"
  }
 },
 "nbformat": 4,
 "nbformat_minor": 2
}
