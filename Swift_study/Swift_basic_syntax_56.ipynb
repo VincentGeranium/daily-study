{
 "cells": [
  {
   "cell_type": "markdown",
   "metadata": {},
   "source": [
    "# 함수 (Function)\n",
    "## 클로저 (Closure)\n",
    "## @escaping 과 @autoclosure"
   ]
  },
  {
   "cell_type": "markdown",
   "metadata": {},
   "source": [
    "### @autoclosure\n",
    "\n",
    "- ### @autoclosure 속성은 인자값으로 전달된 일반 구문이나 함수 등을 클로저로 래핑(Wrapping)하는 역활을 한다\n",
    "    - #### 쉽게 말해 이 속성이 붙어 있을 경우, 일반 구문을 인자값으로 넣더라도 컴파일러가 알아서 클로저로 만들어 사용한다"
   ]
  },
  {
   "cell_type": "markdown",
   "metadata": {},
   "source": [
    "- #### 이 속성을 적용하면 인자값을 '{ }'형태가 아니라 '( )'형태로 사용할 수 있다는 장점이 있다\n",
    "    - #### 인자값을 직접 클로저 형식으로 넣어줄 필요가 없기 때문이다\n",
    "    \n",
    "### 이는 코드를 조금 더 이해하기 쉬운 형태로 만들어 준다. 다음을 보자\n",
    "\n",
    "```\n",
    "// 함수의 정의\n",
    "func cindition(stmt: () -> Bool) {\n",
    "    if stmt() == true {\n",
    "        print(\"결과가 참입니다.\")\n",
    "    } else {\n",
    "        print(\"결과가 거짓입니다.\")\n",
    "    }\n",
    "}\n",
    "```"
   ]
  },
  {
   "cell_type": "markdown",
   "metadata": {},
   "source": [
    "- 함수 condition(stmt:)는 참/거짓을 반환하는 클로저를 인자값으로 전달받고 그 결과값을 문장으로 출력해 주는 역활을 한다\n",
    "- 현재까지는 이 함수를 실행하고자 하는 경우, 다음의 두 가지 방법을 사용할 수 있었다\n",
    "\n",
    "```\n",
    "// 실행방법 1 : 일반 구문\n",
    "condition(stmt: { \n",
    "    4 > 2\n",
    "})\n",
    "```\n",
    "\n",
    "```\n",
    "// 실행 방법 2 : 클로저 구문\n",
    "condition {\n",
    "    4 > 2\n",
    "}\n",
    "```"
   ]
  },
  {
   "cell_type": "markdown",
   "metadata": {},
   "source": [
    "- 작성된 실행 방법 1,2에서 실제 전달하고 싶은 것은 '4 > 2'구문이다\n",
    "- #### 하지만 일반 실행 구문이나 트레일링 클로저 어느 것을 적용하더라도, 원하는 구문을 '{ }'형태로 감싸 클로저 형태로 만든 다음에 인자값으로 전달해야 한다\n",
    "    - #### 인자값의 입력 타입이 반드시 클로저이어야 하기 때문이다\n",
    "\n",
    "### 하지만 @autoclosure 속성을 붙이면 이같은 제약이 사라지고, 구문만 인자값으로 전달해줄 수 있게 된다\n",
    "\n",
    "```\n",
    "func condition(stmt: @autoclosure () -> Bool) {\n",
    "    if stmt() == true {\n",
    "        print(\"결과가 참입니다\")\n",
    "    } else {\n",
    "        print(\"결과가 거짓입니다.\")\n",
    "    }\n",
    "}\n",
    "```"
   ]
  },
  {
   "cell_type": "markdown",
   "metadata": {},
   "source": [
    "- #### 매개변수에 @autoclosure 속성을 적용. 적용하는 위치는 @escaping 과 동일하게 함수 타입 정의 앞이어야 한다\n",
    "- #### 이렇게 속성을 적용하고 나면 함수 condition(stmt:)는 다음과 같은 방식으로 호출할 수 있게 된다\n",
    "    - #### 반드시 다음과 같이 호출해야 한다 @autoclosure 속성의 영향으로, 더이상 일반 클로저를 인자값으로 사용할 수 없기 때문이다\n",
    "- #### 같은 이유로, 클로저일 때 사용할 수 있는 트레일링 클로저 구문도 @autoclosure 속성이 붙고나면 더이상 사용할 수 없다\n",
    "\n",
    "### 실행 방법\n",
    "\n",
    "```\n",
    "condition(stmt: (4 > 2))\n",
    "```"
   ]
  },
  {
   "cell_type": "markdown",
   "metadata": {},
   "source": [
    "### 핵심은 하나이다. 클로저가 아니라 그 안에 들어가는 내용만 인자값으로 넣어줄 뿐이다\n",
    "- #### 이렇게 전달된 인자값은 컴파일러가 자동으로 클로저 형태로 감싸 처리해주게 된다\n",
    "- #### 이 속성에 대한 설명 중에서 인자값을 '{ }' 형태가 아닌 '( )'형태로 사용할 수 있도록 해준다는 것은 바로 이같은 의미이다\n",
    "    - #### 인자값으로 클로저를 넣는 것보다 훨씬 자연스럽고 익숙한 구문으로 사용할 수 있다"
   ]
  },
  {
   "cell_type": "markdown",
   "metadata": {},
   "source": [
    "### @autoclosure 속성과 관련하여 알아두어야 할 개념이 하나 있다\n",
    "### 바로 '지연된 실행'이다\n",
    "\n",
    "```\n",
    "// 빈 배열 정의\n",
    "var arrs = [String]()\n",
    "\n",
    "func addVars(fn: @autoclosure () -> Void) {\n",
    "    // 배열 요소를 3개까지 추가하여 초기화\n",
    "    arr = Array(repeating:\"\", count: 3)\n",
    "    // 인자값으로 전달된 클로저 실행\n",
    "    fn()\n",
    "}\n",
    "\n",
    "// 구문 1: 아래 구문은 오류가 발생한다\n",
    "arrs.insert(\"KR\" , at: 1)\n",
    "```"
   ]
  },
  {
   "cell_type": "markdown",
   "metadata": {},
   "source": [
    "### 문자열을 요소로 가지는 빈 배열 arrs를 정의하였다\n",
    "- #### 아직 초기화만 되어 있을 뿐 내용은 모두 비어 있는 상태로, addVars(fn:) 함수 내부에서는 이 배열의 사이즈를 3으로 확장하고 빈 값들로 초기화한다\n",
    "- #### 즉, addVars(fn:) 함수가 실행되기 전까지 이 함수의 인덱스는 0까지 밖에 없다는 것이다\n",
    "- ### 이 때문에 맨 마지막에 작성된 arrs.insert(at:)매소드는 오류가 발생하게 된다\n",
    "- #### 마지막 구문의 내용은 arrs 배열의 두번째 인덱스 위치에 \"KR\"값을 입력하는 것인데, 아직 배열의 인덱스가 그만큼 확장되어 있지 않기 때문이다."
   ]
  },
  {
   "cell_type": "markdown",
   "metadata": {},
   "source": [
    "### 아래에 다음과 같은 구문을 추가해 보자\n",
    "- ### 동일한 구문이지만, 이를 함수 addVars(fn:)의 인자값으로 넣는다\n",
    "\n",
    "```\n",
    "// 구문 2 : 아래 구문은 오류가 발생하지 않는다\n",
    "addVars(fn: arrs.insert(\"KR\",at: 1))\n",
    "```"
   ]
  },
  {
   "cell_type": "markdown",
   "metadata": {},
   "source": [
    "### 이 구문은 오류가 발생하지 않는다\n",
    "\n",
    "- ### 이것이 바로 \"지연된 실행\"이다\n",
    "- ### 원래 구문은 작성하는 순간에 실행되는 것이 맞지만, 함수 내에 작성된 구문은 함수가 실행되기 전까지는 실행되지 않는다\n",
    "- ### @autoclosure 속성이 부여된 인자값은 보기엔 일반 구문 형태이지만 컴파일러에 의해 클로저, 즉 함수로 감싸진다 \n",
    "- #### 때문에 위와 같이 작성해도 addVars(fn:)함수 실행 전까지는 실행되지 않는다\n",
    "- #### 해당 구문이 실행될 때에는 이미 배열의 인덱스가 확장된 후이므로 오류도 발생하지 않는다"
   ]
  },
  {
   "cell_type": "markdown",
   "metadata": {},
   "source": [
    "### 정리\n",
    "- ### @autoclosure 속성이 인자값에 부여되면 해당 인자값은 컴파일러에 의해 클로저로 자동 래핑된다\n",
    "    - #### 이 때문에 함수를 실행할 때에는 '{ }'형식의 클로저가 아니라 '( )'형식의 일반값을 인자값으로 사용해야 한다\n",
    "- ### 또한 인자값은 코드에 작성된 시점이 아니라 해당 클로저가 실행되는 시점에 맞추어 실행된다\n",
    "    - ### 이를 지연된 실행이라 부르며, @autoclosure 속성이 가지는 주요한 특징 중의 하나라고 할 수 있다"
   ]
  }
 ],
 "metadata": {
  "kernelspec": {
   "display_name": "Python 3",
   "language": "python",
   "name": "python3"
  },
  "language_info": {
   "codemirror_mode": {
    "name": "ipython",
    "version": 3
   },
   "file_extension": ".py",
   "mimetype": "text/x-python",
   "name": "python",
   "nbconvert_exporter": "python",
   "pygments_lexer": "ipython3",
   "version": "3.7.1"
  }
 },
 "nbformat": 4,
 "nbformat_minor": 2
}
