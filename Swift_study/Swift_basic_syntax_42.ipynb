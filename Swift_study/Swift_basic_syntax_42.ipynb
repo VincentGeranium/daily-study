{
 "cells": [
  {
   "cell_type": "markdown",
   "metadata": {},
   "source": [
    "# 함수 (Function)\n",
    "## 매개변수\n",
    "### 기본값을 갖는 매개변수"
   ]
  },
  {
   "cell_type": "markdown",
   "metadata": {},
   "source": [
    "- #### 함수의 매개변수에는 유용한 기능이 있는데, 바로 기본값을 지정할 수 있다는 것이다\n",
    "- #### 스위프트는 함수를 호출할 때 반드시 직접 입력받아야 하는 값이 아니라면 인자값을 생략할 수 있도록, 함수 정의 시 매개변수에 기본값을 지정할 수 있는 문법을 제공한다\n",
    "- #### 이렇게 작성된 매개변수는 호출 시 인자값을 생략할 수 있다"
   ]
  },
  {
   "cell_type": "markdown",
   "metadata": {},
   "source": [
    "### 기본값을 갖는 매개변수 형식\n",
    "### 매개변수 호출 시 인자값을 생략할 수 있는 형식\n",
    "\n",
    "```\n",
    "func 함수 이름(매개변수: 매개변수 타입 = 기본값) {\n",
    "    실행할 내용\n",
    "}\n",
    "```"
   ]
  },
  {
   "cell_type": "markdown",
   "metadata": {},
   "source": [
    "- ### 함수를 정의할 때 매개변수의 이름과 매개변수 타입 다음에 대입 연산자인 '='를 추가하고, 이어서 기본값을 작성한다\n",
    "    - ### 이렇게 기본값이 입력된 매개변수는 인자값을 생략할 수 있다"
   ]
  },
  {
   "cell_type": "markdown",
   "metadata": {},
   "source": [
    "### 매개변수에 기본값이 지정된 함수의 예시\n",
    "\n",
    "```\n",
    "func echo(message: String, newline: Bool = true ) {\n",
    "    if newline == true {\n",
    "        print(message, true)\n",
    "    } else {\n",
    "        print(message, false)\n",
    "    }\n",
    "}\n",
    "```"
   ]
  },
  {
   "cell_type": "markdown",
   "metadata": {},
   "source": [
    "- #### 작성된 echo 함수는 첫 번째 인자값으로 출력할 메시지를 입력 받는다\n",
    "- #### 두 번째 인자값으로 줄 바꿈 처리 여부를 결정한다\n",
    "    - #### 두 번째 인자값이 false이면 줄 바꿈 하지 않고, true일 때만 줄 바꿈 처리를 하는 것이다"
   ]
  },
  {
   "cell_type": "markdown",
   "metadata": {},
   "source": [
    "- #### 이 때문에 줄 바꿈 여부에 대한 두 번째 인자값은 매번 똑같은 값을 넣어주어야 하는 , 거추장스러운 인자값이다\n",
    "    - #### 이런 경우 두 번째 인자값에 기본값을 할당해주면 일반적인 출력 구문을 원할 때 단순히 출력할 메시지만 입력해주면 된다\n",
    "    - #### 굳이 줄 바꿈을 하지 않고자 할 경우에만 두 번째 인자값에 false를 할당해주면 된다"
   ]
  },
  {
   "cell_type": "markdown",
   "metadata": {},
   "source": [
    "### 호출 구문\n",
    "#### 줄 바꿈 되도록 메시지를 출력하는 다음 두개의 구문은 같은 결과를 나타낸다\n",
    "\n",
    "```\n",
    "echo(message: \"안녕하세요\") - 1\n",
    "echo(message: \"안녕하세요\", newline:true) - 2\n",
    "```"
   ]
  },
  {
   "cell_type": "markdown",
   "metadata": {},
   "source": [
    "- ### 1번째 구문은 두 번째 인자값이 생략된 호출이다\n",
    "    - ### 값이 생략되어 있으므로 기본값 true가 두 번째 매개변수에 할당된다\n",
    "- ### 반면에 2번째 구문은 두 번째 인자값이 명시적으로 포함된 호출이다\n",
    "    - ### 입력된 인자값이 true가 매개변수에 직접 할당된다\n",
    "\n",
    "### 결국 두 구문은 입력된 인자값이 내부적으로 동일하므로 실행 결과 역시 같다"
   ]
  },
  {
   "cell_type": "markdown",
   "metadata": {},
   "source": [
    "### 위의 호출 구문과 다른 결과값을 갖는 호출 구문\n",
    "\n",
    "```\n",
    "echo(message:\"안녕하세요\", newline: false)\n",
    "```"
   ]
  },
  {
   "cell_type": "markdown",
   "metadata": {},
   "source": [
    "- #### 이 구문은 줄 바꿈을 하지 않기 위한 호출 구문\n",
    "- #### 두 번째 인자값에 명시적으로 false를 할당해주었으므로 줄 바꿈 처리가 되지 않는다\n",
    "- ### 이 경우에는 두 번째 인자값을 생략하면 원하는 결과를 얻을 수 없다"
   ]
  },
  {
   "cell_type": "markdown",
   "metadata": {},
   "source": [
    "- #### 사실 매개변수에 기본값을 제공하도록 함수를 정의하면 함수는 두 가지 형식으로 모두 생성된다고 생각하는 편이 좋다\n",
    "    - #### 인자값을 입력받지 않는 매개변수는 없는 것이나 마찬가지이기 때문이다"
   ]
  },
  {
   "cell_type": "markdown",
   "metadata": {},
   "source": [
    "### 따라서 두 번째 매개변수에 기본값을 작성한 위 echo 함수는 다음과 같은 두 가지 형식으로 생성된다\n",
    "\n",
    "```\n",
    "echo(message: String)\n",
    "echo(message: String, newline: Bool)\n",
    "```"
   ]
  }
 ],
 "metadata": {
  "kernelspec": {
   "display_name": "Python 3",
   "language": "python",
   "name": "python3"
  },
  "language_info": {
   "codemirror_mode": {
    "name": "ipython",
    "version": 3
   },
   "file_extension": ".py",
   "mimetype": "text/x-python",
   "name": "python",
   "nbconvert_exporter": "python",
   "pygments_lexer": "ipython3",
   "version": "3.7.1"
  }
 },
 "nbformat": 4,
 "nbformat_minor": 2
}
