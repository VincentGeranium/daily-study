{
 "cells": [
  {
   "cell_type": "markdown",
   "metadata": {},
   "source": [
    "# 구조체와 클래스\n",
    "## 객체지향 스위프트\n",
    "## 메소드(Method)"
   ]
  },
  {
   "cell_type": "markdown",
   "metadata": {},
   "source": [
    "### 메소드(Method)는 일종의 함수\n",
    "- #### 클래스나 구조체, 열거형과 같은 객체 내에서 함수가 선언 될 경우 이를 메소드라 통칭한다\n",
    "- #### 즉, 메소드는 특정 타입의 객체 내부에서 사용하는 함수라고 할 수 있다\n",
    "\n",
    "### 함수와 메소드의 차이점은 구현 목적이 가지는 독립성과 연관성에 있다\n",
    "- #### 함수는 독립적인 기능을 구현하기 위해 만들어진 것이다\n",
    "- #### 메소드는 하나의 객체 내에 정의된 다른 메소드들과 서로 협력해서 함수적인 기능을 수행한다"
   ]
  },
  {
   "cell_type": "markdown",
   "metadata": {},
   "source": [
    "### 메소드는 크게 인스턴스 메소드(Instance Method)와 타입 메소드(Type Method)로 구분된다\n",
    "- #### 객체의 인스턴스를 생성해야 사용할 수 있는 메소드가 인스턴스 메소드(Instance Method)\n",
    "    - #### 인스턴스 메소드는 주어진 객체의 인스턴스와 함께 특수한 임무나 함수적인 기능을 수행하도록 캡슐화된 메소드\n",
    "- #### 객체의 인스턴스를 생성하지 않아도 사용할 수 있는 메소드가 타입 메소드(Type Method)\n",
    "    - #### 타입 메소드는 객체 타입 자체에 관련된 메소드"
   ]
  },
  {
   "cell_type": "markdown",
   "metadata": {},
   "source": [
    "### 객체는 원형 또는 틀이며 인스턴스는 그 틀을 이용하여 만들어낸 실질적이고 구체적인 것이다\n",
    "- #### 두 가지 종류의 메소드도 여기에서 크게 벗어나지 않는다\n",
    "    - #### 원형이나 틀에 관련된 메소드가 타입 메소드\n",
    "    - #### 틀을 이용하여 만들어 낸 구체적이고 실질적인 것에 관련된 메소드가 인스턴스 메소드"
   ]
  },
  {
   "cell_type": "markdown",
   "metadata": {},
   "source": [
    "### 인스턴스 메소드는 객체 타입 자체로는 호출할 수 없다\n",
    "- #### 반드시 인스턴스를 생성한 후에야 호출할 수 있다는 점에서 객체 타입 상태에서도 호출할 수 있는 타입 메소드와 구분된다\n",
    "\n",
    "### 타입 메소드는 Objective-C에서의 클래스 메소드(Class Method)와 유사하다"
   ]
  },
  {
   "cell_type": "markdown",
   "metadata": {},
   "source": [
    "### 클래스의 메소드와 구조체의 메소드는 크게 다르지 않다\n",
    "- #### 수정 여부에 대한 몇 가지 항목을 제외하면 단순히 클래스 내에서 정의되었거나 구조체 내에서 정의되었다는 점만 다를 뿐, 나머지 특징은 모두 비슷하다"
   ]
  }
 ],
 "metadata": {
  "kernelspec": {
   "display_name": "Python 3",
   "language": "python",
   "name": "python3"
  },
  "language_info": {
   "codemirror_mode": {
    "name": "ipython",
    "version": 3
   },
   "file_extension": ".py",
   "mimetype": "text/x-python",
   "name": "python",
   "nbconvert_exporter": "python",
   "pygments_lexer": "ipython3",
   "version": "3.7.1"
  }
 },
 "nbformat": 4,
 "nbformat_minor": 2
}
