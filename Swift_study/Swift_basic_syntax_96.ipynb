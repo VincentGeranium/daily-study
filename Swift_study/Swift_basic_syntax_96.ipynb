{
 "cells": [
  {
   "cell_type": "markdown",
   "metadata": {},
   "source": [
    "# 열거형과 익스텐션(Enumeration and Extensions)\n",
    "## 코드의 한계를 넓혀주는 문법\n",
    "## 익스텐션(Extensions)"
   ]
  },
  {
   "cell_type": "markdown",
   "metadata": {},
   "source": [
    "## 익스텐션과 연산 프로퍼티"
   ]
  },
  {
   "cell_type": "markdown",
   "metadata": {},
   "source": [
    "### 익스텐션을 이용하면 기존 객체에 프로퍼티를 추가할 수 있다\n",
    "- #### 단, 추가할 수 있는 것은 연산 프로퍼티로 제한된다\n",
    "- #### 저장 프로퍼티는 익스텐션을 통해 추가할 수 없다\n",
    "- #### 대신 인스턴스 프로퍼티든 타입 프로퍼티든 연산 프로퍼티라면 모두 추가할 수 있다"
   ]
  },
  {
   "cell_type": "markdown",
   "metadata": {},
   "source": [
    "### 자료형 Double의 구조체 확장 구문\n",
    "\n",
    "```\n",
    "extension Double {\n",
    "    var km: Double { return self * 1_00.0}\n",
    "    var m: Double { return self }\n",
    "    var cm : Double { return self / 100.0 }\n",
    "    var mm : Double { return self / 1_000.0 }\n",
    "    var description : String {\n",
    "        return \"\\(self)km는 \\(self.km)m, \\(self)cm는 \\(self.cm)m, \\(self)mm는 \\(self.mm)m입니다\"\n",
    "    }\n",
    "}\n",
    "```"
   ]
  },
  {
   "cell_type": "markdown",
   "metadata": {},
   "source": [
    "- #### 구조체는 익스텐션에 의해 확장될 수 있다\n",
    "    - #### 그리고 소스 코드를 직접 수정할 수 없는 객체라 할지라도 익스텐션을 통해 주어진 조건 안에서는 얼마든지 필요한 만큼 객체의 기능을 확장 할 수 있으므로 기본 자료형인 Double 타입 역시 확장 구문을 사용하여 기능을 추가할 수 있다"
   ]
  },
  {
   "cell_type": "markdown",
   "metadata": {},
   "source": [
    "### 위 예제에서는 모두 네 개의 연산 프로퍼티를 추가하고 있는데, 이들 각각은 Double 타입으로 정의된 값에 대해 단위 변환을 처리해주는 역활이다\n",
    "- #### 입력된 실수값의 기본 단위를 미터(m)로 잡고, 이 값에 대한 단위별 프로퍼티를 호출하면 그 단위에 맞는 미터값으로 변경해주는 일을 한다\n",
    "- #### 이렇게 익스텐션을 사용하여 Double 자료형을 확장하고 나면 이후로는 모든 실수값에서 우리가 추가한 기능들을 사용할 수 있다\n",
    "\n",
    "```\n",
    "2.km // 2000m\n",
    "5.5.cm // 0.055m\n",
    "125.mm // 0.125m\n",
    "7.0.description // \"7.0km는 7000.0m, 7.0cm는  0.07m, 7.0mm는  0.007m입니다.\"\n",
    "```"
   ]
  },
  {
   "cell_type": "markdown",
   "metadata": {},
   "source": [
    "### 이런 식으로 자료형의 기능을 확장해놓으면 다음과 같이 각 단위별로 값을 더해야 할 때면 매우 편리하다\n",
    "\n",
    "```\n",
    "let distance = 42.0.km +195.m\n",
    "print(\"마라톤의 총 거리는 \\(distance)m입니다.\")\n",
    "// \"마라톤의 총 거리는 42195.0m 입니다.\"\n",
    "```"
   ]
  },
  {
   "cell_type": "markdown",
   "metadata": {},
   "source": [
    "- 참고로 연산 프로퍼티를 정의하는 과정에서 숫자에 1_000처럼 언더바가 추가된 부분이 있는데, 이는 단순히 자릿수를 구분해주기 위해 넣은 것이다.\n",
    "- 언더바를 사용하지 않고 표기한 것과 아무런 차이가 없다\n",
    "\n",
    "```\n",
    "1_000 == 1000 // true\n",
    "1_00_0 == 100_0 // true\n",
    "1_0_0_0 == 1000 // true\n",
    "10_00 == 100_0 // true\n",
    "```"
   ]
  }
 ],
 "metadata": {
  "kernelspec": {
   "display_name": "Python 3",
   "language": "python",
   "name": "python3"
  },
  "language_info": {
   "codemirror_mode": {
    "name": "ipython",
    "version": 3
   },
   "file_extension": ".py",
   "mimetype": "text/x-python",
   "name": "python",
   "nbconvert_exporter": "python",
   "pygments_lexer": "ipython3",
   "version": "3.7.1"
  }
 },
 "nbformat": 4,
 "nbformat_minor": 2
}
