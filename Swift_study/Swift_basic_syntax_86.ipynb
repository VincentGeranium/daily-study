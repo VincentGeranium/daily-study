{
 "cells": [
  {
   "cell_type": "markdown",
   "metadata": {},
   "source": [
    "# 구조체와 클래스\n",
    "## 객체지향 스위프트\n",
    "## 초기화 구문(Initializer syntax)\n",
    "## 초기화 구문의 오버라이딩\n",
    "## 초기화 구문 델리게이션 (Initializer Delegation)"
   ]
  },
  {
   "cell_type": "markdown",
   "metadata": {},
   "source": [
    "### 만약 ExBase를 상속받은 자식 클래스가 init(inputValue:) 구문을 다시 오버라이드하면 이때도 마찬가지로 super.init(inputValue:)를 호출하여 부모 클래스의 초기화 구문을 호출해야 한다\n",
    "- #### 호출된 부모 클래스의 초기화 구문은 다시 상위의 초기화 구문을 호출하고, 상위의 초기화 구문은 다시 그 상위의 초기화 구문을 호출한다\n",
    "- #### 이처럼 상위 초기화 구문의 호출이 연속으로 이어지면 최상위에 있는 초기화 구문까지 호출이 이어지면서, 모든 초기화 구문이 누락되는 일 없이 실행된다"
   ]
  },
  {
   "cell_type": "markdown",
   "metadata": {},
   "source": [
    "### 이처럼 연쇄적으로 오버라이딩된 자식 클래스의 초기화 구문에서 부모 클래스의 초기화 구문에 대한 호출이 발생하는 것을 \"초기화 구문 델리게이션(Initializer Delegation)\"이라고 한다\n",
    "- #### 기본 초기화 구문을 제외한 나머지 초기화 구문을 오버라이딩할 때는 반드시 부모 클래스의 초기화 구문을 호출함으로써 델리게이션 처리를 해 주어야 한다\n",
    "- #### 기본 초기화 구문의 경우는 주어진 상황별로 조금씩 다르다"
   ]
  },
  {
   "cell_type": "markdown",
   "metadata": {},
   "source": [
    "### 부모 클래스에 기본 초기화 구문만 정의되어 있거나 기본 초기화 구문이 아예 명시적으로 정의되어 있지 않은 상태에서 자식 클래스가 오버라이딩할 때에는 super.init() 구문을 호출해주지 않아도 자동으로 부모 클래스의 초기화 구문이 호출된다\n",
    "- #### 이때 초기화 구문의 호출은 자식 클래스부터 역순으로 이루어진다\n",
    "\n",
    "```\n",
    "class Base {\n",
    "    var baseValue: Double\n",
    "    \n",
    "    init() {\n",
    "        self.baseValue = 0.0\n",
    "        print(\"Base Init\")\n",
    "    }\n",
    "}\n",
    "\n",
    "class ExBase: Base {\n",
    "    override init() {\n",
    "        print(\"ExBase Init\")\n",
    "    }\n",
    "}\n",
    "\n",
    "    \n",
    "let ex = ExBase()\n",
    "\n",
    "[실행 결과]\n",
    "ExBase Init\n",
    "Base Init\n",
    "```"
   ]
  },
  {
   "cell_type": "markdown",
   "metadata": {},
   "source": [
    "### 부모 클래스에 기본 초기화 구문 외에 다른 형식의 초기화 구문이 추가되어 있다면, 자식 클래스에서 기본 초기화 구문을 오버라이딩할 때 명시적으로 부모 클래스의 기본 초기화 구문을 호출해야 한다"
   ]
  },
  {
   "cell_type": "markdown",
   "metadata": {},
   "source": [
    "```\n",
    "class Base {\n",
    "    var baseValue: Double\n",
    "    \n",
    "    init() {\n",
    "        self.baseValue = 0.0\n",
    "        print(\"Base Init\")\n",
    "    }\n",
    "    \n",
    "    init(baseValue: Double) {\n",
    "        self.baseValue = baseValue\n",
    "    }\n",
    "}\n",
    "\n",
    "class ExBase: Base {\n",
    "    override init() {\n",
    "        super.init()\n",
    "        print(\"ExBase Init\")\n",
    "    }\n",
    "}\n",
    "```"
   ]
  }
 ],
 "metadata": {
  "kernelspec": {
   "display_name": "Python 3",
   "language": "python",
   "name": "python3"
  },
  "language_info": {
   "codemirror_mode": {
    "name": "ipython",
    "version": 3
   },
   "file_extension": ".py",
   "mimetype": "text/x-python",
   "name": "python",
   "nbconvert_exporter": "python",
   "pygments_lexer": "ipython3",
   "version": "3.7.1"
  }
 },
 "nbformat": 4,
 "nbformat_minor": 2
}
