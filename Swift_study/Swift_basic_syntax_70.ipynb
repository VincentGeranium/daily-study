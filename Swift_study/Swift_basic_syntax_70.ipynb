{
 "cells": [
  {
   "cell_type": "markdown",
   "metadata": {},
   "source": [
    "# 구조체와 클래스\n",
    "## 객체지향 스위프트\n",
    "## 프로퍼티(Property)"
   ]
  },
  {
   "cell_type": "markdown",
   "metadata": {},
   "source": [
    "## 연산 프로퍼티(Computed Property)"
   ]
  },
  {
   "cell_type": "markdown",
   "metadata": {},
   "source": [
    "### 클래스와 구조체에서는 저장 프로퍼티 외에도 연산 프로퍼티를 정의하여 사용할 수 있다\n",
    "- #### \"연산 프로퍼티(Computed Property)\"는 필요한 값을 제공한다는 점에서 저장 프로퍼티와 같다\n",
    "    - #### 하지만 실제 값을 저장했다가 반환하지 않고 대신 다른 프로퍼티의 값을 연산 처리하여 간접적으로 값을 제공한다\n",
    "        - #### 이때 프로퍼티의 값을 참조하기 위해 내부적으로 사용하는 구문이 get 구문이다\n",
    "- #### 함수와 비슷해서 내부적으로 return 키워드를 사용하여 값을 반환하는데, 여기서 반횐되는 값이 프로퍼티가 제공하는 값이 된다"
   ]
  },
  {
   "cell_type": "markdown",
   "metadata": {},
   "source": [
    "### 또한, 연산 프로퍼티는 선택적으로 set 구문을 추가할 수도 있다\n",
    "- #### 이는 연산 프로퍼티에 값을 할당하거나 변경하고자 할 때 실행되는 구문이다\n",
    "- #### 연산 프로퍼티 자체가 값을 저장하지는 않으므로 이때 할당되는 값은 연산의 중요한 요소로 사용된다\n",
    "- #### 선택적이라는 조건이 붙은 만큼 set 구문은 필요에 따라 연산 프로퍼티에서 생략할 수 있다\n",
    "- #### set 구문이 생략되면 외부에서 연산 프로퍼티에 값을 할당할 수 없으며, 내부적인 연산 처리를 통해 값을 제공받는 읽기 전용 프로퍼티가 만들어진다\n",
    "\n",
    "### 하지만 get 구문은 연산 프로퍼티에서 필수 요소이다\n",
    "- #### get 구문이 생략된다면 연산 프로퍼티가 값을 반환하는 기능 자체를 갖지 못하기 때문이다"
   ]
  },
  {
   "cell_type": "markdown",
   "metadata": {},
   "source": [
    "### 연산 프로퍼티의 정의 형식은 저장 프로퍼티의 정의 형식과 많이 다르다\n",
    "### 오히려 함수와 일부 비슷한 모습이다\n",
    "- #### 연산 프로퍼티를 정의할 때에는 다음과 같이 프로퍼티 이름과 타입에 이어서 중괄호로 된 실행 블록을 덧붙인다\n",
    "- #### 실행 블록 내부에는 get 구문과 set 구문을 작성한다\n",
    "- #### 경우에 따라 set 구문은 생략할 수 있다\n",
    "- #### 연산 프로퍼티는 항상 클래스나 구조체, 또는 열거형 내부에서만 사용할 수 있다\n",
    "\n",
    "### 연산 프로퍼티 정의 형식\n",
    "\n",
    "```\n",
    "class/struct/enum 객체명 {\n",
    "    ...\n",
    "    var 프로퍼티명 : 타입 {\n",
    "        get {\n",
    "            필요한 연산 과정\n",
    "            return 반환값\n",
    "        }\n",
    "        set(매개변수명) {\n",
    "            필요한 연산구문\n",
    "        }\n",
    "    }\n",
    "}\n",
    "```"
   ]
  },
  {
   "cell_type": "markdown",
   "metadata": {},
   "source": [
    "### 연산 프로퍼티는 다른 프로퍼티에 의존적이거나, 혹은 특정 연산을 통해 얻을 수 있는 값을 정의할 때 사용된다\n",
    "- #### 대표적인 것으로 개인 정보 중에서 나이가 이에 속한다\n",
    "    - #### 나이는 출생 연도에 의존적이며, 현재 연도를 기준으로 계산해야 하므로 매년 그 값이 달라진다\n",
    "        - #### 따라서 현재 연도에서 출생 연도를 빼는 연산을 통해 값을 얻어야 문제가 없다    "
   ]
  },
  {
   "cell_type": "markdown",
   "metadata": {},
   "source": [
    "### 연산 프로퍼티 사용 예: 나이 계산\n",
    "\n",
    "```\n",
    "import Foundation\n",
    "\n",
    "struct UserInfo {\n",
    "    // 저장 프로퍼티: 태어난 연도\n",
    "    var birth: Int!\n",
    "    \n",
    "    // 연산 프로퍼티: 올해가 몇년도인지 계산\n",
    "    var thisYear: Int! {\n",
    "        get {\n",
    "            let df = DateFormatter()\n",
    "            df.dateFormat = \"yyyy\"\n",
    "            return Int(df.string(from: Date()))\n",
    "        }\n",
    "    }\n",
    "    \n",
    "    // 연산 프로퍼티: 올해 - 태어난 연도 + 1\n",
    "    var age: Int {\n",
    "        get{\n",
    "            return (self.thisYear - self.birth) + 1\n",
    "        }\n",
    "    }\n",
    "}\n",
    "\n",
    "let info = UserInfo(birth: 1980)\n",
    "print(info.age)\n",
    "\n",
    "[실행 결과]\n",
    "37\n",
    "```"
   ]
  },
  {
   "cell_type": "markdown",
   "metadata": {},
   "source": [
    "### 조금 더 복잡한 예제\n",
    "- #### 특정 사각형에 대한 정보를 저장하는 구조체에서 연산 프로퍼티를 사용하여 사각형의 중심 좌표를 구하는 예제\n",
    "\n",
    "```\n",
    "struct Rect {\n",
    "    // 사각형이 위치한 기준 좌표(좌측 상단 기준)\n",
    "    var originX: Double = 0.0, originY: Double = 0.0\n",
    "    \n",
    "    // 가로 세로 길이\n",
    "    var sizeWidth: Double = 0.0, sizeHeight: Double = 0.0\n",
    "    \n",
    "    // 사각형의 X 좌표 중심\n",
    "    var centerX: Double {\n",
    "        get {\n",
    "            return self.originX + (sizeWidth / 2)\n",
    "        }\n",
    "        \n",
    "        set(newCenterX) {\n",
    "            originX = newCenterX - (sizeWidth / 2)\n",
    "        }\n",
    "    }\n",
    "    \n",
    "    // 사각형의 Y 좌표 중심\n",
    "    var centerY: Double {\n",
    "        get {\n",
    "            return self.originY + (self.sizeHeight / 2)\n",
    "        }\n",
    "        set(newCenterY) {\n",
    "            self.originY = newCneterY - (self.sizeHeight / 2)\n",
    "        }\n",
    "    }\n",
    "}\n",
    "\n",
    "var square = Rect(originX: 0.0, originY: 0.0, sizeWidth: 10.0, sizeHeight: 10.0);\n",
    "print(\"square.centerX = \\(square.centerX), square.centerY = \\(square.centerY)\")\n",
    "\n",
    "[실행 결과]\n",
    "square.centerX = 5.0, square.centerY = 5.0\n",
    "```"
   ]
  },
  {
   "cell_type": "markdown",
   "metadata": {},
   "source": [
    "### 이 예제에서 사각형을 의미하는 구조체 Rect는 다음과 같이 네 개의 저장 프로퍼티와 두 개의 연산 프로퍼티를 가진다\n",
    "- #### 저장 프로퍼티\n",
    "    - #### 1. 프로퍼티명 : originX 의미 : 사각형의 x축 기준 좌표\n",
    "    - #### 2. 프로퍼티명 : originY 의미 : 사각형의 y축 기준 좌표\n",
    "    - #### 3. 프로퍼티명 : sizeWidth 의미 : 사각형의 가로 길이\n",
    "    - #### 4. 프로퍼티명 : sizeHeight 의미 : 사각형의 세로 길이\n",
    "\n",
    "- #### 연산 프로퍼티\n",
    "    - #### 1. 프로퍼티명 : centerX 의미 : 사각형의 x 중심 좌표\n",
    "    - #### 2. 프로퍼티명 : centerY 의미 : 사각형의 y 중심 좌표"
   ]
  },
  {
   "cell_type": "markdown",
   "metadata": {},
   "source": [
    "### 사각형 기준 좌표 x, y와 가로세로 길이는 모두 저장 프로퍼티로 정의된다"
   ]
  },
  {
   "cell_type": "markdown",
   "metadata": {},
   "source": [
    "### 그런데 사각형의 중심 좌표를 저장 프로퍼티로 정의하기는 좀 곤란하다\n",
    "- #### 이 값은 도형의 기준 좌표 x, y와 가로세로 길이의 관계에서 얻어지는 의존적인 속성이기 때문이다\n",
    "    - #### 다시 말해 기준 좌표가 변경되거나 가로세로 길이가 변경되면 그에 따라 중심 좌표가 변경된다\n",
    "- #### 만약 중심 좌표값을 직접 입력받으면 기준 좌표나 가로세로 길이 값으로부터 연산한 중심 좌표 결과와 일치하지 않을 수 있다\n",
    "    - #### 이 때문에 중심 좌표는 연산 프로퍼티로 설정되었다"
   ]
  },
  {
   "cell_type": "markdown",
   "metadata": {},
   "source": [
    "### 연산 프로퍼티를 사용하지 않고 프로퍼티의 값 하나하나를 받아 직접 계산해도 사각형의 중심 좌표를 구할 수는 있다\n",
    "- #### 연산 프로퍼티 내부에 정의된 구문을 클래스 바깥으로 옮겨가 각각의 프로퍼티를 이용하여 구하면 된다\n",
    "- #### 하지만 매번 중심 좌표를 구해야 한다면 같은 코두가 계속 사용되어야 할 것이다\n",
    "- #### 그 대신 연산 프로퍼티에 연산 구문을 정의해 놓으면 이 클래스를 사용하는 내내 중심 좌표를 구하기 위해 반복적으로 코드를 작성해야 하는 일은 없어질 테니 효율적이다"
   ]
  },
  {
   "cell_type": "markdown",
   "metadata": {},
   "source": [
    "### 위에서 살펴본 구조체를 객체지향 구조로 만들어 보자\n",
    "- #### Rect 구조체는 네 개의 저장 프로퍼티를 담고 있지만 사실 이 프로퍼티들은 서로 연관성이 있는 두 개씩의 프로퍼티로 이루어져 있다\n",
    "\n",
    "### 이 연관성을 기준으로 두 개의 구조체를 정의\n",
    "\n",
    "```\n",
    "struct Position {\n",
    "    var x: Double = 0.0\n",
    "    var y: Double = 0.0\n",
    "}\n",
    "\n",
    "struct Size {\n",
    "    var width: Double = 0.0\n",
    "    var height: Double = 0.0\n",
    "}\n",
    "```\n",
    "\n",
    "- #### 좌표는 X와 Y 값이 항상 함께 있어야 의미가 있고, 크기 역시 가로와 세로가 함께 있는 것이 좋다\n",
    "- #### 이 때문에 X와 Y를 하나로 묶어 좌표 구조체 Position을 정의하고, 가로와 세로 길이 역시 Size 구조체로 정의하였다"
   ]
  },
  {
   "cell_type": "markdown",
   "metadata": {},
   "source": [
    "### 두 개의 구조체를 사용하면 사각형 Rect 구조체 모습도 다음과 같이 변경된다\n",
    "\n",
    "```\n",
    "struct Rect {\n",
    "    // 사각형이 위치한 기준 좌표 (좌측 상단 기준)\n",
    "    var origin = Position()\n",
    "    // 가로 세로 길이\n",
    "    var size = Size()\n",
    "    // 사각형의 X 좌표 중심\n",
    "    var center: Position {\n",
    "        get {\n",
    "            let centerX = self.origin.x + (self.size.width / 2)\n",
    "            let centerY = self.origin.y + (self.size.height / 2)\n",
    "            return Position(x: centerX, y: centerY)\n",
    "        }\n",
    "        set(newCenter) {\n",
    "            self.origin.x = newCenter.x - (size.width / 2)\n",
    "            self.origin.y = newCenter.y - (size.height / 2)\n",
    "        }\n",
    "    }\n",
    "}\n",
    "\n",
    "let p = Position(x: 0.0, y: 0.0);\n",
    "let s = Size(width: 10.0, height: 10.0)\n",
    "\n",
    "var square = Rect(orgin: p, size: s)\n",
    "print(\"square.centerX = \\(square.center.x), square.centerY = \\(square.center.y)\")\n",
    "\n",
    "[실행 결과]\n",
    "square.centerX = 5.0, square.centerY = 5.0\n",
    "```"
   ]
  },
  {
   "cell_type": "markdown",
   "metadata": {},
   "source": [
    "### 연산 프로퍼티의 set 구문은 활용하기에 따라 다른 저장 프로퍼티의 값을 변경하는 데도 사용할 수 있다\n",
    "- #### 예를 들어 중심 좌표는 원래 위치 좌표나 가로세로 길이에 영향을 받아 결정되는 의존 속성이다\n",
    "- #### 하지만 생각을 전환해 보면 중심 좌표를 옮김으로써 기준 좌표의 위치가 이동할 수도 있는 것이다\n",
    "- #### 그리고 이미 이 같은 내용을 center 프로퍼티의 set 구문에 정의해 놓았다\n",
    "- #### 입력된 인자값을 사용하여 기준 좌표 프로퍼티의 값을 변경하고 있는 구문이 눈에 띄인다"
   ]
  },
  {
   "cell_type": "markdown",
   "metadata": {},
   "source": [
    "### center 프로퍼티의 set 구문을 살펴보자\n",
    "- #### 연산 프로퍼티에 값을 할당하면 여기에 정의된 구문이 실행된다\n",
    "    - #### 프로퍼티에 할당된 값은 set 다음에 오는 괄호의 인자값으로 전달되는데, 이때 인자값의 참조를 위해 매개변수가 사용된다\n",
    "- #### 앞의 예제를 본다면 newCenter가 매개변수 이름인 것이다\n",
    "    - #### 만약 매개변수명이 생략된다면 newValue라는 기본 인자명이 사용된다"
   ]
  },
  {
   "cell_type": "markdown",
   "metadata": {},
   "source": [
    "### 매개변수만 있고 타입은 없는 것이 독특하다\n",
    "- #### 이는 연산 프로퍼티에 할당할 수 있는 값의 타입이 앞에서 이미 정의되어 있기 때문이다\n",
    "- #### 어차피 입력할 수 있는 타입은 연산 프로퍼티의 타입으로 정해져 있기 때문에, 매개변수에는 타입을 생략할 수 있는 것이다"
   ]
  },
  {
   "cell_type": "markdown",
   "metadata": {},
   "source": [
    "### 중심 좌표의 값을 변경해 보자\n",
    "- #### 일반 프로퍼티에 값을 대입하는 것처럼 바꿀 중심 좌표를 적절한 타입으로 조직해서 넣어주기만 하면 된다\n",
    "\n",
    "```\n",
    "square.center = Position(x:20.0 , y:20.0)\n",
    "print(\"square.x = \\(square.origin.x), square.y = \\(square.originy)\")\n",
    "```"
   ]
  },
  {
   "cell_type": "markdown",
   "metadata": {},
   "source": [
    "### 연산 프로퍼티 center에 값을 할당\n",
    "- #### Position(x:20.0 , y:20.0)은 Position 구조체로 정의된 인스턴스이다\n",
    "    - #### 중심 좌표를 (20,20)으로 하는 값을 가지는 좌표 구조체이다\n",
    "        - #### 이 값을 할당하면 해당 인스턴스를 인자값으로 하는 set 구문이 실행된다\n",
    "\n",
    "### 실행 결과는 다음과 같다\n",
    "- #### origin 프로퍼티의 x,y 서브 프로퍼티값이 모두 바뀐 것을 알 수 있다\n",
    "\n",
    "```\n",
    "[실행 결과]\n",
    "square.x = 15.0, square.y = 15.0\n",
    "```\n",
    "\n",
    "### 이러한 경우가 때로는 방지되어야 할 때도 있다"
   ]
  },
  {
   "cell_type": "markdown",
   "metadata": {},
   "source": [
    "### 또 다른 대표적인 연산 프로퍼티의 예가 바로 배열의 크기를 알려주는 count이다\n",
    "- #### count 프로퍼티는 실제로 배열에 들어간 아이템의 개수와 같아야 한다\n",
    "\n",
    "### 그런데 만약 임의로 count 값을 늘리면 어떻게 될까?\n",
    "- #### 위에서 학습한 대로라면 count 프로퍼티의 값 할당에 의해 배열에 아이템이 추가되어야 할 것이다\n",
    "- #### 하지만 배열에 어떤 아이템을 넣어야 하는지도 알 수 없고, 임의로 아무 아이템이나 넣는 것도 곤란하다\n",
    "    - #### 빈 공백이나 nil을 포함해서 말이다\n",
    "- #### 따라서 배열의 count 프로퍼티는 사용자가 임의로 수정할 수 없도록 제약을 가해야 한다"
   ]
  },
  {
   "cell_type": "markdown",
   "metadata": {},
   "source": [
    "### 이를 위해서는 set 구문만 제거하면 된다\n",
    "- #### set 구문이 정의되어 있지 않으면 프로퍼티를 통해 값을 읽기만 할 뿐 할당은 할 수 없다\n",
    "- #### 이처럼 읽기만 가능하고 쓰기는 불가능한 프로퍼티를 read-only 프로퍼티, 또는 get-only 프로퍼티라고 하고 우리말로 \"읽기 전용 프로퍼티\"라고 한다"
   ]
  },
  {
   "cell_type": "markdown",
   "metadata": {},
   "source": [
    "```\n",
    "// 읽기 전용 (Read-Only) 속성으로 정의된 center 프로퍼티\n",
    "var center: Position {\n",
    "    get {\n",
    "        let centerX = self.origin.x + (self.size.width / 2)\n",
    "        let cneterY = self.origin.y + (self.size.height / 2)\n",
    "        return Position(x: centerX , y: centerY)\n",
    "    }\n",
    "}\n",
    "```"
   ]
  },
  {
   "cell_type": "markdown",
   "metadata": {},
   "source": [
    "### 같은 구문 다른 문법\n",
    "- #### 위와 같이 읽기 전용으로 설정된 연산 프로퍼티는 다음처럼 get 블록의 구분을 생략할 수도 있다\n",
    "\n",
    "```\n",
    "var center: Position {\n",
    "    let centerX = self.origin.x + (self.size.width / 2)\n",
    "    let centerY = self.origin.y + (self.size.height / 2)\n",
    "    return Position(x: centerX , y: centerY)\n",
    "}\n",
    "```"
   ]
  },
  {
   "cell_type": "markdown",
   "metadata": {},
   "source": [
    "### 연산 프로퍼티는 메소드 형식으로도 표현할 수 있다\n",
    "- #### 실제로 연산 프로퍼티 문법을 제공하지 않는 언어에서는 대부분 연산 프로퍼티의 기능을 메소드로 대신하기도 한다\n",
    "    - #### 자바에서는 이를 get 메소드, set 메소드라 하여 다른 일반 함수적 기능을 가진 메소드와 구분한다\n",
    "    - #### 연산 프로퍼티의 get 구문이 get 메소드, set 구문이 set 메소드로 대체되는 것이라고 보면 된다\n",
    "    - #### Objective-C 역시도 연산 프로퍼티와 유사한 기능구현을 목적으로 일부 타입의 프로퍼티에 대하여 get,set 메소드를 자동으로 만들어 주기도 한다"
   ]
  },
  {
   "cell_type": "markdown",
   "metadata": {},
   "source": [
    "### 다음은 연산 프로퍼티 대신 메소드를 사용하여 같은 코드를 표현한 모습\n",
    "\n",
    "```\n",
    "struct Rect {\n",
    "    ...(중략)...\n",
    "    \n",
    "    func getCenter() -> Position {\n",
    "        let centerX = self.origin.x + (self.size.width / 2)\n",
    "        let centerY = self.origin.y + (self.size.height / 2)\n",
    "        return Position(x: centerX , y: centerY)\n",
    "    }\n",
    "    mutating func setCenter(newCenter : Position) {\n",
    "        self.origin.x = newCenter.x - (size.width / 2)\n",
    "        self.origin.y = newCenter.y - (size.height / 2)\n",
    "    }\n",
    "}\n",
    "```"
   ]
  },
  {
   "cell_type": "markdown",
   "metadata": {},
   "source": [
    "### 실제 구현 코드 내용은 연산 프로퍼티와 완전히 같다\n",
    "- #### 단지 연산 프로퍼티에서 get,set 타입으로 정의되던 형식이 각각 getCenter, setCenter 메소드로 바뀌었을 뿐이다\n",
    "- #### setCenter 메소드 앞에 mutating 키워드가 붙은 것은 일반적으로 구조체는 메소드 내에서 프로퍼티를 수정할 수 없는 제약이 있는데, 이 제약을 풀고 메소드 내에서 멤버 변수를 수정하기 위해서 이다\n",
    "- #### 참고로 연산 프로퍼티의 get,set 구문은 C#에서 빌려온 개념이다\n",
    "    - get,set 구문과 연산 프로퍼티에 대한 폭넓은 설명이 필요하면 C#의 프로퍼티에 대해 학습"
   ]
  }
 ],
 "metadata": {
  "kernelspec": {
   "display_name": "Python 3",
   "language": "python",
   "name": "python3"
  },
  "language_info": {
   "codemirror_mode": {
    "name": "ipython",
    "version": 3
   },
   "file_extension": ".py",
   "mimetype": "text/x-python",
   "name": "python",
   "nbconvert_exporter": "python",
   "pygments_lexer": "ipython3",
   "version": "3.7.1"
  }
 },
 "nbformat": 4,
 "nbformat_minor": 2
}
