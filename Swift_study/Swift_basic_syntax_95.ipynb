{
 "cells": [
  {
   "cell_type": "markdown",
   "metadata": {},
   "source": [
    "# 열거형과 익스텐션(Enumeration and Extensions)\n",
    "## 코드의 한계를 넓혀주는 문법\n",
    "## 익스텐션(Extensions)"
   ]
  },
  {
   "cell_type": "markdown",
   "metadata": {},
   "source": [
    "### '확장 구문'으로 번역될 수 있는  \"익스텐션(Extensions)\"은 \n",
    "- #### 이미 존재하는 클래스나 구조체, 열거형 등의 객체에 새로운 기능을 추가하여 확장해주는 구문이다\n",
    "- #### 새로운 객체를 정의하는 것이 아니라 이미 존재하는 객체에 여러 가지 요소를 추가해준다는 점이 특징이다\n",
    "    - #### 하지만 자신의 독립적인 객체를 가지지 않고 다른 객체를 확장해준다는 특징 때문에 확장 구문은 단순히 구문이라고 보기도, 객체의 하나로 보기도 어렵다\n",
    "- #### 하지만 라이브러리나 프레임워크에 포함되어 소스코드에 직접 접근할 수 없는 객체라 할지라도 확장 구문을 이용하면 거의 제약 없이 새로운 기능을 추가할 수 있다는 점에서 익스텐션은 강력한 힘이 있다"
   ]
  },
  {
   "cell_type": "markdown",
   "metadata": {},
   "source": [
    "### 익스텐션은 Objective-C에서 제공되는 \"카테고리(Category)\"와 비슷하다\n",
    "- #### 차이점이라면 카테고리는 자체적인 이름을 가지지만 익스텐션은 자체적인 이름을 갖지 않는다는 점 정도다\n",
    "- #### 또 하나 더, 카테고리는 클래스에만 적용할 수 있다\n",
    "    - #### 하지만 스위프트의 익스텐션은 클래스뿐만 아니라 구조체나 열거형 등의 객체에 대해서도 기능을 추가할 수 있는 만큼 훨씬 더 강력하다"
   ]
  },
  {
   "cell_type": "markdown",
   "metadata": {},
   "source": [
    "### 스위프트에서 익스텐션을 통해 구현할 수 있는 것들은 대표적으로 다음과 같다\n",
    "- #### 새로운 연산 프로퍼티를 추가할 수 있다\n",
    "- #### 새로운 메소드를 정의할 수 있다\n",
    "- #### 새로운 초기화 구문을 추가할 수 있다\n",
    "- #### 기존 객체를 수정하지 않고 프로토콜을 구현할 수 있다"
   ]
  },
  {
   "cell_type": "markdown",
   "metadata": {},
   "source": [
    "### 익스텐션을 사용할 때는 \"extension\" 키워드를 사용한다\n",
    "- #### 이 키워드 다음에는 확장하고자 하는 기존 객체의 이름을 작성하고, 이어서 중괄호 블록을 덧붙인다\n",
    "- #### 중괄호 블록 내부에는 추가할 기능을 구현하면 된다\n",
    "\n",
    "```\n",
    "extension <확장할 기존 객체명> {\n",
    "    // 추가할 기능에 대한 구현 코드를 작성\n",
    "}\n",
    "```"
   ]
  },
  {
   "cell_type": "markdown",
   "metadata": {},
   "source": [
    "### 이 형태에서 볼 수 있듯이, 익스텐션은 extension 키워드를 사용할 뿐 독립적인 객체를 생성하는 구문이 아니다\n",
    "- #### 이미 정의되어 있는 기존 객체의 기능을 더 추가해주는 것일 뿐이다\n",
    "- #### 따라서 익스텐션은 객체가 아니며 또한 타입으로 사용될 수도 없다. 이 점에 유의 해야한다."
   ]
  }
 ],
 "metadata": {
  "kernelspec": {
   "display_name": "Python 3",
   "language": "python",
   "name": "python3"
  },
  "language_info": {
   "codemirror_mode": {
    "name": "ipython",
    "version": 3
   },
   "file_extension": ".py",
   "mimetype": "text/x-python",
   "name": "python",
   "nbconvert_exporter": "python",
   "pygments_lexer": "ipython3",
   "version": "3.7.1"
  }
 },
 "nbformat": 4,
 "nbformat_minor": 2
}
