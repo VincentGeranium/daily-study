{
 "cells": [
  {
   "cell_type": "markdown",
   "metadata": {},
   "source": [
    "# 옵셔널\n",
    "## 스위프트가 잠재적 오류를 다루는 방법\n",
    "## 옵셔널 타입 선언과 정의"
   ]
  },
  {
   "cell_type": "markdown",
   "metadata": {},
   "source": [
    "### 일반 자료형을 옵셔널 타입으로 만드는 방법은 단순하다\n",
    "- #### 사용하는 자료형 뒤에 물음표(Question Mark)만 붙이면 된다\n",
    "    - #### String?은 Optional String type을 의미\n",
    "    - #### Int?은 Optional Int type를 의미\n",
    "- #### String 타입에는 nil을 대입할 수 없다\n",
    "- #### String? 타입에는 nil을 대입할 수 있다"
   ]
  },
  {
   "cell_type": "markdown",
   "metadata": {},
   "source": [
    "### 옵셔널 타입 선언 예시\n",
    "\n",
    "```\n",
    "// Optional Int type\n",
    "var optInt : Int?\n",
    "\n",
    "// Optional String type\n",
    "var optStr : String?\n",
    "    \n",
    "// Optional Double type\n",
    "var optDouble : Double?\n",
    "\n",
    "// Optional Array type\n",
    "var optArr : [String]?\n",
    "    \n",
    "// Optional Dictionary type\n",
    "var optDic : Dictionary<String, String>?\n",
    "var optDic2 : [String:String]?\n",
    "    \n",
    "// Optional Class type\n",
    "var optClass : AnyObject?\n",
    "```"
   ]
  },
  {
   "cell_type": "markdown",
   "metadata": {},
   "source": [
    "- #### 일반 자료형을 선언만 하고 초기화하지 않으면 아예 아무것도 할당되지 않는다\n",
    "- ### 옵셔널 타입으로 자료형을 선언하면 자동으로 nil로 초기화된다\n",
    "    - #### 옵셔널 내부에 있는 자료형에 nil값이 부여된다는 것은 아니다. 옵셔널 타입 자체에 nil이 부여된다는 뜻이다"
   ]
  },
  {
   "cell_type": "markdown",
   "metadata": {},
   "source": [
    "- ### 옵셔널 타입으로 선언된 변수나 상수에 실제 값을 할당하는 방법은 일반 타입의 그것과 동일하다\n",
    "\n",
    "    ### 옵셔널 타입의 변수와 상수에 값을 할당하는 예시\n",
    "\n",
    "```\n",
    "// Optional Int type\n",
    "var optInt: Int?\n",
    "optInt = 3\n",
    "\n",
    "// Optional String type\n",
    "var optStr: String?\n",
    "optStr = \"Swift\"\n",
    "\n",
    "// Optional Array type\n",
    "var optArr: [String]?\n",
    "optArr = [\"C\", \"JAVA\", \"Objective-C\", \"SmallTalk\"]\n",
    "\n",
    "// Optional Dictionary type\n",
    "var optDic: [String : Int]?\n",
    "optDic = [\"국어\" : 94, \"수학\" : 88, \"영어\" : 96]\n",
    "```"
   ]
  },
  {
   "cell_type": "markdown",
   "metadata": {},
   "source": [
    "- #### 옵셔널 타입의 변수에 값을 할당할 때에는 옵셔널 타입임을 인지할 필요가 거의 없다\n",
    "- #### 일반 변수처럼 값을 할당하면 옵셔널 객체 내부에 값이 대입되기 때문이다\n",
    "- ### 즉, 값을 대입할 때에는 옵셔널이 아닌 일반 변수처럼 생각하고 다루어도 무방하다"
   ]
  }
 ],
 "metadata": {
  "kernelspec": {
   "display_name": "Python 3",
   "language": "python",
   "name": "python3"
  },
  "language_info": {
   "codemirror_mode": {
    "name": "ipython",
    "version": 3
   },
   "file_extension": ".py",
   "mimetype": "text/x-python",
   "name": "python",
   "nbconvert_exporter": "python",
   "pygments_lexer": "ipython3",
   "version": "3.7.1"
  }
 },
 "nbformat": 4,
 "nbformat_minor": 2
}
