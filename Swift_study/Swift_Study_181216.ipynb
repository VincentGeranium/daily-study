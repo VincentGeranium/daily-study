{
 "cells": [
  {
   "cell_type": "markdown",
   "metadata": {},
   "source": [
    "# function\n",
    "## 가변 매개변수\n",
    "- #### 전달 받을 값의 개수를 알기 어려울 때 사용\n",
    "- #### 가변 매개변수는 함수당 하나만 가질 수 있다\n",
    "\n",
    "```\n",
    "func 함수 이름(매개변수1 이름: 매개변수1 타입, 전달인자 레이블 매개변수2 이름: 매개변수2 타입) -> 반환타입 {\n",
    "    /*함수 구현부*/\n",
    "    return\n",
    "}\n",
    "```\n",
    "\n",
    "- 예시\n",
    "\n",
    "```\n",
    "func sayHelloToFriend(me: String, frinds: String...)-> String {\n",
    "    return \"Hello \\(friend)! I'm(me)!\"\n",
    "}\n",
    "print(sayHelloToFriends(me: \"Jun\", friends: \"OneMore\",\"HobBang\",\"LuckJin\"))\n",
    "// Hello [\"OneMore\" , \"HobBang\" , \"LuckJin\"]! I'm Jun!\n",
    "\n",
    "print(sayHelloToFriends(me:\"Jun\"))\n",
    "//Hello[]! I'm Jun\n",
    "```"
   ]
  },
  {
   "cell_type": "markdown",
   "metadata": {},
   "source": [
    "## 데이터 타입으로서의 함수\n",
    "- 스위프트는 함수형 프로그래밍 패러다임을 포함하는 다중 패러다임 언어이므로 스위프트의 함수는 일급객체이다. 그래서 함수를 변수, 상수 등에 할당이 가능하고 매개변수를 통해 전달할 수도 있다\n",
    "\n",
    "### 함수의 타입표현\n",
    "- 반환타입을 생략할 수 없다\n",
    "\n",
    "```\n",
    "(매개변수1 타입, 매개변수2 타입...)-> 반환타입\n",
    "```\n",
    "\n",
    "### 함수타입 사용\n",
    "\n",
    "```\n",
    "var someFunction:(String, String)-> Void = greeting(to:from:)\n",
    "someFunction(\"eric\" , \"Jun\") //Hello eric! I'm Jun\n",
    "\n",
    "someFunction = greeting(friend:me:)\n",
    "someFunction(\"eric\" , \"Jun\") // Hello eric! I'm Jun\n",
    "```\n",
    "\n",
    "- 타입이 다른 함수는 할당할 수 없다\n",
    "    - 컴파일 오류 발생\n",
    "        - someFunction = sayHelloToFriends(me: friends:)\n",
    "        \n",
    "```\n",
    "func runAnother(function:(String, String)-> Void) {\n",
    "    function(\"jenny\" , \"Jun\")\n",
    "}\n",
    "\n",
    "runAnother(function: greeting(friend:me:))\n",
    "// Hello jenny! I'm jun\n",
    "\n",
    "runAnother(function: someFunction)\n",
    "// Hello jenny! I'm Jun\n",
    "```"
   ]
  }
 ],
 "metadata": {
  "kernelspec": {
   "display_name": "Python 3",
   "language": "python",
   "name": "python3"
  },
  "language_info": {
   "codemirror_mode": {
    "name": "ipython",
    "version": 3
   },
   "file_extension": ".py",
   "mimetype": "text/x-python",
   "name": "python",
   "nbconvert_exporter": "python",
   "pygments_lexer": "ipython3",
   "version": "3.7.1"
  }
 },
 "nbformat": 4,
 "nbformat_minor": 2
}
