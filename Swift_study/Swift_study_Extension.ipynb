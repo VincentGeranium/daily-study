{
 "cells": [
  {
   "cell_type": "markdown",
   "metadata": {},
   "source": [
    "# Extensions (확장)"
   ]
  },
  {
   "cell_type": "markdown",
   "metadata": {},
   "source": [
    "- 확장은 기존 클래스, 구조체 또는 열거형 타입에 새로운 기능을 추가\n",
    "- 기존 소스 코드에서 접근하지 못하는 타입들을 확장하는 능력(소급 적용 모델링)\n",
    "- 확장은 Objective-C의 카테고리와 유사하다\n",
    "    - Swift 확장은 이름을 가지지 않는다는 점에서 Objective-C 카테고리와는 다르다"
   ]
  },
  {
   "cell_type": "markdown",
   "metadata": {},
   "source": [
    "## Swift에서 확장은 다음 기능을 할 수 있다\n",
    "- 계산 속성과 계산 정적 속성 추가\n",
    "- 인스턴스 메소드와 타입 메소드 정의\n",
    "- 새로운 이니셜라이저 제공\n",
    "- 서브스크립트 정의\n",
    "- 새로운 중첩 타입 정의와 사용\n",
    "- 기존 타입에 프로토콜 적용하기\n",
    "#### 확장은 타입에 새로운 기능을 추가할 수 있지만 기존 기능을 오버라이드 할 수 없다"
   ]
  },
  {
   "cell_type": "markdown",
   "metadata": {},
   "source": [
    "## Extension Syntax (확장 문법)"
   ]
  },
  {
   "cell_type": "markdown",
   "metadata": {},
   "source": [
    "#### \"extension\" 키워드로 확장을 선언한다\n",
    "```\n",
    "extension SomeType {\n",
    "    // new functionality to add to SomeType gose here\n",
    "}\n",
    "```"
   ]
  },
  {
   "cell_type": "markdown",
   "metadata": {},
   "source": [
    "#### 확장은 하나 이상의 프로토콜을 만들어 기존 타입에 적용시켜 확장한다\n",
    "```\n",
    "extension SomeType: SomeProtocol, AnotherProtocol {\n",
    "    // implementation of protocol requirements gose here\n",
    "}\n",
    "```\n",
    "\n",
    "#### 기존 타입에 새로운 기능을 추가하기 위해 확장을 정의한다면, 새로운 기능은 기존 타입의 인스턴스에서 가능하다. 심지어 확장이 정의되기 전에 만들어진다."
   ]
  },
  {
   "cell_type": "markdown",
   "metadata": {},
   "source": [
    "## Computed Properties(계산 속성)"
   ]
  },
  {
   "cell_type": "markdown",
   "metadata": {},
   "source": [
    "- 확장은 기존 타입에 계산 인스턴스 속성과 계산 타입 속성을 추가할 수 있다"
   ]
  },
  {
   "cell_type": "code",
   "execution_count": null,
   "metadata": {},
   "outputs": [],
   "source": []
  }
 ],
 "metadata": {
  "kernelspec": {
   "display_name": "Python 3",
   "language": "python",
   "name": "python3"
  },
  "language_info": {
   "codemirror_mode": {
    "name": "ipython",
    "version": 3
   },
   "file_extension": ".py",
   "mimetype": "text/x-python",
   "name": "python",
   "nbconvert_exporter": "python",
   "pygments_lexer": "ipython3",
   "version": "3.7.1"
  }
 },
 "nbformat": 4,
 "nbformat_minor": 2
}
