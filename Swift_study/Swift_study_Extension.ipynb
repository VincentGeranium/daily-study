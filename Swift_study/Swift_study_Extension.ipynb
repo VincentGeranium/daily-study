{
 "cells": [
  {
   "cell_type": "markdown",
   "metadata": {},
   "source": [
    "# Extensions (확장)"
   ]
  },
  {
   "cell_type": "markdown",
   "metadata": {},
   "source": [
    "- 확장은 기존 클래스, 구조체 또는 열거형 타입에 새로운 기능을 추가\n",
    "- 기존 소스 코드에서 접근하지 못하는 타입들을 확장하는 능력(소급 적용 모델링)\n",
    "- 확장은 Objective-C의 카테고리와 유사하다\n",
    "    - Swift 확장은 이름을 가지지 않는다는 점에서 Objective-C 카테고리와는 다르다"
   ]
  },
  {
   "cell_type": "markdown",
   "metadata": {},
   "source": [
    "## Swift에서 확장은 다음 기능을 할 수 있다\n",
    "- 계산 속성과 계산 정적 속성 추가\n",
    "- 인스턴스 메소드와 타입 메소드 정의\n",
    "- 새로운 이니셜라이저 제공\n",
    "- 서브스크립트 정의\n",
    "- 새로운 중첩 타입 정의와 사용\n",
    "- 기존 타입에 프로토콜 적용하기\n",
    "#### 확장은 타입에 새로운 기능을 추가할 수 있지만 기존 기능을 오버라이드 할 수 없다"
   ]
  },
  {
   "cell_type": "markdown",
   "metadata": {},
   "source": [
    "## Extension Syntax (확장 문법)"
   ]
  },
  {
   "cell_type": "markdown",
   "metadata": {},
   "source": [
    "#### \"extension\" 키워드로 확장을 선언한다\n",
    "```\n",
    "extension SomeType {\n",
    "    // new functionality to add to SomeType gose here\n",
    "}\n",
    "```"
   ]
  },
  {
   "cell_type": "markdown",
   "metadata": {},
   "source": [
    "#### 확장은 하나 이상의 프로토콜을 만들어 기존 타입에 적용시켜 확장한다\n",
    "```\n",
    "extension SomeType: SomeProtocol, AnotherProtocol {\n",
    "    // implementation of protocol requirements gose here\n",
    "}\n",
    "```\n",
    "\n",
    "#### 기존 타입에 새로운 기능을 추가하기 위해 확장을 정의한다면, 새로운 기능은 기존 타입의 인스턴스에서 가능하다. 심지어 확장이 정의되기 전에 만들어진다."
   ]
  },
  {
   "cell_type": "markdown",
   "metadata": {},
   "source": [
    "## Computed Properties(계산 속성)"
   ]
  },
  {
   "cell_type": "markdown",
   "metadata": {},
   "source": [
    "- 확장은 기존 타입에 계산 인스턴스 속성과 계산 타입 속성을 추가할 수 있다"
   ]
  },
  {
   "cell_type": "markdown",
   "metadata": {},
   "source": [
    "#### 다섯개의 계산 인스턴스 속성을 Swift에 탑재된 Double타입에 추가하는 예제"
   ]
  },
  {
   "cell_type": "markdown",
   "metadata": {},
   "source": [
    "```\n",
    "extension Double {\n",
    "    var km: Double { return self * 1_000.0}\n",
    "    var m: Double { return self }\n",
    "    var cm: Double { return self / 100.0 }\n",
    "    var mm: Double { return self / 1_000.0 }\n",
    "    var ft: Double { return self / 3.28084 }\n",
    "}\n",
    "let oneInch = 25.4.mm\n",
    "println(\"One inch is\\(oneInch) meters\")\n",
    "// prints \"One inch is 0.0254 meters\"\n",
    "let threeFeet = 3.ft\n",
    "println(\"Tree feet is \\ (threeFeet) meters\")\n",
    "// prints \"Three feet is 0.914399970739201 meters\"\n",
    "```"
   ]
  },
  {
   "cell_type": "markdown",
   "metadata": {},
   "source": [
    "- 계산 속성은 Double 값이 특정 길이의 단위로 간주됨을 나타낸다\n",
    "- 계산 속성들로 구현되었지만 부동소수점 리터럴 값에 점 문법으로 속성의 이름을 덧붙여 리터럴 값을 거리값으로 변환할 수 잇다\n",
    "- 1.0의 Double value는 일 미터로 표현하는 예제로, \"m\"계산 속성은 \"self\"를 반환한다\n",
    "    - \"1.m\" 표현은 1.0의 Double 값으로 계산하여 간주된다\n",
    "- 다른 단위들은 미터 측정값으로 표현되기 위한 변환이 필요하다\n",
    "    - 1km은 1,000m과 같고, 그래서 \"km\"계산 속성은 1_000.00을 값에 곱하여 표현한다\n",
    "    - 1m은 3.28024ft 이고 \"ft\"는 3.28024를 Double 값으로 나누어 피트를 미터로 변경한다"
   ]
  },
  {
   "cell_type": "markdown",
   "metadata": {},
   "source": [
    "#### 이들 속성은 읽기 전용 계산 속성으로, \"get\" 키워드 없이 짧게 표현된다\n",
    "#### Double 타입의 반환 값은 산술 계산을 사용하여 Double에 어디에나 적용된다\n",
    "```\n",
    "let aMaraton = 42.km + 195.m\n",
    "println(\"A marathon is \\ (aMaraton) meters long\")\n",
    "// prints \"A marathon is 42195.0 meters long\"\n",
    "```"
   ]
  },
  {
   "cell_type": "markdown",
   "metadata": {},
   "source": [
    "#### 확장은 새로운 계산 속성을 추가할 수 있지만, 저장 속성이나 기존 속성에 속성 감시자를 추가할 수 없다"
   ]
  },
  {
   "cell_type": "markdown",
   "metadata": {},
   "source": [
    "## Initializers(이니셜라이저)"
   ]
  },
  {
   "cell_type": "markdown",
   "metadata": {},
   "source": [
    "- 확장은 기존 타입에 새로운 이니셜라이저를 추가할 수 있다\n",
    "- 이는 다른 타입이 사용자 타입의 이니셜라이저 인자로 받거나 타입의 기본 구현의 부분에 포함되지 않는 추가적인 초기화 옵션을 제공하도록 확장이 가능하다\n",
    "- 확장은 클래스에 새로운 편의 이니셜라이저를 추가할 수 있으나, 새로운 지정 이니셜라이저나 디이니셜라이저를 클래스에 추가할 수 없다\n",
    "- 지정 이니셜라이저와 디이니셜라이저는 항상 기존 클래스 구현이 되어 있어야 한다\n",
    "#### 모든 저장 속성에 값을 주고 사용자 이니셜라이저를 정의하지 않는 값 타입에 이니셜라이저를 추가하기 위해 확장을 사용한다면, 확장 이니셜라이저 안으로부터 값 타입을 위한 기본 이니셜라이저와 멤버 이니셜라이저를 호출한다"
   ]
  },
  {
   "cell_type": "markdown",
   "metadata": {},
   "source": [
    "#### 모든 속성에 기본 값이 주어지는 구조체 예제\n",
    "```\n",
    "struct Size {\n",
    "    var width = 0.0, height = 0.0\n",
    "}\n",
    "struct Point {\n",
    "    var x = 0.0, y = 0.0\n",
    "}\n",
    "struct Rect {\n",
    "    var origin = Point()\n",
    "    var size = Size()\n",
    "}\n",
    "```"
   ]
  },
  {
   "cell_type": "markdown",
   "metadata": {},
   "source": [
    "- 기본적인 이니셜라이저를 통해 Rect 인스턴스를 만들 수 있다\n",
    "```\n",
    "let defaultRect = Rect()\n",
    "let memberwiseRect = Rect(origin: Point(x: 2.0, y: 2.0),\n",
    "                         size: Size(width: 5.0, height: 5.0))\n",
    "```"
   ]
  },
  {
   "cell_type": "markdown",
   "metadata": {},
   "source": [
    "- Rect 구조체를 확장하여 특정 중앙 좌표와 크기를 갖는 이니셜라이저를 추가할 수 있다.\n",
    "```\n",
    "extension Rext {\n",
    "    init(center: Point, size: Size) {\n",
    "        let originX = center.x - (size.width / 2)\n",
    "        let originY = center.y - (size.height / 2)\n",
    "        self.init(origin: Point(x: originX, y: originY), size: size)\n",
    "    }\n",
    "}\n",
    "```"
   ]
  },
  {
   "cell_type": "markdown",
   "metadata": {},
   "source": [
    "- 새로운 이니셜라이저는 center 좌표와 size 크기를 통해 기존 좌표를 계산하여 적합한 위치로 멤버 이니셜라이저를 호출하여 초기화한다\n",
    "```\n",
    "let centerRect = Rect(center: Point(x: 4.0, y: 4.0),\n",
    "                     size: Size(width: 3.0, height: 3.0))\n",
    "// centerRect's origin is (2.5, 2.5)and its size is (3.0, 3.0)\n",
    "```"
   ]
  },
  {
   "cell_type": "markdown",
   "metadata": {},
   "source": [
    "#### 확장을 이용한 새로운 이니셜라이저를 제공한다면, 이니셜라이저가 완료되었을 때 각 인스턴스가 완전히 초기화되었는지 확인하는 책임이 있다."
   ]
  },
  {
   "cell_type": "markdown",
   "metadata": {},
   "source": [
    "## Methods(메소드)"
   ]
  },
  {
   "cell_type": "markdown",
   "metadata": {},
   "source": [
    "- 확장은 새로운 인스턴스 메소드와 타임 메소드를 기존 타입에 추가할 수 있다."
   ]
  },
  {
   "cell_type": "markdown",
   "metadata": {},
   "source": [
    "- int 타입에 인스턴스 메소드를 추가하는 예제\n",
    "```\n",
    "extension Int {\n",
    "    func repetitions(task: () -> ()) {\n",
    "        for i in 0..<self {\n",
    "            task()\n",
    "        }\n",
    "    }\n",
    "}\n",
    "```"
   ]
  },
  {
   "cell_type": "markdown",
   "metadata": {},
   "source": [
    "- repetitions 메소드 타입 () -> () 단일 인자를 가지며, 이 함수는 인자와 반환 값을 가지지 않는다."
   ]
  },
  {
   "cell_type": "markdown",
   "metadata": {},
   "source": [
    "- 확장이 정의된 뒤에, 호출할 만큰의 정수에서 repitions 메소드를 호출할 수 있다\n",
    "```\n",
    "3.repetitions({\n",
    "    println(\"Hello!\")\n",
    "})\n",
    "// Hello!\n",
    "// Hello!\n",
    "// Hello!\n",
    "```"
   ]
  },
  {
   "cell_type": "markdown",
   "metadata": {},
   "source": [
    "- 클로저 문법으로 더 간결하게 호출하여 사용한다\n",
    "```\n",
    "3.repititions {\n",
    "    println(\"Goodbye!\")\n",
    "}\n",
    "// Goodbye!\n",
    "// Goodbye!\n",
    "// Goodbye!\n",
    "```"
   ]
  },
  {
   "cell_type": "markdown",
   "metadata": {},
   "source": [
    "## Subscripts (서브스크립트)"
   ]
  },
  {
   "cell_type": "markdown",
   "metadata": {},
   "source": [
    "- 확장은 기존 타입에 새로운 서브스크립트를 추가할 수 있다"
   ]
  },
  {
   "cell_type": "markdown",
   "metadata": {},
   "source": [
    "- Swift에 내재된 Int 타입에 정수 서브스크립트를 추가하는 예제\n",
    "    - Subscript[n]는 n번째 숫자를 반환한다\n",
    "    \n",
    "```\n",
    "extension Int {\n",
    "    subscript(var digitIndex: Int) -> Int {\n",
    "        var decimalBase = 1\n",
    "            while digitIndex > 0 {\n",
    "                decimalBase *= 10\n",
    "                --digitIndex\n",
    "            }\n",
    "            return (self/decimalBase)%10\n",
    "    }\n",
    "}\n",
    "\n",
    "```\n",
    "```\n",
    "746381295[0]\n",
    "// return 5\n",
    "746381295[1]\n",
    "// return 9\n",
    "746381295[2]\n",
    "// return 2\n",
    "746381295[8]\n",
    "// return 7\n",
    "```"
   ]
  },
  {
   "cell_type": "markdown",
   "metadata": {},
   "source": [
    "## Nested Types (중첩 타입)"
   ]
  },
  {
   "cell_type": "markdown",
   "metadata": {},
   "source": [
    "- 확장은 기존 클래스, 구조체 그리고 열거형에 새로운 중첩 타입을 추가할 수 있다\n",
    "```\n",
    "extension Int {\n",
    "    enum Kind {\n",
    "        case Negative, Zero, Positive\n",
    "    }\n",
    "    var Kind: Kind {\n",
    "        switch self {\n",
    "            case 0:\n",
    "                return .Zero\n",
    "            case let x where x > 0:\n",
    "                return .Positive\n",
    "            default:\n",
    "                return .Negative\n",
    "        } \n",
    "    }\n",
    "}\n",
    "```"
   ]
  },
  {
   "cell_type": "markdown",
   "metadata": {},
   "source": [
    "- 위 예제는 Int 타입에 새로운 중첩 열거형을 추가하였다\n",
    "- Kind라는 열거형은 정수 종류를 zero, positive, negative라고 표현한다"
   ]
  },
  {
   "cell_type": "markdown",
   "metadata": {},
   "source": [
    "- Int에 계산 인스턴스 속성을 추가하는 예제\n",
    "    - 적합한 기호를 반환해주는 예제\n",
    "    \n",
    "```\n",
    "func printIntegerKinds(numbers: [Int]) {\n",
    "    for number in numbers {\n",
    "        switch number.kind {\n",
    "            case .Negative:\n",
    "                print(\"- \")\n",
    "            case. Zero:\n",
    "                print(\"0 \")\n",
    "            case .Positive:\n",
    "                print(\"+ \")\n",
    "        }\n",
    "    }\n",
    "    print(\"\\n\")\n",
    "}\n",
    "\n",
    "printIntegerKinds([3, 19, -27, 0, -6, 0, 7])\n",
    "// prints \"+ + - 0 - 0 +\"\n",
    "```"
   ]
  },
  {
   "cell_type": "code",
   "execution_count": null,
   "metadata": {},
   "outputs": [],
   "source": []
  }
 ],
 "metadata": {
  "kernelspec": {
   "display_name": "Python 3",
   "language": "python",
   "name": "python3"
  },
  "language_info": {
   "codemirror_mode": {
    "name": "ipython",
    "version": 3
   },
   "file_extension": ".py",
   "mimetype": "text/x-python",
   "name": "python",
   "nbconvert_exporter": "python",
   "pygments_lexer": "ipython3",
   "version": "3.7.1"
  }
 },
 "nbformat": 4,
 "nbformat_minor": 2
}
