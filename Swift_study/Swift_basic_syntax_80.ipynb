{
 "cells": [
  {
   "cell_type": "markdown",
   "metadata": {},
   "source": [
    "# 구조체와 클래스\n",
    "## 객체지향 스위프트\n",
    "## 타입 캐스팅(Type Casting)"
   ]
  },
  {
   "cell_type": "markdown",
   "metadata": {},
   "source": [
    "## 타입 비교 연산(Type Comparison Operation)"
   ]
  },
  {
   "cell_type": "markdown",
   "metadata": {},
   "source": [
    "### 스위프트는 타입 비교 연산자 is를 지원한다\n",
    "- #### 변수나 상수 또는 인스턴스에 이 연산자를 사용하면 할당된 값을 비교하는 것이 아니라 타입이 일치하는지 여부를 비교하고 그 결과를 Bool 형태로 돌려준다\n",
    "- #### 이 연산자는 일반 비교 연산자 == 처럼 연산자의 좌우 양쪽에 놓인 두 개의 대상의 타입을 비교한다\n",
    "    - #### 왼쪽에는 인스턴스 또는 인스턴스가 할당된 변수/상수\n",
    "    - #### 오른쪽에는 비교할 타입이 위치하는 것이 일반적이다\n",
    "    \n",
    "```\n",
    "인스턴스(또는 변수, 상수) is 비교대상 타입\n",
    "```"
   ]
  },
  {
   "cell_type": "markdown",
   "metadata": {},
   "source": [
    "### 이 연산자는 다음과 같은 연산 법칙을 따른다\n",
    "- #### 1. 연산자 왼쪽 인스턴스의 타입이 연산자 오른쪽 비교대상 타입과 일치할 경우 - true\n",
    "- #### 2. 연산자 왼쪽 인스턴스의 타입이 연산자 오른쪽 비교대상 타입의 하위 클래스일 경우 - true\n",
    "- #### 3. 그 외 - false"
   ]
  },
  {
   "cell_type": "markdown",
   "metadata": {},
   "source": [
    "### 아래는 타입 비교 연산자를 사용하여 타입을 비교하는 간단한 연산의 예\n",
    "\n",
    "```\n",
    "SUV() is SUV // true(일치함)\n",
    "```"
   ]
  },
  {
   "cell_type": "markdown",
   "metadata": {},
   "source": [
    "### SUV 클래스를 이용하여 생성한 인스턴스는 SUV 타입이므로 이를 다시 SUV 타입과 비교하는 연산의 결과는 당연히 true이다\n",
    "- #### 이때 중요한 것은 왼쪽은 인스턴스여야 하고, 오른쪽은 타입이어야 한다는 것이다\n",
    "\n",
    "```\n",
    "SUV() is SUV // true(일치함)\n",
    "SUV() is Car // true(일치함)\n",
    "SUV() is Vehicle // true(일치함)\n",
    "\n",
    "Car() is Vehicle // true(일치함)\n",
    "Car() is SUV // false(불일치)\n",
    "```"
   ]
  },
  {
   "cell_type": "markdown",
   "metadata": {},
   "source": [
    "### SUV 인스턴스는 부모 클래스에 해당하는 Car, Vehicle 타입과 비교하면 모두 true로 반환하지만, Car 인스턴스는 조금 다르다\n",
    "- #### 부모 클래스인 Vehicle과 비교했을 때는 true이지만, 자신을 상속받는 자식 클래스 SUV 타입과 비교했을 때는 false가 반환되어 타입이 일치하지 않는다는 것을 알 수 있다\n",
    "- #### 인스턴스를 할당받을 수 있는 타입이라면 비교 결과가 true로, 할당받을 수 없는 타입이면 비교 결과가 false로 반환된다"
   ]
  },
  {
   "cell_type": "markdown",
   "metadata": {},
   "source": [
    "### 타입을 비교 연산할 때 연산자 왼쪽에 인스턴스가 아니라 인스턴스가 할당된 변수가 사용될 경우 다소 주의해야한다\n",
    "- #### 변수가 선언된 타입을 기준으로 비교하는 것이 아니라 변수에 할당된 실제 인스턴스를 기준으로 타입을 비교하기 때문이다\n",
    "\n",
    "```\n",
    "let myCar: Vehicle = SUV()\n",
    "    \n",
    "if myCar is SUV {\n",
    "    print(\"myCar는 SUV 타입입니다.\")\n",
    "} else {\n",
    "    print(\"myCar는 SUV 타입이 아닙니다.\")\n",
    "}\n",
    "\n",
    "[실행 결과]\n",
    "myCar는 SUV 타입입니다.\n",
    "```"
   ]
  },
  {
   "cell_type": "markdown",
   "metadata": {},
   "source": [
    "### 위 예제에서 myCar에 대입된 실제 인스턴스는 SUV 타입이지만 타입 어노테이션을 통해 Vehicle 타입의 인스턴스로 선언되었다\n",
    "- #### 부모 클래스를 자식 클래스에 할당할 수 없는 것처럼 상위 타입의 인스턴스를 하위 타입과 is 비교하면 이 연산의 결과는 false가 반환되어야 한다\n",
    "- #### 하지만 출력된 결과를 보면 연산의 비교 결과는 true임을 알 수 있다"
   ]
  },
  {
   "cell_type": "markdown",
   "metadata": {},
   "source": [
    "### 이는 타입 비교 연산자가 양쪽을 비교할 때 주어진 변수의 선언 타입이 아니라 그 안에 대입된 실제 값의 타입을 비교하기 때문이다\n",
    "- #### 즉 위의 예제는 Vehicle 인스턴스를 SUV 타입과 비교 한 것이 아니라 Vehicle의 탈을 쓴 SUV 인스턴스를 SUV 타입과 비교한 결과가 되는 것이다\n",
    "- #### 연산 결과가 true인 것은 이같은 특성 때문이다"
   ]
  },
  {
   "cell_type": "markdown",
   "metadata": {},
   "source": [
    "### 앞서의 예제와 동일하게 newCar 상수는 Vehicle로 선언되었지만, 할당된 실제 인스턴스는 Car 인스턴스이다\n",
    "\n",
    "```\n",
    "let newCar: Vehicle = Car()\n",
    "    \n",
    "if newCar is SUV {\n",
    "    print(\"newCar는 SUV 타입입니다.\")\n",
    "} else {\n",
    "    print(\"newCar는 SUV 타입이 아닙니다.\")\n",
    "}\n",
    "\n",
    "[실행 결과]\n",
    "newCar는 SUV 타입이 아닙니다.\n",
    "```\n",
    "\n",
    "- #### 비교한 결과 false가 되어 else 구문에 작성된 문장이 실행된다\n",
    "- #### 타입 비교 연산자에 사용된 상수는 Vehicle 타입으로 선언되었다라도 여기에 실제로 할당된 값이 Car 인스턴스이므로 앞서와 다른 결과가 발생한 것이다"
   ]
  },
  {
   "cell_type": "markdown",
   "metadata": {},
   "source": [
    "### 이처럼 타입 비교 연산자를 이용하여 타입을 비교할 때는 할당된 변수가 선언된 타입이 아니라 실제로 할당된 값의 타입이 비교된다는 것에 주의해야 한다"
   ]
  }
 ],
 "metadata": {
  "kernelspec": {
   "display_name": "Python 3",
   "language": "python",
   "name": "python3"
  },
  "language_info": {
   "codemirror_mode": {
    "name": "ipython",
    "version": 3
   },
   "file_extension": ".py",
   "mimetype": "text/x-python",
   "name": "python",
   "nbconvert_exporter": "python",
   "pygments_lexer": "ipython3",
   "version": "3.7.1"
  }
 },
 "nbformat": 4,
 "nbformat_minor": 2
}
