{
 "cells": [
  {
   "cell_type": "markdown",
   "metadata": {},
   "source": [
    "# 구조체와 클래스\n",
    "## 객체지향 스위프트\n",
    "## 구조체와 클래스의 기본 개념"
   ]
  },
  {
   "cell_type": "markdown",
   "metadata": {},
   "source": [
    "### 구조체의 값 전달 방식 : 복사에 의한 전달"
   ]
  },
  {
   "cell_type": "markdown",
   "metadata": {},
   "source": [
    "### 구조체와 클래스의 결정적 차이 중의 하나가 바로 값을 전달하는 방식이다\n",
    "- #### 구조체는 인스턴스를 생성한 후 이를 변수나 상수에 할당하거나 함수의 인자값으로 전달할 때 값을 복사하여 전달하는 방식을 사용\n",
    "    - #### 이를 \"값 타입(Value Type)\", 또는 \"복사에 의한 전달\"이라고 한다\n",
    "- #### 함수의 인자값은 스위프트에서 제공하는 정수, 문자열, 배열 또는 딕셔너리 등 기본 자료형들은 모두 복사를 통해 값이 전달된다\n",
    "    - #### 이는 이들 자료형이 구조체로 구현되었기 때문이다"
   ]
  },
  {
   "cell_type": "markdown",
   "metadata": {},
   "source": [
    "### 스위프트에서 모든 구조체는 값 타입(Value Type)이다\n",
    "- #### 열거형 역시 값 타입(Value Type)이다\n",
    "    - #### 이 말은 생성하는 모든 구조체 인스턴스들이 상수나 변수에 할당될 때 복사된다는 뜻이다\n",
    "    - #### 물론, 구조체로 정의된 인스턴스들이 함수의 인자값으로 사용될 때도 마찬가지이다"
   ]
  },
  {
   "cell_type": "markdown",
   "metadata": {},
   "source": [
    "### 구조체 인스턴스를 변수에 대입하면 기존의 인스턴스가 그대로 대입되는 것이 아니라 이를 복사한 새로운 값이 대입된다\n",
    "- #### 따라서 변수에 대입된 인스턴스와 기존의 인스턴스는 서로 독립적이다\n",
    "- #### 인스턴스를 할당한 후에 기존 인스턴스나 할당된 쪽의 인스턴스에 무언가 변경이 발생하더라도 서로에게 전혀 영향을 미치지 않는다\n",
    "- #### 양쪽은 값의 복사가 끝난 순간부터 아무 연관도 없는 독립된 인스턴스들이기 때문이다\n",
    "\n",
    "### 예제를 통해 확인\n",
    "\n",
    "```\n",
    "let hd =  Resolution(width: 1920, height 1080)\n",
    "var cinema = hd\n",
    "```"
   ]
  },
  {
   "cell_type": "markdown",
   "metadata": {},
   "source": [
    "### Resolution은 구조체로 정의 되어있다\n",
    "- #### width와 height 프로퍼티가 각각 1920, 1080으로 초기화된 인스턴스를 만들고 이를 hd 상수에 할당\n",
    "- #### 다음 행에서는 cinema라는 변수를 선언하고 여기에 다시 hd 상수를 할당하였다"
   ]
  },
  {
   "cell_type": "markdown",
   "metadata": {},
   "source": [
    "### Resolution은 구조체이므로 hd를 cinema에 대입하는 시점에서 기존 인스턴스의 복사본이 하나 더 만들어진 다음, \n",
    "### 이 복사본이 cinema 변수에 대입된다\n",
    "- #### hd와 cinema는 같은 width와 height 값을 가지고 있지만 값만 같은 뿐 실제로는 별개인 인스턴스가 대입되어 있다"
   ]
  },
  {
   "cell_type": "markdown",
   "metadata": {},
   "source": [
    "### cinema 변수에 할당된 인스턴스의 프로퍼티를 변경해보자\n",
    "\n",
    "```\n",
    "cinema.width = 2048\n",
    "print(\"cinema 인스턴스의 width 값은 \\(cinema.width)입니다\")\n",
    "\n",
    "[실행 결과]\n",
    "cinema 인스턴스의 width 값은 2048입니다\n",
    "```"
   ]
  },
  {
   "cell_type": "markdown",
   "metadata": {},
   "source": [
    "- ### cinema의 width 프로퍼티에 2048을 대입하여 값을 변경하였다\n",
    "    - 출력 결과를 통해 cinema의 값이 정상으로 변경되었음을 알 수 있다\n",
    "\n",
    "### 이번에는 hd 변수에 저장된 width 프로퍼티의 값을 출력해 보자\n",
    "\n",
    "```\n",
    "print(\"hd 인스턴스의 width 값은 \\(hd.width)입니다\")\n",
    "\n",
    "[실행 결과]\n",
    "hd 인스턴스의 width 값은 1920입니다\n",
    "```"
   ]
  },
  {
   "cell_type": "markdown",
   "metadata": {},
   "source": [
    "### 원래의 값이 바뀌지 않은 그대로이다\n",
    "- #### 우리가 hd 인스턴스를 cinema에 할당해주는 시점에 새로운 복사본이 만들어지면서 hd에 저장되어 있던 값들은 모두 새로운 cinema 인스턴스로 복사 되었다\n",
    "- #### 이후로 두 인스턴스는 완전히 분리되었다\n",
    "    - #### 이때문에 hd에 저장된 인스턴스는 cinema 인스턴스의 값 변화에 영향을 받지 않은 채로 기존값을 유지하게 되었다"
   ]
  },
  {
   "cell_type": "markdown",
   "metadata": {},
   "source": [
    "### cinema 인스턴스에서 발생하는 값의 변경은 hd 인스턴스에 아무런 영향을 미치지 못한다\n",
    "### 마찬가지로 hd 인스턴스에 변경이 발생하더라도 cinema 인스턴스에는 아무런 영향을 미치지 않는다\n",
    "- #### 단순히 값의 변경뿐만 아니라 값이 소멸해도 마찬가지이다\n",
    "- #### 둘은 서로 다른 길을 걷고 있는 분리된 인스턴스들이기 때문이다\n",
    "- #### 값이 복사되어 전달될 때 나타나는 현상은 이와 같은 특성을 가진다"
   ]
  },
  {
   "cell_type": "markdown",
   "metadata": {},
   "source": [
    "### 복사된 전체 값이 할당되는 구조체의 특성은 인스턴스를 상수에 할당할 것인지 변수에 할당할 것인지에도 영향을 미친다\n",
    "- #### 구조체 인스턴스가 상수에 할당되면 프로퍼티 값을 변경할 수 없다\n",
    "- #### 값을 변경할 수 있으려면 인스턴스를 변수에 할당해야 한다\n",
    "- #### 이는 인스턴스가 변수나 상수에 할당될 때 구조체 인스턴스에 정의된 프로퍼티 전체값이 그대로 복사되는 구조이다 \n",
    "    - #### 그리하여 할당된 이후에 프로퍼티 값이 변경되면 정의된 프로퍼티 전체값이 그대로 복사되는 구조여서 할당된 이후에 프로퍼티 값이 변경되면 저장된 값 자체가 변경되는 것으로 인식하기 때문이다\n",
    "- #### 그래서 저장된 값 자체를 변경할 수 있는 것은 변수뿐이다\n",
    "- #### 실제로 위의 예제에서 변수 cinema에 할당된 구조체 인스턴스의 프로퍼티는 값을 변경할 수 있다\n",
    "\n",
    "### 그러나 상수 hd에 할당된 구조체 인스턴스의 프로퍼티를 변경하려고 하면 다음과 같은 오류가 발생한다\n",
    "\n",
    "```\n",
    "let hd = Resolution(width: 1920, height: 1080)\n",
    "hd.width = 4096 // Cannot assign to property:\"hd\" is a \"let\" constant\n",
    "```"
   ]
  }
 ],
 "metadata": {
  "kernelspec": {
   "display_name": "Python 3",
   "language": "python",
   "name": "python3"
  },
  "language_info": {
   "codemirror_mode": {
    "name": "ipython",
    "version": 3
   },
   "file_extension": ".py",
   "mimetype": "text/x-python",
   "name": "python",
   "nbconvert_exporter": "python",
   "pygments_lexer": "ipython3",
   "version": "3.7.1"
  }
 },
 "nbformat": 4,
 "nbformat_minor": 2
}
