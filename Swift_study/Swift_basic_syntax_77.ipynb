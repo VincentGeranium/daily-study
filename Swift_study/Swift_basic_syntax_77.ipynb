{
 "cells": [
  {
   "cell_type": "markdown",
   "metadata": {},
   "source": [
    "# 구조체와 클래스\n",
    "## 객체지향 스위프트\n",
    "## 상속(Inheritance)"
   ]
  },
  {
   "cell_type": "markdown",
   "metadata": {},
   "source": [
    "## 서브클래싱(Subclassing)"
   ]
  },
  {
   "cell_type": "markdown",
   "metadata": {},
   "source": [
    "### 클래스 A를 상속받아 새로운 클래스를 정의\n",
    "- #### 이러한 과정을 \"서브클래싱(Subclassing)\"이라고 한다\n",
    "\n",
    "### 즉, 서브클래싱(Subclassing)이란 기존에 있는 클래스를 기반으로 하여 새로운 클래스를 작성하는 과정을 의미한다\n",
    "- #### 여기서 상속은 서브클래싱을 가능하게 하는 기초 역활을 담당한다\n",
    "\n",
    "### 서브클래싱을 위한 문법 구조\n",
    "\n",
    "```\n",
    "class <클래스 이름> : <부모 클래스> {\n",
    "    // 추가로 구현할 내용\n",
    "}\n",
    "```"
   ]
  },
  {
   "cell_type": "markdown",
   "metadata": {},
   "source": [
    "### 서브클래싱 문법, 클래스를 정의할 때\n",
    "- #### 콜론으로 구분하여 왼쪽에 작성하고자 하는 클래스 오른쪽에는 상속받고자 하는 클래스의 이름을 각각 나열하는 것이다\n",
    "\n",
    "### 이때 주의할 점은 스위프트에서 단일 상속만 지원된다는 점이다\n",
    "- #### 다중 상속이 지원되는 C++와는 달리 스위프트의 클래스는 하나의 클래스만 상속받을 수 있다\n",
    "- #### 이는 다중 상속에서 발생하는 메소드나 프로퍼티의 중첩 및 충돌을 방지하기 위함이다"
   ]
  },
  {
   "cell_type": "markdown",
   "metadata": {},
   "source": [
    "### 가끔 코코아 터치 프레임워크의 클래스 정의 구문을 보면\n",
    "- #### 콜론 다음에 나열된 여러 개의 클래스를 보게 될 때도 있는데, 이는 대부분 가장 첫 번째만 상속일 뿐 나머지는 \"구현(Implements)\"이다\n",
    "- #### 여러 개의 클래스를 상속받는 것처럼 보일지라도 실제로 상속받는 것은 첫 번째 작성된 클래스뿐이다"
   ]
  },
  {
   "cell_type": "markdown",
   "metadata": {},
   "source": [
    "### 앞에서 작성한 클래스 A를 사용하여 클래스 B를 서브클래싱\n",
    "\n",
    "```\n",
    "class B: A {\n",
    "    var prop = \"Class B\"\n",
    "    \n",
    "    func boo() -> String {\n",
    "        return \"Class B prop = \\(self.prop)\"\n",
    "    }\n",
    "}\n",
    "\n",
    "let b = B()\n",
    "b.prop // \"Class B\"\n",
    "b.boo() // Class B prop = Class B\n",
    "```"
   ]
  },
  {
   "cell_type": "markdown",
   "metadata": {},
   "source": [
    "### 서브클래싱을 통해 클래스 A의 자식 클래스가 된 클래스 B에는 현재 prop 프로퍼티와 boo 메소드가 선언되어 있다\n",
    "- #### 기본적으로 클래스 B의 인스턴스는 자신의 클래스에서 선언된 프로퍼티와 메소드를 자유롭게 이용할 수 있다\n",
    "\n",
    "```\n",
    "b.name // \"Class A\"\n",
    "b.foo() // \"Class A's method foo is called\"\n",
    "\n",
    "b.name = \"Class C\"\n",
    "b.foo() // \"Class C's method foo is called\"\n",
    "```"
   ]
  },
  {
   "cell_type": "markdown",
   "metadata": {},
   "source": [
    "### 클래스 B에는 분명 name 프로퍼티와 foo 메소드가 정의되어 있지 않음에도 불구하고, 인스턴스 b는 이들을 사용하고 있다\n",
    "- #### 심지어 프로퍼티에 값을 대입하기도 한다\n",
    "- #### 이는 클래스 B가 A를 상속받음으로써 모든 프로퍼티와 메소드를 물려받았기 때문이다\n",
    "\n",
    "### 정리해보자면 서브클래싱 과정을 통해 프로퍼티와 메소드를 상속받은 클래스 B의 현재 상태는 다음과 같다\n",
    "\n",
    "```\n",
    "class B {\n",
    "    var name = \"Class A\"\n",
    "    var prop = \"Class B\"\n",
    "    \n",
    "    var description: String {\n",
    "        return \"This class name is \\(self.name)\"\n",
    "    }\n",
    "    \n",
    "    func foo() {\n",
    "        print(\"\\(self.name)'s method foo is calle\")\n",
    "    }\n",
    "    func boo() -> String {\n",
    "        return \"Class B prop = \\(self.prop)\"\n",
    "    }\n",
    "}\n",
    "```"
   ]
  },
  {
   "cell_type": "markdown",
   "metadata": {},
   "source": [
    "### 이 중에서 name, description 프로퍼티와 foo 메소드는 직접 정의한 것이 아니다\n",
    "- #### 클래스 A로부터 물려받은 것이다\n",
    "- #### 이처럼 상속을 이용하면 기능을 직접 구현하지 않고도 이미 만들어둔 기존 클래스를 통해 손쉽게 기능을 확장할 수 있다\n",
    "- #### 참고로 이때의 클래스 A를 B의 부모 클래스, 또는 슈퍼 클래스라고 하고, 클래스 B를 A의 자식 클래스, 또는 서브 클래스라고 한다"
   ]
  },
  {
   "cell_type": "markdown",
   "metadata": {},
   "source": [
    "### 상속에 대한 문법적인 예제를 살펴보았으므로 이제는 개념적인 예제를 살펴보자\n",
    "- #### 자동차나 자전거, 또는 오토바이 등에 대한 클래스를 만든다고 할 때, 이들을 공통적인 개념으로 묶을 수 있다\n",
    "    - #### 바로 '탈 것(Vehicle), 또는 교통수단'이라는 개념\n",
    "- #### 따라서 기본 클래스로 '탈 것'에 대한 객체를 구현한다 \n",
    "    - #### 여기에 기본 속성과 기능을 부여하게 되면 자전거나 자동차 등 구체적인 객체를 만들려면 탈 것에 대한 객체를 바탕으로 서브클래싱하여 필요한 속성이나 기능을 덧붙이기만 하면 된다"
   ]
  },
  {
   "cell_type": "markdown",
   "metadata": {},
   "source": [
    "### '탈 것'에 대한 기본 클래스 정의\n",
    "```\n",
    "class Vehicle {\n",
    "    var currentSpeed = 0.0\n",
    "    \n",
    "    var description: String {\n",
    "        return \"시간당 \\(self.currentSpeed)의 속도로 이동하고 있습니다\"\n",
    "    }\n",
    "    \n",
    "    \n",
    "    func makeNoise() {\n",
    "        // 임의의 교통수단 자체는 경적을 울리는 기능이 필요없습니다.\n",
    "    }\n",
    "}\n",
    "```"
   ]
  },
  {
   "cell_type": "markdown",
   "metadata": {},
   "source": [
    "### 위와 같이 정의된 기본 클래스 Vehicle에는 현재 하나의 저장 프로퍼티와 하나의 연산 프로퍼티, 그리고 하나의 메소드가 선언되어 있다\n",
    "- #### 저장 프로퍼티인 currentSpeed는 현재의 속도를 저장하며, 이 값은 읽기 전용 연산 프로퍼티인 description에서 사용된다\n",
    "- #### Vehicle 클래스에서 정의된 makeNoise 메소드는 Vehicle 클래스의 인스턴스에서는 아무 역활도 하지 않고 있지만, 나중에 이 클래스의 서브 클래스에서는 적절히 변형되어 사용될 것이다"
   ]
  },
  {
   "cell_type": "markdown",
   "metadata": {},
   "source": [
    "### 기본 Vehicle을 간단하게 인스턴스로 만들어보자\n",
    "\n",
    "```\n",
    "let baseVehicle = Vehicle()\n",
    "baseVehicle.description // \"시간당 0.0의 속도로 이동하고 있습니다\"\n",
    "```"
   ]
  },
  {
   "cell_type": "markdown",
   "metadata": {},
   "source": [
    "### 이처럼 Vehicle 클래스는 임의의 교통수단을 상정하고, 이 객체가 승객을 태우고 특정 속도로 이동하는 공통적인 특성을 정의한다\n",
    "- #### 하지만 기본 클래스로 정의된 Vehicle 클래스는 그 자체로 사용되는 경우가 그리 많지 않다\n",
    "- #### 자동차나 오토바이, 자전거 등 구체적인 교통수단이 아니라 단순히 추상화된 것이기 때문이다\n",
    "- #### 기본 클래스를 유용하게 사용하려면 교통수단의 특정 종류를 서브클래싱하여 구체적이고 개별적인 특성들을 재정의한 다음 사용해야 한다"
   ]
  },
  {
   "cell_type": "markdown",
   "metadata": {},
   "source": [
    "### 기본 클래스 Vehicle을 부모 클래스로 하는 Bicycle 클래스를 작성한 예\n",
    "\n",
    "```\n",
    "class Bicycle : Vehicle {\n",
    "    var hasBasket = false\n",
    "}\n",
    "```"
   ]
  },
  {
   "cell_type": "markdown",
   "metadata": {},
   "source": [
    "### Bicycle은 이름에서도 알 수 있듯이 자전거를 의미하는 클래스이다\n",
    "- #### 이 클래스는 부모 클래스인 Vehicle 클래스의 모든 프로퍼티와 메소드를 상속받았을 뿐만 아니라 여기에 더해서 hasBasket이라는 속성을 추가했다\n",
    "    - #### 이 프로퍼티는 자전거에 부착되는 바구니 여부를 의미한다"
   ]
  },
  {
   "cell_type": "markdown",
   "metadata": {},
   "source": [
    "### hasBasket 프로퍼티의 자전거 객체의 바구니 장착 여부에 따라 값이 달라진다\n",
    "- #### 바구니를 단 자전거이면 true로, 바구니를 달지 않은 자전거이면 false로 설정된다\n",
    "- #### 기본값으로는 false를 설정하였다\n",
    "- #### 이 클래스를 그대로 인스턴스로 만들면 기본값에 따라 바구니가 없는 자전거 객체가 만들어진다\n",
    "- #### 인스턴스가 생성된 후에 hasBasket 프로퍼티의 값을 변경하여 바구니를 장착할 수 있다\n",
    "\n",
    "```\n",
    "let bicycle = Bicycle()\n",
    "bicycle.hasBasket = true\n",
    "```"
   ]
  },
  {
   "cell_type": "markdown",
   "metadata": {},
   "source": [
    "### Bicycle 클래스의 인스턴스를 생성하여 bicycle 상수에 할당한다\n",
    "- #### 이어서 hasBasket 프로퍼티에 true 값을 할당하고 있다\n",
    "- #### 이것으로 자전거 객체에 바구니를 장착한 자전거가 만들어졌다\n",
    "\n",
    "### bicycle 인스턴스는 부모 클래스인 Vehicle에서 정의한 프로퍼티의 값도 수정할 수 있다\n",
    "\n",
    "```\n",
    "// 자전거 객체의 현재 속도를 설정\n",
    "bicycle.currentSpeed = 20.0\n",
    "\n",
    "print(\"자전거: \\(bicycle.description)\")\n",
    "// \"자전거: 시간당 20.0의 속도로 이동하고 있습니다\"\n",
    "```"
   ]
  },
  {
   "cell_type": "markdown",
   "metadata": {},
   "source": [
    "### 부모 클래스 Vehicle에 정의된 currentSpeed와 description 프로퍼티이다\n",
    "- #### currentSpeed에 20.0을 할당하여 현재 속도를 설정하면, 이로 인해 연산 프로퍼티인 description의 값도 변경된다\n",
    "\n",
    "### 기본 클래스 Vehicle뿐만 아니라 자식 클래스인 Bicycle 역시 다른 클래스의 부모 클래스가 될 수 있다\n",
    "- #### Bicycle을 부모 클래스로 하여 새로운 클래스를 서브클래싱할 수도 있다는 이야기이다.\n",
    "- #### Bicycle을 기반으로 서브클래싱된 새로운 자식 클래스는 Bicycle의 프로퍼티나 메소드를 상속받을 뿐만 아니라 Bicycle 클래스의 부모 클래스인 Vehicle 클래스의 프로퍼티나 메소드까지 모두 상속받는다\n",
    "\n",
    "```\n",
    "class Tandem: Bicycle {\n",
    "    var passengers = 0\n",
    "```"
   ]
  },
  {
   "cell_type": "markdown",
   "metadata": {},
   "source": [
    "### Bicycle 클래스를 상속받아 새로운 Tandem 클래스를 정의\n",
    "- #### Tandem은 2인용 자전거를 나타내는 단어\n",
    "- #### 한 사람이 탈 수 있던 자전거에서 두 사람 이상이 탈 수 있는 자전거로 기능이 확장된 것으로 볼 수 있다\n",
    "- #### 이와 더불어 기존에는 필요 없던 프로퍼티가 하나 추가되었다\n",
    "    - #### 바로 탑승자 수 이다\n",
    "- #### Tandem 객체에는 탑승자가 한 명일 수도, 두 명일 수도 있으므로 이 값을 표현하기 위한 프로퍼티 passengers가 선언되어 있다"
   ]
  },
  {
   "cell_type": "markdown",
   "metadata": {},
   "source": [
    "### Tandem 클래스 사용 예제\n",
    "\n",
    "```\n",
    "let tandem = Tandem()\n",
    "\n",
    "tandem.hasBasket = true\n",
    "tandem.passengers = 2\n",
    "tandem.currentSpeed = 14.0\n",
    "\n",
    "print(\"Tandem: \\(tandem.description)\")\n",
    "// \"Tandem : 시간당 14.0의 속도로 이동하고 있습니다\"\n",
    "```\n",
    "\n",
    "- #### 위의 예제에서 사용한 것처럼 Tandem 클래스는 Bicycle 클래스의 메소드와 프로퍼티뿐만 아니라 그 부모 클래스인 Vehicle의 메소드와 프로퍼티까지 모두 상속받았다\n",
    "- #### 이 때문에 예제에서처럼 모든 프로퍼티를 사용할 수 있는 것이다"
   ]
  },
  {
   "cell_type": "markdown",
   "metadata": {},
   "source": [
    "### Bicycle 클래스를 상속받은 Tandem의 프로퍼티와 메소드를 모두 표현하면 다음과 같다\n",
    "\n",
    "```\n",
    "class Tandem {\n",
    "    var currnetSpeed = 0.0\n",
    "    var hasBasket = false\n",
    "    var passengers = 0\n",
    "    \n",
    "    var description: String {\n",
    "        return \"시간당 \\(self.currentSpeed)의 속도로 이동하고 있습니다\"\n",
    "    }\n",
    "    \n",
    "    func makeNoise() {\n",
    "        \n",
    "    }\n",
    "}\n",
    "```"
   ]
  },
  {
   "cell_type": "markdown",
   "metadata": {},
   "source": [
    "### 이러한 메소드와 프로퍼티들의 일부는 Bicycle로부터, 일부는 Vehicle로부터, 그리고 나머지 Tandem에서 직접 정의한 것들이다. \n",
    "\n",
    "### 이 관계를 표현하면 다음과 같다\n",
    "\n",
    "```\n",
    "    Vehicle        >        Bicycle         >        Tandem\n",
    "- currentSpeed            - hasBasket               - passengers\n",
    "- description\n",
    "- makeNoise()\n",
    "```"
   ]
  }
 ],
 "metadata": {
  "kernelspec": {
   "display_name": "Python 3",
   "language": "python",
   "name": "python3"
  },
  "language_info": {
   "codemirror_mode": {
    "name": "ipython",
    "version": 3
   },
   "file_extension": ".py",
   "mimetype": "text/x-python",
   "name": "python",
   "nbconvert_exporter": "python",
   "pygments_lexer": "ipython3",
   "version": "3.7.1"
  }
 },
 "nbformat": 4,
 "nbformat_minor": 2
}
