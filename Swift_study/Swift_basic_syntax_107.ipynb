{
 "cells": [
  {
   "cell_type": "markdown",
   "metadata": {},
   "source": [
    "# 프로토콜(Protocol)\n",
    "## 객체의 설계도\n",
    "## 프로토콜의 활용"
   ]
  },
  {
   "cell_type": "markdown",
   "metadata": {},
   "source": [
    "## 확장 구문과 프로토콜"
   ]
  },
  {
   "cell_type": "markdown",
   "metadata": {},
   "source": [
    "### 클래스나 구조체, 열거형 등의 특정 객체에서 프로토콜을 구현해야 할 경우, 객체 자체의 코드를 수정하여 직접 구현할 수도 있지만 이를 대신하여 익스텐션에서 프로토콜을 구현할 수도 있다\n",
    "- #### 익스텐션은 별도의 타입으로 존재하는 객체라기보다는 기존에 정의되었던 객체 자체를 확장하여 새로운 기능을 추가하는 역활이므로 익스텐션에서 프로토콜을 구현한다는 것은 일반적으로 구조체나 클래스, 열거형에서 프로토콜을 구현하는 것과 차이가 거의 없다"
   ]
  },
  {
   "cell_type": "markdown",
   "metadata": {},
   "source": [
    "### 따라서 익스텐션에서도 기존 객체의 이름 다음에 콜론을 붙이고, 이어서 구현하고자 하는 프로토콜의 이름을 나열하면 된다\n",
    "- #### 물론 익스텐션의 중괄호 블록에서는 프로토콜에 대한 실질적인 내용 구현이 있어야 한다\n",
    "\n",
    "```\n",
    "extension <기존 객체> : <구현할 프로토콜1>, <구현할 프로토콜2> ... {\n",
    "    // 프로토콜의 요소에 대한 구현 내용\n",
    "}\n",
    "```"
   ]
  },
  {
   "cell_type": "markdown",
   "metadata": {},
   "source": [
    "### 이때 확장하기 전 본래의 객체에서는 프로토콜을 구현하지 않았더라도 익스텐션에서 프로토콜을 구현한다면 이후로 해당 객체는 프로토콜을 구현한 것으로 처리된다\n",
    "\n",
    "```\n",
    "class Man {\n",
    "    var name: String?\n",
    "    \n",
    "    init(name: String = \"홍길동\") {\n",
    "        self.name = name\n",
    "    }\n",
    "}\n",
    "\n",
    "protocol Job {\n",
    "    func doWork()\n",
    "}\n",
    "```"
   ]
  },
  {
   "cell_type": "markdown",
   "metadata": {},
   "source": [
    "### 위 예제는 클래스 Man과 프로토콜 Job을 정의하고 있다\n",
    "- #### Man은 Job 프로토콜을 구현하지 않기 때문에 doWork() 메소드 역시 사용할 수 없다\n",
    "- #### 하지만 익스텐션을 사용하면 기존 클래스를 수정하지 않고도 Job 프로토콜을 구현할 수 있다\n",
    "\n",
    "```\n",
    "extension Man: Job {\n",
    "    func doWork() {\n",
    "        print(\"\\(self.name!)님이 일을 합니다\")\n",
    "    }\n",
    "}\n",
    "\n",
    "let man = Man(name: \"개발자\")\n",
    "man.doWork()\n",
    "\n",
    "[실행 결과]\n",
    "개발자님이 일을 합니다\n",
    "```"
   ]
  },
  {
   "cell_type": "markdown",
   "metadata": {},
   "source": [
    "### 주의할 점은 익스텐션에서 저장 프로퍼티를 정의할 수는 없다는 점이다\n",
    "- #### 만약 프로토콜에 정의된 프로퍼티를 구현해야 한다면, 이때에는 연산 프로퍼티로 구현해 주어야 한다"
   ]
  }
 ],
 "metadata": {
  "kernelspec": {
   "display_name": "Python 3",
   "language": "python",
   "name": "python3"
  },
  "language_info": {
   "codemirror_mode": {
    "name": "ipython",
    "version": 3
   },
   "file_extension": ".py",
   "mimetype": "text/x-python",
   "name": "python",
   "nbconvert_exporter": "python",
   "pygments_lexer": "ipython3",
   "version": "3.7.1"
  }
 },
 "nbformat": 4,
 "nbformat_minor": 2
}
