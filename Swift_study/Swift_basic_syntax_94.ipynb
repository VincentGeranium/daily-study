{
 "cells": [
  {
   "cell_type": "markdown",
   "metadata": {},
   "source": [
    "# 열거형과 익스텐션(Enumeration and Extensions)\n",
    "## 코드의 한계를 넓혀주는 문법\n",
    "## 열거형(Enumeration)"
   ]
  },
  {
   "cell_type": "markdown",
   "metadata": {},
   "source": [
    "## 열거형의 활용"
   ]
  },
  {
   "cell_type": "markdown",
   "metadata": {},
   "source": [
    "### 열거형은 클래스나 구조체와 함께 코코아터치 프레임워크에서 아주 많이 사용되는 객체이다\n",
    "- #### 특히 메소드의 호출 옵션이나 스타일을 설정할 때 열거형으로 미리 정의해 둔 멤버들을 속성값으로 사용하는 경우가 많다"
   ]
  },
  {
   "cell_type": "markdown",
   "metadata": {},
   "source": [
    "### 다음은 앨범 이미지나 카메라를 다룰 때 사용하는 이미지 피커 컨트롤러에서 소스 타입을 설정할 때 사용하는 열거형 객체이다\n",
    "\n",
    "```\n",
    "enum UIImagePickerControllerSourceType: Int {\n",
    "    case photoLibrary\n",
    "    case camera\n",
    "    case savedPhotosAlbum\n",
    "}\n",
    "```"
   ]
  },
  {
   "cell_type": "markdown",
   "metadata": {},
   "source": [
    "### 이미지 피커 컨트롤러에서 이미지를 가져올 수 있는 곳은 몇 군데로 제한된다.\n",
    "- #### 포토 라이브러리, 카메라, 그리고 저장 앨범 정도이다\n",
    "- #### 이를 열거형 객체에 저장해 놓고, 소스 타입을 지정할 때 이를 이용하는 것이다"
   ]
  },
  {
   "cell_type": "markdown",
   "metadata": {},
   "source": [
    "### 만약 이 값을 열거형으로 정의해 놓지 않는다면 어떤 문제가 생길 수 있을까?\n",
    "- #### 우선 개발자가 소스 타입을 마음대로 입력할 수 있으므로 잘못된 입력이나 오타로 인하여 심각한 오류가 발생 할 수 있다\n",
    "- #### 뿐만 아니라 이미지가 저장되는 곳이 아닌 엉뚱한 위치에서 임의의 보안 파일을 읽어 들일 가능성도 배제할 수 없다\n",
    "- #### 한마디로 메소드를 이용한 보안 취약점이 생길 수 있는 것이다\n",
    "- #### 이같은 일을 방지하기 위해 iOS는 정해진 곳에서만 이미지 소스를 읽어 들일 수 있도록 소스 타입을 열거형으로 선언하고 이 타입을 속성으로 사용한다"
   ]
  },
  {
   "cell_type": "markdown",
   "metadata": {},
   "source": [
    "### 위 열거형에서 멤버가 실제로 가지는 값은 0,1,2로 극히 단순하다\n",
    "- #### 하지만 열거형을 정의하지 않고 0,1,2와 같은 정수값을 직접 사용할 경우 3,4,5... 등의 임의의 값을 입력할 수 있는 가능성이 충분하다\n",
    "- #### 그러나 열거형 타입을 사용하면 0,1,2 이외의 값은 전혀 입력할 방법이 없다. 보다 안전성을 높일 수 있는 것이다.\n",
    "\n",
    "### 이처럼 입력이 필요한 속성은 모두 열거형 타입으로 정의해서 사용하면 사용자의 입력 범위를 줄일 수 있어 실수를 차단할 수 있을 뿐만 아니라 훨씬 안전한 코드를 작성할 수 있다는 장점이 있다"
   ]
  },
  {
   "cell_type": "markdown",
   "metadata": {},
   "source": [
    "### 열거형을 활용하는 또다른 예는 알림창이다\n",
    "- #### iOS 8 이후로 알림창은 기존의 알림창과 액션 시트가 하나로 통합된 UIAlertController라는 객체를 사용하기 시작\n",
    "    - #### 이 객체에서는 알림창이나 액션 시트의 구분을 preferredStyle 매개변수의 속성값을 통해 제어해야 한다\n",
    "    - #### 이 매개변수는 UIAlertControllerStyle이라는 열거형 타입값을 입력받아 이 알림창이 액션 시트가 될지 경고창이 될지를 결정한다\n",
    "    \n",
    "    ```\n",
    "    let alert = UIAlertController(title: \"알림\",\n",
    "                                 message: \"액션시트창입니다\",\n",
    "                                 preferredStyle: .actionSheet)\n",
    "    ```\n",
    "\n",
    "    ### 또는 이런 값도 사용한다\n",
    "    \n",
    "    ```\n",
    "    let alert = UIAlertController(title: \"알림\",\n",
    "                                 message: \"경고창입니다\", \n",
    "                                 preferredStyle: .alert)\n",
    "    ```\n",
    "    \n",
    "    ### 이때 만약 다음과 같은 방식으로 창 스타일을 입력받는다면, 아마도 입력 과정에서 오류가 빈번하게 발생할 것이다\n",
    "    \n",
    "    ```\n",
    "    let alert = UIAlertController(title: \"알림\",\n",
    "                                 message: \"알림창 메시지입니다\",\n",
    "                                 preferredStyle: \"actionSheet\")\n",
    "    ```"
   ]
  },
  {
   "cell_type": "markdown",
   "metadata": {},
   "source": [
    "### 하지만 이를 단순히 문자열로 입력받지 않고 열거형을 정의하여 사용\n",
    "- #### 덕분에 사용자의 마구잡이식 입력을 제한할 수 있을 뿐만 아니라 컴파일러가 자동완성으로 입력을 보조할 수도 있는 등의 여러 가지 이점이 생겨나고, 입력해야 할 값이 더욱 분명해질 수 있다\n",
    "\n",
    "### 이같이 열거형은 입력해야 할 값을 명확하게 정의하고 여기에서 벗어난 값은 입력되지 않을 수 있도록 차단하여 코드의 안정성을 높이는 역활을 안다"
   ]
  },
  {
   "cell_type": "markdown",
   "metadata": {},
   "source": [
    "### 따라서 열거형의 장점을 충분히 이해하고, 코드 작성 시 사용자의 직접 입력을 열거형 선택으로 대체할 수 있을지 검토하여 가능하다면 적극적으로 활용하는 것이 좋다\n",
    "- #### 다루어야 할 객체가 늘어나는 점이 부담일지 모르지만, 구조적으로는 훨씬 더 안정된 코드를 설계할 수 있기 때문이다"
   ]
  }
 ],
 "metadata": {
  "kernelspec": {
   "display_name": "Python 3",
   "language": "python",
   "name": "python3"
  },
  "language_info": {
   "codemirror_mode": {
    "name": "ipython",
    "version": 3
   },
   "file_extension": ".py",
   "mimetype": "text/x-python",
   "name": "python",
   "nbconvert_exporter": "python",
   "pygments_lexer": "ipython3",
   "version": "3.7.1"
  }
 },
 "nbformat": 4,
 "nbformat_minor": 2
}
