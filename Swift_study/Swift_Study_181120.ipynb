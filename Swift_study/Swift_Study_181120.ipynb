{
 "cells": [
  {
   "cell_type": "markdown",
   "metadata": {},
   "source": [
    "# 1. 스위프트 언어의 특징"
   ]
  },
  {
   "cell_type": "markdown",
   "metadata": {},
   "source": [
    "- C, C++, objective-C, Java처럼 정적 바인딩(Static Binding) 채용\n",
    "    - 데이터 타입 추론 기능에 의해 컴파일러가 알아서 변수와 상수의 타입을 결정하기 때문에 동적 바인딩(Dynamic Binding) 언어인 것처럼 착각되기도 함\n",
    "    - 스위프트는 기본적으로 정적 바인딩 언어이다\n",
    "- 스위프트는 데이터 타입에 대한 구분이 엄격하다\n",
    "    - 스위프트에서 선언된 변수와 상수는 컴파일 단계에서 데이터 타입이 미리 정의되어 있어야 한다\n",
    "    - 일단 변수의 데이터 타입이 정의되면 다른 타입으로 변경할 수 없다\n",
    "        - 이같은 엄격성을 바탕으로 컴파일러는 타입에 맞지 않는 데이터가 변수에 대입되는 것을 사전에 차단하여 안정성을 높일 수 있다\n",
    "- 스위프트는 네임스페이스를 사용하여 필요한 객체들을 참조\n",
    "    - 일반적으로 프로젝트 전체가 네임스페이스의 범위로 지정됨\n",
    "        - 이는 같은 프로젝트 내에 작성된 객체일지라도 objective-C에서는 참조를 위해 일일이 헤더 파일을 반입해 주어야 했던 것과 다르다 \n",
    "        - 스위프트에서 import 구문은 UIKit, Foundation등의 프레임워크나 라이브러리 정도에만 사용하게 되어 개발 생산성을 향상할 수 있게 됨"
   ]
  },
  {
   "cell_type": "markdown",
   "metadata": {},
   "source": [
    "# 2. 스위프트 언어에서 차용하고 있는 주요 기능들"
   ]
  },
  {
   "cell_type": "markdown",
   "metadata": {},
   "source": [
    "## 딕셔너리(해시 테이블) - 자바스크립트, 파이썬\n",
    "- 자바스크립트 프로그래머들은 대괄호 구문을 이용하여 값을 배열로 만들거나 문자열을 입력받는데, 이것이 해시 테이블 역활을 함\n",
    "    - 스위프트도 마찬가지이다.\n",
    "        - 대괄호를 사용하여 해시 테이븡릉 만들 수 있다\n",
    "        - 애플에서는 이것을 \"딕셔너리(Dictionaries)\"라고 부르며, 초기화할 수 있는 구문을 제공한다"
   ]
  },
  {
   "cell_type": "markdown",
   "metadata": {},
   "source": [
    "#### 예시를 통한 스위프트 딕셔너리 구현"
   ]
  },
  {
   "cell_type": "markdown",
   "metadata": {},
   "source": [
    "```\n",
    "var airports = [String : String?]()\n",
    "airports[\"ICN\"] = \"Inchon International Airport\"\n",
    "// If close \"Inchon International Airport\", then delete it\"\n",
    "airports[\"ICN\"] = nil\n",
    "// ICN has now been removed from the dictionary\n",
    "```"
   ]
  },
  {
   "cell_type": "markdown",
   "metadata": {},
   "source": [
    "## 데이터 타입 추론 - 함수형 프로그래밍 언어\n",
    "- 프로그래머 관점에서 변수를 특정 데이터 형식으로 강제하면 코드를 실행해 보기 전에 버그를 미리 잡을 수 있어 효율적이다\n",
    "    - 컴파일러가 데이터 형식을 확인하고 비호환성이 발견되면 오류를 검출해주기 때문\n",
    "- 최근의 우수한 컴파일러들은 데이터로부터 스스로 형식을 추론할 수 있으므로 컴파일러가 알아서 변수에 데이터 형식을 지정할 수 있게 되었다\n",
    "    - 이러함 움직임은 ML과 같은 함수형 언어부터 시작됐으며, 여러 다른 언어에도 등장했다\n",
    "    -MS도 이같은 추론 기능을 닷넷 프레임워크에 추가한 만큼 이제는 주류기능이라고 할 만하다\n",
    "- 데이터 타입은 강제하지만, 데이터 타입을 생략할 수 있는 스위프트 컴파일러의 발전 덕분에 iOS 개발자들도 코드 입력에 드는 수고를 덜 수 있게 됨"
   ]
  },
  {
   "cell_type": "markdown",
   "metadata": {},
   "source": [
    "#### 예시를 통한 스위프트 데이터 타입 추론 구현"
   ]
  },
  {
   "cell_type": "markdown",
   "metadata": {},
   "source": [
    "```\n",
    "let meaningOfLife = 42\n",
    "// meaningOfLife is inferred to be of type Int\n",
    "\n",
    "```"
   ]
  },
  {
   "cell_type": "markdown",
   "metadata": {},
   "source": [
    "## 데이터 구조체 타입 선언 - C#과 자바"
   ]
  },
  {
   "cell_type": "markdown",
   "metadata": {},
   "source": [
    "- 자바는 버전 5에서부터 도입한 제네릭 타입을 통해, 프로그래머가 HashMap, Array 또는 Collection에 넣을 데이터 형식을 컴파일러에게 미리 알릴 수 있도록 지원\n",
    "- 일반적으로 제네릭 타입은 '<' 와 '>' 기호를 이용하여 데이터 구조체에 저장될 형식을 지정하곤 한다\n",
    "- 거의 같은 시기에 이 가능을 C#에 도입하기도 했다.\n",
    "- 스위프트에서도 이와 동일한 방법으로 데이터 구조체에 저장될 타입을 컴파일러에게 미리 알려줄 수 있게 되었다"
   ]
  },
  {
   "cell_type": "markdown",
   "metadata": {},
   "source": [
    "#### 예시를 통한 스위프트 데이터 구조체 타입 선언 구현"
   ]
  },
  {
   "cell_type": "markdown",
   "metadata": {},
   "source": [
    "```\n",
    "var namesOfIntegers = Dictionary<Int, String>()\n",
    "// namesOfIntegers is empty Dictionary<Int, String>\n",
    "```"
   ]
  },
  {
   "cell_type": "markdown",
   "metadata": {},
   "source": [
    "## 문자열 템플릿 - 콜드 퓨전, JSP, 파이썬 등\n",
    "- 프로그래머가 하는 일 대부분은 문자열을 이어 붙이는 작업\n",
    "    - 편의를 위해 많은 프로그래밍 도구들이 변수값을 문자열 템플릿에 삽입하는 기능을 제공\n",
    "        - Cold Fusion, JSP(Java Server Page), PSP(Python Server Page)와 같은 웹 도구들은 오래전부터 데이터와 HTML을 템플릿에서 혼합하는 간편한 방법을 제공해왔다\n",
    "- 스위프트는 역슬래시와 함께 소괄호를 작성, 그 안에 평가할 식이나 변수를 넣어 출력해주는 깔끔한 템플릿 시스템을 제공"
   ]
  },
  {
   "cell_type": "markdown",
   "metadata": {},
   "source": [
    "#### 예시를 통한 스위프트 문자열 템플릿 구현"
   ]
  },
  {
   "cell_type": "markdown",
   "metadata": {},
   "source": [
    "```\n",
    "let apples = 3\n",
    "let oranges = 5\n",
    "let appleSummary = \"I have \\(apples) apples\"\n",
    "let fruitSummary = \"I have \\(apples + oranges) piece of fruit\"\n",
    "```"
   ]
  },
  {
   "cell_type": "markdown",
   "metadata": {},
   "source": [
    "## 선택 사항인 세미콜론 - 자바스크립트와 파이썬\n",
    "- 세미콜론(;)은 한 행의 구문이 끝났음을 알려주는 간편한 방법\n",
    "- 스위프트에서 세미콜론은 라인 끝에 붙일 수 있는 선택 사항이다\n",
    "    - 여러 구문을 한 라인으로 묶어야 할 때에는 세미콜론이 필요\n",
    "    - 각 구문을 개별 라인으로 작성할 때는 애써 세미콜론 기호를 입력할 필요는 없다"
   ]
  },
  {
   "cell_type": "markdown",
   "metadata": {},
   "source": [
    "## 프로토콜(인터페이스) - 자바와 C#\n",
    "- 자바와 C#에서 정교한 객체지향 클래스 구조체를 만드는 프로그래머는 가장 먼저 기본 인터페이스부터 설계를 시작\n",
    "- 인터페이스는 클래스가 정의에 부합하기 위해 제공해야 하는 모든 함수에 대한 구조를 정의하는 기본 클래스\n",
    "- 스위프트는 클래스 모음의 인터페이스에 대해 \"프로토콜(Protocol)\"이라는 용어를 사용"
   ]
  },
  {
   "cell_type": "markdown",
   "metadata": {},
   "source": [
    "#### 예시를 통한 스위프트 프로토콜(인터페이스) 구현"
   ]
  },
  {
   "cell_type": "markdown",
   "metadata": {},
   "source": [
    "```\n",
    "protocol ExampleProtocol{\n",
    "    var simpleDescription : String { get }\n",
    "    mutating func adjust()\n",
    "}\n",
    "```"
   ]
  },
  {
   "cell_type": "markdown",
   "metadata": {},
   "source": [
    "## 튜플 -  리스프와 파이썬\n",
    "- 함수나 메소드에서 가끔 두 개 이상의 값을 반환해야 할 때가 있다\n",
    "    - Lisp와 같은 초기 언어는 모든 요소를 튜플 목록으로 간주\n",
    "    - 파이썬 같은 근래의 언어는 메소드에서 반환되는 N개의 값과 여기에 바인딩되는 N개의 변수를 맞추기 위한 명시적 구문을 제공\n",
    "- 스위프트도 이 방식을 따라 튜플을 지원"
   ]
  },
  {
   "cell_type": "markdown",
   "metadata": {},
   "source": [
    "#### 예시를 통한 스위프트 튜플 구현"
   ]
  },
  {
   "cell_type": "markdown",
   "metadata": {},
   "source": [
    "```\n",
    "func getGasPrices() -> (Double, Double, Double) {\n",
    "    return(3.58, 3.69, 3.79)\n",
    "}\n",
    "getGasPrices()\n",
    "```"
   ]
  },
  {
   "cell_type": "markdown",
   "metadata": {},
   "source": [
    "## 자동 참조(가비지 콜렉터 비슷) - 자바, C#, Objective-C\n",
    "- 가비지 콜렉터는 메모리를 탐색하면서 더는 사용되지 않는 메모리 영역을 회수하는 자동 루틴\n",
    "    - 앞 글자를 따서 GC라고 불리기도 한다\n",
    "- 자바와 C#은 가비지 콜렉터 때문에 프로그램이 잠깐 멈추는 현상이 발생하기도 함\n",
    "- 가비지 콜렉터의 결과로 가용 메모리가 다시 늘어나는 장점이 있다\n",
    "- 가비지 콜렉터를 실행하는 동안 프로세스는 원활한 진행을 방해받는다는 단점도 있다\n",
    "- 스위프트는 자동 참조 카운트(ARC - Auto Referencing Counter)을 사용\n",
    "    - 이는 objective-c 사용자들 사이에서 널리 사용된 것과 비슷한 솔루션"
   ]
  },
  {
   "cell_type": "markdown",
   "metadata": {},
   "source": [
    "## 부호 있는 정수와 부호 없는 정수 - C# 과 Objective-C\n",
    "- 좋은 시스템 프로그램이란 바이트 레벨에서 작동하는 프로그램을 의미하는 경우가 많다\n",
    "- 자바와 같은 일부 추상적 언어는 부호 없는 정수의 복잡성을 회피했지만, C# 언어는 이를 수용했다\n",
    "- 스위프트 역시 1, 2, 4, 8바이트의 부호 없는 정수와 부호 있는 정수를 제공"
   ]
  },
  {
   "cell_type": "markdown",
   "metadata": {},
   "source": [
    "#### 예시를 통한 스위프트 부호 있는 정수와 부호 없는 정수 구현"
   ]
  },
  {
   "cell_type": "markdown",
   "metadata": {},
   "source": [
    "```\n",
    "let pink : UInt32 = 0xCC6699\n",
    "    \n",
    "let redComponent = (pink & 0xFF0000) >> 16\n",
    "//redComponent is 0xCC, or 204\n",
    "\n",
    "let greenComponent = (pink & 0x00FF00) >> 8\n",
    "//greenComponent is 0x66, or 102\n",
    "\n",
    "let blueComponent = pink & 0x0000FF\n",
    "// bluecomponent is 0x99, or 153\n",
    "```"
   ]
  },
  {
   "cell_type": "markdown",
   "metadata": {},
   "source": [
    "## 클로저(Closure) - 리스프와 스킴에서 자바스크립트까지\n",
    "- 자바스크립트 프로그래머는 소량의 코드를 묶어서 함수처럼 전달하는 클로저를 사용할 수 있다\n",
    "    - 이러한 클로저는 람다 함수 아이디어를 개발한 리스프, 스킴과 같은 언어에서 가져온 것\n",
    "    - 스위프트는 클로저를 제공할 뿐만 아니라 함수를 1급 객체로 간주, 인자값으로 함수 자체를 전달하는 기능을 제공"
   ]
  },
  {
   "cell_type": "markdown",
   "metadata": {},
   "source": [
    "#### 예시를 통한 스위프트 클로저 구현"
   ]
  },
  {
   "cell_type": "markdown",
   "metadata": {},
   "source": [
    "```\n",
    "let numbers = [Int]()\n",
    "\n",
    "numbers,map({\n",
    "    (number:Int) -> Int in\n",
    "    let result = 3 * number\n",
    "    return result\n",
    "})\n",
    "```"
   ]
  },
  {
   "cell_type": "markdown",
   "metadata": {},
   "source": [
    "## 멀티 라인 쿼우팅 (Multi-Line-Quoting)\n",
    "- 파이썬 프로그래머들은 세 개의 따옴표를 겹친 \"\"\" ~ \"\"\"를 이용, 여러 줄의 문자열을 간편하게 입력\n",
    "    - 줄바꿈이나 범위에 상관없이 \"\"\"로 시작하고 \"\"\"로 닫기만 하면 그 안에 표현된 모든 문자열(공백까지 포함한)이 그대로 처리\n",
    "- 스위프트에서도 4.0 이후, 파이썬의 이와 같은 멀티 라인 쿼우팅 문법을 거의 그대로 도입\n",
    "    - 파이썬처럼 큰따옴표를 세 개 겹친 \"\"\"로 문자열의 시작과 끝을 나타내는 방식으로 여러 줄의 문자열을 간편하게 입력\n",
    "    - 이는 문자열 내부에 인위적인 줄바꿈 문자('\\n')를 넣어주지 않아도 된다"
   ]
  },
  {
   "cell_type": "markdown",
   "metadata": {},
   "source": [
    "#### 예시를 통한 스위프트 멀티 라인 쿼우팅 (Multi-Line-Quoting) 구현"
   ]
  },
  {
   "cell_type": "markdown",
   "metadata": {},
   "source": [
    "```\n",
    "let query = \"\"\"\n",
    "    SELECT member_id, member_name, member_level, nick_name\n",
    "      FROM member\n",
    "      WHERE login_id = ? AND password = ?\n",
    "\"\"\"\n",
    "```"
   ]
  }
 ],
 "metadata": {
  "kernelspec": {
   "display_name": "Python 3",
   "language": "python",
   "name": "python3"
  },
  "language_info": {
   "codemirror_mode": {
    "name": "ipython",
    "version": 3
   },
   "file_extension": ".py",
   "mimetype": "text/x-python",
   "name": "python",
   "nbconvert_exporter": "python",
   "pygments_lexer": "ipython3",
   "version": "3.7.1"
  }
 },
 "nbformat": 4,
 "nbformat_minor": 2
}
