{
 "cells": [
  {
   "cell_type": "markdown",
   "metadata": {},
   "source": [
    "# 함수 (Function)\n",
    "## 함수의 호출"
   ]
  },
  {
   "cell_type": "markdown",
   "metadata": {},
   "source": [
    "- #### 함수를 실행하는 것을 \"함수를 호출한다\"하고 표현\n",
    "- ### 기본적으로 함수를 호출할 때는 함수의 이름에 괄호를 붙이면 된다ㅡ"
   ]
  },
  {
   "cell_type": "markdown",
   "metadata": {},
   "source": [
    "### 함수 호출 구문 예제\n",
    "#### 함수 정의\n",
    "\n",
    "```\n",
    "func printHello() {\n",
    "    print(\"안녕하세요\")\n",
    "}\n",
    "```\n",
    "\n",
    "#### 함수 호출\n",
    "```\n",
    "printHello() // 안녕하세요\n",
    "```"
   ]
  },
  {
   "cell_type": "markdown",
   "metadata": {},
   "source": [
    "- 함수를 호출하는 구문을 보면 함수를 정의한 구문에서 func 키워드와 뒤의 중괄호 블록 부분만 뗀 것에 지나지 않는 것처럼 보인다\n",
    "    - #### 하지만 이때 함수의 이름 다음에 붙은 괄호는 함수를 정의할 때 사용된 괄호와는 의미가 다르다\n",
    "- ### 함수를 정의할 때 사용한 괄호는 매개변수를 선언하기 위한 영역\n",
    "- ### 함수를 호출할 때 사용한 괄호는 \"함수를 호출하는 연산자\""
   ]
  },
  {
   "cell_type": "markdown",
   "metadata": {},
   "source": [
    "- #### 매개변수가 없는 함수는 그냥 빈 괄호만 붙여서 호출하면 된다\n",
    "- ### 매개변수를 가지고 있는 함수는 호출할 때 괄호 안에 인자값을 넣어서 호출해야 한다\n",
    "    - ### 이때 인자값은 앞에서 정의된 매개변수 타입과 일치해야 한다\n",
    "        - #### 매개변수의 타입이 정수라면 인자값도 정수여야 한다\n",
    "        - #### 매개변수의 타입이 문자열이라면 인자값도 문자열이어야 한다"
   ]
  },
  {
   "cell_type": "markdown",
   "metadata": {},
   "source": [
    "### 함수 호출시 매개변수의 타입과 인자값의 일치\n",
    "#### 함수의 정의\n",
    "\n",
    "```\n",
    "func printHelloWithName(name: String) {\n",
    "    print(\"\\(name)님, 안녕하세요\")\n",
    "}\n",
    "```\n",
    "\n",
    "#### 함수 호출\n",
    "\n",
    "```\n",
    "let inputName = \"이선빈\"\n",
    "printHelloWithName(name:inputName)\n",
    "// 이선빈님, 안녕하세요\n",
    "```"
   ]
  },
  {
   "cell_type": "markdown",
   "metadata": {},
   "source": [
    "- ### 위의 함수는 무자열 타입의 매개변수가 정의되어 있으므로, 호출 시 문자열을 인자값으로 넣어주어야 한다\n",
    "    - #### 위의 예제에서는 문자열 상수를 인자값으로 사용하여 호출\n",
    "- ### 타입만 일치한다면 변수든 상수든 인자값으로 사용하는 데에 아무런 제한이 없다\n",
    "    - #### 간혹 불필요한 코드를 줄이기 위해 인자값으로 변수나 상수 대신 실제 값 자체를 바로 넣어주기도 한다\n",
    "        - ### 이렇게 넣어주는 실제 값을 \"리터럴(Literal)\"이라고 한다"
   ]
  },
  {
   "cell_type": "markdown",
   "metadata": {},
   "source": [
    "### 리터럴을 이용한 함수 호출\n",
    "\n",
    "```\n",
    "printHelloWithName(name: \"이선빈\")\n",
    "```"
   ]
  },
  {
   "cell_type": "markdown",
   "metadata": {},
   "source": [
    "- ### 호출 구문에서 인자값을 입력하는 방법이 특이하다\n",
    "    - #### 인자값 앞에 넣어주고 있는 레이블이 있다\n",
    "- ### 호출 과정에서 이 레이블을 빼고 함수를 호출하면 (Missing argument label 'name:' in call) Error 발생한다"
   ]
  },
  {
   "cell_type": "markdown",
   "metadata": {},
   "source": [
    "- ### 인자 레이블은 함수의 호출 시 인자값을 구분하기 위해 사용되는 레이블이다\n",
    "    - #### 위 오류 메세지에서 나온 name:이 인자 레이블에 해당\n",
    "- ### 스위프트에서 인자값이 있는 함수를 호출할 때에는 인자값 앞에 기본적으로 인자 레이블을 붙여서 호출\n",
    "    - ### 만약 인자 레이블 없이 인자값을 호출하면 컴파일 오류가 발생한다"
   ]
  },
  {
   "cell_type": "markdown",
   "metadata": {},
   "source": [
    "- ### 일반적으로 스위프트에서 인자 레이블은 매개변수명과 동일하다\n",
    "    - ### 다시 말해 함수를 정의할 때 사용했던 매개변수명을 함수 호출 시에도 붙여주어야 한다는 뜻이다\n",
    "    - #### 위 함수에서 name는 매개변수이자 동시에 인자 레이블이다\n",
    "        - #### 함수를 호출할 때 name:레이블을 생략하면 오류가 발생"
   ]
  },
  {
   "cell_type": "markdown",
   "metadata": {},
   "source": [
    "### 매개변수가 있는 함수의 예\n",
    "\n",
    "```\n",
    "// 입력된 (값 X 횟수) 만큼 카운트 변수의 값을 증가\n",
    "func incrementBy(amount: Int, numberOfTimes: Int) {\n",
    "    var count = 0\n",
    "    count = amount * numberOfTimes\n",
    "}\n",
    "```"
   ]
  },
  {
   "cell_type": "markdown",
   "metadata": {},
   "source": [
    "- ### incrementBy 함수는 두 개의 매개변수, amount와 numberOfTimes를 가진다\n",
    "    - #### 기본적으로 스위프트는 amount와 numberOfTimes를 매개변수명이자 동시에 인자 레이블로 간주한다\n",
    "    - ### 이 함수를 호출할 때에는 다음과 같이 인자값 앞에 amount, numberOfTimes 레이블을 붙여 주어야 한다"
   ]
  },
  {
   "cell_type": "markdown",
   "metadata": {},
   "source": [
    "### 함수의 호출, 인자값 앞에 레이블을 붙여 주는 예시\n",
    "\n",
    "```\n",
    "incrementBy(amount: 5, numberOfTimes: 2)\n",
    "```"
   ]
  },
  {
   "cell_type": "markdown",
   "metadata": {},
   "source": [
    "- ### 함수를 호출할 때 이처럼 인자 레이블을 붙여주는 것은 인자값의 목적을 확실하게 드러내 줄 뿐만 아니라, 비슷하지만 서로 다른 의미로 사용되는 함수를 구분하기 위함이다.\n",
    "    - 스위프트 공식 문서에서 이렇게 설명"
   ]
  },
  {
   "cell_type": "markdown",
   "metadata": {},
   "source": [
    "- 이러한 것들은 타 언어에서 찾아보기 힘든 독특한 문법이다\n",
    "    - 이 문법에 대해 스위프트 표준 문서에서는 인자값의 목적을 분명하게 전달할 수 있다는 등의 편리함과 이점을 설명"
   ]
  },
  {
   "cell_type": "markdown",
   "metadata": {},
   "source": [
    "- 스위프트처럼 함수를 호출할 때 인자 레이블을 넣어 작성할 수 있는 언어가 하나 더 있다\n",
    "    - #### 파이썬\n",
    "- 파이썬은 필요에 의해 함수 호출 시 인자값 앞에 매개변수명을 붙일 수 있는 문법을 지원\n",
    "- 사실 외견상은 유사하지만 실제 문법적 의미는 스위프트와 전혀 다르다"
   ]
  },
  {
   "cell_type": "markdown",
   "metadata": {},
   "source": [
    "- 파이썬에서 인자값 앞에 레이블을 붙이는 이유는 인자값의 순서를 지키지 않고 입력하기 위함\n",
    "- 함수를 정의할 때 작성한 매개변수명을 인자값 앞에 구분자로 붙여줌으로써, 함수에서 매개변수를 정의한 순서대로 인자값을 입력하지 않더라도 파이썬이 이를 이해할 수 있다\n",
    "    - 그래서 이같은 방식은 주로 인자값의 수가 많아서 차례대로 입력하기 어려울 때 사용된다"
   ]
  },
  {
   "cell_type": "markdown",
   "metadata": {},
   "source": [
    "- 파이썬 함수 호출 구문은 기본적으로 레이블 없이 인자값만 순서대로 넣어주는 문법을 우선 지원한다\n",
    "    - 레이블을 붙이지 않으면 오류가 발생, 인자값의 입력 순서를 변경할 수도 없는 스위프트와는 관점이 다르다"
   ]
  },
  {
   "cell_type": "markdown",
   "metadata": {},
   "source": [
    "### 파이썬 함수의 정의\n",
    "\n",
    "```\n",
    "def upload(appId, osType, user, passwd) :\n",
    "    print(infile, appId, osType, user, passwd)\n",
    "    return\n",
    "```\n",
    "\n",
    "### 파이썬 함수의 호출\n",
    "    \n",
    "```\n",
    "upload('1001' , 'ios' , 'abc' , '1234') # 매개변수 없는 기본 호출\n",
    "upload(osType='ios' , passwd='1234' , appId='1001' , user='abc') # 매개변수를 사용한 호출\n",
    "```"
   ]
  },
  {
   "cell_type": "markdown",
   "metadata": {},
   "source": [
    "- #### 스위프트가 이런 문법을 채택한 배경은 사실 Objective-C 언어 때문이다\n",
    "    - #### Objective-C가 사용하고 있는 문법 스타일과 호환성을 가지려고 시도한 노력에 따른 결과\n",
    "- ### 딱히 인자 레이블을 사용하는 방식이 더 낫기 때문이 아니라, Objective-C의 문법에 맞추어 작성된 코코아 프레임워크 및 코코아 터치 프레임워크를 최대한 변경하지 않고 자연스럽게 호환하여 사용할 수 있도록 하기 위한 배력의 성격이 더 크다"
   ]
  },
  {
   "cell_type": "markdown",
   "metadata": {},
   "source": [
    "- #### Objective-C 에서는 함수보다 \"메소드\"라는 것을 더 많이 사용하는데, 스위프트의 함수와 거의 같은 문법이다\n",
    "- #### 다른 점이라면 호출 시 인자값을 전달하기 위해 괄호 대신 콜론( : )을 사용한다는 것 정도라고 할 수 있다"
   ]
  },
  {
   "cell_type": "markdown",
   "metadata": {},
   "source": [
    "### Objective-C에서 매개변수가 없는 메소드의 정의와 호출\n",
    "\n",
    "```\n",
    "// 정의\n",
    "- (void) incrementBy {\n",
    "}\n",
    "// 호출\n",
    "[대상 객체 incrementBy]\n",
    "```"
   ]
  },
  {
   "cell_type": "markdown",
   "metadata": {},
   "source": [
    "- #### Objective-C에서 매개변수가 없는 메소드는 위와 같이 정의하고, 호출할 때에는 대괄호([])로 감싸 호출한다\n",
    "- #### 이 메소드의 이름은 'incrementBy'이다.\n",
    "    - #### 만약 이 메소드에 매개변수를 추가한다면 함수를 정의할 때에는 다음과 같이 메소드명 다음에 괄호 대신 콜론을 붙여서 매개변수의 이름과 타입을 정의\n",
    "    - #### 호출할 때에는 콜론 다음에 인자값을 넣어준다\n",
    "\n",
    "```\n",
    "// 정의\n",
    "- (void) incrementBy:(NSInteger) amount {\n",
    "}\n",
    "\n",
    "// 호출\n",
    "[incrementBy: 3]\n",
    "```"
   ]
  },
  {
   "cell_type": "markdown",
   "metadata": {},
   "source": [
    "- #### Objective-C에서는 매개변수가 추가되면 메소드 이름도 영향을 받는다\n",
    "    - #### 이 메소드의 이름은 이제 'incrementBy:'가 되었다\n",
    "- #### 뭐가 달라진 것일까??\n",
    "    - ### 메소드 이름 뒤에 붙은 콜론\n",
    "        - ### Objective-C에서 매개변수가 있는 메소드의 이름에는 콜론이 추가된다"
   ]
  },
  {
   "cell_type": "markdown",
   "metadata": {},
   "source": [
    "- #### incrementBy , 매개변수를 갖지 않는 메소드 이름\n",
    "- #### incrementBy: , 하나의 매개변수를 갖는 메소드의 이름"
   ]
  },
  {
   "cell_type": "markdown",
   "metadata": {},
   "source": [
    "- ### 그런데 Objective-C 에서는 인자값을 넣어 호출할 때 괄호를 사용하지 않는다\n",
    "\n",
    "### 인자값 하나는 그렇다 치더라도, 이 메소드가 두 번째 인자값까지 입력받아야 할 경우에는 인자값을 어떻게 구분??\n",
    "- #### Objective-C에서는 두 번째 인자값부터는 인자 레이블을 사용하여 구분\n",
    "    - #### 이를 위한 레이블명을 함수를 정의할 때 미리 추가한 다음, 호출할 때 인자값 앞에 붙여주는 것이다\n",
    "\n",
    "```\n",
    "//정의\n",
    "- (void) incrementBy: (NSInteger) amount numberOfTimes:(NSInteger) times {\n",
    "}\n",
    "    \n",
    "//호출\n",
    "[incrementBy:3 numberOfTimes:2]\n",
    "```"
   ]
  },
  {
   "cell_type": "markdown",
   "metadata": {},
   "source": [
    "- #### 이 메소드의 매개변수는 두 개이다\n",
    "    - #### amount와 times\n",
    "- #### 첫 번째 매개변수와 두 번째 매개변수 사이에 추가되어 있는 numberOfTimes 부분이 바로 인자 레이블이다\n",
    "    - #### 메소드를 호출할 때에는 이 값을 사용하여 두 번째 인자값을 구분해준다\n",
    "- #### 인자 레이블의 역활은 생각보다 중요하다, 인자 레이블에 오타가 있을 경우 메소드를 호출할 수 없다.\n",
    "    - #### 또한 같은 이름의 메소드라 할지라도 중간의 인자 레이블이 다르게 작성되어 있다면 Objective-C는 서로 다른 메소드로 인식한다"
   ]
  },
  {
   "cell_type": "markdown",
   "metadata": {},
   "source": [
    "### 서로 다른 메소드 예시\n",
    "\n",
    "- #### (void) incrementBy:(NSInteger) amount numberOfTimes:(NSInteger) times\n",
    "- #### (void) incrementBy:(NSInteger) amount numbers:(NSInteger) times\n"
   ]
  },
  {
   "cell_type": "markdown",
   "metadata": {},
   "source": [
    "- ### 함수를 정확하게 구별하기 위해서는 반드시 인자 레이블이 필요\n",
    "    - #### Objective-C에서는 인자 레이블을 함수를 식별할 수 있는 중요한 요소로 간주하여 메소드명에 포함한다\n",
    "        - #### 위의 예제에서도 numberOfTimes: 는 메소드명에 포함되어 전체 메소드명은 incrementBy:numberOfTimes: 가 된다\n",
    "- ### 이것이 Objective-C에서 매개변수가 추가될 때마다 메소드명이 바뀌는 이유\n",
    "    - #### 매개변수가 추가될 때마다 구분을 위해 인자 레이블도 함께 추가해 주기 위해서이다\n",
    "    - 이때 콜론까지 메소드명에 포함되는 것에 주의해야 한다"
   ]
  },
  {
   "cell_type": "markdown",
   "metadata": {},
   "source": [
    "- #### Objective-C에서 첫 번째 매개변수명 앞에 인자 레이블이 없는 이유도 인자 레이블의 역활을 떠올려보면 쉽게 이해할 수 있다\n",
    "    - ### 인자 레이블은 괄호가 없는 Objcetive-C의 함수 호출 구조문에서 인자값을 구분하기 위해 사용되는데, 첫 번째 인자값은 함수의 이름 뒤에 작성되므로 굳이 구분할 필요가 없다"
   ]
  },
  {
   "cell_type": "markdown",
   "metadata": {},
   "source": [
    "### incrementBy:numberOfTimes: 메소드의 구조를 역활에 따라 분해\n",
    "\n",
    "```\n",
    "- (void) incrementBy:(NSInteger) amount numberOfTimes:(NSInteger) times\n",
    "```\n",
    "\n",
    "- #### -(void) , 반환타입\n",
    "- #### incrementBy: , 메소드 이름\n",
    "- #### numberOfTimes: , 메소드 이름 그리고 인자레이블\n",
    "- #### (NSInteger) amount , 매개변수\n",
    "- #### (NSInteger) times , 매개변수"
   ]
  },
  {
   "cell_type": "markdown",
   "metadata": {},
   "source": [
    "- #### Objective-C 에서는 메소드를 정의할 때 두 번째 매개변수부터는 인자 레이블을 인자값 앞에 붙여주는 방식을 취한다\n",
    "    - #### 괄호를 사용하지 않으므로 인자값을 쉽표 ( , )로 구분할 수 없어서이다\n",
    "        - #### 이 인자 레이블은 메소드명에 포함되어 함께 사용된다\n",
    "            - #### 따라서 매개변수의 개수가 늘어날 경우 메소드명도 점점 길어지게 된다"
   ]
  },
  {
   "cell_type": "markdown",
   "metadata": {},
   "source": [
    "### 메소드의 이름 변화에 따른 특성\n",
    "\n",
    "- #### 매개변수가 없을 때 , incrementBy\n",
    "- #### 매개변수가 하나일 때, incrementBy:\n",
    "- #### 매개변수가 두 개일 때, incrementBy: numberOfTimes:"
   ]
  },
  {
   "cell_type": "markdown",
   "metadata": {},
   "source": [
    "- ### 문제는 사용해야 할 코코아 프레임워크 및 코코아 터치 프레임워크가 Objective-C 기반으로 작성되었다는 데에 있다.\n",
    "    - ### 이들 프레임워크의 API를 사용하려면 인자 레이블을 사용하는 문법으로 작성된 메소드를 사용해야 한다는 것이다"
   ]
  },
  {
   "cell_type": "markdown",
   "metadata": {},
   "source": [
    "- ### 이런 방식의 API 호출은 Objective-C 이외의 문법에서는 거의 사용되지 않지만, 그렇다고 해서 API의 형식을 마음대로 변경해버릴 수 없다\n",
    "    - #### 스위프트에서도 코코아 프레임워크 및 코코아 터치 프레임워크를 사용해야 하는데, 인자 레이블을 사용하지 않는 형식으로 변경하면 기존 Objective-C로 만든 코드에 대한 호환성이 떨어진다\n",
    "        - ### 그래서 스위프트에서도 Objective-C 메소드 호출 방식의 API를 수정 없이 그대로 사용하기 위해 최대한 형식을 맞춘 결과, 지금과 같은 독특한 문법이 만들어졌다"
   ]
  },
  {
   "cell_type": "markdown",
   "metadata": {},
   "source": [
    "### 스위프트 문법으로 함수 호출 구문\n",
    "\n",
    "- #### 스위프트 함수 호출의 특성을 고려한다면 다음과 같이 인자 레이블을 붙여서 호출해야 정상적으로 실행된다\n",
    "\n",
    "```\n",
    "incrementBy(amount: 5, numberOfTimes: 2)\n",
    "```"
   ]
  },
  {
   "cell_type": "markdown",
   "metadata": {},
   "source": [
    "### Objective-C와 다른 점이 있다\n",
    "- ### Objcetive-C 에서는 메소드를 호출할 때 첫 번째 인자값 앞에는 인자 레이블을 붙이지 않는다"
   ]
  },
  {
   "cell_type": "markdown",
   "metadata": {},
   "source": [
    "- #### 스위프트에서 지금의 인자 레이블의 개념은 여러 번 문법 개선을 거친 결과이다\n",
    "- #### 처음 스위프트 언어가 발표되었을 때 스위프트에서는 다음과 같은 규칙을 세웠다\n",
    "    - #### 함수에는 선택적으로 레이블을 지정할 수 있다. 함수를 호출할 때에는 인자 레이블을 지정한 함수만 인자 레이블을 붙여 주면 된다\n",
    "    - #### 단, 메소드에서는 호출 시 반드시 인자 레이블을 사용해야 한다"
   ]
  },
  {
   "cell_type": "markdown",
   "metadata": {},
   "source": [
    "- ### 최초의 스위프트에서는 함수를 정의할 때 인자 레이블을 굳이 지정할 필요가 없었다\n",
    "    - #### 필요에 의해 지정한 경우에 한해서만 호출할 때 붙여주면 되었다\n",
    "- ### 하지만 함수와 유사한 성격의 메소드에서는 달라서, 반드시 인자 레이블을 사용해서 호출해야 했다\n",
    "    - ### 이유는 호환성을 유지해야 하는 Objective-C의 메소드가 모두 인자 레이블을 사용하고 있었기 때문이다\n",
    "    \n",
    "### 이런 식으로 스위프트는 Objcetive-C의 메소드와 호환성을 유지했다."
   ]
  },
  {
   "cell_type": "markdown",
   "metadata": {},
   "source": [
    "- ### 그런데 코코아 터치 프레임워크에서 사용되는 대부분의 API들이 Objective-C 문법에 맞춘 인자 레이블을 사용하고 있기는 하지만, 첫 번째 인자값 앞에는 인자 레이블을 생략하는 것이 일반적인 방식이였다\n",
    "    - #### 이에 따라 스위프트로서도 뭔가 대응이 필요했다\n",
    "        - #### 그래서 메소드에 인자 레이블을 생략할 수 있도록 하는 문법을 추가했다\n",
    "        - #### 이 문법 덕분에 Objective-C와 큰 차이 없이 API를 호출할 수 있었다.\n",
    "- 이 시기의 코코아 터치 프레임워크는 Objective-C 문법의 그것과 거의 다르지 않았기 때문에 개발자들은 Objective-C 문법으로 사용하던 코코아 터치 프레임워크의 API를 별다른 안내 문서 없이 Xcode의 도움만으로 스위프트로 바꾸어 사용하는 것이 가능했었다"
   ]
  },
  {
   "cell_type": "markdown",
   "metadata": {},
   "source": [
    "- 그러나 시간이 조금 지난 후, 다음과 같은 생각이 대두되었다\n",
    "    - #### 어차피 API를 호출할 때 첫 번째 인자 레이블을 생략해줄 거라면, 애써 예외 문법을 적용해서 작성하느니 그냥 처음부터 생략할 수 있도록 해주면 안될까?"
   ]
  },
  {
   "cell_type": "markdown",
   "metadata": {},
   "source": [
    "- #### 게다가, 함수와 메소드가 거의 동일한 성격임에도 굳이 인자 레이블에 대한 문법 차이가 있다는 것 또한 비판의 대상이 되었다\n",
    "    - #### 결국 함수의 호출 구문에서도 인자 레이블이 필수가 되었다\n",
    "        - ### 인자 레이블 개념을 버릴 수는 없었다\n",
    "            - #### 이에 따라 함수 호출 문법은 다음과 같이 변경된다\n",
    "            \n",
    "### 함수와 메소드를 호출할 때에는 모든 인자값 앞에 인자 레이블을 붙여주어야 한다 단, 첫 번째 인자값에 한해 생략이 가능하다"
   ]
  },
  {
   "cell_type": "markdown",
   "metadata": {},
   "source": [
    "- #### 덕분에 Objective-C와 상당히 유사한 형태의 호환성을 문법 수준에서 유지할 수 있게 되었다\n",
    "    - ### 하지만 문법 자체가 예외성을 가지고 있다는 것은 좋은 구조가 아니었기 때문에, 이에 대한 비판이 제기되었다\n",
    "    \n",
    "### 왜 첫 번째 인자값만 예외 규정을 적용하는 것일까?? 스위프트가 코코아 터치 프레임워크만을 위한 언어는 아니지 않은가.\n",
    "\n",
    "- ### 결국 스위프트는 함수의 호출 구문에서 첫 번째 인자값에 부여하던 예외를 문법적으로 제거함으로써, 다시 처음 구조로 회귀하게 된다\n",
    "    - #### 스위프트 3의 발표와 함께 벌어진 일\n",
    "        - #### 이제 스위프트에서 함수와 메소드를 호출할 때에는 기본적으로 모든 인자 레이블을 함께 호출해야 한다\n",
    "        - ### 첫 번째 인자 레이블도 예외는 아니다"
   ]
  },
  {
   "cell_type": "markdown",
   "metadata": {},
   "source": [
    "- ### 이같은 원론적 회귀는 스위프트 언어가 갖는 주 목적의 변화와 무관하지 않다\n",
    "- ### 최초에 발표된 스위프트가 언어 자체의 특성에 초점을 맞추었다면 그다음의 스위프트는 코코아 터치 프레임워크를 사용하기 위한 역활로서의 언어에 초점을 맞추었다\n",
    "    - #### 이에 따라 코코아 터치 프레임워크에 적용하기 좋은 형태로 문법이 변화된 것이다.\n",
    "- #### 하지만 이후 스위프트가 오픈소스로 공개됨에 따라, 코코아 프레임워크만을 위한 문법 예외 사항을 유지하는 것이 비일관적이라는 지적이 이어진다\n",
    "    - ### 이에 따라 일관성 있는 규칙을 적용하기 위해 다시 초기의 문법으로 회귀하게 된 것이다"
   ]
  },
  {
   "cell_type": "markdown",
   "metadata": {},
   "source": [
    "- #### 스위프트에서 함수의 인자 레이블은 단순히 호출 구문에 국한되지 않고, 함수를 식별하는 데에도 사용된다\n",
    "    - #### Objective-C와 유사한 맥락이다\n",
    "- #### 스위프트에서 매개변수가 없는 함수의 이름은 다른 일반 언어에서의 함수 이름 형식과 크게 다르지 않다\n",
    "    - ### 하지만, 매개변수가 있는 함수 이름은 다음과 같이 맨 앞의 함수 이름 부분과 이어지는 인자 레이블의 조합으로 이루어진다\n",
    "    - #### 예를 들어 func incrementBy(amount:Int, numberOfTimes:Int) 함수의 이름은 아래 강조 표시된 부분들의 합으로 구성된다"
   ]
  },
  {
   "cell_type": "markdown",
   "metadata": {},
   "source": [
    "```\n",
    "func incrementBy(amount:Int, numberOfTimes:Int)\n",
    "```\n",
    "#### incrementBy\n",
    "#### amount:\n",
    "#### numberOfTimes:"
   ]
  },
  {
   "cell_type": "markdown",
   "metadata": {},
   "source": [
    "- #### 이 함수의 이름은 incrementBy(amount:Int, numberOfTimes:Int)이다\n",
    "    - #### 매개변수가 없는 함수가 단순히 incrementBy()인 것과 달리 매개변수가 있는 함수는 괄호 안에 매개변수명과 콜론이 차례로 나열되는 특성을 가진다"
   ]
  },
  {
   "cell_type": "markdown",
   "metadata": {},
   "source": [
    "### 함수 이름 규칙 예시\n",
    "- #### func incrementBy() // 함수정의 , incrementBy() // 함수명\n",
    "- #### func incrementBy(amount:Int) // 함수정의  , incrementBy(amount:) // 함수명\n",
    "- #### func incrementBy(amount:Int, numberOfTimes:Int) // 함수정의 , incrementBy(amount:numberOfTimes:) // 함수명\n",
    "- #### func printHello() // 함수정의  , printHello() // 함수명\n",
    "- #### func printHello(name:String) // 함수 정의 , printHello(name:)"
   ]
  },
  {
   "cell_type": "markdown",
   "metadata": {},
   "source": [
    "- ### 방금 함수의 이름을 정의하는 방법에 대해 학습했다. 그런데 사실, 학습한 것은 함수의 이름보다는 식별자(Signature)로 보는 것이 더 타당하다\n",
    "    - ### 다시 말해, 함수의 정의 구문에서 func 키워드 뒤에 들어가는 것이 함수명이고, \n",
    "    - ### 여기에 인자 레이블을 포함한 것을 함수의 식별자로 본다는 것이다"
   ]
  },
  {
   "cell_type": "markdown",
   "metadata": {},
   "source": [
    "```\n",
    "func times(x: Int, y: Int) -> Int {\n",
    "    return (x * y)\n",
    "}\n",
    "\n",
    "times(x: 5, y: 10) //함수의 이름만으로 호출한 구문\n",
    "times(x:y:)(5,10) //함수의 식별자를 사용하여 호출한 구문\n",
    "```"
   ]
  },
  {
   "cell_type": "markdown",
   "metadata": {},
   "source": [
    "- #### 이 구문은 x와 y 두 대의 매개변수를 가지는 함수 times를 호출할 수 있는 두 가지 방법을 보여주고 있다\n",
    "- #### 함수명 뒤에 ( )를 붙이고 여기에 인자 레이블과 인자값을 넣어 호출해주는 방법 하나\n",
    "- #### 함수 식별자 뒤에 ( )를 붙이고 인자 레이블 없이 호출하는 방법 하나"
   ]
  },
  {
   "cell_type": "markdown",
   "metadata": {},
   "source": [
    "- ### 스위프트에서 함수를 호출하는 방법은 \"함수명\" + \"괄호\" + \"인자값\"이므로, 인자 레이블까지를 전체 함수의 이름으로 본다면 항상 times(x:y:)(5,10)형식으로 호출하는 것이 맞다\n",
    "    - ### 하지만 실제로는 times만으로도 함수를 호출할 수 있다 그러니 times는 함수의 이름으로, times(x:y:)는 함수의 식별자로 보는 것이 조금 더 적절하다\n",
    "        - #### 물론 함수의 이름이나 함수의 식별자 모두 호출 시에 사용할 수 있다"
   ]
  },
  {
   "cell_type": "markdown",
   "metadata": {},
   "source": [
    "#### 주의사항\n",
    "- #### 지금은 매개변수명이 곧 함수 식별자의 일부가 되는 것처럼 보이지만, 실제로는 인자 레이블 역활을 하는 매개변수만 함수 식별자에 포함된다는 점\n",
    "- #### 스위프트에서는 인자 레이블 역활을 하지 않는 매개변수가 등장하기도 하고, 인자 레이블과 매개변수가 분리되기도 한다\n",
    "- #### 또한 인자 레이블의 변경 때문에 함수의 식별자가 달라지기도 한다\n",
    "\n",
    "### 정리하자면 함수의 식별자에 포함되는 것은 인자 레이블일 뿐, 결코 매개변수가 아님을 확실하게 인지해야 한다"
   ]
  }
 ],
 "metadata": {
  "kernelspec": {
   "display_name": "Python 3",
   "language": "python",
   "name": "python3"
  },
  "language_info": {
   "codemirror_mode": {
    "name": "ipython",
    "version": 3
   },
   "file_extension": ".py",
   "mimetype": "text/x-python",
   "name": "python",
   "nbconvert_exporter": "python",
   "pygments_lexer": "ipython3",
   "version": "3.7.1"
  }
 },
 "nbformat": 4,
 "nbformat_minor": 2
}
