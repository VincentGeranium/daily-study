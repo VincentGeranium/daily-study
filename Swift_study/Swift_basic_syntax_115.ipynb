{
 "cells": [
  {
   "cell_type": "markdown",
   "metadata": {},
   "source": [
    "# 오류 처리 (Error Handling)\n",
    "## 스위프트는 어떻게 오류를 처리할까?\n",
    "## 오류 처리 구문"
   ]
  },
  {
   "cell_type": "markdown",
   "metadata": {},
   "source": [
    "## 오류 객체 잡아내기"
   ]
  },
  {
   "cell_type": "markdown",
   "metadata": {},
   "source": [
    "### 실제로 함수를 호출하여 시용하면서 오류가 던져질 경우 이를 잡아내어 적절히 처리해줘야 한다\n",
    "\n",
    "### 함수에서 던진 오류를 잡아낼 때는 다음 형식의 구문을 사용한다\n",
    "\n",
    "```\n",
    "do {\n",
    "    try<오류를 던질 수 있는 함수>\n",
    "    \n",
    "    \n",
    "} catch<오류 타입 1> {\n",
    "    // 오류 타입 1에 대한 대응\n",
    "} catch<오류 타입 2> {\n",
    "    // 오류 타입 2에 대한 대응\n",
    "} catch<오류 타입 3> {\n",
    "    // 오류 타입 3에 대한 대응\n",
    "} catch ...\n",
    "```"
   ]
  },
  {
   "cell_type": "markdown",
   "metadata": {},
   "source": [
    "### do 구문은 오류가 발생하지 않는 상황에서 실행할 구문이 작성되는 영역이다\n",
    "- #### 물론 do 구문내에서 함수의 호출도 이루어져야 한다\n",
    "- #### 정상적으로 처리되는 상황을 가정하고 do 구문 내부에 코드를 작성하면 된다\n",
    "- #### 컴파일러는 do 구문 내부에 작성된 순서대로 코드를 실행하다가 try 함수 호출에서 오류가 던져지면 이를 catch 구문으로 전달한다\n",
    "- #### catch 구문은 switch 구문에서의 case 처럼 오류 타입 각각을 지정하여 작성할 수 있는데, 이때 각 오류 타입에 대응하는 코드를 작성해야 한다\n",
    "\n",
    "```\n",
    "func getPartsDate(date: NSString, type: String) {\n",
    "    do {\n",
    "        let date = try parseDate(param: date)\n",
    "        \n",
    "        \n",
    "        switch type {\n",
    "        case \"year\" :\n",
    "            print(\"\\(date.year)년입니다\")\n",
    "        case \"month\" :\n",
    "            print(\"\\(date.month)월입니다\")\n",
    "        default :\n",
    "            print(\"입력값에 해당하는 날짜정보가 없습니다.\")\n",
    "        }\n",
    "        \n",
    "        \n",
    "    } catch DateParseError.overSizeString {\n",
    "        print(\"입력된 문자열이 너무 깁니다. 줄여주세요\")\n",
    "    } catch DateParseError.underSizeString {\n",
    "        print(\"입력된 문자열이 불충분합니다. 늘려주세요\")\n",
    "    } catch DateParseError.incorrectFormat(let part) {\n",
    "        print(\"입력값의 \\(part)에 해당하는 형식이 잘못되었습니다.\")\n",
    "    } catch DateParseError.incorrectData(let part) {\n",
    "        print(\"입력값의  \\(part)에 해당하는 값이 잘못사용되었습니다. 확인해주세요.\")\n",
    "    } catch {\n",
    "        print(\"알 수 없는 오류가 발생하였습니다.\")\n",
    "    }\n",
    "}\n",
    "```"
   ]
  },
  {
   "cell_type": "markdown",
   "metadata": {},
   "source": [
    "### 이제 작성된 함수에 다양한 인자값을 넣어 호출하고, 그 결과를 확인해보자\n",
    "\n",
    "```\n",
    "getPartsDate(date: \"2015-12-31\", type: \"year\")\n",
    "\n",
    "[실행 결과]\n",
    "2015년입니다\n",
    "\n",
    "getPartsDate(date: \"2015-12-31\", type: \"month\")\n",
    "\n",
    "[실행 결과]\n",
    "12입니다\n",
    "\n",
    "getPartsDate(date: \"2015-13-31\", type: \"month\")\n",
    "\n",
    "[실행 결과]\n",
    "입력값의 month에 해당하는 값이 잘못사용되었습니다. 확인해주세요.\n",
    "\n",
    "getPartsDate(date: \"2015-12-40\", type:\"date\")\n",
    "\n",
    "[실행 결과]\n",
    "입력값의 date에 해당하는 값이 잘못사용되었습니다. 확인해주세요.\n",
    "```"
   ]
  },
  {
   "cell_type": "markdown",
   "metadata": {},
   "source": [
    "### 날짜를 입력받아 parseDate(param:) 함수를 호출하고, 요청된 부분의 날짜 정보를 출력해주는 getPartsDate(date:type:)함수를 작성하였다\n",
    "- #### 함수 내부에서는 do ~ catch 구문이 작성되어 있는데, parseDate(param:)메소드가 던지는 오류를 잡아낼 수 있도록 catch 구문에서 각 오류 타입을 명시하고 있다\n",
    "- #### 이렇게 오류 타입으로 나누어진 catch 구문은 그에 맞는 오류가 던져졌을 때 잡아내게 되고, 그에 맞는 출력 구문을 통해 오류 정보를 보여준다"
   ]
  },
  {
   "cell_type": "markdown",
   "metadata": {},
   "source": [
    "### 가장 마지막에 오류 타입이 작성되지 않은 catch 구문은 앞에 catch 구문에서 잡히지 않은 모든 오류를 잡아주는 와일드카드 역활을 한다\n",
    "- #### 위 예제 구문은 단순히 오류 정보를 보여주는 데 그치지만 향후 앱을 제작하는 과정에서는 사용자의 재입력을 유도하던가 잘못된 값을 수정하는 다양한 처리 구문이 들어가야 한다"
   ]
  },
  {
   "cell_type": "markdown",
   "metadata": {},
   "source": [
    "### 오류를 던지도록 설계된 함수나 메소드이지만, 필요에 의해 오류를 던지지 않게 하고 싶을 때는 다음과 같이 try 키워드 대신 try! 키워드를 사용한다\n",
    "\n",
    "```\n",
    "let date = try! parseDate(param: \"2015-09-31\")\n",
    "print(\"\\(date)\")\n",
    "\n",
    "[실행 결과]\n",
    "Date(year: 2015, month: 9, date: 31)\n",
    "```"
   ]
  },
  {
   "cell_type": "markdown",
   "metadata": {},
   "source": [
    "### 이 키워드는 강제로 해당 구문을 실행하는 것으로서,\n",
    "- #### 일반적으로 try 키워드를 사용하여 함수를 호출할 경우 오류에 해당하는 경우가 생기면 실행이 멈추고 오류를 던지지만, try! 키워드를 사용하면 오류를 던지지 않고 그대로 함수를 강제 실행한다\n",
    "- #### 따라서 이 경우 강제로 함수가 실행되지만, 오류가 발생할 경우 그대로 런타임 오류로 이어진다"
   ]
  },
  {
   "cell_type": "markdown",
   "metadata": {},
   "source": [
    "### 오류 처리 구문을 이용하면 손쉽게 오류를 잡아낼 수 있고, 이를 통해 다양한 오류 상황에 유연하게 대응할 수 있는 코드를 작성할 수 있다"
   ]
  }
 ],
 "metadata": {
  "kernelspec": {
   "display_name": "Python 3",
   "language": "python",
   "name": "python3"
  },
  "language_info": {
   "codemirror_mode": {
    "name": "ipython",
    "version": 3
   },
   "file_extension": ".py",
   "mimetype": "text/x-python",
   "name": "python",
   "nbconvert_exporter": "python",
   "pygments_lexer": "ipython3",
   "version": "3.7.1"
  }
 },
 "nbformat": 4,
 "nbformat_minor": 2
}
