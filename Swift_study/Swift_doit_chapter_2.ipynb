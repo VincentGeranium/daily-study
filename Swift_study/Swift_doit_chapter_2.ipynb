{
 "cells": [
  {
   "cell_type": "markdown",
   "metadata": {},
   "source": [
    "# 뷰 기반 프로그램"
   ]
  },
  {
   "cell_type": "markdown",
   "metadata": {},
   "source": [
    "## 이미지 뷰"
   ]
  },
  {
   "cell_type": "markdown",
   "metadata": {},
   "source": [
    "- Image View는 이름에서 알 수 있듯이 앱에서 사진을 보여 줘야 할 때 사용하는 객체\n",
    "- 이미지 뷰를 사용하는 예\n",
    "    - 간단한 갤러리 앱뿐만 아니라 사진을 함께 기록해야 하는 다이어리 앱, 아이폰으로 촬영한 사진을 불러와 편집까지 할 수 있는 사진 편집 앱등\n",
    "    - Iphone의 기본 사진첩 앱, Day One 앱, Instagram 앱등"
   ]
  },
  {
   "cell_type": "markdown",
   "metadata": {},
   "source": [
    "### 앱에 들어갈 이미지 크기"
   ]
  },
  {
   "cell_type": "markdown",
   "metadata": {},
   "source": [
    "- 앱을 만들 때 권장하는 이미지 크기는 지원하고자 하는 기기의 최대 해상도에 맞추면 된다\n",
    "    - 이미지가 너무 크면 앱의 크기가 너무 커지고 이미지를 불러오는 데 메모리를 많이 차지함\n",
    "    - 이미지가 너무 작으면 이미지를 확대했을 때 픽셀이 깨지는 현상이 발생\n",
    "    - 기기별로 권장하는 이미지 크기가 따로 있다"
   ]
  },
  {
   "cell_type": "markdown",
   "metadata": {},
   "source": [
    "### TIP 이미지 뷰에서 사용할 수 있는 이미지의 종류"
   ]
  },
  {
   "cell_type": "markdown",
   "metadata": {},
   "source": [
    "#### iOS의 이미지 뷰에서 지원하는 이미지의 종류는 다음과 같다\n",
    "- Portable Network Graphic (PNG)(포맷) , .png (확장자)\n",
    "- Tagged Image File Format (TIFF) , .tiff 또는 .tif\n",
    "- Joint Photogarphic Experts Group (JPEG), .jpeg 또는 .jpg\n",
    "- Graphic Interchange Format (GIF), .gif\n",
    "- Windows Bitmap Format (DIB), .bmp 또는 .BMPf\n",
    "- Windows Icon Format, .ico\n",
    "- Windows Cursor, .cur\n",
    "- XWindows bitmap, .xbm\n",
    "#### 자세한 내용은 ios개발 문서에도 나와 있다"
   ]
  },
  {
   "cell_type": "markdown",
   "metadata": {},
   "source": [
    "# Image View App"
   ]
  },
  {
   "cell_type": "markdown",
   "metadata": {},
   "source": [
    "## 학습내용"
   ]
  },
  {
   "cell_type": "markdown",
   "metadata": {},
   "source": [
    "#### Image View app에 사용할 이미지 추가 방법"
   ]
  },
  {
   "cell_type": "markdown",
   "metadata": {},
   "source": [
    "- 앱에서 사용할 이미지를 프로젝트에 추가\n",
    "    - finder에서 필요로 하는 이미지를 직접 선택하여, 내비게이터 영역의 [프로젝트 폴더]의 아래로 drag and drop 한다\n",
    "        - EX) 직접 만든 imageViewApp을 예로 들면 [imageView]폴더 아래에 'lamp_on.png'와 'lamp_off.png'를 drag and drop하였다"
   ]
  },
  {
   "cell_type": "markdown",
   "metadata": {},
   "source": [
    "#### 파일 추가에 대한 설정 창"
   ]
  },
  {
   "cell_type": "markdown",
   "metadata": {},
   "source": [
    "- 파일을 프로젝트 폴더로 추가시 파일 추가에 대한 설정 창이 나온다\n",
    "    - 현재 추가하려고 하는 이미지를 프로젝트 폴더에 복사해 주는 [Destination: Copy items if needed] 체크해야 한다\n",
    "        - [Destination: Copy items if needed]\n",
    "        - = 파일을 추가했을 때 이미지를 프로젝트 폴더로 복사하지 않고 사용할 경우 원본의 폴더가 변경되거나 삭제되었을 때 더이상 해당 파일을 사용할 수 없게 된다. 그러므로 파일을 프로젝트 폴더로 복사해서 사용해야 하는데 그것을 뜻하는 것이 \"[Destination: Copy items if needed]\" 이다"
   ]
  },
  {
   "cell_type": "markdown",
   "metadata": {},
   "source": [
    "#### 이미지 추가 후"
   ]
  },
  {
   "cell_type": "markdown",
   "metadata": {},
   "source": [
    "#### 추가한 이미지를 모두 선택한 후 오른쪽 인스펙터 영역에서 Target Membership 내에 영역을 체크해야 한다\n",
    "- EX) 직접 만든 imageViewApp을 예를 들어 설명하면 추가한 이미지를 선택후 인스펙터 영역에서 Target Membership의 imageView를 체크해야 이미지가 보인다"
   ]
  },
  {
   "cell_type": "markdown",
   "metadata": {},
   "source": [
    "### 스토리보드"
   ]
  },
  {
   "cell_type": "markdown",
   "metadata": {},
   "source": [
    "- 오브젝트 라이브러리 안에 Image View는 이미지 뷰 객체\n",
    "- 객체의 위치 및 크기를 더욱 세밀하게 조절하거나 수정하려면 오른쪽 인스펙터 영역의 [Size inspector]\n",
    "- 객체의 크기를 쉽게 변환하려면 스토리보드 내에서 객체를 클릭 후 option을 누른 채로 마우스를 사용하면 객체의 폭, 높이와 상하좌우의 여백을 조절할 수 있다"
   ]
  },
  {
   "cell_type": "markdown",
   "metadata": {},
   "source": [
    "### 이미지 뷰의 뷰 모드"
   ]
  },
  {
   "cell_type": "markdown",
   "metadata": {},
   "source": [
    "- 이미지 뷰에서 이미지를 나타내는 뷰 모드에 따라 이미지가 다르게 표시된다\n",
    "    - 1. Scale to Fill : 기본 설정 값으로, 이미지 뷰의 크기에 맞게 이미지의 가로, 세로 비율이 변경된다. 비율이 맞지 않으면 뭉개져 보인다.\n",
    "    - 2. Aspect Fit : 이미지의 가로, 세로 비율은 유지하면서 이미지 뷰의 크기에 맞게 이미지 크기를 바꾼다.\n",
    "    - 3. Aspect Fill : 이미지의 비율을 유지하면서 이미지 뷰를 채운다. 이미지 뷰와 이미지 비율이 맞지 않으면 이미지가 넘쳐서 잘릴 수 있다.\n",
    "    - 4. Center : 이미지의 원본 크기를 유지한 채 이미지의 중앙을 이미지 뷰에 출력한다.\n",
    "    - 5. Top : 이미지의 원본 크기를 유지한 채 이미지의 윗부분을 이미지 뷰에 출력한다."
   ]
  },
  {
   "cell_type": "markdown",
   "metadata": {},
   "source": [
    "### 옵셔널 변수"
   ]
  },
  {
   "cell_type": "markdown",
   "metadata": {},
   "source": [
    "- 오직 스위프트에만 있는 \"Optionals\"(옵셔널)이라는 개념이다\n",
    "    - 옵셔널은 어떤 값이 존재하지 않는다는 것을 나타낼 때 사용한다\n",
    "    - 즉, 변수가 nil(=null)이거나 값의 존재 여부를 알 수 없다는 것을 의미한다\n",
    "    - 스위프트에서는 변수를 선언할 때는 변수에 반드시 nil이 아닌 값을 할당해야 하지만 옵셔널 타입을 사용해서 변수에 값이 없다는 것을 알릴 수 있다\n",
    "    - 옵셔널로 선언된 변수에 값이 할당되면 그 값은 '옵셔널에 래핑(wrapped)'되었다고 하며, 이 값은 '!'를 사용하여 강제 언래핑(force unwrapping)하여 값에 접근할 수 있다\n",
    "    - 옵셔널은 암묵적인 언래핑(implicity unwrapping)이 되도록 선언할 수 있는데, 이때는 강제 언래핑을 사용하지 않아도 값에 접근할 수 있다."
   ]
  },
  {
   "cell_type": "markdown",
   "metadata": {},
   "source": [
    "#### 예시 - 옵셔널 개념, 래핑, 강제 언래핑"
   ]
  },
  {
   "cell_type": "markdown",
   "metadata": {},
   "source": [
    "```\n",
    "var index: Int?\n",
    "    \n",
    "index = 3\n",
    "\n",
    "if index != nil {\n",
    "    print(index!)\n",
    "}\n",
    "```"
   ]
  },
  {
   "cell_type": "markdown",
   "metadata": {},
   "source": [
    "#### 예시 - 래핑, 암묵적인 래핑"
   ]
  },
  {
   "cell_type": "markdown",
   "metadata": {},
   "source": [
    "```\n",
    "var index: Int!\n",
    "    \n",
    "index = 3\n",
    "\n",
    "if index != nil{\n",
    "    print(index)\n",
    "}\n",
    "```"
   ]
  },
  {
   "cell_type": "markdown",
   "metadata": {},
   "source": [
    "#### viewDidLoad 함수란?"
   ]
  },
  {
   "cell_type": "markdown",
   "metadata": {},
   "source": [
    "- viewDidLoad 함수는 내가 만든 뷰를 불러왔을 때 호출되는 함수로, 부모 클래스인 UIViewController 클래스에 선언되어 있다\n",
    "- 뷰가 불려진 후 실행하고자 하는 기능이 필요할 때 이 viewDidLoad 함수 내에 코드를 입력하면 된다"
   ]
  },
  {
   "cell_type": "markdown",
   "metadata": {},
   "source": [
    "#### CGFloat = Xcode에서 Float을 재정의해 놓은 자료형, Float와 같다고 생각하면 된다 (실수형)"
   ]
  },
  {
   "cell_type": "markdown",
   "metadata": {},
   "source": [
    "#### 스위프트 문법 (기본 데이터 자료형)"
   ]
  },
  {
   "cell_type": "markdown",
   "metadata": {},
   "source": [
    "- 자료형이란 자료의 형태를 말한다\n",
    "    - 변수나 상수를 선언할 때 사전에 어떠한 값을 저장할지는 자료형을 사용해서 정의해야 한다"
   ]
  },
  {
   "cell_type": "markdown",
   "metadata": {},
   "source": [
    "- Bool(type) , 참 또는 거짓 중 하나를 표현하는 이진법 , Ex) True, False\n",
    "- Int, Int32, Int64 , 큰 수(분수 제외)를 표현하는 데 32 또는 64비트 음수나 양수의 정수 값 사용 , Ex)4, 543, -674837, 5745\n",
    "- Int8, Int16 , 작은 수(분수 제외)를 표현하는 데 8 또는 16비트 음수나 양수의 정수 값 사용 , Ex)-23, 58, 145\n",
    "- UInt, UInt32, UInt64 , 큰 수(분수 제외)를 표현하는 데 32 또는 64비트 양수 값 사용 , Ex)5, 132, 70, 10023\n",
    "- UInt8 , UInt16 , 작은 수(분수 제외)를 표현하는 데 8 또는 16비트 양수 값 사용 , Ex)35, 86, 254\n",
    "- Float, Double , 음수 또는 양수의 부동 소수점 또는 분수를 포함할 수도 있다 , Ex)11.542 , -3002.5899 , 17.0\n",
    "- Character , 단일 글자나 숫자 또는 다른 부호를 큰따옴표로 묶어서 표현 , Ex) \"T\" , \"K\" , \"*\" , \"3\"\n",
    "- String, 일련의 문자를 큰따옴표로 묶어서 표현 ,  Ex)\"Fish\" , \"Pigs\" , \"New York\" , \"SuA\" , \"Miss You\""
   ]
  },
  {
   "cell_type": "markdown",
   "metadata": {},
   "source": [
    "#### 스위프트 문법(if 조건문)"
   ]
  },
  {
   "cell_type": "markdown",
   "metadata": {},
   "source": [
    "- 어떤 수식이나 조건을 비교하여 \"참\"일 경우와 \"거짓\"일 경우 다른 실행을 하게 하는 제어문을 if문이라고 한다\n",
    "- if문에서 \"조건\"은 (조건)처럼 괄호를 사용하여 표시 할 수도 있다."
   ]
  },
  {
   "cell_type": "markdown",
   "metadata": {},
   "source": [
    "#### if 조건문 기본 형식"
   ]
  },
  {
   "cell_type": "markdown",
   "metadata": {},
   "source": [
    "```\n",
    "if 조건{\n",
    "    ...\n",
    "} else if  조건{\n",
    "...\n",
    "else{\n",
    "...\n",
    "}\n",
    "```"
   ]
  },
  {
   "cell_type": "markdown",
   "metadata": {},
   "source": [
    "#### if 조건문 예시"
   ]
  },
  {
   "cell_type": "markdown",
   "metadata": {},
   "source": [
    "```\n",
    "if num%2 == 1{\n",
    "    print(\"\\(num)는 홀수입니다.\")\n",
    "}else{\n",
    "    print(\"\\(num)는 짝수입니다.\")\n",
    "}\n",
    "```"
   ]
  },
  {
   "cell_type": "markdown",
   "metadata": {},
   "source": [
    "#### if 조건문 (조건)"
   ]
  },
  {
   "cell_type": "markdown",
   "metadata": {},
   "source": [
    "- if문에서 '조건'은 (조건)처럼 괄호를 사용하여 표시 할 수도 있다.\n",
    "\n",
    "```\n",
    "if (num%2==1){\n",
    "    \n",
    "}\n",
    "```"
   ]
  }
 ],
 "metadata": {
  "kernelspec": {
   "display_name": "Python 3",
   "language": "python",
   "name": "python3"
  },
  "language_info": {
   "codemirror_mode": {
    "name": "ipython",
    "version": 3
   },
   "file_extension": ".py",
   "mimetype": "text/x-python",
   "name": "python",
   "nbconvert_exporter": "python",
   "pygments_lexer": "ipython3",
   "version": "3.7.1"
  }
 },
 "nbformat": 4,
 "nbformat_minor": 2
}
