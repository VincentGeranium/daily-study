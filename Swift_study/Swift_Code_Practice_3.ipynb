{
 "cells": [
  {
   "cell_type": "markdown",
   "metadata": {},
   "source": [
    "## iOS 앱의 구조와 코코아 터치 프레임워크"
   ]
  },
  {
   "cell_type": "markdown",
   "metadata": {},
   "source": [
    "### 앱은 우리가 작성하는 커스텀 코드와 시스템 프레임워크 사이에서 매우 복잡한 상호작용을 한다\n",
    "- #### 시스템 프레임워크는 iOS 기반의 앱이 실행되는 데에 필요한 기반 환경을 제공\n",
    "- #### 개발자는 커스텀 코드를 제공하여 원하는 기능과 앱의 형태를 구현\n",
    "    - #### 이들은 서로 밎물려 정교하게 돌아가면서 iOS에서 우리가 원하는 기능을 제공한다"
   ]
  },
  {
   "cell_type": "markdown",
   "metadata": {},
   "source": [
    "### 앱은 기본적으로 시스템 프레임워크에 정의된 원리에 따라 동작하지만,\n",
    "- #### 이 영역을 제외한 나머지 범위에서는 커스텀 코드를 통해 원하는 기능과 유저 인터페이스를 구현할 수 있다\n",
    "    - #### 이 말은 곧 앱 개발이 우리가 건드릴 수 있는 영역과 우리가 건드릴 수 없는 영역으로 분리된다는 것을 의미한다\n",
    "        - #### 동시에 우리가 건드릴 수 없는 영역에 대해서는 신경 쓰지 않아도 된다는 것을 의미한다\n",
    "\n",
    "### 효율적인 앱을 개발하기 위해서는 이같은 iOS 시스템의 기본 구조와 이것이 어떻게 동작하고 있는지를 잘 파악해야 한다\n",
    "\n",
    "### 개발 관점에서 본 iOS 앱의 구조\n",
    "\n",
    "```\n",
    "[iOS 어플리케이션]\n",
    "∟[Custom Code] = 건드릴 수 있는 영역\n",
    "---------------------------------------\n",
    "∟[System Framework] =  건드릴 수 없는 영역\n",
    "```"
   ]
  }
 ],
 "metadata": {
  "kernelspec": {
   "display_name": "Python 3",
   "language": "python",
   "name": "python3"
  },
  "language_info": {
   "codemirror_mode": {
    "name": "ipython",
    "version": 3
   },
   "file_extension": ".py",
   "mimetype": "text/x-python",
   "name": "python",
   "nbconvert_exporter": "python",
   "pygments_lexer": "ipython3",
   "version": "3.7.1"
  }
 },
 "nbformat": 4,
 "nbformat_minor": 2
}
