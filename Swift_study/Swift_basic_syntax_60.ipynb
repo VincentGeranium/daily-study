{
 "cells": [
  {
   "cell_type": "markdown",
   "metadata": {},
   "source": [
    "# 구조체와 클래스\n",
    "## 객체지향 스위프트\n",
    "## 구조체와 클래스의 기본 개념"
   ]
  },
  {
   "cell_type": "markdown",
   "metadata": {},
   "source": [
    "### Method and Property"
   ]
  },
  {
   "cell_type": "markdown",
   "metadata": {},
   "source": [
    "### 구조체와 클래스에서는 변수나 상수를 정의하여 내부적인 값을 저장할 수 있다\n",
    "\n",
    "- #### 구조체와 클래스 내부에서 정의된 변수나 상수를 \"Property(프로퍼티)\", 또는 \"속성\" 이라고 한다\n",
    "- #### 함수를 정의하여 특정 기능을 정의할 수도 있는데, 이를 \"Method(메소드)\"라고 한다\n",
    "\n",
    "- #### 이들은 구조체나 클래스 내부에 정의된다는 것만 차이가 있을 뿐, 일반 변수/상수/함수를 정의하는 것과 문법적으로 동일하다\n",
    "\n",
    "### 구조체와 클래스를 정의하고 여기에 프로퍼티와 메소드를 추가해 보자\n",
    "\n",
    "```\n",
    "struct Resolution {\n",
    "    var width = 0\n",
    "    var height = 0\n",
    "    \n",
    "    func desc() -> String {\n",
    "        return \"Resolution 구조체\"\n",
    "    }\n",
    "}\n",
    "\n",
    "class videoMode {\n",
    "    var interlaced = false\n",
    "    var frameRate = 0.0\n",
    "    var name : String?\n",
    "    \n",
    "    func desc() -> String {\n",
    "        return \"VideoMode 클래스\"\n",
    "    }\n",
    "}\n",
    "```"
   ]
  },
  {
   "cell_type": "markdown",
   "metadata": {},
   "source": [
    "- 위 코드는 Resolution이라는 이름의 구조체와 VideoMode라는 이름의 클래스를 선언하는 예제이다\n",
    "- Resolution 구조체는 픽셀 기반 디스플레이의 해상도 정보를 관리하기 위한 목적이라고 생각하면 된다\n",
    "- VideoMode 클래스는 비디오 디스플레이에서 표현되는 비디오에 대한 정보를 관리하기 위한 목적이라고 생각하면 된다"
   ]
  },
  {
   "cell_type": "markdown",
   "metadata": {},
   "source": [
    "### Resolution 구조체를 살펴보자\n",
    "- #### 이 구조체에는 width와 height라는 두 개의 저장 프로퍼티가 있다\n",
    "    - #### 저장 프로퍼티란 특정 값을 저장하기 위해 클래스나 구조체 내부에 정의된 변수나 상수를 말한다\n",
    "- #### 이들 두 프로퍼티는 선언될 때 초기값으로 0이 대입되었으므로 타입 추론 규칙에 의해 Int 타입의 데이터 형식으로 추론된다"
   ]
  },
  {
   "cell_type": "markdown",
   "metadata": {},
   "source": [
    "### VideoMode 클래스를 살펴보자\n",
    "- #### VideoMode 클래스는 세 개의 저장 프로퍼티가 정의되어 있고, 이들은 모두 기본 자료형으로 초기화되어 있다\n",
    "- #### interlaced는 초기값 false에 의하여 Bool 타입으로 정의되면서 'interlaced되지 않은 비디오 모드'라는 의미를 가지게 된다\n",
    "- #### frameRate는 0.0이 초기값이므로 Double 타입\n",
    "- #### name 프로퍼티는 옵셔널 문자열로 정의된다. \n",
    "    - #### name 프로퍼티는 초기값이 할당되지 않았는데, 옵셔널 타입 프로퍼티에 초기값이 할당되지 않으면 자동으로 nil이라는 기본값으로 초기화 된다\n",
    "        - #### 이때의 의미는 'name 프로퍼티에 값이 존재하지 않음'으로 해석"
   ]
  },
  {
   "cell_type": "markdown",
   "metadata": {},
   "source": [
    "### 구조체와 클래스에는 desc라는 이름의 메소드가 하나씩 작성되어 있다\n",
    "- #### 이 메소드의 역활은 각각의 객체에 대해 설명하는 문자열을 반환하는 것이다.\n",
    "\n",
    "### 예제에서 확인할 수 있는 것처럼 메소드는 함수의 형태를 띠고 있으며 몇 가지 차이점을 제외하면 함수와 거의 같다\n",
    "### 메소드는 단지 클래스나 구조체 내부에서 작성된 함수인 셈이다."
   ]
  }
 ],
 "metadata": {
  "kernelspec": {
   "display_name": "Python 3",
   "language": "python",
   "name": "python3"
  },
  "language_info": {
   "codemirror_mode": {
    "name": "ipython",
    "version": 3
   },
   "file_extension": ".py",
   "mimetype": "text/x-python",
   "name": "python",
   "nbconvert_exporter": "python",
   "pygments_lexer": "ipython3",
   "version": "3.7.1"
  }
 },
 "nbformat": 4,
 "nbformat_minor": 2
}
