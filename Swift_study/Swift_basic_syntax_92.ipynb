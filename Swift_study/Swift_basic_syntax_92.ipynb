{
 "cells": [
  {
   "cell_type": "markdown",
   "metadata": {},
   "source": [
    "# 열거형과 익스텐션(Enumeration and Extensions)\n",
    "## 코드의 한계를 넓혀주는 문법\n",
    "## 열거형(Enumeration)"
   ]
  },
  {
   "cell_type": "markdown",
   "metadata": {},
   "source": [
    "## switch 구문과 열거형"
   ]
  },
  {
   "cell_type": "markdown",
   "metadata": {},
   "source": [
    "### 열거형 타입으로 정의된 변수는 switch 구문에서 열거형의 멤버와 비교하는 분기 구문을 사용할 수 있다\n",
    "- #### 형식은 일반 switch 구문과 큰 차이가 없다\n",
    "    - #### switch 키워드 다음에 열거형 타입으로 정의된 변수가 사용되고 이 변수와 비교할 열거형의 각 멤버값이 구문 내부에 case 블록별로 차례로 대입되는 형식"
   ]
  },
  {
   "cell_type": "markdown",
   "metadata": {},
   "source": [
    "```\n",
    "switch 비교 대상 {\n",
    "    case 열거형.멤버1 :\n",
    "        // 실행할 구문\n",
    "    case 열거형.멤버2 :\n",
    "        // 실행할 구문\n",
    "    ...\n",
    "}\n",
    "```"
   ]
  },
  {
   "cell_type": "markdown",
   "metadata": {},
   "source": [
    "### 실제로 열거형 타입으로 정의한 변수를 사용하여 switch 구문을 작성해 보자\n",
    "- #### 앞에서 정의한 변수 directionToHead는 Direction 타입으로 정의되어 있으므로 switch 구문 내에서도 Direction 객체의 멤버들을 case 블록에 나누어 비교해주면 된다\n",
    "\n",
    "```\n",
    "var directionToHead = Direction.west\n",
    "\n",
    "switch directionToHead {\n",
    "    case Direction.north : \n",
    "        print(\"북쪽입니다\")\n",
    "    case Direction.south : \n",
    "        print(\"남쪽입니다\")\n",
    "    case Direction.east :\n",
    "        print(\"동쪽입니다\")\n",
    "    case Direction.west :\n",
    "        print(\"서쪽입니다\")\n",
    "}\n",
    "\n",
    "[실행 결과]\n",
    "서쪽입니다\n",
    "```"
   ]
  },
  {
   "cell_type": "markdown",
   "metadata": {},
   "source": [
    "### 조금 더 간단하게 줄일 수 있는 방법이 있다\n",
    "- #### 열거형 생략 표현을 이용하는 것이다\n",
    "- #### switch 구문은 앞에서 타입 어노테이션을 사용해서 변수를 선언했을 때와 마찬가지로, switch 키워드 다음에 입력받는 변수를 통해 비교 대상의 타입이 열거형인 것을 추론해 낼 수 있다\n",
    "- #### 이것만 추론해 내고 나면 다음은 간단하다\n",
    "    - #### 비교 대상이 가질 수 있는 값은 열거형에 정의된 멤버들로 한정되므로, 타입명이 생략되더라도 충분히 찾을 수 있기 때문이다\n",
    "\n",
    "### 그래서 다음과 같이 타입명이 생략된 간소화 버전의 case 구문 작성이 가능해진다\n",
    "\n",
    "```\n",
    "var directionToHead = Direction.west\n",
    "\n",
    "switch directionToHead {\n",
    "    case .north :\n",
    "        print(\"북쪽입니다\")\n",
    "    case .south :\n",
    "        print(\"남쪽입니다\")\n",
    "    case .east : \n",
    "        print(\"동쪽입니다\")\n",
    "    case .west :\n",
    "        print(\"서쪽입니다\")\n",
    "}\n",
    "\n",
    "\n",
    "[실행 결과]\n",
    "서쪽입니다\n",
    "```"
   ]
  },
  {
   "cell_type": "markdown",
   "metadata": {},
   "source": [
    "### 실제로도 열거형을 switch 구문에 넣고 비교 처리할 때, 열거형 타입의 이름은 생략하고 멤버만 작성하는 경우가 많다\n",
    "- #### 잊지 말아야 할 점은 굳이 열거형 타입을 명시하지 않더라도 충분히 추론이 가능할 때에만 열거형 타입을 생략해야 한다는 것이다"
   ]
  },
  {
   "cell_type": "markdown",
   "metadata": {},
   "source": [
    "### 열거형 타입을 switch 구문에서 사용할 때 주의할 점이 한 가지 더 있다\n",
    "- #### 열거형에 정의된 멤버를 switch 구문의 case 블록 비교에 전부 사용하면 default 구문은 생략할 수 있다"
   ]
  },
  {
   "cell_type": "markdown",
   "metadata": {},
   "source": [
    "### 만약 default 구문이 생략된 상태에서 열거형 멤버 중 일부가 누락되면 컴파일러는 switch 구문을 완전하지 않은 것으로 해석하고 오류를 발생시킨다\n",
    "- #### 하지만 열거형 타입에 정의된 모든 멤버를 case 구문에서 빠짐없이 비교했을 경우, 모든 비교 구문 중에서 하나는 반드시 해당할 수 밖에 없으므로 굳이 default 구문을 작성하지 않아도 된다\n",
    "- #### 사실 default 구문을 작성하더라도 이 구문이 실행될 가능성은 전무하다"
   ]
  },
  {
   "cell_type": "markdown",
   "metadata": {},
   "source": [
    "### 이와는 반대로, switch 구문에서 default 블록을 추가하면, 모든 멤버를 다 비교할 필요가 없으므로 꼭 비교해야 할 일부 멤버만 비교하고 나머지는 default 구문에 맡기면 된다"
   ]
  }
 ],
 "metadata": {
  "kernelspec": {
   "display_name": "Python 3",
   "language": "python",
   "name": "python3"
  },
  "language_info": {
   "codemirror_mode": {
    "name": "ipython",
    "version": 3
   },
   "file_extension": ".py",
   "mimetype": "text/x-python",
   "name": "python",
   "nbconvert_exporter": "python",
   "pygments_lexer": "ipython3",
   "version": "3.7.1"
  }
 },
 "nbformat": 4,
 "nbformat_minor": 2
}
