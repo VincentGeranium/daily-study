{
 "cells": [
  {
   "cell_type": "markdown",
   "metadata": {},
   "source": [
    "# 프로토콜(Protocol)\n",
    "## 객체의 설계도\n",
    "## 프로토콜의 활용"
   ]
  },
  {
   "cell_type": "markdown",
   "metadata": {},
   "source": [
    "## 프로토콜의 상속"
   ]
  },
  {
   "cell_type": "markdown",
   "metadata": {},
   "source": [
    "### 프로토콜은 클래스처럼 상속을 통해 정의된 프로퍼티나 메소드, 그리고 초기화 블록의 선언을 다른 프로토콜에 물려줄 수 있다\n",
    "- #### 하지만 프로토콜은 클래스와 다르게 다중 상속이 가능하다\n",
    "- #### 즉, 여러 개의 프로토콜을 하나의 프로토콜에 한꺼번에 상속하여 각 프로토콜들의 명세를 하나의 프로토콜에 담을 수 있다\n",
    "\n",
    "### 프로토콜 A와 B\n",
    "\n",
    "```\n",
    "protocol A {\n",
    "    func doA()\n",
    "}\n",
    "\n",
    "protocol B {\n",
    "    func doB()\n",
    "}\n",
    "```\n",
    "\n",
    "### 프로토콜 A와 B를 상속받는 새로운 프로토콜 C를 정의\n",
    "\n",
    "```\n",
    "protocol C: A, B {\n",
    "    func doC()\n",
    "}\n",
    "```"
   ]
  },
  {
   "cell_type": "markdown",
   "metadata": {},
   "source": [
    "### 프로토콜 C는 A와 B를 모두 상속받았으므로 각 프로토콜에 정의되어 있던 메소드 명세들이 모두 추가된 상태라고 볼 수 있다\n",
    "- #### 즉 실질적인 C 프로토콜의 명세는 다음과 같다\n",
    "\n",
    "```\n",
    "protocol C {\n",
    "    func doA()\n",
    "    func doB()\n",
    "    func doC()\n",
    "}\n",
    "```"
   ]
  },
  {
   "cell_type": "markdown",
   "metadata": {},
   "source": [
    "### A와 B를 상속받고 여기에 새로운 메소드 doC()를 추가한 프로토콜 C를 구현하는 클래스나 구조체 등의 객체들은 다음과 같이 A와 B, 그리고 C의 명세를 모두 구현해야 한다\n",
    "\n",
    "```\n",
    "class ABC: C {\n",
    "    func doA() {\n",
    "        \n",
    "    }\n",
    "    \n",
    "    func doB() {\n",
    "        \n",
    "    }\n",
    "    \n",
    "    func doC() {\n",
    "        \n",
    "    }\n",
    "}\n",
    "```"
   ]
  },
  {
   "cell_type": "markdown",
   "metadata": {},
   "source": [
    "### 이렇게 정의된 클래스 ABC는 다음과 같은 타입의 변수/상수에 할당될 수 있다\n",
    "- #### 선언된 타입에 따라서 사용할 수 있는 메소드의 범위는 제한된다\n",
    "\n",
    "```\n",
    "let abc: C = ABC()\n",
    "// abc.doA(), abc.doB(), abc.doC()\n",
    "\n",
    "let a: A = ABC()\n",
    "// a.doA()\n",
    "\n",
    "let ab: A & B = ABC()\n",
    "// ab.doA(), ab.doB()\n",
    "\n",
    "let abc2: A & B & C = ABC()\n",
    "// abc2.doA(), abc2.doB(), abc2.doC()\n",
    "```"
   ]
  },
  {
   "cell_type": "markdown",
   "metadata": {},
   "source": [
    "### 클래스 ABC는 이와 마찬가지로 다음 타입으로 선언된 함수나 메소드의 인자값으로 할당될 수 도 있다\n",
    "\n",
    "```\n",
    "func foo(abc: C) { }\n",
    "foo(abc: ABC())\n",
    "\n",
    "func boo(abc: A & B) { }\n",
    "boo(abc: ABC())\n",
    "```"
   ]
  },
  {
   "cell_type": "markdown",
   "metadata": {},
   "source": [
    "### 이처럼 상속으로 구성된 프로토콜은 상위 프로토콜에 대한 기능들을 고스란히 가지고 있으므로 상위 프로토콜 타입으로 선언된 변수/상수나 함수의 인자값으로 사용될 수 있다\n",
    "- #### 또한, 프로토콜을 상속할 때 부모 프로토콜에서의 선언과 자식 프로토콜에서의 선언이 겹치더라도 클래스에서처럼 override 키워드를 불여야 하는 제약이 없다\n",
    "\n",
    "```\n",
    "protocol C: A, B {\n",
    "    func doA()\n",
    "    func doB()\n",
    "    func doC()\n",
    "}\n",
    "```"
   ]
  },
  {
   "cell_type": "markdown",
   "metadata": {},
   "source": [
    "### 상속 관계가 성립된 프로토콜은 is, as와 같은 타입 연산자들을 사용하여 타입에 대한 비교와 타입 변환을 할 수 있다\n",
    "- #### is 연산자는 주어진 객체를 비교 대상 타입과 비교하여 그 결과를 반환하는데 이때 선언된 변수나 상수의 타입이 아니라 할당된 실제 객체의 인스턴스를 기준으로 비교한다\n",
    "- #### 할당된 객체가 비교 대상 타입과 같거나 비교 대상 타입을 상속받았을 경우 모두 true를 반환하고, 이외에는 false를 반환한다"
   ]
  },
  {
   "cell_type": "markdown",
   "metadata": {},
   "source": [
    "### 앞에서 프로토콜 A, B, C를 이용하여 다양하게 선언했던 상수들을 대상으로 is 연산자를 사용한 다음의 결과들은 모두 true를 반환한다\n",
    "- #### 이는 어떤 타입으로 선언된 상수에 인스턴스를 할당받았든 실제로 할당된 인스턴스가 주어진 비교 대상 조건을 모두 만족하기 때문이다\n",
    "\n",
    "```\n",
    "abc is C // true\n",
    "abc is A & B // true\n",
    "abc is A // true\n",
    "abc is B // true\n",
    "a is C // true\n",
    "a is B // true\n",
    "ab is C // true\n",
    "abc2 is A & B & C // true\n",
    "```"
   ]
  },
  {
   "cell_type": "markdown",
   "metadata": {},
   "source": [
    "### as 연산자의 사용법도 클래스에서의 타입 캐스팅과 같다\n",
    "- #### 객체와 비교 대상과의 타입 비교를 위주로 하는 is 연산자와는 달리 as 연산자는 제한된 범위 내에서 타입을 캐스팅할 수 있도록 해준다\n",
    "\n",
    "### 제한된 범위라 함은 다음과 같다\n",
    "- #### 1. 실제로 할당된 인스턴스 타입\n",
    "- #### 2. 인스턴스가 구현한 프로토콜 타입\n",
    "- #### 3. 클래스가 상속을 받았을 경우 모든 상위 클래스\n",
    "- #### 4. 프로토콜 타입이 상속을 받았을 경우 모든 상위 프로토콜"
   ]
  },
  {
   "cell_type": "markdown",
   "metadata": {},
   "source": [
    "### 인스턴스 객체를 할당한 변수나 상수가 있을 때, \n",
    "- #### 이 변수나 상수가 선언된 타입보다 상위 타입으로 캐스팅하는 것은 아무런 문제가 되지 않으므로 일반 캐스팅 연산자인 as를 사용하여 안전하게 캐스팅할 수 있다\n",
    "    - #### 그러나 선언된 타입보다 하위 타입으로 캐스팅할 때는 주의하여야 한다\n",
    "        - #### 실제로 할당된 인스턴스 객체에 따라서 캐스팅이 성공할 수도, 실패할 수도 있기 때문이다"
   ]
  },
  {
   "cell_type": "markdown",
   "metadata": {},
   "source": [
    "### 실제로 할당된 인스턴스 객체의 타입을 기준으로 일치하거나 상위 타입이면 캐스팅이 잘 되겠지만, 그렇지 않으면 캐스팅에 실패한다\n",
    "- #### 이는 캐스팅의 결과값으로 nil이 반환될 수도 있다는 의미다\n",
    "- #### 이 때문에 하위 캐스팅에서는 일반 캐스팅 연산자를 사용하는 대신 옵셔널 타입으로 캐스팅 결과를 반환하는 옵셔널 캐스팅(=as?) 연산자와 캐스팅 실패 가능성을 감안하고서라도 일반 타입으로 캐스팅하는 강제 캐스팅(=as!) 연산자 중에 선택해서 사용해야 한다"
   ]
  },
  {
   "cell_type": "markdown",
   "metadata": {},
   "source": [
    "### 이해를 돕기 위한 두 개의 프로토콜과 한 개의 클래스\n",
    "\n",
    "```\n",
    "protocol Machine {\n",
    "    func join()\n",
    "}\n",
    "\n",
    "protocol Wheel: Machine{\n",
    "    func lotate()\n",
    "    \n",
    "    init(name: String, currentSpeed: Double)\n",
    "}\n",
    "    \n",
    "class Vehicle {\n",
    "    var currentSpeed = 0.0\n",
    "    var name = \"\"\n",
    "    \n",
    "    init(name: String, currentSpeed: Double) {\n",
    "        self.name = name\n",
    "        self.currentSpeed = currentSpeed\n",
    "    }\n",
    "}\n",
    "```"
   ]
  },
  {
   "cell_type": "markdown",
   "metadata": {},
   "source": [
    "- #### 프로토콜 Machine은 기계에 대한 특성을 정의하고 있다\n",
    "- #### Machine 프로토콜을 상속받은 또 다른 프로토콜인 Wheel은 바퀴에 대한 특성을 추가로 정의한다\n",
    "- #### 클래스 Vehicle은 탈것에 대한 프로퍼티를 정의한다\n",
    "\n",
    "### 이들 프로토콜과 클래스를 모두 모은 클래스 Car는 다음과 같다\n",
    "\n",
    "```\n",
    "class Car: Vehicle, Wheel {\n",
    "    required override init(name: String, currentSpeed: Double = 0.0) {\n",
    "        super.init(name: name, currentSpeed: currentSpeed)\n",
    "    }\n",
    "    \n",
    "    func join() {\n",
    "        // join parts\n",
    "    }\n",
    "    \n",
    "    func lotate() {\n",
    "        print(\"\\(self.name)의 바퀴가 회전합니다.\")\n",
    "    }\n",
    "}\n",
    "```"
   ]
  },
  {
   "cell_type": "markdown",
   "metadata": {},
   "source": [
    "### Car 클래스는 내부에 Vehicle, Wheel, Machine을 모두 상속받거나 구현하고 있으므로 각 타입으로 캐스팅이 모두 가능하다\n",
    "\n",
    "### 비교를 위해 Wheel 프로토콜을 구현하지 않는 Carpet 클래스를 하나 더 작성해 보자\n",
    "\n",
    "```\n",
    "class Carpet: Vehicle, Machine {\n",
    "    func join() {\n",
    "        // join parts\n",
    "    }\n",
    "}\n",
    "```"
   ]
  },
  {
   "cell_type": "markdown",
   "metadata": {},
   "source": [
    "- #### 양탄자는 바퀴는 없지만 탈것으로 가끔(?) 사용되는 객체이다\n",
    "\n",
    "### 두 클래스에서 공통으로 적용된 Vehicle 타입으로 배열을 하나 생성하고, 여기에 각 인스턴스를 담은 다음 이를 하위 캐스팅 해보자\n",
    "\n",
    "```\n",
    "var translist = [Vehicle]()\n",
    "translist.append(Car(name: \"자동차\", currentSpeed: 10.0))\n",
    "translist.append(Carpet(name: \"양탄자\" , currentSpeed: 15.0))\n",
    "\n",
    "for trans in translist {\n",
    "    if let obj = trans as? Wheel {\n",
    "        obj.lotate()\n",
    "    } else {\n",
    "        print(\"\\(trans.name)의 하위 타입 변환이 실패했습니다.\")\n",
    "    }\n",
    "}\n",
    "\n",
    "[실행 결과]\n",
    "자동차의 바퀴가 회전합니다.\n",
    "양탄자의 하위 타입 변환이 실패했습니다.\n",
    "```"
   ]
  },
  {
   "cell_type": "markdown",
   "metadata": {},
   "source": [
    "### 변수 translist는 Vehicle 타입의 모든 객체를 저장할 수 있도록 정의된 배열 객체이다\n",
    "- #### 실질적으로 타입이 무엇이든 Vehicle 클래스를 상속받은 객체라면 모두 여기에 담을 수 있다\n",
    "- #### 배열에는 서로 다른 타입을 저장할 수 없지만, Car 클래스와 Carpet 클래스는 모두 Vehicle 클래스를 상속받으므로 Vehicle 타입의 배열 translist 에는 저장할 수 있다\n",
    "- #### 이렇게 저장된 배열을 for ~ in 구문에 넣고 순회하면서 각각의 아이템을 Wheel 프로토콜로 옵셔널 캐스팅한다\n",
    "- #### 그 결과 Car 클래스는 Wheel 타입으로 캐스팅에 성공하였지만, Wheel 프로토콜을 구현하지 않은 Carpet은 캐스팅에 실패한 것을 볼 수 있다"
   ]
  },
  {
   "cell_type": "markdown",
   "metadata": {},
   "source": [
    "### 이처럼 프로토콜에서의 타입 캐스팅은 공통 타입으로 선언된 객체의 인스턴스를 필요한 타입으로 적절히 변환하여 본래 인스턴스가 가지고 있던 고유한 기능들을 사용할 수 있도록 해준다"
   ]
  }
 ],
 "metadata": {
  "kernelspec": {
   "display_name": "Python 3",
   "language": "python",
   "name": "python3"
  },
  "language_info": {
   "codemirror_mode": {
    "name": "ipython",
    "version": 3
   },
   "file_extension": ".py",
   "mimetype": "text/x-python",
   "name": "python",
   "nbconvert_exporter": "python",
   "pygments_lexer": "ipython3",
   "version": "3.7.1"
  }
 },
 "nbformat": 4,
 "nbformat_minor": 2
}
