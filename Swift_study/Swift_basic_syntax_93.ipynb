{
 "cells": [
  {
   "cell_type": "markdown",
   "metadata": {},
   "source": [
    "# 열거형과 익스텐션(Enumeration and Extensions)\n",
    "## 코드의 한계를 넓혀주는 문법\n",
    "## 열거형(Enumeration)"
   ]
  },
  {
   "cell_type": "markdown",
   "metadata": {},
   "source": [
    "## 멤버와 값의 분리"
   ]
  },
  {
   "cell_type": "markdown",
   "metadata": {},
   "source": [
    "### 필요한 데이터 집합을 열거형의 멤버로 구성할 때,\n",
    "- #### 데이터만으로도 의미 전달이 쉬울 때도 있지만 데이터를 그대로 멤버로 사용하면 이해하기 힘들 때도 있다\n",
    "- #### 주로 한눈에 구분하기 힘든 숫자들일 때가 이에 해당한다\n",
    "    - #### 대표적인 것이 HTTP 응답 코드\n",
    "        - #### HTTP 응답 코드는 숫자로 이루어져 있다\n",
    "\n",
    "### HTTP 응답 코드 각각의 숫자는 다음과 같이 구체적인 의미를 담고 있다\n",
    "#### HTTP 응답 코드의 의미\n",
    "- #### 200 정상적인 응답\n",
    "- #### 304 캐싱된 데이터 전송\n",
    "- #### 404 존재하지 않는 URL 또는 페이지 없음.\n",
    "- #### 500 서버 에러"
   ]
  },
  {
   "cell_type": "markdown",
   "metadata": {},
   "source": [
    "### 이외에도 HTTP 코드에는 굉장히 많은 값들이 의미를 담고 정의되어 있다\n",
    "- #### 그런데 HTTP 응답 코드를 모두 다 줄줄 외우고 있을 만큼의 전문가가 아닌 다음에야 이런 숫자 코드만 보고 그것이 어떤 내용인지 파악하거나 필요한 코드를 찾아 쓴다는 것은 쉽지 않은 일이다\n",
    "    - #### 매번 필요한 코드를 찾기 위해 설명을 뒤져야 한다"
   ]
  },
  {
   "cell_type": "markdown",
   "metadata": {},
   "source": [
    "### 이 코드들을 열거형으로 정의한다고 했을 때도 마찬가지이다\n",
    "- #### 각 코드 200, 300, 304, 404, 500 등을 멤버로 정의해서 사용할 순 있겠지만, 매번 필요한 내용에 맞는 코드가 몇 번인지를 찾는 과정이 필요하다"
   ]
  },
  {
   "cell_type": "markdown",
   "metadata": {},
   "source": [
    "### 이럴 때 멤버와 실질적인 값을 분리하여 멤버는 이해하기 쉬운 문자열 위주로 정의한다. \n",
    "### 실질적으로 필요한 HTTP 응답 코드는 멤버에 값을 연계하여 사용한다면 훨씬 편리하고 좋은 자료형이 될 수 있다\n",
    "- #### 이러한 편의성을 지원하기 위해 스위프트에서는 열거형의 멤버에 실질적인 값을 할당할 수 있도록 허용하고 있다\n",
    "    - ### 소위 형식과 의미를 분리하는 것이다"
   ]
  },
  {
   "cell_type": "markdown",
   "metadata": {},
   "source": [
    "### 이에 따라 HTTP 코드를 멤버와 값으로 나누어 정의한 열거형의 모습은 다음과 같다\n",
    "\n",
    "```\n",
    "enum HTTPCode: Int {\n",
    "    case OK = 200\n",
    "    case NOT_MODIFY = 304\n",
    "    case INCORRECT_PAGE = 404\n",
    "    case SERVER_ERROR = 500\n",
    "}\n",
    "```"
   ]
  },
  {
   "cell_type": "markdown",
   "metadata": {},
   "source": [
    "### HTTP 코드에서 실제로 제공해야 하는 값은 200, 304와 같은 숫자이다\n",
    "- #### 이를 그대로 멤버로 사용하지 않고 알아보기 쉽도록 설명 문자열 형식으로 바꾸어 이를 멤버로 선언하고 있다\n",
    "- #### 실제로 필요한 코드들은 멤버값에 대입하였다\n",
    "- #### 이렇게 멤버에 대입된 값은 필요할 때 꺼낼 수 있다"
   ]
  },
  {
   "cell_type": "markdown",
   "metadata": {},
   "source": [
    "### 멤버에 별도의 값을 대입할 때에는 주의해야 할 점이 있다\n",
    "- #### 멤버에 대입할 값의 자료형을 열거형 타입의 선언 뒤에 타입 어노테이션으로 표기해야 한다는 것이다\n",
    "\n",
    "```\n",
    "enum HTTPCode: Int {\n",
    "    ...\n",
    "}\n",
    "```\n"
   ]
  },
  {
   "cell_type": "markdown",
   "metadata": {},
   "source": [
    "### 위처럼 표기된 열거형은 멤버가 정수 형태의 값을 할당받는다는 것을 의미한다\n",
    "\n",
    "### 멤버값은 일반적으로 문자열이므로, 문자열 형식의 멤버에 할당된 값을 읽을 때에는 아래와 같이 rawValue 라는 속성을 사용한다\n",
    "\n",
    "```\n",
    "HTTPCode.OK.rawValue // 200\n",
    "HTTPCode.NOT_MODIFY.rawValue // 304\n",
    "HTTPCode.INCORRECT_PAGE.rawValue // 404\n",
    "HTTPCode.SERVER_ERROR.rawValue // 500\n",
    "```"
   ]
  },
  {
   "cell_type": "markdown",
   "metadata": {},
   "source": [
    "### 열거형 객체의 멤버에 실질적인 값을 할당하는 것은 C와 Objective-C에서도 제공하는 기능이다\n",
    "- #### 하지만 이들 언어에서는 각 멤버에 정수값만 정의할 수 있을 뿐만 아니라 우리가 임의로 지정할 수도 없다\n",
    "- #### 단순한 멤버가 정의된 순서대로 0, 1, 2... 의 값을 자동으로 할당해 버리기 때문이다"
   ]
  },
  {
   "cell_type": "markdown",
   "metadata": {},
   "source": [
    "### 이에 비해 스위프트는 문자열, 정수, 실수 기타 다른 자료형까지 모두 멤버에 할당하여 사용할 수 있다\n",
    "- #### 열거형 멤버가 가질 수 있는 값의 범위가 훨씬 넓은 것이다\n",
    "\n",
    "### 물론 C나 Objective-C에서 제공해주는 자동 할당이 편리하게 느껴질 때도 있을 것이다\n",
    "- #### 스위프트에서는 이같은 자동 할당 기능도 지원한다\n",
    "    - #### 열거형 객체에 타입 어노테이션으로 Int 를 추가하고, 첫 번째 멤버에 시작할 정수값을 지정하면 된다\n",
    "    \n",
    "```\n",
    "enum Rank: Int {\n",
    "    case one = 1\n",
    "    case two, three, four, five\n",
    "}\n",
    "    \n",
    "Rank.one.rawValue // 1\n",
    "Rank.two.rawValue // 2\n",
    "Rank.three.rawValue // 3\n",
    "Rank.four.rawValue // 4\n",
    "Rank.five.rawValue //5\n",
    "```"
   ]
  },
  {
   "cell_type": "markdown",
   "metadata": {},
   "source": [
    "### 위 예제에서는 시작하는 멤버에만 1의 값을 지정, 나머지 멤버에는 아무 값도 지정하지 않았다\n",
    "- #### 하지만 열거형은 첫 번째 멤버에 지정된 값을 기준으로 하여 나머지 멤버들에게 차례대로 +1씩 값을 증가시켜가면서 할당한다\n",
    "- #### 이에 따라 두 번째 이후의 멤버에는 아무 값도 대입하지 않았음에도 모두 차례대로 값을 가지게 된 것이다"
   ]
  },
  {
   "cell_type": "markdown",
   "metadata": {},
   "source": [
    "### 위 예제에서는 시작값을 1로 지정했기 때문에 나머지 멤버들의 값은 자연히 2,3,4,5로 설정되었다\n",
    "- #### 만약 첫 번째 멤버를 10으로 지정했다면 나머지 멤버들은 10에서 시작하는 증가값인 11, 12, 13, 14 로 설정된다\n",
    "\n",
    "### 첫 번째 멤버에 이어서 두 번째 멤버에도 값을 직접 할당한다면 그 이후의 멤버들은 두 번째 값을 기준으로 하여 1씩 증하가는 양상을 보인다\n",
    "\n",
    "```\n",
    "enum Rank: Int {\n",
    "    case one = 10\n",
    "    case two = 20\n",
    "    case three, four, five\n",
    "}\n",
    "\n",
    "Rank.one.rawValue // 10\n",
    "Rank.two.rawValue // 20\n",
    "Rank.three.rawValue // 21\n",
    "Rank.four.rawValue // 22\n",
    "Rank.five.rawValue // 23\n",
    "```"
   ]
  },
  {
   "cell_type": "markdown",
   "metadata": {},
   "source": [
    "### 이때 열거형 멤버의 저장값을 읽어들이는 rawValue 속성은 열거형 멤버가 값을 저장하고 있을 때에만 사용할 수 있다\n",
    "- #### 만약 열거형 멤버가 값을 가지지 않고 단순히 멤버만 정의되어 있다면 rawValue 속성을 사용했을 때 컴파일러 오류가 발생하므로 주의해야 한다"
   ]
  },
  {
   "cell_type": "markdown",
   "metadata": {},
   "source": [
    "### 열거형 객체의 멤버와 값은 선언하는 시점에서 정의되지만, 사용하는 시점에서 멤버에 보조 값을 설정할 수 있는 방법도 있다\n",
    "- #### 이렇게 설정된 값을 \"연관 값(Associated Values)\"이라고 한다\n",
    "\n",
    "### \"연관 값(Associated Values)\"은 다음과 같은 방식으로 정의된다\n",
    "\n",
    "```\n",
    "enum ImageFormat {\n",
    "    case JPEG\n",
    "    case PNG(Bool)\n",
    "    case GIF(Int,Bool)\n",
    "}\n",
    "\n",
    "var newImage = ImageFormat.PNG(true)\n",
    "newImage= .GIF(256, false)\n",
    "```"
   ]
  },
  {
   "cell_type": "markdown",
   "metadata": {},
   "source": [
    "### 이미지 포맷을 정의하는 열거형 ImageFormat은 JPEG, PNG, GIF라는 멤버를 가진다 \n",
    "- #### PNG는 배경값이 투명한 PNG와 그렇지 않은 PNG 포맷으로 나뉜다\n",
    "- #### GIF 역시 사용된 컬러 수 와 애니매이션 여부에 따라 나눌 수 있다\n",
    "- #### 이러한 특성을 모두 반영하여 이미지 포맷의 멤버를 정의한다면 필요한 멤버의 수가 매우 늘어나게 된다\n",
    "- #### 하지만 멤버를 모두 정의하지 않고 구분해야 할 값을 연관 값으로 처리하면 세 개의 멤버만으로도 다양한 포맷을 처리할 수 있다\n",
    "- #### \"연관 값\"은 세부적으로 구분하기 위한 용도 이외에도 실행 시점에서 값을 저장해야 할 필요가 있을 때 요긴하게 사용된다"
   ]
  },
  {
   "cell_type": "markdown",
   "metadata": {},
   "source": [
    "### 열거형은 클래스나 구조체처럼 내부에 연산 프로퍼티와 메소드를 정의할 수 있다\n",
    "- #### 열거형은 구조체나 클래스와는 달리 인스턴스를 만들 수 없지만, 열거형 멤버를 인스턴스처럼 사용할 수 있으므로 인스턴스 프로퍼티/메소드와 타입/ 프로퍼티/메소드를 모두 정의할 수 있다"
   ]
  },
  {
   "cell_type": "markdown",
   "metadata": {},
   "source": [
    "### 다음은 앞에서 정의한 HTTPCode 열거형에 연산 프로퍼티와 메소드를 추가한 예제이다\n",
    "\n",
    "```\n",
    "enum HTTPCode: Int {\n",
    "    case OK = 200\n",
    "    case NOT_MODIFY = 304\n",
    "    case INCORRECT_PAGE = 404\n",
    "    case SERVER_ERROR = 500\n",
    "    \n",
    "    var value: String {\n",
    "        return \"HTTPCode number is \\(self.rawValue)\"\n",
    "    }\n",
    "    \n",
    "    func getDescription() -> String {\n",
    "        switch self {\n",
    "            case .OK : \n",
    "                return \"응답이 성공했습니다. HTTP 코드는 \\(self.rawValue)입니다.\"\n",
    "            case .NOT_MODIFY : \n",
    "                return \"변경된 내역이 없습니다. HTTP 코드는 \\(self.rawValue)입니다.\"\n",
    "            case .INCORRECT_PAGE : \n",
    "                return \"존재하지 않는 페이지 입니다. HTTP 코드는 \\(self.rawValue)입니다.\"\n",
    "            case .SERVER_ERROR : \n",
    "                return \"서버 오류입니다. HTTP 코드는 \\(self.rawValue)입니다.\"\n",
    "        }\n",
    "    }\n",
    "    \n",
    "    \n",
    "    static func getName() -> String {\n",
    "        return \"This Enumeration is HTTPCode\"\n",
    "    }\n",
    "}\n",
    "```"
   ]
  },
  {
   "cell_type": "markdown",
   "metadata": {},
   "source": [
    "### HTTPCode 열거형 객체에 연산 프로퍼티 value, 메소드 getDescription() , 타입 메소드 getName()을 각각 추가하였다\n",
    "\n",
    "### 이렇게 작성된 프로퍼티와 메소드는 다음과 같은 방식으로 호출할 수 있다\n",
    "\n",
    "```\n",
    "var response = HTTPCode.OK\n",
    "response = .NOT_MODIFY\n",
    "\n",
    "response.value // \"HTTPCode number is 304\"\n",
    "response.getDescription() // \"변경된 내역이 없습니다. HTTP 코드는 304입니다.\"\n",
    "\n",
    "HTTPCode.getName() // \"This Enumeration is HTTPCode\"\n",
    "```"
   ]
  },
  {
   "cell_type": "markdown",
   "metadata": {},
   "source": [
    "- ### value와 getDescription()은 인스턴스 메소드의 성격이므로 열거형 객체의 멤버를 할당받은 변수 response에서 호출한다\n",
    "\n",
    "- ### getName() 메소드는 타입 메소드이므로 열거형 타입 자체에서 호출한다\n",
    "\n",
    "### 이와 같은 방식을 사용하여 열거형에서 프로퍼티나 메소드를 정의해 두면, 필요 할 때 요긴하게 사용할 수 있어 매우 효율적이다"
   ]
  }
 ],
 "metadata": {
  "kernelspec": {
   "display_name": "Python 3",
   "language": "python",
   "name": "python3"
  },
  "language_info": {
   "codemirror_mode": {
    "name": "ipython",
    "version": 3
   },
   "file_extension": ".py",
   "mimetype": "text/x-python",
   "name": "python",
   "nbconvert_exporter": "python",
   "pygments_lexer": "ipython3",
   "version": "3.7.1"
  }
 },
 "nbformat": 4,
 "nbformat_minor": 2
}
