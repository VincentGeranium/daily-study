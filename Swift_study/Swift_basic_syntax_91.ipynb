{
 "cells": [
  {
   "cell_type": "markdown",
   "metadata": {},
   "source": [
    "# 열거형과 익스텐션(Enumeration and Extensions)\n",
    "## 코드의 한계를 넓혀주는 문법\n",
    "## 열거형(Enumeration)"
   ]
  },
  {
   "cell_type": "markdown",
   "metadata": {},
   "source": [
    "## 열거형 객체의 사용"
   ]
  },
  {
   "cell_type": "markdown",
   "metadata": {},
   "source": [
    "### 열거형을 정의한다는 것은\n",
    "- #### 새로운 타입의 데이터를 정의하는 것과 같아서, 열거형 멤버를 사용하여 변수나 상수에 대입하면 그 변수나 상수는 열거형 타입의 값으로 선언된다\n",
    "\n",
    "### 아래는 열거형을 이용하여 변수를 정의하는 예시\n",
    "\n",
    "```\n",
    "var directionToHead = Direction.west\n",
    "```"
   ]
  },
  {
   "cell_type": "markdown",
   "metadata": {},
   "source": [
    "### directionToHead 변수는 Direction 객체에 정의된 멤버 중 하나인 west로 초기화 되었다\n",
    "- #### 굳이 타입 어노테이션을 명시하지 않더라도 데이터 타입 추론 메커니즘에 의해 이 변수는 Direction 타입으로 정의된다\n",
    "\n",
    "### 하지만 굳이 타입 어노테이션을 붙인다면 다음과 같이 작성해 줄 수 있다\n",
    "\n",
    "```\n",
    "var directionToHead: Direction = Direction.west\n",
    "```"
   ]
  },
  {
   "cell_type": "markdown",
   "metadata": {},
   "source": [
    "### 일단 변수를 열거형 타입으로 정의하고 나면 이 변수에 대입될 수 있는 값은 같은 열거형 타입에 정의된 다른 멤버값뿐이다\n",
    "- #### 따라서 변수의 값을 변경할 때에는 열거형 타입명을 생략하고 멤버값만 대입해 주어도 된다\n",
    "- #### 단, 이때 멤버값이 단순한 문자열이 아니라 열거형 타입에 속한 값이라는 것을 알려주기 위해 멤버값 앞에 점(dot)을 반드시 붙여주어야 한다"
   ]
  },
  {
   "cell_type": "markdown",
   "metadata": {},
   "source": [
    "### 앞에서 Direction 타입으로 정의된 directionToHead 변수의 값을 변경하는 과정에서 열거형 타입명을 생략하고 멤버값만 사용하는 예\n",
    "\n",
    "```\n",
    "directionToHead = .east\n",
    "```"
   ]
  },
  {
   "cell_type": "markdown",
   "metadata": {},
   "source": [
    "### 다시 한 번 말하지만, 이렇게 Direction.east가 아니라 단순히 .east로 작성할 수 있는 것은,\n",
    "- #### directionToHead 변수가 Direction 타입으로 정의되었다는 것을 컴파일러가 알고 있기 때문이다\n",
    "- #### 컴파일러가 인지하기 전, 그러니까 상수나 변수를 처음 선언할 때부터 열거형 타입을 생략하고 멤버값만 달랑 작성해 버린다면 컴파일러는 주어진 멤버가 어떤 열거형에 소속된 값인지 찾을 수가 없다"
   ]
  },
  {
   "cell_type": "markdown",
   "metadata": {},
   "source": [
    "### 따라서 다음의 구문은 컴파일러에 의해 오류로 처리된다\n",
    "\n",
    "```\n",
    "var directionToHead = .east\n",
    "```"
   ]
  },
  {
   "cell_type": "markdown",
   "metadata": {},
   "source": [
    "### 그러나 다음과 같이 타입 어노테이션을 함께 사용할 경우에는 이야기가 달라진다\n",
    "- #### 타입 어노테이션을 통해 컴파일러는 변수에 할당될 값의 타입이 Direction임을 미리 알 수 있기 때문에, 변수를 선언할 때부터 열거형 타입의 이름을 생략해도 아무 문제가 없다\n",
    "\n",
    "```\n",
    "var directionToHead: Direction = .east\n",
    "```"
   ]
  },
  {
   "cell_type": "markdown",
   "metadata": {},
   "source": [
    "### 열거형 타입을 생략할 수 있을 때와 생략할 수 없을 때를 정리한 내용\n",
    "- #### 1. 열거형 타입으로 정의된 변수에는 열거형 타입명을 생략하고 멤버값만 대입해도 오류가 발생하지 않는다\n",
    "- #### 2. 변수나 상수의 타입 어노테이션을 명시한 경우, 처음부터 타입명을 생략하고 멤버값만 대입해도 오류가 발생하지 않는다\n",
    "- #### 3. 타입 어노테이션 없이 변수나 상수를 초기화할 때 타입명은 생략할 수 없다"
   ]
  }
 ],
 "metadata": {
  "kernelspec": {
   "display_name": "Python 3",
   "language": "python",
   "name": "python3"
  },
  "language_info": {
   "codemirror_mode": {
    "name": "ipython",
    "version": 3
   },
   "file_extension": ".py",
   "mimetype": "text/x-python",
   "name": "python",
   "nbconvert_exporter": "python",
   "pygments_lexer": "ipython3",
   "version": "3.7.1"
  }
 },
 "nbformat": 4,
 "nbformat_minor": 2
}
