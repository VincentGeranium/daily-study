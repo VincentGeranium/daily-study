{
 "cells": [
  {
   "cell_type": "markdown",
   "metadata": {},
   "source": [
    "# 학습 및 복습 중 정리"
   ]
  },
  {
   "cell_type": "markdown",
   "metadata": {},
   "source": [
    "### 인스턴스 (Instance)\n",
    "- #### 객체 지향 프로그래밍 (OOP)에서 \"인스턴스(instance)\"는 해당 클래스의 구조로 컴퓨터 저장공간에서 할당된 실체를 의미한다\n",
    "- #### 여기서 클래스는 속성과 행위로 구성된 일종의 설계도이다\n",
    "- #### OOP에서 객체는 클래스와 인스턴스를 포함한 개념이다"
   ]
  },
  {
   "cell_type": "markdown",
   "metadata": {},
   "source": [
    "### 매개변수(parameter)와 전달인자(argument)"
   ]
  },
  {
   "cell_type": "markdown",
   "metadata": {},
   "source": [
    "- 종종 매개변수(parameter)와 전달인자(argument)는 적당히 섞어서 쓰이기도 하는데, 문맥에 따라 의미를 달리해서 해석되기도 한다\n",
    "\n",
    "- #### 엄밀하게 말하면 두 가지는 다르다\n",
    "\n",
    "### parameter 매개변수\n",
    "- #### 매개변수는 함수의 정의 부분에 나열되어 있는 변수들을 의미\n",
    "\n",
    "### argument 전달인자\n",
    "- #### 전달인자는 함수를 호출할때 전달되는 실제 값을 의미\n",
    "\n",
    "### 이같은 의미를 명확히 하기 위해 매개변수는 변수(variable)로, 전달인자는 값(value)으로 보는 것이 일반적이다"
   ]
  },
  {
   "cell_type": "markdown",
   "metadata": {},
   "source": [
    "- ### 매개변수는 함수의 정의 부분에서 볼 수 있다\n",
    "- ### 전달인자는 함수를 호출하는 부분에서 볼 수 있다"
   ]
  },
  {
   "cell_type": "markdown",
   "metadata": {},
   "source": [
    "#### 예시를 통한 설명\n",
    "- #### $f(x) = x * x$와 같은 함수 정의 부분에서 변수 'x'가 매개변수\n",
    "- #### f(2)와 같은 함수 호출 부분에서 '2'가 함수의 전달인자"
   ]
  },
  {
   "cell_type": "markdown",
   "metadata": {},
   "source": [
    "### 각각의 매개변수는 함수의 정의 부분에 포함되어 있는 고유한 특성이다\n",
    "- #### 예를 들어 대다수의 언어에서는 입력으로 들어온 2개의 정수를 더해서 합을 계산해 주는 함수의 경우\n",
    "    - #### 정수 형태의 매개변수 2개가 필요하다\n",
    "- #### 일반적으로 함수는 몇개의 매개변수를 가지든 상관없으며, 매개변수가 하나도 없을 수도 있다\n",
    "- #### 만약에 함수가 매개변수를 가질 경우, 각각의 매개변수에 대한 정의를 나열해 놓을 것을 매개변수 목록(parameter list)라고 한다"
   ]
  },
  {
   "cell_type": "markdown",
   "metadata": {},
   "source": [
    "### 전달인자는 함수가 호출될때 제공되는 값들을 말한다\n",
    "- #### 함수 정의의 한 부분으로 바뀌지 않는 매개변수와는 달리 호출 할 때마다 값이 바뀔 수 있다\n",
    "- #### 함수를 호출하는 부분에서 전달인자를 나열해 놓은 것을 전달인자 목록(argument list)라고 한다"
   ]
  },
  {
   "cell_type": "markdown",
   "metadata": {},
   "source": [
    "### Python 언어로 예시를 들어 설명\n",
    "### parameter\n",
    "#### 함수의 정의 부분에 나열되어 있는 변수, 여기서는 plus 함수 정의시에 사용되는 a, b를 parameter라고 한다\n",
    "\n",
    "```\n",
    "def plus(a, b):\n",
    "    return a + b\n",
    "```\n",
    "\n",
    "### argument\n",
    "#### 함수를 호출할때 전달 되는 실제 값, 여기서는 plus 라는 함수에 넣어주는 값 1,2를 argument라고 한다\n",
    "\n",
    "```\n",
    "result = plus(1,2)\n",
    "```"
   ]
  }
 ],
 "metadata": {
  "kernelspec": {
   "display_name": "Python 3",
   "language": "python",
   "name": "python3"
  },
  "language_info": {
   "codemirror_mode": {
    "name": "ipython",
    "version": 3
   },
   "file_extension": ".py",
   "mimetype": "text/x-python",
   "name": "python",
   "nbconvert_exporter": "python",
   "pygments_lexer": "ipython3",
   "version": "3.7.1"
  }
 },
 "nbformat": 4,
 "nbformat_minor": 2
}
