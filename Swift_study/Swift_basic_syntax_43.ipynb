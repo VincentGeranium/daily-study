{
 "cells": [
  {
   "cell_type": "markdown",
   "metadata": {},
   "source": [
    "# 함수 (Function)\n",
    "## 매개변수\n",
    "### 매개변수의 수정"
   ]
  },
  {
   "cell_type": "markdown",
   "metadata": {},
   "source": [
    "- #### 변수는 마음대로 값을 수정할 수 있어야 한다\n",
    "    - ### 하지만, 매개변수에 입력된 인자값을 함수 내에서 수정하려고 하면 오류가 발생한다\n",
    "        - ### 이것은 스위프트에서 함수의 인자값이 변수가 아니라 상수로 정의되었기 때문이다\n",
    "            - ### 정확한 표현은 매개상수라고 해야 맞다"
   ]
  },
  {
   "cell_type": "markdown",
   "metadata": {},
   "source": [
    "### 예시\n",
    "\n",
    "```\n",
    "// 입력받은 값을 +1 하여 리턴해주는 함수\n",
    "func incrementBy(base: Int) -> Int {\n",
    "    base += 1\n",
    "    return base\n",
    "}\n",
    "```"
   ]
  },
  {
   "cell_type": "markdown",
   "metadata": {},
   "source": [
    "- #### 이 함수는 입력받은 인자값을 base라는 정수 타입의 매개변수에 할당하고, 이 값을  +=1 연산 처리하여 반환한다\n",
    "    - #### += 1 연산은 그 자신의 값에 1을 더한 다음 그 자신에게 다시 할당하는 연산이다\n",
    "- ### 여기서 보여주고자 하는 것은 입력된 인자값에 대한 변경이 일어난다는 점이다"
   ]
  },
  {
   "cell_type": "markdown",
   "metadata": {},
   "source": [
    "### 이 함수를 호출하여 실행하면 다음과 같은 오류가 발생한다\n",
    "\n",
    "- ### Left side of mutating operator isn't mutable : 'base' is a 'let' constant\n",
    "    - ### \"base 는 '상수'로 정의되었으므로 왼쪽 수정 연산자가 값을 변경할 수 없다\"는 뜻이다\n",
    "- ### 이처럼 \"함수의 인자값\"은 \"함수 내부에서\" 변수가 아니라 \"상수임에 주의\"해야 한다\n",
    "- ### 인자값에 값을 새로 할당하거나 수정하는 구문을 작성해서는 안된다는 것이다.\n",
    "- #### 이는 변수를 함수의 인자값으로 대입해 준 경우도 마찬가지이다\n",
    "    - ### 인자값으로 전달된 값이 변수더라도 실제로는 값의 복사를 통해 상수가 새로 정의된 다음 전달된다\n",
    "        - #### 변수 자체가 전달되는 것이 아니라 값만 전달된다는 것이다. 그것도 원본이 아니라 복사된 값으로 말이다    "
   ]
  },
  {
   "cell_type": "markdown",
   "metadata": {},
   "source": [
    "### 결론적으로 함수에 입력된 인자값은 함수 내부에서 항상 상수로 정의된다. 인자값을 변경할수는 없다."
   ]
  },
  {
   "cell_type": "markdown",
   "metadata": {},
   "source": [
    "- #### 거의 모든 언어에서 매개변수라는 말은 많이 사용하지만, 매개상수라는 말은 거의 사용하지 않는다.\n",
    "    - ### 실제로도 대부분 언어에서 함수의 매개변수는 기본적으로 변수로 정의되지 상수로 정의되지는 않는다\n",
    "        - #### 자바만 해도 그렇다. 매개변수를 상수로 정의하려면 명시적으로 매개변수 앞에 final이라는 키워드를 붙여야 한다"
   ]
  },
  {
   "cell_type": "markdown",
   "metadata": {},
   "source": [
    "- #### 이런 사실들을 종합해보면 상수로서의 특성을 정확히 표현하기 위해 스위프트에서는 '매개상수'라는 단어를 사용해야 한다\n",
    "    - #### 스위프트에서 매개변수라고 일컫는 것은 특별한 언급이 없는 한 상수로 받아들이면 된다\n",
    "        - ### 영어에서는 Parameter로 사용된다\n",
    "            - #### 여기에 변수나 상수의 구분은 없다"
   ]
  },
  {
   "cell_type": "markdown",
   "metadata": {},
   "source": [
    "### 상수로 정의되는 함수의 인자값이라 할지라도 내부에서 인자값을 수정하는 방법이 있다\n",
    "- ### 기본적으로 매개변수와 동일한 이름으로 변수를 정의하고 매개변수의 값을 대입해 주면 된다"
   ]
  },
  {
   "cell_type": "markdown",
   "metadata": {},
   "source": [
    "### 함수 내부에 정의된 매개변수의 인자값을 수정하는 방법 예시\n",
    "\n",
    "```\n",
    "func incrementBy(base: Int) -> Int{\n",
    "    var base = base\n",
    "    base += 1\n",
    "    return base\n",
    "}\n",
    "```"
   ]
  },
  {
   "cell_type": "markdown",
   "metadata": {},
   "source": [
    "- ### var base = base 를 추가\n",
    "    - ### 매개변수의 이름과 동일한 변수 base를 정의하고, 여기에 매개변수를 대입하는 구문\n",
    "- ### 동일한 이름의 변수를 작성해서 값을 대입하고 나면, 이후로 base라는 이름의 호출은 모두 매개변수 base가 아니라 변수 base를 가리키게 된다\n",
    "    - #### 여기에는 값을 수정하는 기존 구문을 그대로 사용해도 아무런 문제가 없다\n",
    "        - #### 그저 변수의 값을 변경하는 것일 뿐이다"
   ]
  },
  {
   "cell_type": "markdown",
   "metadata": {},
   "source": [
    "### 함수 내부에 정의된 여러개의 매개변수 인자값을 수정하는 방법 예시\n",
    "\n",
    "```\n",
    "func descAge(name: String, _ paramAge: Int) -> String {\n",
    "    var name = name\n",
    "    var paramAge = paramAge\n",
    "    \n",
    "    // 입력된 값을 변경\n",
    "    name = name + \"씨\"\n",
    "    paramAge += 1\n",
    "    return \"\\(name)의 내년 나이는 \\(paramAge)세입니다\"\n",
    "}\n",
    "```"
   ]
  },
  {
   "cell_type": "markdown",
   "metadata": {},
   "source": [
    "- #### 매개변수가 두 개이다. 이 경우에도 크게 다른 점은 없다\n",
    "    - #### 각각의 매개변수에 대해 변수화 하는 구문을 추가해주면 되기 때문이다\n",
    "    - #### 위 예제에서는 매개변수명과 동일한 이름으로 변수를 정의하여 사용하지만, 사실 이 방식이라면 다른 변수명으로 정의하더라도 큰 상관은 없다"
   ]
  }
 ],
 "metadata": {
  "kernelspec": {
   "display_name": "Python 3",
   "language": "python",
   "name": "python3"
  },
  "language_info": {
   "codemirror_mode": {
    "name": "ipython",
    "version": 3
   },
   "file_extension": ".py",
   "mimetype": "text/x-python",
   "name": "python",
   "nbconvert_exporter": "python",
   "pygments_lexer": "ipython3",
   "version": "3.7.1"
  }
 },
 "nbformat": 4,
 "nbformat_minor": 2
}
