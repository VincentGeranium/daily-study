{
 "cells": [
  {
   "cell_type": "markdown",
   "metadata": {},
   "source": [
    "# 혼동되거나 모르는 단어,용어 정리"
   ]
  },
  {
   "cell_type": "markdown",
   "metadata": {},
   "source": [
    "## 프레임워크 (Framework)"
   ]
  },
  {
   "cell_type": "markdown",
   "metadata": {},
   "source": [
    "- 프로그램 기본 구조 (뼈대)\n",
    "    - 예시 : 자동차의 프레임\n",
    "- 원하는 기능 구현에만 집중하여 빠르게 개발 할 수 있도록 기본적으로 필요한 기능을 갖추고 있는것으로 라이브러리가 포함되어 있다\n",
    "- 프레임워크만으로는 실행되지 않으며 기능 추가를 해야 되고 프레임워크에 의존하여 개발해야 되며 프레임워크가 정의한 규칙을 준수해야 한다\n",
    "    - 겉보기에는 비슷하지만 많은 프레임워크가 존재하는 이유는 아키텍처가 다른 것이며 규칙을 준수해야 되는 이유이기도 하다\n",
    "\n",
    "- 프레임워크 예시\n",
    "    - Java framework - Spring\n",
    "    - Python framework - Django\n",
    "    - JavaScript - Angularjs\n",
    "    - PHP - Laravel"
   ]
  },
  {
   "cell_type": "markdown",
   "metadata": {},
   "source": [
    "## 라이브러리 (Library)"
   ]
  },
  {
   "cell_type": "markdown",
   "metadata": {},
   "source": [
    "- 프로그램 제작 시 필요한 기능\n",
    "    - 예시 : 자동차 바퀴, 자동차 핸들\n",
    "- 재사용이 필요한 기능으로 반복적인 코드 작성을 없애기 위해 언제든지 필요한 곳에서 호출하여 사용할 수 있도록 Class나 Function으로 만들어진 것\n",
    "- 사용 여부는 코드 작성자 선택 사항이며 새로운 라이브러리 제작 시에도 엄격한 규칙이 존재하지 않는다, 제작 의도에 맞게 작성하면 된다\n",
    "- 라이브러리 예시\n",
    "    - JavaScript - JQuery(간혹 프레임워크라고 소개되는 곳이 있는데 공식 사이트에서 라이브러리로 명시되어 있음)\n",
    "    - GUI(Graphical user interface)에서 재사용하기 쉽게 버튼, 테이블 같은 구성 요소를 호출해서 쓸 수 있도록 분리해두었다면 라이브러리이다\n",
    "    - Windows에서 간혹 보았을 dll 확장자는 동적 링크 라이브러리(dynamic-link-library, DLL)의 약자로 라이브러리 라고 할 수 있다\n",
    "    - 객체지향 프로그래밍(Object-Oriented Programming,OOP)은 기본적으로 각 기능마다 함수화하는 것을 클래스 라이브러리라고 할수도 있다"
   ]
  },
  {
   "cell_type": "markdown",
   "metadata": {},
   "source": [
    "## 아키텍처 (Architecture)"
   ]
  },
  {
   "cell_type": "markdown",
   "metadata": {},
   "source": [
    "- 프로그램 주요 구조 설계\n",
    "    - 예시 : 자동차 도면, 건물 도면\n",
    "- 기획한 내용을 프로그램화 했을 경우 필요한 주요 특징을 기술적으로 설계하고 명시하는 것\n",
    "- 결과물에 필요한 모든 구성 요소를 명시하지만, 구체적인 구현 방법은 포함되어 있지 않다\n",
    "- 가령, 플랫폼은 주요 특징이지만 프레임워크와 아이브러리는 주요 특징이 아니므로 명시되지 않을 가능성이 크다\n",
    "    - 상황에 따라 포함 될 수도 있다\n",
    "- 아키텍쳐 예시\n",
    "    - PC를 조립하기 위해 하드웨어 부분을 확인하고 선택한 리스트가 아키텍쳐라고 할 수 있다\n",
    "    - Azure 솔루션 아키텍쳐\n",
    "    - 소셜 네트워크 서비스로 본 아키텍처"
   ]
  },
  {
   "cell_type": "markdown",
   "metadata": {},
   "source": [
    "## 플랫폼 (Platform)"
   ]
  },
  {
   "cell_type": "markdown",
   "metadata": {},
   "source": [
    "- 프로그램 실행 환경\n",
    "    - 예시 : 자동차 주행 환경(고속도로용, 레이싱용, 사막전용)\n",
    "- 프로그램이 실행되는 환경이며 플랫폼은 플랫폼위에 다른 플랫폼이 존재할 수 있다\n",
    "- Windows에서 Java로 개발하고 있으며 앱스토어에서 어플을 내려받는 과정에서 이미 3개의 플랫폼을 사용하고 있는 것이다\n",
    "- 플랫폼은 같은 영역에도 다양한 목적과 가치로 많이 만들어지고 있으며 모든 플랫폼에서 실행되도록 개발하기는 어렵다\n",
    "- 프로그램의 목적에 맞도록 플랫폼을 선택하는 것이 중요\n",
    "- 플랫폼 예시\n",
    "    - Windows,Linux,macOS등 O/S는 모두 플랫폼이다\n",
    "    - 어플을 다운받는 앱스토어, 구글플레이, 원스토어도 플랫폼이다\n",
    "    - V8 JavaScript Engine는 JavaScript에게 큰 힘이 되어주고 있는 플랫폼이다\n",
    "    - Java 프로그램은 OS제약이 없지만 실행하기 위해서는 OS에 자바 가상 머신(JVM, Java Virtual Machine)위에서 실행되므로 Java플랫폼이 필요하다"
   ]
  },
  {
   "cell_type": "markdown",
   "metadata": {},
   "source": [
    "## LLVM (Low Level Virtual Machine)"
   ]
  },
  {
   "cell_type": "markdown",
   "metadata": {},
   "source": [
    "#### LLVM"
   ]
  },
  {
   "cell_type": "markdown",
   "metadata": {},
   "source": [
    "- 컴파일러 기반구조\n",
    "- 프로그램을 컴파일 타임, 링크 타임, 런타임 상황에서 프로그램의 작성 언어에 상관없이 최적화를 쉽게 구현할 수 있도록 구성되어 있다\n",
    "- LLVM은 원래는 저급 가상 기계(low-level virtual machine)의 약자를 가리켰지만, LLVM이 성장하고 다양한 목적을 가지게 되면서 현재는 그 이름을 약자로서 사용하는 것이 아니라 그냥 프로젝트 이름으로서 사용하고 있다\n",
    "- LLMV의 핵심 코드는 LLVM 라이선스로 배포, BSD 라이선스와 비슷한 속성을 가진다\n",
    "    - LLVM을 사용한 프로그램을 배포하였을 때 해당 소스코드를 공개/배포해야 하는 의무는 없다\n",
    "    - LLVM의 프론트엔드를 GNU 컴파일러 모음(GCC) 기반으로 사용할 경우 프론트엔드 GPL로 배포한다\n",
    "- LLVM 라이선스를 가지는 프론트엔드를 위해 Clang이라는 프로젝트를 진행하고 있다"
   ]
  },
  {
   "cell_type": "markdown",
   "metadata": {},
   "source": [
    "#### LLVM 개요"
   ]
  },
  {
   "cell_type": "markdown",
   "metadata": {},
   "source": [
    "- LLVM으로 언어에 가상 기계를 생성, 가상 기계가 언어에 독립적인 최적화를 실행\n",
    "- LLVM은 언어와 구조로부터 독립적\n",
    "    - 언어 모듈과 시스템을 위한 코드 생성 부의 사이에 위치\n",
    "- LLVM은 컴파일 과정 동안 최적화와 함꼐 JIT를 정적 컴파일러로 사용\n",
    "    - 개발의 각종 단계에서 사용할 수 있는 많은 부분을 가지고 있다\n",
    "- LLVM은 전통적인 GCC 시스템에서 그랬듯이 코드를 정적으로 컴파일 할 수도 있고, Java처럼 JIT를 이용하여 기계어(machine code)로 한 번 더 컴파일되는 중간 형식으로 코드를 컴파일 할 수도 있다\n",
    "    - 자바처럼 플랫폼에 독립적이란 뜻른 아니다\n",
    "- JTI 컴파일러의 경우 런타임에 불필요한 정적 분기를 최적화하는 기능이 있다\n",
    "    - 이 기능은 다양한 런타임 옵션을 제공하면서 특정 환경에서는 사용되지 않는 옵션을 쉽게 식별할 수 있는 프로그램의 경우에는 부분 평가(partial evaluation)을 하는데 유용하다\n",
    "    - Mac OS X v10.5에서는 이를 사용하여 하드웨어에서 지원하지 않는 OpenGL 파이프라인을 제공하고 있다\n",
    "- 현재 GNU 컴파일러 모음(GCC) 3.4와 4.0.1에서 빼낸 프론트 엔드를 사용하는 C 언어와 C++ 컴파일러를 지원하고 있다"
   ]
  },
  {
   "cell_type": "markdown",
   "metadata": {},
   "source": [
    "#### LLVM 구성 요소"
   ]
  },
  {
   "cell_type": "markdown",
   "metadata": {},
   "source": [
    "- 프론트엔드 : 프로그래밍 언어 지원\n",
    "    - 표준 라이브러리 지원\n",
    "- LLVM 중간 표현 : 어셈블리어와 비슷한 저급 프로그래밍 언어, LLVM의 핵심 중간표현(IR)\n",
    "- 백엔드 :  명령어 집합 및 마이크로아키텍쳐 지원"
   ]
  },
  {
   "cell_type": "markdown",
   "metadata": {},
   "source": [
    "## 옵티마이저(Optimizer)"
   ]
  },
  {
   "cell_type": "markdown",
   "metadata": {},
   "source": [
    "- optimize = 최적화\n",
    "- 옵티마이저란 사람으로 생각하면 두뇌에 해당하는 부분\n",
    "- 옵티마이저를 한마디로 말하면 SQL을 위한 최적의 실행계획을 생성하는 알고리즘\n",
    "- 옵티마이저의 종류는 크게 두가지이다\n",
    "    - 1.Rule Base 옵티마이저\n",
    "    - 2.Cost Base 옵티마이저"
   ]
  },
  {
   "cell_type": "markdown",
   "metadata": {},
   "source": [
    "### Rule Base 옵티마이저"
   ]
  },
  {
   "cell_type": "markdown",
   "metadata": {},
   "source": [
    "- SQL Syntax 및 Index의 존재유무 등을 확인하여 실행계획을 생성\n",
    "- where 조건으로 공급된 컬럼의 index 존재 유무를 확인하여 index가 존재한다면 해당 index를 스캔하여 table를 access하고 index가 존재하지 않을 경우 table full scan을 수행하는 방식을 선택한다\n",
    "- Rule Base 옵티마이저의 우선순위\n",
    "    - 1. ROWID를 통한 Table Access\n",
    "    - 2. Unique Index를 통한 Table Access\n",
    "    - 3. Index를 통한 Table Access\n",
    "    - 4. FullScan을 통한 Table Access\n",
    "- Rule Base 옵티마이저의 장점\n",
    "    - SQL을 작성한 개발자의 의도대로 실행 계획을 생성할 수 있다"
   ]
  },
  {
   "cell_type": "markdown",
   "metadata": {},
   "source": [
    "### Cost Base 옵티마이저"
   ]
  },
  {
   "cell_type": "markdown",
   "metadata": {},
   "source": [
    "- 비용을 산정해서 실행 계획을 생성하는 옵티마이저 방식\n",
    "- 해당 Table에 Analyze를 수행하여 통계 데이터를 수집해 놓아야 사용 가능한 옵티마이저 방식\n",
    "- Cost Base 옵티마이저는 분포도 및 실제 데이터의 통계치를 가지고 실행 걔획을 생성하기 때문에 데이터베이스 Migration등의 작업 후에는 문제를 유발시킬 위험이 많다\n",
    "- Cost Base 옵티마이저의 종류\n",
    "    - First Rows: 어떻게 하면 대상 집합 중 첫 번째 Row를 빠르게 추출하느냐는 것이 목적\n",
    "        - 예) SELECT*FROM EMP;\n",
    "    - All Rows: 빠른 시간내에 원하는 모든 대상 집합을 추출할 수 있도록 실행계획을 생성하는 것\n",
    "        - JOIN에서 All Rows 방식은 Sort Merge Join 또는 Hash Join으로 실행계획을 생성하게 된다\n",
    "            - 예) SELECT COUNT(*)FROM EMP;"
   ]
  },
  {
   "cell_type": "markdown",
   "metadata": {},
   "source": [
    "## ARC (Auto Reference Counting)"
   ]
  },
  {
   "cell_type": "markdown",
   "metadata": {},
   "source": [
    "- ARC, 자동 레퍼런스 카운팅은 수동 레퍼런스 카운팅의 잠재적인 문제점을 모두 제거\n",
    "- 내부적으로는 레퍼런스 카운트를 여전히 관리하고 추적, 하지만 시스템이 객체를 언제 리테인하고 오토릴리즈할지 결정하기 때문에 개발자 입장에서는 더이상 신경쓰지 않아도 되는 것이다\n",
    "    - retain/release로 코드 복잡도가 증가하여 ARC가 도입되었다\n",
    "    - retain/release를 통해 reference counting을 관리해주는 것이다"
   ]
  },
  {
   "cell_type": "markdown",
   "metadata": {},
   "source": [
    "- ARC는 \"GC(가비지 컬렉션)와 다르게 런타임이 아닌 컴파일 단계에서 처리\"\n",
    "    - GC는 런타임에 메모리를 검사하기 때문에 애플리케이션 퍼포먼스에 악영향을 주게 된다\n",
    "    - ARC는 컴파일러가 retain/release를 컴파일러 코드에 삽입하는 것이므로 성능 저하를 유발하지 않는다\n",
    "- ARC가 도입되면서 더이상 retain/release/autorelease를 직접 삽입할 필요가 없어졌다, 컴파일러가 다 알아서 해준다\n",
    "- dealloc 메소드는 사용할 수는 있지만 이는 인스턴스 변수들의 메모리 해제(relese)가 아닌 자원 관리 차원에서만 허용된다\n",
    "    - 재정의된 dealloc 메소드에서는 [super dealloc]을 호출해서는 안된다\n",
    "- ARC는 Object만을 고려한다. 구조체 내의 Object는 ARC가 계산하기 어렵다.\n",
    "- ARC는 객체의 수명을 지정하는 몇 가지 새로운 lifetime qualifier 와 zeroing weak reference를 제공한다\n",
    "    - 약한 참조(weak)는 대상 객체의 수명에 영향을 주지 않지만 zeroing weak는 대상 객체가 해제되면 자동으로 nil 값을 갖게 된다\n",
    "    - ARC는 이전 참조카운팅 방식(MRR or MRC)에서 발생하던 strong reference cycles(retain cycle)문제를 방지해주지 않는다"
   ]
  },
  {
   "cell_type": "markdown",
   "metadata": {},
   "source": [
    "#### Lifetime qualifier"
   ]
  },
  {
   "cell_type": "markdown",
   "metadata": {},
   "source": [
    "```\n",
    "__strong : default value\n",
    "__weak : zeroing weak reference 대상 객체가 해제되면 nil이 된다\n",
    "__unsafe_unretained: weak reference 대상 객체가 해제되면 댕글링 포인터가 된다\n",
    "__autireleasing : id*형식의 인수가 리턴시에 자동적으로 해제되도록 지정해준다\n",
    "```"
   ]
  },
  {
   "cell_type": "markdown",
   "metadata": {},
   "source": [
    "#### Strong"
   ]
  },
  {
   "cell_type": "markdown",
   "metadata": {},
   "source": [
    "- 기본적으로 모든 객체 포인터 변수는 Strong이다\n",
    "    - 변수에 객체를 대입하면 자동으로 retain한다는 말이다\n",
    "    - 참조한 이전 객체는 대입 이전에 release된다\n",
    "- strong 변수는 기본적으로 인스턴스 변수든, 로컬 변수든, 글러벌 변수든 0으로 초기화 된다\n",
    "    - 참고로 프로터티의 default 값은 strong이 아니다\n",
    "    - 프로퍼티의 기본 속성은 unsafe_unretained이다"
   ]
  },
  {
   "cell_type": "markdown",
   "metadata": {},
   "source": [
    "#### Weak"
   ]
  },
  {
   "cell_type": "markdown",
   "metadata": {},
   "source": [
    "- weak 변수를 선언하면 몇 가지 일이 일어난다\n",
    "    - 시스템은 해당 변수에 대입된 레퍼런스를 추적\n",
    "        - 이 참조된 객체가 할당 해제되면 weak변수는 자동으로 nil로 설정된다\n",
    "        - 이를 통해 이 변수에 실수로 메세지를 보냈을 때 발생할 수 있는 강제종료를 막을 수 있다"
   ]
  },
  {
   "cell_type": "markdown",
   "metadata": {},
   "source": [
    "## 정적 바인딩(Static binding) vs 동적 바인딩(Dynimic binding)"
   ]
  },
  {
   "cell_type": "markdown",
   "metadata": {},
   "source": [
    "- Binding\n",
    "    - 프로그램 구성 요소의 성격을 결정해주는 것\n",
    "        - EX) 변수의 데이터 타입이 무엇인지 정해지는 것"
   ]
  },
  {
   "cell_type": "markdown",
   "metadata": {},
   "source": [
    "#### 정적 바인딩 (Static binding)\n",
    "- 정의 : 컴파일 시간에 성격이 결정되는 것\n",
    "- 예시 : C언어 컴파일 시간에 변수의 데이터 타입이 결정\n",
    "- 장단점 : 컴파일 시간에 많은 정보가 결정되므로 실행 효율이 올라간다"
   ]
  },
  {
   "cell_type": "markdown",
   "metadata": {},
   "source": [
    "#### 동적 바인딩(Dynamic binding)\n",
    "- 정의 : 실행 시간(runtime)에 성격이 결정되는 것\n",
    "- 예시 : Python(Interpeter 언어) 런타임의 값에 따라 변수의 데이터 타입이 결정\n",
    "- 장단점 : 런타임에 자유롭게 성격이 바뀌므로 적응성이 올라간다"
   ]
  },
  {
   "cell_type": "markdown",
   "metadata": {},
   "source": [
    "## 함수의 바인딩"
   ]
  },
  {
   "cell_type": "markdown",
   "metadata": {},
   "source": [
    "- 함수를 만들어 컴파일을 하면 각각의 코드가 메모리 어딘가에 저장된다 그리고 함수를 호출하는 부분에는 그 함수가 저장된 메모리 번지수(주소값)이 저장된다"
   ]
  },
  {
   "cell_type": "markdown",
   "metadata": {},
   "source": [
    "- 프로그램 실행 -> 함수 호출 -> 함수가 저장된 주소로 점프 -> 함수 실행 -> 원래 위치\n",
    "    - 위 과정에서 함수를 호출하는 부분에 함수가 위치한 메모리 번지로 연결시켜 주는 것을 바인딩(binding)라고 한다"
   ]
  },
  {
   "cell_type": "markdown",
   "metadata": {},
   "source": [
    "#### 함수를 바인딩하는 2가지 방법\n",
    "- 1. 정적 바인딩(일반 함수)\n",
    "    - 컴파일 시간에 호출될 함수로 점프할 주소가 결정되어 바인딩 되는 것\n",
    "- 2. 동적 바인딩(가상 함수)\n",
    "    - 실행 파일을 만들 때 바인딩 되지 않고 보류 상태로 둔다\n",
    "    - 점프할 메모리 번지를 저장하기 위한 메모리 공간(4 byte)을 가지고 있다가 런타임에 결정\n",
    "        - 단점 : 타입 체킹으로 인한 수행 속도 저하/ 메모리 공간 낭비\n",
    "\n",
    "- #### 가급적 정적 바인딩 사용\n",
    "- #### 2가지의 단점이 있음에도 불구하고 동적 바인딩을 하는 이유??\n",
    "    - 어떤 포인터에 의해 접근되었는 지에 상관없이 참조된 인스턴스의 실제 클래스형에 따라 재정의된 함수 호출이 가능"
   ]
  },
  {
   "cell_type": "markdown",
   "metadata": {},
   "source": [
    "## 네임스페이스 (Namespace)"
   ]
  },
  {
   "cell_type": "markdown",
   "metadata": {},
   "source": [
    "- \"이름공간\" 또는 \"네임스페이스(namespace)\"는 개체를 구분할 수 있는 범위를 나타내는 말\n",
    "    - 일반적으로 하나의 이름 공간에서는 하나의 이름이 단 하나의 개체만을 가리키게 된다"
   ]
  },
  {
   "cell_type": "markdown",
   "metadata": {},
   "source": [
    "#### 저명한 예시\n",
    "- 파일 시스템은 파일에 이름으로 할당하는 이름공간이다\n",
    "- 일부 프로그래밍 언어들은 이름공간 안에 변수와 함수를 조직한다. 컴퓨터 프로그래밍 언어인 C에서는 전역 이름 공간과 지역 이름 공간이라는 이름 공간에 대한 개념이 있는데, 각각의 이름 공간에서는 같은 변수나 함수 이름을 사용할 수 없지만, 영역이 다르면 변수나 함수명이 같을 수도 있다\n",
    "- 컴퓨터 네트워크와 분산 시스템은 이름을 컴퓨터, 프린터, 웹사이트, (원격)파일 등의 자원에 할당한다"
   ]
  },
  {
   "cell_type": "markdown",
   "metadata": {},
   "source": [
    "### 네이밍 시스템\n",
    "- 이름공간의 이름은 이름공간 식별자와 로컬 이름으로 구성된다.\n",
    "- 이름공간의 이름은 일반적으로 로컬 이름에 대한 두 문자로 적용된다"
   ]
  },
  {
   "cell_type": "markdown",
   "metadata": {},
   "source": [
    "## 해시 테이블 (hash table)"
   ]
  },
  {
   "cell_type": "markdown",
   "metadata": {},
   "source": [
    "#### concept\n",
    "- 해시함수(hash function)란 데이터의 효율적 관리를 목적으로 임의의 길이의 데이터를 고정된 길이의 데이터로 매핑하는 함수\n",
    "    - 이 때 매핑 전 원래 데이터의 값을 \"키(key)\"\n",
    "    - 매핑 후 데이터의 값을 \"해시 값(hash value)\"\n",
    "    - 매핑하는 과정 자체를 \"해싱(hashing)\"라고 한다"
   ]
  },
  {
   "cell_type": "markdown",
   "metadata": {},
   "source": [
    "#### 해시테이블\n",
    "- 해시함수를 사용하여 키를 해시값으로 매핑, 이 해시값을 색인(index) 혹은 주소 삼아 데이터의 값(value)을 키와 함께 저장하는 자료구조를 해시테이블(hash table)라고 한다\n",
    "- 이 때 데이터가 저장되는 곳을 버킷(bucket) 또는 슬롯(Slot)이라고 한다\n",
    "- 해시테이블의 기본 연산은 삽입, 삭제, 탐색이다"
   ]
  },
  {
   "cell_type": "markdown",
   "metadata": {},
   "source": [
    "## 인터페이스"
   ]
  },
  {
   "cell_type": "markdown",
   "metadata": {},
   "source": [
    "- 클래스가 정의에 부학하기 위해 제공해야 하는 모든 함수에 대한 구조를 정의하는 기본 클래스\n",
    "    - 스위프트는 클래스 모음의 인터페이스에 대해 \"프로토콜(Protocol)\"이라 부른다"
   ]
  },
  {
   "cell_type": "markdown",
   "metadata": {},
   "source": [
    "#### 생활코딩 자바 강의 중 인터페이스에 대한 내용 발취"
   ]
  },
  {
   "cell_type": "markdown",
   "metadata": {},
   "source": [
    "- 인터페이스는 다소 추상적인 개념\n",
    "- 인터페이스가 무엇인가를 철학적으로 논하려면 책 한권이 필요할지도 모른다\n",
    "    - 우리는 공학 공부를 하는 것이니 자바의 기능으로서 인터페이스를 받아들이면 된다\n",
    "- 앞선 수업에서 인터페이스를 abstract, final 와 함께 대표적인 규제라고 언급\n",
    "    - 인터페이스의 역활은 이러하다\n",
    "        - 어떤 객체가 있고 그 객체가 특정한 인터페이스를 사용한다면 그 객체는 반드시 인터페이스의 메소드들을 구현해야 한다.\n",
    "        - 만약 인터페이스에서 강제하고 있는 메소드를 구현하지 않으면 이 애플리케이션은 컴파일 조차 되지 않는다"
   ]
  },
  {
   "cell_type": "markdown",
   "metadata": {},
   "source": [
    "## Swift Protocol"
   ]
  },
  {
   "cell_type": "markdown",
   "metadata": {},
   "source": [
    "- 프로토콜은 메소드, 속성 그리고 다른 특정 작업 또는 기능의 부분에 맞는 요구 사항의 청사진을 정의\n",
    "- 프로토콜은 실제로 이들 요구사항 구현을 제공하지 않는다\n",
    "- 프로토콜은 이들 요구사항의 실제 구현을 제공하기 위한 클래스, 구조체 또는 열거형에 적용된다\n",
    "- 프로토콜의 요구사항을 만족하면 어떤 타입이라도 프로토콜에 준수한다라고 말한다\n",
    "- 프로토콜은 준수 타입이 특정 인스턴스 속성, 인스턴스 메소드, 타입 메소드, 연산자 그리고 서브스크립트를 가지는 것이 필요하다"
   ]
  },
  {
   "cell_type": "markdown",
   "metadata": {},
   "source": [
    "## C로 설명하는 오버플로우와 언더플로우"
   ]
  },
  {
   "cell_type": "markdown",
   "metadata": {},
   "source": [
    "#### 오버플로우와 언더플로우 설명을 위한 C 언어 코드 예제\n",
    "```\n",
    "#include <stdio.h>\n",
    "\n",
    "int main()\n",
    "{\n",
    "    char num1 = 128;             // char에 저장할 수 있는 최댓값 127보다 큰 수를 할당\n",
    "                                 // 오버플로우 발생\n",
    "\n",
    "    unsigned char num2 = 256;    // unsigned char에 저장할 수 있는 최댓값 255보다 큰 수를 할당\n",
    "                                 // 오버플로우 발생\n",
    "\n",
    "    printf(\"%d %u\\n\", num1, num2);    // -128 0: 저장할 수 있는 범위를 넘어서므로 \n",
    "                                      // 최솟값부터 다시 시작\n",
    "\n",
    "    return 0;\n",
    "}\n",
    "```\n",
    "\n",
    "#### 실행 결과\n",
    "-123, 0"
   ]
  },
  {
   "cell_type": "markdown",
   "metadata": {},
   "source": [
    "- num1에 128을 넣었는데 실제 출력에서는 -128이 나옴\n",
    "    - char에 저장할 수 있는 최대값은 127이라서 \"오버플로우(overflow)\"가 발생했기 때문\n",
    "    - 즉, 128이 127보다 1이 많이서 저장할 수 있는 범위를 넘어섰고 다시 최솟값부터 시작하게 되므로 -128이 나옴\n",
    "- num2도 unsigned char에 저장할 수 있는 최댓값은 255인데 256을 넣으면 범위를 넘어서면서 최솟값 0부터 다시 시작\n",
    "\n",
    "- char 이외에도 short, int, long, long long 등도 저장할 수 있는 범위를 넘어서면 최솟값부터 다시 시작\n",
    "- 반대로 최솟값보다 작아지면 \"언더플로우(underflow)\"가 발생하여 최댓값부터 다시 시작하게 된다 (값을 계속 뺀다면 최댓값에서 값이 계속 작아 짐)"
   ]
  },
  {
   "cell_type": "markdown",
   "metadata": {},
   "source": [
    "## Bounds checking"
   ]
  },
  {
   "cell_type": "markdown",
   "metadata": {},
   "source": [
    "- 경계 검사 (bounds checking)\n",
    "- 변수가 사용되기 전에 경계 내에 위치하는지를 탐지하는 기법\n",
    "    - 이것은 일반적으로 숫자가 주어진 타입에 맞는지를 확인(범위 검사)하거나 배열 인덱스로 사용되는 변수가 배열의 경계 내에 위치하는지를 확인(인덱스 검사)하는 것이다\n",
    "    - 실패한 경계 검사는 보통 예외 시그널을 야기한다\n",
    "- 사용되는 모든 경우에 경계 검사를 수행하는 것이 시간을 잡아먹는 일이기 때문에 이것이 항상 수행되는 것은 아니다\n",
    "- 경계 검사 제거는 필요치 않은 경계 검사를 제거하는 컴파일러 최적화 기법이다"
   ]
  },
  {
   "cell_type": "markdown",
   "metadata": {},
   "source": [
    "#### 범위(range) 검사\n",
    "- 범위 검사는 숫자가 특정한 범위 내라는 것을 확인하는 검사\n",
    "- 이것은 타입 검사와 크게 비슷하지는 않다"
   ]
  },
  {
   "cell_type": "markdown",
   "metadata": {},
   "source": [
    "#### 인덱스(index) 검사\n",
    "- 인덱스 검사는 모든 배열(array)의 인덱스 표현 식에서 인덱스 값이 배열의 경계에 맞게 검사되는 것으로 인덱스가 배열의 경계를 넘는다면 이후의 실행은 에러를 유발하며 정지된다\n",
    "- 배열(array)에서 상위 범위의 외부 숫자를 사용하는 것이 프로그램의 충돌을 일으키거나 보안 취약점들(버퍼 오버플로)을 일으키기 때문에 인덱스 검사는 많은 고급 프로그래밍 언어의 한 부분"
   ]
  },
  {
   "cell_type": "markdown",
   "metadata": {},
   "source": [
    "## API (Application Programing Interface)"
   ]
  },
  {
   "cell_type": "markdown",
   "metadata": {},
   "source": [
    "- 응용 프로그램에서 사용할 수 있도록, 운영 체제나 프로그래밍 언어가 제공하는 기능을 제어할 수 있게 만든 인터페이스를 뜻한다\n",
    "- 어떠한 응용프로그램에서 데이터를 주고 받기 위한 방법을 의미\n",
    "- 어떤 특정 사이트에서 특정 데이터를 공유할 경우 어떠한 방식으로 정보를 요청해야 하는지, 그리고 어떠한 데이터를 제공 받을 수 있을지에 대한 규격들을 API라고 한다\n",
    "- API는 사용하는 방법과 용도에 따라 오픈 API와 비공개 API로 나뉜다\n",
    "- API는 어떤 응용프로그램이 자신이 가지고 있는 정보를 제공하기 위해 어떤 방식으로 통신할것인지에 대한 규격을 만들게 되고, 이러한 규격을 API라고 표현한다\n",
    "- API는 정보를 가지고있는 주체에서 만든다\n",
    "    - API를 사용하기 위한 개발자 입장에서는 어떠한 방식으로 요청해야 정상적인 데이터를 받을 수 있을지 알 수 없다\n",
    "    - 그렇기 때문에 보통 API를 제공하는 입장에서 어떤 방식으로 요청해야 하는지에 대한 문서를 만들게 된다\n",
    "    - 이러한 문서를 \"API 규격서\"라고 표현한다"
   ]
  },
  {
   "cell_type": "markdown",
   "metadata": {},
   "source": [
    "## Swift Extensions"
   ]
  },
  {
   "cell_type": "markdown",
   "metadata": {},
   "source": [
    "- Extensions(확장)\n",
    "    - 확장은 기존 클래스, 구조체 또는 열거형 타입에 새로운 기능을 추가한다\n",
    "    - 기존 소스 코드에서 접근하지 못하는 타입들을 확장하는 능력(소급 적용 모델링)\n",
    "    - 확장은 Objective-C의 카테고리와 유사"
   ]
  },
  {
   "cell_type": "markdown",
   "metadata": {},
   "source": [
    "#### Swift에서 확장은 다음 기능을 할 수 있다\n",
    "- 계산 속성과 계산 정적 속성 추가\n",
    "- 인스턴스 메소드와 타입 메소드 정의\n",
    "- 새로운 이니셜라이저 제공\n",
    "- 서브스크립트 정의\n",
    "- 새로운 중첩 타입 정의와 사용\n",
    "- 기존 타입에 프로토콜 적용\n",
    "#### 확장은 타입에 새로운 기능을 추가할 수 있지만 기존 기능을 오버라이드 할 수 없다"
   ]
  },
  {
   "cell_type": "markdown",
   "metadata": {},
   "source": [
    "## 클래스와 인스턴스 (python)"
   ]
  },
  {
   "cell_type": "code",
   "execution_count": 4,
   "metadata": {},
   "outputs": [],
   "source": [
    "class Singer:\n",
    "    def sing(self):\n",
    "        return \"sing for me, my angle of music\""
   ]
  },
  {
   "cell_type": "code",
   "execution_count": 5,
   "metadata": {},
   "outputs": [],
   "source": [
    "Lile = Singer()"
   ]
  },
  {
   "cell_type": "code",
   "execution_count": 6,
   "metadata": {},
   "outputs": [
    {
     "data": {
      "text/plain": [
       "'sing for me, my angle of music'"
      ]
     },
     "execution_count": 6,
     "metadata": {},
     "output_type": "execute_result"
    }
   ],
   "source": [
    "Lile.sing()"
   ]
  },
  {
   "cell_type": "markdown",
   "metadata": {},
   "source": [
    "#### 쉽고 이해하기 쉬운 말로 예를 들어 설명\n",
    "- \"김연아\", \"김동성\" 두 사람의 공통점 = \"스케이터\"\n",
    "    - \"스케이터\"라는 단 하나의 사람이나 물건이 실존? = NO!\n",
    "    - BUT \"스케이트를 타는 사람\" = \"스케이터\" 라고 말한다\n",
    "        - 이런 것을 일컫는 말이 클래스(Class)이다\n",
    "        - 쉽게 말해 \"부류\"라는 의미로 생각하면 된다\n",
    "\n",
    "#### 다른 예시\n",
    "- \"사과\"는 클래스, \"내가 어제 저녁에 먹은 사과 다섯 개 중에 두 번쨰 것\"이라고 콬 찍어서 말해주면 실체(instance)로 볼 수 있다\n",
    "- \"좋은 집\"은 실체일까? = NO! , 어느 한 집만을 콕 찍어서 \"좋은 집\"이가고 하기는 힘들다\n",
    "    - \"우리 집\"은 실체일까? YES! , 단, 집을 여러 채 가진 사람이 \"우리 집\"이라고 말할 때는 정확히 어느 집을 가리키는 것인지 알 수 없다\n",
    "        - 프로그램 작성을 위해 클래스를 설계하다보면 이런 애매한 문제를 만날 때도 있다"
   ]
  }
 ],
 "metadata": {
  "kernelspec": {
   "display_name": "Python 3",
   "language": "python",
   "name": "python3"
  },
  "language_info": {
   "codemirror_mode": {
    "name": "ipython",
    "version": 3
   },
   "file_extension": ".py",
   "mimetype": "text/x-python",
   "name": "python",
   "nbconvert_exporter": "python",
   "pygments_lexer": "ipython3",
   "version": "3.7.1"
  }
 },
 "nbformat": 4,
 "nbformat_minor": 2
}
