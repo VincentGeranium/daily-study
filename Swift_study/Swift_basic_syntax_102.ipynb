{
 "cells": [
  {
   "cell_type": "markdown",
   "metadata": {},
   "source": [
    "# 프로토콜(Protocol)\n",
    "## 객체의 설계도\n",
    "## 프로토콜의 정의"
   ]
  },
  {
   "cell_type": "markdown",
   "metadata": {},
   "source": [
    "## 프로토콜 메소드"
   ]
  },
  {
   "cell_type": "markdown",
   "metadata": {},
   "source": [
    "### 프로토콜에 선언되는 메소드도 프로퍼티와 크게 다르지 않다\n",
    "\n",
    "```\n",
    "protocol SomeMethodProtocol {\n",
    "    func execute(cmd: String)\n",
    "    func showPort(p: Int) -> String\n",
    "}\n",
    "```"
   ]
  },
  {
   "cell_type": "markdown",
   "metadata": {},
   "source": [
    "### 프로토콜 SomeMethodProtocol은 두 개의 인스턴스 메소드를 포함하고 있다\n",
    "- #### 두 메소드는 모두 매개변수가 정의되어 있지만, 모든 프로토콜에서 반드시 메소드에 매개변수를 정의해야 하는 것은 아니다\n",
    "- #### 메소드의 반환값 역시 선택 사항으로, 메소드의 성격에 맞게 생략하거나 작성해주면 된다\n",
    "- #### 이처럼 프로토콜에서 메소드를 정의하는 방식은 클래스나 구조체에서 메소드를 정의할 때 사용하는 형태와 동일하다\n",
    "- #### 심지어 내부 매개변수와 외부 매개변수를 구분하여 정의할 수도 있다\n",
    "- #### 프로토콜의 메소드가 클래스의 메소드와 다른 점은 메소드의 선언 뒤에 중괄호 블록이 없다는 점이다"
   ]
  },
  {
   "cell_type": "markdown",
   "metadata": {},
   "source": [
    "### 프로토콜에 선언되는 메소드는 메소드 종류, 메소드 이름, 파라미터 타입, 파라미터 이름, 반환 타입까지는 정의할 수 있다\n",
    "- #### 그러나 실제 실행할 내용을 작성할 수는 없다\n",
    "- #### 따라서 중괄호 블록을 붙이는 것이 허용되지 않는다\n",
    "- #### 프로토콜은 구현해야 할 메소드에 대한 형식이자 명세서이며 설계도라는 것을 염두해 두어야 한다\n",
    "- #### 메소드의 실질적인 내용 작성을 담당하는 것은 구현체이다\n",
    "    - #### 즉 프로토콜을 구현하는 구조체나 클래스, 열거형, 혹은 익스텐션의 역활이라는 것을 잊으면 안된다\n",
    "\n",
    "```\n",
    "struct RubyService: SomeMethodProtocol {\n",
    "    func execute(cmd: String) {\n",
    "        if cmd == \"start\" {\n",
    "            print(\"실행합니다\")\n",
    "        }\n",
    "    }\n",
    "    \n",
    "    \n",
    "    func showPort(p: Int) -> String {\n",
    "        return \"Port : \\(p)\"\n",
    "    }\n",
    "}\n",
    "```"
   ]
  },
  {
   "cell_type": "markdown",
   "metadata": {},
   "source": [
    "### 앞에서 정의한 SomeMethodProtocol 프로토콜을 구현하고 있는 구조체이다\n",
    "- #### 프로토콜에 정의된 두 개의 메소드를 형식에 맞게 구현하고 있다\n",
    "- #### 프로토콜에 선언된 메소드 중에서 일부를 구현하지 않고 누락하면 오류가 발생한다\n",
    "- #### 반대로 프로토콜에 정의되어 있지 않더라도 구현체에 임의로 메소드를 추가하는 것은 아무런 문제가 되지 않는다"
   ]
  },
  {
   "cell_type": "markdown",
   "metadata": {},
   "source": [
    "### RubyService 구조체에 정의된 매개변수명이 프로토콜에 선언된 메소드의 매개변수명과 동일한 것에 주목\n",
    "- #### 프로토콜에서 정의된 메소드는 구현체에서도 매개변수명까지 완전히 일치해야 한다\n",
    "\n",
    "### 외부 매개변수명이 포함된 프로토콜 메소드와 이를 구현한 예제\n",
    "\n",
    "```\n",
    "protocol NewMethodProtocol {\n",
    "    mutating func execute(cmd command: String, desc: String)\n",
    "    func showPort(p: Int, memo desc: String) -> String\n",
    "}\n",
    "\n",
    "struct RubyNewService: NewMethodProtocol {\n",
    "    func execute(cmd command: String, desc: String) {\n",
    "        if command == \"start\" {\n",
    "            print(\"\\(desc)를 실행합니다\")\n",
    "        }\n",
    "    }\n",
    "    \n",
    "    \n",
    "    func showPort(p: Int, memo desc: String) -> String {\n",
    "        return \"Port : \\(p), Memo : \\(desc)\"\n",
    "    }\n",
    "}\n",
    "```"
   ]
  },
  {
   "cell_type": "markdown",
   "metadata": {},
   "source": [
    "### 일치시켜야 하는 매개변수명은 외부로 드러나는 매개변수명에 국한된다\n",
    "- #### 다시 말해 외부 매개변수명은 프로토콜을 그대로 따라야 하지만 내부 매개변수명은 임의로 바꾸어 사용해도 된다는 뜻이다\n",
    "- #### 또한 내부 매개변수명과 외부 매개변수명이 프로토콜에서 통합되어 선언되어 있을 경우 구현체에서는 이를 분리하여 내부와 외부 매개변수명으로 나누고 따로 작성해도 된다\n",
    "\n",
    "### 요약하자면, 외부 매개변수명은 프로토콜을 그대로 따라야 하지만 내부 매개변수명은 임의로 변경해도 아무런 문제가 없다\n",
    "\n",
    "```\n",
    "protocol NewMethodProtocol {\n",
    "    mutating func execute(cmd command: String, desc: String)\n",
    "    func showPort(p: Int, memo desc: String) -> String\n",
    "}\n",
    "\n",
    "\n",
    "struct RubyNewService2: NewMethodProtocol {\n",
    "    func execute(cmd comm: String, desc d: String) {\n",
    "        if comm == \"start\" {\n",
    "            print(\"\\(d)를 실행합니다\")\n",
    "        }\n",
    "    }\n",
    "    \n",
    "    \n",
    "    func showPort(p: Int, memo description: String) -> String {\n",
    "        return \"Port : \\(p), Memo : \\(description)\"\n",
    "    }\n",
    "}\n",
    "```"
   ]
  },
  {
   "cell_type": "markdown",
   "metadata": {},
   "source": [
    "- #### 위에서 execute(cmd:desc:) 메소드의 경우 첫 번째 매개변수의 외부 매개변수명은 프로토콜에서나 이를 구현한 구조체에서 모두 cmd로 일치\n",
    "- #### 하지만 내부 매개변수는 각각 command, comm으로 다르게 정의되어 있다\n",
    "- #### 두 번째 매개변수 역시 프로토콜에서는 내부와 외부 매개변수가 하나로 합쳐져 있지만 이를 구현한 구조체에서는 d라는 이름으로 내부 매개변수를 별도로 정의하여 사용\n",
    "- #### showPort(p:memo:) 도 마찬가지이다\n",
    "    - #### 두 번째 매개변수의 내부 매개변수가 선언할 때에는 desc였지만 구현할 때에는 description으로 바뀌었다"
   ]
  },
  {
   "cell_type": "markdown",
   "metadata": {},
   "source": [
    "### 이렇게 내부 매개변수의 경우에는 프로토콜을 그대로 따르지 않고 필요한 대로 변형하여 사용하는 것이 가능하다\n",
    "- ### 단, 어떤 경우에도 프로토콜에 정의된 메소드명과 외부 파라미터명은 항상 그대로 따라야 한다"
   ]
  }
 ],
 "metadata": {
  "kernelspec": {
   "display_name": "Python 3",
   "language": "python",
   "name": "python3"
  },
  "language_info": {
   "codemirror_mode": {
    "name": "ipython",
    "version": 3
   },
   "file_extension": ".py",
   "mimetype": "text/x-python",
   "name": "python",
   "nbconvert_exporter": "python",
   "pygments_lexer": "ipython3",
   "version": "3.7.1"
  }
 },
 "nbformat": 4,
 "nbformat_minor": 2
}
