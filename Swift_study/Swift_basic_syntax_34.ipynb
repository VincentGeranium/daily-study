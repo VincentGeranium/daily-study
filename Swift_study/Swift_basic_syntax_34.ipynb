{
 "cells": [
  {
   "cell_type": "markdown",
   "metadata": {},
   "source": [
    "# 옵셔널\n",
    "## 스위프트가 잠재적 오류를 다루는 방법\n",
    "## 컴파일러에 의한 옵셔널 자동 해제"
   ]
  },
  {
   "cell_type": "markdown",
   "metadata": {},
   "source": [
    "- #### 옵셔널 타입의 값을 사용하려면 항상 ! 연산자를 사용하여 옵셔널을 \"강제 해제(Forced-Unwrapping)\"\n",
    "- #### 아니면 옵셔널 바인딩을 통해 일반 자료형으로 바꾸어 주어야 한다\n",
    "    - #### 이렇게 해야 옵셔널 객체로 감싸진 값을 꺼낼 수 있다\n",
    "- ### 명시적으로 강제 해제를 하지 않아도 컴파일러에서 자동으로 옵셔널을 해제해 주는 경우가 있다"
   ]
  },
  {
   "cell_type": "markdown",
   "metadata": {},
   "source": [
    "### 문자열을 숫자로 변환한 옵셔널 상수의 값이 nil이 아니면 ! 연산자를 사용하여 옵셔널 값을 강제 해제하고 이 값을 정수 123과 비교\n",
    "```\n",
    "let optInt = Int(\"123\")\n",
    "\n",
    "if ((optInt!) == 123) {\n",
    "    print(\"optInt == 123\")\n",
    "} else {\n",
    "    print(\"optInt != 123\")\n",
    "}\n",
    "\n",
    "[실행 결과]\n",
    "\n",
    "optInt == 123\n",
    "```"
   ]
  },
  {
   "cell_type": "markdown",
   "metadata": {},
   "source": [
    "### 강제 해제하지 않은 옵셔널 타입과 정수 123을 비교\n",
    "\n",
    "```\n",
    "if (optInt == 123) {\n",
    "    print(\"optInt == 123\")\n",
    "} else {\n",
    "    print(\"optInt != 123\")\n",
    "}\n",
    "\n",
    "[실행 결과]\n",
    "optInt == 123\n",
    "```"
   ]
  },
  {
   "cell_type": "markdown",
   "metadata": {},
   "source": [
    "- #### 강제 해제하지 않은 옵셔널 값은 Optional(123)이므로 정수값 123과 다르다\n",
    "    - #### 따라서 위 예제에서는 else 영역이 실행되어야 한다\n",
    "- ### 하지만 실제로 실행한 결과는 그렇지 않다"
   ]
  },
  {
   "cell_type": "markdown",
   "metadata": {},
   "source": [
    "### 해제하지 않은 옵셔널 값 자체로 정수와 비교한 결과는 예상대로라면 일치하지 않는다고 나와야 한다 어떻게 된 것일까??\n",
    "- #### 옵셔널 타입으로 감싼 변수나 상수는 그 값을 사용하기 위해 반드시 ! 연산자를 사용하여 옵셔널 객체를 해제해야 한다\n",
    "- ### 하지만 굳이 해제하지 않아도 괜찮을 때가 있다\n",
    "    - ### 옵셔널 객체의 값을 비교 연산자를 사용하여 비교하는 경우가 그에 해당한다\n",
    "        - ### 명시적으로 옵셔널 객체를 강제 해제하지 않아도 한쪽이 옵셔널, 다른 한쪽이 일반 타입이라면 자동으로 옵셔널 타입을 해제하여 비교 연산을 수행"
   ]
  },
  {
   "cell_type": "markdown",
   "metadata": {},
   "source": [
    "### 비교 연산자를 사용하여 옵셔널 객체 해제\n",
    "\n",
    "```\n",
    "let tempInt = Int(\"123\")\n",
    "\n",
    "tempInt == 123 // true\n",
    "tempInt == Optional(123) // true\n",
    "tempInt! == 123 // true\n",
    "tempInt! == Option(123) // true\n",
    "```"
   ]
  },
  {
   "cell_type": "markdown",
   "metadata": {},
   "source": [
    "- #### 비교 연산을 처리할 때는 옵셔널 타입 여부에 구애받지 않고 일반 자료형처럼 값을 비교하면 된다\n",
    "- #### 이는 옵셔널 타입에 값을 할당할 때도 마찬가지이다."
   ]
  },
  {
   "cell_type": "markdown",
   "metadata": {},
   "source": [
    "### 옵셔널 값의 할당\n",
    "\n",
    "```\n",
    "var optValue01 = Optional(123) // 1번\n",
    "var optValue02 : Int? = 123 // 2번\n",
    "```"
   ]
  },
  {
   "cell_type": "markdown",
   "metadata": {},
   "source": [
    "- #### 원칙적으로는 옵셔널 타입의 변수나 상수를 정의할 때는 대입할 값을 Optional() 객체로 감싼 1번 방식으로 처리해야 한다\n",
    "- ### 하지만 2번 처럼 감싸지지 않은 순수 리터럴을 직접 대입할 수도 있다\n",
    "    - ### 주의할 점은 타입 어노테이션 없이 직접 대입하면 단순히 일반 Int 타입의 변수로 선언된다\n",
    "        - ### 그리하여 타입 어노테이션을 추가하여 Int 타입이면서 동시에 옵셔널 타입이라는 것을 명시해 주어야 한다\n",
    "            - #### 그러면 값 123은 대입될 대상이 옵셔널 타입이라는 것을 인지하고, 그에 맞게 Optional(123)으로 변환된다"
   ]
  }
 ],
 "metadata": {
  "kernelspec": {
   "display_name": "Python 3",
   "language": "python",
   "name": "python3"
  },
  "language_info": {
   "codemirror_mode": {
    "name": "ipython",
    "version": 3
   },
   "file_extension": ".py",
   "mimetype": "text/x-python",
   "name": "python",
   "nbconvert_exporter": "python",
   "pygments_lexer": "ipython3",
   "version": "3.7.1"
  }
 },
 "nbformat": 4,
 "nbformat_minor": 2
}
