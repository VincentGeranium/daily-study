{
 "cells": [
  {
   "cell_type": "markdown",
   "metadata": {},
   "source": [
    "# alarmClock_app_code_review\n",
    "## Do_It_Self_Made"
   ]
  },
  {
   "cell_type": "markdown",
   "metadata": {},
   "source": [
    "## 변수 및 상수 추가"
   ]
  },
  {
   "cell_type": "markdown",
   "metadata": {},
   "source": [
    "```\n",
    "import UIKit\n",
    "\n",
    "class ViewController: UIViewController {\n",
    "    // 타이머가 구동되면 실행할 함수\n",
    "    let timeSelector: Selector = #selector(ViewController.updatetime)\n",
    "    //timeSelector: 타이머가 구동되면 실행할 함수를 지정합니다\n",
    "    let interval = 1.0\n",
    "    //interval: 타이머의 간격 값입니다 1.0은 1초를 의미합니다\n",
    "    var count = 0\n",
    "    //count: 타이머가 설정한 간격대로 실행되는지 확인하기 위한 변수입니다\n",
    "    var alarmTime: String?\n",
    "    // alarmTime: 현재시간과 선택시간 비교를 위한 변수 alarmTime 선언\n",
    "}\n",
    "```"
   ]
  },
  {
   "cell_type": "markdown",
   "metadata": {},
   "source": [
    "## 타이머 설정\n",
    "- viewDidLoad 함수에서 타이머를 설정\n",
    "- 타이머를 설정하기 위해 \"scheduledTimer\"함수를 사용\n",
    "- 타이머는 정해진 시간에 한 번씩 설정한 함수를 실행하는 기능이다"
   ]
  },
  {
   "cell_type": "markdown",
   "metadata": {},
   "source": [
    "```\n",
    "override func viewDidLoad() {\n",
    "    super.viewDidLoad()\n",
    "    // Do any additional setup after loading the view, typically from a nib.\n",
    "    \n",
    "    Timer.scheduledTimer(timeInterval: interval, targetL self, selector: timeSelector, userInfo: nil, reprats: true)\n",
    "    //scheduledTimer의 각 인수가 갖는 의미\n",
    "    //timeInterval: 타이머 간격\n",
    "    //target: 동작될 view\n",
    "    //selector: 타이머가 구동될 떄 실행할 함수\n",
    "    //userInfo: 사용자 정보\n",
    "    //repeats: 반복 여부\n",
    "}\n",
    "```"
   ]
  },
  {
   "cell_type": "markdown",
   "metadata": {},
   "source": [
    "## 현재 시간을 읽는 함수 추가\n",
    "### 현재 시간 출력하기"
   ]
  },
  {
   "cell_type": "markdown",
   "metadata": {},
   "source": [
    "```\n",
    "@objc func updateTime() {\n",
    "    let date = NSDate()\n",
    "    //현재 시간을 NSDate 함수를 사용하여 가져온다\n",
    "    let formatter = DateFormatter()\n",
    "    //날짜를 출력하기 위하여 DateFormatter라는 클래스의 상수 formatter를 선언\n",
    "    formatter.dateFormat = \"yyyy-MM-dd HH:mm:ss EEE\"\n",
    "    //앞에서 선언한 상수 formatter의 dateFormat 속성을 설정\n",
    "    lblCurrentTime.text = \n",
    "    \"현재시간 : \" + formatter.string(from: date as Date)\n",
    "    //formatter.string(date)은 피커 뷰에서 선택한 날짜를 formatter의 dateFormat에서 설정한 포맷대로 string 메서드를 사용하여 문자열로 변환한다\n",
    "    //lblCurrentTime.text = \"현재시간: \" + 는 \"현재시간: \"이라는 String에 위에서 String으로 변환한 date 값을 추가하여 lblCurrentTime의 text에 넣는다\n",
    "    \n",
    "    //시간 비교를 위해서 다음과 같이 코딩\n",
    "    formatter.dateFormat = \"hh:mm aaa\"\n",
    "    //PickerView가 변경되었을 때 앞에서 선언한 상수 formatter의 dateFormat 속성을 설정\n",
    "    let currentTime = formatter.string(from: date as Date)\n",
    "    //UpdateTime이 호출되었을 때 formatter.string(date)은 피커 뷰에서 선택한 날짜를 formatter의 dateFormat에서 설정한 포맷대로 string 메서드를 사용하여 문자열로 변환한다\n",
    "    //formatter.string(from: date as Date) 설정한 포맷대로 string 메서드를 사용하여 문자열로 반환된 것을 currentTime라는 상수에 저장한다\n",
    "    if(alarmTime == currentTime){\n",
    "        view.backgroundColor = UIColor.red\n",
    "    }\n",
    "    else{\n",
    "        view.backgroundColor = UIColor.white\n",
    "    }\n",
    "    // if문을 사용하여 alrmTime와 currentTime를 비교하여 같으면\n",
    "    // backgroundColor를 UIColor.red(빨강색)으로 변하게 하고\n",
    "    // 아니면 backgroundColor를 UIColor.white(하얀색)으로 변하게 한다\n",
    "    \n",
    "}\n",
    "```"
   ]
  },
  {
   "cell_type": "markdown",
   "metadata": {},
   "source": [
    "## 선택 날짜 출력\n",
    "- 사용자가 데이트 피커에서 원하는 날짜와 시간을 선택하면 그 내용이 'lblPickerTime'과 'alarmTime' 출력되는 기능"
   ]
  },
  {
   "cell_type": "markdown",
   "metadata": {},
   "source": [
    "```\n",
    "@IBAction func changeDatePicker(_ sender: UIDatePicker) {\n",
    "    let datePickerView = sender\n",
    "    //데이터 피커를 선택할 때 발생하는 액션 함수인 'changeDatePicker'가 호출되면서 sender라는 UIDatePicker 자료형의 인수가 전달된다. 이 sender를 datePickerView라는 상수에 저장한다\n",
    "    formatter.dateFormat = \"yyyy-MM-dd HH:mm:ss EEE\"\n",
    "    //날짜를 출력하기 위하여 DateFormatter라는 클래스 상수 formatter를 선언한다\n",
    "    lblPickerTime.text = \"선택시간 : \" + formatter.string(from: datePickerView.date)\n",
    "    //데이트 피커에서 선택한 날짜를 formatter의 dateFormat에서 설정한 포맷대로 string 메서드를 사용하여 문자열(String)로 변환한다\n",
    "    //\"선택시간:\"이라는 문자열에 위에서 문자열로 변환한 date 값을 추가하여 lblPickerTime의 text에 넣는다\n",
    "    \n",
    "    formatter.dateFormat=\"hh:mm aaa\"\n",
    "    //날짜를 출력하기 위하여 DateFormatter라는 클래스 상수 formatter를 선언한다\n",
    "    //이 함수는 PickerView가 변경되었을 때 동작한다\n",
    "    alarmTime = formatter.string(from: datePickerView.date)\n",
    "    //데이터 피커에서 선택한 날짜를 formatter의 dateFormat에서 설정한 포맷대로 string 메서드를 사용하여 문자열(String)로 변환한다\n",
    "    //문자열로 변환된 피커에서 선택한 날짜를 alarmTime에 저장한다\n",
    "}\n",
    "```"
   ]
  }
 ],
 "metadata": {
  "kernelspec": {
   "display_name": "Python 3",
   "language": "python",
   "name": "python3"
  },
  "language_info": {
   "codemirror_mode": {
    "name": "ipython",
    "version": 3
   },
   "file_extension": ".py",
   "mimetype": "text/x-python",
   "name": "python",
   "nbconvert_exporter": "python",
   "pygments_lexer": "ipython3",
   "version": "3.7.1"
  }
 },
 "nbformat": 4,
 "nbformat_minor": 2
}
