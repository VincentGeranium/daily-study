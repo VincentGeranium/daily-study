{
 "cells": [
  {
   "cell_type": "markdown",
   "metadata": {},
   "source": [
    "# 프로토콜(Protocol)\n",
    "## 객체의 설계도\n",
    "## 타입으로서의 프로토콜"
   ]
  },
  {
   "cell_type": "markdown",
   "metadata": {},
   "source": [
    "### 프로토콜은 그 자체로는 아무런 기능을 구현하고 있지 못한다\n",
    "- #### 그러므로 인스턴스를 만들 수 없다\n",
    "- #### 프로토콜만으로 할 수 있는 일도 거의 없다\n",
    "\n",
    "### 하지만 프로토콜은 특별히 기능을 부여하지 않더라도 코드 내에서 자료형으로 사용하기에는 부족함이 없는 객체이다\n",
    "- #### 이 때문에 때로는 타입으로서 중요한 역활을 하기도 한다\n",
    "\n",
    "### 다음과 같은 여러 상황에서 프로토콜을 사용할 수 있다\n",
    "### 이는 마치 프로토콜을 상위 클래스 타입으로 간주하여 사용하는 것과 유사하다\n",
    "- #### 1. 상수나 변수, 그리고 프로퍼티의 타입으로 사용할 수 있다\n",
    "- #### 2. 함수, 메소드 또는 초기화 구문에서 매개변수 타입이나 반환 타입으로 프로토콜을 사용할 수 있다\n",
    "- #### 3. 배열이나 사전, 혹은 다른 컨테이너 타입으로 사용할 수 있다"
   ]
  },
  {
   "cell_type": "markdown",
   "metadata": {},
   "source": [
    "### 특정 프로토콜을 구현한 구조체나 클래스들이 있을 때, 이들의 인스턴스를 각각의 타입이 아니라 프로토콜 타입으로 정의된 변수나 상수에 할당할 수 있다\n",
    "- #### 이렇게 프로토콜 타입으로 정의된 변수나 상수에 할당된 객체는 프로토콜 이외에 구현체에서 추가한 프로퍼티나 메소드들을 컴파일러로부터 은닉해준다\n",
    "\n",
    "```\n",
    "protocol Wheel {\n",
    "    func spin()\n",
    "    func hold()\n",
    "}\n",
    "```\n",
    "\n",
    "### Wheel이라는 프로토콜을 선언하고, 여기에 spin()과 hold() 두 개의 메소드를 정의하였다\n",
    "- #### 이 프로토콜은 바퀴를 의미하며 정의된 두 개의 메소드는 바퀴가 움직이고 멈추는 기능을 의미하므로 바퀴를 가지는 모든 이동 수단에서 구현하여 움직임을 부여할 수 있다\n",
    "\n",
    "### 자전거를 의미하는 클래스인 Bicycle\n",
    "    \n",
    "```\n",
    "class Bicycle: Wheel {\n",
    "    var moveState = false\n",
    "    \n",
    "    func spin() {\n",
    "        self.pedal()\n",
    "    }\n",
    "    \n",
    "    func hold() {\n",
    "        self.pullBreak()\n",
    "    }\n",
    "    \n",
    "    func pedal() {\n",
    "        self.moveState = true\n",
    "    }\n",
    "    \n",
    "    func pullBreak() {\n",
    "        self.moveState = false\n",
    "    }\n",
    "}\n",
    "```"
   ]
  },
  {
   "cell_type": "markdown",
   "metadata": {},
   "source": [
    "- #### 이 클래스는 Wheel 프로토콜을 구현하기 위한 spin() 메소드와 hold() 매소드 이외에도 pedal() 메소드와 pullBreak() 메소드를 포함하고 있다\n",
    "- #### 움직임 상태값을 저장하기 위한 moveState 프로퍼티도 선언되어 있다\n",
    "- #### pedal() 메소드와 pullBreak() 메소드, 그리고 moveState 프로퍼티는 프로토콜에서 선언된 것이 아니라 Bicycle 클래스에서 직접 선언된 것이다\n",
    "\n",
    "### 일반적인 경우 이 Bicycle 클래스는 다음과 같이 초기화 된다\n",
    "\n",
    "```\n",
    "let trans = Bicycle()\n",
    "```\n",
    "\n",
    "- #### 이렇게 초기화된 객체를 대입한 상수 trans는 타입 추론에 의하여 Bicycle 타입으로 결정된다\n",
    "\n",
    "### 이떄, 상수 trans가 사용할 수 있는 프로퍼티나 메소드는 다음과 같다\n",
    "\n",
    "```\n",
    "trans.moveState\n",
    "trans.pedal()\n",
    "trans.pullBreak()\n",
    "trans.spin()\n",
    "trans.hold()\n",
    "```"
   ]
  },
  {
   "cell_type": "markdown",
   "metadata": {},
   "source": [
    "### 이 클래스는 Wheel 프로토콜을 구현하고 있으므로 상수 trans의 타입 어노테이션에 프로토콜 타입을 사용하여 다음과 같이 Wheel 타입 상수에 할당하는 것도 가능하다\n",
    "\n",
    "```\n",
    "let trans: Wheel = Bicycle()\n",
    "```\n",
    "\n",
    "### 하지만 클래스 본래의 타입인 Bicycle이 아니라 Wheel 타입의 상수에 할당된 trans가 사용할 수 있는 프로퍼티나 메소드는 다음의 두 가지뿐이다\n",
    "- #### trans.spin()\n",
    "- #### trans.hold()"
   ]
  },
  {
   "cell_type": "markdown",
   "metadata": {},
   "source": [
    "### 실질적으로 trans 상수에 할당된 객체는 Bicycle()이라는 인스턴스\n",
    "- #### 이 인스턴스의 내부에는 moveState 프로퍼티나 pedal(), pullBreak()와 같은 메소드들이 모두 정의되어 있다\n",
    "\n",
    "### 그러나 컴파일러가 읽어 들이는 trans 상수의 타입은 Wheel 프로토콜에 선언된 spin(), hold() 메소드로 제한된다\n",
    "- #### 나머지 프로퍼티나 메소드들은 모두 컴파일러로부터 은닉된다\n",
    "- #### 이는 trans 상수가 Wheel 타입이기 때문이다"
   ]
  },
  {
   "cell_type": "markdown",
   "metadata": {},
   "source": [
    "### 비단 Bicycle 클래스뿐만 아니라 Wheel 프로토콜을 구현한 모든 객체들은 그 종류에 상관없이 모두 trans 상수에 할당할 수 있다\n",
    "- #### 이 trans 상수를 이용하여 바퀴를 굴리거나 멈추는 작업을 할 수 있다\n",
    "    - 자동차가 될 수도 있고, 기차가 될 수도 있다\n",
    "- #### trans 상수는 여기에 할당된 인스턴스가 무엇이든 Wheel 프로토콜을 구현한 것이기만 하면 된다\n",
    "- #### 단순히 이 인스턴스를 할당받아 spin() 메소드를 실행하여 바퀴를 굴리고, hold() 메소드를 실행하여 바퀴를 중단 할 뿐이다"
   ]
  },
  {
   "cell_type": "markdown",
   "metadata": {},
   "source": [
    "### 이처럼 객체 본래 타입이 아니라 프로토콜 타입으로 선언한 변수나 상수에 할당받아 사용하는 것은 특정 프로토콜을 구현한 모든 클래스나 구조체를 변수나 상수에 할당할 수 있다는 장점이 있다\n",
    "- #### 개별 구조체나 클래스 타입으로 변수나 상수가 한정되지 않으므로 실질적으로 정의된 객체가 무엇이든지 특정 프로토콜을 구현하기만 했다면 모두 할당받을 수 있다"
   ]
  },
  {
   "cell_type": "markdown",
   "metadata": {},
   "source": [
    "### 물론 클래스는 AnyObject 타입으로 변수나 상수를 선언하면 모든 클래스를 할당받을 수 있지만, 이는 클래스로 제한될 뿐만 아니라 프로토콜에 정의된 프로퍼키나 메소드를 전혀 사용할 수 없는 결과를 가져온다\n",
    "\n",
    "### 이와는 달리 프로토콜 타입으로 선언하여 할당받으면 프로토콜에서 선언된 메소드나 프로퍼티는 모두 이용할 수 있다"
   ]
  },
  {
   "cell_type": "markdown",
   "metadata": {},
   "source": [
    "### 하나의 특정 프로토콜을 구현한 어떤 객체든지 변수나 상수에 할당하고자 할 때는 특정 프로토콜의 타입으로 정의하여 사용하면 되지만, 필요에 따라 두 개 이상의 특정 프로토콜들 타입을 모두 사용해야 할 때도 있다\n",
    "- #### 두 프로토콜에서 제공하는 프로퍼티나 메소드, 초기화 구문들을 사용해야 할 때가 이에 해당한다"
   ]
  },
  {
   "cell_type": "markdown",
   "metadata": {},
   "source": [
    "### 다음 예는 프로토콜 A와 B가 정의되어 있고, 이를 모두 구현하는 클래스 Impl이 정의되어 있을때, 두 프로토콜 타입으로 인스턴스를 할당받는 모습을 보여준다\n",
    "\n",
    "```\n",
    "protocol A {\n",
    "    func doA()\n",
    "}\n",
    "\n",
    "protocol B {\n",
    "    func doB()\n",
    "}\n",
    "\n",
    "class Impl: A, B {\n",
    "    func doA() {\n",
    "        \n",
    "    }\n",
    "    \n",
    "    func doB() {\n",
    "        \n",
    "    }\n",
    "    \n",
    "    func desc() -> String {\n",
    "        return \"Class instance method\"\n",
    "    }\n",
    "}\n",
    "\n",
    "var ipl: A & B = Impl()\n",
    "ipl.doA()\n",
    "ipl.doB()\n",
    "```"
   ]
  },
  {
   "cell_type": "markdown",
   "metadata": {},
   "source": [
    "### ipl 변수의 타입으로 사용된 A & B는 A 프로토콜과 B 프로토콜 모두를 포함하는 객체 타입이라는 뜻이다\n",
    "- #### 이 타입으로 정의된 변수는 두 프로토콜을 모두 구현한 객체만 할당받을 수 있다\n",
    "### ipl은 클래스 Impl의 인스턴스를 할당받았지만, 클래스에서 정의된 메소드 desc()는 사용할 수 없디\n",
    "- #### 대신 프로토콜 A와 B에서 정의된 doA()와 doB()는 사용할 수 있다"
   ]
  },
  {
   "cell_type": "markdown",
   "metadata": {},
   "source": [
    "### 함수나 메소드, 초기화 구문 등의 매개변수를 프로토콜 타입으로 정의할 경우에도 이와 동일한 원칙이 적용된다\n",
    "- #### 입력된 값의 실제 타입에 상관없이, 인자값은 프로토콜 타입에서 정의된 메소드나 프로퍼티만 사용할 수 있디"
   ]
  }
 ],
 "metadata": {
  "kernelspec": {
   "display_name": "Python 3",
   "language": "python",
   "name": "python3"
  },
  "language_info": {
   "codemirror_mode": {
    "name": "ipython",
    "version": 3
   },
   "file_extension": ".py",
   "mimetype": "text/x-python",
   "name": "python",
   "nbconvert_exporter": "python",
   "pygments_lexer": "ipython3",
   "version": "3.7.1"
  }
 },
 "nbformat": 4,
 "nbformat_minor": 2
}
