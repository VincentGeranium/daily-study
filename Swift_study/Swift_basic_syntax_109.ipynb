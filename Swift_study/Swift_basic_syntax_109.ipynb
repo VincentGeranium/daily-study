{
 "cells": [
  {
   "cell_type": "markdown",
   "metadata": {},
   "source": [
    "# 프로토콜(Protocol)\n",
    "## 객체의 설계도\n",
    "## 프로토콜의 활용"
   ]
  },
  {
   "cell_type": "markdown",
   "metadata": {},
   "source": [
    "## 클래스 전용 프로토콜"
   ]
  },
  {
   "cell_type": "markdown",
   "metadata": {},
   "source": [
    "### 프로토콜은 문법적으로 구조체에서 확장체에 이르기까지 광범위한 객체들이 구현할 수 있지만, 때로는 클래스만 구현할 수 있도록 제한된 프로토콜을 정의해야 할 때가 있다\n",
    "- #### 이를 클래스 전용 프로토콜이라고 한다\n",
    "    - #### 프로토콜 정의 시 class 키워드를 사용하여 클래스 전용 프로토콜임을 컴파일러에 알려주면 된다\n",
    "        - #### 이때 class 키워드를 사용하는 위치는 프로토콜의 이름 뒤 콜론으로 구분된 영역이다\n",
    "        \n",
    "### 클래스 전용 프로토콜을 선언하는 예\n",
    "\n",
    "```\n",
    "protocol SomeClassOnlyProtocol: class {\n",
    "    // 클래스에서 구현할 내용 작성\n",
    "}\n",
    "```"
   ]
  },
  {
   "cell_type": "markdown",
   "metadata": {},
   "source": [
    "### 클래스 전용 프로토콜에서는 메소드를 정의할 때 mutating 키워드를 붙일 수 없다\n",
    "- #### 본래 mutating 키워드는 구조체나 열거형 등 클래스가 아닌 객체가 메소드 내에서 프로퍼티를 수정 할 수 있게 하기 위한 목적으로 사용하는 것이니만큼 구조체나 열거형이 구현할 수 없는 클래스 전용 프로토콜에서는 사용할 필요가 없기 때문이다\n",
    "- #### 이와는 달리 static 키워드는 클래스에서도 이용하는 것이므로 클래스 전용 프러토콜에서도 제약 없이 사용할 수 있다"
   ]
  },
  {
   "cell_type": "markdown",
   "metadata": {},
   "source": [
    "### 만약 프로토콜이 다른 프로토콜을 상속받는다면,\n",
    "- #### 상속된 프로토콜 이름들을 나열하기 전에 맨 먼저 클래스 전용임을 표시해야 한다\n",
    "- #### 클래스가 프로토콜과 부모 클래스를 표기할 때 맨 먼저 부모 클래스를 표기하는 것처럼, class 키워드와 상속 프로토콜 이름을 작성할 때는 class 키워드를 맨 앞에 작성해야 한다\n",
    "\n",
    "```\n",
    "protocol SomeClassOnlyProtocol: class, Wheel, Machine {\n",
    "    // 클래스에서 구현할 내용 작성\n",
    "}\n",
    "```"
   ]
  }
 ],
 "metadata": {
  "kernelspec": {
   "display_name": "Python 3",
   "language": "python",
   "name": "python3"
  },
  "language_info": {
   "codemirror_mode": {
    "name": "ipython",
    "version": 3
   },
   "file_extension": ".py",
   "mimetype": "text/x-python",
   "name": "python",
   "nbconvert_exporter": "python",
   "pygments_lexer": "ipython3",
   "version": "3.7.1"
  }
 },
 "nbformat": 4,
 "nbformat_minor": 2
}
