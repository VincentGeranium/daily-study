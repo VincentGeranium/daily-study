{
 "cells": [
  {
   "cell_type": "markdown",
   "metadata": {},
   "source": [
    "# 오류 처리 (Error Handling)\n",
    "## 스위프트는 어떻게 오류를 처리할까?"
   ]
  },
  {
   "cell_type": "markdown",
   "metadata": {},
   "source": [
    "### 프로그래밍을 하다 보면 절대 피할 수 없는 것이 오류이다\n",
    "- #### 오류는 입력 과정에서 발생하기도, 상이한 시스템 환경에서 발생하기도 하지만 경우에 따라서는 경험 부족으로 인해 오류가 발생하기도 한다\n",
    "- #### 이런 오류를 잘 처리하지 않고 코드를 작성하면 사소한 원인에도 쉽게 다운되어 사용하기 불편한 애플리케이션이 만들어진다\n",
    "- #### 그래서 프로그래밍 과정은 원하는 로직을 잘 구현하는 일 외에도 오류를 꼼꼼하게 처리하여 안정성을 높이는 일을 매우 중요하게 다룬다"
   ]
  },
  {
   "cell_type": "markdown",
   "metadata": {},
   "source": [
    "### 스위프트에서 오류를 처리하는 방법은 크게 두 가지이다.\n",
    "- #### 1. 옵셔널\n",
    "- #### 2. 오류 처리 구문\n",
    "\n",
    "### 옵셔널은 처리의 결과나 실행 도중 실패했을 때 그 결과를 오류로 발생시키는 대신 nil 값으로 반환\n",
    "- #### 개발자가 이를 적절히 알아서 처리하도록 유도하는 개념\n",
    "\n",
    "### 오류 처리 구문은 스위프트 2.0 버전부터 포함된 문법\n",
    "- #### 반환값 타입이나 코드의 흐름과 상관없이 오류를 던질 수 있도록 하는 구문\n",
    "\n",
    "### 오류 처리 구문의 도입 덕분에 비로소 스위프트는 조금 더 안정적인 코드 작성이 가능해 졌다고 할 수 있다\n",
    "- #### 이러한 오류 처리 구문은 스위프트만의 것은 아니며 객체지향 언어 대다수에서 채택하고 있는 것이기도 하다"
   ]
  }
 ],
 "metadata": {
  "kernelspec": {
   "display_name": "Python 3",
   "language": "python",
   "name": "python3"
  },
  "language_info": {
   "codemirror_mode": {
    "name": "ipython",
    "version": 3
   },
   "file_extension": ".py",
   "mimetype": "text/x-python",
   "name": "python",
   "nbconvert_exporter": "python",
   "pygments_lexer": "ipython3",
   "version": "3.7.1"
  }
 },
 "nbformat": 4,
 "nbformat_minor": 2
}
