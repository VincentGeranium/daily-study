{
 "cells": [
  {
   "cell_type": "markdown",
   "metadata": {},
   "source": [
    "# 열거형과 익스텐션(Enumeration and Extensions)\n",
    "## 코드의 한계를 넓혀주는 문법\n",
    "## 익스텐션(Extensions)"
   ]
  },
  {
   "cell_type": "markdown",
   "metadata": {},
   "source": [
    "## 익스텐션을 활용한 코드 정리"
   ]
  },
  {
   "cell_type": "markdown",
   "metadata": {},
   "source": [
    "### 기존 소스 코드를 건드리지 않고도 원하는 내용을 확장할 수 있다는 특징 때문에, 익스텐션은 주로 라이브러리에 정의된 클래스의 기능을 추가할 때나 오버라이드할 때 사용된다\n",
    "- #### 익스텐션이라는 문법 자체가 Objective-C 에서 클래스의 메소드를 추가할 때 사용되었던 카테고리(Category) 기능에 대한 확장판이라는 점에서 이 같은 특징을 쉽게 유추할 수 있다"
   ]
  },
  {
   "cell_type": "markdown",
   "metadata": {},
   "source": [
    "### 그런데, 스위프트로 작성된 각종 예제들이나 라이브러리 코드를 살펴보면 익스텐션의 특이한 사용법이 어렵지 않게 발견된다\n",
    "- #### 바로 커스텀 클래스를 작성할 때 익스텐션을 활용하는 것이다\n",
    "    - #### class 키워드를 사용하여 커스텀 클래스의 기본 코드만 정의하고는 이어서 다시 익스텐션을 사용하여 나머지 코드를 보완하는 경우가 적지 않다\n",
    "\n",
    "### 익스텐션으로 보완된 커스텀 클래스 정의 구문\n",
    "\n",
    "```\n",
    "import UIKit\n",
    "\n",
    "pubilc class DataSync {\n",
    "    public func save(_ value: Any, forKey: String) {...}\n",
    "    public fnuc load(_ key: String) -> Any {...}\n",
    "    public func remove(_ key: String) {...}\n",
    "}\n",
    "\n",
    "extension DataSync {\n",
    "    public func stringToData(_ value: String) -> Data {...}\n",
    "    public func dateToString(_ value: Data) -> String {...}\n",
    "}\n",
    "```"
   ]
  },
  {
   "cell_type": "markdown",
   "metadata": {},
   "source": [
    "### 커스텀 클래스인 DataSync를 정의한 다음, 이어서 익스텐션을 이용하여 나머지 메소드를 추가하고 있다\n",
    "- #### 익스텐션의 주 목적을 생각한다면, 이는 쉽게 이해되지 않는 구조이다\n",
    "    - #### 커스텀 클래스를 작성할 때 굳이 익스텐션을 써야 할 이유는 없으니 말이다"
   ]
  },
  {
   "cell_type": "markdown",
   "metadata": {},
   "source": [
    "### 하지만 이것은 사실 익스텐션의 또다른 용법이다\n",
    "- #### Objective-C 에서 사용되던 #pragma mark라는 주석의 용도와 닿아 있는 부분이다\n",
    "    - #### 객체 확장 문법인 익스텐션과 Objective-C의 주석이 연관되어 있다니 이상하지 않은가?\n",
    "\n",
    "### 이를 이해하기 위해, 우선 #pragma mark 주석에 대해 먼자 알아봐야 한다\n",
    "\n",
    "### 1. #pragma mark\n",
    "- #### #pragma mark는 Objective-C에서 사용하는 특수한 주석이다\n",
    "- #### 템플릿 코드에서도 매우 자주 사용된다\n",
    "- #### Objective-C 개발자들도 자주 사용한다\n",
    "- #### Objective-C 기반으로 iOS 프로젝트를 생성하면서 코어 데이터 템플릿을 함께 추가한다면, AppDelegate.m 파일에서 다음과 같은 #pragma mark 주석을 쉽게 찾아볼 수 있을 것이다\n",
    "    \n",
    "```\n",
    "#pragma mark - Core Data stack\n",
    "```"
   ]
  },
  {
   "cell_type": "markdown",
   "metadata": {},
   "source": [
    "### #pragma mark 주석의 특징은 '주석 이후에 작성된 코드를 의미적으로 그룹화하여 다른 코드로부터 구분'하는 데에 있다\n",
    "- #### 이때 구분된 의미적 그룹은 Xcode에서 점프 바 혹은 심벌 탐색기를 통해 표시된다"
   ]
  },
  {
   "cell_type": "markdown",
   "metadata": {},
   "source": [
    "### (p.563 그림 참고)\n",
    "- #### \"Core Data stack\" 타이틀이 붙은 코드 영역이 다른 영역과 구분되어 있다\n",
    "- #### \"Core Data Saving support\" 역시 실제로 파일을 열어보면 AppDelegate.m 파일에 #pragma mark 주석으로 작성되어 있다"
   ]
  },
  {
   "cell_type": "markdown",
   "metadata": {},
   "source": [
    "### 이들 주석 덕분에 AppDelegate.m 파일은 크게 세 개의 그룹으로 나뉘었다\n",
    "- #### 맨 위의 일반 앱 델리게이트용 코드\n",
    "- #### 중간의 코어 데이터 스택용 코드(Core Data stack)\n",
    "- #### 맨 아래의 코어 데이터 저장 지원용 코드(Core Data Saving support)"
   ]
  },
  {
   "cell_type": "markdown",
   "metadata": {},
   "source": [
    "### #pragma mark의 목적은 여기에 있다\n",
    "- #### 메소드가 많아 자칫 소스 코드가 엉망이 되기 쉬운 상황에서 코드를 간결하게 정리해 준다\n",
    "- #### 덕분에 유지 보수도 한결 수월해지기 때문에 Objective-C 개발자들이 매우 즐겨 사용하는 문법이다"
   ]
  },
  {
   "cell_type": "markdown",
   "metadata": {},
   "source": [
    "### 2. 익스텐션과 #pragma mark"
   ]
  },
  {
   "cell_type": "markdown",
   "metadata": {},
   "source": [
    "### #pragma mark 주석은 스위프트에서 지원되지 않는다\n",
    "- #### 전역 범위에서 블록별로 개별 메소드를 정의하던 Objective-C 와 달리 스위프트에서 메소드 정의는 클래스 정의 블록 내부에 작성되기 때문이다\n",
    "    - 쉽게 말해 스위프트 구조상 #pragma mark 주석을 사용할 수 없다고 생각하면 된다\n",
    "- #### 이 때문에 스위프트 발표 당시 Objective-C 개발자들이 스위프트 개발진에게 #pragma mark에 대한 지원 여부를 물었을때 돌아온 대답은 '익스텐션을 활용하면 된다'였다\n",
    "\n",
    "### 이게 무슨 뜻일까?? 느닷없이 익스텐션이라니??\n",
    "- #### 그에 대한 설명은 여기에 있다\n",
    "    - #### 익스텐션으로 정의한 메소드는 원래의 객체에 추가되기는 하지만, 그 메소드는 기존의 클래스 정의와 구분되어 점프 바에서 별도의 그룹으로 표시되는 특징이 있다\n",
    "- #### 결과로만 놓고 보면 #pragma mark와 비슷한 역활을 하는 셈이다\n",
    "\n",
    "### 다음 코드를 보자\n",
    "\n",
    "```\n",
    "import UIKit\n",
    "\n",
    "class ViewController: UIViewController {\n",
    "    override func viewDidLoad() {\n",
    "        super.viewDidLoad()\n",
    "    }\n",
    "    override func didReceiveMemoryWarning() {\n",
    "        super.didReceiveMemoryWarning()\n",
    "    }\n",
    "    \n",
    "    func save(_ value: Any, forKey key: String) {\n",
    "        \n",
    "    }\n",
    "    func load(_ key: String) ->  Any? {\n",
    "        return nil\n",
    "    }\n",
    "    \n",
    "    \n",
    "}\n",
    "```"
   ]
  },
  {
   "cell_type": "markdown",
   "metadata": {},
   "source": [
    "### 뷰 컨트롤러 클래스 아래로, 네 개의 메소드가 차례로 나열되어 있는 것을 확인할 수 있다\n",
    "- #### 다음과 같이 트리 구조를 이루고 있다\n",
    "\n",
    "```\n",
    "ViewController\n",
    "∟viewDidLoad()\n",
    "∟didReciveMemoryWarning()\n",
    "∟save(_forKey:)\n",
    "∟laod(_:)\n",
    "```"
   ]
  },
  {
   "cell_type": "markdown",
   "metadata": {},
   "source": [
    "### 이번에는 익스텐션을 사용하여 일부 메소드를 정의해 보자\n",
    "- #### viewDidLoad(),didReceiveMemoryWarning() 메소드는 그대로 두고, 나머지 메소드 두 개를 다음과 같이 익스텐션 구문 내부로 옮겨 정의\n",
    "\n",
    "```\n",
    "import UIKit\n",
    "\n",
    "class ViewController: UIViewController {\n",
    "    override func viewDidLoad() {\n",
    "        super.viewDidLoad()\n",
    "    }\n",
    "    override func didReceiveMemoryWarning() {\n",
    "        super.didReceiveMemoryWarning()\n",
    "    }\n",
    "}\n",
    "\n",
    "extension ViewController {\n",
    "    func save(_ value: Any, forKey key: String) {\n",
    "        \n",
    "    }\n",
    "    func load(_ key: String) -> Any? {\n",
    "        return nil\n",
    "    }\n",
    "}\n",
    "```"
   ]
  },
  {
   "cell_type": "markdown",
   "metadata": {},
   "source": [
    "### 하나의 트리로 구성되어 있었던 ViewController의 메소드들이 익스텐션을 기준으로 나누어져, 별도의 트리를 구성하게 되었다\n",
    "- #### 이것이 익스텐션이 코드 정리에 기여하는 역활이다\n",
    "- #### 덕분에 우리는 viewDidLoad() 및 didReceivieMemoryWarning() 메소드와 save(_:forKey:), load(_:) 메소드를 수분하여 표시할 수 있게 되었다"
   ]
  },
  {
   "cell_type": "markdown",
   "metadata": {},
   "source": [
    "### 이들 메소드를 나름의 기준으로 나누었다\n",
    "- #### 오버라이드 메소드인지 커스텀 메소드인지의 구분에 따른 것이다\n",
    "    - #### 먼저 오버라이드 메소드는 기본 클래스 정의에 그대로 두었다\n",
    "    - #### 그리고 커스텀으로 추가한 메소드는 익스텐션 블록으로 옮겼다\n",
    "- #### 이를 통해, 원래 해당 클래스에 공식적으로 포함되어 있어야 하는 메소드는 원래의 클래스에, 그리고 비공식적인 메소드는 익스텐션에 각각 나누어 작성되었다"
   ]
  },
  {
   "cell_type": "markdown",
   "metadata": {},
   "source": [
    "### 이것은 절대적인 기준이 아니다\n",
    "- #### 자기 나름대로의 기준으로 코드를 정리할 때 참고하면 될 정도의 예시일 따름이다\n",
    "- #### 다만 익스텐션에서는 오바라이드 메소드를 작성하지 못한다는 문법적 제약 사항이 있으므로 이것만 염두에 두고 코드를 분리하면 된다"
   ]
  },
  {
   "cell_type": "markdown",
   "metadata": {},
   "source": [
    "### 참고로 익스텐션에 작성할 수 없는 메소드가 또 있다\n",
    "- #### 바로 액션 메소드이다\n",
    "    - #### @IBAction 어트리뷰트가 붙는 액션 메소드는 익스텐션에 작성할 수 없으므로, 반드시 원래의 클래스에 작성해야 한다"
   ]
  },
  {
   "cell_type": "markdown",
   "metadata": {},
   "source": [
    "### 그렇다면 익스텐션으로 분리할 수 있는 메소드는 단순히 커스텀 메소드 뿐일까?\n",
    "- #### 꼭 그렇지는 않다\n",
    "- #### 그리고 여기에 필자가 생각하는 익스텐션의 진정한 활용방법이 있다\n",
    "- #### 바로 델리게이트 패턴의 구현 위임이다"
   ]
  },
  {
   "cell_type": "markdown",
   "metadata": {},
   "source": [
    "### 3. 익스텐션과 델리게이트 패턴"
   ]
  },
  {
   "cell_type": "markdown",
   "metadata": {},
   "source": [
    "### iOS에서 인터페이스를 구현하다 보면 델리게이트 패턴을 많이 사용하게 된다.\n",
    "- #### 그런데 델리게이트 패턴 구현에는 프로토콜이 사용되기 때문에, 화면 다수 요소에 델리게이트 패턴을 적용할 경우 클래스 소스 코드는 금세 프로토콜 관련 코드들로 인해 엉망이 되어버리곤 한다\n",
    "\n",
    "### 다음의 경우를 보자 \n",
    "#### P.567 그림 참조\n",
    "- #### 이 화면은 테이블 뷰와 검색 바, 이미지 피커, 텍스트 바 등에 대한 델리게이트 패턴을 통해 사용자와 상호작용하고 있는데, 이를 코드로 구현하다 보면 다음과 같은 식으로 작성할 수 밖에 없게 된다\n",
    "\n",
    "```\n",
    "class UIViewController: UIViewController, UITableViewDataSource, UITableViewDelegate,UIImagePickerControllerDelegate, UINavigationControllerDelegate,UITextControllerDelegate,\n",
    "UISearchBarDelegate{\n",
    "    // ...\n",
    "}\n",
    "```"
   ]
  },
  {
   "cell_type": "markdown",
   "metadata": {},
   "source": [
    "### 하지만 이들 프로토콜을 성격에 맞게 여러 개의 익스텐션으로 나누어 구현하면 다음과 같이 제법 깔끔한 코드를 얻을 수 있다\n",
    "\n",
    "```\n",
    "class ViewController: UIViewController {\n",
    "    // UIViewController에 대한 오버라이드 메소드 및 액션 메소드\n",
    "    // ...\n",
    "}\n",
    "    \n",
    "extension ViewController: UITableViewDataSource, UITableDelegate {\n",
    "    // 테이블 뷰 구현을 위한 델리게이트 메소드 구현\n",
    "    // ...\n",
    "}\n",
    "    \n",
    "extension ViewController: UIImagePickerControllerDelegate, UINavigationControllerDelegate {\n",
    "    // 이미지 피커를 위한 델리게이트 메소드 구현\n",
    "    // ...\n",
    "}\n",
    "    \n",
    "extension ViewController: UISearchBarDelegate {\n",
    "    // 검색 바를 위한 델리게이트 메소드 구현\n",
    "    // ...\n",
    "}\n",
    "```"
   ]
  },
  {
   "cell_type": "markdown",
   "metadata": {},
   "source": [
    "### 실제로 여기에 알맞게 메소드를 작성하고 보면 간결성이 훨씬 더 명료하게 드러날 것이다\n",
    "- #### 서로 연관된 메소드끼리 모여 있으므로 작업의 연계성도 더 좋아질테고 말이다"
   ]
  },
  {
   "cell_type": "markdown",
   "metadata": {},
   "source": [
    "### 익스텐션 구문을 이용하여 코드를 그룹화할 때에는 MARK 주석과 함께 사용하는 것이 좋다\n",
    "- #### 이 주석은 스위프트에서 특수 용도로 사용되는 주석 기능 중의 하나로, 여기에 작성된 내용은 점프 바나 심벌 탐색기에서 표시되기 때문에 익스텐션과 비슷하게 코드를 구분하는 데에 유용하게 사용할 수 있다\n",
    "\n",
    "### 다음은 MARK 주석이 사용된 모습이다\n",
    "\n",
    "```\n",
    "// MARK: 테이블 뷰를 위한 프로토콜 델리게이트 구현\n",
    "extension ViewController: UITabViewDataSource, UITableViewDelegate {\n",
    "    ...(중략)...\n",
    "}\n",
    "```"
   ]
  },
  {
   "cell_type": "markdown",
   "metadata": {},
   "source": [
    "### 맨 처음에 주석 표시인 //가 들어가고, 이어서 특수 주석용 키워드인 \"MARK\"가 삽입된다\n",
    "- #### 이어서 주석 내용이 들어가면 된다\n",
    "- #### 정리하면 다음과 같다\n",
    "\n",
    "```\n",
    "주석 표시 -> // , 특수 주석 키워드 -> MARK: , 주석 내용 -> 주석으로 작성할 내용\n",
    "```"
   ]
  },
  {
   "cell_type": "markdown",
   "metadata": {},
   "source": [
    "### MARK 주석을 사용할 때에는 몇 가지 주의할 점이 있다\n",
    "- #### 우선 \"MARK\"는 모두 대문자로 작성\n",
    "    - #### 소문자로 일부 작성될 경우 Xcode는 이를 MARK 주석으로 올바르게 인지하지 못한다\n",
    "- #### 키워드 \"MARK\"와 뒤이어 오는 콜론( : )기호 사이에는 공백이 없어야 한다\n",
    "    - #### 콜론 앞에 공백이 들어가면 이 역시 MARK 주석으로 인식되지 못한다\n",
    "- #### 이상의 두 가자만 준수한다면 문제없이 MARK 주석을 사용할 수 있다\n",
    "- #### 이렇게 작성된 주석은 점프 바에서 다음과 같이 표시 된다 (p.570 그림 참조 , test1.xcodeproj 참조)"
   ]
  },
  {
   "cell_type": "markdown",
   "metadata": {},
   "source": [
    "### MARK 주석의 업그레이드된 사용법\n",
    "```\n",
    "// MARK: - 테이블 뷰를 위한 프로토콜 델리게이트 구현\n",
    "extension ViewController: UITabViewDataSource, UITableViewDelegate {\n",
    "    ...(중략)...\n",
    "}\n",
    "```\n",
    "\n",
    "- #### 앞에서 설명한 사용법과의 차이는 주석 설명 앞의 하이픈 ( - ) 여부이다\n",
    "- #### 이 하이픈은 점프 바에서 주석을 기준으로 위 아래호 색션을 나누어 준다 (p.570 그림 참조, test1.xcodeproj 참조)"
   ]
  },
  {
   "cell_type": "markdown",
   "metadata": {},
   "source": [
    "### MARK 주석에서 주석 내용 앞에 붙은 하이픈은 점프 바에서 기존의 메소드 및 프로퍼티 목록을 구분해주는 수평선으로 처리된다\n",
    "- #### MARK 주석과 익스텐션의 이같은 조합 특성을 이용하면 #pragma mark 와 거의 같은 효과를 낼 수 있다\n",
    "\n",
    "### 실제로 이같은 활용법은 현업 개발자들 사이에서 매우 널리 사용되고 있는 팁\n",
    "- #### 코드를 간결하게 정리하고 유지보수를 쉽게 하는 데에 큰 도움이 된다"
   ]
  }
 ],
 "metadata": {
  "kernelspec": {
   "display_name": "Python 3",
   "language": "python",
   "name": "python3"
  },
  "language_info": {
   "codemirror_mode": {
    "name": "ipython",
    "version": 3
   },
   "file_extension": ".py",
   "mimetype": "text/x-python",
   "name": "python",
   "nbconvert_exporter": "python",
   "pygments_lexer": "ipython3",
   "version": "3.7.1"
  }
 },
 "nbformat": 4,
 "nbformat_minor": 2
}
