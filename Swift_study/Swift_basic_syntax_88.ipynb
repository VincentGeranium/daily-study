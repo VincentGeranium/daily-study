{
 "cells": [
  {
   "cell_type": "markdown",
   "metadata": {},
   "source": [
    "# 구조체와 클래스\n",
    "## 객체지향 스위프트\n",
    "## 옵셔널 체인"
   ]
  },
  {
   "cell_type": "markdown",
   "metadata": {},
   "source": [
    "## 옵셔널 체인(Optional Chain)"
   ]
  },
  {
   "cell_type": "markdown",
   "metadata": {},
   "source": [
    "### \"옵셔널 체인(Optional Chain)\"은 \n",
    "- #### 옵셔널 타입으로 정의된 값이 하위 프로퍼티나 메소드를 가지고 있을 때, 이 요소들을 if 구문을 쓰지 않고도 간결하게 사용할 수 있는 코드를 작성하기 위해 도입되었다\n",
    "\n",
    "### 옵셔널 체인의 기본 패러다임\n",
    "- #### 옵셔널 체인의 기본 패러다임은 Objective-C의 특성 중 하나로부터 비롯된다\n",
    "    - #### 그것은 바로 Objective-C 언어에서 nil인 객체에 메시지를 보내도 아무런 오류가 발생하지 않는다는 점이다"
   ]
  },
  {
   "cell_type": "markdown",
   "metadata": {},
   "source": [
    "### 여기에서 말하는 메세지는 일반 객체지향 언어에서의 메소드를 의미한다\n",
    "- #### Objective-C 가 스몰토크 언어 기반이므로 메소드를 호출하는 것 대신 메세지를 보내는 것으로 처리될 뿐이다"
   ]
  },
  {
   "cell_type": "markdown",
   "metadata": {},
   "source": [
    "### 객체지향식으로 이야기하자면, \n",
    "- #### Objcetive-C에서는 nil인 객체의 메소드나 프로퍼티를 호출하더라도 오류가 발생하지 않는다\n",
    "- #### 단순히 아무 일도 일어나지 않을 따름이다\n",
    "- #### 일반적으로 자바나 C# 등과 같은 객체지향 언어에서 존재하지 않는 객체의 메소드나 프로퍼티를 호출하면 NullPointException이 발생하는 것과 대조적이다"
   ]
  },
  {
   "cell_type": "markdown",
   "metadata": {},
   "source": [
    "### 이처럼 옵셔널 체인은 \n",
    "- #### 객체가 nil인 상황에서 안전성 검사를 하지 않고 메소드나 프로퍼티를 호출하더라도 오류가 발생하지 않을 수 있는 문법을 옵셔널 스타일을 이용하여 구현한다\n",
    "\n",
    "### 옵셔널 타입을 정의할 때 \n",
    "- #### \"?\" 연산자를 사용했었는데, 옵셔널 타입을 참조할 때도 이 연산자를 사용한다\n",
    "- #### 그 다음에 이어서 필요한 프로퍼티나 메소드를 참조하는 것이다\n",
    "\n",
    "### 이를테면 앞의 예제에서 옵셔널 타입으로 선언된 startup 변수 하위의 ceo 프로퍼티를 참조하려면 다음과 같이 호출하는 방식이다\n",
    "\n",
    "```\n",
    "startup?.ceo\n",
    "```"
   ]
  },
  {
   "cell_type": "markdown",
   "metadata": {},
   "source": [
    "### 만약 startup이 옵셔널 타입이 아니라 단순한 Company 타입이었다면 ceo 프로퍼티를 참조하기 위해 startup.ceo로 호출했을 것이다\n",
    "- #### 옵셔널 체인은 이 기본 형태의 구문에서 옵셔널 타입의 객체 바로 뒤에 \"?\" 연산자만 붙여준 형태라고 할 수 있다\n",
    "- #### 이렇게 작성된 옵셔널 체인 구문에 의해 startup이 정상적으로 Company 인스턴스를 저장하고 있다면 그 인스턴스의 ceo 객체가 반환되겠지만, 설령 startup 변수에 nil 값이 할당되어 있더라도 잘못된 참조에 의한 오류는 발생하지 않는다\n",
    "    - #### 그저 아무 일도 일어나지 않을 따름이다"
   ]
  },
  {
   "cell_type": "markdown",
   "metadata": {},
   "source": [
    "p.534 4번째 문단 부터 시작"
   ]
  }
 ],
 "metadata": {
  "kernelspec": {
   "display_name": "Python 3",
   "language": "python",
   "name": "python3"
  },
  "language_info": {
   "codemirror_mode": {
    "name": "ipython",
    "version": 3
   },
   "file_extension": ".py",
   "mimetype": "text/x-python",
   "name": "python",
   "nbconvert_exporter": "python",
   "pygments_lexer": "ipython3",
   "version": "3.7.1"
  }
 },
 "nbformat": 4,
 "nbformat_minor": 2
}
