{
 "cells": [
  {
   "cell_type": "markdown",
   "metadata": {},
   "source": [
    "# 함수 (Function)\n",
    "## 일급 객체로서의 함수"
   ]
  },
  {
   "cell_type": "markdown",
   "metadata": {},
   "source": [
    "- #### 스위프트는 객체지향 언어이자 동시에 함수형 언어이다\n",
    "- #### 함수형 언어를 학습하게 되면 반드시 \"일급 객체(First-Class Object)\"라는 용어를 접하게 된다\n",
    "    - 이것은 크리스토퍼 스트래치(Christopher Strachey)라는 영국의 컴퓨터 과학자가 1960년대에 처음 사용한 개념\n",
    "        - ### 프로그램 언어 안에서 특정 종류의 객체가 일급의 지위를 가지는가에 대한 의미이다."
   ]
  },
  {
   "cell_type": "markdown",
   "metadata": {},
   "source": [
    "## 일급 함수의 특성"
   ]
  },
  {
   "cell_type": "markdown",
   "metadata": {},
   "source": [
    "### 객체가 다음의 조건을 만족하는 경우 이 객체를 일급 객체로 간주한다\n",
    "- #### 1. 객체가 런타임에도 생성이 가능해야 한다\n",
    "- #### 2. 인자값으로 객체를 전달할 수 있어야 한다\n",
    "- #### 3. 반환값으로 객체를 사용할 수 있어야 한다\n",
    "- #### 4. 변수나 데이터 구조 안에 저장할 수 있어야 한다\n",
    "- #### 5. 할당에 사용된 이름과 관계없이 고유한 구별이 가능해야 한다"
   ]
  },
  {
   "cell_type": "markdown",
   "metadata": {},
   "source": [
    "- ### 함수가 이런 조건을 만족하면 이를 \"일급 함수(First-Class Function)\"라고 하고 그 언어를 함수형 언어로 분류한다\n",
    "    - #### 즉, 함수형 언어에서는 함수가 일급 객체로 대우받는다는 뜻이다"
   ]
  },
  {
   "cell_type": "markdown",
   "metadata": {},
   "source": [
    "- ### 함수가 일급 객체로 대우받는다면 \n",
    "    - #### 런타임에도 함수의 생성이 가능하다\n",
    "    - #### 매개변수나 반환값으로 함수를 전달할 수 있다 \n",
    "    - #### 함수를 변수나 데이터 구조 안에 저장할 수 있을 뿐만 아니라 함수의 이름과 관계없이 고유한 구별이 가능하다\n",
    "        - ### 이것들이 일급 객체가 되기 위한 조건이기 때문이다"
   ]
  }
 ],
 "metadata": {
  "kernelspec": {
   "display_name": "Python 3",
   "language": "python",
   "name": "python3"
  },
  "language_info": {
   "codemirror_mode": {
    "name": "ipython",
    "version": 3
   },
   "file_extension": ".py",
   "mimetype": "text/x-python",
   "name": "python",
   "nbconvert_exporter": "python",
   "pygments_lexer": "ipython3",
   "version": "3.7.1"
  }
 },
 "nbformat": 4,
 "nbformat_minor": 2
}
