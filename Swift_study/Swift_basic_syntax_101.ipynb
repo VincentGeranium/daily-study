{
 "cells": [
  {
   "cell_type": "markdown",
   "metadata": {},
   "source": [
    "# 프로토콜(Protocol)\n",
    "## 객체의 설계도\n",
    "## 프로토콜의 정의"
   ]
  },
  {
   "cell_type": "markdown",
   "metadata": {},
   "source": [
    "## 프로토콜 프로퍼티"
   ]
  },
  {
   "cell_type": "markdown",
   "metadata": {},
   "source": [
    "### 프로토콜 프로퍼티에 대해서 살펴보자\n",
    "- #### 프로토콜에 선언되는 프로퍼티에는 초기값을 할당할 수 없다\n",
    "- #### 연산 프로퍼티인지 저장 프로퍼티인지도 구분하지 않는다\n",
    "- #### 프로퍼티의 종류, 이름, 변수/상수 구분, 타입, 읽기 전용인지 읽고 쓰기가 가능한지에 대해서만 정의한 뿐\n",
    "- #### 실제로 컴파일러에 의미있는 것이 이런 부분이기 때문이다\n",
    "\n",
    "### 실제로 프로퍼티를 선언한 예를 보자\n",
    "\n",
    "```\n",
    "protocol SomePropertyProtocol {\n",
    "    var name: String { get set }\n",
    "    var description: String { get }\n",
    "}\n",
    "```\n",
    "\n",
    "- #### 인스턴스 프로퍼티 두 개를 SomePropertyProtocol 프로토콜에서 선언하고 있다\n",
    "- #### 실제로 내용을 선언한 것이 아니라 이러이러한 종류의 프로퍼티가 선언될 것이라고 설명하는 의미이다\n",
    "- #### 프로퍼티의 명세에는 초기값을 할당하는 대신 읽기 전용/읽고 쓰기에 대한 여부를 get과 set 키워드로 표시해야 한다\n",
    "- #### 읽기 전용으로 설정할 때는 get만, 읽고 쓰기가 모두 가능한 프로퍼티를 선언하고자 할 때는 get과 set을 모두 작성한다"
   ]
  },
  {
   "cell_type": "markdown",
   "metadata": {},
   "source": [
    "### 의미하는 프로퍼티가 연산 프로퍼티일 때는 \n",
    "- #### get 키워드만으로 읽기 전용 속성으로 설정하거나 get과 set을 모두 사용하여 읽고 쓸 수 있는 프로퍼티로 설정할 수 있다\n",
    "\n",
    "### 그러나 저장 프로퍼티로 사용하려면\n",
    "- #### 반드시 get과 set 키워드를 모두 추가해야 한다\n",
    "- #### get 키워드만 선언한 읽기 전용 속성으로는 저장 프로퍼티를 구현할 수 없다\n",
    "\n",
    "### 이때 get , set 키워드만 작성하고 실제 구문은 작성하지 않음에 다시 한번 유의 해야 한다"
   ]
  },
  {
   "cell_type": "markdown",
   "metadata": {},
   "source": [
    "### 앞에서 정의한 SomePropertyProtocol 프로토콜을 구현한 구조체이다\n",
    "\n",
    "```\n",
    "struct RubyMember: SomePropertyProtocol {\n",
    "    var name = \"홍길동\"\n",
    "    var discription: String {\n",
    "        return \"Name : \\(self.name)\"\n",
    "    }\n",
    "}\n",
    "```\n",
    "\n",
    "- #### 구현할 대상 프로토콜을 선언하고, 그에 맞는 프로퍼티 명세를 내부에서 구현하고 있다\n",
    "- #### 프로토콜에서 get,set으로 선언된 name 프로퍼티는 저장 프로퍼티로 구현 \n",
    "- #### 읽기 전용 get으로 선언된 description 프로퍼티는 연산 프로퍼티로 구현하고 있는 것을 볼 수 있다ㅡ"
   ]
  },
  {
   "cell_type": "markdown",
   "metadata": {},
   "source": [
    "### 프로토콜에서 선언된 프로퍼티 중 일부를 누락하면 오류가 발생한다\n",
    "- #### 그러나 프로토콜과 상관없이 필요한 프로퍼티를 구현체에서 더 추가하는 것은 아무런 문제가 되지 않는다\n",
    "- #### 프로토콜만 제대로 구현된다면 필요한 만큼 여분의 프로퍼티를 추가하여 사용할 수 있다"
   ]
  }
 ],
 "metadata": {
  "kernelspec": {
   "display_name": "Python 3",
   "language": "python",
   "name": "python3"
  },
  "language_info": {
   "codemirror_mode": {
    "name": "ipython",
    "version": 3
   },
   "file_extension": ".py",
   "mimetype": "text/x-python",
   "name": "python",
   "nbconvert_exporter": "python",
   "pygments_lexer": "ipython3",
   "version": "3.7.1"
  }
 },
 "nbformat": 4,
 "nbformat_minor": 2
}
