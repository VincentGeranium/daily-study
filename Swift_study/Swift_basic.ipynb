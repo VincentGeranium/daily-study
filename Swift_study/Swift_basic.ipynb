{
 "cells": [
  {
   "cell_type": "markdown",
   "metadata": {},
   "source": [
    "# Swift type\n",
    "- Int = 정수형\n",
    "- Double,Float = 부동소숫점\n",
    "- String = 문자열\n",
    "- Array, Dictionary = 컬렉션\n",
    "- Tuple = 값의 묶음 타입\n",
    "- 선택형 타입"
   ]
  },
  {
   "cell_type": "markdown",
   "metadata": {},
   "source": [
    "# Constants and Variables (상수와 변수)\n",
    "- 상수 값은 한번 설정된 후로는 변경할 수 없음\n",
    "    - 상수의 keyword = let\n",
    "    - Ex) let point = 10 (변경불가)\n",
    "- 변수 값은 한번 설정된 이후에도 변경될 수 있음\n",
    "    - 변수의 keyword = var\n",
    "    - Ex) var currentPoint = 7 (변경가능)"
   ]
  },
  {
   "cell_type": "markdown",
   "metadata": {},
   "source": [
    "# Type Annotations(타입 명시)\n",
    "- Swift는 기본적으로 타입을 명시하지 않지만 명확하게 하기 위해 타입 명시를 할 수 있다\n",
    "- 상수 또는 변수 뒤에 콜론을 쓰고 한칸 띄우고 타입을 쓴다\n",
    "    - Ex) var toMylover: String\n",
    "          toMylover = \"Love U\""
   ]
  },
  {
   "cell_type": "markdown",
   "metadata": {},
   "source": [
    "# printing Constants and Variables(상수와 변수 출력)\n",
    "- println 함수를 사용하여 값을 출력한다\n",
    "    - Ex) println(loveMessage)\n",
    "          // prints \"Je t'aime\"\n",
    "    - Ex) println(\"I love SuA\")\n",
    "          // prints \"I love SuA\"\n",
    "    - Ex) printls(\"I will say to SuA, \\(loveMessage)\")\n",
    "          // prints \"I will say to SuA, Je t'aime\""
   ]
  },
  {
   "cell_type": "markdown",
   "metadata": {},
   "source": [
    "# Integers (정수)\n",
    "- 최대값과 최소값은 각 정수 타입의 max 와 min 속성에 접근하여 얻는다\n",
    "    - Ex) let maxValue = UInt8.max // maxValue is equal to 255, and is of type UInt8\n",
    "    - Ex) let minValue = UInt8.min // minValue is equal to 0, and is of type UInt8"
   ]
  },
  {
   "cell_type": "markdown",
   "metadata": {},
   "source": [
    "# Int\n",
    "- 32bit 플랫폼 = Int는 Int32와 같은 크기\n",
    "- 64bit 플랫폼 = Int는 Int64와 같은 크기"
   ]
  },
  {
   "cell_type": "markdown",
   "metadata": {},
   "source": [
    "# UInt\n",
    "- 32bit 플랫폼 = UInt는 UInt32와 같은 크기\n",
    "- 64bit 플랫폼 = UInt는 UInt64와 같은 크기"
   ]
  },
  {
   "cell_type": "markdown",
   "metadata": {},
   "source": [
    "# 부동 소수점\n",
    "- Double은 64bit 부동 소수점\n",
    "- Float은 32bit 부동 소수점"
   ]
  },
  {
   "cell_type": "markdown",
   "metadata": {},
   "source": [
    "# Type safety and Type inserence(타입 세이프와 타입 추정)\n",
    "- Swift는 안전 언어(type safe language)\n",
    "- 값들의 타입을 명확하게 하도록 함\n",
    "    - String타입으로 예상되는 부분이라면 Int값을 전달하는것은 불가능하다\n",
    "- 컴파일 시 일치하지 않으면 에러로 표시하며 개발시 가능할 일찍 오류를 고칠 수 있도록 한다\n",
    "- 타입 추정은 상수나 변수의 초기 값을 같이 선언할 때 유용하다\n",
    "    - 이는 초기 값을 설정해 놓으면 해당 값의 타입으로 가진다고 추정한다"
   ]
  },
  {
   "cell_type": "markdown",
   "metadata": {},
   "source": [
    "```\n",
    "let age = 28\n",
    "// age is inferred to be of type Int\n",
    "\n",
    "let pi = 3.14159\n",
    "// pi is inferred to be of type Double\n",
    "\n",
    "let anotherPi = 3 + 0.14159\n",
    "// anotherPi is also inferred to be of type Double\n",
    "```\n",
    "---------------------------------------------------------------------\n",
    "### Swift는 타입 추정시 Float보다 Double를 선택함"
   ]
  },
  {
   "cell_type": "markdown",
   "metadata": {},
   "source": [
    "# Numeric Literals (숫자의 문자 표현)\n",
    "- 정수 문자 표현\n",
    "    - 10진수 = 접두사 x\n",
    "    - 2진수 = 접두사 0b\n",
    "    - 8진수 = 접두사 0o\n",
    "    - 16진수 = 접두사 0x\n",
    "```\n",
    "let decimalInteger = 17\n",
    "let binaryInteger = 0b10001 // 17 in binary notation\n",
    "let octalInteger = 0o21 // 17 in octal notation\n",
    "let hexadecimalInteger = 0x11 // 17 in hexadecimal notation\n",
    "```"
   ]
  },
  {
   "cell_type": "markdown",
   "metadata": {},
   "source": [
    "- exp를 통한 10진수\n",
    "\n",
    "    - 1.25e2 // means 1.25 x 102, or 125.0\n",
    "    - 1.25e-2 // means 1.25 x $10^{-2}$ or 0.0125\n"
   ]
  },
  {
   "cell_type": "markdown",
   "metadata": {},
   "source": [
    "- exp를 통한 16진수\n",
    "    - 0xFp2 //means 15 x 22, or 60.0\n",
    "    - 0xFp-2 //means 15 x $2^{-2}$ or 3.75"
   ]
  },
  {
   "cell_type": "markdown",
   "metadata": {},
   "source": [
    "- 부동 소수점 문자 표현\n",
    "    - let decimalDouble = 12.1875\n",
    "    - let expinentDouble = 1.21875e1\n",
    "    - let hexadecimalDouble = 0xc.3p0"
   ]
  },
  {
   "cell_type": "markdown",
   "metadata": {},
   "source": [
    "- 언더 바(_)를 넣어 일기 쉽게 문자 표현\n",
    "    - let paddedDouble = 000123.456\n",
    "    - let oneMillion = 1_000_000\n",
    "    - let justOverOneMillion = 1_000_000.000_000_1"
   ]
  },
  {
   "cell_type": "markdown",
   "metadata": {},
   "source": [
    "# Type Aliases (형 별칭)\n",
    "- type 이름을 대체하여 다른 이름으로 정의\n",
    "#### typealias"
   ]
  },
  {
   "cell_type": "markdown",
   "metadata": {},
   "source": [
    "```\n",
    "typealias NameSample = UInt16\n",
    "\n",
    "var maxName = NameSample.min\n",
    "// maxName is now 0\n",
    "```"
   ]
  },
  {
   "cell_type": "markdown",
   "metadata": {},
   "source": [
    "# Booleans(논리 값)\n",
    "- Boolean 은 true, false 두가지 상수 값\n",
    "\n",
    "```\n",
    "let suaIsLoveKwangJun = true\n",
    "let sheDontLikeMe = false\n",
    "```"
   ]
  },
  {
   "cell_type": "markdown",
   "metadata": {},
   "source": [
    "# Tuples(튜플)\n",
    "- 여러 값들을 하나의 통합적인 값으로 묶음\n",
    "- 튜플에 있는 값들은 어떤 타입이라도 가능\n",
    "\n",
    "```\n",
    "let herBirthday = (430, \"I'm always remember that day\")\n",
    "// herBirthday is of type (Int, String), and equals (430,\"I'm always remember that day\")\n",
    "```\n",
    "- (430, \"I'm always remember that day\")는 Int 값, String 값을 서로 묶은 것"
   ]
  },
  {
   "cell_type": "markdown",
   "metadata": {},
   "source": [
    "#### 튜플의 각 값은 상수나 변수로 분해하여 사용이 가능"
   ]
  },
  {
   "cell_type": "markdown",
   "metadata": {},
   "source": [
    "```\n",
    "let (theDay, cantForget) = herBirthday\n",
    "println(\"I can't forget the number,\\(theDay)\")\n",
    "// prints \"I can't forget the number,430\"\n",
    "\n",
    "println(\"How can I forget, \\(cantForget)\")\n",
    "// prints \"How can I forget, I'm always remember that day\"\n",
    "```"
   ]
  },
  {
   "cell_type": "markdown",
   "metadata": {},
   "source": [
    "#### 튜플 값 중에 몇 개만 필요하다면 무시할 부분에 밑줄(_)을 사용하면 된다"
   ]
  },
  {
   "cell_type": "markdown",
   "metadata": {},
   "source": [
    "```\n",
    "let (_,justTheCantForget) = herBirthday\n",
    "println(\"Do you know Su-A's B-day Jun??,\\(justTheCantForget)\")\n",
    "// prints \"Do you know Su-A's B-day Jun??, I'm always remember that day \"\n",
    "```"
   ]
  },
  {
   "cell_type": "markdown",
   "metadata": {},
   "source": [
    "#### 0번 부터 시작하는 index 번호를 통해 각각의 튜플 요소를 접근 가능"
   ]
  },
  {
   "cell_type": "markdown",
   "metadata": {},
   "source": [
    "```\n",
    "println(\"number of her B-day,\\(herBirthday.0)\")\n",
    "// prints \"number of her B-day,430\"\n",
    "\n",
    "println(\"Su-A, I want somthing to tell u,\\(herBirthday.1)\")\n",
    "// prints \"Su-A, I want somthing to tell u, I'm always remember that day\"\n",
    "```"
   ]
  },
  {
   "cell_type": "markdown",
   "metadata": {},
   "source": [
    "#### 튜플에 각 요소둘에 명명할 수 있음"
   ]
  },
  {
   "cell_type": "markdown",
   "metadata": {},
   "source": [
    "```\n",
    "let http200Status = (statusCode: 200, description: \"OK\")\n",
    "\n",
    "println(\"The status code is \\(http200Status.statusCode)\")\n",
    "// prints \"The status code is 200\"\n",
    "\n",
    "println(\"The status message is \\(http200Status.description)\")\n",
    "// prints \"The status message is OK\"\n",
    "```"
   ]
  },
  {
   "cell_type": "markdown",
   "metadata": {},
   "source": [
    "- 튜플을 연관성 있는 값들을 묶는데 유용, 하지만 복잡한 자료구조에는 맞지 않음"
   ]
  },
  {
   "cell_type": "markdown",
   "metadata": {},
   "source": [
    "# Optionals(옵셔널)\n",
    "- 옵셔널은 값이 없을 수도 있는 상황에 사용됨\n",
    "    - 값이 있거나 값이 아예 없는 상황\n",
    "    - 값이 있다면 상관없지만 값이 없다면 nil을 가짐"
   ]
  },
  {
   "cell_type": "markdown",
   "metadata": {},
   "source": [
    "```\n",
    "let str = \"Hello, baby!\"\n",
    "let convertedStr = str.toInt()\n",
    "println(\"\\(convertedStr)\")\n",
    "// toInt는 Int? 타입의 영향을 주기 때문에 convertedStr는 옵셔널 타입을 가지게 됨\n",
    "// prints \"nil\"\n",
    "\n",
    "let possibleNumber = \"123\"\n",
    "let convertedNumber = possibleNumber.toInt()\n",
    "// prints \"123\"\n",
    "```"
   ]
  },
  {
   "cell_type": "markdown",
   "metadata": {},
   "source": [
    "- 또한, 옵셔널 타입인 경우 nil값을 할당하여 사용할 수 있다\n",
    "\n",
    "```\n",
    "var serverResponseCode: Int? = 404\n",
    "// serverResponseCode contains an actual Int value of 404\n",
    "\n",
    "serverResponseCode = nil\n",
    "// serverResponseCode now contain no value\n",
    "```"
   ]
  },
  {
   "cell_type": "markdown",
   "metadata": {},
   "source": [
    "- 변수 선언시 옵셔널 타입이지만 값을 할당하지 않은 경우 nil 값을 자동으로 설정한다\n",
    "```\n",
    "var yourName: String?\n",
    "// yourName is automatically set to nil\n",
    "```"
   ]
  },
  {
   "cell_type": "markdown",
   "metadata": {},
   "source": [
    "# if Statements and Forced Unwrapping(if 조건문과 언래핑)\n",
    "- if 조건문에서 옵셔널이 값을 가지고 있는지 판단하기 위해 nil과 비교할 수 있다\n",
    "- 옵셔널이 값을 가지고 있다면 nil과 같지 않음"
   ]
  },
  {
   "cell_type": "markdown",
   "metadata": {},
   "source": [
    "```\n",
    "if convertedNumber != nil{\n",
    "    println(\"convertedNumber contains some integer\")\n",
    "}\n",
    "// prints  \"convertedNumber contains some integer value\"\n",
    "```"
   ]
  },
  {
   "cell_type": "markdown",
   "metadata": {},
   "source": [
    "- 옵셔널이 반드시 값을 가지고 있다고 확신하면 느낌표(!)를 옵셔널 이름 끝에 추가\n",
    "- 느낌표(!)는 옵셔널에 값이 반드시 있고, 없으면 Error가 발생함\n",
    "\n",
    "```\n",
    "var cabBeNil: Int?\n",
    "println(cabBeNil)\n",
    "//Compile is OK\n",
    "\n",
    "println(cabBeNil!)\n",
    "//Error,canBeNil is no value\n",
    "```"
   ]
  },
  {
   "cell_type": "markdown",
   "metadata": {},
   "source": [
    "# Optional Binding (옵셔널 바인딩)\n",
    "- 옵셔널 바인딩은 값이 가지고 있는지를 찾고 임시 상수나 변수에 담아 사용할 수 있도록 함\n",
    "- if와 while문에서 옵셔널 값이 있는지를 확인\n",
    "- 상수나 변수로부터 값을 가져와 if와 while문에 한번 사용하기 위함"
   ]
  },
  {
   "cell_type": "markdown",
   "metadata": {},
   "source": [
    "#### 옵셔널 바인딩은 다음과 같은 형태이다\n",
    "```\n",
    "if let constantName = someOptional {\n",
    "    statements\n",
    "}\n",
    "```"
   ]
  },
  {
   "cell_type": "markdown",
   "metadata": {},
   "source": [
    "#### 옵셔널 바인딩 예제\n",
    "```\n",
    "if let actualNumber = possibleNumber.toInt(){\n",
    "    println(\"\\(possibleNumber) has and integer value of \\(actualNumber)\")\n",
    "}else{\n",
    "    println(\"\\(possibleNumber) could not be converted to an integer\")\n",
    "}\n",
    "```"
   ]
  },
  {
   "cell_type": "markdown",
   "metadata": {},
   "source": [
    "# Implicitly Unwrapped Optionals(절대적인 언래핑된 옵셔널)\n",
    "- 옵셔널은 상수나 변수가 값을 가지고 있지 않음을 허용하는 것이고 if문을 통해 값이 있는지 옵셔널 바인딩을 통해 접근\n",
    "- 옵셔널에서 항상 값을 가지고 있도록 하는 것을 절대적인 언래핑된 옵셔널(Implicitly Unwrapped Optionals)라고 한다\n",
    "- 이 옵셔널은 접근할 때 마다 항상 값이 있는지 확인할 필요가 없다\n",
    "- 기존 옵셔널에 물음표(?) 대신하여 느낌표(!)를 사용\n",
    "    - 변수 또는 상수 뒤에 느낌표(!)를 사용하여 절대적인 언래핑된 옵셔널을 사용한다는 것을 나타냄"
   ]
  },
  {
   "cell_type": "markdown",
   "metadata": {},
   "source": [
    "#### 초기값 설정\n",
    "```\n",
    "let possibleString: String? = \"An optional string.\"\n",
    "let forcedString: String =  possibleString! //requires an exclamation mark\n",
    "    \n",
    "let assumedString: String! = \"An imlicitly unwrapped optional string\"\n",
    "let implicitString: String = assumedString // no need for an exclamation mark  \n",
    "```"
   ]
  },
  {
   "cell_type": "markdown",
   "metadata": {},
   "source": [
    "#### 절대적인 언래핑된 옵셔널과 일반적인 옵셔널 조건문\n",
    "```\n",
    "if possibleString != nil {} // It's OK.\n",
    "if possibleString {} // Error, possibleString is nomal Optional\n",
    "\n",
    "if assumedString {} // It's OK, assumedString is Implicitly Unwrapped Optional\n",
    "```"
   ]
  },
  {
   "cell_type": "markdown",
   "metadata": {},
   "source": [
    "#### 일반적인 옵셔널에서 초기 값을 설정하지 않은 상태에서 출력하고자 할때 절대적인 언래핑된 옵셔널을 이용하여 ERROR을 확인 가능\n",
    "```\n",
    "let printStr: String?\n",
    "println(printSrt!) // Error\n",
    "\n",
    "var printStr1: String?\n",
    "printStr1 = \"1111\"\n",
    "println(printStr1!) // It's OK\n",
    "```"
   ]
  },
  {
   "cell_type": "markdown",
   "metadata": {},
   "source": [
    "# Assertions"
   ]
  },
  {
   "cell_type": "markdown",
   "metadata": {},
   "source": [
    "- 디버깅 환경에서 Assertion이 발생한다면 어디에서 올바르지 않은 상태를 확인할 수 있으며, 앱 상태를 확인 할 수 있음\n",
    "- assert 함수를 통해 true와 false를 확인하여 false일 때 출력할 메세지를 보여줄 수 있음\n",
    "\n",
    "```\n",
    "let age = -3\n",
    "assert(age >= 0, \"A person's age cannot be less than zero\")\n",
    "// this cause the assertion to trigger, because age is not >= 0\n",
    "\n",
    "assert(age >= 0)\n",
    "```"
   ]
  }
 ],
 "metadata": {
  "kernelspec": {
   "display_name": "Python 3",
   "language": "python",
   "name": "python3"
  },
  "language_info": {
   "codemirror_mode": {
    "name": "ipython",
    "version": 3
   },
   "file_extension": ".py",
   "mimetype": "text/x-python",
   "name": "python",
   "nbconvert_exporter": "python",
   "pygments_lexer": "ipython3",
   "version": "3.7.1"
  }
 },
 "nbformat": 4,
 "nbformat_minor": 2
}
