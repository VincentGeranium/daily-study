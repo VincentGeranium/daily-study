{
 "cells": [
  {
   "cell_type": "markdown",
   "metadata": {},
   "source": [
    "# 1. 아웃렛 변수와 액션 함수에서 시용된 문법"
   ]
  },
  {
   "cell_type": "markdown",
   "metadata": {},
   "source": [
    "## Outlet Variable(아웃렛 변수)와 Action Function(액션 함수) 각각 어떤 경우에 사용 할까??"
   ]
  },
  {
   "cell_type": "markdown",
   "metadata": {},
   "source": [
    "1. Outlet Variable\n",
    "    - 객체에 대한 속성을 지정할 때\n",
    "2. Action Function\n",
    "    - 객체에 이벤트를 넣고 싶을 때"
   ]
  },
  {
   "cell_type": "markdown",
   "metadata": {},
   "source": [
    "### Outlet Variable를 추가하는 소스"
   ]
  },
  {
   "cell_type": "markdown",
   "metadata": {},
   "source": [
    "#### Ex) @IBOutlet var lblHello: UILable!"
   ]
  },
  {
   "cell_type": "markdown",
   "metadata": {},
   "source": [
    "#### 1. @IBOutlet\n",
    "- @IBOutlet으로 정의된 변수를 아웃렛 변수라 부른다\n",
    "- IB는 Interface Builder의 약자\n",
    "- @IB로 시작되는 변수나 함수는 Interface Builder에 관련된 변수나 함수라는 것을 의미\n",
    "- @IBOutlet은 객체를 소스 코드에서 참조하기 위해 사용하는 키워드\n",
    "- 주로 색상, 크기, 모양, 선의 두깨, 택스트 내용 등 객체의 속성을 제어하는 데 사용함"
   ]
  },
  {
   "cell_type": "markdown",
   "metadata": {},
   "source": [
    "#### 2. var lblHello\n",
    "- 변수를 선언할 때는 var 키워드를 사용\n",
    "- 변수를 선언하는 var 뒤에 아웃렛 변수의 이름을 입력하여 변수를 선언\n",
    "    - 예제에서는 lblHello가 변수의 이름"
   ]
  },
  {
   "cell_type": "markdown",
   "metadata": {},
   "source": [
    "#### 3. UILable!\n",
    "- 선언하고자하는 변수의 타입을 나타낸다\n",
    "    - 위 예제에서는 레이블 객체에 대한 변수를 선언하는 것이므로 UILable 클래스 타입을 선택\n",
    "    - 여기서 UILable에서 UI는 User Interface를 의미함"
   ]
  },
  {
   "cell_type": "markdown",
   "metadata": {},
   "source": [
    "#### 4. strong/weak\n",
    "- 아웃렛 변수를 추가할 때 나타나는 팝업 창의 Storage라는 항목에서 둘 중 하나 선택 가능\n",
    "- 이 두 가지는 메모리 회수정책을 나타내는 키워드\n",
    "- 일반적으로 객체 참조 위한 아웃렛 변수는 strong를 사용\n",
    "- weak로 아웃렛 변수 선언시\n",
    "    - 변수 정의 앞에 weak도 추가 됨, strong는 아무런 키워드도 추가 되지 않음"
   ]
  },
  {
   "cell_type": "markdown",
   "metadata": {},
   "source": [
    "#### EX\n",
    "- @IBOutlet var lblHello: UILable! = strong으로 선언\n",
    "- @IBOutlet weak var lblHello: UILable! = weak으로 선언"
   ]
  },
  {
   "cell_type": "code",
   "execution_count": null,
   "metadata": {},
   "outputs": [],
   "source": []
  }
 ],
 "metadata": {
  "kernelspec": {
   "display_name": "Python 3",
   "language": "python",
   "name": "python3"
  },
  "language_info": {
   "codemirror_mode": {
    "name": "ipython",
    "version": 3
   },
   "file_extension": ".py",
   "mimetype": "text/x-python",
   "name": "python",
   "nbconvert_exporter": "python",
   "pygments_lexer": "ipython3",
   "version": "3.7.1"
  }
 },
 "nbformat": 4,
 "nbformat_minor": 2
}
