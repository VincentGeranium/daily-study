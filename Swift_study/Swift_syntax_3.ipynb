{
 "cells": [
  {
   "cell_type": "markdown",
   "metadata": {},
   "source": [
    "# 1. 아웃렛 변수와 액션 함수에서 시용된 문법"
   ]
  },
  {
   "cell_type": "markdown",
   "metadata": {},
   "source": [
    "## Outlet Variable(아웃렛 변수)와 Action Function(액션 함수) 각각 어떤 경우에 사용 할까??"
   ]
  },
  {
   "cell_type": "markdown",
   "metadata": {},
   "source": [
    "1. Outlet Variable\n",
    "    - 객체에 대한 속성을 지정할 때\n",
    "2. Action Function\n",
    "    - 객체에 이벤트를 넣고 싶을 때"
   ]
  },
  {
   "cell_type": "markdown",
   "metadata": {},
   "source": [
    "### Outlet Variable를 추가하는 소스"
   ]
  },
  {
   "cell_type": "markdown",
   "metadata": {},
   "source": [
    "#### Ex) @IBOutlet var lblHello: UILable!"
   ]
  },
  {
   "cell_type": "markdown",
   "metadata": {},
   "source": [
    "#### 1. @IBOutlet\n",
    "- @IBOutlet으로 정의된 변수를 아웃렛 변수라 부른다\n",
    "- IB는 Interface Builder의 약자\n",
    "- @IB로 시작되는 변수나 함수는 Interface Builder에 관련된 변수나 함수라는 것을 의미\n",
    "- @IBOutlet은 객체를 소스 코드에서 참조하기 위해 사용하는 키워드\n",
    "- 주로 색상, 크기, 모양, 선의 두깨, 택스트 내용 등 객체의 속성을 제어하는 데 사용함"
   ]
  },
  {
   "cell_type": "markdown",
   "metadata": {},
   "source": [
    "#### 2. var lblHello\n",
    "- 변수를 선언할 때는 var 키워드를 사용\n",
    "- 변수를 선언하는 var 뒤에 아웃렛 변수의 이름을 입력하여 변수를 선언\n",
    "    - 예제에서는 lblHello가 변수의 이름"
   ]
  },
  {
   "cell_type": "markdown",
   "metadata": {},
   "source": [
    "#### 3. UILable!\n",
    "- 선언하고자하는 변수의 타입을 나타낸다\n",
    "    - 위 예제에서는 레이블 객체에 대한 변수를 선언하는 것이므로 UILable 클래스 타입을 선택\n",
    "    - 여기서 UILable에서 UI는 User Interface를 의미함"
   ]
  },
  {
   "cell_type": "markdown",
   "metadata": {},
   "source": [
    "#### 4. strong/weak\n",
    "- 아웃렛 변수를 추가할 때 나타나는 팝업 창의 Storage라는 항목에서 둘 중 하나 선택 가능\n",
    "- 이 두 가지는 메모리 회수정책을 나타내는 키워드\n",
    "- 일반적으로 객체 참조 위한 아웃렛 변수는 strong를 사용\n",
    "- weak로 아웃렛 변수 선언시\n",
    "    - 변수 정의 앞에 weak도 추가 됨, strong는 아무런 키워드도 추가 되지 않음"
   ]
  },
  {
   "cell_type": "markdown",
   "metadata": {},
   "source": [
    "#### EX\n",
    "- @IBOutlet var lblHello: UILable! = strong으로 선언\n",
    "- @IBOutlet weak var lblHello: UILable! = weak으로 선언"
   ]
  },
  {
   "cell_type": "markdown",
   "metadata": {},
   "source": [
    "- strong으로 선언된 변수는 다른 곳에서 참조하고 있을 경우 메모리에서 제거되지 않는다\n",
    "- weak로 선언된 변수는 다른 곳에서 참조하고 있더라도 시스템이 임의적으로 메모리에서 제거할 수 있다"
   ]
  },
  {
   "cell_type": "markdown",
   "metadata": {},
   "source": [
    "#### 왜 이런 두 가지 메모리 회수 정책을 사용할까?"
   ]
  },
  {
   "cell_type": "markdown",
   "metadata": {},
   "source": [
    "- 메모리 관리 이슈 때문이다.\n",
    "- strong으로 선언된 변수들끼리 상호 참조하는 일이 생길 경우에는 앱이 종료되기 전까지는 메모리에서 제거되지 않기 때문에 메모리 누수가 발생한다\n",
    "    - 이 경우 어느 한 변수 또는 모든 변수를 weak로 지정하면 시스템에서 임의로 제거할 수 있으므로 상호 참조할 때에도 사용하지 않을 경우에는 메모리가 삭제 될 수 있다"
   ]
  },
  {
   "cell_type": "markdown",
   "metadata": {},
   "source": [
    "### Action Function을 추가하는 소스 분석"
   ]
  },
  {
   "cell_type": "markdown",
   "metadata": {},
   "source": [
    "```\n",
    "EX) @IBAction func btnSend(_sender: UIButton){\n",
    "    lblHello.text = \"Hello, \" + txtName.text!\n",
    "}\n",
    "```"
   ]
  },
  {
   "cell_type": "markdown",
   "metadata": {},
   "source": [
    "#### 1. @IBAction\n",
    "- 객체의 이벤트를 제어하기 위해 사용하는 키워드\n",
    "- @IBAction으로 정의된 함수를 액션 함수라 부른다\n",
    "- 버튼을 누르거나 피커가 선택되는 등, 특정 객체에서 원하는 이벤트가 발생했을 때 정해진 작업을 실행하기 위해 사용"
   ]
  },
  {
   "cell_type": "markdown",
   "metadata": {},
   "source": [
    "#### 2. func btnSend\n",
    "- 함수를 선언할 때 func 키워드를 사용해서 선언\n",
    "- 함수를 선언하는 func 뒤에 액션 함수의 이름 btnSend를 입력하여 액션 함수를 선언"
   ]
  },
  {
   "cell_type": "markdown",
   "metadata": {},
   "source": [
    "#### 3. (_ sender: UIButton)\n",
    "- 액션 함수가 실행되도록 이벤트를 보내는 객체\n",
    "    - 여기서는 버튼 객체에서 이벤트가 발생했을 때 해당 액션 함수를 실행시킬 것이므로 UIButton 클래스 타입을 선택"
   ]
  },
  {
   "cell_type": "markdown",
   "metadata": {},
   "source": [
    "#### 4. lblHello.text\n",
    "- 레이블 객체가 가지고 있는 속성 중 텍스트 내용을 의미하는 속성"
   ]
  },
  {
   "cell_type": "markdown",
   "metadata": {},
   "source": [
    "#### 5. =\n",
    "- '같다'는 의미가 아니라 레이블의 텍스트 속성 .text에 뒤의 내용을 대입한다는 의미"
   ]
  },
  {
   "cell_type": "markdown",
   "metadata": {},
   "source": [
    "#### 6. \"Hello, \"\n",
    "- 쌍따옴표(\", \")안에 들어간 문구를 그대로 문자열로 사용"
   ]
  },
  {
   "cell_type": "markdown",
   "metadata": {},
   "source": [
    "#### 7. +\n",
    "- '더하기'를 의미하는 것이 아니라 앞의 문자열과 뒤의 문자열을 합한다는 의미"
   ]
  },
  {
   "cell_type": "markdown",
   "metadata": {},
   "source": [
    "#### 8. txtName.text!\n",
    "- 텍스트필드 객체가 가지고 있는 속성 중 텍스트 내용을 의미하는 속성\n",
    "- 끝에 붙는 !는 옵셔널 변수의 강제 언래핑을 의미함"
   ]
  },
  {
   "cell_type": "code",
   "execution_count": null,
   "metadata": {},
   "outputs": [],
   "source": []
  }
 ],
 "metadata": {
  "kernelspec": {
   "display_name": "Python 3",
   "language": "python",
   "name": "python3"
  },
  "language_info": {
   "codemirror_mode": {
    "name": "ipython",
    "version": 3
   },
   "file_extension": ".py",
   "mimetype": "text/x-python",
   "name": "python",
   "nbconvert_exporter": "python",
   "pygments_lexer": "ipython3",
   "version": "3.7.1"
  }
 },
 "nbformat": 4,
 "nbformat_minor": 2
}
