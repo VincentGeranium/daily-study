{
 "cells": [
  {
   "cell_type": "markdown",
   "metadata": {},
   "source": [
    "# 흐름 제어 구문\n",
    "## 코드의 활용성을 높여주는 도구들\n",
    "## 조건문"
   ]
  },
  {
   "cell_type": "markdown",
   "metadata": {},
   "source": [
    "### #available 구문\n",
    "- 앱을 개발하다 보면 기기의 OS 버전별로 구문을 나누어 작성해야 할 때가 종종 있다.\n",
    "    - 사용하고자 하는 기능이 OS 버전에 따라 다르게 제공되거나 하위 버전에서는 지원되지 않는 것이 가장 큰 원인이다.\n",
    "    - 보통 현업에서는 \"API가 버전을 탄다\"라고 표현하기도 한다.\n",
    "- 애플에서 제공하는 코코아 터치 프레임워크의 주요 API들은 대부분 iOS 버전이 업그레이트될 때마다 개량을 거듭해온 것이어서 iOS 버전에 따라 종종 사용이 제한된다\n",
    "    - 따라서 특정 API를 사용할 때에는 애플 개발자용 API 문서를 확인해서 사용 가능한 OS 버전과 기기를 체크해야 한다"
   ]
  },
  {
   "cell_type": "markdown",
   "metadata": {},
   "source": [
    "- 아이폰이나 아이패드가 외부에서 URL 데이터를 요청하기 위해 사용하는 NSURLRequest 객체의 API정보를 나타낸 문서가 있다\n",
    "    - #### NSURLRequest는 주로 서버에서 웹 API를 호출하거나 웹 페이지를 읽어오기 위한 목적으로 파운데이션 프레임워크에서 제공하는 객체이다\n",
    "        - #### 이런 객체를 사용하는 방법을 API라고 한다\n",
    "        - NSURLRequest 문서는 현재 initWithURL이라는 메소드를 사용하는 방법을 설명하고 있다\n",
    "            - 나열된 여러 항목을 차례로 살펴보면 이 메소드를 Swift와 Objective-C 각각의 코드로 호출하는 예시 구문과 메소드를 호출할 때 사용해야 할 인자값, 메소드의 반환값 등에 대해 이어서 설명하고 있다."
   ]
  },
  {
   "cell_type": "markdown",
   "metadata": {},
   "source": [
    "- 주목해야 할 부분은 Availability 항목이다\n",
    "    - 이 항목은 메소드를 사용할 수 있는 OS 버전을 알려주는 역활을 한다\n",
    "    - 문서에 따르면 이 메소드는 OS X 운영 체제의 버전 10.2 이후로 사용할 수 있다.\n",
    "        - 10.2 버전보다 하위 버전을 사용하는 기기에서는 이 메소드를 사용한 프로그램을 실행할 때 오류가 발생한다는 뜻이다."
   ]
  },
  {
   "cell_type": "markdown",
   "metadata": {},
   "source": [
    "- #### 최신 OS 버전에서만 지원되는 코드를 사용할 때에는 반드시 그보다 하위 버전의 OS를 사용하는 사용자를 고려해야 한다.\n",
    "- #### 다시말해, OS 버전별로 구문을 달리 작성해 주어야 한다는 뜻이다.\n",
    "#### 이처럼 OS 버전별로 구문을 분리해야 할 때 #available 구문을 사용한다"
   ]
  },
  {
   "cell_type": "markdown",
   "metadata": {},
   "source": [
    "- #### #available 구문은 스위프트 2 버전부터 지원하기 시작한 구문이다\n",
    "\n",
    "- #### 그 이전에는 OS 버전을 추출하는 API를 직접 호출하여 OS버전에 대한 값을 얻고, 이를 조건문에서 비교 처리하는 방식으로 버전별 구문을 분리해야 했다\n",
    "    \n",
    "    - 예시\n",
    "    \n",
    "    ```\n",
    "    import UIKit\n",
    "    \n",
    "    if(UIDevice.current().systemVersion.hasPrefix(\"9\")) {\n",
    "        // iOS 9 버전에서 지원하는 구문\n",
    "    } else if (UIDevice.current().systemVersion.hasPrefix(\"8\")) {\n",
    "        // iOS 8 버전에서 지원하는 구문\n",
    "    } else if (UIDevice.current().systemVersion.hasPrefix(\"7\")) {\n",
    "        // iOS 7 버전에서 지원하는 구문\n",
    "    } else {\n",
    "        // 기타 나머지 버전에서 지원하는 구문\n",
    "    }\n",
    "    ```"
   ]
  },
  {
   "cell_type": "markdown",
   "metadata": {},
   "source": [
    "- 이 방식에 크게 문제가 있었던 것은 아니지만, 버전을 직접 비교하는 것이 아니라 버전의 문자열을 비교해야 하므로 비교의 한계가 있었던 것 또한 사실이다.\n",
    "- #### #available 구문을 사용하여 처리하면 보다 간결하면서 직접적으로 OS 버전별 구문을 분리할 수 있다.\n",
    "\n",
    "#### #available 구문을 사용하는 형식\n",
    "\n",
    "```\n",
    "if #available(<플랫폼이름 버전>, <...>, <*>) {\n",
    "    <해당 버전에서 사용할 수 있는 API 구문>\n",
    "} else {\n",
    "    <API를 사용할 수 없는 환경에 대한 처리>\n",
    "}\n",
    "```"
   ]
  },
  {
   "cell_type": "markdown",
   "metadata": {},
   "source": [
    "- #### #available 구문을 사용할 때에는 호출 연산자()를 통해 \"플랫폼 이름과 버전 등의 인자값을 입력\"할 수 있는데, 이때 \"플랫폼 이름과 버전 사이\"는 \"공백으로 구분\"한다.\n",
    "- #available 구문의 인자값은 가변 인자로 정의되어 있기 때문에 입력 개수의 제한이 없다\n",
    "    - #### 따라서 쉼표로만 구분하여 플랫폼 이름과 OS 버전을 계속 나열하면 된다.\n",
    "    - #### 버전값의 나열이 끝나면 마지막은 * 로 마감하여 인자값 입력이 모두 끝났음을 선언하고 괄호를 닫아주면 끝난다."
   ]
  },
  {
   "cell_type": "markdown",
   "metadata": {},
   "source": [
    "#### #available 구문을 실제로 적용한 예제\n",
    "- 이 구문은 실행 중인 기기의 버전을 체크하고 입력된 버전들과 비교하여 true나 false 형태의 결과를 반환 \n",
    "    - 따라서 if 구문이나 guard 구문 등 조건식을 사용하는 분기문에 넣어 사용하면 좋다\n",
    "    \n",
    "    ```\n",
    "    if #avaliable(iOS 9, OSX 10.10, watchOS 1, *) {\n",
    "        // iOS 9용 API 구문 또는 OS X 10.10용 API 구문, watchOS 1용 API 구문\n",
    "    } else {\n",
    "        // API를 사용하지 못했을 때에 대한 살패 처리\n",
    "    }\n",
    "    ```\n",
    "    \n",
    "#### #available 구문을 사용할 만한 플랫폼은 현재 다음 네 가지가 거의 전부이다.\n",
    "- 1. 아이폰, 아이패드 등 터치 기반 스마트 기기\n",
    "- 2. 맥 컴퓨터에 사용되는 OSX\n",
    "- 3. 애플 시계에 사용되는 watchOS\n",
    "- 4. 애플 TV에 사용되는 tvOS"
   ]
  }
 ],
 "metadata": {
  "kernelspec": {
   "display_name": "Python 3",
   "language": "python",
   "name": "python3"
  },
  "language_info": {
   "codemirror_mode": {
    "name": "ipython",
    "version": 3
   },
   "file_extension": ".py",
   "mimetype": "text/x-python",
   "name": "python",
   "nbconvert_exporter": "python",
   "pygments_lexer": "ipython3",
   "version": "3.7.1"
  }
 },
 "nbformat": 4,
 "nbformat_minor": 2
}
