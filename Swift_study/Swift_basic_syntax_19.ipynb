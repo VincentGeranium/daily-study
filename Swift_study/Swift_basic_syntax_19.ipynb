{
 "cells": [
  {
   "cell_type": "markdown",
   "metadata": {},
   "source": [
    "# 집단 자료형\n",
    "## 연관된 데이터를 손쉽게 다루기\n",
    "### 배열 아이템 동적 추가\n",
    "- #### 필요에 따라 배열의 아이템을 동적으로 할당하는 방법\n",
    "    - #### 배열에 동적으로 아이템을 추가할 때에는 메소드를 사용\n",
    "    - #### 기능에 따라 다양한 메소드가 있다\n",
    "    \n",
    "#### 대표적인 배열 아이템 동적 추가 메소드\n",
    "- #### 1. append(_:)\n",
    "- #### 2. insert(_:at:)\n",
    "- #### 3. append(contentsOf:)"
   ]
  },
  {
   "cell_type": "markdown",
   "metadata": {},
   "source": [
    "### 1. append(_:)\n",
    "- #### append(_:) 메소드는 입력된 값을 배열의 맨 뒤에 추가\n",
    "- #### 일반적으로 배열에서 존재하지 않는 인덱스에 접근하면 오류가 발생\n",
    "    - #### 그러므로 이 메소드는 아이템 추가 전에 먼저 배열의 크기를 +1 만큼 확장하여 인덱스 공간 확보 후, 인자값을 마지막 인덱스 위치에 추가"
   ]
  },
  {
   "cell_type": "markdown",
   "metadata": {},
   "source": [
    "### 2. insert(_:at:)\n",
    "- #### insert(_:at:) 메소드는 아이템을 배열의 맨 뒤가 아닌 \"원하는 위치에 직접 추가\"\n",
    "- #### at: 뒤에 입력되는 정수값은 배열에서 아이템이 추가될 인덱스 위치를 의미한다\n",
    "    - #### 이 인덱스에 새로운 값이 추가되면 이를 기준으로 하여 나머지 인덱스들은 하나씩 다음으로 밀려나는 결과를 가져온다"
   ]
  },
  {
   "cell_type": "markdown",
   "metadata": {},
   "source": [
    "### 3. append(contentsOf:)\n",
    "- #### append(_:) 메소드처럼 배열의 맨 마지막에 아이템을 추가\n",
    "- #### 개별 아이템이 아니라 \"여러 개의 아이템\"을 \"배열에 한꺼번에 추가하는 메소드\"\n",
    "    - #### 이를 위해 메소드의 인자값은 항상 배열이어야 한다"
   ]
  },
  {
   "cell_type": "markdown",
   "metadata": {},
   "source": [
    "### 위 3가지 메소드를 이용하여 배열 아이템 동적 추가\n",
    "- #### 문자열을 아이템으로 갖는 배열 선언 및 초기화\n",
    "\n",
    "```\n",
    "var cities = [String]() // [ ]\n",
    "\n",
    "cities.append(\"Seoul\") // [\"Seoul\"]\n",
    "cities.append(\"New York\") // [\"Seoul\" , \"New York\"]\n",
    "cities.insert(\"Tokyo\", at: 1)// [\"Seoul\" , \"Tokyo\" , \"New York\"]\n",
    "cities.append(contentOf: [\"Dubai\" , \"Toronto\"]) // [\"Seoul\" , \"Tokyo\" , \"New York\" , \"Dubai\" , \"Sydney\"]\n",
    "```"
   ]
  },
  {
   "cell_type": "markdown",
   "metadata": {},
   "source": [
    "#### 예제를 통해 아이템이 추가된 배열 cities는 다음과 같은 아이템 및 인덱스 순서로 구성된다\n",
    "\n",
    "```\n",
    "0 \"Seoul\"\n",
    "1 \"Tokyo\"\n",
    "2 \"New York\"\n",
    "3 \"Dubai\"\n",
    "4 \"Sydney\"\n",
    "```"
   ]
  },
  {
   "cell_type": "markdown",
   "metadata": {},
   "source": [
    "- #### 입력된 배열값을 \"변경\"하고 싶을 때는 \"배열의 인덱스를 이용\"하여 \"변경할 값을 직접 대입\"하면 된다\n",
    "    - #### \"인덱스에 직접 할당된 값\"은 \"배열의 크기를 늘리지 않고 기존 인덱스에 연결된 아이템을 교체하는 방식\"으로 수정이 이루어진다.\n",
    "\n",
    "```\n",
    "cities[2] = \"Madrid\"\n",
    "```\n",
    "\n",
    "- 배열 아이템의 수정 결과\n",
    "\n",
    "```\n",
    "0 \"Seoul\"\n",
    "1 \"Tokyo\"\n",
    "2 \"Madrid\"\n",
    "3 \"Dubai\"\n",
    "4 \"Sydney\"\n",
    "```"
   ]
  },
  {
   "cell_type": "markdown",
   "metadata": {},
   "source": [
    "#### 수정할 값을 직접 대입하는 방법으로 기존의 값을 변경할 수 있다면, 처음부터 이렇게 값을 입력할 수는 없을까??\n",
    "\n",
    "```\n",
    "var cities = [String]() // 배열 선언 및 초기화\n",
    "\n",
    "cities[0] = \"Seoul\"\n",
    "cities[1] = \"Tokyo\"\n",
    "cities[2] = \"Mardrid\"\n",
    "cities[3] = \"Dubai\"\n",
    "cities[4] = \"Sydney\"\n",
    "```"
   ]
  },
  {
   "cell_type": "markdown",
   "metadata": {},
   "source": [
    "### 배열의 인덱스를 이용하여 직접 아이템에 접근하는 이 방식으로 기존에 있는 값을 수정할 수는 있지만, 값을 추가할 수는 없다"
   ]
  },
  {
   "cell_type": "markdown",
   "metadata": {},
   "source": [
    "#### 어떤 경우든지 배열의 인덱스를 직접 이용하여 아이템의 값을 할당하거나 수정하고, \n",
    "#### 읽어오는 것은 해당 배열에 그 인덱스가 이미 만들어져 있거나 그만큼의 인덱스가 확보된 경우로 제한된다."
   ]
  },
  {
   "cell_type": "markdown",
   "metadata": {},
   "source": [
    "- 즉, cities[0] = \"Seoul\" 구문을 사용하려면 cities 배열에 인덱스 0이 이미 만들어져 있어야 가능하다는 뜻\n",
    "- 마찬가지로 cities[3] = \"Dubai\"라고 배열에 직접 값을 할당하려면 배열의 3번 인덱스가 만들어져 있고, 그 안에 값이 저장되어 있어야 한다."
   ]
  },
  {
   "cell_type": "markdown",
   "metadata": {},
   "source": [
    "#### 그렇지 않을 경우 배열은 존재하지 않는 인덱스를 참조하려고 시도하고, 그 결과로 오류가 발생한다\n",
    "- #### \"잘못된 인덱스 참조로 인한 오류\""
   ]
  },
  {
   "cell_type": "markdown",
   "metadata": {},
   "source": [
    "### 배열의 인덱스를 직접 지정할 수 있는 입력 메소드인 insert(_:at:)\n",
    "- #### insert(_:at:) 메소드 역시 at 매개변수에 현재 존재하지 않는 인덱스 값을 넣으면 \"잘못된 배열 인덱스 참조로 인한 오류\"가 발생한다\n",
    "    - #### 단, 현재 배열에서 마지막 인덱스에 이어지는 다음 인덱스를 참조하는 것은 허용한다\n",
    "        - 내부적으로 배열의 크기를 +1 확장하여 새로운 인덱스를 만들어주기 때문이다."
   ]
  },
  {
   "cell_type": "markdown",
   "metadata": {},
   "source": [
    "```\n",
    "var cities = [String]() // 배열 선언 및 초기화\n",
    "\n",
    "cities.insert(\"Seoul\", at: 0) // 배열을 추가\n",
    "```\n",
    "\n",
    "- #### 배열의 인덱스에 직접 접근하려면 접근할 인덱스 공간이 미리 만들어져 있어야 한다\n",
    "    - #### \"배열의 길이가 늘어나면\" \"그만큼 인덱스도 자동으로 늘어나는 것\"이 \"스위프트에서 배열의 특징\"이다\n",
    "- #### 하지만 이렇게 하면 배열의 크기는 언제나 현재 입력된 값의 개수만큼만 생성된다\n",
    "    - 새로운 아이템을 직접 할당하기 위해 참조해야 할 인덱스는 아직 생성되어 있지 않은 상태.\n",
    "        - #### 이 때문에 오류가 발생한다.\n",
    "- #### 이처럼 배열의 크기를 동적으로 변경하는 방식으로 생성한 배열은 새로운 아이템을 추가할 목적으로 인덱스에 직접 접근할 수 없다"
   ]
  },
  {
   "cell_type": "markdown",
   "metadata": {},
   "source": [
    "#### 다만 코코아 터치 프레임워크를 살펴보면 배열을 생성하는 여러 가지 방법 중에서 초기화할 때 배열의 크기를 지정할 수 잇는 구문이 다음과 같이 정의되어 있다.\n",
    "\n",
    "```\n",
    "extension Array : RangeReplaceableCollection {\n",
    "    public init(repeating repeatedValue: Element, count: Int)\n",
    "}\n",
    "```\n",
    "\n",
    "- init는 객체를 생성할 때 사용하는 구문, 또는 형식이라는 의미로 사용\n",
    "    - 이때 두 개의 인자값이 사용된다\n",
    "        - 1. 배열의 크기만큼 생성된 인덱스 각각에 기본값으로 넣어줄 repeatedValue\n",
    "        - 2. 배열의 길이를 정해주는 count이다"
   ]
  },
  {
   "cell_type": "markdown",
   "metadata": {},
   "source": [
    "#### 이를 이용하여 배열을 생성하는 구문은 다음과 같다\n",
    "\n",
    "```\n",
    "var cities = Array(repeating: \"None\", count: 3)\n",
    "```\n",
    "\n",
    "#### Array 구조체는 [ ] 기호로 대체할 수 있으므로, 위 구문을 다음과 같이 바꾸어도 된다\n",
    "\n",
    "```\n",
    "var cities = [String](repeating: \"None\" , count: 3)\n",
    "```\n",
    "\n",
    "- 이와 같이 Array(repeating: count:) 구문을 이용하여 배열을 생성하면 지금까지 초기화했던 배열과 달리 배열의 인덱스가 개수만큼 미리 정의\n",
    "    - 여기에 기본값이 각각 추가된 상태로 배열이 만들어진다"
   ]
  },
  {
   "cell_type": "markdown",
   "metadata": {},
   "source": [
    "#### 배열의 크기가 3, 배열 아이템에는 \"None\"이라는 값이 기본값으로 입력된 위 구문의 결과\n",
    "    \n",
    "```\n",
    "0 \"None\"\n",
    "1 \"None\"\n",
    "2 \"None\"\n",
    "```\n",
    "\n",
    "- #### 이런 방식으로 생성된 배열은 입력된 크기만큼의 인덱스를 미리 확보하고 있으므로 필요할 때 배열의 원소에 직접 접근해서 값을 읽거나 할당하고 변경할 수 있다\n",
    "    - 물론 크기가 \"지정\"되었을 뿐이지, \"고정\"된 것은 아니다\n",
    "- #### 어디까지나 배열의 크기가 기본값으로 지정된 것뿐이므로 append(_:)나 insert(_:at:) 메소드를 사용하여 새로운 인덱스와 값을 추가하고 배열의 크기를 늘릴 수 있다"
   ]
  },
  {
   "cell_type": "markdown",
   "metadata": {},
   "source": [
    "### 주의할 점\n",
    "- #### 위와 같은 방법으로 인덱스 범위를 넉넉하게 확보해 놓았다 할지라도, 생성된 배열의 크기를 벗어나는 인덱스에 직접 접근하고자 할 때는 잘못된 인덱스 참조 오류가 발생한다\n",
    "- #### 그러니 항상 배열은 배열이 길이 내에서 움직이는 것이 매우 중요하다"
   ]
  }
 ],
 "metadata": {
  "kernelspec": {
   "display_name": "Python 3",
   "language": "python",
   "name": "python3"
  },
  "language_info": {
   "codemirror_mode": {
    "name": "ipython",
    "version": 3
   },
   "file_extension": ".py",
   "mimetype": "text/x-python",
   "name": "python",
   "nbconvert_exporter": "python",
   "pygments_lexer": "ipython3",
   "version": "3.7.1"
  }
 },
 "nbformat": 4,
 "nbformat_minor": 2
}
