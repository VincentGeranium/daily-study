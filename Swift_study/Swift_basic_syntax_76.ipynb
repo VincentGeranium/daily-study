{
 "cells": [
  {
   "cell_type": "markdown",
   "metadata": {},
   "source": [
    "# 구조체와 클래스\n",
    "## 객체지향 스위프트\n",
    "## 상속(Inheritance)"
   ]
  },
  {
   "cell_type": "markdown",
   "metadata": {},
   "source": [
    "### 클래스가 구조체와 구분되는 특성 중의 하나로 상속(Inheritance)이라는 것을 들 수 있다\n",
    "- #### 이는 말 그대로 하나의 클래스가 다른 클래스에게 무엇인가를 물려줄 수 있다는 것이다\n",
    "- #### 일반적으로 사회에서 사용하는 상속의 의미와 유사하다"
   ]
  },
  {
   "cell_type": "markdown",
   "metadata": {},
   "source": [
    "### 사회에서 상속을 이야기할 떄는 보통 부모님으로부터 자식이 물려받는 무엇인가를 의미하는 경우가 많다\n",
    "- #### 이때 물려주는 것은 재산이나 물건 등 눈에 보이는 것일 수도 있고, 운동 능력이나 학습 능력 등 기능에 관련된 것일 수도 있다\n",
    "- #### 물려받는 쪽은 보통 자식이고, 물려주는 쪽은 부모가 대부분이다\n",
    "\n",
    "### 이러한 상속 관계는 클래스에도 그대로 적용된다\n",
    "### 결국 다음과 같은 관계가 성립한다고 볼 수 있다\n",
    "- #### 일반 사회 현산에서의 상속과 프로그래밍에서의 상속\n",
    "\n",
    "```\n",
    "\"아들이 아버지로부터 재산을 물려받았다\"\n",
    "\n",
    "\"Child 클래스가 Father 클래스를 상속한다\"\n",
    "```"
   ]
  },
  {
   "cell_type": "markdown",
   "metadata": {},
   "source": [
    "### 이 관계를 통해 객체지향에서 상속을 정의하자면 다음과 같다\n",
    "- #### 한 클래스가 다른 클래스에서 정의된 프로퍼티나 메소드를 물려받아 사용하는 것"
   ]
  },
  {
   "cell_type": "markdown",
   "metadata": {},
   "source": [
    "### 상속을 사용하면 이미 만들어진 다른 클래스의 기능이나 프로퍼티를 직접 구현하지 않고도 사용 할 수 있다\n",
    "- #### 다만 추가로 필요한 기능이나 프로퍼티만 정의하여 사용하면 된다\n",
    "\n",
    "### 이때 기능이나 프로퍼티를 물려주는 클래스와 이를 상속받는 클래스 사이에서는 다음과 같은 관계가 성립한다\n",
    "- #### 프로퍼티와 메소드를 물려준 클래스는 부모 클래스 = 상위 클래스 = 슈퍼 클래스 = 기본 클래스\n",
    "- #### 프로퍼티와 메소드를 물려받은 클래스는 자식 클래스 = 하위 클래스 = 서브 클래스 = 파생 클래스"
   ]
  },
  {
   "cell_type": "markdown",
   "metadata": {},
   "source": [
    "### 클래스를 상속하는 과정에 대한 예제\n",
    "#### 우선 어떤 클래스도 상속받지 않는 클래스를 정의한다. 이 클래스를 \"기본 클래스\"라고 부른다\n",
    "\n",
    "```\n",
    "class A {\n",
    "    var name = \"Class A\"\n",
    "    \n",
    "    var description: String {\n",
    "        return \"This class name is \\(self.name)\"\n",
    "    }\n",
    "    \n",
    "    func foo() {\n",
    "        print(\"\\(self.name)'s method foo is called\")\n",
    "    }\n",
    "}\n",
    "```"
   ]
  },
  {
   "cell_type": "markdown",
   "metadata": {},
   "source": [
    "### 기본 클래스 \"A\"에는 name이라는 이름의 저장 프로퍼티가 정의되어 있다\n",
    "- #### 초기값으로 \"Class A\"가 할당되어 있다\n",
    "- #### 이 값은 읽기 전용으로 설정된 연산 프로퍼티 description와 메소드 foo에서 사용된다"
   ]
  },
  {
   "cell_type": "markdown",
   "metadata": {},
   "source": [
    "### 인스턴스를 만들기 위해 클래스를 초기화\n",
    "\n",
    "```\n",
    "let a = A()\n",
    "\n",
    "a.name // \"Class A\"\n",
    "a.description // \"This class name is Class A\"\n",
    "a.foo()\n",
    "\n",
    "[실행 결과]\n",
    "Class A's method foo is called\n",
    "```\n",
    "\n",
    "### 상수 a에는 클래스 A로부터 만들어진 인스턴스가 할당되었다\n",
    "- #### 이 상수를 이용하면 클래스 A에 정의된 각종 인스턴스 프로퍼티를 참조하거나 인스턴스 메소드를 호출할 수 있다"
   ]
  }
 ],
 "metadata": {
  "kernelspec": {
   "display_name": "Python 3",
   "language": "python",
   "name": "python3"
  },
  "language_info": {
   "codemirror_mode": {
    "name": "ipython",
    "version": 3
   },
   "file_extension": ".py",
   "mimetype": "text/x-python",
   "name": "python",
   "nbconvert_exporter": "python",
   "pygments_lexer": "ipython3",
   "version": "3.7.1"
  }
 },
 "nbformat": 4,
 "nbformat_minor": 2
}
