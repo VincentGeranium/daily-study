{
 "cells": [
  {
   "cell_type": "markdown",
   "metadata": {},
   "source": [
    "# 프로토콜(Protocol)\n",
    "## 객체의 설계도\n",
    "## 프로토콜의 정의"
   ]
  },
  {
   "cell_type": "markdown",
   "metadata": {},
   "source": [
    "## 프로토콜과 초기화 메소드"
   ]
  },
  {
   "cell_type": "markdown",
   "metadata": {},
   "source": [
    "### 프로토콜에서는 초기화 메소드도 정의할 수 있다\n",
    "- #### 작성 방식은 앞에서 다루어 본 일반 메소드와 거의 비슷하다\n",
    "- #### 실행 블록을 작성하지 않고, 단순히 이름과 매개변수명, 그리고 매개변수의 타입만 작성하면 된다\n",
    "- #### 내부 매개변수명을 따로 추가해도 되지만, 구현체에서 강제되는 요소가 아니기 때문에 그다지 의미는 없다\n",
    "\n",
    "### 초기화 메소드인 만큼 반환 타입은 없으며 이름은 init으로 통일\n",
    "\n",
    "```\n",
    "protocol SomeInitProtocol {\n",
    "    init()\n",
    "    init(cmd: String)\n",
    "}\n",
    "```"
   ]
  },
  {
   "cell_type": "markdown",
   "metadata": {},
   "source": [
    "### 초기화 메소드가 포함된 프로토콜을 구현할 때 주의할 점이 있다\n",
    "- #### 먼저 외부 매개변수명까지는 완전히 일치해야 한다\n",
    "    - #### 임의로 변경할 경우 프로토콜을 제대로 구현하지 않은 것으로 간주된다\n",
    "    - #### 이 점은 일반 메소드의 구현과 동일하다\n",
    "- #### 다음으로, 구조체는 모든 프로퍼티의 초기값을 한 번에 설정할 수 있는 멤버와이즈 메소드가 기본으로 제공된다\n",
    "    - #### 그러나 만약 프로토콜에 멤버와이즈 메소드가 선언되었다면 모두 직접 구현해 주어야 한다\n",
    "        - #### 프로토콜에 선언된 초기화 메소드는 기본 제공 여부에 상관없이 모두 직접 구현해 주어야 한다\n",
    "- #### 마지막으로, 클래스에서 초기화 메소드를 구현할 때에는 반드시 required 키워드를 붙여야 한다"
   ]
  },
  {
   "cell_type": "markdown",
   "metadata": {},
   "source": [
    "### 이상의 주의점을 정리해보면 다음과 같다\n",
    "- #### 1. 구현되는 초기화 메소드의 이름과 매개변수명은 프로토콜의 명세에 작성된 것과 완전히 일치해야 한다\n",
    "- #### 2. 프로토콜 명세에 선언된 초기화 메소드는 그것이 기본 제공되는 초기화 메소드일지라도 직접 구현해야 한다\n",
    "- #### 3. 클래스에서 초기화 메소드를 구현할 때는 required 키워드를 붙여야 한다"
   ]
  },
  {
   "cell_type": "markdown",
   "metadata": {},
   "source": [
    "### 이 기준에 따라 구조체와 클래스에서 SomeInitProtocol을 구현해 보면 다음과 같다\n",
    "\n",
    "```\n",
    "struct SInit: SomeInitProtocol {\n",
    "    var cmd: String\n",
    "    \n",
    "    \n",
    "    init() {\n",
    "        self.cmd = \"start\"\n",
    "    }\n",
    "    \n",
    "    init(cmd: String) {\n",
    "        self.cmd = cmd\n",
    "    }\n",
    "}\n",
    "    \n",
    "class CInit: SomeInitProtocol {\n",
    "    var cmd: String\n",
    "    \n",
    "    required init() {\n",
    "        self.cmd = \"start\"\n",
    "    }\n",
    "    \n",
    "    required init(cmd: String) {\n",
    "        self.cmd = cmd\n",
    "    }\n",
    "}\n",
    "```"
   ]
  },
  {
   "cell_type": "markdown",
   "metadata": {},
   "source": [
    "### 구조체 SInit는 원래 매개변수가 없는 초기화 메소드와 모든 프로퍼티를 매개변수로 가지는 멤버와이즈 초기화 메소드를 자동으로 제공\n",
    "- #### 하지만 SomeInitProtocol 프로토콜이 두 개의 초기화 메소드를 모두 선언\n",
    "    - #### 때문에 SInit 에서도 두 개의 초기화 메소드를 모두 구현해야 한다\n",
    "- #### 클래스 CInit 역시 마찬가지이다\n",
    "    - #### 두 개의 초기화 구문을 모두 구현해야 한다\n",
    "    - #### 하지만 구조체와는 달리 클래스에서는 초기화 메소드에 required 키워드까지 추가해야 한다"
   ]
  },
  {
   "cell_type": "markdown",
   "metadata": {},
   "source": [
    "### 클래스는 상속과 프로토콜 구현이 동시에 가능한 객체이다\n",
    "- #### 즉, 부모 클래스로부터 초기화 메소드, 메소드와 프로퍼티 등을 상속받으면서 동시에 프로토콜에 정의된 초기화 메소드, 프로퍼티나 메소드를 구현할 수 있다는 뜻이다\n",
    "- #### 이떄 부모 클래스로부터 물려받은 초기화 구문과 프로토콜로부터 구현해야 하는 초기화 메소드가 충돌하는 경우가 종종 생긴다"
   ]
  },
  {
   "cell_type": "markdown",
   "metadata": {},
   "source": [
    "### 상속을 통해 초기화 메소드를 물려받았다 할지라도 구현해야 할 프로토콜 명세에 동일한 초기화 메소드가 선언되어 있다면 이를 다시 구현해야 한다\n",
    "- #### 이는 곧 부모 클래스의 관점에서 볼 때 상속받은 초기화 메소드를 오버라이드하는 셈이다\n",
    "- #### 이때에는 초기화 메소드에 required 키워드와 override 키워드를 모두 붙여주어야 한다\n",
    "\n",
    "```\n",
    "// init() 메소드를 가지는 프로토콜\n",
    "protocol Init {\n",
    "    init()\n",
    "}\n",
    "\n",
    "\n",
    "// init() 메소드를 가지는 부모 클래스\n",
    "class Parent {\n",
    "    init() {\n",
    "    }\n",
    "}\n",
    "\n",
    "\n",
    "\n",
    "// 부모클래스의 init() + 프로토콜의 init()\n",
    "class Child: Parent, Init {\n",
    "    override required init() {\n",
    "        \n",
    "    }\n",
    "}\n",
    "```"
   ]
  },
  {
   "cell_type": "markdown",
   "metadata": {},
   "source": [
    "### 단계적으로 살펴보자\n",
    "- #### 위 예제에서 Child 클래스는 Parent 클래스와 Init 프로토콜로부터 동시에 초기화 구문 init()을 전달받는다\n",
    "\n",
    "### 먼저 프로토콜 쪽을 보자\n",
    "- #### Child 클래스가 프로토콜을 구현하기 위해서는 required 키워드가 추가된 init() 메소드를 작성해야 한다\n",
    "    - #### 이 과정이 끝나면 클래스 Child는 다음과 같은 형태로 만들어진다\n",
    "    \n",
    "    ```\n",
    "    class Child: Parent, Init {\n",
    "        required Init() {\n",
    "            \n",
    "        }\n",
    "    }\n",
    "    ```"
   ]
  },
  {
   "cell_type": "markdown",
   "metadata": {},
   "source": [
    "### 이제 부모 클래스 쪽을 보자\n",
    "- #### 부모 클래스인 Parent 입장에서 보면 자신이 물려준 init() 메소드가 Child 클래스에서 새롭게 정의된 셈이다\n",
    "- #### 이는 부모 클래스에 정의된 것과 동일한 형식으로 재정의된 것이므로 override 키워드를 붙여주어야 한다\n",
    "    - #### 따라서 init() 메소드 앞에 override 키워드를 붙여주면 다음과 같은 초기화 메소드가 만들어진다\n",
    "    \n",
    "    ```\n",
    "    class Child: Parent, Init {\n",
    "        override required init() {\n",
    "            \n",
    "        }\n",
    "    }\n",
    "    ```"
   ]
  },
  {
   "cell_type": "markdown",
   "metadata": {},
   "source": [
    "### 두 개의 키워드 override와 required를 붙이는 순서는 관계없다\n",
    "- #### 둘 모두를 작성하는 것만 중요하다\n",
    "\n",
    "### 초기화 메소드뿐만 아니라 경우에 따라서는 메소드나 연산 프로퍼티에서도 똑같은 일이 벌어질 수 있다\n",
    "- #### 이때에도 동일한 규칙이 적용된다\n",
    "\n",
    "### 부모 클래스와 프로토콜 양쪽에서 같은 내용이 정의되어 있을 때\n",
    "- #### 해당 클래스에서는 구현과 동시에 override 키워드를 붙여야 한다\n",
    "\n",
    "### 단, 일반 메소드나 연산 프로퍼티에 required 키워드는 붙이지 않는다\n",
    "- #### required 키워드는 초기화 메소드에만 붙는다\n",
    "\n",
    "\n",
    "```\n",
    "protocol Init {\n",
    "    func getValue()\n",
    "}\n",
    "\n",
    "class parent {\n",
    "    func getValue() {\n",
    "        \n",
    "    }\n",
    "}\n",
    "\n",
    "class Child: Parent, Init {\n",
    "    override func getValue() {\n",
    "        \n",
    "    }\n",
    "}\n",
    "    \n",
    "```"
   ]
  },
  {
   "cell_type": "markdown",
   "metadata": {},
   "source": [
    "### 단일 상속만 허용되는 클래스의 상속 개념과는 달리, 객체에서 구현할 수 있는 프로토콜의 개수에는 제한이 없다\n",
    "- #### 두 개 이상의 프로토콜을 구현하고자 할 때는 구현할 프로토콜들을 쉼표로 구분하여 나란히 작성해 준다\n",
    "- #### 이때 프로토콜의 선언 순서는 상관없지만, 각 프로토콜에서 구현해야 하는 내용들은 빠짐없이 모두 구현되어야 한다"
   ]
  },
  {
   "cell_type": "markdown",
   "metadata": {},
   "source": [
    "### 다음은 앞에서 선언한 SomeInitProtocol과 SomeMethodProtocol 프로토콜 모두를 구현하는 구조체의 예\n",
    "\n",
    "```\n",
    "struct MultiImplement: NewMethodProtocol, SomeInitProtocol {\n",
    "    var cmd: String\n",
    "    \n",
    "    \n",
    "    init() {\n",
    "        self.cmd = \"default\"\n",
    "    }\n",
    "    \n",
    "    \n",
    "    init(cmd: String) {\n",
    "        self.cmd = cmd\n",
    "    }\n",
    "    \n",
    "    \n",
    "    mutating func execute(cmd: String, desc: String) {\n",
    "        self.cmd = cmd\n",
    "        if cmd == \"start\" {\n",
    "            print(\"시작합니다\")\n",
    "        }\n",
    "    }\n",
    "    \n",
    "    \n",
    "    func showProt(p: Int, memo desc : String) -> String {\n",
    "        return \"Port : \\(p), Memo : \\(desc)\"\n",
    "    }\n",
    "}\n",
    "```"
   ]
  },
  {
   "cell_type": "markdown",
   "metadata": {},
   "source": [
    "### 클래스는 상속의 개념이 있기 때문에 프로토콜을 구현을 선언할 때 주의해야 한다\n",
    "- #### 프로토콜을 구현할 클래스가 다른 클래스로부터 상속된 것이라면 먼저 상속에 대한 선언부터 해야 한다\n",
    "\n",
    "### 부모 클래스가 없는 기본 클래스라면 상관없지만, 부모 클래스가 있다면 반드시 프로토콜 선언보다 앞서 작성되어야 한다는 뜻이다\n",
    "\n",
    "```\n",
    "class BaseObject {\n",
    "    var name: String = \"홍길동\"\n",
    "}\n",
    "\n",
    "class MultiImplWithInherit: BaseObject, SomeMethodProtocol, SomeInitProtocol {\n",
    "    ...\n",
    "}\n",
    "```"
   ]
  },
  {
   "cell_type": "markdown",
   "metadata": {},
   "source": [
    "#### 실제로 코코아 터치 프레임워크에서 제공하는 클래스의 정의를 들여다보면 \n",
    "#### 상속과 프로토콜 구현이 다양하게 선언된 것을 볼 수 있는데, 이들의 첫 번째 위치에 작성된 것은 대부분 상속받는 클래스이다\n",
    "\n",
    "\n",
    "### 부모 클래스와 프로토콜의 선언 순서\n",
    "\n",
    "```\n",
    "class UIViewController : UIResponder, NSCoding, UIAppearanceContainer, UITraitEnvironment, UICOntentContainer {}\n",
    "\n",
    "UIResponder = 부모 클래스\n",
    "NSCoding = 프로토콜\n",
    "UIAppearanceContainer = 프로토콜\n",
    "UITraitEnvironment = 프로토콜 \n",
    "UICOntentContainer = 프로토콜\n",
    "```"
   ]
  }
 ],
 "metadata": {
  "kernelspec": {
   "display_name": "Python 3",
   "language": "python",
   "name": "python3"
  },
  "language_info": {
   "codemirror_mode": {
    "name": "ipython",
    "version": 3
   },
   "file_extension": ".py",
   "mimetype": "text/x-python",
   "name": "python",
   "nbconvert_exporter": "python",
   "pygments_lexer": "ipython3",
   "version": "3.7.1"
  }
 },
 "nbformat": 4,
 "nbformat_minor": 2
}
