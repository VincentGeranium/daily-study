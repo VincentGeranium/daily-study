{
 "cells": [
  {
   "cell_type": "markdown",
   "metadata": {},
   "source": [
    "# 집단 자료형\n",
    "## 연관된 데이터를 손쉽게 다루기\n",
    "### 집합 순회 탐색\n",
    "- #### for ~ in 구문을 이용하면 집합도 배열처럼 순회 탐색을 할 수 있다\n",
    "- #### 배열처럼 인덱스를 활용하여 순회 탐색을 할 수는 없지만, 순회 속성이 제공되므로 집합 자체를 for ~ in 구문에 그대로 넣고 순회 처리하는 방식으로 구문을 작성하면 된다"
   ]
  },
  {
   "cell_type": "markdown",
   "metadata": {},
   "source": [
    "### 집합 순회 탐색 예시\n",
    "\n",
    "```\n",
    "// 집합을 정의\n",
    "var genres : Set = [\"Classic\" , \"Rock\" , \"Hiphop\"]\n",
    "    \n",
    "// 집합을 순회 처리하면서 아이템을 출력\n",
    "for g in genres {\n",
    "    print(\"\\(g)\")\n",
    "}\n",
    "```"
   ]
  },
  {
   "cell_type": "markdown",
   "metadata": {},
   "source": [
    "- #### 스위프트에서 집합은 원래 순서가 없지만, sort() 메소드를 사용하면 정렬된 결과를 받을 수 있다\n",
    "    - #### 집합 자체에 순서를 적용하는 것은 아니며 단순히 메소드의 반환값을 정렬하는 것\n",
    "    \n",
    "```\n",
    "...(중략)...\n",
    "\n",
    "for g in genres.sorted() {\n",
    "    print(\"\\(g)\")\n",
    "}\n",
    "```"
   ]
  },
  {
   "cell_type": "markdown",
   "metadata": {},
   "source": [
    "### 집합의 동적 추가와 삭제\n",
    "- #### 집합에 아이템을 추가할 때는 insert(_:) 메소드를 사용한다\n",
    "    - #### 이 메소드는 함께 전달된 인자값을 집합에 추가하지만, 이미 같은 아이템이 저장되어 있을 때는 아무 처리도 하지 않는다."
   ]
  },
  {
   "cell_type": "markdown",
   "metadata": {},
   "source": [
    "### 집합의 동적 추가 예시\n",
    "\n",
    "```\n",
    "var genres : Set = [\"Classic\" , \"Rock\" , \"Hiphop\"]\n",
    "    \n",
    "genres.insert(\"Jezz\") // genres = {\"Jazz\" , \"Rock\" , \"Classic\" , \"Hiphop\"}\n",
    "genres.insert(\"Rock\") // genres = {\"Jazz\" , \"Rock\" , \"Classic\" , \"Hiphop\"}\n",
    "genres.insert(\"Rock\") // genres = {\"Jazz\" , \"Rock\" , \"Classic\" , \"Hiphop\"}\n",
    "```"
   ]
  },
  {
   "cell_type": "markdown",
   "metadata": {},
   "source": [
    "### 집합의 가장 기본적인 특성\n",
    "- #### 위 예시에서 보는 바와 같이 Rock과 같은 경우는 여러 번 반복해서 추가하고 있지만, 한 번 추가된 아이템은 몇 번 다시 추가하더라도 처음 상태에서 더는 추가되지 않는다."
   ]
  },
  {
   "cell_type": "markdown",
   "metadata": {},
   "source": [
    "- #### 집합의 아이템을 삭제할 때는 remove(_:) 메소드를 사용한다\n",
    "- #### 메소드의 인자값에는 삭제하고자 하는 값이 사용된다\n",
    "- #### 메소드가 호출되면 집합의 내부 저장소를 검색하여 입력된 인자와 일치하는 아이템을 찾고, 있으면 아이템을 삭제하고 삭제된 값을 반환한다\n",
    "- #### 메소드의 반환값을 활용하면 아이템의 삭제 결과를 손쉽게 판단할 수 있어 후속 처리를 하기에 편리하다"
   ]
  },
  {
   "cell_type": "markdown",
   "metadata": {},
   "source": [
    "```\n",
    "...(중략)...\n",
    "\n",
    "if let removedItem = genres.remove(\"Rock\") {\n",
    "    print(\"아이템 \\(removedItem)의 삭제가 완료되었습니다\")\n",
    "} else {\n",
    "    print(\"삭제할 값이 집합에 추가되어 있지 않습니다.\")\n",
    "}\n",
    "\n",
    "[실행 결과]\n",
    "아이템 Rock의 삭제가 완료되었습니다\n",
    "```\n",
    "\n",
    "- 위 예제는 genres 집합에 저장된 아이템 중 \"Rock\"을 삭제한다\n",
    "- #### 현재 삭제하고자 하는 값과 같은 아이템이 집합에 이미 저장되어 있으므로 삭제할 수 있으며, 삭제 후 \"Rock\"을 반환한다\n",
    "- #### 만약 집합에 추가되지 않은 값을 삭제하려고 했다면 nil이 반환되어 else 구문이 실행되었을 것이다"
   ]
  },
  {
   "cell_type": "markdown",
   "metadata": {},
   "source": [
    "- #### 개별 값을 입력하여 원하는 아이템을 삭제할 수 있는 remove(_:) 메소드\n",
    "- #### 집합의 아이템 전체를 삭제할 수 있는 메소드 removeAll( ) 메소드\n",
    "    - #### 이 메소드는 인자값 없이 호출되어 해당 집합의 모든 아이템을 일괄 삭제한다\n",
    "\n",
    "```\n",
    "...(중략)...\n",
    "genres.removeAll() // genres 집합의 모든 아이템 삭제\n",
    "\n",
    "if genres.isEmpty {\n",
    "    print(\"모든 아이템이 삭제되었습니다.\")\n",
    "} else {\n",
    "    print(\"아직 \\(gerens.count)개의 아이템이 남아있습니다\")\n",
    "}\n",
    "\n",
    "[실행 결과]\n",
    "\n",
    "모든 아이템이 삭제되었습니다.\n",
    "```"
   ]
  },
  {
   "cell_type": "markdown",
   "metadata": {},
   "source": [
    "- #### 스위프트는 집합에 특정 아이템이 있는지를 쉽게 확인할 수 있는 contains(_:) 메소드가 있다\n",
    "- #### 이 메소드는 인자값으로 입력된 데이터를 사용하여 해당 집합 내에서 일치하는 아이템이 있는지 검색하여 있으면 true, 없으면 false를 반환한다\n",
    "\n",
    "```\n",
    "var genres : Set = [\"Classic\" , \"Rock\" , \"Hiphop\"]\n",
    "    \n",
    "    \n",
    "if genres.contains(\"Rock\") {\n",
    "    print(\"Rock 아이템이 저장되어 있습니다.\")\n",
    "} else {\n",
    "    print(\"Rock 아이템이 저장되어 있지 않습니다\")\n",
    "}\n",
    "\n",
    "[실행 결과]\n",
    "\n",
    "Rock 아이템이 저장되어 있습니다.\n",
    "```"
   ]
  }
 ],
 "metadata": {
  "kernelspec": {
   "display_name": "Python 3",
   "language": "python",
   "name": "python3"
  },
  "language_info": {
   "codemirror_mode": {
    "name": "ipython",
    "version": 3
   },
   "file_extension": ".py",
   "mimetype": "text/x-python",
   "name": "python",
   "nbconvert_exporter": "python",
   "pygments_lexer": "ipython3",
   "version": "3.7.1"
  }
 },
 "nbformat": 4,
 "nbformat_minor": 2
}
