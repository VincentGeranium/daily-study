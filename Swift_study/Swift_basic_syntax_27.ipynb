{
 "cells": [
  {
   "cell_type": "markdown",
   "metadata": {},
   "source": [
    "# 집단 자료형\n",
    "## 연관된 데이터를 손쉽게 다루기\n",
    "## 딕셔너리 (Dictionary)\n",
    "### 딕셔너리의 선언과 초기화"
   ]
  },
  {
   "cell_type": "markdown",
   "metadata": {},
   "source": [
    "- 배열과 마찬가지로, 딕셔너리 역시 처음부터 필요한 모든 데이터를 입력한 상태로 사용하는 경우 그리 많지는 않다\n",
    "    - 대부분 빈 딕셔너리를 선언하고 초기화한 다음 필요한 시기에 아이템을 추가하는 방식을 사용"
   ]
  },
  {
   "cell_type": "markdown",
   "metadata": {},
   "source": [
    "#### 딕셔너리를 선언하고 초기화하는 방법\n",
    "- #### 먼저 아무 초기값도 할당하지 않은 빈 딕셔너리를 선언하고 초기화하는 구문 형식은 다음과 같다\n",
    "\n",
    "```\n",
    "Dictionary <키의 타입, 값의 타입>()\n",
    "```\n",
    "\n",
    "- #### 딕셔너리를 선언할 때에는 Dictionary 구조체가 사용된다\n",
    "    - #### 이 객체를 사용하여 선언할 때는 배열에서와 마찬가지로 \"<\" 와 \">\" 사이에 키로 사용할 타입과 값으로 사용할 타입을 지정해야 한다\n",
    "        - #### 이를 제네릭(Generic)이라고 부른다\n",
    "- #### 제네릭(Generic)은 자료형 뒤에 < > 기호가 붙고 그사이에 데이터 타입을 명시해주는 구문을 말한다\n",
    "    - #### 어떤 자료형이나 객체의 타입을 사용할 것인지를 외부에서 객체 내부에 알려주는 역활을 한다\n",
    "- #### 딕셔너리의 제네릭에는 키로 사용할 타입을 앞에, 값으로 사용할 타입을 뒤에 작성한다"
   ]
  },
  {
   "cell_type": "markdown",
   "metadata": {},
   "source": [
    "- #### 이러한 작성 방식은 앞에서 딕셔너리를 정의할 때 키와 값의 타입을 지정해주지 않았던 것과 차이가 있다\n",
    "    - #### 앞에서 정의한 방식은 정적인 방식이므로 입력된 초기값을 바탕으로 스위프트의 타입 추론 기능이 작동하여 키와 값의 타입을 추론해낼 수 있다\n",
    "    - #### 그러나 지금은 타입을 추론할 아무런 값도 주어져 있지 않은 상태이므로 이처럼 각각의 타입을 직접 지정해야 한다\n",
    "- #### 구문의 마지막 부분에는 초기화를 위한 연산자인 ( )가 사용된다\n",
    "- #### 초기화 연산자를 거쳐야만 선언된 딕셔너리가 메모리에서 데이터를 저장할 공간을 할당받을 수 있다"
   ]
  },
  {
   "cell_type": "markdown",
   "metadata": {},
   "source": [
    "### 딕셔너리의 선언\n",
    "#### 문자열 키와 정수 값으로 이루어진 딕셔너리\n",
    "\n",
    "```\n",
    "Dictionary<String, Int>()\n",
    "```\n",
    "\n",
    "#### 문자열 키와 문자열 값으로 이루어진 딕셔너리\n",
    "\n",
    "```\n",
    "Dictionary<String, String>()\n",
    "```\n",
    "\n",
    "#### 문자열 키와 범용 클래스 값으로 이루어진 딕셔너리\n",
    "\n",
    "```\n",
    "Dictionary<String, AnyObject>()\n",
    "```\n",
    "\n",
    "#### 문자 키와 문자열 값으로 이루어진 딕셔너리\n",
    "\n",
    "```\n",
    "Dictionary<Character, String>()\n",
    "```"
   ]
  },
  {
   "cell_type": "markdown",
   "metadata": {},
   "source": [
    "- #### 딕셔너리의 선언과 초기화 구문도 간결한 형식으로 정리할 수 있다\n",
    "    - #### 딕셔너리에서는 키 타입과 값 타입을 콜론 ( : )으로 구분해서 작성한다\n",
    "\n",
    "```\n",
    "[ 키로 사용할 타입 : 값으로 사용할 타입 ]()\n",
    "```"
   ]
  },
  {
   "cell_type": "markdown",
   "metadata": {},
   "source": [
    "### 간결한 형식이 적용된 구문으로 여러 가지 타입의 딕셔너리 선언\n",
    "#### 문자열 키와 정수 값으로 이루어진 딕셔너리를 간결한 형식으로 선언\n",
    "\n",
    "```\n",
    "[String : Int]()\n",
    "```\n",
    "\n",
    "#### 문자열 키와 문자열 값으로 이루어진 딕셔너리를 간결한 형식으로 선언\n",
    "\n",
    "```\n",
    "[String : String]()\n",
    "```\n",
    "\n",
    "#### 문자열 키와 범용 클래스 값으로 이루어진 딕셔너리를 간결한 형식으로 선언\n",
    "\n",
    "```\n",
    "[String : AnyObject]()\n",
    "```\n",
    "\n",
    "#### 문자 키와 문자열 값으로 이루어진 딕셔너리\n",
    "\n",
    "```\n",
    "[Character : String]()\n",
    "```"
   ]
  },
  {
   "cell_type": "markdown",
   "metadata": {},
   "source": [
    "- 이처럼 간결한 형식을 사용하여 딕셔너리를 정의하면 Dictionary 객체를 직접 사용하는 것보다 훨씬 간결하고 가독성을 높일 수 있다\n",
    "- 하지만 어느 방식이 더 낫다고 단적으로 말할 수 없으므로 본인의 스타일에 맞게 작성하길 권장"
   ]
  },
  {
   "cell_type": "markdown",
   "metadata": {},
   "source": [
    "### 빈 딕셔너리 형식으로 선언\n",
    "#### 딕셔너리의 선언과 초기화\n",
    "\n",
    "```\n",
    "var capital = Dictionary<String, String>() // 방법1\n",
    "var capital = [String : String]() // 방법2\n",
    "```\n",
    "- #### 위 예제는 초기화 연산자에 의해 딕셔너리를 선언함과 동시에 타입을 정의\n",
    "\n",
    "#### 타입 어노테이션을 사용하여 선언과 초기화를 분리\n",
    "\n",
    "```\n",
    "var capital : Dictionary<String, String> // 타입 어노테이션을 이용한 딕셔너리의 선언\n",
    "capital = Dictionary // 딕셔너리의 초기화\n",
    "```\n",
    "\n",
    "#### 간결한 선언 형식으로 딕셔너리의 선언과 초기화\n",
    "\n",
    "```\n",
    "var capital : [String : String] // 타입 어노테이션을 이용한 딕셔너리의 선언\n",
    "capital = [String : String] // 딕셔너리의 초기화\n",
    "```"
   ]
  },
  {
   "cell_type": "markdown",
   "metadata": {},
   "source": [
    "### 위와 같은 형식을 이용하여 초기화할 때 주의해야 할 점\n",
    "- #### 배열에서와는 달리 타입 어노테이션으로 키와 값의 타입이 이미 선언되었다고 하여 초기화 구문에서 함부로 타입 작성을 생략해서는 안된다\n",
    "    - #### 타입이 생략된 초기화 구문은 잘못 해석될 우려가 있기 때문이다."
   ]
  },
  {
   "cell_type": "markdown",
   "metadata": {},
   "source": [
    "### 선언된 딕셔너리를 초기화하는 다양한 방법\n",
    "\n",
    "```\n",
    "var capital : [String:String]\n",
    "    \n",
    "// 딕셔너리의 초기화\n",
    "capital = Dictionary<String, String>() // 방법1\n",
    "capital = Dictionary() // 방법2\n",
    "capital = [String:String]() // 방법3\n",
    "capital = [:] // 방법4\n",
    "```"
   ]
  },
  {
   "cell_type": "markdown",
   "metadata": {},
   "source": [
    "- #### 위 예제에서 주의해야 할 부분은 방법2와 방법4 이다.\n",
    "- #### 2와 4의 초기화 구문은 딕셔너리의 타입 지정이 생략되어 있다\n",
    "    - #### 이는 사전에 타입 어노테이션을 통하여 딕셔너리의 타입이 명시적으로 선언되어 있기 때문이다.\n",
    "- #### 이외의 초기화 구문에서는 함부로 타입을 생략하면 안된다"
   ]
  }
 ],
 "metadata": {
  "kernelspec": {
   "display_name": "Python 3",
   "language": "python",
   "name": "python3"
  },
  "language_info": {
   "codemirror_mode": {
    "name": "ipython",
    "version": 3
   },
   "file_extension": ".py",
   "mimetype": "text/x-python",
   "name": "python",
   "nbconvert_exporter": "python",
   "pygments_lexer": "ipython3",
   "version": "3.7.1"
  }
 },
 "nbformat": 4,
 "nbformat_minor": 2
}
