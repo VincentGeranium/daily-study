{
 "cells": [
  {
   "cell_type": "markdown",
   "metadata": {},
   "source": [
    "# 2강 리눅스 특징과 장점\n",
    "- 리눅스(LINUX) 특징\n",
    "    - Server에 많이 사용되는 운영체제\n",
    "    - 운영체제, 소프트웨어의 대부 UNIX 계열의 운영체제\n",
    "        - 완전 프로그래머 스타일\n",
    "    - 플래인(Plain)하게 프로그래밍이 가능\n",
    "        - 정말 표준에 맞추어서 프로그래밍이 가능하다\n",
    "        - ANSI C = C언어 표준\n",
    "- LINUX\n",
    "    - 최근 서버 환경은 주로 리눅스\n",
    "    - 프로그래밍을 할 때에도 많이 사용이 된다\n",
    "        - EX) C언어를 예로 들어 설명\n",
    "        - [인간 = 한국어, C언어 가능] C언어로 의사 전달 -> [컴파일러 = C언어, 기계어 가능] 기계어로 전달 -> [컴퓨터 = 기계어 가능]\n",
    "        - 인간이 C언어로 자신의 의사를 컴파일러에게 전달하면 컴파일러가 C언어를 기계어로 바꾸어 컴퓨터에게 전달하고 컴퓨터는 기계어로 번역된 C언어를 전달 받고 인간이 전달한 의사를 수행한다\n",
    "    - Kernel + Shell + 기본적인 System = 컴파일이 빠르다\n",
    "        - 리눅스를 사용하는 이유는 빠른 컴파일이 가능해서이다. 윈도우나 맥OS 같은 경우 유저를 위해 많은 편의 사항들이 설치되어 있어서 컴파일을 할때 정말 많은 시간이 걸린다 그래서 정말 기본적인 프로그램만 설치되어 있고 그로 인하여 하드웨어의 성능을 최대로 이끌어 내어 빠른 컴파일을 실행하게 만든다\n",
    "    - 클라우드 컴퓨팅 (AWS)\n",
    "        - 요즘 대부분의 서버 환경은 클라우드 서비스를 많이 사용한다\n",
    "            - 그중 AWS가 가장 유명하다\n",
    "    - 간단한 설명\n",
    "        - 미리 서버 컴퓨터를 만들어 놓고 서버가 필요한 사람들이나 회사에게 간단한 클릭만으로 서버를 빌릴 수 있도록 하는 일종의 서비스\n",
    "     "
   ]
  },
  {
   "cell_type": "markdown",
   "metadata": {},
   "source": [
    "## 정리\n",
    "- LINUX\n",
    "    - Sever + Cloud Computing\n",
    "    - Programming에도 유용\n",
    "    - UNIX 계열 운영체제\n",
    "        - UNIX 사용법을 익힐 수 있다"
   ]
  }
 ],
 "metadata": {
  "kernelspec": {
   "display_name": "Python 3",
   "language": "python",
   "name": "python3"
  },
  "language_info": {
   "codemirror_mode": {
    "name": "ipython",
    "version": 3
   },
   "file_extension": ".py",
   "mimetype": "text/x-python",
   "name": "python",
   "nbconvert_exporter": "python",
   "pygments_lexer": "ipython3",
   "version": "3.7.1"
  }
 },
 "nbformat": 4,
 "nbformat_minor": 2
}
