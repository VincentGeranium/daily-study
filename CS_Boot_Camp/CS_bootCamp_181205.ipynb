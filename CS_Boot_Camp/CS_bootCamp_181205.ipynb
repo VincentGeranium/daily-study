{
 "cells": [
  {
   "cell_type": "markdown",
   "metadata": {},
   "source": [
    "# 유니코드 인코딩 방식\n",
    "- 용어 정리\n",
    "    - 코드 유닛(code unit)\n",
    "        - 코드 유닛은 코드 포인트(code point)를 특정한 방법으로 인코딩했을 때 변환되어 얻어지는 비트의 나열\n",
    "    - 문자 인코딩 방식(Character Encoding Scheme, CES)\n",
    "        - 문자 인코딩 방식은 코드 유닛을 옥텟으로 나열하여 변환하는 방법\n",
    "        - 옥텟(Octet)은 데이터 단위로 8비트를 의미한다\n",
    "        - 지금은 1바이트를 당연히 8비트라고 생각하지만, 예전에는 1바이트가 모두 8비트는 아니었으므로 옥텟이라는 용어를 따로 사용했었다\n",
    "        - 현재 컴퓨터는 모두 8비트 단위를 사용하므로 코드 유닛을 옥텟으로 변환해도 실제로 비트가 바뀌지는 않는다"
   ]
  },
  {
   "cell_type": "markdown",
   "metadata": {},
   "source": [
    "- #### 유니코드는 2바이트로 숫자 하나에 문자 하나를 대응하여 문자를 표현한다\n",
    "- 기본 다국어 평면을 포함해 평면이 열일곱 개 있으므로 모든 문자를 표현하려면 3바이트가 필요하다\n",
    "- #### 언뜻 생각하면 코드 유닛의 크기를 3바이트로 하고 코드 포인트를 그대로 저장하면 될 것 같지만 그렇게 쉽게 결정할 문제가 아니다\n",
    "    - 만약 1바이트 정수만 저장할 수 있는 시스템이라면 3바이트짜리 정수는 저장할 수 없으므로 이 시스템에서는 한글을 표현할 수 없다\n",
    "    - 그러므로 다양한 코드 유닛을 갖는 인코딩 방식을 두어 유연하게 대처해야 한다\n",
    "- 유니코드 인코딩 방식에도 다양한 종류가 있다"
   ]
  },
  {
   "cell_type": "markdown",
   "metadata": {},
   "source": [
    "- #### C++ 코드를 이용한 인코딩 방식에 따른 자료형\n",
    "```\n",
    "char * str1 = u8\"가\";\n",
    "char_16t * str2 = u\"가\";\n",
    "char_32t * str3 = U\"가\";\n",
    "```"
   ]
  },
  {
   "cell_type": "markdown",
   "metadata": {},
   "source": [
    "## encode function in Python"
   ]
  },
  {
   "cell_type": "markdown",
   "metadata": {},
   "source": [
    "- 파이썬에서 encode() 함수는 문자를 주어진 유니코드 인코딩 방식에 따라 코드 유닛을 나열하는 방식으로 변환하는 함수이다"
   ]
  },
  {
   "cell_type": "code",
   "execution_count": 1,
   "metadata": {},
   "outputs": [],
   "source": [
    "ch = '가'"
   ]
  },
  {
   "cell_type": "code",
   "execution_count": 2,
   "metadata": {},
   "outputs": [
    {
     "data": {
      "text/plain": [
       "b'\\xea\\xb0\\x80'"
      ]
     },
     "execution_count": 2,
     "metadata": {},
     "output_type": "execute_result"
    }
   ],
   "source": [
    "ch.encode()"
   ]
  },
  {
   "cell_type": "code",
   "execution_count": 3,
   "metadata": {},
   "outputs": [
    {
     "data": {
      "text/plain": [
       "b'\\xea\\xb0\\x80'"
      ]
     },
     "execution_count": 3,
     "metadata": {},
     "output_type": "execute_result"
    }
   ],
   "source": [
    "ch.encode('UTF-8')"
   ]
  },
  {
   "cell_type": "code",
   "execution_count": 4,
   "metadata": {},
   "outputs": [
    {
     "data": {
      "text/plain": [
       "b'\\xff\\xfe\\x00\\xac'"
      ]
     },
     "execution_count": 4,
     "metadata": {},
     "output_type": "execute_result"
    }
   ],
   "source": [
    "ch.encode('UTF-16')"
   ]
  },
  {
   "cell_type": "code",
   "execution_count": 5,
   "metadata": {},
   "outputs": [
    {
     "data": {
      "text/plain": [
       "b'\\xff\\xfe\\x00\\x00\\x00\\xac\\x00\\x00'"
      ]
     },
     "execution_count": 5,
     "metadata": {},
     "output_type": "execute_result"
    }
   ],
   "source": [
    "ch.encode('UTF-32')"
   ]
  },
  {
   "cell_type": "markdown",
   "metadata": {},
   "source": [
    "- encode() 함수의 인자 중 하나인 인코딩 방식을 각각 다르게 적용하면 결과 값과 크기가 모두 다르게 나타나는 걸 확인할 수 있다\n",
    "- encode() 함수의 인자에 아무것도 전달하지 않으면 'UTF-8'이 인자일 때와 값이 같으므로 파이썬에서는 기본값이 'UTF-8'이라는 것도 알 수 있다"
   ]
  },
  {
   "cell_type": "markdown",
   "metadata": {},
   "source": [
    "### UTF-8\n",
    "- UTF-8(Universal Coded Character Set Transformation Format-8 bit)\n",
    "    - UTF-8은 유니코드 인코딩 방식 중 하나로 유니코드 문자 하나를 1바이트에서 4바이트 사이에서 표현한다\n",
    "    - 유니코드 코드 포인트가 U+0000 ~ U+007F는 1바이트, U+0080 ~ U+07FF는 2바이트, U+0800 ~ U+FFFF는 3바이트, 나머지는 4바이트로 표현한다\n",
    "    - 문자에 따라 바이트 수가 달라지므로 가변 길이 인코딩 방식이라고 부른다\n",
    "\n",
    "```\n",
    "char * str1 = u8'가';\n",
    "```\n",
    "\n",
    "- 문자열 \"가\" 앞에 붙은 u8은 UTF-8을 의미한다\n",
    "- str1은 UTF-8로 인코딩된 문자열 \"가\"가 저장된 메모리 공간을 가리킨다\n",
    "- #### 주목해야 할 점은 유니코드인데도 1바이트짜리 char 자료형에 데이터를 담는다는 점이다\n",
    "- 문자 '가'의 코드 포인트  U+AC00은 U+0800 ~ U+FFFF 사이의 수이므로 3바이트로 표현될 것이다"
   ]
  },
  {
   "cell_type": "markdown",
   "metadata": {},
   "source": [
    "- #### UTF-8로 인코딩된 문자 '가'가 실제 메모리에 어떻게 저장될까??\n",
    "    - U+AC00은 어떻게 0xEAB080으로 변환 되었을까??\n",
    "        - 변환 과정\n",
    "        - UTF-8에서 코드 포인트가 U+0800에서 U+FFFF 사이인 문자는 다음과 같은 포맷으로 변환된다\n",
    "        \n",
    "        ```\n",
    "        1110XXXX 10XXXXXX 10XXXXXX\n",
    "        ```\n",
    "        \n",
    "        - 이 포맷에서 맨 앞에 있는 111은 바이트 수를 나타낸다\n",
    "            - 1바이트로 표현되면 1\n",
    "            - 2바이트로 표현되면 11\n",
    "            - 3바이트로 표현되면 111\n",
    "        - X로 표시된 부분은 문자의 코드 포인트를 2진수로 변환한 후 차례대로 채운다\n",
    "        - 문자'가'의 코드 포인트 U+AC00을 2진수로 표현하면 다음과 같다\n",
    "        \n",
    "        ```\n",
    "        1010 1100 0000 0000\n",
    "        ```\n",
    "        \n",
    "        - 포맷의 X를 보면 첫번째 등장하는 X는 4자리, 그 다음은 6자리, 마지막은 6자리 이다\n",
    "        - 이 자리수에 맞춰 변환해 둔 2진수 수(문자'가'의 코드 포인트)를 표현하면 다음과 같다\n",
    "        \n",
    "        ```\n",
    "        1010 110000 000000\n",
    "        ```\n",
    "        \n",
    "        - 포맷 X를 이 수로 채우면 다음과 같다\n",
    "        \n",
    "        ```\n",
    "        11101010 10110000 10000000\n",
    "        ```\n",
    "        \n",
    "        - 이를 16진수로 변환하면 다음과 같다\n",
    "        \n",
    "        ```\n",
    "        0xEAB080\n",
    "        ```"
   ]
  },
  {
   "cell_type": "markdown",
   "metadata": {},
   "source": [
    "### UTF-16\n",
    "- UTF-16도 유니코드 인코딩 방식 중 하나로 2바이트 단위로 문자를 표현한다\n",
    "- 해당 문자가 기본 다국어 평면에 있으면 2바이트로 인코딩되고, 그렇지 않으면 4바이트로 인코딩 된다\n",
    "- 코드 유닛의 크기는 16비트이다\n",
    "\n",
    "```\n",
    "char16_t * str2 = u\"가\";\n",
    "```\n",
    "\n",
    "- 문자열 \"가\" 앞에 붙은 소문자 u는 UTF-16으로 인코딩하겠다는 의미\n",
    "- char16_t는 C++언어에서 UTF-16 인코딩 방식으로 변환된 데이터를 담기 위해 만들어진 자료형으로 2바이트이다\n",
    "- 문자 '가'가 UTF-16으로 인코딩되어 메모리에 담긴 모습\n",
    "\n",
    "```\n",
    "00 ac\n",
    "```\n",
    "- 문자 '가'의 코드 포인트인 AC00을 바이트 단위로 순서만 바꾸었다\n",
    "- 문자 '가'는 기본 다국어 평면에 있으므로 2바이트로 표현된다"
   ]
  },
  {
   "cell_type": "markdown",
   "metadata": {},
   "source": [
    "### UTF-32\n",
    "- UTF-32도 유니코드 인코딩 방식의 하나로 모든 문자를 4바이트로 표현한다\n",
    "- 코드 유닛의 크기는 32비트이다\n",
    "\n",
    "```\n",
    "char32_t * str3 = U\"가\";\n",
    "```\n",
    "\n",
    "- UTF-32는 모든 문자를 4바이트 단위로 인코딩하므로 기본 다국어 평면의 문자뿐만 아니라 모든 평면에 있는 문자를 한 개 단위로 담을 수 있다\n",
    "- char32_t는 4바이트 자료형으로 UTF-32로 인코딩된 데이터를 담기 위해 만들어졌다\n",
    "- 문자 '가'가 UTF-32로 인코딩되어 메모리에 담긴 모습\n",
    "\n",
    "```\n",
    "00 ac 00 00\n",
    "```\n",
    "\n",
    "- 모든 문자가 4바이트로 표현되므로 문자'가'도 4바이트로 표현된다"
   ]
  },
  {
   "cell_type": "markdown",
   "metadata": {},
   "source": [
    "## 파이썬 문자열의 특징\n",
    "- 파이썬 문자열의 중요한 특징이 하나 있다\n",
    "- C/C++에서는 문자열을 변수로 만들면 요소인 문자를 변경할 수 있고, 문자열을 상수로 만들면 요소를 변경할 수 없다\n",
    "    - 즉, 프로그래머가 변경 가능성을 선택할 수 있다\n",
    "- 하지만 파이썬의 문자열은 요소를 변경할 수 없다"
   ]
  },
  {
   "cell_type": "code",
   "execution_count": 6,
   "metadata": {},
   "outputs": [],
   "source": [
    "string = 'abcde'"
   ]
  },
  {
   "cell_type": "code",
   "execution_count": 7,
   "metadata": {},
   "outputs": [
    {
     "ename": "TypeError",
     "evalue": "'str' object does not support item assignment",
     "output_type": "error",
     "traceback": [
      "\u001b[0;31m---------------------------------------------------------------------------\u001b[0m",
      "\u001b[0;31mTypeError\u001b[0m                                 Traceback (most recent call last)",
      "\u001b[0;32m<ipython-input-7-dcab8db18ed7>\u001b[0m in \u001b[0;36m<module>\u001b[0;34m()\u001b[0m\n\u001b[0;32m----> 1\u001b[0;31m \u001b[0mstring\u001b[0m\u001b[0;34m[\u001b[0m\u001b[0;36m2\u001b[0m\u001b[0;34m]\u001b[0m \u001b[0;34m=\u001b[0m \u001b[0;34m'a'\u001b[0m\u001b[0;34m\u001b[0m\u001b[0;34m\u001b[0m\u001b[0m\n\u001b[0m",
      "\u001b[0;31mTypeError\u001b[0m: 'str' object does not support item assignment"
     ]
    }
   ],
   "source": [
    "string[2] = 'a'"
   ]
  },
  {
   "cell_type": "markdown",
   "metadata": {},
   "source": [
    "- 변경을 시도 하는 순간 오류가 발생했다\n",
    "- 문자열 string에서 가운데 위치한 c를 x로 변경하고 싶다면 어떻게 해야 할까??\n",
    "    - 문자열 슬라이싱(slicing)을 사용해 요소를 변경할 수 있다\n",
    "    - 주의해야 할 점은 string의 요소를 직접 변경하지 않았다는 점이다"
   ]
  },
  {
   "cell_type": "code",
   "execution_count": 10,
   "metadata": {},
   "outputs": [],
   "source": [
    "new_string = string[:2] + 'x' + string[:3]"
   ]
  },
  {
   "cell_type": "code",
   "execution_count": 11,
   "metadata": {},
   "outputs": [
    {
     "data": {
      "text/plain": [
       "'abxabc'"
      ]
     },
     "execution_count": 11,
     "metadata": {},
     "output_type": "execute_result"
    }
   ],
   "source": [
    "new_string"
   ]
  },
  {
   "cell_type": "markdown",
   "metadata": {},
   "source": [
    "- 파이썬에서 문자열을 변경하는 다른 방법도 잇따\n",
    "- 내장 함수(Built-in function) 중 하나인 replace() 함수를 사용하여 변경하는 방법이다\n",
    "- replace() 함수 인자에 기존 문자열과 바꿀 문자열을 전달하면 바뀐 문자열을 반환한다\n",
    "- 주의해야 할 점은string의 요소를 직접 변경하지 않았다는 점이다"
   ]
  },
  {
   "cell_type": "code",
   "execution_count": 12,
   "metadata": {},
   "outputs": [],
   "source": [
    "string = 'abcde'"
   ]
  },
  {
   "cell_type": "code",
   "execution_count": 13,
   "metadata": {},
   "outputs": [],
   "source": [
    "new_string = string.replace('c', 'x')"
   ]
  },
  {
   "cell_type": "code",
   "execution_count": 14,
   "metadata": {},
   "outputs": [
    {
     "data": {
      "text/plain": [
       "'abxde'"
      ]
     },
     "execution_count": 14,
     "metadata": {},
     "output_type": "execute_result"
    }
   ],
   "source": [
    "new_string"
   ]
  },
  {
   "cell_type": "code",
   "execution_count": 15,
   "metadata": {},
   "outputs": [
    {
     "data": {
      "text/plain": [
       "'abcde'"
      ]
     },
     "execution_count": 15,
     "metadata": {},
     "output_type": "execute_result"
    }
   ],
   "source": [
    "string"
   ]
  }
 ],
 "metadata": {
  "kernelspec": {
   "display_name": "Python 3",
   "language": "python",
   "name": "python3"
  },
  "language_info": {
   "codemirror_mode": {
    "name": "ipython",
    "version": 3
   },
   "file_extension": ".py",
   "mimetype": "text/x-python",
   "name": "python",
   "nbconvert_exporter": "python",
   "pygments_lexer": "ipython3",
   "version": "3.7.1"
  }
 },
 "nbformat": 4,
 "nbformat_minor": 2
}
