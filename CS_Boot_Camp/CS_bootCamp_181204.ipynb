{
 "cells": [
  {
   "cell_type": "markdown",
   "metadata": {},
   "source": [
    "# 문자와 문자열"
   ]
  },
  {
   "cell_type": "markdown",
   "metadata": {},
   "source": [
    "## 아스키코드\n",
    "\n",
    "- ### 용어 정리\n",
    "- 문자 인코딩(character encoding)은 문자 집합을 메모리에 저장하거나 통신하는 데 사용하기 위해 부호화하는 방식\n",
    "    - 대표적인 예 (모스 부호)\n",
    "- 문자 집합(character set)은 문자(character)를 모아 둔 것\n",
    "    - 대표적인 예 (라틴 문자)\n",
    "        - 다양한 언어(영어, 프랑스어, 독일어 등)가 라틴 문자를 사용한다\n",
    "- 0과 1밖에 모르는 컴퓨터에 문자를 인식시키려면 문자를 0과 1로 이루어진 2진수로 나타내야 한다\n",
    "- 문자 하나에 정수 하나를 매핑해 두면 이 정수는 특정 문자를 표현하게 된다\n",
    "    - 이렇게 매핑된 정수를 코드 포인트(code point)라고 한다\n",
    "    - 문자와 문자에 매핑된 코드 포인트(code point)를 모아놓은 집합을 부호화된 문자 집합(Coded Character Set, CCS)라고 한다\n",
    "\n",
    "- #### 아스키(America Standard Code for Information Interchange, 미국정보교환표준부호)는 대표적인 문자 인코딩 방식이다\n",
    "- 비트 일곱 개로 문자를 표현하므로 문자를 총 128개까지 표현할 수 있다\n",
    "    - 코드 포인트 수도 128개 이다\n",
    "    - 0부터 127까지 총 128개 코드 포인트에 128개 문자가 매핑된 것을 확인할 수 있다\n",
    "    - Decimal, Hexadecimal, Binary, Octal은 코드 포인트를 진수별로 변환한 것\n",
    "        - EX) 대문자 'A'는 10진수로 65고 16진수로는 0x41이다\n",
    "        - EX) 소문자 'a'는 10진수로 97고 16진수로는 0x61이다"
   ]
  },
  {
   "cell_type": "code",
   "execution_count": 1,
   "metadata": {},
   "outputs": [],
   "source": [
    "ch = 'A'\n",
    "bch = ch.encode()"
   ]
  },
  {
   "cell_type": "code",
   "execution_count": 2,
   "metadata": {},
   "outputs": [
    {
     "data": {
      "text/plain": [
       "b'A'"
      ]
     },
     "execution_count": 2,
     "metadata": {},
     "output_type": "execute_result"
    }
   ],
   "source": [
    "bch"
   ]
  },
  {
   "cell_type": "code",
   "execution_count": 3,
   "metadata": {},
   "outputs": [
    {
     "data": {
      "text/plain": [
       "65"
      ]
     },
     "execution_count": 3,
     "metadata": {},
     "output_type": "execute_result"
    }
   ],
   "source": [
    "bch[0]"
   ]
  },
  {
   "cell_type": "markdown",
   "metadata": {},
   "source": [
    "- 마지막 출력 값을 보면 대문자 'A'가 정수 65와 매핑이되었음을 알 수 있다"
   ]
  },
  {
   "cell_type": "markdown",
   "metadata": {},
   "source": [
    "- #### 숫자 문자 '0' 확인"
   ]
  },
  {
   "cell_type": "code",
   "execution_count": 4,
   "metadata": {},
   "outputs": [],
   "source": [
    "ch_0 = '0'\n",
    "bch_0 = ch_0.encode()"
   ]
  },
  {
   "cell_type": "code",
   "execution_count": 5,
   "metadata": {},
   "outputs": [
    {
     "data": {
      "text/plain": [
       "b'0'"
      ]
     },
     "execution_count": 5,
     "metadata": {},
     "output_type": "execute_result"
    }
   ],
   "source": [
    "bch_0"
   ]
  },
  {
   "cell_type": "code",
   "execution_count": 6,
   "metadata": {},
   "outputs": [
    {
     "data": {
      "text/plain": [
       "48"
      ]
     },
     "execution_count": 6,
     "metadata": {},
     "output_type": "execute_result"
    }
   ],
   "source": [
    "bch_0[0]"
   ]
  },
  {
   "cell_type": "markdown",
   "metadata": {},
   "source": [
    "- 숫자 문자 '0'은 정수 48과 매핑되었음을 알 수 있다"
   ]
  },
  {
   "cell_type": "markdown",
   "metadata": {},
   "source": [
    "- #### 아스키코드를 보면 정수 0부터 127까지 문자와 매핑되어 있다\n",
    "- 2진수로 0000 0000(0) 부터 0111 1111(127)까지이므로 표현하는 데 최대 7비트가 필요하다\n",
    "- 정수를 나타내는데 쓰는 자료형은 바이트 수에 따라 다양한다, int형이 가장 많이 쓰인다\n",
    "    - int형은 32비트 컴퓨터에서 일반적으로 4바이트(32비트)이다\n",
    "    - 이보다 작은 short형은 2바이트(16비트)dlek\n",
    "- 아스키코드를 표현하는 데는 7비트면 충분하므로 int형이나 short형을 쓰면 메모리가 낭비된다\n",
    "    - 그래서 문자를 표현하기 위해 char형이라는 새로운 정수 자료형을 만들었다\n",
    "    - char형은 문자를 담기 위해 만들어진 자료형이지만 정수 자료형이므로 작은 수를 표현하는 데 사용하기도 한다"
   ]
  },
  {
   "cell_type": "markdown",
   "metadata": {},
   "source": [
    "## 유니코드\n",
    "- 아스키코드를 보면 알파벳만 있고 한글이 없다, 한글은 아스키코드의 범위를 벗어나는데 어떻게 컴퓨터에서 한글을 쓰고 있는 것일까?\n",
    "    - 전 세계적으로 컴퓨터가 보급되고 인터넷을 통해 세계 각국의 사람들이 커뮤니케이션을 하면서 컴퓨터에서 쓸 수 있는 언어가 좀 더 많이 필요해졌다\n",
    "    - 이때 나온 해결 방법이 7비트로 표현한 문자를 16비트로 확장하는 것이었다\n",
    "        - 7비트일 때는 128개 문자를 표현할 수 있지만 16비트로 확장하면 65,536개 문자를 표현할 수 있다\n",
    "    - 여기에 더해 수 하나에 다시 문자 하나를 일대일로 대응한 새로운 표를 만들었는데, 이 테이블이 바로 \"유니코드\"이다\n",
    "        - 아에 처음부터 새로 대응한 것은 아니고 아스키코드인 0x0000부터 0x007E(2진수 0000 0000 0000 0000 ~ 0000 0000 0111 1111 즉, 기존 아스키코드 앞에 0으로 채워진 8비트를 붙인것) 까지는 그대로 유지 이후 숫자 하나에 문자 하나씩을 대응하였다\n",
    "            - 문자에는 한글, 중국어, 일본어 같은 언어 대부분이 포함되었다\n",
    "- 유니코드를 만든 사람은 여기서 한발 더 나아갔다.\n",
    "    - 아스키코드를 만들었을 때 문자를 표현할 숫자가 모자라는 상황을 예측하지 못했듯이, 이번에도 2바이트면 충분할 것 같지만 미래는 알 수 없는 일이기 때문이다\n",
    "    - 언어 대부분이 포함된 첫 번째 테이블을 기본 다국어 평면 (Basic Multilingual Plane, BMP)이라 이름 짓고, 이러한 테이블을 총 열일곱 개나 준비해 두었다(이 평면 중 대부분은 아직 정의되지 않았다)\n",
    "- 한글은 기본 다국어 평면 U+AC00 부터 U+D7AF까지에 자리 잡고 있다\n",
    "    - U+는 유니코드라는 의미고 2바이트 수인 AC00은 한글 '가'를 의미한다\n",
    "- 유니코드 읽는 법\n",
    "    - 유니코드 테이블에서 왼쪽에 위치한 숫자 AC00을 보면 해당하는 열에서 0을 더한 숫자 AC00이 '가'를 의미한다\n",
    "    - AC00에 1을 더한 AC01은 '각'을 의미한다\n",
    "    - 유니코드 테이블을 보고 확인하면 된다"
   ]
  },
  {
   "cell_type": "code",
   "execution_count": 7,
   "metadata": {},
   "outputs": [
    {
     "data": {
      "text/plain": [
       "'가'"
      ]
     },
     "execution_count": 7,
     "metadata": {},
     "output_type": "execute_result"
    }
   ],
   "source": [
    "'\\uAC00'"
   ]
  },
  {
   "cell_type": "code",
   "execution_count": 8,
   "metadata": {},
   "outputs": [
    {
     "data": {
      "text/plain": [
       "'각'"
      ]
     },
     "execution_count": 8,
     "metadata": {},
     "output_type": "execute_result"
    }
   ],
   "source": [
    "'\\uAC01'"
   ]
  }
 ],
 "metadata": {
  "kernelspec": {
   "display_name": "Python 3",
   "language": "python",
   "name": "python3"
  },
  "language_info": {
   "codemirror_mode": {
    "name": "ipython",
    "version": 3
   },
   "file_extension": ".py",
   "mimetype": "text/x-python",
   "name": "python",
   "nbconvert_exporter": "python",
   "pygments_lexer": "ipython3",
   "version": "3.7.1"
  }
 },
 "nbformat": 4,
 "nbformat_minor": 2
}
