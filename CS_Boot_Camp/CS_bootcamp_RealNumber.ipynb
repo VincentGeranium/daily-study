{
 "cells": [
  {
   "cell_type": "markdown",
   "metadata": {},
   "source": [
    "# 실수"
   ]
  },
  {
   "cell_type": "markdown",
   "metadata": {},
   "source": [
    "## 실수 연산의 함정"
   ]
  },
  {
   "cell_type": "markdown",
   "metadata": {},
   "source": [
    "#### 실수 연산 예제"
   ]
  },
  {
   "cell_type": "code",
   "execution_count": 1,
   "metadata": {},
   "outputs": [],
   "source": [
    "a = 0.01"
   ]
  },
  {
   "cell_type": "code",
   "execution_count": 2,
   "metadata": {},
   "outputs": [],
   "source": [
    "result = 0.0"
   ]
  },
  {
   "cell_type": "code",
   "execution_count": 3,
   "metadata": {},
   "outputs": [],
   "source": [
    "for i in range(100):\n",
    "    result += a"
   ]
  },
  {
   "cell_type": "code",
   "execution_count": 8,
   "metadata": {},
   "outputs": [
    {
     "data": {
      "text/plain": [
       "1.0000000000000007"
      ]
     },
     "execution_count": 8,
     "metadata": {},
     "output_type": "execute_result"
    }
   ],
   "source": [
    "result"
   ]
  },
  {
   "cell_type": "code",
   "execution_count": 9,
   "metadata": {},
   "outputs": [
    {
     "data": {
      "text/plain": [
       "1.0"
      ]
     },
     "execution_count": 9,
     "metadata": {},
     "output_type": "execute_result"
    }
   ],
   "source": [
    "0.01*100"
   ]
  },
  {
   "cell_type": "markdown",
   "metadata": {},
   "source": [
    "- 이 코드를 보면 a 가 0.01 이고 이를 100번 더했으니 당연히 1이 나오기를 기대함\n",
    "    - 그러나 결과는 예상과 달리 나온다\n",
    "- 1에 매우 가까운 수라고는 해도 1은 아니다"
   ]
  },
  {
   "cell_type": "markdown",
   "metadata": {},
   "source": [
    "#### 다른 예제"
   ]
  },
  {
   "cell_type": "code",
   "execution_count": 10,
   "metadata": {},
   "outputs": [
    {
     "data": {
      "text/plain": [
       "0.015625"
      ]
     },
     "execution_count": 10,
     "metadata": {},
     "output_type": "execute_result"
    }
   ],
   "source": [
    "a = 0.015625\n",
    "a"
   ]
  },
  {
   "cell_type": "code",
   "execution_count": 11,
   "metadata": {},
   "outputs": [],
   "source": [
    "result = 0.0"
   ]
  },
  {
   "cell_type": "code",
   "execution_count": 12,
   "metadata": {},
   "outputs": [],
   "source": [
    "for i in range(100):\n",
    "    result += a"
   ]
  },
  {
   "cell_type": "code",
   "execution_count": 13,
   "metadata": {},
   "outputs": [
    {
     "data": {
      "text/plain": [
       "1.5625"
      ]
     },
     "execution_count": 13,
     "metadata": {},
     "output_type": "execute_result"
    }
   ],
   "source": [
    "result"
   ]
  },
  {
   "cell_type": "code",
   "execution_count": 14,
   "metadata": {},
   "outputs": [
    {
     "data": {
      "text/plain": [
       "1.5625"
      ]
     },
     "execution_count": 14,
     "metadata": {},
     "output_type": "execute_result"
    }
   ],
   "source": [
    "0.015625 * 100"
   ]
  },
  {
   "cell_type": "markdown",
   "metadata": {},
   "source": [
    "- 이번에는 결과로 정확한 값이 나왔다\n",
    "    - 이 결과를 이해하려면 컴퓨터가 실수를 표현하는 방법인 부동소수점이라는 개념이 이해해야 한다"
   ]
  },
  {
   "cell_type": "markdown",
   "metadata": {},
   "source": [
    "## 부동소수점"
   ]
  },
  {
   "cell_type": "markdown",
   "metadata": {},
   "source": [
    "- 컴퓨터는 IEEE(Institute of Electrical and Elecronics Engineers, 전기전가기술자협회)가 1985년에 제정한 ANSI/IEEE 754-1985라는 표준에 따라 실수(real number)를 표현한다\n",
    "    - 이 표준에 따른 표현법을 부동소수점(floating-point)이라고 부른다\n",
    "    - 부동소수점의 \"부\"는 부표를 말할 때 쓰는 \"부\"로 둥둥 떠다닌다는 의미"
   ]
  },
  {
   "cell_type": "markdown",
   "metadata": {},
   "source": [
    "#### 실수 123.456을 여러 가지 방식으로 표현"
   ]
  },
  {
   "cell_type": "markdown",
   "metadata": {},
   "source": [
    "- 1.23456 * $10^2$\n",
    "- 12.3456 * $10^1$\n",
    "- 1234.56 * $10^-1$\n",
    "- 12345.6 * $10^-2$"
   ]
  },
  {
   "cell_type": "markdown",
   "metadata": {},
   "source": [
    "- 소수점 위치를 보면 앞에 있기도 하고 뒤에 있기도 하다\n",
    "    - 마치 소수점이 떠다니는 것처럼 보인다고 해서 이러한 실수 표현 방식을 부동소수점이라고 부른다"
   ]
  },
  {
   "cell_type": "markdown",
   "metadata": {},
   "source": [
    "## 단정도와 배정도"
   ]
  },
  {
   "cell_type": "markdown",
   "metadata": {},
   "source": [
    "- 부동소수점에는 단정도 부동소수점과 배정도 부동소수점이 있다\n",
    "    - 단정도(single-precision)는 실수를 32비트(4바이트)로 표현하며 부호 1비트, 지수부 8비트, 가수부 23비트로 구성된다\n",
    "    - 배정도(double-precision)는 실수를 64비트(8바이트)로 표현하며 부호 1비트, 지수부 11비트, 가수부 52비트로 구성된다\n",
    "    - 배정도는 실수를 표현하는 데 사용하는 비트 수가 단정도보다 두 배 많은 만큼 정밀도가 높다\n",
    "    - 파이썬은 배정도를 사용한다"
   ]
  },
  {
   "cell_type": "markdown",
   "metadata": {},
   "source": [
    "#### 코드로 확인"
   ]
  },
  {
   "cell_type": "code",
   "execution_count": 15,
   "metadata": {},
   "outputs": [
    {
     "data": {
      "text/plain": [
       "sys.float_info(max=1.7976931348623157e+308, max_exp=1024, max_10_exp=308, min=2.2250738585072014e-308, min_exp=-1021, min_10_exp=-307, dig=15, mant_dig=53, epsilon=2.220446049250313e-16, radix=2, rounds=1)"
      ]
     },
     "execution_count": 15,
     "metadata": {},
     "output_type": "execute_result"
    }
   ],
   "source": [
    "import sys\n",
    "sys.float_info"
   ]
  },
  {
   "cell_type": "markdown",
   "metadata": {},
   "source": [
    "- sys 모듈을 import한 다음 float_info를 보면 최댓값, 최솟값, 정밀도 등을 확인 할 수 있다"
   ]
  },
  {
   "cell_type": "markdown",
   "metadata": {},
   "source": [
    "#### 배정도 부동소수점으로 표현할 수 있는 가장 큰 수"
   ]
  },
  {
   "cell_type": "code",
   "execution_count": 16,
   "metadata": {},
   "outputs": [
    {
     "data": {
      "text/plain": [
       "1.7976931348623157e+308"
      ]
     },
     "execution_count": 16,
     "metadata": {},
     "output_type": "execute_result"
    }
   ],
   "source": [
    "sys.float_info.max"
   ]
  },
  {
   "cell_type": "markdown",
   "metadata": {},
   "source": [
    "- 여기서 e는 지수를 뜻하는 exponent의 줄임말\n",
    "    - 배정도 부동소수점으로 표현할 수 있는 가장 큰 수를 다르게 표현 하면 1.7976931348623157*$10^{308}$"
   ]
  },
  {
   "cell_type": "markdown",
   "metadata": {},
   "source": [
    "#### 배정도 부동소수점으로 표현할 수 있는 가장 작은 수"
   ]
  },
  {
   "cell_type": "code",
   "execution_count": 17,
   "metadata": {},
   "outputs": [
    {
     "data": {
      "text/plain": [
       "2.2250738585072014e-308"
      ]
     },
     "execution_count": 17,
     "metadata": {},
     "output_type": "execute_result"
    }
   ],
   "source": [
    "sys.float_info.min"
   ]
  },
  {
   "cell_type": "markdown",
   "metadata": {},
   "source": [
    "- 10의 -308승이 얼마나 작은지 상상조차 할 수 없다\n",
    "    - 그만큼 8바이트 배정도 부동소수점을 사용하면 표현 범위가 엄처나게 넓어진다"
   ]
  },
  {
   "cell_type": "markdown",
   "metadata": {},
   "source": [
    "## 1바이트 실수 자료형 설계하기"
   ]
  },
  {
   "cell_type": "markdown",
   "metadata": {},
   "source": [
    "- 실수 표현 방식을 쉽게 이해할 수 있도록 1바이트 실수 자료형을 직접 만들어 보자"
   ]
  },
  {
   "cell_type": "markdown",
   "metadata": {},
   "source": [
    "#### 실수 자료형을 표현한 수식\n",
    "- $± 1.man * 2^{exp-bias}$\n",
    "    - 1.man 은 가수(mantissa/fraction), 2는 밑수, exp-bias는 지수(exponent)를 의미"
   ]
  },
  {
   "cell_type": "markdown",
   "metadata": {},
   "source": [
    "### 1. 10진수 실수를 2진수 실수로 바꾸기"
   ]
  },
  {
   "cell_type": "markdown",
   "metadata": {},
   "source": [
    "- 10진수 실수를 2진수로 바꾸는 방법은 정수를 바꿨던 방법과 크게 다르지 않다\n",
    "- 여기서 $2^{-1}$은 음수가 아니라 우리가 흔히 분수라고 부르는 1/2이다, $2^{-2}$는 1/4이다"
   ]
  },
  {
   "cell_type": "markdown",
   "metadata": {},
   "source": [
    "#### 예제\n",
    "- 다음 수식처럼 쪼갠 다음 변환을 하면 111.11이 된다\n",
    "\n",
    "- 7.75 = 4 + 2 + 1 + 0.5 + 0.25\n",
    "- = $2^2 + 2^1 + 2^0 + 2^{-1} + 2^{-2}$\n",
    "- = 111.11\n"
   ]
  },
  {
   "cell_type": "markdown",
   "metadata": {},
   "source": [
    "### 2. 정규화"
   ]
  },
  {
   "cell_type": "markdown",
   "metadata": {},
   "source": [
    "- 정규화(normalization)란 소수점 왼쪽에 위치한 가수 부분을 밑수보다 작은 자연수가 되도록 만드는 것\n",
    "    - 예를 들어 10진수 567.89를 정규화하면 소수점 왼쪽에 위치한 가수 부분이 밑수 10보다 작은 자연수 5가 되어 5.6789 * $10^2$이 된다\n",
    "    \n",
    "- 2진수의 밑수는 2이므로 2보다 작은 자연수는 1밖에 없다\n",
    "    - 따라서 소수점 왼쪽의 가수부분은 항상 1이 된다\n",
    "    - 예를 들어 111.11을 정규화하면 111.11 = 1.111 * $2^2$"
   ]
  },
  {
   "cell_type": "markdown",
   "metadata": {},
   "source": [
    "### 3. 메모리 구조\n",
    "- 정규화된 부동소수점 수 1.1111 * $2^2$을 앞의 수식과 비교해 보면 man은 1111이고 exp-bias는 2이다\n",
    "- 이제 1바이트의 메모리 구조를 정하고 man과 exp값만 저장하면 설계가 끝난다\n",
    "- 이때 지수부와 가수부에 할당하는 비트 수에 따라 표현 범위와 정밀도가 결정된다"
   ]
  },
  {
   "cell_type": "markdown",
   "metadata": {},
   "source": [
    "#### 1바이트 부동소수점 구성\n",
    "- 0 0000 000\n",
    "- 부호 지수부 가수부"
   ]
  },
  {
   "cell_type": "markdown",
   "metadata": {},
   "source": [
    "- 실수 역시 정수와 마찬가지로 첫 번째 비트는 부호를 나타냄\n",
    "    - 0이면 양수고 1이면 음수\n",
    "    - 가운데 4비트는 지수부로 exp값 저장\n",
    "    - 맨 뒤 3비트는 가수부로 man값 저장\n",
    "    - bias 는 지수의 부호를 결정하는 데 쓰인다\n",
    "- 부동소수점의 지수부에는 부호 비트가 없으며 0 ~ 15의 양수만 나타낼 수 있다\n",
    "    - 하지만 음수 지수도 필요하다, 음수를 사용하려면 bias를 7로 두고 지수부(exp)에서 bias를 뺀 값을 실제 지수로 사용\n",
    "        - bias는 $2^{n-1}$식에 지수부의 비트 수인 4를 대입하면 구할 수 있다"
   ]
  },
  {
   "cell_type": "markdown",
   "metadata": {},
   "source": [
    "- 1.1111 * $2^2$에서 실제 지수는 2이다\n",
    "- 실제 지수가 2라는 의미는 exp - bias가 2라는 것이다\n",
    "- 지수부와 비트 수 4를 식($2^{n-1}$-1)에 대입해 얻은 bias 값이 7이므로 실제로 부동소수점의 지수부에 나타나는 값 exp는 9가 된다"
   ]
  },
  {
   "cell_type": "markdown",
   "metadata": {},
   "source": [
    "#### 1바이트 구성"
   ]
  },
  {
   "cell_type": "markdown",
   "metadata": {},
   "source": [
    "- 부호 -> 0\n",
    "- 지수부 -> 1001\n",
    "- 가수부 -> 1111"
   ]
  },
  {
   "cell_type": "markdown",
   "metadata": {},
   "source": [
    "- 가수부는 3비트만 할당되는데 위에서 확인해보면 가수부 값이 1111이다\n",
    "    - 이런 경우에는 뒷자리 1을 생략한다 즉, 가수부는 111이 된다\n",
    "#### 0 1001 111 = 0100 1111 = 0x4f\n",
    "- 실수 7.75는 1바이트 부동소수점으로 나타내면 0x4f이다"
   ]
  },
  {
   "cell_type": "markdown",
   "metadata": {},
   "source": [
    "### 4. 1바이트 부동소수점의 표현 범위"
   ]
  },
  {
   "cell_type": "markdown",
   "metadata": {},
   "source": [
    "- 지금까지 설계한 1바이트 부동소수점으로 표현할 수 있는 가장 작은 수와 가장 큰 수는 다음과 같다"
   ]
  },
  {
   "cell_type": "markdown",
   "metadata": {},
   "source": [
    "- 표현할 수 있는 가장 작은 수(지수부가 0001일 때)\n",
    "    - 1.000 * $2^{-6}$ = 0.0152625\n",
    "- 표현할 수 있는 가장 큰 수(지수부가 1110일 떄)\n",
    "    - 1.111 * $2^7$ = 240\n",
    "- 1바이트지만 굉장히 작은 수부터 큰 수까지 폭넓게 표현할 수 있다"
   ]
  },
  {
   "cell_type": "markdown",
   "metadata": {},
   "source": [
    "#### 단, 지수부 비트가 모두 0 일 때($2^{-7}$)와 모두 1일 때($2^8$)는 0.0, 정규화 불가능, 무한대, NaN(Not a Number, 숫자가 아님) 같은 특별한 상황을 나타내므로 제외"
   ]
  },
  {
   "cell_type": "markdown",
   "metadata": {},
   "source": [
    "### 5. 1바이트 부동소수점의 정밀도\n",
    "- 1바이트 부동소수점 설계를 마쳤는데 석연치 않은 점이 하나 있다\n",
    "    - 변환 과정에서 가수부를 담을 공간이 부족해 가수부에 들어갈 데이터인 1111에서 맨 뒤에 있는 1을 누락한것\n",
    "    - 이렇게 되면 0x4f는 7.75라는 실수를 완벽하게 표현하지 못한다\n",
    "- 1.111 * $2^2$ = 1 * $2^2$ + 1 * $2^1$ + 1 * $2^0$ + 1 * $2^{-1}$ = 7.5\n",
    "    - 0.25 만큼이나 차이가 나므로 정밀도가 그만큼 떨어진다"
   ]
  },
  {
   "cell_type": "markdown",
   "metadata": {},
   "source": [
    "## 정밀도에 대한 고찰"
   ]
  },
  {
   "cell_type": "markdown",
   "metadata": {},
   "source": [
    "### 1. 엡실론\n",
    "- 실수 자료형에서 엡실론(epsilon)이란 1.0과 그 다음으로 표현 가능한 수(respresentable float)사이의 차이를 말합니다"
   ]
  },
  {
   "cell_type": "markdown",
   "metadata": {},
   "source": [
    "#### 코드로 확인"
   ]
  },
  {
   "cell_type": "code",
   "execution_count": 19,
   "metadata": {},
   "outputs": [
    {
     "data": {
      "text/plain": [
       "2.220446049250313e-16"
      ]
     },
     "execution_count": 19,
     "metadata": {},
     "output_type": "execute_result"
    }
   ],
   "source": [
    "sys.float_info.epsilon"
   ]
  },
  {
   "cell_type": "markdown",
   "metadata": {},
   "source": [
    "- 파이썬이 사용하는 배정도(double)의 가수부가 52비트\n",
    "    - 1.0을 배정도에 맞춰 표현하면\n",
    "    - 1.000......0000(0:52개) * $2^0$\n",
    "- 배정도에서 1.0 다음으로 표현할 수 있는 수(representable float)은 다음과 같다\n",
    "    - 1.000.....0001(0:51개, 1:마지막 비트) * $2^0$\n",
    "- 따라서 두 수의 차이는 다음과 같다\n",
    "    - 0.0000.....0001(0:51개, 1: 마지막 비트) * $2^0$\n",
    "- 이 수를 10진수로 바꾸면 엡실론 값이 나온다"
   ]
  },
  {
   "cell_type": "markdown",
   "metadata": {},
   "source": [
    "### 2. 엡실론과 정밀도\n",
    "- 엡실론이 어떻게 쓰이는지\n",
    "    - 어떤 실수가 있을 때 엡실론을 이용하면 그 실수 다음에 표현할 수 있는 수를 알아낼 수 있다\n",
    "    - 예를 들어 배정도 실수 9.25를 부동소수점 방식으로 표현하면 1.00101 * $2^3$이다\n",
    "        - 이 식에서 지수 부분만 뗴어 내 엡실론을 곱하면 이 실수와 다음 표현 가능한 수 사이의 차이를 구할 수 있다"
   ]
  },
  {
   "cell_type": "markdown",
   "metadata": {},
   "source": [
    "#### 코드로 확인"
   ]
  },
  {
   "cell_type": "code",
   "execution_count": 26,
   "metadata": {},
   "outputs": [],
   "source": [
    "ep = sys.float_info.epsilon"
   ]
  },
  {
   "cell_type": "code",
   "execution_count": 27,
   "metadata": {},
   "outputs": [],
   "source": [
    "a = 9.25"
   ]
  },
  {
   "cell_type": "code",
   "execution_count": 28,
   "metadata": {},
   "outputs": [],
   "source": [
    "diff = (2**3)*ep #1"
   ]
  },
  {
   "cell_type": "code",
   "execution_count": 29,
   "metadata": {},
   "outputs": [
    {
     "data": {
      "text/plain": [
       "1.7763568394002505e-15"
      ]
     },
     "execution_count": 29,
     "metadata": {},
     "output_type": "execute_result"
    }
   ],
   "source": [
    "diff"
   ]
  },
  {
   "cell_type": "code",
   "execution_count": 30,
   "metadata": {},
   "outputs": [],
   "source": [
    "b = a +diff #2"
   ]
  },
  {
   "cell_type": "code",
   "execution_count": 31,
   "metadata": {},
   "outputs": [
    {
     "data": {
      "text/plain": [
       "9.250000000000002"
      ]
     },
     "execution_count": 31,
     "metadata": {},
     "output_type": "execute_result"
    }
   ],
   "source": [
    "b"
   ]
  },
  {
   "cell_type": "markdown",
   "metadata": {},
   "source": [
    "- #1에서 diff는 지수 부분인 $2^3$에 엡실론을 곱한 값으로 9.25와 그 다음 표현 가능한 수 사이의 차이\n",
    "- #2에서 b는 a에 diff를 더했으므로 9.25 다음에 표현 가능한 수를 나타낸다"
   ]
  },
  {
   "cell_type": "markdown",
   "metadata": {},
   "source": [
    "#### 9.25에 diff보다 작은 값을 더하면 어떤 일이 일어날까?"
   ]
  },
  {
   "cell_type": "code",
   "execution_count": 33,
   "metadata": {},
   "outputs": [
    {
     "data": {
      "text/plain": [
       "9.25"
      ]
     },
     "execution_count": 33,
     "metadata": {},
     "output_type": "execute_result"
    }
   ],
   "source": [
    "a"
   ]
  },
  {
   "cell_type": "code",
   "execution_count": 34,
   "metadata": {},
   "outputs": [],
   "source": [
    "half_diff = diff/2 #1"
   ]
  },
  {
   "cell_type": "code",
   "execution_count": 35,
   "metadata": {},
   "outputs": [
    {
     "data": {
      "text/plain": [
       "8.881784197001252e-16"
      ]
     },
     "execution_count": 35,
     "metadata": {},
     "output_type": "execute_result"
    }
   ],
   "source": [
    "half_diff #2"
   ]
  },
  {
   "cell_type": "code",
   "execution_count": 36,
   "metadata": {},
   "outputs": [],
   "source": [
    "c = a + half_diff #3"
   ]
  },
  {
   "cell_type": "code",
   "execution_count": 37,
   "metadata": {},
   "outputs": [
    {
     "data": {
      "text/plain": [
       "True"
      ]
     },
     "execution_count": 37,
     "metadata": {},
     "output_type": "execute_result"
    }
   ],
   "source": [
    "a == c #4"
   ]
  },
  {
   "cell_type": "markdown",
   "metadata": {},
   "source": [
    "- half_diff는 diff 값의 반절(#1).\n",
    "- half_diff 역시 실수를 나눠서 얻은 값이니 실수(#2)\n",
    "- a와 half_diff를 더해 c에 대입(#3)\n",
    "- 실수와 실수를 더했으므로 c는 반드시 a보다 커야 한다\n",
    "    - 그런데 a값과 c값이 같다고 나온다(#4)\n",
    "        - a값과 c값이 같은 이유는 c에 더한 half_diff 값이 diff 보다 작기 때문\n",
    "        - diff는 9.25와 그다음 표현 가능한 수 사이의 차이이므로 9.25에 diff보다 작은 값을 더한 수를 부동소수점 방식에서는 표현할 수 없다\n",
    "        - 달리 표현하면 정밀도가 떨어진다는 말이다"
   ]
  },
  {
   "cell_type": "markdown",
   "metadata": {},
   "source": [
    "#### 부동소수점의 정밀도에 관한 예 2"
   ]
  },
  {
   "cell_type": "markdown",
   "metadata": {},
   "source": [
    "- a는 10000....0000(0:52개) * $2^{53}$이다\n",
    "    - a와 a 다음에 표현 가능한 수 사이의 차이는 $2^{53}$에 엡실론을 곱해 구할 수 있으며 그 값은 2.0이다\n",
    "        - 그러므로 a에 1.0을 더한 b는 원래 의도한 값을 표현하지 못하고 a와 같은 값을 갖게 됩니다\n",
    "        - 1.0의 차이조차 표현할 수 없는 정밀도입니다."
   ]
  },
  {
   "cell_type": "markdown",
   "metadata": {},
   "source": [
    "#### 코드"
   ]
  },
  {
   "cell_type": "code",
   "execution_count": 38,
   "metadata": {},
   "outputs": [],
   "source": [
    "a = (2.0)**53"
   ]
  },
  {
   "cell_type": "code",
   "execution_count": 39,
   "metadata": {},
   "outputs": [
    {
     "data": {
      "text/plain": [
       "9007199254740992.0"
      ]
     },
     "execution_count": 39,
     "metadata": {},
     "output_type": "execute_result"
    }
   ],
   "source": [
    "a"
   ]
  },
  {
   "cell_type": "code",
   "execution_count": 42,
   "metadata": {},
   "outputs": [],
   "source": [
    "b = a + 1.0"
   ]
  },
  {
   "cell_type": "code",
   "execution_count": 44,
   "metadata": {},
   "outputs": [
    {
     "data": {
      "text/plain": [
       "True"
      ]
     },
     "execution_count": 44,
     "metadata": {},
     "output_type": "execute_result"
    }
   ],
   "source": [
    "a == b"
   ]
  },
  {
   "cell_type": "markdown",
   "metadata": {},
   "source": [
    "## 마무리"
   ]
  },
  {
   "cell_type": "markdown",
   "metadata": {},
   "source": [
    "- 부동소수점은 지수부에 따라 아주 작은 수와 아주 큰 수를 표현할 수 있지만, 어떤 상황에서는 16과 17 같은 큰 단위의 정수조차 제대로 표현할 수 없을 때도 있다\n",
    "- \"표현 범위는 넓지만 정밀도는 낮다\""
   ]
  }
 ],
 "metadata": {
  "kernelspec": {
   "display_name": "Python 3",
   "language": "python",
   "name": "python3"
  },
  "language_info": {
   "codemirror_mode": {
    "name": "ipython",
    "version": 3
   },
   "file_extension": ".py",
   "mimetype": "text/x-python",
   "name": "python",
   "nbconvert_exporter": "python",
   "pygments_lexer": "ipython3",
   "version": "3.7.1"
  }
 },
 "nbformat": 4,
 "nbformat_minor": 2
}
