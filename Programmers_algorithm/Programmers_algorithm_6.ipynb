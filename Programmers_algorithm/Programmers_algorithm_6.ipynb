{
 "cells": [
  {
   "cell_type": "markdown",
   "metadata": {},
   "source": [
    "# 문자열 다루기 기본"
   ]
  },
  {
   "cell_type": "markdown",
   "metadata": {},
   "source": [
    "#### 문제설명\n",
    "```\n",
    "문자열 s의 길이가 4혹은 6이고, 숫자로만 구성되있는지 확인해주는 함수, answer을 완성.\n",
    "예를들어 s가 a234이면 False를 리턴하고 1234라면 True를 리턴하면 됨.\n",
    "```"
   ]
  },
  {
   "cell_type": "markdown",
   "metadata": {},
   "source": [
    "- 제한 사항\n",
    "    - s는 길이 1 이상, 길이 8 이하인 문자열."
   ]
  },
  {
   "cell_type": "code",
   "execution_count": 1,
   "metadata": {},
   "outputs": [],
   "source": [
    "def answer(s):\n",
    "    if len(s) == 4 or len(s) == 6:\n",
    "        try:\n",
    "            int(s)\n",
    "        except ValueError:\n",
    "            result = False\n",
    "        else:\n",
    "            result = True\n",
    "    else:\n",
    "        result = False\n",
    "    return result"
   ]
  },
  {
   "cell_type": "code",
   "execution_count": 7,
   "metadata": {},
   "outputs": [
    {
     "name": "stdout",
     "output_type": "stream",
     "text": [
      "False\n",
      "True\n",
      "False\n"
     ]
    }
   ],
   "source": [
    "# 아래는 테스트로 출력해 보기 위한 코드입니다.\n",
    "print(answer(\"a234\") )\n",
    "print(answer(\"1234\") )\n",
    "print(answer(\"12345\"))"
   ]
  },
  {
   "cell_type": "code",
   "execution_count": 3,
   "metadata": {},
   "outputs": [],
   "source": [
    "def answer(s):\n",
    "    if len(s)==4 or len(s)==6:\n",
    "        try:\n",
    "            int(s)\n",
    "        except ValueError:\n",
    "            return False\n",
    "        else:\n",
    "            return True\n",
    "    else:\n",
    "        return False"
   ]
  },
  {
   "cell_type": "code",
   "execution_count": 10,
   "metadata": {},
   "outputs": [
    {
     "name": "stdout",
     "output_type": "stream",
     "text": [
      "False\n",
      "True\n",
      "None\n"
     ]
    }
   ],
   "source": [
    "# 아래는 테스트로 출력해 보기 위한 코드입니다.\n",
    "print(answer(\"a234\") )\n",
    "print(answer(\"1234\") )\n",
    "print(answer(\"12345\"))"
   ]
  },
  {
   "cell_type": "code",
   "execution_count": 11,
   "metadata": {},
   "outputs": [],
   "source": [
    "#if else 구문 미사용\n",
    "def answer(s):\n",
    "    if len(s)==4 or len(s)==6:\n",
    "        try:\n",
    "            int(s)\n",
    "        except ValueError:\n",
    "            return False\n",
    "        else:\n",
    "            return True"
   ]
  },
  {
   "cell_type": "code",
   "execution_count": 12,
   "metadata": {},
   "outputs": [
    {
     "name": "stdout",
     "output_type": "stream",
     "text": [
      "False\n",
      "True\n",
      "None\n"
     ]
    }
   ],
   "source": [
    "# 아래는 테스트로 출력해 보기 위한 코드입니다.\n",
    "print(answer(\"a234\") )\n",
    "print(answer(\"1234\") )\n",
    "print(answer(\"12345\"))"
   ]
  },
  {
   "cell_type": "markdown",
   "metadata": {},
   "source": [
    "#### 학습"
   ]
  },
  {
   "cell_type": "markdown",
   "metadata": {},
   "source": [
    "- 예외처리\n",
    "    ```\n",
    "    try:\n",
    "        실행 구문\n",
    "    except(예외 처리 할 Error 명):\n",
    "        실행 구문\n",
    "    ```\n",
    "- if else 구문 사용 이유\n",
    "    ```\n",
    "    if 블록에 else문을 안쓰면 문자열 s가 if문 조건과 맞지 않아 None값을 출력한다\n",
    "    ```"
   ]
  },
  {
   "cell_type": "code",
   "execution_count": null,
   "metadata": {},
   "outputs": [],
   "source": []
  }
 ],
 "metadata": {
  "kernelspec": {
   "display_name": "Python 3",
   "language": "python",
   "name": "python3"
  },
  "language_info": {
   "codemirror_mode": {
    "name": "ipython",
    "version": 3
   },
   "file_extension": ".py",
   "mimetype": "text/x-python",
   "name": "python",
   "nbconvert_exporter": "python",
   "pygments_lexer": "ipython3",
   "version": "3.7.0"
  }
 },
 "nbformat": 4,
 "nbformat_minor": 2
}
